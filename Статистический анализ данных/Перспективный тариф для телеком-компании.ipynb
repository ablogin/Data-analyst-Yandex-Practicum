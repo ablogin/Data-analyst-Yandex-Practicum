{
 "cells": [
  {
   "cell_type": "markdown",
   "metadata": {},
   "source": [
    "# Определение перспективного тарифа для телеком-компании\n",
    "\n",
    "Вы аналитик — федерального оператора сотовой связи. Клиентам предлагают два тарифных плана: «Смарт» и «Ультра». Чтобы скорректировать рекламный бюджет, коммерческий департамент хочет понять, какой тариф приносит больше денег.\n",
    "\n",
    "Вам предстоит сделать предварительный анализ тарифов на небольшой выборке клиентов. В вашем распоряжении данные 500 пользователей компании: кто они, откуда, каким тарифом пользуются, сколько звонков и сообщений каждый отправил за 2018 год. Нужно проанализировать поведение клиентов и сделать вывод — какой тариф лучше."
   ]
  },
  {
   "cell_type": "markdown",
   "metadata": {},
   "source": [
    "## Изучение данных из файла и их предобработка"
   ]
  },
  {
   "cell_type": "code",
   "execution_count": 1,
   "metadata": {},
   "outputs": [],
   "source": [
    "import pandas as pd\n",
    "import matplotlib.pyplot as plt\n",
    "import math\n",
    "import numpy as np\n",
    "from scipy import stats as st\n",
    "import copy\n",
    "\n",
    "calls = pd.read_csv('/datasets/calls.csv')\n",
    "internet = pd.read_csv('/datasets/internet.csv', index_col=0)\n",
    "messages = pd.read_csv('/datasets/messages.csv')\n",
    "tariffs = pd.read_csv('/datasets/tariffs.csv')\n",
    "users = pd.read_csv('/datasets/users.csv')"
   ]
  },
  {
   "cell_type": "markdown",
   "metadata": {},
   "source": [
    "### Calls\n",
    "#### Изучение данных\n",
    "\n",
    "    Таблица calls (информация о звонках):\n",
    "    id — уникальный номер звонка\n",
    "    call_date — дата звонка\n",
    "    duration — длительность звонка в минутах\n",
    "    user_id — идентификатор пользователя, сделавшего звонок"
   ]
  },
  {
   "cell_type": "code",
   "execution_count": 2,
   "metadata": {},
   "outputs": [
    {
     "name": "stdout",
     "output_type": "stream",
     "text": [
      "\n",
      "Информация о таблице:\n",
      "      \n",
      "<class 'pandas.core.frame.DataFrame'>\n",
      "RangeIndex: 202607 entries, 0 to 202606\n",
      "Data columns (total 4 columns):\n",
      " #   Column     Non-Null Count   Dtype  \n",
      "---  ------     --------------   -----  \n",
      " 0   id         202607 non-null  object \n",
      " 1   call_date  202607 non-null  object \n",
      " 2   duration   202607 non-null  float64\n",
      " 3   user_id    202607 non-null  int64  \n",
      "dtypes: float64(1), int64(1), object(2)\n",
      "memory usage: 6.2+ MB\n"
     ]
    },
    {
     "data": {
      "text/plain": [
       "None"
      ]
     },
     "metadata": {},
     "output_type": "display_data"
    },
    {
     "name": "stdout",
     "output_type": "stream",
     "text": [
      "\n",
      "Обзор таблицы:\n",
      "      \n"
     ]
    },
    {
     "data": {
      "text/html": [
       "<div>\n",
       "<style scoped>\n",
       "    .dataframe tbody tr th:only-of-type {\n",
       "        vertical-align: middle;\n",
       "    }\n",
       "\n",
       "    .dataframe tbody tr th {\n",
       "        vertical-align: top;\n",
       "    }\n",
       "\n",
       "    .dataframe thead th {\n",
       "        text-align: right;\n",
       "    }\n",
       "</style>\n",
       "<table border=\"1\" class=\"dataframe\">\n",
       "  <thead>\n",
       "    <tr style=\"text-align: right;\">\n",
       "      <th></th>\n",
       "      <th>id</th>\n",
       "      <th>call_date</th>\n",
       "      <th>duration</th>\n",
       "      <th>user_id</th>\n",
       "    </tr>\n",
       "  </thead>\n",
       "  <tbody>\n",
       "    <tr>\n",
       "      <th>0</th>\n",
       "      <td>1000_0</td>\n",
       "      <td>2018-07-25</td>\n",
       "      <td>0.00</td>\n",
       "      <td>1000</td>\n",
       "    </tr>\n",
       "    <tr>\n",
       "      <th>1</th>\n",
       "      <td>1000_1</td>\n",
       "      <td>2018-08-17</td>\n",
       "      <td>0.00</td>\n",
       "      <td>1000</td>\n",
       "    </tr>\n",
       "    <tr>\n",
       "      <th>2</th>\n",
       "      <td>1000_2</td>\n",
       "      <td>2018-06-11</td>\n",
       "      <td>2.85</td>\n",
       "      <td>1000</td>\n",
       "    </tr>\n",
       "    <tr>\n",
       "      <th>3</th>\n",
       "      <td>1000_3</td>\n",
       "      <td>2018-09-21</td>\n",
       "      <td>13.80</td>\n",
       "      <td>1000</td>\n",
       "    </tr>\n",
       "    <tr>\n",
       "      <th>4</th>\n",
       "      <td>1000_4</td>\n",
       "      <td>2018-12-15</td>\n",
       "      <td>5.18</td>\n",
       "      <td>1000</td>\n",
       "    </tr>\n",
       "    <tr>\n",
       "      <th>5</th>\n",
       "      <td>1000_5</td>\n",
       "      <td>2018-11-02</td>\n",
       "      <td>0.00</td>\n",
       "      <td>1000</td>\n",
       "    </tr>\n",
       "    <tr>\n",
       "      <th>6</th>\n",
       "      <td>1000_6</td>\n",
       "      <td>2018-10-18</td>\n",
       "      <td>0.00</td>\n",
       "      <td>1000</td>\n",
       "    </tr>\n",
       "    <tr>\n",
       "      <th>7</th>\n",
       "      <td>1000_7</td>\n",
       "      <td>2018-08-22</td>\n",
       "      <td>18.31</td>\n",
       "      <td>1000</td>\n",
       "    </tr>\n",
       "    <tr>\n",
       "      <th>8</th>\n",
       "      <td>1000_8</td>\n",
       "      <td>2018-09-15</td>\n",
       "      <td>18.44</td>\n",
       "      <td>1000</td>\n",
       "    </tr>\n",
       "    <tr>\n",
       "      <th>9</th>\n",
       "      <td>1000_9</td>\n",
       "      <td>2018-08-15</td>\n",
       "      <td>0.00</td>\n",
       "      <td>1000</td>\n",
       "    </tr>\n",
       "    <tr>\n",
       "      <th>10</th>\n",
       "      <td>1000_10</td>\n",
       "      <td>2018-08-22</td>\n",
       "      <td>5.03</td>\n",
       "      <td>1000</td>\n",
       "    </tr>\n",
       "    <tr>\n",
       "      <th>11</th>\n",
       "      <td>1000_11</td>\n",
       "      <td>2018-05-28</td>\n",
       "      <td>18.82</td>\n",
       "      <td>1000</td>\n",
       "    </tr>\n",
       "    <tr>\n",
       "      <th>12</th>\n",
       "      <td>1000_12</td>\n",
       "      <td>2018-07-05</td>\n",
       "      <td>2.02</td>\n",
       "      <td>1000</td>\n",
       "    </tr>\n",
       "    <tr>\n",
       "      <th>13</th>\n",
       "      <td>1000_13</td>\n",
       "      <td>2018-09-29</td>\n",
       "      <td>7.15</td>\n",
       "      <td>1000</td>\n",
       "    </tr>\n",
       "    <tr>\n",
       "      <th>14</th>\n",
       "      <td>1000_14</td>\n",
       "      <td>2018-12-11</td>\n",
       "      <td>9.13</td>\n",
       "      <td>1000</td>\n",
       "    </tr>\n",
       "  </tbody>\n",
       "</table>\n",
       "</div>"
      ],
      "text/plain": [
       "         id   call_date  duration  user_id\n",
       "0    1000_0  2018-07-25      0.00     1000\n",
       "1    1000_1  2018-08-17      0.00     1000\n",
       "2    1000_2  2018-06-11      2.85     1000\n",
       "3    1000_3  2018-09-21     13.80     1000\n",
       "4    1000_4  2018-12-15      5.18     1000\n",
       "5    1000_5  2018-11-02      0.00     1000\n",
       "6    1000_6  2018-10-18      0.00     1000\n",
       "7    1000_7  2018-08-22     18.31     1000\n",
       "8    1000_8  2018-09-15     18.44     1000\n",
       "9    1000_9  2018-08-15      0.00     1000\n",
       "10  1000_10  2018-08-22      5.03     1000\n",
       "11  1000_11  2018-05-28     18.82     1000\n",
       "12  1000_12  2018-07-05      2.02     1000\n",
       "13  1000_13  2018-09-29      7.15     1000\n",
       "14  1000_14  2018-12-11      9.13     1000"
      ]
     },
     "metadata": {},
     "output_type": "display_data"
    },
    {
     "name": "stdout",
     "output_type": "stream",
     "text": [
      "Количество дубликатов: 0\n"
     ]
    }
   ],
   "source": [
    "print('''\n",
    "Информация о таблице:\n",
    "      ''')\n",
    "display(calls.info())\n",
    "print('''\n",
    "Обзор таблицы:\n",
    "      ''')\n",
    "display(calls.head(15))\n",
    "print('Количество дубликатов:', calls.duplicated().sum())"
   ]
  },
  {
   "cell_type": "markdown",
   "metadata": {},
   "source": [
    "Выводы: \n",
    "- Пропусков нет\n",
    "- Дубликатов нет\n",
    "- Поменять тип данных call_date на datetime\n",
    "- Добавить столбец с месяцем\n",
    "- Округлить duration до целого в большую сторону в соответствии с условиями тарифа\n",
    "- Нули в duration не трогаем, тк это пропущенные звонки"
   ]
  },
  {
   "cell_type": "markdown",
   "metadata": {},
   "source": [
    "#### Предобработка данных"
   ]
  },
  {
   "cell_type": "code",
   "execution_count": 3,
   "metadata": {},
   "outputs": [
    {
     "data": {
      "text/html": [
       "<div>\n",
       "<style scoped>\n",
       "    .dataframe tbody tr th:only-of-type {\n",
       "        vertical-align: middle;\n",
       "    }\n",
       "\n",
       "    .dataframe tbody tr th {\n",
       "        vertical-align: top;\n",
       "    }\n",
       "\n",
       "    .dataframe thead th {\n",
       "        text-align: right;\n",
       "    }\n",
       "</style>\n",
       "<table border=\"1\" class=\"dataframe\">\n",
       "  <thead>\n",
       "    <tr style=\"text-align: right;\">\n",
       "      <th></th>\n",
       "      <th>id</th>\n",
       "      <th>call_date</th>\n",
       "      <th>duration</th>\n",
       "      <th>user_id</th>\n",
       "      <th>month</th>\n",
       "    </tr>\n",
       "  </thead>\n",
       "  <tbody>\n",
       "    <tr>\n",
       "      <th>0</th>\n",
       "      <td>1000_0</td>\n",
       "      <td>2018-07-25</td>\n",
       "      <td>0</td>\n",
       "      <td>1000</td>\n",
       "      <td>7</td>\n",
       "    </tr>\n",
       "    <tr>\n",
       "      <th>1</th>\n",
       "      <td>1000_1</td>\n",
       "      <td>2018-08-17</td>\n",
       "      <td>0</td>\n",
       "      <td>1000</td>\n",
       "      <td>8</td>\n",
       "    </tr>\n",
       "    <tr>\n",
       "      <th>2</th>\n",
       "      <td>1000_2</td>\n",
       "      <td>2018-06-11</td>\n",
       "      <td>3</td>\n",
       "      <td>1000</td>\n",
       "      <td>6</td>\n",
       "    </tr>\n",
       "    <tr>\n",
       "      <th>3</th>\n",
       "      <td>1000_3</td>\n",
       "      <td>2018-09-21</td>\n",
       "      <td>14</td>\n",
       "      <td>1000</td>\n",
       "      <td>9</td>\n",
       "    </tr>\n",
       "    <tr>\n",
       "      <th>4</th>\n",
       "      <td>1000_4</td>\n",
       "      <td>2018-12-15</td>\n",
       "      <td>6</td>\n",
       "      <td>1000</td>\n",
       "      <td>12</td>\n",
       "    </tr>\n",
       "    <tr>\n",
       "      <th>5</th>\n",
       "      <td>1000_5</td>\n",
       "      <td>2018-11-02</td>\n",
       "      <td>0</td>\n",
       "      <td>1000</td>\n",
       "      <td>11</td>\n",
       "    </tr>\n",
       "    <tr>\n",
       "      <th>6</th>\n",
       "      <td>1000_6</td>\n",
       "      <td>2018-10-18</td>\n",
       "      <td>0</td>\n",
       "      <td>1000</td>\n",
       "      <td>10</td>\n",
       "    </tr>\n",
       "    <tr>\n",
       "      <th>7</th>\n",
       "      <td>1000_7</td>\n",
       "      <td>2018-08-22</td>\n",
       "      <td>19</td>\n",
       "      <td>1000</td>\n",
       "      <td>8</td>\n",
       "    </tr>\n",
       "    <tr>\n",
       "      <th>8</th>\n",
       "      <td>1000_8</td>\n",
       "      <td>2018-09-15</td>\n",
       "      <td>19</td>\n",
       "      <td>1000</td>\n",
       "      <td>9</td>\n",
       "    </tr>\n",
       "    <tr>\n",
       "      <th>9</th>\n",
       "      <td>1000_9</td>\n",
       "      <td>2018-08-15</td>\n",
       "      <td>0</td>\n",
       "      <td>1000</td>\n",
       "      <td>8</td>\n",
       "    </tr>\n",
       "  </tbody>\n",
       "</table>\n",
       "</div>"
      ],
      "text/plain": [
       "       id  call_date  duration  user_id  month\n",
       "0  1000_0 2018-07-25         0     1000      7\n",
       "1  1000_1 2018-08-17         0     1000      8\n",
       "2  1000_2 2018-06-11         3     1000      6\n",
       "3  1000_3 2018-09-21        14     1000      9\n",
       "4  1000_4 2018-12-15         6     1000     12\n",
       "5  1000_5 2018-11-02         0     1000     11\n",
       "6  1000_6 2018-10-18         0     1000     10\n",
       "7  1000_7 2018-08-22        19     1000      8\n",
       "8  1000_8 2018-09-15        19     1000      9\n",
       "9  1000_9 2018-08-15         0     1000      8"
      ]
     },
     "execution_count": 3,
     "metadata": {},
     "output_type": "execute_result"
    }
   ],
   "source": [
    "#приведем даты к соотвествующему типу данных\n",
    "calls['call_date'] = pd.to_datetime(calls['call_date'], format='%Y-%m-%d')\n",
    "\n",
    "#округлим значения времени звонков вверх\n",
    "calls['duration'] = calls['duration'].apply(math.ceil)   \n",
    "\n",
    "#создадим доп столбец с месяцем\n",
    "calls['month'] = calls['call_date'].dt.month\n",
    "\n",
    "calls.head(10)"
   ]
  },
  {
   "cell_type": "markdown",
   "metadata": {},
   "source": [
    "### internet\n",
    "#### Изучение данных\n",
    "\n",
    "    Таблица internet (информация об интернет-сессиях):\n",
    "    id — уникальный номер сессии\n",
    "    mb_used — объём потраченного за сессию интернет-трафика (в мегабайтах)\n",
    "    session_date — дата интернет-сессии\n",
    "    user_id — идентификатор пользователя"
   ]
  },
  {
   "cell_type": "code",
   "execution_count": 4,
   "metadata": {},
   "outputs": [
    {
     "name": "stdout",
     "output_type": "stream",
     "text": [
      "\n",
      "Информация о таблице:\n",
      "      \n",
      "<class 'pandas.core.frame.DataFrame'>\n",
      "Int64Index: 149396 entries, 0 to 149395\n",
      "Data columns (total 4 columns):\n",
      " #   Column        Non-Null Count   Dtype  \n",
      "---  ------        --------------   -----  \n",
      " 0   id            149396 non-null  object \n",
      " 1   mb_used       149396 non-null  float64\n",
      " 2   session_date  149396 non-null  object \n",
      " 3   user_id       149396 non-null  int64  \n",
      "dtypes: float64(1), int64(1), object(2)\n",
      "memory usage: 5.7+ MB\n"
     ]
    },
    {
     "data": {
      "text/plain": [
       "None"
      ]
     },
     "metadata": {},
     "output_type": "display_data"
    },
    {
     "name": "stdout",
     "output_type": "stream",
     "text": [
      "\n",
      "Обзор таблицы:\n",
      "      \n"
     ]
    },
    {
     "data": {
      "text/html": [
       "<div>\n",
       "<style scoped>\n",
       "    .dataframe tbody tr th:only-of-type {\n",
       "        vertical-align: middle;\n",
       "    }\n",
       "\n",
       "    .dataframe tbody tr th {\n",
       "        vertical-align: top;\n",
       "    }\n",
       "\n",
       "    .dataframe thead th {\n",
       "        text-align: right;\n",
       "    }\n",
       "</style>\n",
       "<table border=\"1\" class=\"dataframe\">\n",
       "  <thead>\n",
       "    <tr style=\"text-align: right;\">\n",
       "      <th></th>\n",
       "      <th>id</th>\n",
       "      <th>mb_used</th>\n",
       "      <th>session_date</th>\n",
       "      <th>user_id</th>\n",
       "    </tr>\n",
       "  </thead>\n",
       "  <tbody>\n",
       "    <tr>\n",
       "      <th>0</th>\n",
       "      <td>1000_0</td>\n",
       "      <td>112.95</td>\n",
       "      <td>2018-11-25</td>\n",
       "      <td>1000</td>\n",
       "    </tr>\n",
       "    <tr>\n",
       "      <th>1</th>\n",
       "      <td>1000_1</td>\n",
       "      <td>1052.81</td>\n",
       "      <td>2018-09-07</td>\n",
       "      <td>1000</td>\n",
       "    </tr>\n",
       "    <tr>\n",
       "      <th>2</th>\n",
       "      <td>1000_2</td>\n",
       "      <td>1197.26</td>\n",
       "      <td>2018-06-25</td>\n",
       "      <td>1000</td>\n",
       "    </tr>\n",
       "    <tr>\n",
       "      <th>3</th>\n",
       "      <td>1000_3</td>\n",
       "      <td>550.27</td>\n",
       "      <td>2018-08-22</td>\n",
       "      <td>1000</td>\n",
       "    </tr>\n",
       "    <tr>\n",
       "      <th>4</th>\n",
       "      <td>1000_4</td>\n",
       "      <td>302.56</td>\n",
       "      <td>2018-09-24</td>\n",
       "      <td>1000</td>\n",
       "    </tr>\n",
       "    <tr>\n",
       "      <th>5</th>\n",
       "      <td>1000_5</td>\n",
       "      <td>399.97</td>\n",
       "      <td>2018-10-02</td>\n",
       "      <td>1000</td>\n",
       "    </tr>\n",
       "    <tr>\n",
       "      <th>6</th>\n",
       "      <td>1000_6</td>\n",
       "      <td>540.08</td>\n",
       "      <td>2018-09-07</td>\n",
       "      <td>1000</td>\n",
       "    </tr>\n",
       "    <tr>\n",
       "      <th>7</th>\n",
       "      <td>1000_7</td>\n",
       "      <td>415.70</td>\n",
       "      <td>2018-07-11</td>\n",
       "      <td>1000</td>\n",
       "    </tr>\n",
       "    <tr>\n",
       "      <th>8</th>\n",
       "      <td>1000_8</td>\n",
       "      <td>505.40</td>\n",
       "      <td>2018-10-08</td>\n",
       "      <td>1000</td>\n",
       "    </tr>\n",
       "    <tr>\n",
       "      <th>9</th>\n",
       "      <td>1000_9</td>\n",
       "      <td>345.54</td>\n",
       "      <td>2018-09-03</td>\n",
       "      <td>1000</td>\n",
       "    </tr>\n",
       "    <tr>\n",
       "      <th>10</th>\n",
       "      <td>1000_10</td>\n",
       "      <td>385.14</td>\n",
       "      <td>2018-09-27</td>\n",
       "      <td>1000</td>\n",
       "    </tr>\n",
       "    <tr>\n",
       "      <th>11</th>\n",
       "      <td>1000_11</td>\n",
       "      <td>0.00</td>\n",
       "      <td>2018-08-28</td>\n",
       "      <td>1000</td>\n",
       "    </tr>\n",
       "    <tr>\n",
       "      <th>12</th>\n",
       "      <td>1000_12</td>\n",
       "      <td>375.87</td>\n",
       "      <td>2018-06-20</td>\n",
       "      <td>1000</td>\n",
       "    </tr>\n",
       "    <tr>\n",
       "      <th>13</th>\n",
       "      <td>1000_13</td>\n",
       "      <td>393.83</td>\n",
       "      <td>2018-08-09</td>\n",
       "      <td>1000</td>\n",
       "    </tr>\n",
       "    <tr>\n",
       "      <th>14</th>\n",
       "      <td>1000_14</td>\n",
       "      <td>180.64</td>\n",
       "      <td>2018-08-11</td>\n",
       "      <td>1000</td>\n",
       "    </tr>\n",
       "  </tbody>\n",
       "</table>\n",
       "</div>"
      ],
      "text/plain": [
       "         id  mb_used session_date  user_id\n",
       "0    1000_0   112.95   2018-11-25     1000\n",
       "1    1000_1  1052.81   2018-09-07     1000\n",
       "2    1000_2  1197.26   2018-06-25     1000\n",
       "3    1000_3   550.27   2018-08-22     1000\n",
       "4    1000_4   302.56   2018-09-24     1000\n",
       "5    1000_5   399.97   2018-10-02     1000\n",
       "6    1000_6   540.08   2018-09-07     1000\n",
       "7    1000_7   415.70   2018-07-11     1000\n",
       "8    1000_8   505.40   2018-10-08     1000\n",
       "9    1000_9   345.54   2018-09-03     1000\n",
       "10  1000_10   385.14   2018-09-27     1000\n",
       "11  1000_11     0.00   2018-08-28     1000\n",
       "12  1000_12   375.87   2018-06-20     1000\n",
       "13  1000_13   393.83   2018-08-09     1000\n",
       "14  1000_14   180.64   2018-08-11     1000"
      ]
     },
     "metadata": {},
     "output_type": "display_data"
    },
    {
     "name": "stdout",
     "output_type": "stream",
     "text": [
      "Количество дубликатов: 0\n"
     ]
    }
   ],
   "source": [
    "print('''\n",
    "Информация о таблице:\n",
    "      ''')\n",
    "display(internet.info())\n",
    "print('''\n",
    "Обзор таблицы:\n",
    "      ''')\n",
    "display(internet.head(15))\n",
    "print('Количество дубликатов:', internet.duplicated().sum())"
   ]
  },
  {
   "cell_type": "markdown",
   "metadata": {},
   "source": [
    "Выводы: \n",
    "- Пропусков нет\n",
    "- Дубликатов нет\n",
    "- Поменять тип данных session_date на datetime\n",
    "- Добавить столбец с месяцем"
   ]
  },
  {
   "cell_type": "markdown",
   "metadata": {},
   "source": [
    "#### Предобработка данных"
   ]
  },
  {
   "cell_type": "code",
   "execution_count": 5,
   "metadata": {},
   "outputs": [
    {
     "data": {
      "text/html": [
       "<div>\n",
       "<style scoped>\n",
       "    .dataframe tbody tr th:only-of-type {\n",
       "        vertical-align: middle;\n",
       "    }\n",
       "\n",
       "    .dataframe tbody tr th {\n",
       "        vertical-align: top;\n",
       "    }\n",
       "\n",
       "    .dataframe thead th {\n",
       "        text-align: right;\n",
       "    }\n",
       "</style>\n",
       "<table border=\"1\" class=\"dataframe\">\n",
       "  <thead>\n",
       "    <tr style=\"text-align: right;\">\n",
       "      <th></th>\n",
       "      <th>id</th>\n",
       "      <th>mb_used</th>\n",
       "      <th>session_date</th>\n",
       "      <th>user_id</th>\n",
       "      <th>month</th>\n",
       "      <th>gb_used</th>\n",
       "    </tr>\n",
       "  </thead>\n",
       "  <tbody>\n",
       "    <tr>\n",
       "      <th>0</th>\n",
       "      <td>1000_0</td>\n",
       "      <td>112.95</td>\n",
       "      <td>2018-11-25</td>\n",
       "      <td>1000</td>\n",
       "      <td>11</td>\n",
       "      <td>0.110303</td>\n",
       "    </tr>\n",
       "    <tr>\n",
       "      <th>1</th>\n",
       "      <td>1000_1</td>\n",
       "      <td>1052.81</td>\n",
       "      <td>2018-09-07</td>\n",
       "      <td>1000</td>\n",
       "      <td>9</td>\n",
       "      <td>1.028135</td>\n",
       "    </tr>\n",
       "    <tr>\n",
       "      <th>2</th>\n",
       "      <td>1000_2</td>\n",
       "      <td>1197.26</td>\n",
       "      <td>2018-06-25</td>\n",
       "      <td>1000</td>\n",
       "      <td>6</td>\n",
       "      <td>1.169199</td>\n",
       "    </tr>\n",
       "    <tr>\n",
       "      <th>3</th>\n",
       "      <td>1000_3</td>\n",
       "      <td>550.27</td>\n",
       "      <td>2018-08-22</td>\n",
       "      <td>1000</td>\n",
       "      <td>8</td>\n",
       "      <td>0.537373</td>\n",
       "    </tr>\n",
       "    <tr>\n",
       "      <th>4</th>\n",
       "      <td>1000_4</td>\n",
       "      <td>302.56</td>\n",
       "      <td>2018-09-24</td>\n",
       "      <td>1000</td>\n",
       "      <td>9</td>\n",
       "      <td>0.295469</td>\n",
       "    </tr>\n",
       "    <tr>\n",
       "      <th>5</th>\n",
       "      <td>1000_5</td>\n",
       "      <td>399.97</td>\n",
       "      <td>2018-10-02</td>\n",
       "      <td>1000</td>\n",
       "      <td>10</td>\n",
       "      <td>0.390596</td>\n",
       "    </tr>\n",
       "    <tr>\n",
       "      <th>6</th>\n",
       "      <td>1000_6</td>\n",
       "      <td>540.08</td>\n",
       "      <td>2018-09-07</td>\n",
       "      <td>1000</td>\n",
       "      <td>9</td>\n",
       "      <td>0.527422</td>\n",
       "    </tr>\n",
       "    <tr>\n",
       "      <th>7</th>\n",
       "      <td>1000_7</td>\n",
       "      <td>415.70</td>\n",
       "      <td>2018-07-11</td>\n",
       "      <td>1000</td>\n",
       "      <td>7</td>\n",
       "      <td>0.405957</td>\n",
       "    </tr>\n",
       "    <tr>\n",
       "      <th>8</th>\n",
       "      <td>1000_8</td>\n",
       "      <td>505.40</td>\n",
       "      <td>2018-10-08</td>\n",
       "      <td>1000</td>\n",
       "      <td>10</td>\n",
       "      <td>0.493555</td>\n",
       "    </tr>\n",
       "    <tr>\n",
       "      <th>9</th>\n",
       "      <td>1000_9</td>\n",
       "      <td>345.54</td>\n",
       "      <td>2018-09-03</td>\n",
       "      <td>1000</td>\n",
       "      <td>9</td>\n",
       "      <td>0.337441</td>\n",
       "    </tr>\n",
       "  </tbody>\n",
       "</table>\n",
       "</div>"
      ],
      "text/plain": [
       "       id  mb_used session_date  user_id  month   gb_used\n",
       "0  1000_0   112.95   2018-11-25     1000     11  0.110303\n",
       "1  1000_1  1052.81   2018-09-07     1000      9  1.028135\n",
       "2  1000_2  1197.26   2018-06-25     1000      6  1.169199\n",
       "3  1000_3   550.27   2018-08-22     1000      8  0.537373\n",
       "4  1000_4   302.56   2018-09-24     1000      9  0.295469\n",
       "5  1000_5   399.97   2018-10-02     1000     10  0.390596\n",
       "6  1000_6   540.08   2018-09-07     1000      9  0.527422\n",
       "7  1000_7   415.70   2018-07-11     1000      7  0.405957\n",
       "8  1000_8   505.40   2018-10-08     1000     10  0.493555\n",
       "9  1000_9   345.54   2018-09-03     1000      9  0.337441"
      ]
     },
     "metadata": {},
     "output_type": "display_data"
    },
    {
     "name": "stdout",
     "output_type": "stream",
     "text": [
      "\n",
      "Информация о таблице:\n",
      "      \n",
      "<class 'pandas.core.frame.DataFrame'>\n",
      "Int64Index: 149396 entries, 0 to 149395\n",
      "Data columns (total 6 columns):\n",
      " #   Column        Non-Null Count   Dtype         \n",
      "---  ------        --------------   -----         \n",
      " 0   id            149396 non-null  object        \n",
      " 1   mb_used       149396 non-null  float64       \n",
      " 2   session_date  149396 non-null  datetime64[ns]\n",
      " 3   user_id       149396 non-null  int64         \n",
      " 4   month         149396 non-null  int64         \n",
      " 5   gb_used       149396 non-null  float64       \n",
      "dtypes: datetime64[ns](1), float64(2), int64(2), object(1)\n",
      "memory usage: 8.0+ MB\n"
     ]
    },
    {
     "data": {
      "text/plain": [
       "None"
      ]
     },
     "metadata": {},
     "output_type": "display_data"
    }
   ],
   "source": [
    "#приведем даты к соотвествующему типу данных\n",
    "internet['session_date'] = pd.to_datetime(internet['session_date'], format='%Y-%m-%d')\n",
    "\n",
    "#создадим доп столбец с месяцем\n",
    "internet['month'] = internet['session_date'].dt.month\n",
    "\n",
    "#для удобства в дальнейшей работе переведем мегабайты в гигабайты\n",
    "internet['gb_used'] = internet['mb_used'] / 1024\n",
    "\n",
    "display(internet.head(10))\n",
    "\n",
    "print('''\n",
    "Информация о таблице:\n",
    "      ''')\n",
    "display(internet.info())"
   ]
  },
  {
   "cell_type": "markdown",
   "metadata": {},
   "source": [
    "### messages\n",
    "#### Изучение данных\n",
    "\n",
    "    Таблица messages (информация о сообщениях):\n",
    "    id — уникальный номер сообщения\n",
    "    message_date — дата сообщения\n",
    "    user_id — идентификатор пользователя, отправившего сообщение"
   ]
  },
  {
   "cell_type": "code",
   "execution_count": 6,
   "metadata": {},
   "outputs": [
    {
     "name": "stdout",
     "output_type": "stream",
     "text": [
      "\n",
      "Информация о таблице:\n",
      "      \n",
      "<class 'pandas.core.frame.DataFrame'>\n",
      "RangeIndex: 123036 entries, 0 to 123035\n",
      "Data columns (total 3 columns):\n",
      " #   Column        Non-Null Count   Dtype \n",
      "---  ------        --------------   ----- \n",
      " 0   id            123036 non-null  object\n",
      " 1   message_date  123036 non-null  object\n",
      " 2   user_id       123036 non-null  int64 \n",
      "dtypes: int64(1), object(2)\n",
      "memory usage: 2.8+ MB\n"
     ]
    },
    {
     "data": {
      "text/plain": [
       "None"
      ]
     },
     "metadata": {},
     "output_type": "display_data"
    },
    {
     "name": "stdout",
     "output_type": "stream",
     "text": [
      "\n",
      "Обзор таблицы:\n",
      "      \n"
     ]
    },
    {
     "data": {
      "text/html": [
       "<div>\n",
       "<style scoped>\n",
       "    .dataframe tbody tr th:only-of-type {\n",
       "        vertical-align: middle;\n",
       "    }\n",
       "\n",
       "    .dataframe tbody tr th {\n",
       "        vertical-align: top;\n",
       "    }\n",
       "\n",
       "    .dataframe thead th {\n",
       "        text-align: right;\n",
       "    }\n",
       "</style>\n",
       "<table border=\"1\" class=\"dataframe\">\n",
       "  <thead>\n",
       "    <tr style=\"text-align: right;\">\n",
       "      <th></th>\n",
       "      <th>id</th>\n",
       "      <th>message_date</th>\n",
       "      <th>user_id</th>\n",
       "    </tr>\n",
       "  </thead>\n",
       "  <tbody>\n",
       "    <tr>\n",
       "      <th>0</th>\n",
       "      <td>1000_0</td>\n",
       "      <td>2018-06-27</td>\n",
       "      <td>1000</td>\n",
       "    </tr>\n",
       "    <tr>\n",
       "      <th>1</th>\n",
       "      <td>1000_1</td>\n",
       "      <td>2018-10-08</td>\n",
       "      <td>1000</td>\n",
       "    </tr>\n",
       "    <tr>\n",
       "      <th>2</th>\n",
       "      <td>1000_2</td>\n",
       "      <td>2018-08-04</td>\n",
       "      <td>1000</td>\n",
       "    </tr>\n",
       "    <tr>\n",
       "      <th>3</th>\n",
       "      <td>1000_3</td>\n",
       "      <td>2018-06-16</td>\n",
       "      <td>1000</td>\n",
       "    </tr>\n",
       "    <tr>\n",
       "      <th>4</th>\n",
       "      <td>1000_4</td>\n",
       "      <td>2018-12-05</td>\n",
       "      <td>1000</td>\n",
       "    </tr>\n",
       "    <tr>\n",
       "      <th>5</th>\n",
       "      <td>1000_5</td>\n",
       "      <td>2018-06-20</td>\n",
       "      <td>1000</td>\n",
       "    </tr>\n",
       "    <tr>\n",
       "      <th>6</th>\n",
       "      <td>1000_6</td>\n",
       "      <td>2018-11-19</td>\n",
       "      <td>1000</td>\n",
       "    </tr>\n",
       "    <tr>\n",
       "      <th>7</th>\n",
       "      <td>1000_7</td>\n",
       "      <td>2018-10-29</td>\n",
       "      <td>1000</td>\n",
       "    </tr>\n",
       "    <tr>\n",
       "      <th>8</th>\n",
       "      <td>1000_8</td>\n",
       "      <td>2018-06-25</td>\n",
       "      <td>1000</td>\n",
       "    </tr>\n",
       "    <tr>\n",
       "      <th>9</th>\n",
       "      <td>1000_9</td>\n",
       "      <td>2018-12-18</td>\n",
       "      <td>1000</td>\n",
       "    </tr>\n",
       "    <tr>\n",
       "      <th>10</th>\n",
       "      <td>1000_10</td>\n",
       "      <td>2018-05-30</td>\n",
       "      <td>1000</td>\n",
       "    </tr>\n",
       "    <tr>\n",
       "      <th>11</th>\n",
       "      <td>1000_11</td>\n",
       "      <td>2018-07-06</td>\n",
       "      <td>1000</td>\n",
       "    </tr>\n",
       "    <tr>\n",
       "      <th>12</th>\n",
       "      <td>1000_12</td>\n",
       "      <td>2018-08-20</td>\n",
       "      <td>1000</td>\n",
       "    </tr>\n",
       "    <tr>\n",
       "      <th>13</th>\n",
       "      <td>1000_13</td>\n",
       "      <td>2018-10-30</td>\n",
       "      <td>1000</td>\n",
       "    </tr>\n",
       "    <tr>\n",
       "      <th>14</th>\n",
       "      <td>1000_14</td>\n",
       "      <td>2018-09-14</td>\n",
       "      <td>1000</td>\n",
       "    </tr>\n",
       "  </tbody>\n",
       "</table>\n",
       "</div>"
      ],
      "text/plain": [
       "         id message_date  user_id\n",
       "0    1000_0   2018-06-27     1000\n",
       "1    1000_1   2018-10-08     1000\n",
       "2    1000_2   2018-08-04     1000\n",
       "3    1000_3   2018-06-16     1000\n",
       "4    1000_4   2018-12-05     1000\n",
       "5    1000_5   2018-06-20     1000\n",
       "6    1000_6   2018-11-19     1000\n",
       "7    1000_7   2018-10-29     1000\n",
       "8    1000_8   2018-06-25     1000\n",
       "9    1000_9   2018-12-18     1000\n",
       "10  1000_10   2018-05-30     1000\n",
       "11  1000_11   2018-07-06     1000\n",
       "12  1000_12   2018-08-20     1000\n",
       "13  1000_13   2018-10-30     1000\n",
       "14  1000_14   2018-09-14     1000"
      ]
     },
     "metadata": {},
     "output_type": "display_data"
    },
    {
     "name": "stdout",
     "output_type": "stream",
     "text": [
      "Количество дубликатов: 0\n"
     ]
    }
   ],
   "source": [
    "print('''\n",
    "Информация о таблице:\n",
    "      ''')\n",
    "display(messages.info())\n",
    "print('''\n",
    "Обзор таблицы:\n",
    "      ''')\n",
    "display(messages.head(15))\n",
    "print('Количество дубликатов:', messages.duplicated().sum())"
   ]
  },
  {
   "cell_type": "markdown",
   "metadata": {},
   "source": [
    "Выводы: \n",
    "- Пропусков нет\n",
    "- Дубликатов нет\n",
    "- Поменять тип данных message_date на datetime\n",
    "- Добавить столбец с месяцем"
   ]
  },
  {
   "cell_type": "markdown",
   "metadata": {},
   "source": [
    "#### Предобработка данных"
   ]
  },
  {
   "cell_type": "code",
   "execution_count": 7,
   "metadata": {
    "scrolled": false
   },
   "outputs": [
    {
     "data": {
      "text/html": [
       "<div>\n",
       "<style scoped>\n",
       "    .dataframe tbody tr th:only-of-type {\n",
       "        vertical-align: middle;\n",
       "    }\n",
       "\n",
       "    .dataframe tbody tr th {\n",
       "        vertical-align: top;\n",
       "    }\n",
       "\n",
       "    .dataframe thead th {\n",
       "        text-align: right;\n",
       "    }\n",
       "</style>\n",
       "<table border=\"1\" class=\"dataframe\">\n",
       "  <thead>\n",
       "    <tr style=\"text-align: right;\">\n",
       "      <th></th>\n",
       "      <th>id</th>\n",
       "      <th>message_date</th>\n",
       "      <th>user_id</th>\n",
       "      <th>month</th>\n",
       "    </tr>\n",
       "  </thead>\n",
       "  <tbody>\n",
       "    <tr>\n",
       "      <th>0</th>\n",
       "      <td>1000_0</td>\n",
       "      <td>2018-06-27</td>\n",
       "      <td>1000</td>\n",
       "      <td>6</td>\n",
       "    </tr>\n",
       "    <tr>\n",
       "      <th>1</th>\n",
       "      <td>1000_1</td>\n",
       "      <td>2018-10-08</td>\n",
       "      <td>1000</td>\n",
       "      <td>10</td>\n",
       "    </tr>\n",
       "    <tr>\n",
       "      <th>2</th>\n",
       "      <td>1000_2</td>\n",
       "      <td>2018-08-04</td>\n",
       "      <td>1000</td>\n",
       "      <td>8</td>\n",
       "    </tr>\n",
       "    <tr>\n",
       "      <th>3</th>\n",
       "      <td>1000_3</td>\n",
       "      <td>2018-06-16</td>\n",
       "      <td>1000</td>\n",
       "      <td>6</td>\n",
       "    </tr>\n",
       "    <tr>\n",
       "      <th>4</th>\n",
       "      <td>1000_4</td>\n",
       "      <td>2018-12-05</td>\n",
       "      <td>1000</td>\n",
       "      <td>12</td>\n",
       "    </tr>\n",
       "    <tr>\n",
       "      <th>5</th>\n",
       "      <td>1000_5</td>\n",
       "      <td>2018-06-20</td>\n",
       "      <td>1000</td>\n",
       "      <td>6</td>\n",
       "    </tr>\n",
       "    <tr>\n",
       "      <th>6</th>\n",
       "      <td>1000_6</td>\n",
       "      <td>2018-11-19</td>\n",
       "      <td>1000</td>\n",
       "      <td>11</td>\n",
       "    </tr>\n",
       "    <tr>\n",
       "      <th>7</th>\n",
       "      <td>1000_7</td>\n",
       "      <td>2018-10-29</td>\n",
       "      <td>1000</td>\n",
       "      <td>10</td>\n",
       "    </tr>\n",
       "    <tr>\n",
       "      <th>8</th>\n",
       "      <td>1000_8</td>\n",
       "      <td>2018-06-25</td>\n",
       "      <td>1000</td>\n",
       "      <td>6</td>\n",
       "    </tr>\n",
       "    <tr>\n",
       "      <th>9</th>\n",
       "      <td>1000_9</td>\n",
       "      <td>2018-12-18</td>\n",
       "      <td>1000</td>\n",
       "      <td>12</td>\n",
       "    </tr>\n",
       "  </tbody>\n",
       "</table>\n",
       "</div>"
      ],
      "text/plain": [
       "       id message_date  user_id  month\n",
       "0  1000_0   2018-06-27     1000      6\n",
       "1  1000_1   2018-10-08     1000     10\n",
       "2  1000_2   2018-08-04     1000      8\n",
       "3  1000_3   2018-06-16     1000      6\n",
       "4  1000_4   2018-12-05     1000     12\n",
       "5  1000_5   2018-06-20     1000      6\n",
       "6  1000_6   2018-11-19     1000     11\n",
       "7  1000_7   2018-10-29     1000     10\n",
       "8  1000_8   2018-06-25     1000      6\n",
       "9  1000_9   2018-12-18     1000     12"
      ]
     },
     "metadata": {},
     "output_type": "display_data"
    },
    {
     "name": "stdout",
     "output_type": "stream",
     "text": [
      "\n",
      "Информация о таблице:\n",
      "      \n",
      "<class 'pandas.core.frame.DataFrame'>\n",
      "RangeIndex: 123036 entries, 0 to 123035\n",
      "Data columns (total 4 columns):\n",
      " #   Column        Non-Null Count   Dtype         \n",
      "---  ------        --------------   -----         \n",
      " 0   id            123036 non-null  object        \n",
      " 1   message_date  123036 non-null  datetime64[ns]\n",
      " 2   user_id       123036 non-null  int64         \n",
      " 3   month         123036 non-null  int64         \n",
      "dtypes: datetime64[ns](1), int64(2), object(1)\n",
      "memory usage: 3.8+ MB\n"
     ]
    },
    {
     "data": {
      "text/plain": [
       "None"
      ]
     },
     "metadata": {},
     "output_type": "display_data"
    }
   ],
   "source": [
    "#приведем даты к соотвествующему типу данных\n",
    "messages['message_date'] = pd.to_datetime(messages['message_date'], format='%Y-%m-%d')\n",
    "\n",
    "#создадим доп столбец с месяцем\n",
    "messages['month'] = messages['message_date'].dt.month\n",
    "\n",
    "display(messages.head(10))\n",
    "\n",
    "print('''\n",
    "Информация о таблице:\n",
    "      ''')\n",
    "display(messages.info())"
   ]
  },
  {
   "cell_type": "markdown",
   "metadata": {},
   "source": [
    "### tariffs\n",
    "#### Изучение данных\n",
    "\n",
    "    Таблица tariffs (информация о тарифах):\n",
    "    tariff_name — название тарифа\n",
    "    rub_monthly_fee — ежемесячная абонентская плата в рублях\n",
    "    minutes_included — количество минут разговора в месяц, включённых в абонентскую плату\n",
    "    messages_included — количество сообщений в месяц, включённых в абонентскую плату\n",
    "    mb_per_month_included — объём интернет-трафика, включённого в абонентскую плату (в мегабайтах)\n",
    "    rub_per_minute — стоимость минуты разговора сверх тарифного пакета (например, если в тарифе 100 минут разговора в месяц, то со 101 минуты будет взиматься плата)\n",
    "    rub_per_message — стоимость отправки сообщения сверх тарифного пакета\n",
    "    rub_per_gb — стоимость дополнительного гигабайта интернет-трафика сверх тарифного пакета (1 гигабайт = 1024 мегабайта)"
   ]
  },
  {
   "cell_type": "code",
   "execution_count": 8,
   "metadata": {},
   "outputs": [
    {
     "name": "stdout",
     "output_type": "stream",
     "text": [
      "\n",
      "Информация о таблице:\n",
      "      \n",
      "<class 'pandas.core.frame.DataFrame'>\n",
      "RangeIndex: 2 entries, 0 to 1\n",
      "Data columns (total 8 columns):\n",
      " #   Column                 Non-Null Count  Dtype \n",
      "---  ------                 --------------  ----- \n",
      " 0   messages_included      2 non-null      int64 \n",
      " 1   mb_per_month_included  2 non-null      int64 \n",
      " 2   minutes_included       2 non-null      int64 \n",
      " 3   rub_monthly_fee        2 non-null      int64 \n",
      " 4   rub_per_gb             2 non-null      int64 \n",
      " 5   rub_per_message        2 non-null      int64 \n",
      " 6   rub_per_minute         2 non-null      int64 \n",
      " 7   tariff_name            2 non-null      object\n",
      "dtypes: int64(7), object(1)\n",
      "memory usage: 256.0+ bytes\n"
     ]
    },
    {
     "data": {
      "text/plain": [
       "None"
      ]
     },
     "metadata": {},
     "output_type": "display_data"
    },
    {
     "name": "stdout",
     "output_type": "stream",
     "text": [
      "\n",
      "Обзор таблицы:\n",
      "      \n"
     ]
    },
    {
     "data": {
      "text/html": [
       "<div>\n",
       "<style scoped>\n",
       "    .dataframe tbody tr th:only-of-type {\n",
       "        vertical-align: middle;\n",
       "    }\n",
       "\n",
       "    .dataframe tbody tr th {\n",
       "        vertical-align: top;\n",
       "    }\n",
       "\n",
       "    .dataframe thead th {\n",
       "        text-align: right;\n",
       "    }\n",
       "</style>\n",
       "<table border=\"1\" class=\"dataframe\">\n",
       "  <thead>\n",
       "    <tr style=\"text-align: right;\">\n",
       "      <th></th>\n",
       "      <th>messages_included</th>\n",
       "      <th>mb_per_month_included</th>\n",
       "      <th>minutes_included</th>\n",
       "      <th>rub_monthly_fee</th>\n",
       "      <th>rub_per_gb</th>\n",
       "      <th>rub_per_message</th>\n",
       "      <th>rub_per_minute</th>\n",
       "      <th>tariff_name</th>\n",
       "    </tr>\n",
       "  </thead>\n",
       "  <tbody>\n",
       "    <tr>\n",
       "      <th>0</th>\n",
       "      <td>50</td>\n",
       "      <td>15360</td>\n",
       "      <td>500</td>\n",
       "      <td>550</td>\n",
       "      <td>200</td>\n",
       "      <td>3</td>\n",
       "      <td>3</td>\n",
       "      <td>smart</td>\n",
       "    </tr>\n",
       "    <tr>\n",
       "      <th>1</th>\n",
       "      <td>1000</td>\n",
       "      <td>30720</td>\n",
       "      <td>3000</td>\n",
       "      <td>1950</td>\n",
       "      <td>150</td>\n",
       "      <td>1</td>\n",
       "      <td>1</td>\n",
       "      <td>ultra</td>\n",
       "    </tr>\n",
       "  </tbody>\n",
       "</table>\n",
       "</div>"
      ],
      "text/plain": [
       "   messages_included  mb_per_month_included  minutes_included  \\\n",
       "0                 50                  15360               500   \n",
       "1               1000                  30720              3000   \n",
       "\n",
       "   rub_monthly_fee  rub_per_gb  rub_per_message  rub_per_minute tariff_name  \n",
       "0              550         200                3               3       smart  \n",
       "1             1950         150                1               1       ultra  "
      ]
     },
     "metadata": {},
     "output_type": "display_data"
    },
    {
     "name": "stdout",
     "output_type": "stream",
     "text": [
      "Количество дубликатов: 0\n"
     ]
    }
   ],
   "source": [
    "print('''\n",
    "Информация о таблице:\n",
    "      ''')\n",
    "display(tariffs.info())\n",
    "print('''\n",
    "Обзор таблицы:\n",
    "      ''')\n",
    "display(tariffs.head(15))\n",
    "print('Количество дубликатов:', tariffs.duplicated().sum())"
   ]
  },
  {
   "cell_type": "markdown",
   "metadata": {},
   "source": [
    "Выводы: \n",
    "- Пропусков нет\n",
    "- Дубликатов нет\n",
    "- Типы данных в порядке"
   ]
  },
  {
   "cell_type": "markdown",
   "metadata": {},
   "source": [
    "### users\n",
    "#### Изучение данных\n",
    "\n",
    "    Таблица users (информация о пользователях):\n",
    "    user_id — уникальный идентификатор пользователя\n",
    "    first_name — имя пользователя\n",
    "    last_name — фамилия пользователя\n",
    "    age — возраст пользователя (годы)\n",
    "    reg_date — дата подключения тарифа (день, месяц, год)\n",
    "    churn_date — дата прекращения пользования тарифом (если значение пропущено, то тариф ещё действовал на момент выгрузки данных)\n",
    "    city — город проживания пользователя\n",
    "    tariff — название тарифного плана"
   ]
  },
  {
   "cell_type": "code",
   "execution_count": 9,
   "metadata": {},
   "outputs": [
    {
     "name": "stdout",
     "output_type": "stream",
     "text": [
      "\n",
      "Информация о таблице:\n",
      "      \n",
      "<class 'pandas.core.frame.DataFrame'>\n",
      "RangeIndex: 500 entries, 0 to 499\n",
      "Data columns (total 8 columns):\n",
      " #   Column      Non-Null Count  Dtype \n",
      "---  ------      --------------  ----- \n",
      " 0   user_id     500 non-null    int64 \n",
      " 1   age         500 non-null    int64 \n",
      " 2   churn_date  38 non-null     object\n",
      " 3   city        500 non-null    object\n",
      " 4   first_name  500 non-null    object\n",
      " 5   last_name   500 non-null    object\n",
      " 6   reg_date    500 non-null    object\n",
      " 7   tariff      500 non-null    object\n",
      "dtypes: int64(2), object(6)\n",
      "memory usage: 31.4+ KB\n"
     ]
    },
    {
     "data": {
      "text/plain": [
       "None"
      ]
     },
     "metadata": {},
     "output_type": "display_data"
    },
    {
     "name": "stdout",
     "output_type": "stream",
     "text": [
      "\n",
      "Обзор таблицы:\n",
      "      \n"
     ]
    },
    {
     "data": {
      "text/html": [
       "<div>\n",
       "<style scoped>\n",
       "    .dataframe tbody tr th:only-of-type {\n",
       "        vertical-align: middle;\n",
       "    }\n",
       "\n",
       "    .dataframe tbody tr th {\n",
       "        vertical-align: top;\n",
       "    }\n",
       "\n",
       "    .dataframe thead th {\n",
       "        text-align: right;\n",
       "    }\n",
       "</style>\n",
       "<table border=\"1\" class=\"dataframe\">\n",
       "  <thead>\n",
       "    <tr style=\"text-align: right;\">\n",
       "      <th></th>\n",
       "      <th>user_id</th>\n",
       "      <th>age</th>\n",
       "      <th>churn_date</th>\n",
       "      <th>city</th>\n",
       "      <th>first_name</th>\n",
       "      <th>last_name</th>\n",
       "      <th>reg_date</th>\n",
       "      <th>tariff</th>\n",
       "    </tr>\n",
       "  </thead>\n",
       "  <tbody>\n",
       "    <tr>\n",
       "      <th>0</th>\n",
       "      <td>1000</td>\n",
       "      <td>52</td>\n",
       "      <td>NaN</td>\n",
       "      <td>Краснодар</td>\n",
       "      <td>Рафаил</td>\n",
       "      <td>Верещагин</td>\n",
       "      <td>2018-05-25</td>\n",
       "      <td>ultra</td>\n",
       "    </tr>\n",
       "    <tr>\n",
       "      <th>1</th>\n",
       "      <td>1001</td>\n",
       "      <td>41</td>\n",
       "      <td>NaN</td>\n",
       "      <td>Москва</td>\n",
       "      <td>Иван</td>\n",
       "      <td>Ежов</td>\n",
       "      <td>2018-11-01</td>\n",
       "      <td>smart</td>\n",
       "    </tr>\n",
       "    <tr>\n",
       "      <th>2</th>\n",
       "      <td>1002</td>\n",
       "      <td>59</td>\n",
       "      <td>NaN</td>\n",
       "      <td>Стерлитамак</td>\n",
       "      <td>Евгений</td>\n",
       "      <td>Абрамович</td>\n",
       "      <td>2018-06-17</td>\n",
       "      <td>smart</td>\n",
       "    </tr>\n",
       "    <tr>\n",
       "      <th>3</th>\n",
       "      <td>1003</td>\n",
       "      <td>23</td>\n",
       "      <td>NaN</td>\n",
       "      <td>Москва</td>\n",
       "      <td>Белла</td>\n",
       "      <td>Белякова</td>\n",
       "      <td>2018-08-17</td>\n",
       "      <td>ultra</td>\n",
       "    </tr>\n",
       "    <tr>\n",
       "      <th>4</th>\n",
       "      <td>1004</td>\n",
       "      <td>68</td>\n",
       "      <td>NaN</td>\n",
       "      <td>Новокузнецк</td>\n",
       "      <td>Татьяна</td>\n",
       "      <td>Авдеенко</td>\n",
       "      <td>2018-05-14</td>\n",
       "      <td>ultra</td>\n",
       "    </tr>\n",
       "    <tr>\n",
       "      <th>5</th>\n",
       "      <td>1005</td>\n",
       "      <td>67</td>\n",
       "      <td>NaN</td>\n",
       "      <td>Набережные Челны</td>\n",
       "      <td>Афанасий</td>\n",
       "      <td>Горлов</td>\n",
       "      <td>2018-01-25</td>\n",
       "      <td>smart</td>\n",
       "    </tr>\n",
       "    <tr>\n",
       "      <th>6</th>\n",
       "      <td>1006</td>\n",
       "      <td>21</td>\n",
       "      <td>NaN</td>\n",
       "      <td>Ульяновск</td>\n",
       "      <td>Леонид</td>\n",
       "      <td>Ермолаев</td>\n",
       "      <td>2018-02-26</td>\n",
       "      <td>smart</td>\n",
       "    </tr>\n",
       "    <tr>\n",
       "      <th>7</th>\n",
       "      <td>1007</td>\n",
       "      <td>65</td>\n",
       "      <td>NaN</td>\n",
       "      <td>Москва</td>\n",
       "      <td>Юна</td>\n",
       "      <td>Березина</td>\n",
       "      <td>2018-04-19</td>\n",
       "      <td>smart</td>\n",
       "    </tr>\n",
       "    <tr>\n",
       "      <th>8</th>\n",
       "      <td>1008</td>\n",
       "      <td>63</td>\n",
       "      <td>NaN</td>\n",
       "      <td>Челябинск</td>\n",
       "      <td>Рустэм</td>\n",
       "      <td>Пономарёв</td>\n",
       "      <td>2018-12-19</td>\n",
       "      <td>smart</td>\n",
       "    </tr>\n",
       "    <tr>\n",
       "      <th>9</th>\n",
       "      <td>1009</td>\n",
       "      <td>24</td>\n",
       "      <td>NaN</td>\n",
       "      <td>Пермь</td>\n",
       "      <td>Василиса</td>\n",
       "      <td>Блинова</td>\n",
       "      <td>2018-03-22</td>\n",
       "      <td>smart</td>\n",
       "    </tr>\n",
       "    <tr>\n",
       "      <th>10</th>\n",
       "      <td>1010</td>\n",
       "      <td>26</td>\n",
       "      <td>NaN</td>\n",
       "      <td>Тюмень</td>\n",
       "      <td>Эдуард</td>\n",
       "      <td>Кононов</td>\n",
       "      <td>2018-08-05</td>\n",
       "      <td>smart</td>\n",
       "    </tr>\n",
       "    <tr>\n",
       "      <th>11</th>\n",
       "      <td>1011</td>\n",
       "      <td>44</td>\n",
       "      <td>NaN</td>\n",
       "      <td>Самара</td>\n",
       "      <td>Веселина</td>\n",
       "      <td>Алёшко</td>\n",
       "      <td>2018-03-19</td>\n",
       "      <td>smart</td>\n",
       "    </tr>\n",
       "    <tr>\n",
       "      <th>12</th>\n",
       "      <td>1012</td>\n",
       "      <td>38</td>\n",
       "      <td>NaN</td>\n",
       "      <td>Санкт-Петербург</td>\n",
       "      <td>Варлам</td>\n",
       "      <td>Соловьев</td>\n",
       "      <td>2018-03-28</td>\n",
       "      <td>smart</td>\n",
       "    </tr>\n",
       "    <tr>\n",
       "      <th>13</th>\n",
       "      <td>1013</td>\n",
       "      <td>36</td>\n",
       "      <td>NaN</td>\n",
       "      <td>Иваново</td>\n",
       "      <td>Борис</td>\n",
       "      <td>Андреенко</td>\n",
       "      <td>2018-11-14</td>\n",
       "      <td>ultra</td>\n",
       "    </tr>\n",
       "    <tr>\n",
       "      <th>14</th>\n",
       "      <td>1014</td>\n",
       "      <td>64</td>\n",
       "      <td>NaN</td>\n",
       "      <td>Чебоксары</td>\n",
       "      <td>Яков</td>\n",
       "      <td>Акинфьев</td>\n",
       "      <td>2018-05-15</td>\n",
       "      <td>smart</td>\n",
       "    </tr>\n",
       "  </tbody>\n",
       "</table>\n",
       "</div>"
      ],
      "text/plain": [
       "    user_id  age churn_date              city first_name  last_name  \\\n",
       "0      1000   52        NaN         Краснодар     Рафаил  Верещагин   \n",
       "1      1001   41        NaN            Москва       Иван       Ежов   \n",
       "2      1002   59        NaN       Стерлитамак    Евгений  Абрамович   \n",
       "3      1003   23        NaN            Москва      Белла   Белякова   \n",
       "4      1004   68        NaN       Новокузнецк    Татьяна   Авдеенко   \n",
       "5      1005   67        NaN  Набережные Челны   Афанасий     Горлов   \n",
       "6      1006   21        NaN         Ульяновск     Леонид   Ермолаев   \n",
       "7      1007   65        NaN            Москва        Юна   Березина   \n",
       "8      1008   63        NaN         Челябинск     Рустэм  Пономарёв   \n",
       "9      1009   24        NaN             Пермь   Василиса    Блинова   \n",
       "10     1010   26        NaN            Тюмень     Эдуард    Кононов   \n",
       "11     1011   44        NaN            Самара   Веселина     Алёшко   \n",
       "12     1012   38        NaN   Санкт-Петербург     Варлам   Соловьев   \n",
       "13     1013   36        NaN           Иваново      Борис  Андреенко   \n",
       "14     1014   64        NaN         Чебоксары       Яков   Акинфьев   \n",
       "\n",
       "      reg_date tariff  \n",
       "0   2018-05-25  ultra  \n",
       "1   2018-11-01  smart  \n",
       "2   2018-06-17  smart  \n",
       "3   2018-08-17  ultra  \n",
       "4   2018-05-14  ultra  \n",
       "5   2018-01-25  smart  \n",
       "6   2018-02-26  smart  \n",
       "7   2018-04-19  smart  \n",
       "8   2018-12-19  smart  \n",
       "9   2018-03-22  smart  \n",
       "10  2018-08-05  smart  \n",
       "11  2018-03-19  smart  \n",
       "12  2018-03-28  smart  \n",
       "13  2018-11-14  ultra  \n",
       "14  2018-05-15  smart  "
      ]
     },
     "metadata": {},
     "output_type": "display_data"
    },
    {
     "name": "stdout",
     "output_type": "stream",
     "text": [
      "Количество дубликатов: 0\n"
     ]
    }
   ],
   "source": [
    "print('''\n",
    "Информация о таблице:\n",
    "      ''')\n",
    "display(users.info())\n",
    "print('''\n",
    "Обзор таблицы:\n",
    "      ''')\n",
    "display(users.head(15))\n",
    "print('Количество дубликатов:', users.duplicated().sum())"
   ]
  },
  {
   "cell_type": "markdown",
   "metadata": {},
   "source": [
    "Выводы: \n",
    "- Есть пропуски в churn_date, однако они говорят о том, что тариф действовал на момент выгрузки\n",
    "- Дубликатов нет\n",
    "- Поменять тип данных reg_date и churn_date на datetime"
   ]
  },
  {
   "cell_type": "markdown",
   "metadata": {},
   "source": [
    "#### Предобработка данных"
   ]
  },
  {
   "cell_type": "code",
   "execution_count": 10,
   "metadata": {
    "scrolled": false
   },
   "outputs": [
    {
     "data": {
      "text/html": [
       "<div>\n",
       "<style scoped>\n",
       "    .dataframe tbody tr th:only-of-type {\n",
       "        vertical-align: middle;\n",
       "    }\n",
       "\n",
       "    .dataframe tbody tr th {\n",
       "        vertical-align: top;\n",
       "    }\n",
       "\n",
       "    .dataframe thead th {\n",
       "        text-align: right;\n",
       "    }\n",
       "</style>\n",
       "<table border=\"1\" class=\"dataframe\">\n",
       "  <thead>\n",
       "    <tr style=\"text-align: right;\">\n",
       "      <th></th>\n",
       "      <th>user_id</th>\n",
       "      <th>age</th>\n",
       "      <th>churn_date</th>\n",
       "      <th>city</th>\n",
       "      <th>first_name</th>\n",
       "      <th>last_name</th>\n",
       "      <th>reg_date</th>\n",
       "      <th>tariff</th>\n",
       "    </tr>\n",
       "  </thead>\n",
       "  <tbody>\n",
       "    <tr>\n",
       "      <th>0</th>\n",
       "      <td>1000</td>\n",
       "      <td>52</td>\n",
       "      <td>2019-01-01</td>\n",
       "      <td>Краснодар</td>\n",
       "      <td>Рафаил</td>\n",
       "      <td>Верещагин</td>\n",
       "      <td>2018-05-25</td>\n",
       "      <td>ultra</td>\n",
       "    </tr>\n",
       "    <tr>\n",
       "      <th>1</th>\n",
       "      <td>1001</td>\n",
       "      <td>41</td>\n",
       "      <td>2019-01-01</td>\n",
       "      <td>Москва</td>\n",
       "      <td>Иван</td>\n",
       "      <td>Ежов</td>\n",
       "      <td>2018-11-01</td>\n",
       "      <td>smart</td>\n",
       "    </tr>\n",
       "    <tr>\n",
       "      <th>2</th>\n",
       "      <td>1002</td>\n",
       "      <td>59</td>\n",
       "      <td>2019-01-01</td>\n",
       "      <td>Стерлитамак</td>\n",
       "      <td>Евгений</td>\n",
       "      <td>Абрамович</td>\n",
       "      <td>2018-06-17</td>\n",
       "      <td>smart</td>\n",
       "    </tr>\n",
       "    <tr>\n",
       "      <th>3</th>\n",
       "      <td>1003</td>\n",
       "      <td>23</td>\n",
       "      <td>2019-01-01</td>\n",
       "      <td>Москва</td>\n",
       "      <td>Белла</td>\n",
       "      <td>Белякова</td>\n",
       "      <td>2018-08-17</td>\n",
       "      <td>ultra</td>\n",
       "    </tr>\n",
       "    <tr>\n",
       "      <th>4</th>\n",
       "      <td>1004</td>\n",
       "      <td>68</td>\n",
       "      <td>2019-01-01</td>\n",
       "      <td>Новокузнецк</td>\n",
       "      <td>Татьяна</td>\n",
       "      <td>Авдеенко</td>\n",
       "      <td>2018-05-14</td>\n",
       "      <td>ultra</td>\n",
       "    </tr>\n",
       "    <tr>\n",
       "      <th>5</th>\n",
       "      <td>1005</td>\n",
       "      <td>67</td>\n",
       "      <td>2019-01-01</td>\n",
       "      <td>Набережные Челны</td>\n",
       "      <td>Афанасий</td>\n",
       "      <td>Горлов</td>\n",
       "      <td>2018-01-25</td>\n",
       "      <td>smart</td>\n",
       "    </tr>\n",
       "    <tr>\n",
       "      <th>6</th>\n",
       "      <td>1006</td>\n",
       "      <td>21</td>\n",
       "      <td>2019-01-01</td>\n",
       "      <td>Ульяновск</td>\n",
       "      <td>Леонид</td>\n",
       "      <td>Ермолаев</td>\n",
       "      <td>2018-02-26</td>\n",
       "      <td>smart</td>\n",
       "    </tr>\n",
       "    <tr>\n",
       "      <th>7</th>\n",
       "      <td>1007</td>\n",
       "      <td>65</td>\n",
       "      <td>2019-01-01</td>\n",
       "      <td>Москва</td>\n",
       "      <td>Юна</td>\n",
       "      <td>Березина</td>\n",
       "      <td>2018-04-19</td>\n",
       "      <td>smart</td>\n",
       "    </tr>\n",
       "    <tr>\n",
       "      <th>8</th>\n",
       "      <td>1008</td>\n",
       "      <td>63</td>\n",
       "      <td>2019-01-01</td>\n",
       "      <td>Челябинск</td>\n",
       "      <td>Рустэм</td>\n",
       "      <td>Пономарёв</td>\n",
       "      <td>2018-12-19</td>\n",
       "      <td>smart</td>\n",
       "    </tr>\n",
       "    <tr>\n",
       "      <th>9</th>\n",
       "      <td>1009</td>\n",
       "      <td>24</td>\n",
       "      <td>2019-01-01</td>\n",
       "      <td>Пермь</td>\n",
       "      <td>Василиса</td>\n",
       "      <td>Блинова</td>\n",
       "      <td>2018-03-22</td>\n",
       "      <td>smart</td>\n",
       "    </tr>\n",
       "  </tbody>\n",
       "</table>\n",
       "</div>"
      ],
      "text/plain": [
       "   user_id  age  churn_date              city first_name  last_name  \\\n",
       "0     1000   52  2019-01-01         Краснодар     Рафаил  Верещагин   \n",
       "1     1001   41  2019-01-01            Москва       Иван       Ежов   \n",
       "2     1002   59  2019-01-01       Стерлитамак    Евгений  Абрамович   \n",
       "3     1003   23  2019-01-01            Москва      Белла   Белякова   \n",
       "4     1004   68  2019-01-01       Новокузнецк    Татьяна   Авдеенко   \n",
       "5     1005   67  2019-01-01  Набережные Челны   Афанасий     Горлов   \n",
       "6     1006   21  2019-01-01         Ульяновск     Леонид   Ермолаев   \n",
       "7     1007   65  2019-01-01            Москва        Юна   Березина   \n",
       "8     1008   63  2019-01-01         Челябинск     Рустэм  Пономарёв   \n",
       "9     1009   24  2019-01-01             Пермь   Василиса    Блинова   \n",
       "\n",
       "    reg_date tariff  \n",
       "0 2018-05-25  ultra  \n",
       "1 2018-11-01  smart  \n",
       "2 2018-06-17  smart  \n",
       "3 2018-08-17  ultra  \n",
       "4 2018-05-14  ultra  \n",
       "5 2018-01-25  smart  \n",
       "6 2018-02-26  smart  \n",
       "7 2018-04-19  smart  \n",
       "8 2018-12-19  smart  \n",
       "9 2018-03-22  smart  "
      ]
     },
     "metadata": {},
     "output_type": "display_data"
    },
    {
     "name": "stdout",
     "output_type": "stream",
     "text": [
      "\n",
      "Информация о таблице:\n",
      "      \n",
      "<class 'pandas.core.frame.DataFrame'>\n",
      "RangeIndex: 500 entries, 0 to 499\n",
      "Data columns (total 8 columns):\n",
      " #   Column      Non-Null Count  Dtype         \n",
      "---  ------      --------------  -----         \n",
      " 0   user_id     500 non-null    int64         \n",
      " 1   age         500 non-null    int64         \n",
      " 2   churn_date  500 non-null    object        \n",
      " 3   city        500 non-null    object        \n",
      " 4   first_name  500 non-null    object        \n",
      " 5   last_name   500 non-null    object        \n",
      " 6   reg_date    500 non-null    datetime64[ns]\n",
      " 7   tariff      500 non-null    object        \n",
      "dtypes: datetime64[ns](1), int64(2), object(5)\n",
      "memory usage: 31.4+ KB\n"
     ]
    },
    {
     "data": {
      "text/plain": [
       "None"
      ]
     },
     "metadata": {},
     "output_type": "display_data"
    }
   ],
   "source": [
    "#приведем даты к соотвествующему типу данных\n",
    "users['reg_date'] = pd.to_datetime(users['reg_date'], format='%Y-%m-%d')\n",
    "users['churn_date'] = pd.to_datetime(users['churn_date'], format='%Y-%m-%d')\n",
    "\n",
    "#в столбце churn_date заполним пустые ячейки датой, выходящей за пределы среза\n",
    "users['churn_date'].fillna('2019-01-01', inplace=True) \n",
    "\n",
    "display(users.head(10))\n",
    "\n",
    "print('''\n",
    "Информация о таблице:\n",
    "      ''')\n",
    "display(users.info())"
   ]
  },
  {
   "cell_type": "markdown",
   "metadata": {},
   "source": [
    "## Расчеты и добавление результатов в таблицу"
   ]
  },
  {
   "cell_type": "markdown",
   "metadata": {},
   "source": [
    "Необходимо посчитать для каждого пользователя:\n",
    "\n",
    "- количество сделанных звонков и израсходованных минут разговора по месяцам;\n",
    "- количество отправленных сообщений по месяцам;\n",
    "- объем израсходованного интернет-трафика по месяцам;\n",
    "- помесячную выручку с каждого пользователя (вычтите бесплатный лимит из суммарного количества звонков, сообщений и интернет--трафика; остаток умножьте на значение из тарифного плана; прибавьте абонентскую плату, соответствующую тарифному плану)."
   ]
  },
  {
   "cell_type": "markdown",
   "metadata": {},
   "source": [
    "### Сводные таблицы по метрикам"
   ]
  },
  {
   "cell_type": "code",
   "execution_count": 11,
   "metadata": {},
   "outputs": [
    {
     "data": {
      "text/html": [
       "<div>\n",
       "<style scoped>\n",
       "    .dataframe tbody tr th:only-of-type {\n",
       "        vertical-align: middle;\n",
       "    }\n",
       "\n",
       "    .dataframe tbody tr th {\n",
       "        vertical-align: top;\n",
       "    }\n",
       "\n",
       "    .dataframe thead th {\n",
       "        text-align: right;\n",
       "    }\n",
       "</style>\n",
       "<table border=\"1\" class=\"dataframe\">\n",
       "  <thead>\n",
       "    <tr style=\"text-align: right;\">\n",
       "      <th></th>\n",
       "      <th></th>\n",
       "      <th>calls_duration</th>\n",
       "      <th>calls_amount</th>\n",
       "    </tr>\n",
       "    <tr>\n",
       "      <th>user_id</th>\n",
       "      <th>month</th>\n",
       "      <th></th>\n",
       "      <th></th>\n",
       "    </tr>\n",
       "  </thead>\n",
       "  <tbody>\n",
       "    <tr>\n",
       "      <th rowspan=\"8\" valign=\"top\">1000</th>\n",
       "      <th>5</th>\n",
       "      <td>159</td>\n",
       "      <td>22</td>\n",
       "    </tr>\n",
       "    <tr>\n",
       "      <th>6</th>\n",
       "      <td>172</td>\n",
       "      <td>43</td>\n",
       "    </tr>\n",
       "    <tr>\n",
       "      <th>7</th>\n",
       "      <td>340</td>\n",
       "      <td>47</td>\n",
       "    </tr>\n",
       "    <tr>\n",
       "      <th>8</th>\n",
       "      <td>408</td>\n",
       "      <td>52</td>\n",
       "    </tr>\n",
       "    <tr>\n",
       "      <th>9</th>\n",
       "      <td>466</td>\n",
       "      <td>58</td>\n",
       "    </tr>\n",
       "    <tr>\n",
       "      <th>10</th>\n",
       "      <td>350</td>\n",
       "      <td>57</td>\n",
       "    </tr>\n",
       "    <tr>\n",
       "      <th>11</th>\n",
       "      <td>338</td>\n",
       "      <td>43</td>\n",
       "    </tr>\n",
       "    <tr>\n",
       "      <th>12</th>\n",
       "      <td>333</td>\n",
       "      <td>46</td>\n",
       "    </tr>\n",
       "    <tr>\n",
       "      <th rowspan=\"2\" valign=\"top\">1001</th>\n",
       "      <th>11</th>\n",
       "      <td>430</td>\n",
       "      <td>59</td>\n",
       "    </tr>\n",
       "    <tr>\n",
       "      <th>12</th>\n",
       "      <td>414</td>\n",
       "      <td>63</td>\n",
       "    </tr>\n",
       "  </tbody>\n",
       "</table>\n",
       "</div>"
      ],
      "text/plain": [
       "               calls_duration  calls_amount\n",
       "user_id month                              \n",
       "1000    5                 159            22\n",
       "        6                 172            43\n",
       "        7                 340            47\n",
       "        8                 408            52\n",
       "        9                 466            58\n",
       "        10                350            57\n",
       "        11                338            43\n",
       "        12                333            46\n",
       "1001    11                430            59\n",
       "        12                414            63"
      ]
     },
     "execution_count": 11,
     "metadata": {},
     "output_type": "execute_result"
    }
   ],
   "source": [
    "#создадим сводную таблицу с количеством сделанных звонков и израсходованных минут разговора по месяцам\n",
    "\n",
    "calls_grouped = calls.pivot_table(index=['user_id', 'month'], values='duration', aggfunc=['sum', 'count'])\n",
    "calls_grouped.reset_index()\n",
    "calls_grouped.columns = ['calls_duration', 'calls_amount']\n",
    "\n",
    "calls_grouped.head(10)"
   ]
  },
  {
   "cell_type": "code",
   "execution_count": 12,
   "metadata": {},
   "outputs": [
    {
     "data": {
      "text/html": [
       "<div>\n",
       "<style scoped>\n",
       "    .dataframe tbody tr th:only-of-type {\n",
       "        vertical-align: middle;\n",
       "    }\n",
       "\n",
       "    .dataframe tbody tr th {\n",
       "        vertical-align: top;\n",
       "    }\n",
       "\n",
       "    .dataframe thead th {\n",
       "        text-align: right;\n",
       "    }\n",
       "</style>\n",
       "<table border=\"1\" class=\"dataframe\">\n",
       "  <thead>\n",
       "    <tr style=\"text-align: right;\">\n",
       "      <th></th>\n",
       "      <th></th>\n",
       "      <th>messages_amount</th>\n",
       "    </tr>\n",
       "    <tr>\n",
       "      <th>user_id</th>\n",
       "      <th>month</th>\n",
       "      <th></th>\n",
       "    </tr>\n",
       "  </thead>\n",
       "  <tbody>\n",
       "    <tr>\n",
       "      <th rowspan=\"8\" valign=\"top\">1000</th>\n",
       "      <th>5</th>\n",
       "      <td>22</td>\n",
       "    </tr>\n",
       "    <tr>\n",
       "      <th>6</th>\n",
       "      <td>60</td>\n",
       "    </tr>\n",
       "    <tr>\n",
       "      <th>7</th>\n",
       "      <td>75</td>\n",
       "    </tr>\n",
       "    <tr>\n",
       "      <th>8</th>\n",
       "      <td>81</td>\n",
       "    </tr>\n",
       "    <tr>\n",
       "      <th>9</th>\n",
       "      <td>57</td>\n",
       "    </tr>\n",
       "    <tr>\n",
       "      <th>10</th>\n",
       "      <td>73</td>\n",
       "    </tr>\n",
       "    <tr>\n",
       "      <th>11</th>\n",
       "      <td>58</td>\n",
       "    </tr>\n",
       "    <tr>\n",
       "      <th>12</th>\n",
       "      <td>70</td>\n",
       "    </tr>\n",
       "    <tr>\n",
       "      <th rowspan=\"2\" valign=\"top\">1002</th>\n",
       "      <th>6</th>\n",
       "      <td>4</td>\n",
       "    </tr>\n",
       "    <tr>\n",
       "      <th>7</th>\n",
       "      <td>11</td>\n",
       "    </tr>\n",
       "  </tbody>\n",
       "</table>\n",
       "</div>"
      ],
      "text/plain": [
       "               messages_amount\n",
       "user_id month                 \n",
       "1000    5                   22\n",
       "        6                   60\n",
       "        7                   75\n",
       "        8                   81\n",
       "        9                   57\n",
       "        10                  73\n",
       "        11                  58\n",
       "        12                  70\n",
       "1002    6                    4\n",
       "        7                   11"
      ]
     },
     "execution_count": 12,
     "metadata": {},
     "output_type": "execute_result"
    }
   ],
   "source": [
    "#создадим сводную таблицу с количеством отправленных сообщений по месяцам\n",
    "\n",
    "messages_grouped = messages.pivot_table(index=['user_id', 'month'], values='id', aggfunc='count')\n",
    "messages_grouped.reset_index()\n",
    "messages_grouped.columns=['messages_amount']\n",
    "\n",
    "messages_grouped.head(10)"
   ]
  },
  {
   "cell_type": "code",
   "execution_count": 13,
   "metadata": {},
   "outputs": [
    {
     "data": {
      "text/html": [
       "<div>\n",
       "<style scoped>\n",
       "    .dataframe tbody tr th:only-of-type {\n",
       "        vertical-align: middle;\n",
       "    }\n",
       "\n",
       "    .dataframe tbody tr th {\n",
       "        vertical-align: top;\n",
       "    }\n",
       "\n",
       "    .dataframe thead th {\n",
       "        text-align: right;\n",
       "    }\n",
       "</style>\n",
       "<table border=\"1\" class=\"dataframe\">\n",
       "  <thead>\n",
       "    <tr style=\"text-align: right;\">\n",
       "      <th></th>\n",
       "      <th></th>\n",
       "      <th>gb_used</th>\n",
       "    </tr>\n",
       "    <tr>\n",
       "      <th>user_id</th>\n",
       "      <th>month</th>\n",
       "      <th></th>\n",
       "    </tr>\n",
       "  </thead>\n",
       "  <tbody>\n",
       "    <tr>\n",
       "      <th rowspan=\"8\" valign=\"top\">1000</th>\n",
       "      <th>5</th>\n",
       "      <td>2.200674</td>\n",
       "    </tr>\n",
       "    <tr>\n",
       "      <th>6</th>\n",
       "      <td>22.689229</td>\n",
       "    </tr>\n",
       "    <tr>\n",
       "      <th>7</th>\n",
       "      <td>13.675430</td>\n",
       "    </tr>\n",
       "    <tr>\n",
       "      <th>8</th>\n",
       "      <td>13.726494</td>\n",
       "    </tr>\n",
       "    <tr>\n",
       "      <th>9</th>\n",
       "      <td>14.227451</td>\n",
       "    </tr>\n",
       "    <tr>\n",
       "      <th>10</th>\n",
       "      <td>14.357900</td>\n",
       "    </tr>\n",
       "    <tr>\n",
       "      <th>11</th>\n",
       "      <td>14.410615</td>\n",
       "    </tr>\n",
       "    <tr>\n",
       "      <th>12</th>\n",
       "      <td>9.587510</td>\n",
       "    </tr>\n",
       "    <tr>\n",
       "      <th rowspan=\"2\" valign=\"top\">1001</th>\n",
       "      <th>11</th>\n",
       "      <td>17.997402</td>\n",
       "    </tr>\n",
       "    <tr>\n",
       "      <th>12</th>\n",
       "      <td>13.707676</td>\n",
       "    </tr>\n",
       "  </tbody>\n",
       "</table>\n",
       "</div>"
      ],
      "text/plain": [
       "                 gb_used\n",
       "user_id month           \n",
       "1000    5       2.200674\n",
       "        6      22.689229\n",
       "        7      13.675430\n",
       "        8      13.726494\n",
       "        9      14.227451\n",
       "        10     14.357900\n",
       "        11     14.410615\n",
       "        12      9.587510\n",
       "1001    11     17.997402\n",
       "        12     13.707676"
      ]
     },
     "execution_count": 13,
     "metadata": {},
     "output_type": "execute_result"
    }
   ],
   "source": [
    "#создадим сводную таблицу с объемом израсходованного интернет-трафика по месяцам\n",
    "\n",
    "internet_grouped = internet.pivot_table(index=['user_id', 'month'], values='gb_used', aggfunc=['sum'])\n",
    "internet_grouped.columns = ['gb_used']\n",
    "internet_grouped.reset_index()\n",
    "\n",
    "internet_grouped.head(10)"
   ]
  },
  {
   "cell_type": "markdown",
   "metadata": {},
   "source": [
    "### Объединение сводных таблиц"
   ]
  },
  {
   "cell_type": "code",
   "execution_count": 14,
   "metadata": {},
   "outputs": [
    {
     "data": {
      "text/html": [
       "<div>\n",
       "<style scoped>\n",
       "    .dataframe tbody tr th:only-of-type {\n",
       "        vertical-align: middle;\n",
       "    }\n",
       "\n",
       "    .dataframe tbody tr th {\n",
       "        vertical-align: top;\n",
       "    }\n",
       "\n",
       "    .dataframe thead th {\n",
       "        text-align: right;\n",
       "    }\n",
       "</style>\n",
       "<table border=\"1\" class=\"dataframe\">\n",
       "  <thead>\n",
       "    <tr style=\"text-align: right;\">\n",
       "      <th></th>\n",
       "      <th></th>\n",
       "      <th>calls_duration</th>\n",
       "      <th>calls_amount</th>\n",
       "      <th>gb_used</th>\n",
       "      <th>messages_amount</th>\n",
       "    </tr>\n",
       "    <tr>\n",
       "      <th>user_id</th>\n",
       "      <th>month</th>\n",
       "      <th></th>\n",
       "      <th></th>\n",
       "      <th></th>\n",
       "      <th></th>\n",
       "    </tr>\n",
       "  </thead>\n",
       "  <tbody>\n",
       "    <tr>\n",
       "      <th rowspan=\"8\" valign=\"top\">1000</th>\n",
       "      <th>5</th>\n",
       "      <td>159</td>\n",
       "      <td>22</td>\n",
       "      <td>2.200674</td>\n",
       "      <td>22.0</td>\n",
       "    </tr>\n",
       "    <tr>\n",
       "      <th>6</th>\n",
       "      <td>172</td>\n",
       "      <td>43</td>\n",
       "      <td>22.689229</td>\n",
       "      <td>60.0</td>\n",
       "    </tr>\n",
       "    <tr>\n",
       "      <th>7</th>\n",
       "      <td>340</td>\n",
       "      <td>47</td>\n",
       "      <td>13.675430</td>\n",
       "      <td>75.0</td>\n",
       "    </tr>\n",
       "    <tr>\n",
       "      <th>8</th>\n",
       "      <td>408</td>\n",
       "      <td>52</td>\n",
       "      <td>13.726494</td>\n",
       "      <td>81.0</td>\n",
       "    </tr>\n",
       "    <tr>\n",
       "      <th>9</th>\n",
       "      <td>466</td>\n",
       "      <td>58</td>\n",
       "      <td>14.227451</td>\n",
       "      <td>57.0</td>\n",
       "    </tr>\n",
       "    <tr>\n",
       "      <th>10</th>\n",
       "      <td>350</td>\n",
       "      <td>57</td>\n",
       "      <td>14.357900</td>\n",
       "      <td>73.0</td>\n",
       "    </tr>\n",
       "    <tr>\n",
       "      <th>11</th>\n",
       "      <td>338</td>\n",
       "      <td>43</td>\n",
       "      <td>14.410615</td>\n",
       "      <td>58.0</td>\n",
       "    </tr>\n",
       "    <tr>\n",
       "      <th>12</th>\n",
       "      <td>333</td>\n",
       "      <td>46</td>\n",
       "      <td>9.587510</td>\n",
       "      <td>70.0</td>\n",
       "    </tr>\n",
       "    <tr>\n",
       "      <th rowspan=\"2\" valign=\"top\">1001</th>\n",
       "      <th>11</th>\n",
       "      <td>430</td>\n",
       "      <td>59</td>\n",
       "      <td>17.997402</td>\n",
       "      <td>NaN</td>\n",
       "    </tr>\n",
       "    <tr>\n",
       "      <th>12</th>\n",
       "      <td>414</td>\n",
       "      <td>63</td>\n",
       "      <td>13.707676</td>\n",
       "      <td>NaN</td>\n",
       "    </tr>\n",
       "  </tbody>\n",
       "</table>\n",
       "</div>"
      ],
      "text/plain": [
       "               calls_duration  calls_amount    gb_used  messages_amount\n",
       "user_id month                                                          \n",
       "1000    5                 159            22   2.200674             22.0\n",
       "        6                 172            43  22.689229             60.0\n",
       "        7                 340            47  13.675430             75.0\n",
       "        8                 408            52  13.726494             81.0\n",
       "        9                 466            58  14.227451             57.0\n",
       "        10                350            57  14.357900             73.0\n",
       "        11                338            43  14.410615             58.0\n",
       "        12                333            46   9.587510             70.0\n",
       "1001    11                430            59  17.997402              NaN\n",
       "        12                414            63  13.707676              NaN"
      ]
     },
     "execution_count": 14,
     "metadata": {},
     "output_type": "execute_result"
    }
   ],
   "source": [
    "#соединим полученные таблицы в одну\n",
    "\n",
    "calls_internet_merged = calls_grouped.merge(internet_grouped, on=['user_id', 'month'], how='left')\n",
    "calls_internet_msgs_merged = calls_internet_merged.merge(messages_grouped, on=['user_id', 'month'], how='left')\n",
    "\n",
    "calls_internet_msgs_merged.head(10)\n"
   ]
  },
  {
   "cell_type": "markdown",
   "metadata": {},
   "source": [
    "Чтобы применять эти данные в дальнейших расчетах, добавим к этой таблице данные об юзерах. Так мы получим общий датафрейм, с которым удобно вести расчеты, не прибегая к дополнительным манипуляциям."
   ]
  },
  {
   "cell_type": "code",
   "execution_count": 15,
   "metadata": {},
   "outputs": [
    {
     "data": {
      "text/html": [
       "<div>\n",
       "<style scoped>\n",
       "    .dataframe tbody tr th:only-of-type {\n",
       "        vertical-align: middle;\n",
       "    }\n",
       "\n",
       "    .dataframe tbody tr th {\n",
       "        vertical-align: top;\n",
       "    }\n",
       "\n",
       "    .dataframe thead th {\n",
       "        text-align: right;\n",
       "    }\n",
       "</style>\n",
       "<table border=\"1\" class=\"dataframe\">\n",
       "  <thead>\n",
       "    <tr style=\"text-align: right;\">\n",
       "      <th></th>\n",
       "      <th>user_id</th>\n",
       "      <th>month</th>\n",
       "      <th>calls_duration</th>\n",
       "      <th>calls_amount</th>\n",
       "      <th>gb_used</th>\n",
       "      <th>messages_amount</th>\n",
       "    </tr>\n",
       "  </thead>\n",
       "  <tbody>\n",
       "    <tr>\n",
       "      <th>0</th>\n",
       "      <td>1000</td>\n",
       "      <td>5</td>\n",
       "      <td>159</td>\n",
       "      <td>22</td>\n",
       "      <td>2.200674</td>\n",
       "      <td>22.0</td>\n",
       "    </tr>\n",
       "    <tr>\n",
       "      <th>1</th>\n",
       "      <td>1000</td>\n",
       "      <td>6</td>\n",
       "      <td>172</td>\n",
       "      <td>43</td>\n",
       "      <td>22.689229</td>\n",
       "      <td>60.0</td>\n",
       "    </tr>\n",
       "    <tr>\n",
       "      <th>2</th>\n",
       "      <td>1000</td>\n",
       "      <td>7</td>\n",
       "      <td>340</td>\n",
       "      <td>47</td>\n",
       "      <td>13.675430</td>\n",
       "      <td>75.0</td>\n",
       "    </tr>\n",
       "    <tr>\n",
       "      <th>3</th>\n",
       "      <td>1000</td>\n",
       "      <td>8</td>\n",
       "      <td>408</td>\n",
       "      <td>52</td>\n",
       "      <td>13.726494</td>\n",
       "      <td>81.0</td>\n",
       "    </tr>\n",
       "    <tr>\n",
       "      <th>4</th>\n",
       "      <td>1000</td>\n",
       "      <td>9</td>\n",
       "      <td>466</td>\n",
       "      <td>58</td>\n",
       "      <td>14.227451</td>\n",
       "      <td>57.0</td>\n",
       "    </tr>\n",
       "    <tr>\n",
       "      <th>5</th>\n",
       "      <td>1000</td>\n",
       "      <td>10</td>\n",
       "      <td>350</td>\n",
       "      <td>57</td>\n",
       "      <td>14.357900</td>\n",
       "      <td>73.0</td>\n",
       "    </tr>\n",
       "    <tr>\n",
       "      <th>6</th>\n",
       "      <td>1000</td>\n",
       "      <td>11</td>\n",
       "      <td>338</td>\n",
       "      <td>43</td>\n",
       "      <td>14.410615</td>\n",
       "      <td>58.0</td>\n",
       "    </tr>\n",
       "    <tr>\n",
       "      <th>7</th>\n",
       "      <td>1000</td>\n",
       "      <td>12</td>\n",
       "      <td>333</td>\n",
       "      <td>46</td>\n",
       "      <td>9.587510</td>\n",
       "      <td>70.0</td>\n",
       "    </tr>\n",
       "    <tr>\n",
       "      <th>8</th>\n",
       "      <td>1001</td>\n",
       "      <td>11</td>\n",
       "      <td>430</td>\n",
       "      <td>59</td>\n",
       "      <td>17.997402</td>\n",
       "      <td>NaN</td>\n",
       "    </tr>\n",
       "    <tr>\n",
       "      <th>9</th>\n",
       "      <td>1001</td>\n",
       "      <td>12</td>\n",
       "      <td>414</td>\n",
       "      <td>63</td>\n",
       "      <td>13.707676</td>\n",
       "      <td>NaN</td>\n",
       "    </tr>\n",
       "  </tbody>\n",
       "</table>\n",
       "</div>"
      ],
      "text/plain": [
       "   user_id  month  calls_duration  calls_amount    gb_used  messages_amount\n",
       "0     1000      5             159            22   2.200674             22.0\n",
       "1     1000      6             172            43  22.689229             60.0\n",
       "2     1000      7             340            47  13.675430             75.0\n",
       "3     1000      8             408            52  13.726494             81.0\n",
       "4     1000      9             466            58  14.227451             57.0\n",
       "5     1000     10             350            57  14.357900             73.0\n",
       "6     1000     11             338            43  14.410615             58.0\n",
       "7     1000     12             333            46   9.587510             70.0\n",
       "8     1001     11             430            59  17.997402              NaN\n",
       "9     1001     12             414            63  13.707676              NaN"
      ]
     },
     "execution_count": 15,
     "metadata": {},
     "output_type": "execute_result"
    }
   ],
   "source": [
    "calls_internet_msgs_merged = calls_internet_msgs_merged.reset_index()\n",
    "calls_internet_msgs_merged.head(10)"
   ]
  },
  {
   "cell_type": "code",
   "execution_count": 16,
   "metadata": {},
   "outputs": [
    {
     "data": {
      "text/html": [
       "<div>\n",
       "<style scoped>\n",
       "    .dataframe tbody tr th:only-of-type {\n",
       "        vertical-align: middle;\n",
       "    }\n",
       "\n",
       "    .dataframe tbody tr th {\n",
       "        vertical-align: top;\n",
       "    }\n",
       "\n",
       "    .dataframe thead th {\n",
       "        text-align: right;\n",
       "    }\n",
       "</style>\n",
       "<table border=\"1\" class=\"dataframe\">\n",
       "  <thead>\n",
       "    <tr style=\"text-align: right;\">\n",
       "      <th></th>\n",
       "      <th>user_id</th>\n",
       "      <th>first_name</th>\n",
       "      <th>last_name</th>\n",
       "      <th>age</th>\n",
       "      <th>city</th>\n",
       "      <th>tariff</th>\n",
       "      <th>reg_date</th>\n",
       "      <th>churn_date</th>\n",
       "      <th>month</th>\n",
       "      <th>calls_amount</th>\n",
       "      <th>calls_duration</th>\n",
       "      <th>gb_used</th>\n",
       "      <th>messages_amount</th>\n",
       "    </tr>\n",
       "  </thead>\n",
       "  <tbody>\n",
       "    <tr>\n",
       "      <th>0</th>\n",
       "      <td>1000</td>\n",
       "      <td>Рафаил</td>\n",
       "      <td>Верещагин</td>\n",
       "      <td>52</td>\n",
       "      <td>Краснодар</td>\n",
       "      <td>ultra</td>\n",
       "      <td>2018-05-25</td>\n",
       "      <td>2019-01-01</td>\n",
       "      <td>5.0</td>\n",
       "      <td>22.0</td>\n",
       "      <td>159.0</td>\n",
       "      <td>2.200674</td>\n",
       "      <td>22.0</td>\n",
       "    </tr>\n",
       "    <tr>\n",
       "      <th>1</th>\n",
       "      <td>1000</td>\n",
       "      <td>Рафаил</td>\n",
       "      <td>Верещагин</td>\n",
       "      <td>52</td>\n",
       "      <td>Краснодар</td>\n",
       "      <td>ultra</td>\n",
       "      <td>2018-05-25</td>\n",
       "      <td>2019-01-01</td>\n",
       "      <td>6.0</td>\n",
       "      <td>43.0</td>\n",
       "      <td>172.0</td>\n",
       "      <td>22.689229</td>\n",
       "      <td>60.0</td>\n",
       "    </tr>\n",
       "    <tr>\n",
       "      <th>2</th>\n",
       "      <td>1000</td>\n",
       "      <td>Рафаил</td>\n",
       "      <td>Верещагин</td>\n",
       "      <td>52</td>\n",
       "      <td>Краснодар</td>\n",
       "      <td>ultra</td>\n",
       "      <td>2018-05-25</td>\n",
       "      <td>2019-01-01</td>\n",
       "      <td>7.0</td>\n",
       "      <td>47.0</td>\n",
       "      <td>340.0</td>\n",
       "      <td>13.675430</td>\n",
       "      <td>75.0</td>\n",
       "    </tr>\n",
       "    <tr>\n",
       "      <th>3</th>\n",
       "      <td>1000</td>\n",
       "      <td>Рафаил</td>\n",
       "      <td>Верещагин</td>\n",
       "      <td>52</td>\n",
       "      <td>Краснодар</td>\n",
       "      <td>ultra</td>\n",
       "      <td>2018-05-25</td>\n",
       "      <td>2019-01-01</td>\n",
       "      <td>8.0</td>\n",
       "      <td>52.0</td>\n",
       "      <td>408.0</td>\n",
       "      <td>13.726494</td>\n",
       "      <td>81.0</td>\n",
       "    </tr>\n",
       "    <tr>\n",
       "      <th>4</th>\n",
       "      <td>1000</td>\n",
       "      <td>Рафаил</td>\n",
       "      <td>Верещагин</td>\n",
       "      <td>52</td>\n",
       "      <td>Краснодар</td>\n",
       "      <td>ultra</td>\n",
       "      <td>2018-05-25</td>\n",
       "      <td>2019-01-01</td>\n",
       "      <td>9.0</td>\n",
       "      <td>58.0</td>\n",
       "      <td>466.0</td>\n",
       "      <td>14.227451</td>\n",
       "      <td>57.0</td>\n",
       "    </tr>\n",
       "    <tr>\n",
       "      <th>5</th>\n",
       "      <td>1000</td>\n",
       "      <td>Рафаил</td>\n",
       "      <td>Верещагин</td>\n",
       "      <td>52</td>\n",
       "      <td>Краснодар</td>\n",
       "      <td>ultra</td>\n",
       "      <td>2018-05-25</td>\n",
       "      <td>2019-01-01</td>\n",
       "      <td>10.0</td>\n",
       "      <td>57.0</td>\n",
       "      <td>350.0</td>\n",
       "      <td>14.357900</td>\n",
       "      <td>73.0</td>\n",
       "    </tr>\n",
       "    <tr>\n",
       "      <th>6</th>\n",
       "      <td>1000</td>\n",
       "      <td>Рафаил</td>\n",
       "      <td>Верещагин</td>\n",
       "      <td>52</td>\n",
       "      <td>Краснодар</td>\n",
       "      <td>ultra</td>\n",
       "      <td>2018-05-25</td>\n",
       "      <td>2019-01-01</td>\n",
       "      <td>11.0</td>\n",
       "      <td>43.0</td>\n",
       "      <td>338.0</td>\n",
       "      <td>14.410615</td>\n",
       "      <td>58.0</td>\n",
       "    </tr>\n",
       "    <tr>\n",
       "      <th>7</th>\n",
       "      <td>1000</td>\n",
       "      <td>Рафаил</td>\n",
       "      <td>Верещагин</td>\n",
       "      <td>52</td>\n",
       "      <td>Краснодар</td>\n",
       "      <td>ultra</td>\n",
       "      <td>2018-05-25</td>\n",
       "      <td>2019-01-01</td>\n",
       "      <td>12.0</td>\n",
       "      <td>46.0</td>\n",
       "      <td>333.0</td>\n",
       "      <td>9.587510</td>\n",
       "      <td>70.0</td>\n",
       "    </tr>\n",
       "    <tr>\n",
       "      <th>8</th>\n",
       "      <td>1001</td>\n",
       "      <td>Иван</td>\n",
       "      <td>Ежов</td>\n",
       "      <td>41</td>\n",
       "      <td>Москва</td>\n",
       "      <td>smart</td>\n",
       "      <td>2018-11-01</td>\n",
       "      <td>2019-01-01</td>\n",
       "      <td>11.0</td>\n",
       "      <td>59.0</td>\n",
       "      <td>430.0</td>\n",
       "      <td>17.997402</td>\n",
       "      <td>NaN</td>\n",
       "    </tr>\n",
       "    <tr>\n",
       "      <th>9</th>\n",
       "      <td>1001</td>\n",
       "      <td>Иван</td>\n",
       "      <td>Ежов</td>\n",
       "      <td>41</td>\n",
       "      <td>Москва</td>\n",
       "      <td>smart</td>\n",
       "      <td>2018-11-01</td>\n",
       "      <td>2019-01-01</td>\n",
       "      <td>12.0</td>\n",
       "      <td>63.0</td>\n",
       "      <td>414.0</td>\n",
       "      <td>13.707676</td>\n",
       "      <td>NaN</td>\n",
       "    </tr>\n",
       "  </tbody>\n",
       "</table>\n",
       "</div>"
      ],
      "text/plain": [
       "   user_id first_name  last_name  age       city tariff   reg_date  \\\n",
       "0     1000     Рафаил  Верещагин   52  Краснодар  ultra 2018-05-25   \n",
       "1     1000     Рафаил  Верещагин   52  Краснодар  ultra 2018-05-25   \n",
       "2     1000     Рафаил  Верещагин   52  Краснодар  ultra 2018-05-25   \n",
       "3     1000     Рафаил  Верещагин   52  Краснодар  ultra 2018-05-25   \n",
       "4     1000     Рафаил  Верещагин   52  Краснодар  ultra 2018-05-25   \n",
       "5     1000     Рафаил  Верещагин   52  Краснодар  ultra 2018-05-25   \n",
       "6     1000     Рафаил  Верещагин   52  Краснодар  ultra 2018-05-25   \n",
       "7     1000     Рафаил  Верещагин   52  Краснодар  ultra 2018-05-25   \n",
       "8     1001       Иван       Ежов   41     Москва  smart 2018-11-01   \n",
       "9     1001       Иван       Ежов   41     Москва  smart 2018-11-01   \n",
       "\n",
       "   churn_date  month  calls_amount  calls_duration    gb_used  messages_amount  \n",
       "0  2019-01-01    5.0          22.0           159.0   2.200674             22.0  \n",
       "1  2019-01-01    6.0          43.0           172.0  22.689229             60.0  \n",
       "2  2019-01-01    7.0          47.0           340.0  13.675430             75.0  \n",
       "3  2019-01-01    8.0          52.0           408.0  13.726494             81.0  \n",
       "4  2019-01-01    9.0          58.0           466.0  14.227451             57.0  \n",
       "5  2019-01-01   10.0          57.0           350.0  14.357900             73.0  \n",
       "6  2019-01-01   11.0          43.0           338.0  14.410615             58.0  \n",
       "7  2019-01-01   12.0          46.0           333.0   9.587510             70.0  \n",
       "8  2019-01-01   11.0          59.0           430.0  17.997402              NaN  \n",
       "9  2019-01-01   12.0          63.0           414.0  13.707676              NaN  "
      ]
     },
     "execution_count": 16,
     "metadata": {},
     "output_type": "execute_result"
    }
   ],
   "source": [
    "total_data = calls_internet_msgs_merged.merge(users, on='user_id', how='right').pivot_table(\n",
    "index=['user_id', 'first_name', 'last_name', 'age', 'city', 'tariff', 'reg_date', 'churn_date', 'month'])\n",
    "total_data = total_data.reset_index()\n",
    "total_data.head(10)"
   ]
  },
  {
   "cell_type": "code",
   "execution_count": 17,
   "metadata": {},
   "outputs": [
    {
     "name": "stdout",
     "output_type": "stream",
     "text": [
      "<class 'pandas.core.frame.DataFrame'>\n",
      "RangeIndex: 3174 entries, 0 to 3173\n",
      "Data columns (total 13 columns):\n",
      " #   Column           Non-Null Count  Dtype         \n",
      "---  ------           --------------  -----         \n",
      " 0   user_id          3174 non-null   int64         \n",
      " 1   first_name       3174 non-null   object        \n",
      " 2   last_name        3174 non-null   object        \n",
      " 3   age              3174 non-null   int64         \n",
      " 4   city             3174 non-null   object        \n",
      " 5   tariff           3174 non-null   object        \n",
      " 6   reg_date         3174 non-null   datetime64[ns]\n",
      " 7   churn_date       3174 non-null   object        \n",
      " 8   month            3174 non-null   float64       \n",
      " 9   calls_amount     3174 non-null   float64       \n",
      " 10  calls_duration   3174 non-null   float64       \n",
      " 11  gb_used          3163 non-null   float64       \n",
      " 12  messages_amount  2678 non-null   float64       \n",
      "dtypes: datetime64[ns](1), float64(5), int64(2), object(5)\n",
      "memory usage: 322.5+ KB\n"
     ]
    }
   ],
   "source": [
    "#окончательно проверим таблицу на пропуски\n",
    "total_data.info()"
   ]
  },
  {
   "cell_type": "code",
   "execution_count": 18,
   "metadata": {
    "scrolled": true
   },
   "outputs": [
    {
     "name": "stdout",
     "output_type": "stream",
     "text": [
      "<class 'pandas.core.frame.DataFrame'>\n",
      "RangeIndex: 3174 entries, 0 to 3173\n",
      "Data columns (total 13 columns):\n",
      " #   Column           Non-Null Count  Dtype         \n",
      "---  ------           --------------  -----         \n",
      " 0   user_id          3174 non-null   int64         \n",
      " 1   first_name       3174 non-null   object        \n",
      " 2   last_name        3174 non-null   object        \n",
      " 3   age              3174 non-null   int64         \n",
      " 4   city             3174 non-null   object        \n",
      " 5   tariff           3174 non-null   object        \n",
      " 6   reg_date         3174 non-null   datetime64[ns]\n",
      " 7   churn_date       3174 non-null   object        \n",
      " 8   month            3174 non-null   float64       \n",
      " 9   calls_amount     3174 non-null   float64       \n",
      " 10  calls_duration   3174 non-null   float64       \n",
      " 11  gb_used          3174 non-null   float64       \n",
      " 12  messages_amount  3174 non-null   float64       \n",
      "dtypes: datetime64[ns](1), float64(5), int64(2), object(5)\n",
      "memory usage: 322.5+ KB\n"
     ]
    }
   ],
   "source": [
    "#заменим обнаруженные пропуски в соответствующих столбцах на ноль\n",
    "total_data['messages_amount'].fillna(0, inplace=True)\n",
    "total_data['gb_used'].fillna(0, inplace=True)\n",
    "total_data.info()"
   ]
  },
  {
   "cell_type": "markdown",
   "metadata": {},
   "source": [
    "### Расчет помесячной выручки с пользователя"
   ]
  },
  {
   "cell_type": "markdown",
   "metadata": {},
   "source": [
    "Рассчитаем помесячную выручку с каждого пользователя. Для этого нужно вычесть бесплатный лимит из суммарного количества звонков, сообщений и интернет-трафика, остаток умножить на значение из тарифного плана и затем прибавить абонентскую плату, соответствующую тарифному плану.\n",
    "\n",
    "Для этого напишем функцию, которая будет расчитывать превышения по тарифам, рассчитывать дополнительную плату и возвращать общую сумму затрат по каждой строчке объединенного датафрейма."
   ]
  },
  {
   "cell_type": "code",
   "execution_count": 19,
   "metadata": {},
   "outputs": [],
   "source": [
    "def out_limit(row):\n",
    "    if row['tariff'] == 'smart':\n",
    "        \n",
    "        if row['messages_amount'] > 50:\n",
    "            out_messages = (row['messages_amount'] - 50)*3\n",
    "        else:\n",
    "            out_messages = 0\n",
    "        if row['gb_used'] > 15:\n",
    "            out_gb = (row['gb_used'] - 15)*200\n",
    "        else:\n",
    "            out_gb = 0\n",
    "        if row['calls_amount'] > 500:\n",
    "            out_calls = (row['calls_amount'] - 500)*3\n",
    "        else:\n",
    "            out_calls = 0\n",
    "        total_cost = out_messages + out_gb + out_calls + 550\n",
    "        \n",
    "    if row['tariff'] == 'ultra':\n",
    "        \n",
    "        if row['messages_amount'] > 1000:\n",
    "            out_messages = (row['messages_amount'] - 1000)*1\n",
    "        else:\n",
    "            out_messages = 0\n",
    "        if row['gb_used'] > 30:\n",
    "            out_gb = (row['gb_used'] - 30)*150\n",
    "        else:\n",
    "            out_gb = 0\n",
    "        if row['calls_amount'] > 3900:\n",
    "            out_calls = (row['calls_amount'] - 3000)*1\n",
    "        else:\n",
    "            out_calls = 0\n",
    "            \n",
    "        total_cost = out_messages + out_gb + out_calls + 1950\n",
    "        \n",
    "    return total_cost"
   ]
  },
  {
   "cell_type": "code",
   "execution_count": 20,
   "metadata": {},
   "outputs": [
    {
     "data": {
      "text/html": [
       "<div>\n",
       "<style scoped>\n",
       "    .dataframe tbody tr th:only-of-type {\n",
       "        vertical-align: middle;\n",
       "    }\n",
       "\n",
       "    .dataframe tbody tr th {\n",
       "        vertical-align: top;\n",
       "    }\n",
       "\n",
       "    .dataframe thead th {\n",
       "        text-align: right;\n",
       "    }\n",
       "</style>\n",
       "<table border=\"1\" class=\"dataframe\">\n",
       "  <thead>\n",
       "    <tr style=\"text-align: right;\">\n",
       "      <th></th>\n",
       "      <th>user_id</th>\n",
       "      <th>first_name</th>\n",
       "      <th>last_name</th>\n",
       "      <th>age</th>\n",
       "      <th>city</th>\n",
       "      <th>tariff</th>\n",
       "      <th>reg_date</th>\n",
       "      <th>churn_date</th>\n",
       "      <th>month</th>\n",
       "      <th>calls_amount</th>\n",
       "      <th>calls_duration</th>\n",
       "      <th>gb_used</th>\n",
       "      <th>messages_amount</th>\n",
       "    </tr>\n",
       "  </thead>\n",
       "  <tbody>\n",
       "    <tr>\n",
       "      <th>0</th>\n",
       "      <td>1000</td>\n",
       "      <td>Рафаил</td>\n",
       "      <td>Верещагин</td>\n",
       "      <td>52</td>\n",
       "      <td>Краснодар</td>\n",
       "      <td>ultra</td>\n",
       "      <td>2018-05-25</td>\n",
       "      <td>2019-01-01</td>\n",
       "      <td>5.0</td>\n",
       "      <td>22.0</td>\n",
       "      <td>159.0</td>\n",
       "      <td>3.0</td>\n",
       "      <td>22.0</td>\n",
       "    </tr>\n",
       "    <tr>\n",
       "      <th>1</th>\n",
       "      <td>1000</td>\n",
       "      <td>Рафаил</td>\n",
       "      <td>Верещагин</td>\n",
       "      <td>52</td>\n",
       "      <td>Краснодар</td>\n",
       "      <td>ultra</td>\n",
       "      <td>2018-05-25</td>\n",
       "      <td>2019-01-01</td>\n",
       "      <td>6.0</td>\n",
       "      <td>43.0</td>\n",
       "      <td>172.0</td>\n",
       "      <td>23.0</td>\n",
       "      <td>60.0</td>\n",
       "    </tr>\n",
       "    <tr>\n",
       "      <th>2</th>\n",
       "      <td>1000</td>\n",
       "      <td>Рафаил</td>\n",
       "      <td>Верещагин</td>\n",
       "      <td>52</td>\n",
       "      <td>Краснодар</td>\n",
       "      <td>ultra</td>\n",
       "      <td>2018-05-25</td>\n",
       "      <td>2019-01-01</td>\n",
       "      <td>7.0</td>\n",
       "      <td>47.0</td>\n",
       "      <td>340.0</td>\n",
       "      <td>14.0</td>\n",
       "      <td>75.0</td>\n",
       "    </tr>\n",
       "    <tr>\n",
       "      <th>3</th>\n",
       "      <td>1000</td>\n",
       "      <td>Рафаил</td>\n",
       "      <td>Верещагин</td>\n",
       "      <td>52</td>\n",
       "      <td>Краснодар</td>\n",
       "      <td>ultra</td>\n",
       "      <td>2018-05-25</td>\n",
       "      <td>2019-01-01</td>\n",
       "      <td>8.0</td>\n",
       "      <td>52.0</td>\n",
       "      <td>408.0</td>\n",
       "      <td>14.0</td>\n",
       "      <td>81.0</td>\n",
       "    </tr>\n",
       "    <tr>\n",
       "      <th>4</th>\n",
       "      <td>1000</td>\n",
       "      <td>Рафаил</td>\n",
       "      <td>Верещагин</td>\n",
       "      <td>52</td>\n",
       "      <td>Краснодар</td>\n",
       "      <td>ultra</td>\n",
       "      <td>2018-05-25</td>\n",
       "      <td>2019-01-01</td>\n",
       "      <td>9.0</td>\n",
       "      <td>58.0</td>\n",
       "      <td>466.0</td>\n",
       "      <td>15.0</td>\n",
       "      <td>57.0</td>\n",
       "    </tr>\n",
       "  </tbody>\n",
       "</table>\n",
       "</div>"
      ],
      "text/plain": [
       "   user_id first_name  last_name  age       city tariff   reg_date  \\\n",
       "0     1000     Рафаил  Верещагин   52  Краснодар  ultra 2018-05-25   \n",
       "1     1000     Рафаил  Верещагин   52  Краснодар  ultra 2018-05-25   \n",
       "2     1000     Рафаил  Верещагин   52  Краснодар  ultra 2018-05-25   \n",
       "3     1000     Рафаил  Верещагин   52  Краснодар  ultra 2018-05-25   \n",
       "4     1000     Рафаил  Верещагин   52  Краснодар  ultra 2018-05-25   \n",
       "\n",
       "   churn_date  month  calls_amount  calls_duration  gb_used  messages_amount  \n",
       "0  2019-01-01    5.0          22.0           159.0      3.0             22.0  \n",
       "1  2019-01-01    6.0          43.0           172.0     23.0             60.0  \n",
       "2  2019-01-01    7.0          47.0           340.0     14.0             75.0  \n",
       "3  2019-01-01    8.0          52.0           408.0     14.0             81.0  \n",
       "4  2019-01-01    9.0          58.0           466.0     15.0             57.0  "
      ]
     },
     "execution_count": 20,
     "metadata": {},
     "output_type": "execute_result"
    }
   ],
   "source": [
    "#перед расчетами округлим в большую сторону данные по столбцу с интернет-трафиком\n",
    "\n",
    "total_data['gb_used'] = total_data['gb_used'].apply(np.ceil)\n",
    "total_data.head(5)"
   ]
  },
  {
   "cell_type": "code",
   "execution_count": 21,
   "metadata": {},
   "outputs": [
    {
     "data": {
      "text/html": [
       "<div>\n",
       "<style scoped>\n",
       "    .dataframe tbody tr th:only-of-type {\n",
       "        vertical-align: middle;\n",
       "    }\n",
       "\n",
       "    .dataframe tbody tr th {\n",
       "        vertical-align: top;\n",
       "    }\n",
       "\n",
       "    .dataframe thead th {\n",
       "        text-align: right;\n",
       "    }\n",
       "</style>\n",
       "<table border=\"1\" class=\"dataframe\">\n",
       "  <thead>\n",
       "    <tr style=\"text-align: right;\">\n",
       "      <th></th>\n",
       "      <th>user_id</th>\n",
       "      <th>first_name</th>\n",
       "      <th>last_name</th>\n",
       "      <th>age</th>\n",
       "      <th>city</th>\n",
       "      <th>tariff</th>\n",
       "      <th>reg_date</th>\n",
       "      <th>churn_date</th>\n",
       "      <th>month</th>\n",
       "      <th>calls_amount</th>\n",
       "      <th>calls_duration</th>\n",
       "      <th>gb_used</th>\n",
       "      <th>messages_amount</th>\n",
       "      <th>total_cost</th>\n",
       "    </tr>\n",
       "  </thead>\n",
       "  <tbody>\n",
       "    <tr>\n",
       "      <th>0</th>\n",
       "      <td>1000</td>\n",
       "      <td>Рафаил</td>\n",
       "      <td>Верещагин</td>\n",
       "      <td>52</td>\n",
       "      <td>Краснодар</td>\n",
       "      <td>ultra</td>\n",
       "      <td>2018-05-25</td>\n",
       "      <td>2019-01-01</td>\n",
       "      <td>5.0</td>\n",
       "      <td>22.0</td>\n",
       "      <td>159.0</td>\n",
       "      <td>3.0</td>\n",
       "      <td>22.0</td>\n",
       "      <td>1950.0</td>\n",
       "    </tr>\n",
       "    <tr>\n",
       "      <th>1</th>\n",
       "      <td>1000</td>\n",
       "      <td>Рафаил</td>\n",
       "      <td>Верещагин</td>\n",
       "      <td>52</td>\n",
       "      <td>Краснодар</td>\n",
       "      <td>ultra</td>\n",
       "      <td>2018-05-25</td>\n",
       "      <td>2019-01-01</td>\n",
       "      <td>6.0</td>\n",
       "      <td>43.0</td>\n",
       "      <td>172.0</td>\n",
       "      <td>23.0</td>\n",
       "      <td>60.0</td>\n",
       "      <td>1950.0</td>\n",
       "    </tr>\n",
       "    <tr>\n",
       "      <th>2</th>\n",
       "      <td>1000</td>\n",
       "      <td>Рафаил</td>\n",
       "      <td>Верещагин</td>\n",
       "      <td>52</td>\n",
       "      <td>Краснодар</td>\n",
       "      <td>ultra</td>\n",
       "      <td>2018-05-25</td>\n",
       "      <td>2019-01-01</td>\n",
       "      <td>7.0</td>\n",
       "      <td>47.0</td>\n",
       "      <td>340.0</td>\n",
       "      <td>14.0</td>\n",
       "      <td>75.0</td>\n",
       "      <td>1950.0</td>\n",
       "    </tr>\n",
       "    <tr>\n",
       "      <th>3</th>\n",
       "      <td>1000</td>\n",
       "      <td>Рафаил</td>\n",
       "      <td>Верещагин</td>\n",
       "      <td>52</td>\n",
       "      <td>Краснодар</td>\n",
       "      <td>ultra</td>\n",
       "      <td>2018-05-25</td>\n",
       "      <td>2019-01-01</td>\n",
       "      <td>8.0</td>\n",
       "      <td>52.0</td>\n",
       "      <td>408.0</td>\n",
       "      <td>14.0</td>\n",
       "      <td>81.0</td>\n",
       "      <td>1950.0</td>\n",
       "    </tr>\n",
       "    <tr>\n",
       "      <th>4</th>\n",
       "      <td>1000</td>\n",
       "      <td>Рафаил</td>\n",
       "      <td>Верещагин</td>\n",
       "      <td>52</td>\n",
       "      <td>Краснодар</td>\n",
       "      <td>ultra</td>\n",
       "      <td>2018-05-25</td>\n",
       "      <td>2019-01-01</td>\n",
       "      <td>9.0</td>\n",
       "      <td>58.0</td>\n",
       "      <td>466.0</td>\n",
       "      <td>15.0</td>\n",
       "      <td>57.0</td>\n",
       "      <td>1950.0</td>\n",
       "    </tr>\n",
       "  </tbody>\n",
       "</table>\n",
       "</div>"
      ],
      "text/plain": [
       "   user_id first_name  last_name  age       city tariff   reg_date  \\\n",
       "0     1000     Рафаил  Верещагин   52  Краснодар  ultra 2018-05-25   \n",
       "1     1000     Рафаил  Верещагин   52  Краснодар  ultra 2018-05-25   \n",
       "2     1000     Рафаил  Верещагин   52  Краснодар  ultra 2018-05-25   \n",
       "3     1000     Рафаил  Верещагин   52  Краснодар  ultra 2018-05-25   \n",
       "4     1000     Рафаил  Верещагин   52  Краснодар  ultra 2018-05-25   \n",
       "\n",
       "   churn_date  month  calls_amount  calls_duration  gb_used  messages_amount  \\\n",
       "0  2019-01-01    5.0          22.0           159.0      3.0             22.0   \n",
       "1  2019-01-01    6.0          43.0           172.0     23.0             60.0   \n",
       "2  2019-01-01    7.0          47.0           340.0     14.0             75.0   \n",
       "3  2019-01-01    8.0          52.0           408.0     14.0             81.0   \n",
       "4  2019-01-01    9.0          58.0           466.0     15.0             57.0   \n",
       "\n",
       "   total_cost  \n",
       "0      1950.0  \n",
       "1      1950.0  \n",
       "2      1950.0  \n",
       "3      1950.0  \n",
       "4      1950.0  "
      ]
     },
     "execution_count": 21,
     "metadata": {},
     "output_type": "execute_result"
    }
   ],
   "source": [
    "#применяем функцию\n",
    "total_data['total_cost'] = total_data.apply(out_limit, axis=1)\n",
    "total_data.head(5)\n"
   ]
  },
  {
   "cell_type": "markdown",
   "metadata": {},
   "source": [
    "## Исследовательский анализ данных"
   ]
  },
  {
   "cell_type": "markdown",
   "metadata": {},
   "source": [
    "Опишем поведение клиентов оператора, исходя из выборки. Вопросы, которые нужно раскрыть:\n",
    "\n",
    "- Сколько минут разговора, сколько сообщений и какой объём интернет-трафика требуется пользователям каждого тарифа в месяц?\n",
    "- Посчитать среднее количество, дисперсию и стандартное отклонение. Построить гистограммы. Описать распределения."
   ]
  },
  {
   "cell_type": "markdown",
   "metadata": {},
   "source": [
    "### Метрики тарифов"
   ]
  },
  {
   "cell_type": "code",
   "execution_count": 22,
   "metadata": {},
   "outputs": [
    {
     "name": "stdout",
     "output_type": "stream",
     "text": [
      "<class 'pandas.core.frame.DataFrame'>\n",
      "Int64Index: 2223 entries, 8 to 3173\n",
      "Data columns (total 14 columns):\n",
      " #   Column           Non-Null Count  Dtype         \n",
      "---  ------           --------------  -----         \n",
      " 0   user_id          2223 non-null   int64         \n",
      " 1   first_name       2223 non-null   object        \n",
      " 2   last_name        2223 non-null   object        \n",
      " 3   age              2223 non-null   int64         \n",
      " 4   city             2223 non-null   object        \n",
      " 5   tariff           2223 non-null   object        \n",
      " 6   reg_date         2223 non-null   datetime64[ns]\n",
      " 7   churn_date       2223 non-null   object        \n",
      " 8   month            2223 non-null   float64       \n",
      " 9   calls_amount     2223 non-null   float64       \n",
      " 10  calls_duration   2223 non-null   float64       \n",
      " 11  gb_used          2223 non-null   float64       \n",
      " 12  messages_amount  2223 non-null   float64       \n",
      " 13  total_cost       2223 non-null   float64       \n",
      "dtypes: datetime64[ns](1), float64(6), int64(2), object(5)\n",
      "memory usage: 260.5+ KB\n"
     ]
    },
    {
     "data": {
      "text/plain": [
       "None"
      ]
     },
     "metadata": {},
     "output_type": "display_data"
    },
    {
     "name": "stdout",
     "output_type": "stream",
     "text": [
      "<class 'pandas.core.frame.DataFrame'>\n",
      "Int64Index: 951 entries, 0 to 3150\n",
      "Data columns (total 14 columns):\n",
      " #   Column           Non-Null Count  Dtype         \n",
      "---  ------           --------------  -----         \n",
      " 0   user_id          951 non-null    int64         \n",
      " 1   first_name       951 non-null    object        \n",
      " 2   last_name        951 non-null    object        \n",
      " 3   age              951 non-null    int64         \n",
      " 4   city             951 non-null    object        \n",
      " 5   tariff           951 non-null    object        \n",
      " 6   reg_date         951 non-null    datetime64[ns]\n",
      " 7   churn_date       951 non-null    object        \n",
      " 8   month            951 non-null    float64       \n",
      " 9   calls_amount     951 non-null    float64       \n",
      " 10  calls_duration   951 non-null    float64       \n",
      " 11  gb_used          951 non-null    float64       \n",
      " 12  messages_amount  951 non-null    float64       \n",
      " 13  total_cost       951 non-null    float64       \n",
      "dtypes: datetime64[ns](1), float64(6), int64(2), object(5)\n",
      "memory usage: 111.4+ KB\n"
     ]
    },
    {
     "data": {
      "text/plain": [
       "None"
      ]
     },
     "metadata": {},
     "output_type": "display_data"
    }
   ],
   "source": [
    "#создадим таблицы, содержащие в себе данные по пользователям каждого из тарифов\n",
    "smart_data = total_data.query('tariff == \"smart\"')\n",
    "ultra_data = total_data.query('tariff == \"ultra\"')\n",
    "display(smart_data.info(0))\n",
    "display(ultra_data.info(0))"
   ]
  },
  {
   "cell_type": "markdown",
   "metadata": {},
   "source": [
    "Наблюдение: тарифом SMART пользуются в два раза больше людей, чем ULTRA"
   ]
  },
  {
   "cell_type": "code",
   "execution_count": 23,
   "metadata": {},
   "outputs": [
    {
     "name": "stdout",
     "output_type": "stream",
     "text": [
      "Общая выручка SMART 2591434.0\n",
      "Общая выручка ULTRA 1969500.0\n"
     ]
    }
   ],
   "source": [
    "print('Общая выручка SMART', smart_data['total_cost'].sum())\n",
    "print('Общая выручка ULTRA',ultra_data['total_cost'].sum())"
   ]
  },
  {
   "cell_type": "code",
   "execution_count": 24,
   "metadata": {},
   "outputs": [
    {
     "name": "stdout",
     "output_type": "stream",
     "text": [
      "Метрики тарифа SMART\n",
      "\n",
      "calls_duration :\n",
      "Дисперсия 35828.07\n",
      "Ст. отклонение 189.28\n",
      "Среднее 419.06\n",
      "\n",
      "gb_used :\n",
      "Дисперсия 33.08\n",
      "Ст. отклонение 5.75\n",
      "Среднее 16.33\n",
      "\n",
      "messages_amount :\n",
      "Дисперсия 798.24\n",
      "Ст. отклонение 28.25\n",
      "Среднее 33.4\n",
      "\n",
      "total_cost :\n",
      "Дисперсия 549208.67\n",
      "Ст. отклонение 741.09\n",
      "Среднее 1165.74\n",
      "\n",
      "Метрики тарифа ULTRA\n",
      "\n",
      "calls_duration :\n",
      "Дисперсия 94104.36\n",
      "Ст. отклонение 306.76\n",
      "Среднее 545.45\n",
      "\n",
      "gb_used :\n",
      "Дисперсия 97.72\n",
      "Ст. отклонение 9.89\n",
      "Среднее 19.49\n",
      "\n",
      "messages_amount :\n",
      "Дисперсия 2196.42\n",
      "Ст. отклонение 46.87\n",
      "Среднее 49.03\n",
      "\n",
      "total_cost :\n",
      "Дисперсия 143810.72\n",
      "Ст. отклонение 379.22\n",
      "Среднее 2070.98\n",
      "\n"
     ]
    }
   ],
   "source": [
    "colums = ['calls_duration', 'gb_used', 'messages_amount', 'total_cost']\n",
    "\n",
    "#функция для подсчета метрик кажого тарифа - дисперсии, отклонения и среднего\n",
    "def var_std_mean(row):\n",
    "    for col in colums:\n",
    "        print(col, ':')\n",
    "        variance = np.var(row[col])\n",
    "        std = variance**0.5\n",
    "        mean = row[col].mean()\n",
    "        print('Дисперсия', variance.round(2))\n",
    "        print('Ст. отклонение', std.round(2))\n",
    "        print('Среднее', mean.round(2))\n",
    "        print()\n",
    "        \n",
    "#рассчитаем для каждого из тарифов\n",
    "        \n",
    "print('Метрики тарифа SMART')\n",
    "print()\n",
    "var_std_mean(smart_data)\n",
    "\n",
    "print('Метрики тарифа ULTRA')\n",
    "print()\n",
    "var_std_mean(ultra_data)      "
   ]
  },
  {
   "cell_type": "markdown",
   "metadata": {},
   "source": [
    "Выводы:\n",
    "\n",
    "Очень большое стандартное отклонение у конечного платежа тарифа Smart (741р), что говорит о большом разбросе в оплате пользователями. Это говорит, что они часто переплачивают сверх лимита. Для сравнения, Ultra-пользователи переплачивают лишь  379 руб и происходит это реже (разница между средним и стоимостью тарифа - чуть больше 100 рублей). \n",
    " \n",
    "Переплаты в тарифе SMART происходят чаще всего:\n",
    "- за звонки (в среднем превышают лимит на 189 минут)\n",
    "- интернет-трафик (при лимите в 15.6 ГБ в среднем используют 16.3ГБ со стандартным отклонением 5.7 - то есть превышают примерно на 6 ГБ)\n",
    "\n",
    "Сообщения отправляют сверх лимита редко, и в целом отправляют их мало.\n",
    " \n",
    "На тарифе ULTRA переплаичивают как правило только за интернет, но редко. По остальным срезам - минутам и смс - превышения происходят крайне редко."
   ]
  },
  {
   "cell_type": "markdown",
   "metadata": {},
   "source": [
    "### Гистограммы метрик тарифа SMART"
   ]
  },
  {
   "cell_type": "code",
   "execution_count": 25,
   "metadata": {},
   "outputs": [
    {
     "data": {
      "text/plain": [
       "Text(0.5, 0.98, 'Количество сообщений в месяц')"
      ]
     },
     "execution_count": 25,
     "metadata": {},
     "output_type": "execute_result"
    },
    {
     "data": {
      "image/png": "[encoded data removed]",
      "text/plain": [
       "<Figure size 432x288 with 1 Axes>"
      ]
     },
     "metadata": {
      "needs_background": "light"
     },
     "output_type": "display_data"
    }
   ],
   "source": [
    "smart_data['messages_amount'].hist(bins=35, range = (0, 150))\n",
    "plt.suptitle(\"Количество сообщений в месяц\") \n"
   ]
  },
  {
   "cell_type": "markdown",
   "metadata": {},
   "source": [
    "Много пользователей отправляет в месяц меньше 5 сообщений, а бОльшая часть пользователей не превышают лимит в 50 СМС.\n",
    "Однако, есть часть пользователей, которая превышает лимит почти в 2 раза."
   ]
  },
  {
   "cell_type": "code",
   "execution_count": 26,
   "metadata": {},
   "outputs": [
    {
     "data": {
      "text/plain": [
       "Text(0.5, 0.98, 'Количество Гигабайт в месяц')"
      ]
     },
     "execution_count": 26,
     "metadata": {},
     "output_type": "execute_result"
    },
    {
     "data": {
      "image/png": "[encoded data removed]",
      "text/plain": [
       "<Figure size 432x288 with 1 Axes>"
      ]
     },
     "metadata": {
      "needs_background": "light"
     },
     "output_type": "display_data"
    }
   ],
   "source": [
    "smart_data['gb_used'].hist(bins=35, range = (0, 30))\n",
    "plt.suptitle(\"Количество Гигабайт в месяц\") \n"
   ]
  },
  {
   "cell_type": "markdown",
   "metadata": {},
   "source": [
    "Пик припадает на уровне 15-18 гб, но много пользователей превышают данный лимит и хвост доходит к 0 только ближе к 30 гб. Превышение лимита происходит в большем количестве случаев, чем в других метриках."
   ]
  },
  {
   "cell_type": "code",
   "execution_count": 27,
   "metadata": {},
   "outputs": [
    {
     "data": {
      "text/plain": [
       "Text(0.5, 0.98, 'Количество минут в месяц')"
      ]
     },
     "execution_count": 27,
     "metadata": {},
     "output_type": "execute_result"
    },
    {
     "data": {
      "image/png": "[encoded data removed]",
      "text/plain": [
       "<Figure size 432x288 with 1 Axes>"
      ]
     },
     "metadata": {
      "needs_background": "light"
     },
     "output_type": "display_data"
    }
   ],
   "source": [
    "smart_data['calls_duration'].hist(bins=35, range = (0, 1000))\n",
    "plt.suptitle(\"Количество минут в месяц\") "
   ]
  },
  {
   "cell_type": "markdown",
   "metadata": {},
   "source": [
    "Пик использованных минут приходится на лимит в 500 минут, однако большое количество пользователей превышают свой лимит на 100-150 минут."
   ]
  },
  {
   "cell_type": "markdown",
   "metadata": {},
   "source": [
    "Вывод по графикам: пользователи тарифа SMART часто выходят за пределы установленных лимитов на тарифе, а значит чаще переплачивают сверх абонентской платы."
   ]
  },
  {
   "cell_type": "markdown",
   "metadata": {},
   "source": [
    "### Гистограмы метрик тарифа ULTRA"
   ]
  },
  {
   "cell_type": "code",
   "execution_count": 28,
   "metadata": {},
   "outputs": [
    {
     "data": {
      "text/plain": [
       "Text(0.5, 0.98, 'Количество сообщений в месяц')"
      ]
     },
     "execution_count": 28,
     "metadata": {},
     "output_type": "execute_result"
    },
    {
     "data": {
      "image/png": "[encoded data removed]",
      "text/plain": [
       "<Figure size 432x288 with 1 Axes>"
      ]
     },
     "metadata": {
      "needs_background": "light"
     },
     "output_type": "display_data"
    }
   ],
   "source": [
    "ultra_data['messages_amount'].hist(bins=35, range = (0, 250))\n",
    "plt.suptitle(\"Количество сообщений в месяц\") \n"
   ]
  },
  {
   "cell_type": "markdown",
   "metadata": {},
   "source": [
    "Все пользователи укладываются в лимит 1000 сообщений."
   ]
  },
  {
   "cell_type": "code",
   "execution_count": 29,
   "metadata": {},
   "outputs": [
    {
     "data": {
      "text/plain": [
       "Text(0.5, 0.98, 'Количество Гигабайт в месяц')"
      ]
     },
     "execution_count": 29,
     "metadata": {},
     "output_type": "execute_result"
    },
    {
     "data": {
      "image/png": "[encoded data removed]",
      "text/plain": [
       "<Figure size 432x288 with 1 Axes>"
      ]
     },
     "metadata": {
      "needs_background": "light"
     },
     "output_type": "display_data"
    }
   ],
   "source": [
    "ultra_data['gb_used'].hist(bins=35, range = (0, 50))\n",
    "plt.suptitle(\"Количество Гигабайт в месяц\") "
   ]
  },
  {
   "cell_type": "markdown",
   "metadata": {},
   "source": [
    "Видим, что небольшая часть пользователей не использует интернет.\n",
    "Пик трафика приходит на 20-23 гб, большая часть пользователей укладывается в рамки 30-ГБ тарифа."
   ]
  },
  {
   "cell_type": "code",
   "execution_count": 30,
   "metadata": {},
   "outputs": [
    {
     "data": {
      "text/plain": [
       "Text(0.5, 0.98, 'Количество минут в месяц')"
      ]
     },
     "execution_count": 30,
     "metadata": {},
     "output_type": "execute_result"
    },
    {
     "data": {
      "image/png": "[encoded data removed]",
      "text/plain": [
       "<Figure size 432x288 with 1 Axes>"
      ]
     },
     "metadata": {
      "needs_background": "light"
     },
     "output_type": "display_data"
    }
   ],
   "source": [
    "ultra_data['calls_duration'].hist(bins=35, range = (0, 2000))\n",
    "plt.suptitle(\"Количество минут в месяц\") "
   ]
  },
  {
   "cell_type": "markdown",
   "metadata": {},
   "source": [
    "Пик количества минут находится в районе 500-600 минут и держится до 800 минут, далее резкий спад. Лимит в 1000 минут превышает малое количество пользователей."
   ]
  },
  {
   "cell_type": "markdown",
   "metadata": {},
   "source": [
    "Вывод по графикам: большая часть пользователей тарифа укладывается в лимиты, заданные в нем. Стоит отметить, что гораздо меньшая часть пользователей, чем в другом тарифе, выходит за рамки ограничений."
   ]
  },
  {
   "cell_type": "markdown",
   "metadata": {},
   "source": [
    "## Статистический анализ данных"
   ]
  },
  {
   "cell_type": "markdown",
   "metadata": {},
   "source": [
    "Проверим две гипотезы:\n",
    "- средняя выручка пользователей тарифов «Ультра» и «Смарт» различаются;\n",
    "- средняя выручка пользователей из Москвы отличается от выручки пользователей из других регионов.\n",
    "\n",
    "Так как гипотезы сформулированы таким образом, что не имеет значения в какую именно сторону отличается выручка (в большую или меньшую), то будем использовать логику проверки двухсторонних гипотез."
   ]
  },
  {
   "cell_type": "markdown",
   "metadata": {},
   "source": [
    "### Первая гипотеза"
   ]
  },
  {
   "cell_type": "markdown",
   "metadata": {},
   "source": [
    "Сформулируем нулевую и альтернативную гипотезы:\n",
    "\n",
    "**Нулевая гипотеза:** средняя выручка пользователей тарифов «Ультра» и «Смарт» одинакова\n",
    "\n",
    "**Альтернативная гипотеза:** средняя выручка пользователей тарифов «Ультра» и «Смарт» различаются\n",
    "    \n",
    "\n",
    "\n",
    "В Python есть специальный метод для проверки гипотезы о равенстве среднего двух генеральных совокупностей по взятым из них выборкам: `scipy.stats.ttest_ind (array1, array2, equal_var)` . Используем его. Если p-value меньше порогового значения alpha, то гипотезу отвергаем. Иначе - не отвергаем. Примем, что пороговое значение равно 5%"
   ]
  },
  {
   "cell_type": "code",
   "execution_count": 31,
   "metadata": {},
   "outputs": [
    {
     "name": "stdout",
     "output_type": "stream",
     "text": [
      "p-значение: 4.657090039411243e-235\n",
      "Отвергаем нулевую гипотезу. Средняя выручка по тарифам - разная.\n"
     ]
    }
   ],
   "source": [
    "alpha = 0.05\n",
    " \n",
    "results = st.ttest_ind(smart_data['total_cost'], ultra_data['total_cost'])\n",
    "print('p-значение:', results.pvalue)\n",
    "if results.pvalue < alpha:\n",
    "    print('Отвергаем нулевую гипотезу. Средняя выручка по тарифам - разная.')\n",
    "else:\n",
    "    print('Не можем отвергнуть нулевую гипотезу.')"
   ]
  },
  {
   "cell_type": "markdown",
   "metadata": {},
   "source": [
    "Вывод: Малое значение p-value говорит нам о том, вероятность случайного совпадения средних выборок ничтожно мало. Нулевая гипотеза отвергается.\n",
    "\n",
    "А значит альтернативная гипотеза о том, что средние выборок отличаются, не отвергается."
   ]
  },
  {
   "cell_type": "markdown",
   "metadata": {},
   "source": [
    "### Вторая гипотеза"
   ]
  },
  {
   "cell_type": "markdown",
   "metadata": {},
   "source": [
    "Сформулируем нулевую и альтернативную гипотезы:\n",
    "\n",
    "**Нулевая гипотеза:** средняя выручка пользователей из Москвы равна средней выручке пользователей из других регионов\n",
    "\n",
    "**Альтернативная гипотеза:** средняя выручка пользователей из Москвы и пользователей из других регионов отличается\n",
    "    \n",
    "\n",
    "\n",
    "В Python есть специальный метод для проверки гипотезы о равенстве среднего двух генеральных совокупностей по взятым из них выборкам: `scipy.stats.ttest_ind (array1, array2, equal_var)` . Используем его. Если p-value меньше порогового значения alpha, то гипотезу отвергаем. Иначе - не отвергаем. Примем, что пороговое значение равно 5%"
   ]
  },
  {
   "cell_type": "code",
   "execution_count": 32,
   "metadata": {},
   "outputs": [
    {
     "name": "stdout",
     "output_type": "stream",
     "text": [
      "p-значение: 0.2251949609364987\n",
      "Не можем отвергнуть нулевую гипотезу.\n"
     ]
    }
   ],
   "source": [
    "moscow_data = total_data.query('city == \"Москва\"') #создадим таблицу с выборкой данных по Москве\n",
    "regions_data = total_data.query('city != \"Москва\"') #и во всех остальных городах в таблице\n",
    "results_city = st.ttest_ind(moscow_data['total_cost'], regions_data['total_cost'])\n",
    "print('p-значение:', results_city.pvalue)\n",
    "if results_city.pvalue < alpha:\n",
    "    print('Отвергаем нулевую гипотезу.')\n",
    "else:\n",
    "    print('Не можем отвергнуть нулевую гипотезу.')"
   ]
  },
  {
   "cell_type": "markdown",
   "metadata": {},
   "source": [
    "Вывод: Полученное p-value равно 0.22, а значит есть некоторая вероятность (выше порогового значения) того, что отличие средних значений наших выборок случайно и мы не можем отвергнуть нулевую гипотезу о равенстве средних значений.\n",
    "\n",
    "Значит, нашу альтернативную гипотезу о различии средних отвергаем. "
   ]
  },
  {
   "cell_type": "markdown",
   "metadata": {},
   "source": [
    "## Вывод"
   ]
  },
  {
   "cell_type": "markdown",
   "metadata": {},
   "source": [
    "- Тариф Smart выбирают в 2 раза чаще\n",
    "- Больше всего приносит дополнительного дохода тариф Smart, так как пользователи этого тарифа чаще выходят за лимиты.\n",
    "- Общая выручка больше всего у тарифа Smart (это объясняется тем, что им пользуется большее количество людей).\n",
    "\n",
    "- Пользователи тарифа Ultra практически не превышают лимитов, кроме трафика интернета.\n",
    "- Пользователи тарифа Ultra чаще всего не используют весь лимит по звонкам и сообщениям.\n",
    "\n",
    "- Самым прибильным сегментом является - интернет, в обоих тарифах. Пользователи двух тарифов используют примерно одинаковые объемы интернета, что говорит об их одинаковом потреблении трафика.\n",
    "- Оба тарифа редко используют СМС.\n",
    "\n",
    "Есть основания полагать, что тариф Smart приносит больше дополнительной выручки, а также он более привлекателен для потенциальных пользователей более низкой абонентской платой. С точки зрения рекламных вложений, он выглядит более привлекательным для компании. \n",
    "\n"
   ]
  }
 ],
 "metadata": {
  "ExecuteTimeLog": [
   {
    "duration": 1629,
    "start_time": "2022-05-12T09:34:58.352Z"
   },
   {
    "duration": 40,
    "start_time": "2022-05-12T09:35:46.607Z"
   },
   {
    "duration": 50,
    "start_time": "2022-05-13T08:59:26.398Z"
   },
   {
    "duration": 1592,
    "start_time": "2022-05-13T08:59:38.259Z"
   },
   {
    "duration": 39,
    "start_time": "2022-05-13T08:59:39.853Z"
   },
   {
    "duration": 99,
    "start_time": "2022-05-13T08:59:39.894Z"
   },
   {
    "duration": 20,
    "start_time": "2022-05-13T09:00:27.888Z"
   },
   {
    "duration": 10,
    "start_time": "2022-05-13T09:00:44.161Z"
   },
   {
    "duration": 10,
    "start_time": "2022-05-13T09:00:56.336Z"
   },
   {
    "duration": 15,
    "start_time": "2022-05-13T09:01:07.557Z"
   },
   {
    "duration": 11,
    "start_time": "2022-05-13T09:01:27.844Z"
   },
   {
    "duration": 9,
    "start_time": "2022-05-13T09:03:12.136Z"
   },
   {
    "duration": 114,
    "start_time": "2022-05-13T09:07:00.307Z"
   },
   {
    "duration": 149,
    "start_time": "2022-05-13T09:12:12.542Z"
   },
   {
    "duration": 95,
    "start_time": "2022-05-13T09:12:20.275Z"
   },
   {
    "duration": 146,
    "start_time": "2022-05-13T09:13:03.347Z"
   },
   {
    "duration": 151,
    "start_time": "2022-05-13T09:13:19.061Z"
   },
   {
    "duration": 119,
    "start_time": "2022-05-13T09:20:20.884Z"
   },
   {
    "duration": 1593,
    "start_time": "2022-05-13T09:21:51.809Z"
   },
   {
    "duration": 189,
    "start_time": "2022-05-13T09:21:53.405Z"
   },
   {
    "duration": 142,
    "start_time": "2022-05-13T09:21:53.595Z"
   },
   {
    "duration": 93,
    "start_time": "2022-05-13T09:26:22.537Z"
   },
   {
    "duration": 1528,
    "start_time": "2022-05-13T09:30:57.103Z"
   },
   {
    "duration": 137,
    "start_time": "2022-05-13T09:30:58.633Z"
   },
   {
    "duration": 113,
    "start_time": "2022-05-13T09:30:58.772Z"
   },
   {
    "duration": 100,
    "start_time": "2022-05-13T09:30:58.887Z"
   },
   {
    "duration": 119,
    "start_time": "2022-05-13T09:30:58.989Z"
   },
   {
    "duration": 47,
    "start_time": "2022-05-13T09:43:11.486Z"
   },
   {
    "duration": 39,
    "start_time": "2022-05-13T09:43:18.587Z"
   },
   {
    "duration": 46,
    "start_time": "2022-05-13T09:43:57.230Z"
   },
   {
    "duration": 1604,
    "start_time": "2022-05-13T09:45:17.096Z"
   },
   {
    "duration": 166,
    "start_time": "2022-05-13T09:45:18.702Z"
   },
   {
    "duration": 133,
    "start_time": "2022-05-13T09:45:18.870Z"
   },
   {
    "duration": 120,
    "start_time": "2022-05-13T09:45:19.008Z"
   },
   {
    "duration": 60,
    "start_time": "2022-05-13T09:45:19.130Z"
   },
   {
    "duration": 3572,
    "start_time": "2022-05-13T09:47:24.597Z"
   },
   {
    "duration": 155,
    "start_time": "2022-05-13T09:47:28.171Z"
   },
   {
    "duration": 131,
    "start_time": "2022-05-13T09:47:28.328Z"
   },
   {
    "duration": 114,
    "start_time": "2022-05-13T09:47:28.461Z"
   },
   {
    "duration": 163,
    "start_time": "2022-05-13T09:47:28.577Z"
   },
   {
    "duration": 1558,
    "start_time": "2022-05-13T09:49:23.634Z"
   },
   {
    "duration": 161,
    "start_time": "2022-05-13T09:49:25.194Z"
   },
   {
    "duration": 126,
    "start_time": "2022-05-13T09:49:25.357Z"
   },
   {
    "duration": 97,
    "start_time": "2022-05-13T09:49:25.485Z"
   },
   {
    "duration": 78,
    "start_time": "2022-05-13T09:49:25.583Z"
   },
   {
    "duration": 79,
    "start_time": "2022-05-13T09:52:11.973Z"
   },
   {
    "duration": 61,
    "start_time": "2022-05-13T09:53:27.273Z"
   },
   {
    "duration": 21,
    "start_time": "2022-05-13T09:57:25.468Z"
   },
   {
    "duration": 25,
    "start_time": "2022-05-13T10:14:14.047Z"
   },
   {
    "duration": 26,
    "start_time": "2022-05-13T10:37:56.475Z"
   },
   {
    "duration": 25,
    "start_time": "2022-05-13T10:38:08.491Z"
   },
   {
    "duration": 99,
    "start_time": "2022-05-13T11:12:34.980Z"
   },
   {
    "duration": 3,
    "start_time": "2022-05-13T11:12:42.381Z"
   },
   {
    "duration": 188,
    "start_time": "2022-05-13T11:13:10.140Z"
   },
   {
    "duration": 51,
    "start_time": "2022-05-13T11:19:37.014Z"
   },
   {
    "duration": 58,
    "start_time": "2022-05-13T11:19:48.163Z"
   },
   {
    "duration": 59,
    "start_time": "2022-05-13T11:20:32.836Z"
   },
   {
    "duration": 58,
    "start_time": "2022-05-13T11:23:52.538Z"
   },
   {
    "duration": 14,
    "start_time": "2022-05-13T12:38:16.370Z"
   },
   {
    "duration": 1633,
    "start_time": "2022-05-13T12:40:01.900Z"
   },
   {
    "duration": 164,
    "start_time": "2022-05-13T12:40:03.535Z"
   },
   {
    "duration": 137,
    "start_time": "2022-05-13T12:40:03.701Z"
   },
   {
    "duration": 122,
    "start_time": "2022-05-13T12:40:03.841Z"
   },
   {
    "duration": 151,
    "start_time": "2022-05-13T12:40:03.965Z"
   },
   {
    "duration": 0,
    "start_time": "2022-05-13T12:40:04.118Z"
   },
   {
    "duration": 0,
    "start_time": "2022-05-13T12:40:04.119Z"
   },
   {
    "duration": 0,
    "start_time": "2022-05-13T12:40:04.120Z"
   },
   {
    "duration": 0,
    "start_time": "2022-05-13T12:40:04.121Z"
   },
   {
    "duration": 0,
    "start_time": "2022-05-13T12:40:04.122Z"
   },
   {
    "duration": 0,
    "start_time": "2022-05-13T12:40:04.123Z"
   },
   {
    "duration": 0,
    "start_time": "2022-05-13T12:40:04.124Z"
   },
   {
    "duration": 1635,
    "start_time": "2022-05-13T12:41:16.077Z"
   },
   {
    "duration": 160,
    "start_time": "2022-05-13T12:41:17.714Z"
   },
   {
    "duration": 131,
    "start_time": "2022-05-13T12:41:17.876Z"
   },
   {
    "duration": 77,
    "start_time": "2022-05-13T12:41:18.009Z"
   },
   {
    "duration": 146,
    "start_time": "2022-05-13T12:41:18.106Z"
   },
   {
    "duration": 0,
    "start_time": "2022-05-13T12:41:18.254Z"
   },
   {
    "duration": 0,
    "start_time": "2022-05-13T12:41:18.255Z"
   },
   {
    "duration": 0,
    "start_time": "2022-05-13T12:41:18.256Z"
   },
   {
    "duration": 0,
    "start_time": "2022-05-13T12:41:18.257Z"
   },
   {
    "duration": 0,
    "start_time": "2022-05-13T12:41:18.259Z"
   },
   {
    "duration": 0,
    "start_time": "2022-05-13T12:41:18.260Z"
   },
   {
    "duration": 0,
    "start_time": "2022-05-13T12:41:18.261Z"
   },
   {
    "duration": 1524,
    "start_time": "2022-05-13T12:42:01.235Z"
   },
   {
    "duration": 146,
    "start_time": "2022-05-13T12:42:02.761Z"
   },
   {
    "duration": 134,
    "start_time": "2022-05-13T12:42:02.911Z"
   },
   {
    "duration": 97,
    "start_time": "2022-05-13T12:42:03.047Z"
   },
   {
    "duration": 76,
    "start_time": "2022-05-13T12:42:03.146Z"
   },
   {
    "duration": 97,
    "start_time": "2022-05-13T12:42:03.223Z"
   },
   {
    "duration": 54,
    "start_time": "2022-05-13T12:42:03.322Z"
   },
   {
    "duration": 43,
    "start_time": "2022-05-13T12:42:03.378Z"
   },
   {
    "duration": 30,
    "start_time": "2022-05-13T12:42:03.422Z"
   },
   {
    "duration": 56,
    "start_time": "2022-05-13T12:42:03.454Z"
   },
   {
    "duration": 61,
    "start_time": "2022-05-13T12:42:03.512Z"
   },
   {
    "duration": 51,
    "start_time": "2022-05-13T12:42:03.575Z"
   },
   {
    "duration": 29,
    "start_time": "2022-05-13T12:44:14.177Z"
   },
   {
    "duration": 24,
    "start_time": "2022-05-13T12:50:16.979Z"
   },
   {
    "duration": 22,
    "start_time": "2022-05-13T12:51:26.748Z"
   },
   {
    "duration": 27,
    "start_time": "2022-05-13T12:57:12.874Z"
   },
   {
    "duration": 1495,
    "start_time": "2022-05-13T12:57:32.047Z"
   },
   {
    "duration": 147,
    "start_time": "2022-05-13T12:57:33.544Z"
   },
   {
    "duration": 132,
    "start_time": "2022-05-13T12:57:33.693Z"
   },
   {
    "duration": 90,
    "start_time": "2022-05-13T12:57:33.828Z"
   },
   {
    "duration": 65,
    "start_time": "2022-05-13T12:57:33.920Z"
   },
   {
    "duration": 88,
    "start_time": "2022-05-13T12:57:33.987Z"
   },
   {
    "duration": 75,
    "start_time": "2022-05-13T12:57:34.077Z"
   },
   {
    "duration": 21,
    "start_time": "2022-05-13T12:57:34.153Z"
   },
   {
    "duration": 48,
    "start_time": "2022-05-13T12:57:34.176Z"
   },
   {
    "duration": 24,
    "start_time": "2022-05-13T12:57:34.226Z"
   },
   {
    "duration": 88,
    "start_time": "2022-05-13T12:57:34.252Z"
   },
   {
    "duration": 39,
    "start_time": "2022-05-13T12:57:34.342Z"
   },
   {
    "duration": 46,
    "start_time": "2022-05-13T12:57:34.383Z"
   },
   {
    "duration": 23,
    "start_time": "2022-05-13T12:57:34.431Z"
   },
   {
    "duration": 20,
    "start_time": "2022-05-13T12:57:34.455Z"
   },
   {
    "duration": 20,
    "start_time": "2022-05-13T12:59:41.031Z"
   },
   {
    "duration": 19,
    "start_time": "2022-05-13T13:00:00.835Z"
   },
   {
    "duration": 12,
    "start_time": "2022-05-13T13:00:52.812Z"
   },
   {
    "duration": 1568,
    "start_time": "2022-05-13T13:01:38.192Z"
   },
   {
    "duration": 152,
    "start_time": "2022-05-13T13:01:39.762Z"
   },
   {
    "duration": 122,
    "start_time": "2022-05-13T13:01:39.916Z"
   },
   {
    "duration": 96,
    "start_time": "2022-05-13T13:01:40.040Z"
   },
   {
    "duration": 75,
    "start_time": "2022-05-13T13:01:40.137Z"
   },
   {
    "duration": 70,
    "start_time": "2022-05-13T13:01:40.213Z"
   },
   {
    "duration": 73,
    "start_time": "2022-05-13T13:01:40.284Z"
   },
   {
    "duration": 20,
    "start_time": "2022-05-13T13:01:40.359Z"
   },
   {
    "duration": 50,
    "start_time": "2022-05-13T13:01:40.380Z"
   },
   {
    "duration": 26,
    "start_time": "2022-05-13T13:01:40.432Z"
   },
   {
    "duration": 91,
    "start_time": "2022-05-13T13:01:40.459Z"
   },
   {
    "duration": 31,
    "start_time": "2022-05-13T13:01:40.551Z"
   },
   {
    "duration": 41,
    "start_time": "2022-05-13T13:01:40.584Z"
   },
   {
    "duration": 22,
    "start_time": "2022-05-13T13:01:40.626Z"
   },
   {
    "duration": 11,
    "start_time": "2022-05-13T13:01:40.649Z"
   },
   {
    "duration": 41,
    "start_time": "2022-05-13T13:03:20.551Z"
   },
   {
    "duration": 6,
    "start_time": "2022-05-13T13:19:21.117Z"
   },
   {
    "duration": 18,
    "start_time": "2022-05-13T13:21:30.830Z"
   },
   {
    "duration": 91,
    "start_time": "2022-05-13T13:22:41.911Z"
   },
   {
    "duration": 101,
    "start_time": "2022-05-13T13:23:09.921Z"
   },
   {
    "duration": 89,
    "start_time": "2022-05-13T13:23:28.528Z"
   },
   {
    "duration": 85,
    "start_time": "2022-05-13T13:24:35.105Z"
   },
   {
    "duration": 7,
    "start_time": "2022-05-13T13:39:00.843Z"
   },
   {
    "duration": 13,
    "start_time": "2022-05-13T13:39:26.190Z"
   },
   {
    "duration": 3135,
    "start_time": "2022-05-13T13:40:01.832Z"
   },
   {
    "duration": 157,
    "start_time": "2022-05-13T13:40:04.969Z"
   },
   {
    "duration": 126,
    "start_time": "2022-05-13T13:40:05.128Z"
   },
   {
    "duration": 98,
    "start_time": "2022-05-13T13:40:05.255Z"
   },
   {
    "duration": 81,
    "start_time": "2022-05-13T13:40:05.356Z"
   },
   {
    "duration": 95,
    "start_time": "2022-05-13T13:40:05.438Z"
   },
   {
    "duration": 55,
    "start_time": "2022-05-13T13:40:05.535Z"
   },
   {
    "duration": 23,
    "start_time": "2022-05-13T13:40:05.607Z"
   },
   {
    "duration": 24,
    "start_time": "2022-05-13T13:40:05.632Z"
   },
   {
    "duration": 61,
    "start_time": "2022-05-13T13:40:05.658Z"
   },
   {
    "duration": 62,
    "start_time": "2022-05-13T13:40:05.721Z"
   },
   {
    "duration": 54,
    "start_time": "2022-05-13T13:40:05.785Z"
   },
   {
    "duration": 30,
    "start_time": "2022-05-13T13:40:05.841Z"
   },
   {
    "duration": 50,
    "start_time": "2022-05-13T13:40:05.874Z"
   },
   {
    "duration": 13,
    "start_time": "2022-05-13T13:40:05.925Z"
   },
   {
    "duration": 51,
    "start_time": "2022-05-13T13:40:05.940Z"
   },
   {
    "duration": 14,
    "start_time": "2022-05-13T13:40:05.993Z"
   },
   {
    "duration": 27,
    "start_time": "2022-05-13T13:40:06.010Z"
   },
   {
    "duration": 117,
    "start_time": "2022-05-13T13:40:06.039Z"
   },
   {
    "duration": 9,
    "start_time": "2022-05-13T13:40:06.158Z"
   },
   {
    "duration": 23,
    "start_time": "2022-05-13T13:40:06.169Z"
   },
   {
    "duration": 102,
    "start_time": "2022-05-13T13:44:07.153Z"
   },
   {
    "duration": 8,
    "start_time": "2022-05-13T13:44:44.280Z"
   },
   {
    "duration": 428,
    "start_time": "2022-05-13T14:05:54.134Z"
   },
   {
    "duration": 11,
    "start_time": "2022-05-13T14:30:18.988Z"
   },
   {
    "duration": 10,
    "start_time": "2022-05-13T14:30:45.901Z"
   },
   {
    "duration": 17,
    "start_time": "2022-05-13T14:31:05.334Z"
   },
   {
    "duration": 14,
    "start_time": "2022-05-13T14:32:37.253Z"
   },
   {
    "duration": 16,
    "start_time": "2022-05-13T14:33:52.503Z"
   },
   {
    "duration": 16,
    "start_time": "2022-05-13T14:34:07.820Z"
   },
   {
    "duration": 20,
    "start_time": "2022-05-13T14:36:08.153Z"
   },
   {
    "duration": 8,
    "start_time": "2022-05-13T14:36:23.856Z"
   },
   {
    "duration": 18,
    "start_time": "2022-05-13T14:49:22.504Z"
   },
   {
    "duration": 19,
    "start_time": "2022-05-13T14:50:38.394Z"
   },
   {
    "duration": 171,
    "start_time": "2022-05-13T14:50:56.523Z"
   },
   {
    "duration": 12,
    "start_time": "2022-05-13T14:53:06.432Z"
   },
   {
    "duration": 12,
    "start_time": "2022-05-13T14:54:06.118Z"
   },
   {
    "duration": 16,
    "start_time": "2022-05-13T14:54:46.519Z"
   },
   {
    "duration": 12,
    "start_time": "2022-05-13T14:55:21.626Z"
   },
   {
    "duration": 11,
    "start_time": "2022-05-13T14:57:43.736Z"
   },
   {
    "duration": 13,
    "start_time": "2022-05-13T14:58:00.682Z"
   },
   {
    "duration": 1631,
    "start_time": "2022-05-13T14:58:09.616Z"
   },
   {
    "duration": 159,
    "start_time": "2022-05-13T14:58:11.249Z"
   },
   {
    "duration": 128,
    "start_time": "2022-05-13T14:58:11.410Z"
   },
   {
    "duration": 103,
    "start_time": "2022-05-13T14:58:11.540Z"
   },
   {
    "duration": 81,
    "start_time": "2022-05-13T14:58:11.645Z"
   },
   {
    "duration": 99,
    "start_time": "2022-05-13T14:58:11.728Z"
   },
   {
    "duration": 55,
    "start_time": "2022-05-13T14:58:11.829Z"
   },
   {
    "duration": 37,
    "start_time": "2022-05-13T14:58:11.886Z"
   },
   {
    "duration": 25,
    "start_time": "2022-05-13T14:58:11.925Z"
   },
   {
    "duration": 59,
    "start_time": "2022-05-13T14:58:11.953Z"
   },
   {
    "duration": 64,
    "start_time": "2022-05-13T14:58:12.014Z"
   },
   {
    "duration": 58,
    "start_time": "2022-05-13T14:58:12.079Z"
   },
   {
    "duration": 29,
    "start_time": "2022-05-13T14:58:12.139Z"
   },
   {
    "duration": 38,
    "start_time": "2022-05-13T14:58:12.170Z"
   },
   {
    "duration": 11,
    "start_time": "2022-05-13T14:58:12.210Z"
   },
   {
    "duration": 41,
    "start_time": "2022-05-13T14:58:12.222Z"
   },
   {
    "duration": 5,
    "start_time": "2022-05-13T14:58:12.265Z"
   },
   {
    "duration": 44,
    "start_time": "2022-05-13T14:58:12.272Z"
   },
   {
    "duration": 102,
    "start_time": "2022-05-13T14:58:12.318Z"
   },
   {
    "duration": 13,
    "start_time": "2022-05-13T14:58:12.422Z"
   },
   {
    "duration": 14,
    "start_time": "2022-05-13T14:58:12.437Z"
   },
   {
    "duration": 8,
    "start_time": "2022-05-13T14:58:12.453Z"
   },
   {
    "duration": 46,
    "start_time": "2022-05-13T14:58:12.463Z"
   },
   {
    "duration": 19,
    "start_time": "2022-05-13T14:58:12.511Z"
   },
   {
    "duration": 209,
    "start_time": "2022-05-13T14:58:12.532Z"
   },
   {
    "duration": 451,
    "start_time": "2022-05-13T14:58:12.743Z"
   },
   {
    "duration": 186,
    "start_time": "2022-05-13T15:00:03.958Z"
   },
   {
    "duration": 182,
    "start_time": "2022-05-13T15:00:28.193Z"
   },
   {
    "duration": 270,
    "start_time": "2022-05-13T15:00:52.290Z"
   },
   {
    "duration": 182,
    "start_time": "2022-05-13T15:00:56.824Z"
   },
   {
    "duration": 182,
    "start_time": "2022-05-13T15:01:38.740Z"
   },
   {
    "duration": 17,
    "start_time": "2022-05-13T15:06:02.155Z"
   },
   {
    "duration": 170,
    "start_time": "2022-05-13T15:06:08.017Z"
   },
   {
    "duration": 84,
    "start_time": "2022-05-13T15:06:25.463Z"
   },
   {
    "duration": 1520,
    "start_time": "2022-05-13T15:08:22.466Z"
   },
   {
    "duration": 168,
    "start_time": "2022-05-13T15:08:23.988Z"
   },
   {
    "duration": 132,
    "start_time": "2022-05-13T15:08:24.158Z"
   },
   {
    "duration": 87,
    "start_time": "2022-05-13T15:08:24.292Z"
   },
   {
    "duration": 83,
    "start_time": "2022-05-13T15:08:24.380Z"
   },
   {
    "duration": 87,
    "start_time": "2022-05-13T15:08:24.465Z"
   },
   {
    "duration": 65,
    "start_time": "2022-05-13T15:08:24.554Z"
   },
   {
    "duration": 18,
    "start_time": "2022-05-13T15:08:24.621Z"
   },
   {
    "duration": 26,
    "start_time": "2022-05-13T15:08:24.640Z"
   },
   {
    "duration": 60,
    "start_time": "2022-05-13T15:08:24.668Z"
   },
   {
    "duration": 60,
    "start_time": "2022-05-13T15:08:24.729Z"
   },
   {
    "duration": 31,
    "start_time": "2022-05-13T15:08:24.808Z"
   },
   {
    "duration": 29,
    "start_time": "2022-05-13T15:08:24.840Z"
   },
   {
    "duration": 43,
    "start_time": "2022-05-13T15:08:24.871Z"
   },
   {
    "duration": 12,
    "start_time": "2022-05-13T15:08:24.915Z"
   },
   {
    "duration": 40,
    "start_time": "2022-05-13T15:08:24.928Z"
   },
   {
    "duration": 38,
    "start_time": "2022-05-13T15:08:24.969Z"
   },
   {
    "duration": 14,
    "start_time": "2022-05-13T15:08:25.009Z"
   },
   {
    "duration": 9,
    "start_time": "2022-05-13T15:08:25.025Z"
   },
   {
    "duration": 28,
    "start_time": "2022-05-13T15:08:25.035Z"
   },
   {
    "duration": 122,
    "start_time": "2022-05-13T15:08:25.064Z"
   },
   {
    "duration": 11,
    "start_time": "2022-05-13T15:08:25.188Z"
   },
   {
    "duration": 20,
    "start_time": "2022-05-13T15:08:25.201Z"
   },
   {
    "duration": 284,
    "start_time": "2022-05-13T15:08:25.223Z"
   },
   {
    "duration": 18,
    "start_time": "2022-05-13T15:41:06.701Z"
   },
   {
    "duration": 296,
    "start_time": "2022-05-13T15:42:38.637Z"
   },
   {
    "duration": 201,
    "start_time": "2022-05-13T15:42:58.768Z"
   },
   {
    "duration": 187,
    "start_time": "2022-05-13T15:43:17.217Z"
   },
   {
    "duration": 193,
    "start_time": "2022-05-13T15:44:36.796Z"
   },
   {
    "duration": 212,
    "start_time": "2022-05-13T15:44:48.797Z"
   },
   {
    "duration": 221,
    "start_time": "2022-05-13T15:46:16.579Z"
   },
   {
    "duration": 198,
    "start_time": "2022-05-13T15:46:29.760Z"
   },
   {
    "duration": 259,
    "start_time": "2022-05-13T15:50:02.351Z"
   },
   {
    "duration": 170,
    "start_time": "2022-05-13T15:50:22.820Z"
   },
   {
    "duration": 177,
    "start_time": "2022-05-13T15:50:55.195Z"
   },
   {
    "duration": 158,
    "start_time": "2022-05-13T15:51:24.586Z"
   },
   {
    "duration": 181,
    "start_time": "2022-05-13T15:51:39.770Z"
   },
   {
    "duration": 5,
    "start_time": "2022-05-13T16:18:25.388Z"
   },
   {
    "duration": 5,
    "start_time": "2022-05-13T16:18:57.853Z"
   },
   {
    "duration": 10,
    "start_time": "2022-05-13T16:26:44.305Z"
   },
   {
    "duration": 178,
    "start_time": "2022-05-13T16:46:16.156Z"
   },
   {
    "duration": 98,
    "start_time": "2022-05-13T16:54:05.002Z"
   },
   {
    "duration": 8,
    "start_time": "2022-05-13T16:55:46.564Z"
   },
   {
    "duration": 26,
    "start_time": "2022-05-13T16:55:53.379Z"
   },
   {
    "duration": 21,
    "start_time": "2022-05-13T16:57:00.327Z"
   },
   {
    "duration": 1554,
    "start_time": "2022-05-13T17:05:11.862Z"
   },
   {
    "duration": 170,
    "start_time": "2022-05-13T17:05:13.418Z"
   },
   {
    "duration": 153,
    "start_time": "2022-05-13T17:05:13.590Z"
   },
   {
    "duration": 112,
    "start_time": "2022-05-13T17:05:13.745Z"
   },
   {
    "duration": 101,
    "start_time": "2022-05-13T17:05:13.859Z"
   },
   {
    "duration": 111,
    "start_time": "2022-05-13T17:05:13.962Z"
   },
   {
    "duration": 66,
    "start_time": "2022-05-13T17:05:14.075Z"
   },
   {
    "duration": 25,
    "start_time": "2022-05-13T17:05:14.143Z"
   },
   {
    "duration": 64,
    "start_time": "2022-05-13T17:05:14.170Z"
   },
   {
    "duration": 25,
    "start_time": "2022-05-13T17:05:14.237Z"
   },
   {
    "duration": 93,
    "start_time": "2022-05-13T17:05:14.264Z"
   },
   {
    "duration": 31,
    "start_time": "2022-05-13T17:05:14.359Z"
   },
   {
    "duration": 40,
    "start_time": "2022-05-13T17:05:14.392Z"
   },
   {
    "duration": 22,
    "start_time": "2022-05-13T17:05:14.434Z"
   },
   {
    "duration": 12,
    "start_time": "2022-05-13T17:05:14.458Z"
   },
   {
    "duration": 73,
    "start_time": "2022-05-13T17:05:14.471Z"
   },
   {
    "duration": 12,
    "start_time": "2022-05-13T17:05:14.546Z"
   },
   {
    "duration": 14,
    "start_time": "2022-05-13T17:05:14.560Z"
   },
   {
    "duration": 32,
    "start_time": "2022-05-13T17:05:14.576Z"
   },
   {
    "duration": 22,
    "start_time": "2022-05-13T17:05:14.609Z"
   },
   {
    "duration": 96,
    "start_time": "2022-05-13T17:05:14.633Z"
   },
   {
    "duration": 9,
    "start_time": "2022-05-13T17:05:14.731Z"
   },
   {
    "duration": 18,
    "start_time": "2022-05-13T17:05:14.742Z"
   },
   {
    "duration": 232,
    "start_time": "2022-05-13T17:05:14.762Z"
   },
   {
    "duration": 194,
    "start_time": "2022-05-13T17:05:14.996Z"
   },
   {
    "duration": 193,
    "start_time": "2022-05-13T17:05:15.192Z"
   },
   {
    "duration": 184,
    "start_time": "2022-05-13T17:05:15.386Z"
   },
   {
    "duration": 196,
    "start_time": "2022-05-13T17:05:15.573Z"
   },
   {
    "duration": 202,
    "start_time": "2022-05-13T17:05:15.771Z"
   },
   {
    "duration": 5,
    "start_time": "2022-05-13T17:05:15.975Z"
   },
   {
    "duration": 25,
    "start_time": "2022-05-13T17:05:15.982Z"
   },
   {
    "duration": 38,
    "start_time": "2022-05-13T17:14:35.146Z"
   },
   {
    "duration": 30,
    "start_time": "2022-05-13T17:15:03.348Z"
   },
   {
    "duration": 96,
    "start_time": "2022-05-13T17:16:01.701Z"
   },
   {
    "duration": 5,
    "start_time": "2022-05-13T17:24:00.092Z"
   },
   {
    "duration": 1575,
    "start_time": "2022-05-13T17:33:37.045Z"
   },
   {
    "duration": 161,
    "start_time": "2022-05-13T17:33:38.623Z"
   },
   {
    "duration": 142,
    "start_time": "2022-05-13T17:33:38.785Z"
   },
   {
    "duration": 105,
    "start_time": "2022-05-13T17:33:38.929Z"
   },
   {
    "duration": 82,
    "start_time": "2022-05-13T17:33:39.036Z"
   },
   {
    "duration": 71,
    "start_time": "2022-05-13T17:33:39.120Z"
   },
   {
    "duration": 57,
    "start_time": "2022-05-13T17:33:39.211Z"
   },
   {
    "duration": 48,
    "start_time": "2022-05-13T17:33:39.270Z"
   },
   {
    "duration": 28,
    "start_time": "2022-05-13T17:33:39.320Z"
   },
   {
    "duration": 60,
    "start_time": "2022-05-13T17:33:39.351Z"
   },
   {
    "duration": 62,
    "start_time": "2022-05-13T17:33:39.415Z"
   },
   {
    "duration": 58,
    "start_time": "2022-05-13T17:33:39.479Z"
   },
   {
    "duration": 29,
    "start_time": "2022-05-13T17:33:39.538Z"
   },
   {
    "duration": 20,
    "start_time": "2022-05-13T17:33:39.569Z"
   },
   {
    "duration": 18,
    "start_time": "2022-05-13T17:33:39.608Z"
   },
   {
    "duration": 43,
    "start_time": "2022-05-13T17:33:39.629Z"
   },
   {
    "duration": 38,
    "start_time": "2022-05-13T17:33:39.674Z"
   },
   {
    "duration": 26,
    "start_time": "2022-05-13T17:33:39.714Z"
   },
   {
    "duration": 6,
    "start_time": "2022-05-13T17:33:39.742Z"
   },
   {
    "duration": 17,
    "start_time": "2022-05-13T17:33:39.750Z"
   },
   {
    "duration": 107,
    "start_time": "2022-05-13T17:33:39.768Z"
   },
   {
    "duration": 38,
    "start_time": "2022-05-13T17:33:39.877Z"
   },
   {
    "duration": 4,
    "start_time": "2022-05-13T17:33:39.917Z"
   },
   {
    "duration": 15,
    "start_time": "2022-05-13T17:33:39.923Z"
   },
   {
    "duration": 238,
    "start_time": "2022-05-13T17:33:39.939Z"
   },
   {
    "duration": 184,
    "start_time": "2022-05-13T17:33:40.179Z"
   },
   {
    "duration": 177,
    "start_time": "2022-05-13T17:33:40.365Z"
   },
   {
    "duration": 180,
    "start_time": "2022-05-13T17:33:40.546Z"
   },
   {
    "duration": 186,
    "start_time": "2022-05-13T17:33:40.727Z"
   },
   {
    "duration": 203,
    "start_time": "2022-05-13T17:33:40.915Z"
   },
   {
    "duration": 5,
    "start_time": "2022-05-13T17:33:41.121Z"
   },
   {
    "duration": 11,
    "start_time": "2022-05-13T17:33:41.129Z"
   },
   {
    "duration": 89,
    "start_time": "2022-05-14T15:30:52.567Z"
   }
  ],
  "kernelspec": {
   "display_name": "Python 3 (ipykernel)",
   "language": "python",
   "name": "python3"
  },
  "language_info": {
   "codemirror_mode": {
    "name": "ipython",
    "version": 3
   },
   "file_extension": ".py",
   "mimetype": "text/x-python",
   "name": "python",
   "nbconvert_exporter": "python",
   "pygments_lexer": "ipython3",
   "version": "3.9.7"
  },
  "toc": {
   "base_numbering": 1,
   "nav_menu": {
    "height": "183px",
    "width": "160px"
   },
   "number_sections": true,
   "sideBar": true,
   "skip_h1_title": true,
   "title_cell": "Table of Contents",
   "title_sidebar": "Contents",
   "toc_cell": false,
   "toc_position": {
    "height": "calc(100% - 180px)",
    "left": "10px",
    "top": "150px",
    "width": "165px"
   },
   "toc_section_display": true,
   "toc_window_display": true
  }
 },
 "nbformat": 4,
 "nbformat_minor": 2
}
