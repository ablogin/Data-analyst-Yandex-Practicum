{
 "cells": [
  {
   "cell_type": "markdown",
   "id": "4f6e331d",
   "metadata": {},
   "source": [
    "# Исследование надежности заемщиков."
   ]
  },
  {
   "cell_type": "markdown",
   "id": "c958d1c1",
   "metadata": {},
   "source": [
    "### Шаг 1. Обзор данных"
   ]
  },
  {
   "cell_type": "code",
   "execution_count": 1,
   "id": "584199ba",
   "metadata": {
    "scrolled": false
   },
   "outputs": [
    {
     "data": {
      "text/html": [
       "<div>\n",
       "<style scoped>\n",
       "    .dataframe tbody tr th:only-of-type {\n",
       "        vertical-align: middle;\n",
       "    }\n",
       "\n",
       "    .dataframe tbody tr th {\n",
       "        vertical-align: top;\n",
       "    }\n",
       "\n",
       "    .dataframe thead th {\n",
       "        text-align: right;\n",
       "    }\n",
       "</style>\n",
       "<table border=\"1\" class=\"dataframe\">\n",
       "  <thead>\n",
       "    <tr style=\"text-align: right;\">\n",
       "      <th></th>\n",
       "      <th>children</th>\n",
       "      <th>days_employed</th>\n",
       "      <th>dob_years</th>\n",
       "      <th>education</th>\n",
       "      <th>education_id</th>\n",
       "      <th>family_status</th>\n",
       "      <th>family_status_id</th>\n",
       "      <th>gender</th>\n",
       "      <th>income_type</th>\n",
       "      <th>debt</th>\n",
       "      <th>total_income</th>\n",
       "      <th>purpose</th>\n",
       "    </tr>\n",
       "  </thead>\n",
       "  <tbody>\n",
       "    <tr>\n",
       "      <th>0</th>\n",
       "      <td>1</td>\n",
       "      <td>-8437.673028</td>\n",
       "      <td>42</td>\n",
       "      <td>высшее</td>\n",
       "      <td>0</td>\n",
       "      <td>женат / замужем</td>\n",
       "      <td>0</td>\n",
       "      <td>F</td>\n",
       "      <td>сотрудник</td>\n",
       "      <td>0</td>\n",
       "      <td>253875.639453</td>\n",
       "      <td>покупка жилья</td>\n",
       "    </tr>\n",
       "    <tr>\n",
       "      <th>1</th>\n",
       "      <td>1</td>\n",
       "      <td>-4024.803754</td>\n",
       "      <td>36</td>\n",
       "      <td>среднее</td>\n",
       "      <td>1</td>\n",
       "      <td>женат / замужем</td>\n",
       "      <td>0</td>\n",
       "      <td>F</td>\n",
       "      <td>сотрудник</td>\n",
       "      <td>0</td>\n",
       "      <td>112080.014102</td>\n",
       "      <td>приобретение автомобиля</td>\n",
       "    </tr>\n",
       "    <tr>\n",
       "      <th>2</th>\n",
       "      <td>0</td>\n",
       "      <td>-5623.422610</td>\n",
       "      <td>33</td>\n",
       "      <td>Среднее</td>\n",
       "      <td>1</td>\n",
       "      <td>женат / замужем</td>\n",
       "      <td>0</td>\n",
       "      <td>M</td>\n",
       "      <td>сотрудник</td>\n",
       "      <td>0</td>\n",
       "      <td>145885.952297</td>\n",
       "      <td>покупка жилья</td>\n",
       "    </tr>\n",
       "    <tr>\n",
       "      <th>3</th>\n",
       "      <td>3</td>\n",
       "      <td>-4124.747207</td>\n",
       "      <td>32</td>\n",
       "      <td>среднее</td>\n",
       "      <td>1</td>\n",
       "      <td>женат / замужем</td>\n",
       "      <td>0</td>\n",
       "      <td>M</td>\n",
       "      <td>сотрудник</td>\n",
       "      <td>0</td>\n",
       "      <td>267628.550329</td>\n",
       "      <td>дополнительное образование</td>\n",
       "    </tr>\n",
       "    <tr>\n",
       "      <th>4</th>\n",
       "      <td>0</td>\n",
       "      <td>340266.072047</td>\n",
       "      <td>53</td>\n",
       "      <td>среднее</td>\n",
       "      <td>1</td>\n",
       "      <td>гражданский брак</td>\n",
       "      <td>1</td>\n",
       "      <td>F</td>\n",
       "      <td>пенсионер</td>\n",
       "      <td>0</td>\n",
       "      <td>158616.077870</td>\n",
       "      <td>сыграть свадьбу</td>\n",
       "    </tr>\n",
       "    <tr>\n",
       "      <th>5</th>\n",
       "      <td>0</td>\n",
       "      <td>-926.185831</td>\n",
       "      <td>27</td>\n",
       "      <td>высшее</td>\n",
       "      <td>0</td>\n",
       "      <td>гражданский брак</td>\n",
       "      <td>1</td>\n",
       "      <td>M</td>\n",
       "      <td>компаньон</td>\n",
       "      <td>0</td>\n",
       "      <td>255763.565419</td>\n",
       "      <td>покупка жилья</td>\n",
       "    </tr>\n",
       "    <tr>\n",
       "      <th>6</th>\n",
       "      <td>0</td>\n",
       "      <td>-2879.202052</td>\n",
       "      <td>43</td>\n",
       "      <td>высшее</td>\n",
       "      <td>0</td>\n",
       "      <td>женат / замужем</td>\n",
       "      <td>0</td>\n",
       "      <td>F</td>\n",
       "      <td>компаньон</td>\n",
       "      <td>0</td>\n",
       "      <td>240525.971920</td>\n",
       "      <td>операции с жильем</td>\n",
       "    </tr>\n",
       "    <tr>\n",
       "      <th>7</th>\n",
       "      <td>0</td>\n",
       "      <td>-152.779569</td>\n",
       "      <td>50</td>\n",
       "      <td>СРЕДНЕЕ</td>\n",
       "      <td>1</td>\n",
       "      <td>женат / замужем</td>\n",
       "      <td>0</td>\n",
       "      <td>M</td>\n",
       "      <td>сотрудник</td>\n",
       "      <td>0</td>\n",
       "      <td>135823.934197</td>\n",
       "      <td>образование</td>\n",
       "    </tr>\n",
       "    <tr>\n",
       "      <th>8</th>\n",
       "      <td>2</td>\n",
       "      <td>-6929.865299</td>\n",
       "      <td>35</td>\n",
       "      <td>ВЫСШЕЕ</td>\n",
       "      <td>0</td>\n",
       "      <td>гражданский брак</td>\n",
       "      <td>1</td>\n",
       "      <td>F</td>\n",
       "      <td>сотрудник</td>\n",
       "      <td>0</td>\n",
       "      <td>95856.832424</td>\n",
       "      <td>на проведение свадьбы</td>\n",
       "    </tr>\n",
       "    <tr>\n",
       "      <th>9</th>\n",
       "      <td>0</td>\n",
       "      <td>-2188.756445</td>\n",
       "      <td>41</td>\n",
       "      <td>среднее</td>\n",
       "      <td>1</td>\n",
       "      <td>женат / замужем</td>\n",
       "      <td>0</td>\n",
       "      <td>M</td>\n",
       "      <td>сотрудник</td>\n",
       "      <td>0</td>\n",
       "      <td>144425.938277</td>\n",
       "      <td>покупка жилья для семьи</td>\n",
       "    </tr>\n",
       "  </tbody>\n",
       "</table>\n",
       "</div>"
      ],
      "text/plain": [
       "   children  days_employed  dob_years education  education_id  \\\n",
       "0         1   -8437.673028         42    высшее             0   \n",
       "1         1   -4024.803754         36   среднее             1   \n",
       "2         0   -5623.422610         33   Среднее             1   \n",
       "3         3   -4124.747207         32   среднее             1   \n",
       "4         0  340266.072047         53   среднее             1   \n",
       "5         0    -926.185831         27    высшее             0   \n",
       "6         0   -2879.202052         43    высшее             0   \n",
       "7         0    -152.779569         50   СРЕДНЕЕ             1   \n",
       "8         2   -6929.865299         35    ВЫСШЕЕ             0   \n",
       "9         0   -2188.756445         41   среднее             1   \n",
       "\n",
       "      family_status  family_status_id gender income_type  debt   total_income  \\\n",
       "0   женат / замужем                 0      F   сотрудник     0  253875.639453   \n",
       "1   женат / замужем                 0      F   сотрудник     0  112080.014102   \n",
       "2   женат / замужем                 0      M   сотрудник     0  145885.952297   \n",
       "3   женат / замужем                 0      M   сотрудник     0  267628.550329   \n",
       "4  гражданский брак                 1      F   пенсионер     0  158616.077870   \n",
       "5  гражданский брак                 1      M   компаньон     0  255763.565419   \n",
       "6   женат / замужем                 0      F   компаньон     0  240525.971920   \n",
       "7   женат / замужем                 0      M   сотрудник     0  135823.934197   \n",
       "8  гражданский брак                 1      F   сотрудник     0   95856.832424   \n",
       "9   женат / замужем                 0      M   сотрудник     0  144425.938277   \n",
       "\n",
       "                      purpose  \n",
       "0               покупка жилья  \n",
       "1     приобретение автомобиля  \n",
       "2               покупка жилья  \n",
       "3  дополнительное образование  \n",
       "4             сыграть свадьбу  \n",
       "5               покупка жилья  \n",
       "6           операции с жильем  \n",
       "7                 образование  \n",
       "8       на проведение свадьбы  \n",
       "9     покупка жилья для семьи  "
      ]
     },
     "execution_count": 1,
     "metadata": {},
     "output_type": "execute_result"
    }
   ],
   "source": [
    "import pandas as pd\n",
    "\n",
    "clients = pd.read_csv('/Users/grigorij/Desktop/Портфолио/Исследование надежности заемщиков/data.csv') # чтение файла с данными и сохранение в clients\n",
    "\n",
    "clients.head(10) # получение первых 10 строк таблицы clients"
   ]
  },
  {
   "cell_type": "code",
   "execution_count": 2,
   "id": "0c9b09bc",
   "metadata": {
    "scrolled": true
   },
   "outputs": [
    {
     "name": "stdout",
     "output_type": "stream",
     "text": [
      "<class 'pandas.core.frame.DataFrame'>\n",
      "RangeIndex: 21525 entries, 0 to 21524\n",
      "Data columns (total 12 columns):\n",
      " #   Column            Non-Null Count  Dtype  \n",
      "---  ------            --------------  -----  \n",
      " 0   children          21525 non-null  int64  \n",
      " 1   days_employed     19351 non-null  float64\n",
      " 2   dob_years         21525 non-null  int64  \n",
      " 3   education         21525 non-null  object \n",
      " 4   education_id      21525 non-null  int64  \n",
      " 5   family_status     21525 non-null  object \n",
      " 6   family_status_id  21525 non-null  int64  \n",
      " 7   gender            21525 non-null  object \n",
      " 8   income_type       21525 non-null  object \n",
      " 9   debt              21525 non-null  int64  \n",
      " 10  total_income      19351 non-null  float64\n",
      " 11  purpose           21525 non-null  object \n",
      "dtypes: float64(2), int64(5), object(5)\n",
      "memory usage: 2.0+ MB\n"
     ]
    }
   ],
   "source": [
    "clients.info()# получение общей информации о данных в таблице clients"
   ]
  },
  {
   "cell_type": "code",
   "execution_count": 3,
   "id": "673689d3",
   "metadata": {},
   "outputs": [
    {
     "name": "stdout",
     "output_type": "stream",
     "text": [
      "children               0\n",
      "days_employed       2174\n",
      "dob_years              0\n",
      "education              0\n",
      "education_id           0\n",
      "family_status          0\n",
      "family_status_id       0\n",
      "gender                 0\n",
      "income_type            0\n",
      "debt                   0\n",
      "total_income        2174\n",
      "purpose                0\n",
      "dtype: int64\n"
     ]
    }
   ],
   "source": [
    "print(clients.isna().sum())# подсчёт пропусков"
   ]
  },
  {
   "cell_type": "markdown",
   "id": "cd2fb3ba",
   "metadata": {},
   "source": [
    "**Наблюдения:**\n",
    "\n",
    "1) Как видим, данные о стаже хранятся в днях, однако многие из них - отрицательные. А также имеются строки, которых данные исчисляются сотнями лет, что физически невозможно. Ниже посмотрим, как много таких значений и от чего они зависят. \n",
    "\n",
    "2) В столбцах со стажем работы и ежемесячным доходом имеется 2174 пропуска. Так как это практически 10% всех данных, их необходимо обработать. В разделе с обработкой пропусков затем проверим, в каких именно ячейках они содержатся и соотносятся ли друг с другом (т.к. есть предположение, что это одни и те же строки).\n",
    "\n",
    "3) Столбцы `days_employed` и `total_income` имеют формат с плавающей точкой, однако для наших расчетов достаточно целочисленного значения. \n",
    "\n",
    "Чтобы получить первичное представление о статистических характеристиках нашего датасета, используем метод describe:"
   ]
  },
  {
   "cell_type": "code",
   "execution_count": 4,
   "id": "2a56fec4",
   "metadata": {},
   "outputs": [
    {
     "data": {
      "text/html": [
       "<div>\n",
       "<style scoped>\n",
       "    .dataframe tbody tr th:only-of-type {\n",
       "        vertical-align: middle;\n",
       "    }\n",
       "\n",
       "    .dataframe tbody tr th {\n",
       "        vertical-align: top;\n",
       "    }\n",
       "\n",
       "    .dataframe thead th {\n",
       "        text-align: right;\n",
       "    }\n",
       "</style>\n",
       "<table border=\"1\" class=\"dataframe\">\n",
       "  <thead>\n",
       "    <tr style=\"text-align: right;\">\n",
       "      <th></th>\n",
       "      <th>children</th>\n",
       "      <th>days_employed</th>\n",
       "      <th>dob_years</th>\n",
       "      <th>education_id</th>\n",
       "      <th>family_status_id</th>\n",
       "      <th>debt</th>\n",
       "      <th>total_income</th>\n",
       "    </tr>\n",
       "  </thead>\n",
       "  <tbody>\n",
       "    <tr>\n",
       "      <th>count</th>\n",
       "      <td>21525.000000</td>\n",
       "      <td>19351.000000</td>\n",
       "      <td>21525.000000</td>\n",
       "      <td>21525.000000</td>\n",
       "      <td>21525.000000</td>\n",
       "      <td>21525.000000</td>\n",
       "      <td>1.935100e+04</td>\n",
       "    </tr>\n",
       "    <tr>\n",
       "      <th>mean</th>\n",
       "      <td>0.538908</td>\n",
       "      <td>63046.497661</td>\n",
       "      <td>43.293380</td>\n",
       "      <td>0.817236</td>\n",
       "      <td>0.972544</td>\n",
       "      <td>0.080883</td>\n",
       "      <td>1.674223e+05</td>\n",
       "    </tr>\n",
       "    <tr>\n",
       "      <th>std</th>\n",
       "      <td>1.381587</td>\n",
       "      <td>140827.311974</td>\n",
       "      <td>12.574584</td>\n",
       "      <td>0.548138</td>\n",
       "      <td>1.420324</td>\n",
       "      <td>0.272661</td>\n",
       "      <td>1.029716e+05</td>\n",
       "    </tr>\n",
       "    <tr>\n",
       "      <th>min</th>\n",
       "      <td>-1.000000</td>\n",
       "      <td>-18388.949901</td>\n",
       "      <td>0.000000</td>\n",
       "      <td>0.000000</td>\n",
       "      <td>0.000000</td>\n",
       "      <td>0.000000</td>\n",
       "      <td>2.066726e+04</td>\n",
       "    </tr>\n",
       "    <tr>\n",
       "      <th>25%</th>\n",
       "      <td>0.000000</td>\n",
       "      <td>-2747.423625</td>\n",
       "      <td>33.000000</td>\n",
       "      <td>1.000000</td>\n",
       "      <td>0.000000</td>\n",
       "      <td>0.000000</td>\n",
       "      <td>1.030532e+05</td>\n",
       "    </tr>\n",
       "    <tr>\n",
       "      <th>50%</th>\n",
       "      <td>0.000000</td>\n",
       "      <td>-1203.369529</td>\n",
       "      <td>42.000000</td>\n",
       "      <td>1.000000</td>\n",
       "      <td>0.000000</td>\n",
       "      <td>0.000000</td>\n",
       "      <td>1.450179e+05</td>\n",
       "    </tr>\n",
       "    <tr>\n",
       "      <th>75%</th>\n",
       "      <td>1.000000</td>\n",
       "      <td>-291.095954</td>\n",
       "      <td>53.000000</td>\n",
       "      <td>1.000000</td>\n",
       "      <td>1.000000</td>\n",
       "      <td>0.000000</td>\n",
       "      <td>2.034351e+05</td>\n",
       "    </tr>\n",
       "    <tr>\n",
       "      <th>max</th>\n",
       "      <td>20.000000</td>\n",
       "      <td>401755.400475</td>\n",
       "      <td>75.000000</td>\n",
       "      <td>4.000000</td>\n",
       "      <td>4.000000</td>\n",
       "      <td>1.000000</td>\n",
       "      <td>2.265604e+06</td>\n",
       "    </tr>\n",
       "  </tbody>\n",
       "</table>\n",
       "</div>"
      ],
      "text/plain": [
       "           children  days_employed     dob_years  education_id  \\\n",
       "count  21525.000000   19351.000000  21525.000000  21525.000000   \n",
       "mean       0.538908   63046.497661     43.293380      0.817236   \n",
       "std        1.381587  140827.311974     12.574584      0.548138   \n",
       "min       -1.000000  -18388.949901      0.000000      0.000000   \n",
       "25%        0.000000   -2747.423625     33.000000      1.000000   \n",
       "50%        0.000000   -1203.369529     42.000000      1.000000   \n",
       "75%        1.000000    -291.095954     53.000000      1.000000   \n",
       "max       20.000000  401755.400475     75.000000      4.000000   \n",
       "\n",
       "       family_status_id          debt  total_income  \n",
       "count      21525.000000  21525.000000  1.935100e+04  \n",
       "mean           0.972544      0.080883  1.674223e+05  \n",
       "std            1.420324      0.272661  1.029716e+05  \n",
       "min            0.000000      0.000000  2.066726e+04  \n",
       "25%            0.000000      0.000000  1.030532e+05  \n",
       "50%            0.000000      0.000000  1.450179e+05  \n",
       "75%            1.000000      0.000000  2.034351e+05  \n",
       "max            4.000000      1.000000  2.265604e+06  "
      ]
     },
     "execution_count": 4,
     "metadata": {},
     "output_type": "execute_result"
    }
   ],
   "source": [
    "clients.describe()"
   ]
  },
  {
   "cell_type": "markdown",
   "id": "ec2f2b77",
   "metadata": {},
   "source": [
    "**Наблюдения:** \n",
    "\n",
    "1) \"Подозрительные\" данные в столбце с количеством детей: -1 и 20 (с отрицательным значением - возможно техническая ошибка; с большим количеством - нужно проверять, была это ошибка ввода, или уникальный случай). Проверим, сколько таких строк, а также другие возможные аномальные значения.\n",
    "\n",
    "2) Снова подтверждается наблюдение о том, что данные о стаже заполнены некорректно - минимальное значение отрицательное, а максимальное значение составляет 1100 лет. Перед заполнением пропусков, нужно будет обработать и привести эти данные в порядок.\n",
    "\n",
    "3) Минимальный возраст клиента - 0 лет, нужно проверить, сколько таких строк, и либо избавиться от них, либо заменить на подходящее значение. Также можно проверить, сколько клиентов с возрастом меньше 18 лет."
   ]
  },
  {
   "cell_type": "markdown",
   "id": "82c262c2",
   "metadata": {},
   "source": [
    "### Шаг 2.1 Заполнение пропусков"
   ]
  },
  {
   "cell_type": "markdown",
   "id": "c30bc238",
   "metadata": {},
   "source": [
    "Сначала проверим, пропущенные значения стобцов находятся в одних и тех же строках, или нет:\n"
   ]
  },
  {
   "cell_type": "code",
   "execution_count": 5,
   "id": "33c85e78",
   "metadata": {},
   "outputs": [
    {
     "name": "stdout",
     "output_type": "stream",
     "text": [
      "<class 'pandas.core.frame.DataFrame'>\n",
      "Int64Index: 2174 entries, 12 to 21510\n",
      "Data columns (total 12 columns):\n",
      " #   Column            Non-Null Count  Dtype  \n",
      "---  ------            --------------  -----  \n",
      " 0   children          2174 non-null   int64  \n",
      " 1   days_employed     0 non-null      float64\n",
      " 2   dob_years         2174 non-null   int64  \n",
      " 3   education         2174 non-null   object \n",
      " 4   education_id      2174 non-null   int64  \n",
      " 5   family_status     2174 non-null   object \n",
      " 6   family_status_id  2174 non-null   int64  \n",
      " 7   gender            2174 non-null   object \n",
      " 8   income_type       2174 non-null   object \n",
      " 9   debt              2174 non-null   int64  \n",
      " 10  total_income      0 non-null      float64\n",
      " 11  purpose           2174 non-null   object \n",
      "dtypes: float64(2), int64(5), object(5)\n",
      "memory usage: 220.8+ KB\n"
     ]
    }
   ],
   "source": [
    "clients[(clients['days_employed'].isnull() == True) & (clients['total_income'].isnull() == True)].info()\n"
   ]
  },
  {
   "cell_type": "markdown",
   "id": "8a45940d",
   "metadata": {},
   "source": [
    "Пропущенные значения находятся в одних и тех же строках. Узнаем, в каких группах состоят эти клиенты:"
   ]
  },
  {
   "cell_type": "code",
   "execution_count": 6,
   "id": "b9c528f4",
   "metadata": {},
   "outputs": [
    {
     "data": {
      "text/plain": [
       "сотрудник          1105\n",
       "компаньон           508\n",
       "пенсионер           413\n",
       "госслужащий         147\n",
       "предприниматель       1\n",
       "Name: income_type, dtype: int64"
      ]
     },
     "execution_count": 6,
     "metadata": {},
     "output_type": "execute_result"
    }
   ],
   "source": [
    "clients[(clients['days_employed'].isnull() == True) & (clients['total_income'].isnull() == True)]['income_type'].value_counts()\n"
   ]
  },
  {
   "cell_type": "markdown",
   "id": "9019b559",
   "metadata": {},
   "source": [
    "Значит, для подстановки вместо нулевых значений, имеет смысл использовать усредненные значения в разбивке по группам. В данном случае лучше использовать медиану, т.к. разброс данных относительно среднего значения значительный.\n",
    "\n",
    "Мы уже можем подставить данные в столбец с заработком `total_income`, однако необходимо привести в порядок столбец со стажем работы, а также исправить другие аномалии. "
   ]
  },
  {
   "cell_type": "markdown",
   "id": "73440b15",
   "metadata": {},
   "source": [
    "### Шаг 2.2 Проверка данных на аномалии и исправления."
   ]
  },
  {
   "cell_type": "markdown",
   "id": "c3c48d1d",
   "metadata": {},
   "source": [
    "Посмотрим, сколько отрицательных и положительных значений в столбце `days_employed`, и попробуем сделать вывод, как их можно исправить для дальнейшей работы."
   ]
  },
  {
   "cell_type": "code",
   "execution_count": 7,
   "id": "350ef402",
   "metadata": {},
   "outputs": [
    {
     "name": "stdout",
     "output_type": "stream",
     "text": [
      "Строк в 'days_employed' > 0: 3445\n",
      "Строк в 'days_employed' < 0: 15906\n"
     ]
    },
    {
     "data": {
      "text/plain": [
       "пенсионер      3443\n",
       "безработный       2\n",
       "сотрудник         1\n",
       "компаньон         1\n",
       "Name: income_type, dtype: int64"
      ]
     },
     "execution_count": 7,
     "metadata": {},
     "output_type": "execute_result"
    }
   ],
   "source": [
    "print(\"Строк в 'days_employed' > 0:\", clients[clients['days_employed'] > 0]['days_employed'].shape[0])\n",
    "print(\"Строк в 'days_employed' < 0:\", clients[clients['days_employed'] < 0].shape[0])\n",
    "\n",
    "#выведем количество клиентов, чей стаж больше максимального - 47 лет (65 лет минус 18 лет)\n",
    "\n",
    "clients[(clients['days_employed'].abs() > 17155)]['income_type'].value_counts() #сколько людей имеют стаж больше максимально возможного 47 лет, в разбивке по категориям\n"
   ]
  },
  {
   "cell_type": "code",
   "execution_count": 8,
   "id": "0c1578c1",
   "metadata": {},
   "outputs": [
    {
     "data": {
      "text/plain": [
       "сотрудник          11119\n",
       "компаньон           5085\n",
       "пенсионер           3856\n",
       "госслужащий         1459\n",
       "предприниматель        2\n",
       "безработный            2\n",
       "в декрете              1\n",
       "студент                1\n",
       "Name: income_type, dtype: int64"
      ]
     },
     "execution_count": 8,
     "metadata": {},
     "output_type": "execute_result"
    }
   ],
   "source": [
    "clients['income_type'].value_counts() #выведем для информации количество клиентов по категориям"
   ]
  },
  {
   "cell_type": "markdown",
   "id": "f861c389",
   "metadata": {},
   "source": [
    "Большинство строк, выходящих за максимальное значение, относятся к категории \"пенсионер\" и \"безработный\". Скорее всего это может быть связано с особенностями обработки анкет этих категорий клиентов (не предоставляют документы о своей работе, а опираются на другие документы, например).\n",
    "\n",
    "Предположим, что данные по стажу в этих категориях можно ограничить по максимально возможной планке в 47 лет. \n",
    "\n",
    "Две других строчки из категории \"сотрудник\" и \"компаньон\" - можно заменить медианным значением по категорииб либо так же заменить на максимально возможный.\n",
    "\n",
    "Отрицательные значения предлагаю взять по модулю, предположив, что это ошибка в отображении информации (а в остальном - стаж в рамках реальных цифр)."
   ]
  },
  {
   "cell_type": "code",
   "execution_count": 9,
   "id": "5928c8fe",
   "metadata": {},
   "outputs": [
    {
     "data": {
      "text/plain": [
       "пенсионер      3443\n",
       "безработный       2\n",
       "сотрудник         1\n",
       "компаньон         1\n",
       "Name: income_type, dtype: int64"
      ]
     },
     "execution_count": 9,
     "metadata": {},
     "output_type": "execute_result"
    }
   ],
   "source": [
    "clients['days_employed'] = clients['days_employed'].abs() #сделаем данные о стаже положительными\n",
    "clients.loc[(clients['days_employed'] > 17155),'days_employed'] = 17155 #заменим данные, выходящие за пределы максимального на максимальное\n",
    "clients[(clients['days_employed'] == 17155)]['income_type'].value_counts() #выведем количество замененных строк для проверки\n"
   ]
  },
  {
   "cell_type": "markdown",
   "id": "9e929bd7",
   "metadata": {},
   "source": [
    "Исправим ошибки в столбце `children`:"
   ]
  },
  {
   "cell_type": "code",
   "execution_count": 10,
   "id": "7590936a",
   "metadata": {},
   "outputs": [
    {
     "name": "stdout",
     "output_type": "stream",
     "text": [
      "Количество строк с 'children' -1 - 47\n",
      "Количество строк с 'children' 20 - 76\n"
     ]
    }
   ],
   "source": [
    "print(\"Количество строк с 'children' -1 -\", clients[clients['children'] == -1].count()[0])\n",
    "print(\"Количество строк с 'children' 20 -\", clients[clients['children'] == 20].count()[0])"
   ]
  },
  {
   "cell_type": "code",
   "execution_count": 11,
   "id": "4429d86b",
   "metadata": {},
   "outputs": [
    {
     "name": "stdout",
     "output_type": "stream",
     "text": [
      "Количество строк с 'children' -1 - 0\n"
     ]
    }
   ],
   "source": [
    "#заменим количество детей -1 на 0\n",
    "clients['children'] = clients['children'].replace(-1, 0)\n",
    "print(\"Количество строк с 'children' -1 -\", clients[clients['children'] == -1].count()[0])"
   ]
  },
  {
   "cell_type": "markdown",
   "id": "dcece45c",
   "metadata": {},
   "source": [
    "Таким образом, избавились от строчек с отрицательным количеством детей. Данные в строках с количеством 20 детей не единичные, поэтому оставим их и потом будем учитывать как многодетных (потому что не знаем, чем именно вызвана ошибка данных). В идеале уточнить эту информацию у источника данных.\n",
    "\n",
    "Теперь заменим данные в строках с возрастом меньше 18 лет на медианные по группе:"
   ]
  },
  {
   "cell_type": "code",
   "execution_count": 12,
   "id": "b340ec42",
   "metadata": {},
   "outputs": [
    {
     "name": "stdout",
     "output_type": "stream",
     "text": [
      "Количество строк с 'dob_years' 0 - 101\n",
      "Количество строк с 'dob_years' < 18 - 101\n"
     ]
    }
   ],
   "source": [
    "print(\"Количество строк с 'dob_years' 0 -\", clients[clients['dob_years'] == 0].count()[0])\n",
    "print(\"Количество строк с 'dob_years' < 18 -\", clients[clients['dob_years'] < 18].count()[0])"
   ]
  },
  {
   "cell_type": "code",
   "execution_count": 13,
   "id": "c4789ca6",
   "metadata": {},
   "outputs": [
    {
     "name": "stdout",
     "output_type": "stream",
     "text": [
      "Количество строк с 'dob_years' 0 - 0\n"
     ]
    }
   ],
   "source": [
    "#все значения меньше 18 - нулевые \n",
    "#заменим данные в этих строках на медианные \n",
    "\n",
    "clients.loc[(clients['dob_years'] < 18),'dob_years'] = clients.groupby('income_type')['dob_years'].transform('median')\n",
    "print(\"Количество строк с 'dob_years' 0 -\", clients[clients['dob_years'] == 0].count()[0]) #проверим факт замены"
   ]
  },
  {
   "cell_type": "code",
   "execution_count": 14,
   "id": "cbc82504",
   "metadata": {},
   "outputs": [
    {
     "data": {
      "text/plain": [
       "F      14236\n",
       "M       7288\n",
       "XNA        1\n",
       "Name: gender, dtype: int64"
      ]
     },
     "execution_count": 14,
     "metadata": {},
     "output_type": "execute_result"
    }
   ],
   "source": [
    "#проверим столбец gender\n",
    "clients['gender'].value_counts()"
   ]
  },
  {
   "cell_type": "code",
   "execution_count": 15,
   "id": "7da5a7a6",
   "metadata": {},
   "outputs": [
    {
     "data": {
      "text/plain": [
       "F    14236\n",
       "M     7288\n",
       "Name: gender, dtype: int64"
      ]
     },
     "execution_count": 15,
     "metadata": {},
     "output_type": "execute_result"
    }
   ],
   "source": [
    "#удалим строку с неопределенным полом\n",
    "clients = clients[clients['gender'] != 'XNA']\n",
    "clients['gender'].value_counts() #проверим удаление"
   ]
  },
  {
   "cell_type": "markdown",
   "id": "b621ddd5",
   "metadata": {},
   "source": [
    "Завершив все преобразования, финально заполним все пропуски в столбцах `days_employed` и `total_income` медианными значениями в разбивке по группам:"
   ]
  },
  {
   "cell_type": "code",
   "execution_count": 16,
   "id": "18c0cfd4",
   "metadata": {},
   "outputs": [
    {
     "data": {
      "text/html": [
       "<div>\n",
       "<style scoped>\n",
       "    .dataframe tbody tr th:only-of-type {\n",
       "        vertical-align: middle;\n",
       "    }\n",
       "\n",
       "    .dataframe tbody tr th {\n",
       "        vertical-align: top;\n",
       "    }\n",
       "\n",
       "    .dataframe thead th {\n",
       "        text-align: right;\n",
       "    }\n",
       "</style>\n",
       "<table border=\"1\" class=\"dataframe\">\n",
       "  <thead>\n",
       "    <tr style=\"text-align: right;\">\n",
       "      <th></th>\n",
       "      <th>children</th>\n",
       "      <th>days_employed</th>\n",
       "      <th>dob_years</th>\n",
       "      <th>education</th>\n",
       "      <th>education_id</th>\n",
       "      <th>family_status</th>\n",
       "      <th>family_status_id</th>\n",
       "      <th>gender</th>\n",
       "      <th>income_type</th>\n",
       "      <th>debt</th>\n",
       "      <th>total_income</th>\n",
       "      <th>purpose</th>\n",
       "    </tr>\n",
       "  </thead>\n",
       "  <tbody>\n",
       "    <tr>\n",
       "      <th>0</th>\n",
       "      <td>1</td>\n",
       "      <td>8437.673028</td>\n",
       "      <td>42.0</td>\n",
       "      <td>высшее</td>\n",
       "      <td>0</td>\n",
       "      <td>женат / замужем</td>\n",
       "      <td>0</td>\n",
       "      <td>F</td>\n",
       "      <td>сотрудник</td>\n",
       "      <td>0</td>\n",
       "      <td>253875.639453</td>\n",
       "      <td>покупка жилья</td>\n",
       "    </tr>\n",
       "    <tr>\n",
       "      <th>1</th>\n",
       "      <td>1</td>\n",
       "      <td>4024.803754</td>\n",
       "      <td>36.0</td>\n",
       "      <td>среднее</td>\n",
       "      <td>1</td>\n",
       "      <td>женат / замужем</td>\n",
       "      <td>0</td>\n",
       "      <td>F</td>\n",
       "      <td>сотрудник</td>\n",
       "      <td>0</td>\n",
       "      <td>112080.014102</td>\n",
       "      <td>приобретение автомобиля</td>\n",
       "    </tr>\n",
       "    <tr>\n",
       "      <th>2</th>\n",
       "      <td>0</td>\n",
       "      <td>5623.422610</td>\n",
       "      <td>33.0</td>\n",
       "      <td>Среднее</td>\n",
       "      <td>1</td>\n",
       "      <td>женат / замужем</td>\n",
       "      <td>0</td>\n",
       "      <td>M</td>\n",
       "      <td>сотрудник</td>\n",
       "      <td>0</td>\n",
       "      <td>145885.952297</td>\n",
       "      <td>покупка жилья</td>\n",
       "    </tr>\n",
       "    <tr>\n",
       "      <th>3</th>\n",
       "      <td>3</td>\n",
       "      <td>4124.747207</td>\n",
       "      <td>32.0</td>\n",
       "      <td>среднее</td>\n",
       "      <td>1</td>\n",
       "      <td>женат / замужем</td>\n",
       "      <td>0</td>\n",
       "      <td>M</td>\n",
       "      <td>сотрудник</td>\n",
       "      <td>0</td>\n",
       "      <td>267628.550329</td>\n",
       "      <td>дополнительное образование</td>\n",
       "    </tr>\n",
       "    <tr>\n",
       "      <th>4</th>\n",
       "      <td>0</td>\n",
       "      <td>17155.000000</td>\n",
       "      <td>53.0</td>\n",
       "      <td>среднее</td>\n",
       "      <td>1</td>\n",
       "      <td>гражданский брак</td>\n",
       "      <td>1</td>\n",
       "      <td>F</td>\n",
       "      <td>пенсионер</td>\n",
       "      <td>0</td>\n",
       "      <td>158616.077870</td>\n",
       "      <td>сыграть свадьбу</td>\n",
       "    </tr>\n",
       "    <tr>\n",
       "      <th>5</th>\n",
       "      <td>0</td>\n",
       "      <td>926.185831</td>\n",
       "      <td>27.0</td>\n",
       "      <td>высшее</td>\n",
       "      <td>0</td>\n",
       "      <td>гражданский брак</td>\n",
       "      <td>1</td>\n",
       "      <td>M</td>\n",
       "      <td>компаньон</td>\n",
       "      <td>0</td>\n",
       "      <td>255763.565419</td>\n",
       "      <td>покупка жилья</td>\n",
       "    </tr>\n",
       "    <tr>\n",
       "      <th>6</th>\n",
       "      <td>0</td>\n",
       "      <td>2879.202052</td>\n",
       "      <td>43.0</td>\n",
       "      <td>высшее</td>\n",
       "      <td>0</td>\n",
       "      <td>женат / замужем</td>\n",
       "      <td>0</td>\n",
       "      <td>F</td>\n",
       "      <td>компаньон</td>\n",
       "      <td>0</td>\n",
       "      <td>240525.971920</td>\n",
       "      <td>операции с жильем</td>\n",
       "    </tr>\n",
       "    <tr>\n",
       "      <th>7</th>\n",
       "      <td>0</td>\n",
       "      <td>152.779569</td>\n",
       "      <td>50.0</td>\n",
       "      <td>СРЕДНЕЕ</td>\n",
       "      <td>1</td>\n",
       "      <td>женат / замужем</td>\n",
       "      <td>0</td>\n",
       "      <td>M</td>\n",
       "      <td>сотрудник</td>\n",
       "      <td>0</td>\n",
       "      <td>135823.934197</td>\n",
       "      <td>образование</td>\n",
       "    </tr>\n",
       "    <tr>\n",
       "      <th>8</th>\n",
       "      <td>2</td>\n",
       "      <td>6929.865299</td>\n",
       "      <td>35.0</td>\n",
       "      <td>ВЫСШЕЕ</td>\n",
       "      <td>0</td>\n",
       "      <td>гражданский брак</td>\n",
       "      <td>1</td>\n",
       "      <td>F</td>\n",
       "      <td>сотрудник</td>\n",
       "      <td>0</td>\n",
       "      <td>95856.832424</td>\n",
       "      <td>на проведение свадьбы</td>\n",
       "    </tr>\n",
       "    <tr>\n",
       "      <th>9</th>\n",
       "      <td>0</td>\n",
       "      <td>2188.756445</td>\n",
       "      <td>41.0</td>\n",
       "      <td>среднее</td>\n",
       "      <td>1</td>\n",
       "      <td>женат / замужем</td>\n",
       "      <td>0</td>\n",
       "      <td>M</td>\n",
       "      <td>сотрудник</td>\n",
       "      <td>0</td>\n",
       "      <td>144425.938277</td>\n",
       "      <td>покупка жилья для семьи</td>\n",
       "    </tr>\n",
       "  </tbody>\n",
       "</table>\n",
       "</div>"
      ],
      "text/plain": [
       "   children  days_employed  dob_years education  education_id  \\\n",
       "0         1    8437.673028       42.0    высшее             0   \n",
       "1         1    4024.803754       36.0   среднее             1   \n",
       "2         0    5623.422610       33.0   Среднее             1   \n",
       "3         3    4124.747207       32.0   среднее             1   \n",
       "4         0   17155.000000       53.0   среднее             1   \n",
       "5         0     926.185831       27.0    высшее             0   \n",
       "6         0    2879.202052       43.0    высшее             0   \n",
       "7         0     152.779569       50.0   СРЕДНЕЕ             1   \n",
       "8         2    6929.865299       35.0    ВЫСШЕЕ             0   \n",
       "9         0    2188.756445       41.0   среднее             1   \n",
       "\n",
       "      family_status  family_status_id gender income_type  debt   total_income  \\\n",
       "0   женат / замужем                 0      F   сотрудник     0  253875.639453   \n",
       "1   женат / замужем                 0      F   сотрудник     0  112080.014102   \n",
       "2   женат / замужем                 0      M   сотрудник     0  145885.952297   \n",
       "3   женат / замужем                 0      M   сотрудник     0  267628.550329   \n",
       "4  гражданский брак                 1      F   пенсионер     0  158616.077870   \n",
       "5  гражданский брак                 1      M   компаньон     0  255763.565419   \n",
       "6   женат / замужем                 0      F   компаньон     0  240525.971920   \n",
       "7   женат / замужем                 0      M   сотрудник     0  135823.934197   \n",
       "8  гражданский брак                 1      F   сотрудник     0   95856.832424   \n",
       "9   женат / замужем                 0      M   сотрудник     0  144425.938277   \n",
       "\n",
       "                      purpose  \n",
       "0               покупка жилья  \n",
       "1     приобретение автомобиля  \n",
       "2               покупка жилья  \n",
       "3  дополнительное образование  \n",
       "4             сыграть свадьбу  \n",
       "5               покупка жилья  \n",
       "6           операции с жильем  \n",
       "7                 образование  \n",
       "8       на проведение свадьбы  \n",
       "9     покупка жилья для семьи  "
      ]
     },
     "execution_count": 16,
     "metadata": {},
     "output_type": "execute_result"
    }
   ],
   "source": [
    "clients['days_employed'] = clients['days_employed'].fillna(clients.groupby('income_type')['days_employed'].transform('median'))\n",
    "clients['total_income'] = clients['total_income'].fillna(clients.groupby('income_type')['total_income'].transform('median'))\n",
    "clients.head(10)\n"
   ]
  },
  {
   "cell_type": "code",
   "execution_count": 17,
   "id": "cb63757e",
   "metadata": {},
   "outputs": [
    {
     "name": "stdout",
     "output_type": "stream",
     "text": [
      "children            0\n",
      "days_employed       0\n",
      "dob_years           0\n",
      "education           0\n",
      "education_id        0\n",
      "family_status       0\n",
      "family_status_id    0\n",
      "gender              0\n",
      "income_type         0\n",
      "debt                0\n",
      "total_income        0\n",
      "purpose             0\n",
      "dtype: int64\n"
     ]
    }
   ],
   "source": [
    "print(clients.isna().sum())# проверим замену пропусков\n"
   ]
  },
  {
   "cell_type": "markdown",
   "id": "e4735ea7",
   "metadata": {},
   "source": [
    "### Шаг 2.3. Изменение типов данных."
   ]
  },
  {
   "cell_type": "code",
   "execution_count": 18,
   "id": "35c0774d",
   "metadata": {},
   "outputs": [
    {
     "name": "stdout",
     "output_type": "stream",
     "text": [
      "<class 'pandas.core.frame.DataFrame'>\n",
      "Int64Index: 21524 entries, 0 to 21524\n",
      "Data columns (total 12 columns):\n",
      " #   Column            Non-Null Count  Dtype  \n",
      "---  ------            --------------  -----  \n",
      " 0   children          21524 non-null  int64  \n",
      " 1   days_employed     21524 non-null  float64\n",
      " 2   dob_years         21524 non-null  float64\n",
      " 3   education         21524 non-null  object \n",
      " 4   education_id      21524 non-null  int64  \n",
      " 5   family_status     21524 non-null  object \n",
      " 6   family_status_id  21524 non-null  int64  \n",
      " 7   gender            21524 non-null  object \n",
      " 8   income_type       21524 non-null  object \n",
      " 9   debt              21524 non-null  int64  \n",
      " 10  total_income      21524 non-null  float64\n",
      " 11  purpose           21524 non-null  object \n",
      "dtypes: float64(3), int64(4), object(5)\n",
      "memory usage: 2.1+ MB\n"
     ]
    }
   ],
   "source": [
    "clients.info() #проверим типы данных в датасете"
   ]
  },
  {
   "cell_type": "code",
   "execution_count": 19,
   "id": "09d3c400",
   "metadata": {},
   "outputs": [
    {
     "name": "stdout",
     "output_type": "stream",
     "text": [
      "<class 'pandas.core.frame.DataFrame'>\n",
      "Int64Index: 21524 entries, 0 to 21524\n",
      "Data columns (total 12 columns):\n",
      " #   Column            Non-Null Count  Dtype \n",
      "---  ------            --------------  ----- \n",
      " 0   children          21524 non-null  int64 \n",
      " 1   days_employed     21524 non-null  int64 \n",
      " 2   dob_years         21524 non-null  int64 \n",
      " 3   education         21524 non-null  object\n",
      " 4   education_id      21524 non-null  int64 \n",
      " 5   family_status     21524 non-null  object\n",
      " 6   family_status_id  21524 non-null  int64 \n",
      " 7   gender            21524 non-null  object\n",
      " 8   income_type       21524 non-null  object\n",
      " 9   debt              21524 non-null  int64 \n",
      " 10  total_income      21524 non-null  int64 \n",
      " 11  purpose           21524 non-null  object\n",
      "dtypes: int64(7), object(5)\n",
      "memory usage: 2.1+ MB\n"
     ]
    }
   ],
   "source": [
    "#заменим тип данных с плавающей точкой на целочисленный, так как это не мешает нашим исследованиям, а представление в таблице будет более читабельным\n",
    "clients['dob_years'] = clients['dob_years'].astype('int')\n",
    "clients['days_employed'] = clients['days_employed'].astype('int')\n",
    "clients['total_income'] = clients['total_income'].astype('int')\n",
    "clients.info()"
   ]
  },
  {
   "cell_type": "code",
   "execution_count": 20,
   "id": "1ed0e9b6",
   "metadata": {},
   "outputs": [
    {
     "data": {
      "text/html": [
       "<div>\n",
       "<style scoped>\n",
       "    .dataframe tbody tr th:only-of-type {\n",
       "        vertical-align: middle;\n",
       "    }\n",
       "\n",
       "    .dataframe tbody tr th {\n",
       "        vertical-align: top;\n",
       "    }\n",
       "\n",
       "    .dataframe thead th {\n",
       "        text-align: right;\n",
       "    }\n",
       "</style>\n",
       "<table border=\"1\" class=\"dataframe\">\n",
       "  <thead>\n",
       "    <tr style=\"text-align: right;\">\n",
       "      <th></th>\n",
       "      <th>children</th>\n",
       "      <th>days_employed</th>\n",
       "      <th>dob_years</th>\n",
       "      <th>education</th>\n",
       "      <th>education_id</th>\n",
       "      <th>family_status</th>\n",
       "      <th>family_status_id</th>\n",
       "      <th>gender</th>\n",
       "      <th>income_type</th>\n",
       "      <th>debt</th>\n",
       "      <th>total_income</th>\n",
       "      <th>purpose</th>\n",
       "    </tr>\n",
       "  </thead>\n",
       "  <tbody>\n",
       "    <tr>\n",
       "      <th>0</th>\n",
       "      <td>1</td>\n",
       "      <td>8437</td>\n",
       "      <td>42</td>\n",
       "      <td>высшее</td>\n",
       "      <td>0</td>\n",
       "      <td>женат / замужем</td>\n",
       "      <td>0</td>\n",
       "      <td>F</td>\n",
       "      <td>сотрудник</td>\n",
       "      <td>0</td>\n",
       "      <td>253875</td>\n",
       "      <td>покупка жилья</td>\n",
       "    </tr>\n",
       "    <tr>\n",
       "      <th>1</th>\n",
       "      <td>1</td>\n",
       "      <td>4024</td>\n",
       "      <td>36</td>\n",
       "      <td>среднее</td>\n",
       "      <td>1</td>\n",
       "      <td>женат / замужем</td>\n",
       "      <td>0</td>\n",
       "      <td>F</td>\n",
       "      <td>сотрудник</td>\n",
       "      <td>0</td>\n",
       "      <td>112080</td>\n",
       "      <td>приобретение автомобиля</td>\n",
       "    </tr>\n",
       "    <tr>\n",
       "      <th>2</th>\n",
       "      <td>0</td>\n",
       "      <td>5623</td>\n",
       "      <td>33</td>\n",
       "      <td>Среднее</td>\n",
       "      <td>1</td>\n",
       "      <td>женат / замужем</td>\n",
       "      <td>0</td>\n",
       "      <td>M</td>\n",
       "      <td>сотрудник</td>\n",
       "      <td>0</td>\n",
       "      <td>145885</td>\n",
       "      <td>покупка жилья</td>\n",
       "    </tr>\n",
       "    <tr>\n",
       "      <th>3</th>\n",
       "      <td>3</td>\n",
       "      <td>4124</td>\n",
       "      <td>32</td>\n",
       "      <td>среднее</td>\n",
       "      <td>1</td>\n",
       "      <td>женат / замужем</td>\n",
       "      <td>0</td>\n",
       "      <td>M</td>\n",
       "      <td>сотрудник</td>\n",
       "      <td>0</td>\n",
       "      <td>267628</td>\n",
       "      <td>дополнительное образование</td>\n",
       "    </tr>\n",
       "    <tr>\n",
       "      <th>4</th>\n",
       "      <td>0</td>\n",
       "      <td>17155</td>\n",
       "      <td>53</td>\n",
       "      <td>среднее</td>\n",
       "      <td>1</td>\n",
       "      <td>гражданский брак</td>\n",
       "      <td>1</td>\n",
       "      <td>F</td>\n",
       "      <td>пенсионер</td>\n",
       "      <td>0</td>\n",
       "      <td>158616</td>\n",
       "      <td>сыграть свадьбу</td>\n",
       "    </tr>\n",
       "    <tr>\n",
       "      <th>5</th>\n",
       "      <td>0</td>\n",
       "      <td>926</td>\n",
       "      <td>27</td>\n",
       "      <td>высшее</td>\n",
       "      <td>0</td>\n",
       "      <td>гражданский брак</td>\n",
       "      <td>1</td>\n",
       "      <td>M</td>\n",
       "      <td>компаньон</td>\n",
       "      <td>0</td>\n",
       "      <td>255763</td>\n",
       "      <td>покупка жилья</td>\n",
       "    </tr>\n",
       "    <tr>\n",
       "      <th>6</th>\n",
       "      <td>0</td>\n",
       "      <td>2879</td>\n",
       "      <td>43</td>\n",
       "      <td>высшее</td>\n",
       "      <td>0</td>\n",
       "      <td>женат / замужем</td>\n",
       "      <td>0</td>\n",
       "      <td>F</td>\n",
       "      <td>компаньон</td>\n",
       "      <td>0</td>\n",
       "      <td>240525</td>\n",
       "      <td>операции с жильем</td>\n",
       "    </tr>\n",
       "    <tr>\n",
       "      <th>7</th>\n",
       "      <td>0</td>\n",
       "      <td>152</td>\n",
       "      <td>50</td>\n",
       "      <td>СРЕДНЕЕ</td>\n",
       "      <td>1</td>\n",
       "      <td>женат / замужем</td>\n",
       "      <td>0</td>\n",
       "      <td>M</td>\n",
       "      <td>сотрудник</td>\n",
       "      <td>0</td>\n",
       "      <td>135823</td>\n",
       "      <td>образование</td>\n",
       "    </tr>\n",
       "    <tr>\n",
       "      <th>8</th>\n",
       "      <td>2</td>\n",
       "      <td>6929</td>\n",
       "      <td>35</td>\n",
       "      <td>ВЫСШЕЕ</td>\n",
       "      <td>0</td>\n",
       "      <td>гражданский брак</td>\n",
       "      <td>1</td>\n",
       "      <td>F</td>\n",
       "      <td>сотрудник</td>\n",
       "      <td>0</td>\n",
       "      <td>95856</td>\n",
       "      <td>на проведение свадьбы</td>\n",
       "    </tr>\n",
       "    <tr>\n",
       "      <th>9</th>\n",
       "      <td>0</td>\n",
       "      <td>2188</td>\n",
       "      <td>41</td>\n",
       "      <td>среднее</td>\n",
       "      <td>1</td>\n",
       "      <td>женат / замужем</td>\n",
       "      <td>0</td>\n",
       "      <td>M</td>\n",
       "      <td>сотрудник</td>\n",
       "      <td>0</td>\n",
       "      <td>144425</td>\n",
       "      <td>покупка жилья для семьи</td>\n",
       "    </tr>\n",
       "  </tbody>\n",
       "</table>\n",
       "</div>"
      ],
      "text/plain": [
       "   children  days_employed  dob_years education  education_id  \\\n",
       "0         1           8437         42    высшее             0   \n",
       "1         1           4024         36   среднее             1   \n",
       "2         0           5623         33   Среднее             1   \n",
       "3         3           4124         32   среднее             1   \n",
       "4         0          17155         53   среднее             1   \n",
       "5         0            926         27    высшее             0   \n",
       "6         0           2879         43    высшее             0   \n",
       "7         0            152         50   СРЕДНЕЕ             1   \n",
       "8         2           6929         35    ВЫСШЕЕ             0   \n",
       "9         0           2188         41   среднее             1   \n",
       "\n",
       "      family_status  family_status_id gender income_type  debt  total_income  \\\n",
       "0   женат / замужем                 0      F   сотрудник     0        253875   \n",
       "1   женат / замужем                 0      F   сотрудник     0        112080   \n",
       "2   женат / замужем                 0      M   сотрудник     0        145885   \n",
       "3   женат / замужем                 0      M   сотрудник     0        267628   \n",
       "4  гражданский брак                 1      F   пенсионер     0        158616   \n",
       "5  гражданский брак                 1      M   компаньон     0        255763   \n",
       "6   женат / замужем                 0      F   компаньон     0        240525   \n",
       "7   женат / замужем                 0      M   сотрудник     0        135823   \n",
       "8  гражданский брак                 1      F   сотрудник     0         95856   \n",
       "9   женат / замужем                 0      M   сотрудник     0        144425   \n",
       "\n",
       "                      purpose  \n",
       "0               покупка жилья  \n",
       "1     приобретение автомобиля  \n",
       "2               покупка жилья  \n",
       "3  дополнительное образование  \n",
       "4             сыграть свадьбу  \n",
       "5               покупка жилья  \n",
       "6           операции с жильем  \n",
       "7                 образование  \n",
       "8       на проведение свадьбы  \n",
       "9     покупка жилья для семьи  "
      ]
     },
     "metadata": {},
     "output_type": "display_data"
    }
   ],
   "source": [
    "display(clients.head(10))"
   ]
  },
  {
   "cell_type": "markdown",
   "id": "1e72b0ad",
   "metadata": {},
   "source": [
    "### Шаг 2.4. Удаление дубликатов."
   ]
  },
  {
   "cell_type": "markdown",
   "id": "553129d9",
   "metadata": {},
   "source": [
    "Проверим названия в столбцах `education`"
   ]
  },
  {
   "cell_type": "code",
   "execution_count": 21,
   "id": "ff46ba14",
   "metadata": {},
   "outputs": [
    {
     "name": "stdout",
     "output_type": "stream",
     "text": [
      "['ВЫСШЕЕ' 'Высшее' 'НАЧАЛЬНОЕ' 'НЕОКОНЧЕННОЕ ВЫСШЕЕ' 'Начальное'\n",
      " 'Неоконченное высшее' 'СРЕДНЕЕ' 'Среднее' 'УЧЕНАЯ СТЕПЕНЬ'\n",
      " 'Ученая степень' 'высшее' 'начальное' 'неоконченное высшее' 'среднее'\n",
      " 'ученая степень']\n"
     ]
    }
   ],
   "source": [
    "print(clients['education'].sort_values().unique())# Проверка на неявные дубликаты"
   ]
  },
  {
   "cell_type": "code",
   "execution_count": 22,
   "id": "6cc454e2",
   "metadata": {},
   "outputs": [
    {
     "name": "stdout",
     "output_type": "stream",
     "text": [
      "['высшее' 'начальное' 'неоконченное высшее' 'среднее' 'ученая степень']\n"
     ]
    }
   ],
   "source": [
    "#приведем их к единому виду с помощью low\n",
    "\n",
    "clients['education'] = clients['education'].str.lower()\n",
    "print(clients['education'].sort_values().unique()) #и проверим"
   ]
  },
  {
   "cell_type": "code",
   "execution_count": 23,
   "id": "49b45836",
   "metadata": {},
   "outputs": [
    {
     "data": {
      "text/plain": [
       "71"
      ]
     },
     "execution_count": 23,
     "metadata": {},
     "output_type": "execute_result"
    }
   ],
   "source": [
    "clients.duplicated().sum() #посмотрим количество дубликатов"
   ]
  },
  {
   "cell_type": "code",
   "execution_count": 24,
   "id": "8256bc3f",
   "metadata": {},
   "outputs": [
    {
     "data": {
      "text/html": [
       "<div>\n",
       "<style scoped>\n",
       "    .dataframe tbody tr th:only-of-type {\n",
       "        vertical-align: middle;\n",
       "    }\n",
       "\n",
       "    .dataframe tbody tr th {\n",
       "        vertical-align: top;\n",
       "    }\n",
       "\n",
       "    .dataframe thead th {\n",
       "        text-align: right;\n",
       "    }\n",
       "</style>\n",
       "<table border=\"1\" class=\"dataframe\">\n",
       "  <thead>\n",
       "    <tr style=\"text-align: right;\">\n",
       "      <th></th>\n",
       "      <th>children</th>\n",
       "      <th>days_employed</th>\n",
       "      <th>dob_years</th>\n",
       "      <th>education</th>\n",
       "      <th>education_id</th>\n",
       "      <th>family_status</th>\n",
       "      <th>family_status_id</th>\n",
       "      <th>gender</th>\n",
       "      <th>income_type</th>\n",
       "      <th>debt</th>\n",
       "      <th>total_income</th>\n",
       "      <th>purpose</th>\n",
       "    </tr>\n",
       "  </thead>\n",
       "  <tbody>\n",
       "    <tr>\n",
       "      <th>15892</th>\n",
       "      <td>0</td>\n",
       "      <td>1574</td>\n",
       "      <td>23</td>\n",
       "      <td>среднее</td>\n",
       "      <td>1</td>\n",
       "      <td>Не женат / не замужем</td>\n",
       "      <td>4</td>\n",
       "      <td>F</td>\n",
       "      <td>сотрудник</td>\n",
       "      <td>0</td>\n",
       "      <td>142594</td>\n",
       "      <td>сделка с подержанным автомобилем</td>\n",
       "    </tr>\n",
       "    <tr>\n",
       "      <th>19321</th>\n",
       "      <td>0</td>\n",
       "      <td>1574</td>\n",
       "      <td>23</td>\n",
       "      <td>среднее</td>\n",
       "      <td>1</td>\n",
       "      <td>Не женат / не замужем</td>\n",
       "      <td>4</td>\n",
       "      <td>F</td>\n",
       "      <td>сотрудник</td>\n",
       "      <td>0</td>\n",
       "      <td>142594</td>\n",
       "      <td>сделка с подержанным автомобилем</td>\n",
       "    </tr>\n",
       "    <tr>\n",
       "      <th>8853</th>\n",
       "      <td>1</td>\n",
       "      <td>1574</td>\n",
       "      <td>23</td>\n",
       "      <td>среднее</td>\n",
       "      <td>1</td>\n",
       "      <td>гражданский брак</td>\n",
       "      <td>1</td>\n",
       "      <td>F</td>\n",
       "      <td>сотрудник</td>\n",
       "      <td>0</td>\n",
       "      <td>142594</td>\n",
       "      <td>сыграть свадьбу</td>\n",
       "    </tr>\n",
       "    <tr>\n",
       "      <th>20297</th>\n",
       "      <td>1</td>\n",
       "      <td>1574</td>\n",
       "      <td>23</td>\n",
       "      <td>среднее</td>\n",
       "      <td>1</td>\n",
       "      <td>гражданский брак</td>\n",
       "      <td>1</td>\n",
       "      <td>F</td>\n",
       "      <td>сотрудник</td>\n",
       "      <td>0</td>\n",
       "      <td>142594</td>\n",
       "      <td>сыграть свадьбу</td>\n",
       "    </tr>\n",
       "    <tr>\n",
       "      <th>3452</th>\n",
       "      <td>0</td>\n",
       "      <td>1574</td>\n",
       "      <td>29</td>\n",
       "      <td>высшее</td>\n",
       "      <td>0</td>\n",
       "      <td>женат / замужем</td>\n",
       "      <td>0</td>\n",
       "      <td>M</td>\n",
       "      <td>сотрудник</td>\n",
       "      <td>0</td>\n",
       "      <td>142594</td>\n",
       "      <td>покупка жилой недвижимости</td>\n",
       "    </tr>\n",
       "    <tr>\n",
       "      <th>...</th>\n",
       "      <td>...</td>\n",
       "      <td>...</td>\n",
       "      <td>...</td>\n",
       "      <td>...</td>\n",
       "      <td>...</td>\n",
       "      <td>...</td>\n",
       "      <td>...</td>\n",
       "      <td>...</td>\n",
       "      <td>...</td>\n",
       "      <td>...</td>\n",
       "      <td>...</td>\n",
       "      <td>...</td>\n",
       "    </tr>\n",
       "    <tr>\n",
       "      <th>5865</th>\n",
       "      <td>0</td>\n",
       "      <td>17155</td>\n",
       "      <td>66</td>\n",
       "      <td>среднее</td>\n",
       "      <td>1</td>\n",
       "      <td>вдовец / вдова</td>\n",
       "      <td>2</td>\n",
       "      <td>F</td>\n",
       "      <td>пенсионер</td>\n",
       "      <td>0</td>\n",
       "      <td>118514</td>\n",
       "      <td>операции со своей недвижимостью</td>\n",
       "    </tr>\n",
       "    <tr>\n",
       "      <th>9528</th>\n",
       "      <td>0</td>\n",
       "      <td>17155</td>\n",
       "      <td>66</td>\n",
       "      <td>среднее</td>\n",
       "      <td>1</td>\n",
       "      <td>вдовец / вдова</td>\n",
       "      <td>2</td>\n",
       "      <td>F</td>\n",
       "      <td>пенсионер</td>\n",
       "      <td>0</td>\n",
       "      <td>118514</td>\n",
       "      <td>операции со своей недвижимостью</td>\n",
       "    </tr>\n",
       "    <tr>\n",
       "      <th>6537</th>\n",
       "      <td>0</td>\n",
       "      <td>17155</td>\n",
       "      <td>71</td>\n",
       "      <td>среднее</td>\n",
       "      <td>1</td>\n",
       "      <td>гражданский брак</td>\n",
       "      <td>1</td>\n",
       "      <td>F</td>\n",
       "      <td>пенсионер</td>\n",
       "      <td>0</td>\n",
       "      <td>118514</td>\n",
       "      <td>на проведение свадьбы</td>\n",
       "    </tr>\n",
       "    <tr>\n",
       "      <th>7938</th>\n",
       "      <td>0</td>\n",
       "      <td>17155</td>\n",
       "      <td>71</td>\n",
       "      <td>среднее</td>\n",
       "      <td>1</td>\n",
       "      <td>гражданский брак</td>\n",
       "      <td>1</td>\n",
       "      <td>F</td>\n",
       "      <td>пенсионер</td>\n",
       "      <td>0</td>\n",
       "      <td>118514</td>\n",
       "      <td>на проведение свадьбы</td>\n",
       "    </tr>\n",
       "    <tr>\n",
       "      <th>9604</th>\n",
       "      <td>0</td>\n",
       "      <td>17155</td>\n",
       "      <td>71</td>\n",
       "      <td>среднее</td>\n",
       "      <td>1</td>\n",
       "      <td>гражданский брак</td>\n",
       "      <td>1</td>\n",
       "      <td>F</td>\n",
       "      <td>пенсионер</td>\n",
       "      <td>0</td>\n",
       "      <td>118514</td>\n",
       "      <td>на проведение свадьбы</td>\n",
       "    </tr>\n",
       "  </tbody>\n",
       "</table>\n",
       "<p>137 rows × 12 columns</p>\n",
       "</div>"
      ],
      "text/plain": [
       "       children  days_employed  dob_years education  education_id  \\\n",
       "15892         0           1574         23   среднее             1   \n",
       "19321         0           1574         23   среднее             1   \n",
       "8853          1           1574         23   среднее             1   \n",
       "20297         1           1574         23   среднее             1   \n",
       "3452          0           1574         29    высшее             0   \n",
       "...         ...            ...        ...       ...           ...   \n",
       "5865          0          17155         66   среднее             1   \n",
       "9528          0          17155         66   среднее             1   \n",
       "6537          0          17155         71   среднее             1   \n",
       "7938          0          17155         71   среднее             1   \n",
       "9604          0          17155         71   среднее             1   \n",
       "\n",
       "               family_status  family_status_id gender income_type  debt  \\\n",
       "15892  Не женат / не замужем                 4      F   сотрудник     0   \n",
       "19321  Не женат / не замужем                 4      F   сотрудник     0   \n",
       "8853        гражданский брак                 1      F   сотрудник     0   \n",
       "20297       гражданский брак                 1      F   сотрудник     0   \n",
       "3452         женат / замужем                 0      M   сотрудник     0   \n",
       "...                      ...               ...    ...         ...   ...   \n",
       "5865          вдовец / вдова                 2      F   пенсионер     0   \n",
       "9528          вдовец / вдова                 2      F   пенсионер     0   \n",
       "6537        гражданский брак                 1      F   пенсионер     0   \n",
       "7938        гражданский брак                 1      F   пенсионер     0   \n",
       "9604        гражданский брак                 1      F   пенсионер     0   \n",
       "\n",
       "       total_income                           purpose  \n",
       "15892        142594  сделка с подержанным автомобилем  \n",
       "19321        142594  сделка с подержанным автомобилем  \n",
       "8853         142594                   сыграть свадьбу  \n",
       "20297        142594                   сыграть свадьбу  \n",
       "3452         142594        покупка жилой недвижимости  \n",
       "...             ...                               ...  \n",
       "5865         118514   операции со своей недвижимостью  \n",
       "9528         118514   операции со своей недвижимостью  \n",
       "6537         118514             на проведение свадьбы  \n",
       "7938         118514             на проведение свадьбы  \n",
       "9604         118514             на проведение свадьбы  \n",
       "\n",
       "[137 rows x 12 columns]"
      ]
     },
     "execution_count": 24,
     "metadata": {},
     "output_type": "execute_result"
    }
   ],
   "source": [
    "clients[clients.duplicated(keep=False)].sort_values(by=['dob_years', 'purpose']) #выведем их на экран и проверим"
   ]
  },
  {
   "cell_type": "code",
   "execution_count": 25,
   "id": "da78a464",
   "metadata": {},
   "outputs": [
    {
     "data": {
      "text/plain": [
       "0"
      ]
     },
     "execution_count": 25,
     "metadata": {},
     "output_type": "execute_result"
    }
   ],
   "source": [
    "#дубликаты выглядят как задвоенные, значит их можно удалить без вреда для исследования\n",
    "clients = clients.drop_duplicates() #удаляем\n",
    "clients.duplicated().sum() #проверяем наличие"
   ]
  },
  {
   "cell_type": "markdown",
   "id": "afcfc013",
   "metadata": {},
   "source": [
    "Предположим, что дубликаты могли возникнуть вследствие технической ошибки (например, заявка на подтверждение кредита отправлялась дважды и записались обе строки)."
   ]
  },
  {
   "cell_type": "markdown",
   "id": "d94ca3b9",
   "metadata": {},
   "source": [
    "### Шаг 2.5. Формирование дополнительных датафреймов словарей, декомпозиция исходного датафрейма."
   ]
  },
  {
   "cell_type": "markdown",
   "id": "32a4042b",
   "metadata": {},
   "source": [
    "Создадим два новых датафрейма, в которых:\n",
    "\n",
    "- каждому уникальному значению из `education` соответствует уникальное значение `education_id` — сохраним в `education_dict`;\n",
    "- каждому уникальному значению из `family_status` соответствует уникальное значение `family_status_id` — сохраним в `family_dict`."
   ]
  },
  {
   "cell_type": "code",
   "execution_count": 26,
   "id": "83c954cd",
   "metadata": {},
   "outputs": [
    {
     "data": {
      "text/html": [
       "<div>\n",
       "<style scoped>\n",
       "    .dataframe tbody tr th:only-of-type {\n",
       "        vertical-align: middle;\n",
       "    }\n",
       "\n",
       "    .dataframe tbody tr th {\n",
       "        vertical-align: top;\n",
       "    }\n",
       "\n",
       "    .dataframe thead th {\n",
       "        text-align: right;\n",
       "    }\n",
       "</style>\n",
       "<table border=\"1\" class=\"dataframe\">\n",
       "  <thead>\n",
       "    <tr style=\"text-align: right;\">\n",
       "      <th></th>\n",
       "      <th>education_id</th>\n",
       "      <th>education</th>\n",
       "    </tr>\n",
       "  </thead>\n",
       "  <tbody>\n",
       "    <tr>\n",
       "      <th>0</th>\n",
       "      <td>0</td>\n",
       "      <td>высшее</td>\n",
       "    </tr>\n",
       "    <tr>\n",
       "      <th>1</th>\n",
       "      <td>1</td>\n",
       "      <td>среднее</td>\n",
       "    </tr>\n",
       "    <tr>\n",
       "      <th>2</th>\n",
       "      <td>2</td>\n",
       "      <td>неоконченное высшее</td>\n",
       "    </tr>\n",
       "    <tr>\n",
       "      <th>3</th>\n",
       "      <td>3</td>\n",
       "      <td>начальное</td>\n",
       "    </tr>\n",
       "    <tr>\n",
       "      <th>4</th>\n",
       "      <td>4</td>\n",
       "      <td>ученая степень</td>\n",
       "    </tr>\n",
       "  </tbody>\n",
       "</table>\n",
       "</div>"
      ],
      "text/plain": [
       "   education_id            education\n",
       "0             0               высшее\n",
       "1             1              среднее\n",
       "2             2  неоконченное высшее\n",
       "3             3            начальное\n",
       "4             4       ученая степень"
      ]
     },
     "metadata": {},
     "output_type": "display_data"
    }
   ],
   "source": [
    "education_dict=clients[['education_id','education']]\n",
    "education_dict = education_dict.drop_duplicates().reset_index(drop=True)\n",
    "display(education_dict.sort_values(by = 'education_id'))"
   ]
  },
  {
   "cell_type": "code",
   "execution_count": 27,
   "id": "0cc303c7",
   "metadata": {},
   "outputs": [
    {
     "data": {
      "text/html": [
       "<div>\n",
       "<style scoped>\n",
       "    .dataframe tbody tr th:only-of-type {\n",
       "        vertical-align: middle;\n",
       "    }\n",
       "\n",
       "    .dataframe tbody tr th {\n",
       "        vertical-align: top;\n",
       "    }\n",
       "\n",
       "    .dataframe thead th {\n",
       "        text-align: right;\n",
       "    }\n",
       "</style>\n",
       "<table border=\"1\" class=\"dataframe\">\n",
       "  <thead>\n",
       "    <tr style=\"text-align: right;\">\n",
       "      <th></th>\n",
       "      <th>family_status_id</th>\n",
       "      <th>family_status</th>\n",
       "    </tr>\n",
       "  </thead>\n",
       "  <tbody>\n",
       "    <tr>\n",
       "      <th>0</th>\n",
       "      <td>0</td>\n",
       "      <td>женат / замужем</td>\n",
       "    </tr>\n",
       "    <tr>\n",
       "      <th>1</th>\n",
       "      <td>1</td>\n",
       "      <td>гражданский брак</td>\n",
       "    </tr>\n",
       "    <tr>\n",
       "      <th>2</th>\n",
       "      <td>2</td>\n",
       "      <td>вдовец / вдова</td>\n",
       "    </tr>\n",
       "    <tr>\n",
       "      <th>3</th>\n",
       "      <td>3</td>\n",
       "      <td>в разводе</td>\n",
       "    </tr>\n",
       "    <tr>\n",
       "      <th>4</th>\n",
       "      <td>4</td>\n",
       "      <td>Не женат / не замужем</td>\n",
       "    </tr>\n",
       "  </tbody>\n",
       "</table>\n",
       "</div>"
      ],
      "text/plain": [
       "   family_status_id          family_status\n",
       "0                 0        женат / замужем\n",
       "1                 1       гражданский брак\n",
       "2                 2         вдовец / вдова\n",
       "3                 3              в разводе\n",
       "4                 4  Не женат / не замужем"
      ]
     },
     "metadata": {},
     "output_type": "display_data"
    }
   ],
   "source": [
    "family_dict=clients[['family_status_id','family_status']]\n",
    "family_dict = family_dict.drop_duplicates().reset_index(drop=True)\n",
    "display(family_dict.sort_values(by = 'family_status_id'))"
   ]
  },
  {
   "cell_type": "markdown",
   "id": "a2360a17",
   "metadata": {},
   "source": [
    "<div class=\"alert alert-success\"; style=\"border-left: 7px solid green\">\n",
    "<h5> ✔️ <font color=\"green\">Комментарий ревьюера (зеленый)</font></h5>\n",
    "\n",
    "Правильно созданы новые таблицы!\n",
    "\n",
    "</div>"
   ]
  },
  {
   "cell_type": "code",
   "execution_count": 28,
   "id": "e54f3c6f",
   "metadata": {},
   "outputs": [],
   "source": [
    "#по ТЗ для проекта необходимо удалить столбцы education и family_status из датасета, \n",
    "#однако это затруднит дальнейшую работу с ним, поэтому я просто приведу код для их удаления здесь, но без его обработки:\n",
    "\n",
    "#clients.drop(['family_status', 'education'], axis=1, inplace=True)\n",
    "#display(clients.head(10))\n"
   ]
  },
  {
   "cell_type": "markdown",
   "id": "04098b3c",
   "metadata": {},
   "source": [
    "### Шаг 2.6. Категоризация дохода."
   ]
  },
  {
   "cell_type": "code",
   "execution_count": 29,
   "id": "fd03d026",
   "metadata": {},
   "outputs": [
    {
     "data": {
      "text/html": [
       "<div>\n",
       "<style scoped>\n",
       "    .dataframe tbody tr th:only-of-type {\n",
       "        vertical-align: middle;\n",
       "    }\n",
       "\n",
       "    .dataframe tbody tr th {\n",
       "        vertical-align: top;\n",
       "    }\n",
       "\n",
       "    .dataframe thead th {\n",
       "        text-align: right;\n",
       "    }\n",
       "</style>\n",
       "<table border=\"1\" class=\"dataframe\">\n",
       "  <thead>\n",
       "    <tr style=\"text-align: right;\">\n",
       "      <th></th>\n",
       "      <th>children</th>\n",
       "      <th>days_employed</th>\n",
       "      <th>dob_years</th>\n",
       "      <th>education</th>\n",
       "      <th>education_id</th>\n",
       "      <th>family_status</th>\n",
       "      <th>family_status_id</th>\n",
       "      <th>gender</th>\n",
       "      <th>income_type</th>\n",
       "      <th>debt</th>\n",
       "      <th>total_income</th>\n",
       "      <th>purpose</th>\n",
       "      <th>total_income_category</th>\n",
       "    </tr>\n",
       "  </thead>\n",
       "  <tbody>\n",
       "    <tr>\n",
       "      <th>0</th>\n",
       "      <td>1</td>\n",
       "      <td>8437</td>\n",
       "      <td>42</td>\n",
       "      <td>высшее</td>\n",
       "      <td>0</td>\n",
       "      <td>женат / замужем</td>\n",
       "      <td>0</td>\n",
       "      <td>F</td>\n",
       "      <td>сотрудник</td>\n",
       "      <td>0</td>\n",
       "      <td>253875</td>\n",
       "      <td>покупка жилья</td>\n",
       "      <td>B</td>\n",
       "    </tr>\n",
       "    <tr>\n",
       "      <th>1</th>\n",
       "      <td>1</td>\n",
       "      <td>4024</td>\n",
       "      <td>36</td>\n",
       "      <td>среднее</td>\n",
       "      <td>1</td>\n",
       "      <td>женат / замужем</td>\n",
       "      <td>0</td>\n",
       "      <td>F</td>\n",
       "      <td>сотрудник</td>\n",
       "      <td>0</td>\n",
       "      <td>112080</td>\n",
       "      <td>приобретение автомобиля</td>\n",
       "      <td>C</td>\n",
       "    </tr>\n",
       "    <tr>\n",
       "      <th>2</th>\n",
       "      <td>0</td>\n",
       "      <td>5623</td>\n",
       "      <td>33</td>\n",
       "      <td>среднее</td>\n",
       "      <td>1</td>\n",
       "      <td>женат / замужем</td>\n",
       "      <td>0</td>\n",
       "      <td>M</td>\n",
       "      <td>сотрудник</td>\n",
       "      <td>0</td>\n",
       "      <td>145885</td>\n",
       "      <td>покупка жилья</td>\n",
       "      <td>C</td>\n",
       "    </tr>\n",
       "    <tr>\n",
       "      <th>3</th>\n",
       "      <td>3</td>\n",
       "      <td>4124</td>\n",
       "      <td>32</td>\n",
       "      <td>среднее</td>\n",
       "      <td>1</td>\n",
       "      <td>женат / замужем</td>\n",
       "      <td>0</td>\n",
       "      <td>M</td>\n",
       "      <td>сотрудник</td>\n",
       "      <td>0</td>\n",
       "      <td>267628</td>\n",
       "      <td>дополнительное образование</td>\n",
       "      <td>B</td>\n",
       "    </tr>\n",
       "    <tr>\n",
       "      <th>4</th>\n",
       "      <td>0</td>\n",
       "      <td>17155</td>\n",
       "      <td>53</td>\n",
       "      <td>среднее</td>\n",
       "      <td>1</td>\n",
       "      <td>гражданский брак</td>\n",
       "      <td>1</td>\n",
       "      <td>F</td>\n",
       "      <td>пенсионер</td>\n",
       "      <td>0</td>\n",
       "      <td>158616</td>\n",
       "      <td>сыграть свадьбу</td>\n",
       "      <td>C</td>\n",
       "    </tr>\n",
       "    <tr>\n",
       "      <th>5</th>\n",
       "      <td>0</td>\n",
       "      <td>926</td>\n",
       "      <td>27</td>\n",
       "      <td>высшее</td>\n",
       "      <td>0</td>\n",
       "      <td>гражданский брак</td>\n",
       "      <td>1</td>\n",
       "      <td>M</td>\n",
       "      <td>компаньон</td>\n",
       "      <td>0</td>\n",
       "      <td>255763</td>\n",
       "      <td>покупка жилья</td>\n",
       "      <td>B</td>\n",
       "    </tr>\n",
       "    <tr>\n",
       "      <th>6</th>\n",
       "      <td>0</td>\n",
       "      <td>2879</td>\n",
       "      <td>43</td>\n",
       "      <td>высшее</td>\n",
       "      <td>0</td>\n",
       "      <td>женат / замужем</td>\n",
       "      <td>0</td>\n",
       "      <td>F</td>\n",
       "      <td>компаньон</td>\n",
       "      <td>0</td>\n",
       "      <td>240525</td>\n",
       "      <td>операции с жильем</td>\n",
       "      <td>B</td>\n",
       "    </tr>\n",
       "    <tr>\n",
       "      <th>7</th>\n",
       "      <td>0</td>\n",
       "      <td>152</td>\n",
       "      <td>50</td>\n",
       "      <td>среднее</td>\n",
       "      <td>1</td>\n",
       "      <td>женат / замужем</td>\n",
       "      <td>0</td>\n",
       "      <td>M</td>\n",
       "      <td>сотрудник</td>\n",
       "      <td>0</td>\n",
       "      <td>135823</td>\n",
       "      <td>образование</td>\n",
       "      <td>C</td>\n",
       "    </tr>\n",
       "    <tr>\n",
       "      <th>8</th>\n",
       "      <td>2</td>\n",
       "      <td>6929</td>\n",
       "      <td>35</td>\n",
       "      <td>высшее</td>\n",
       "      <td>0</td>\n",
       "      <td>гражданский брак</td>\n",
       "      <td>1</td>\n",
       "      <td>F</td>\n",
       "      <td>сотрудник</td>\n",
       "      <td>0</td>\n",
       "      <td>95856</td>\n",
       "      <td>на проведение свадьбы</td>\n",
       "      <td>C</td>\n",
       "    </tr>\n",
       "    <tr>\n",
       "      <th>9</th>\n",
       "      <td>0</td>\n",
       "      <td>2188</td>\n",
       "      <td>41</td>\n",
       "      <td>среднее</td>\n",
       "      <td>1</td>\n",
       "      <td>женат / замужем</td>\n",
       "      <td>0</td>\n",
       "      <td>M</td>\n",
       "      <td>сотрудник</td>\n",
       "      <td>0</td>\n",
       "      <td>144425</td>\n",
       "      <td>покупка жилья для семьи</td>\n",
       "      <td>C</td>\n",
       "    </tr>\n",
       "  </tbody>\n",
       "</table>\n",
       "</div>"
      ],
      "text/plain": [
       "   children  days_employed  dob_years education  education_id  \\\n",
       "0         1           8437         42    высшее             0   \n",
       "1         1           4024         36   среднее             1   \n",
       "2         0           5623         33   среднее             1   \n",
       "3         3           4124         32   среднее             1   \n",
       "4         0          17155         53   среднее             1   \n",
       "5         0            926         27    высшее             0   \n",
       "6         0           2879         43    высшее             0   \n",
       "7         0            152         50   среднее             1   \n",
       "8         2           6929         35    высшее             0   \n",
       "9         0           2188         41   среднее             1   \n",
       "\n",
       "      family_status  family_status_id gender income_type  debt  total_income  \\\n",
       "0   женат / замужем                 0      F   сотрудник     0        253875   \n",
       "1   женат / замужем                 0      F   сотрудник     0        112080   \n",
       "2   женат / замужем                 0      M   сотрудник     0        145885   \n",
       "3   женат / замужем                 0      M   сотрудник     0        267628   \n",
       "4  гражданский брак                 1      F   пенсионер     0        158616   \n",
       "5  гражданский брак                 1      M   компаньон     0        255763   \n",
       "6   женат / замужем                 0      F   компаньон     0        240525   \n",
       "7   женат / замужем                 0      M   сотрудник     0        135823   \n",
       "8  гражданский брак                 1      F   сотрудник     0         95856   \n",
       "9   женат / замужем                 0      M   сотрудник     0        144425   \n",
       "\n",
       "                      purpose total_income_category  \n",
       "0               покупка жилья                     B  \n",
       "1     приобретение автомобиля                     C  \n",
       "2               покупка жилья                     C  \n",
       "3  дополнительное образование                     B  \n",
       "4             сыграть свадьбу                     C  \n",
       "5               покупка жилья                     B  \n",
       "6           операции с жильем                     B  \n",
       "7                 образование                     C  \n",
       "8       на проведение свадьбы                     C  \n",
       "9     покупка жилья для семьи                     C  "
      ]
     },
     "metadata": {},
     "output_type": "display_data"
    }
   ],
   "source": [
    "def total_income_category(total_income): #напишем функцию для присвоения категории в зависимости от величины среднемесячного дохода\n",
    "    if total_income <= 30000:\n",
    "        return 'E'\n",
    "    if total_income >=30001 and total_income <= 50000:\n",
    "        return 'D'\n",
    "    if total_income >=50001 and total_income <= 200000:\n",
    "        return 'C'\n",
    "    if total_income >=200001 and total_income <= 1000000:\n",
    "        return 'B'\n",
    "    if total_income >=1000001:\n",
    "        return 'A'\n",
    "\n",
    "\n",
    "clients['total_income_category'] = clients['total_income'].apply(total_income_category) #добавим новый столбец в датасет с этими данными\n",
    "display(clients.head(10))"
   ]
  },
  {
   "cell_type": "markdown",
   "id": "1ce5918f",
   "metadata": {},
   "source": [
    "### Шаг 2.7. Категоризация целей кредита."
   ]
  },
  {
   "cell_type": "code",
   "execution_count": 30,
   "id": "95ece6bf",
   "metadata": {},
   "outputs": [
    {
     "name": "stdout",
     "output_type": "stream",
     "text": [
      "['автомобили' 'автомобиль' 'высшее образование'\n",
      " 'дополнительное образование' 'жилье' 'заняться высшим образованием'\n",
      " 'заняться образованием' 'на покупку автомобиля'\n",
      " 'на покупку подержанного автомобиля' 'на покупку своего автомобиля'\n",
      " 'на проведение свадьбы' 'недвижимость' 'образование' 'операции с жильем'\n",
      " 'операции с коммерческой недвижимостью' 'операции с недвижимостью'\n",
      " 'операции со своей недвижимостью' 'покупка жилой недвижимости'\n",
      " 'покупка жилья' 'покупка жилья для сдачи' 'покупка жилья для семьи'\n",
      " 'покупка коммерческой недвижимости' 'покупка недвижимости'\n",
      " 'покупка своего жилья' 'получение высшего образования'\n",
      " 'получение дополнительного образования' 'получение образования'\n",
      " 'приобретение автомобиля' 'профильное образование' 'ремонт жилью'\n",
      " 'свадьба' 'свой автомобиль' 'сделка с автомобилем'\n",
      " 'сделка с подержанным автомобилем' 'строительство жилой недвижимости'\n",
      " 'строительство недвижимости' 'строительство собственной недвижимости'\n",
      " 'сыграть свадьбу']\n"
     ]
    }
   ],
   "source": [
    "print(clients['purpose'].sort_values().unique()) #выберем вручную основы слов, и на их основе напишем функцию"
   ]
  },
  {
   "cell_type": "code",
   "execution_count": 31,
   "id": "22862372",
   "metadata": {},
   "outputs": [
    {
     "data": {
      "text/html": [
       "<div>\n",
       "<style scoped>\n",
       "    .dataframe tbody tr th:only-of-type {\n",
       "        vertical-align: middle;\n",
       "    }\n",
       "\n",
       "    .dataframe tbody tr th {\n",
       "        vertical-align: top;\n",
       "    }\n",
       "\n",
       "    .dataframe thead th {\n",
       "        text-align: right;\n",
       "    }\n",
       "</style>\n",
       "<table border=\"1\" class=\"dataframe\">\n",
       "  <thead>\n",
       "    <tr style=\"text-align: right;\">\n",
       "      <th></th>\n",
       "      <th>children</th>\n",
       "      <th>days_employed</th>\n",
       "      <th>dob_years</th>\n",
       "      <th>education</th>\n",
       "      <th>education_id</th>\n",
       "      <th>family_status</th>\n",
       "      <th>family_status_id</th>\n",
       "      <th>gender</th>\n",
       "      <th>income_type</th>\n",
       "      <th>debt</th>\n",
       "      <th>total_income</th>\n",
       "      <th>purpose</th>\n",
       "      <th>total_income_category</th>\n",
       "    </tr>\n",
       "  </thead>\n",
       "  <tbody>\n",
       "    <tr>\n",
       "      <th>0</th>\n",
       "      <td>1</td>\n",
       "      <td>8437</td>\n",
       "      <td>42</td>\n",
       "      <td>высшее</td>\n",
       "      <td>0</td>\n",
       "      <td>женат / замужем</td>\n",
       "      <td>0</td>\n",
       "      <td>F</td>\n",
       "      <td>сотрудник</td>\n",
       "      <td>0</td>\n",
       "      <td>253875</td>\n",
       "      <td>операции с недвижимостью</td>\n",
       "      <td>B</td>\n",
       "    </tr>\n",
       "    <tr>\n",
       "      <th>1</th>\n",
       "      <td>1</td>\n",
       "      <td>4024</td>\n",
       "      <td>36</td>\n",
       "      <td>среднее</td>\n",
       "      <td>1</td>\n",
       "      <td>женат / замужем</td>\n",
       "      <td>0</td>\n",
       "      <td>F</td>\n",
       "      <td>сотрудник</td>\n",
       "      <td>0</td>\n",
       "      <td>112080</td>\n",
       "      <td>операции с автомобилем</td>\n",
       "      <td>C</td>\n",
       "    </tr>\n",
       "    <tr>\n",
       "      <th>2</th>\n",
       "      <td>0</td>\n",
       "      <td>5623</td>\n",
       "      <td>33</td>\n",
       "      <td>среднее</td>\n",
       "      <td>1</td>\n",
       "      <td>женат / замужем</td>\n",
       "      <td>0</td>\n",
       "      <td>M</td>\n",
       "      <td>сотрудник</td>\n",
       "      <td>0</td>\n",
       "      <td>145885</td>\n",
       "      <td>операции с недвижимостью</td>\n",
       "      <td>C</td>\n",
       "    </tr>\n",
       "    <tr>\n",
       "      <th>3</th>\n",
       "      <td>3</td>\n",
       "      <td>4124</td>\n",
       "      <td>32</td>\n",
       "      <td>среднее</td>\n",
       "      <td>1</td>\n",
       "      <td>женат / замужем</td>\n",
       "      <td>0</td>\n",
       "      <td>M</td>\n",
       "      <td>сотрудник</td>\n",
       "      <td>0</td>\n",
       "      <td>267628</td>\n",
       "      <td>получение образования</td>\n",
       "      <td>B</td>\n",
       "    </tr>\n",
       "    <tr>\n",
       "      <th>4</th>\n",
       "      <td>0</td>\n",
       "      <td>17155</td>\n",
       "      <td>53</td>\n",
       "      <td>среднее</td>\n",
       "      <td>1</td>\n",
       "      <td>гражданский брак</td>\n",
       "      <td>1</td>\n",
       "      <td>F</td>\n",
       "      <td>пенсионер</td>\n",
       "      <td>0</td>\n",
       "      <td>158616</td>\n",
       "      <td>проведение свадьбы</td>\n",
       "      <td>C</td>\n",
       "    </tr>\n",
       "    <tr>\n",
       "      <th>5</th>\n",
       "      <td>0</td>\n",
       "      <td>926</td>\n",
       "      <td>27</td>\n",
       "      <td>высшее</td>\n",
       "      <td>0</td>\n",
       "      <td>гражданский брак</td>\n",
       "      <td>1</td>\n",
       "      <td>M</td>\n",
       "      <td>компаньон</td>\n",
       "      <td>0</td>\n",
       "      <td>255763</td>\n",
       "      <td>операции с недвижимостью</td>\n",
       "      <td>B</td>\n",
       "    </tr>\n",
       "    <tr>\n",
       "      <th>6</th>\n",
       "      <td>0</td>\n",
       "      <td>2879</td>\n",
       "      <td>43</td>\n",
       "      <td>высшее</td>\n",
       "      <td>0</td>\n",
       "      <td>женат / замужем</td>\n",
       "      <td>0</td>\n",
       "      <td>F</td>\n",
       "      <td>компаньон</td>\n",
       "      <td>0</td>\n",
       "      <td>240525</td>\n",
       "      <td>операции с недвижимостью</td>\n",
       "      <td>B</td>\n",
       "    </tr>\n",
       "    <tr>\n",
       "      <th>7</th>\n",
       "      <td>0</td>\n",
       "      <td>152</td>\n",
       "      <td>50</td>\n",
       "      <td>среднее</td>\n",
       "      <td>1</td>\n",
       "      <td>женат / замужем</td>\n",
       "      <td>0</td>\n",
       "      <td>M</td>\n",
       "      <td>сотрудник</td>\n",
       "      <td>0</td>\n",
       "      <td>135823</td>\n",
       "      <td>получение образования</td>\n",
       "      <td>C</td>\n",
       "    </tr>\n",
       "    <tr>\n",
       "      <th>8</th>\n",
       "      <td>2</td>\n",
       "      <td>6929</td>\n",
       "      <td>35</td>\n",
       "      <td>высшее</td>\n",
       "      <td>0</td>\n",
       "      <td>гражданский брак</td>\n",
       "      <td>1</td>\n",
       "      <td>F</td>\n",
       "      <td>сотрудник</td>\n",
       "      <td>0</td>\n",
       "      <td>95856</td>\n",
       "      <td>проведение свадьбы</td>\n",
       "      <td>C</td>\n",
       "    </tr>\n",
       "    <tr>\n",
       "      <th>9</th>\n",
       "      <td>0</td>\n",
       "      <td>2188</td>\n",
       "      <td>41</td>\n",
       "      <td>среднее</td>\n",
       "      <td>1</td>\n",
       "      <td>женат / замужем</td>\n",
       "      <td>0</td>\n",
       "      <td>M</td>\n",
       "      <td>сотрудник</td>\n",
       "      <td>0</td>\n",
       "      <td>144425</td>\n",
       "      <td>операции с недвижимостью</td>\n",
       "      <td>C</td>\n",
       "    </tr>\n",
       "  </tbody>\n",
       "</table>\n",
       "</div>"
      ],
      "text/plain": [
       "   children  days_employed  dob_years education  education_id  \\\n",
       "0         1           8437         42    высшее             0   \n",
       "1         1           4024         36   среднее             1   \n",
       "2         0           5623         33   среднее             1   \n",
       "3         3           4124         32   среднее             1   \n",
       "4         0          17155         53   среднее             1   \n",
       "5         0            926         27    высшее             0   \n",
       "6         0           2879         43    высшее             0   \n",
       "7         0            152         50   среднее             1   \n",
       "8         2           6929         35    высшее             0   \n",
       "9         0           2188         41   среднее             1   \n",
       "\n",
       "      family_status  family_status_id gender income_type  debt  total_income  \\\n",
       "0   женат / замужем                 0      F   сотрудник     0        253875   \n",
       "1   женат / замужем                 0      F   сотрудник     0        112080   \n",
       "2   женат / замужем                 0      M   сотрудник     0        145885   \n",
       "3   женат / замужем                 0      M   сотрудник     0        267628   \n",
       "4  гражданский брак                 1      F   пенсионер     0        158616   \n",
       "5  гражданский брак                 1      M   компаньон     0        255763   \n",
       "6   женат / замужем                 0      F   компаньон     0        240525   \n",
       "7   женат / замужем                 0      M   сотрудник     0        135823   \n",
       "8  гражданский брак                 1      F   сотрудник     0         95856   \n",
       "9   женат / замужем                 0      M   сотрудник     0        144425   \n",
       "\n",
       "                    purpose total_income_category  \n",
       "0  операции с недвижимостью                     B  \n",
       "1    операции с автомобилем                     C  \n",
       "2  операции с недвижимостью                     C  \n",
       "3     получение образования                     B  \n",
       "4        проведение свадьбы                     C  \n",
       "5  операции с недвижимостью                     B  \n",
       "6  операции с недвижимостью                     B  \n",
       "7     получение образования                     C  \n",
       "8        проведение свадьбы                     C  \n",
       "9  операции с недвижимостью                     C  "
      ]
     },
     "metadata": {},
     "output_type": "display_data"
    }
   ],
   "source": [
    "def purpose_correction(row):\n",
    "    try:\n",
    "        if 'недвижим' in row['purpose'] or 'жил' in row['purpose']:\n",
    "            return 'операции с недвижимостью'\n",
    "        elif 'автомобил' in row['purpose']:\n",
    "            return 'операции с автомобилем'\n",
    "        elif 'образован' in row['purpose']:\n",
    "            return 'получение образования'\n",
    "        elif 'свадьб' in row['purpose']:\n",
    "            return 'проведение свадьбы'\n",
    "    except:\n",
    "            return 'ошибка обработки'\n",
    "    \n",
    "clients['purpose'] = clients.apply(purpose_correction,axis = 1) #присвоим каждой строке одну из 4 целей\n",
    "display(clients.head(10)) "
   ]
  },
  {
   "cell_type": "markdown",
   "id": "6be48d78",
   "metadata": {},
   "source": [
    "### Ответы на вопросы."
   ]
  },
  {
   "cell_type": "markdown",
   "id": "b555437b",
   "metadata": {},
   "source": [
    "#### Вопрос 1: Есть ли зависимость между количеством детей и возвратом кредита в срок? "
   ]
  },
  {
   "cell_type": "code",
   "execution_count": 32,
   "id": "ede3bc01",
   "metadata": {},
   "outputs": [
    {
     "data": {
      "text/html": [
       "<div>\n",
       "<style scoped>\n",
       "    .dataframe tbody tr th:only-of-type {\n",
       "        vertical-align: middle;\n",
       "    }\n",
       "\n",
       "    .dataframe tbody tr th {\n",
       "        vertical-align: top;\n",
       "    }\n",
       "\n",
       "    .dataframe thead th {\n",
       "        text-align: right;\n",
       "    }\n",
       "</style>\n",
       "<table border=\"1\" class=\"dataframe\">\n",
       "  <thead>\n",
       "    <tr style=\"text-align: right;\">\n",
       "      <th>debt</th>\n",
       "      <th>0</th>\n",
       "      <th>1</th>\n",
       "      <th>percent</th>\n",
       "    </tr>\n",
       "    <tr>\n",
       "      <th>children_category</th>\n",
       "      <th></th>\n",
       "      <th></th>\n",
       "      <th></th>\n",
       "    </tr>\n",
       "  </thead>\n",
       "  <tbody>\n",
       "    <tr>\n",
       "      <th>1-2 ребенка</th>\n",
       "      <td>6222</td>\n",
       "      <td>638</td>\n",
       "      <td>9.3</td>\n",
       "    </tr>\n",
       "    <tr>\n",
       "      <th>многодетные</th>\n",
       "      <td>417</td>\n",
       "      <td>39</td>\n",
       "      <td>8.6</td>\n",
       "    </tr>\n",
       "    <tr>\n",
       "      <th>нет детей</th>\n",
       "      <td>13073</td>\n",
       "      <td>1064</td>\n",
       "      <td>7.5</td>\n",
       "    </tr>\n",
       "  </tbody>\n",
       "</table>\n",
       "</div>"
      ],
      "text/plain": [
       "debt                   0     1  percent\n",
       "children_category                      \n",
       "1-2 ребенка         6222   638      9.3\n",
       "многодетные          417    39      8.6\n",
       "нет детей          13073  1064      7.5"
      ]
     },
     "metadata": {},
     "output_type": "display_data"
    }
   ],
   "source": [
    "def children_category(row): #функция присваивает категорию в зависимости от количества детей\n",
    "    if row['children'] == 0:\n",
    "        return 'нет детей'\n",
    "    elif 1 <= row['children'] <= 2:\n",
    "        return '1-2 ребенка'\n",
    "    else:\n",
    "        return 'многодетные'\n",
    "    \n",
    "clients['children_category'] = clients.apply(children_category, axis=1) #добавим временный столбец с данными о категории\n",
    "\n",
    "#создадим сводную таблицу и укажем в ней процент просроченных платежей для каждой из категории\n",
    "\n",
    "clients_pivot = clients.pivot_table(index='children_category', columns= 'debt', values='days_employed', aggfunc='count')\n",
    "clients_pivot['percent'] = round(clients_pivot[1] / (clients_pivot[0] + clients_pivot[1]), 3)*100\n",
    "display(clients_pivot.sort_values('percent', ascending = False))\n",
    "\n",
    "clients.drop(['children_category'], axis=1, inplace=True) #удалим временный столбец\n"
   ]
  },
  {
   "cell_type": "markdown",
   "id": "98357959",
   "metadata": {},
   "source": [
    "**Вывод:**\n",
    "\n",
    "Заемщики, имеющие детей склонны задерживать платеж по кредиту, в отличие от бездетных. Скорее всего это связано с тем, что у семей с детьми больше расходов, и например траты на детей будут стоять в приоритете перед тратами на погашение кредита.\n",
    "\n",
    "Стоит отметить, выборка по многодетным не такая большая, как по остальным группам. "
   ]
  },
  {
   "cell_type": "markdown",
   "id": "e954c72c",
   "metadata": {},
   "source": [
    "#### Вопрос 2. Есть ли зависимость между семейным положением и возвратом кредита в срок?"
   ]
  },
  {
   "cell_type": "code",
   "execution_count": 33,
   "id": "25e9b37b",
   "metadata": {},
   "outputs": [
    {
     "data": {
      "text/html": [
       "<div>\n",
       "<style scoped>\n",
       "    .dataframe tbody tr th:only-of-type {\n",
       "        vertical-align: middle;\n",
       "    }\n",
       "\n",
       "    .dataframe tbody tr th {\n",
       "        vertical-align: top;\n",
       "    }\n",
       "\n",
       "    .dataframe thead th {\n",
       "        text-align: right;\n",
       "    }\n",
       "</style>\n",
       "<table border=\"1\" class=\"dataframe\">\n",
       "  <thead>\n",
       "    <tr style=\"text-align: right;\">\n",
       "      <th>debt</th>\n",
       "      <th>0</th>\n",
       "      <th>1</th>\n",
       "      <th>percent</th>\n",
       "    </tr>\n",
       "    <tr>\n",
       "      <th>family_status</th>\n",
       "      <th></th>\n",
       "      <th></th>\n",
       "      <th></th>\n",
       "    </tr>\n",
       "  </thead>\n",
       "  <tbody>\n",
       "    <tr>\n",
       "      <th>Не женат / не замужем</th>\n",
       "      <td>2536</td>\n",
       "      <td>274</td>\n",
       "      <td>9.8</td>\n",
       "    </tr>\n",
       "    <tr>\n",
       "      <th>гражданский брак</th>\n",
       "      <td>3762</td>\n",
       "      <td>388</td>\n",
       "      <td>9.3</td>\n",
       "    </tr>\n",
       "    <tr>\n",
       "      <th>женат / замужем</th>\n",
       "      <td>11408</td>\n",
       "      <td>931</td>\n",
       "      <td>7.5</td>\n",
       "    </tr>\n",
       "    <tr>\n",
       "      <th>в разводе</th>\n",
       "      <td>1110</td>\n",
       "      <td>85</td>\n",
       "      <td>7.1</td>\n",
       "    </tr>\n",
       "    <tr>\n",
       "      <th>вдовец / вдова</th>\n",
       "      <td>896</td>\n",
       "      <td>63</td>\n",
       "      <td>6.6</td>\n",
       "    </tr>\n",
       "  </tbody>\n",
       "</table>\n",
       "</div>"
      ],
      "text/plain": [
       "debt                       0    1  percent\n",
       "family_status                             \n",
       "Не женат / не замужем   2536  274      9.8\n",
       "гражданский брак        3762  388      9.3\n",
       "женат / замужем        11408  931      7.5\n",
       "в разводе               1110   85      7.1\n",
       "вдовец / вдова           896   63      6.6"
      ]
     },
     "execution_count": 33,
     "metadata": {},
     "output_type": "execute_result"
    }
   ],
   "source": [
    "#создадим сводную таблицу и укажем в ней процент просроченных платежей для каждой из категории\n",
    "\n",
    "clients_pivot = clients.pivot_table(index='family_status', columns= 'debt', values='days_employed', aggfunc='count')\n",
    "clients_pivot['percent'] = round(clients_pivot[1] / (clients_pivot[0] + clients_pivot[1]), 3)*100\n",
    "clients_pivot.sort_values('percent', ascending = False)"
   ]
  },
  {
   "cell_type": "markdown",
   "id": "0b5c9804",
   "metadata": {},
   "source": [
    "**Вывод:**\n",
    "\n",
    "Заемщики, не состоящие в официальных отношениях, почти на 2% чаще пропускают платежи, чем люди состоящие в браке или находящиеся в разводе. При этом люди, оставшиеся без супруга, возвращают кредиты в срок чаще всех остальных.\n",
    "\n",
    "Можно предположить, что человек в браке становится более ответственным, либо совместный бюджет позволяет обслуживать кредит более качественно."
   ]
  },
  {
   "cell_type": "markdown",
   "id": "0693aa2a",
   "metadata": {},
   "source": [
    "#### Вопрос 3. Есть ли зависимость между уровнем дохода и возвратом кредита в срок?"
   ]
  },
  {
   "cell_type": "code",
   "execution_count": 34,
   "id": "23369880",
   "metadata": {},
   "outputs": [
    {
     "data": {
      "text/html": [
       "<div>\n",
       "<style scoped>\n",
       "    .dataframe tbody tr th:only-of-type {\n",
       "        vertical-align: middle;\n",
       "    }\n",
       "\n",
       "    .dataframe tbody tr th {\n",
       "        vertical-align: top;\n",
       "    }\n",
       "\n",
       "    .dataframe thead th {\n",
       "        text-align: right;\n",
       "    }\n",
       "</style>\n",
       "<table border=\"1\" class=\"dataframe\">\n",
       "  <thead>\n",
       "    <tr style=\"text-align: right;\">\n",
       "      <th>debt</th>\n",
       "      <th>0</th>\n",
       "      <th>1</th>\n",
       "      <th>percent</th>\n",
       "    </tr>\n",
       "    <tr>\n",
       "      <th>total_income_category</th>\n",
       "      <th></th>\n",
       "      <th></th>\n",
       "      <th></th>\n",
       "    </tr>\n",
       "  </thead>\n",
       "  <tbody>\n",
       "    <tr>\n",
       "      <th>D</th>\n",
       "      <td>329</td>\n",
       "      <td>21</td>\n",
       "      <td>6.0</td>\n",
       "    </tr>\n",
       "    <tr>\n",
       "      <th>B</th>\n",
       "      <td>4685</td>\n",
       "      <td>356</td>\n",
       "      <td>7.1</td>\n",
       "    </tr>\n",
       "    <tr>\n",
       "      <th>A</th>\n",
       "      <td>23</td>\n",
       "      <td>2</td>\n",
       "      <td>8.0</td>\n",
       "    </tr>\n",
       "    <tr>\n",
       "      <th>C</th>\n",
       "      <td>14655</td>\n",
       "      <td>1360</td>\n",
       "      <td>8.5</td>\n",
       "    </tr>\n",
       "    <tr>\n",
       "      <th>E</th>\n",
       "      <td>20</td>\n",
       "      <td>2</td>\n",
       "      <td>9.1</td>\n",
       "    </tr>\n",
       "  </tbody>\n",
       "</table>\n",
       "</div>"
      ],
      "text/plain": [
       "debt                       0     1  percent\n",
       "total_income_category                      \n",
       "D                        329    21      6.0\n",
       "B                       4685   356      7.1\n",
       "A                         23     2      8.0\n",
       "C                      14655  1360      8.5\n",
       "E                         20     2      9.1"
      ]
     },
     "execution_count": 34,
     "metadata": {},
     "output_type": "execute_result"
    }
   ],
   "source": [
    "#создадим сводную таблицу и укажем в ней процент просроченных платежей для каждой из категории\n",
    "\n",
    "clients_pivot = clients.pivot_table(index='total_income_category', columns= 'debt', values='days_employed', aggfunc='count')\n",
    "clients_pivot['percent'] = round(clients_pivot[1] / (clients_pivot[0] + clients_pivot[1]), 3)*100\n",
    "clients_pivot.sort_values('percent', ascending = True)\n"
   ]
  },
  {
   "cell_type": "markdown",
   "id": "f7002b50",
   "metadata": {},
   "source": [
    "**Вывод:**\n",
    "\n",
    "Реже всего задолженность по кредиту возникает у клиентов с ежемесячным доходом до 50000 рублей, а также у клиентов с доходом выше среднего. Можно предположить, что эти категории лучше распоряжаются своими финансами. Однако явной закономерности между уровнем дохода и ответственным возвратом кредита - нет.\n",
    "\n",
    "Однако выборка на категориях А, Е и D - не такая широкая, как в категориях В и С, разница между которыми порядка 1,5 процента. Это не очень большая разница, возможно следует вооспользоваться другими критериями, чтобы дать более точный ответ."
   ]
  },
  {
   "cell_type": "markdown",
   "id": "6e6b697b",
   "metadata": {},
   "source": [
    "#### Вопрос 4. Как разные цели кредита влияют на его возврат в срок?"
   ]
  },
  {
   "cell_type": "code",
   "execution_count": 35,
   "id": "f1faf33e",
   "metadata": {},
   "outputs": [
    {
     "data": {
      "text/html": [
       "<div>\n",
       "<style scoped>\n",
       "    .dataframe tbody tr th:only-of-type {\n",
       "        vertical-align: middle;\n",
       "    }\n",
       "\n",
       "    .dataframe tbody tr th {\n",
       "        vertical-align: top;\n",
       "    }\n",
       "\n",
       "    .dataframe thead th {\n",
       "        text-align: right;\n",
       "    }\n",
       "</style>\n",
       "<table border=\"1\" class=\"dataframe\">\n",
       "  <thead>\n",
       "    <tr style=\"text-align: right;\">\n",
       "      <th>debt</th>\n",
       "      <th>0</th>\n",
       "      <th>1</th>\n",
       "      <th>percent</th>\n",
       "    </tr>\n",
       "    <tr>\n",
       "      <th>purpose</th>\n",
       "      <th></th>\n",
       "      <th></th>\n",
       "      <th></th>\n",
       "    </tr>\n",
       "  </thead>\n",
       "  <tbody>\n",
       "    <tr>\n",
       "      <th>операции с недвижимостью</th>\n",
       "      <td>10028</td>\n",
       "      <td>782</td>\n",
       "      <td>7.2</td>\n",
       "    </tr>\n",
       "    <tr>\n",
       "      <th>проведение свадьбы</th>\n",
       "      <td>2138</td>\n",
       "      <td>186</td>\n",
       "      <td>8.0</td>\n",
       "    </tr>\n",
       "    <tr>\n",
       "      <th>получение образования</th>\n",
       "      <td>3643</td>\n",
       "      <td>370</td>\n",
       "      <td>9.2</td>\n",
       "    </tr>\n",
       "    <tr>\n",
       "      <th>операции с автомобилем</th>\n",
       "      <td>3903</td>\n",
       "      <td>403</td>\n",
       "      <td>9.4</td>\n",
       "    </tr>\n",
       "  </tbody>\n",
       "</table>\n",
       "</div>"
      ],
      "text/plain": [
       "debt                          0    1  percent\n",
       "purpose                                      \n",
       "операции с недвижимостью  10028  782      7.2\n",
       "проведение свадьбы         2138  186      8.0\n",
       "получение образования      3643  370      9.2\n",
       "операции с автомобилем     3903  403      9.4"
      ]
     },
     "execution_count": 35,
     "metadata": {},
     "output_type": "execute_result"
    }
   ],
   "source": [
    "#создадим сводную таблицу и укажем в ней процент просроченных платежей для каждой из категории\n",
    "\n",
    "clients_pivot = clients.pivot_table(index='purpose', columns= 'debt', values='days_employed', aggfunc='count')\n",
    "clients_pivot['percent'] = round(clients_pivot[1] / (clients_pivot[0] + clients_pivot[1]), 3)*100\n",
    "clients_pivot.sort_values('percent', ascending = True)\n"
   ]
  },
  {
   "cell_type": "markdown",
   "id": "55233eda",
   "metadata": {},
   "source": [
    "**Вывод:**\n",
    "\n",
    "Заемщики, берущие кредит для приобретения жилья, наиболее ответственны и менее склонны нарушать обязательства по выплатам кредита в срок. Возможно это более масштабное событие в жизни человека, и он относится к выплате ипотеки/кредита на недвижимость более ответственно. \n",
    "\n",
    "Интересно, что люди, которые оплачивают свадьбу из кредитных денег, имеют меньше просрочек по платежам, чем те, кто берет деньги на машину или учебу. \n",
    "\n"
   ]
  },
  {
   "cell_type": "markdown",
   "id": "1f50e426",
   "metadata": {},
   "source": [
    "### Общий вывод:"
   ]
  },
  {
   "cell_type": "markdown",
   "id": "a5a47ba4",
   "metadata": {},
   "source": [
    "Вопрос от заказчика звучит так:  \"Нужно разобраться, влияет ли семейное положение и количество детей клиента на факт погашения кредита в срок\".\n",
    "\n",
    "Судя по выводам из предыдущих вопросов, можно сказать:\n",
    "\n",
    "1) **Семейное положение влияет на своевременное погашение кредита.** Клиенты с официальными текущими или прошлыми отношениями чаще выплачивают кредит в срок, чем одинокие клиенты, или клиентв в гражданском браке. При этом вдовцы - самые ответственные заемщики.\n",
    "\n",
    "2) Кредит на свадьбу возвращают вовремя чаще, чем займы на автомобиль/образование.\n",
    "\n",
    "3) Человек, **имеющий детей склонен задерживать выплаты** по кредиту в отличие от бездетных заемщиков.\n",
    "\n",
    "**Портрет клиента**\n",
    "\n",
    "Можно предположить, что клиент, берущий ипотеку, при этом состоящий в браке и не имеющий детей окажется самым ответственным заемщиком.\n",
    "\n",
    "И наоборот, многодетная семья, оформляющая кредит на машину, с большей вероятностью будет возвращать его с задержками.\n",
    "\n",
    "**Замечание**\n",
    "\n",
    "Однако, разница в показателях возвратимости кредитов по разным категориям клиентов составляет в среднем 1-2%. Имеет смысл проводить более глубокий анализ, чтобы сделать более детальные выводы. Например, при более детальной разбивке по целям кредита, мужчины склонны чаще задерживать выплаты по обязательствам, чем женщины:\n"
   ]
  },
  {
   "cell_type": "code",
   "execution_count": 36,
   "id": "94664796",
   "metadata": {},
   "outputs": [
    {
     "data": {
      "text/html": [
       "<div>\n",
       "<style scoped>\n",
       "    .dataframe tbody tr th:only-of-type {\n",
       "        vertical-align: middle;\n",
       "    }\n",
       "\n",
       "    .dataframe tbody tr th {\n",
       "        vertical-align: top;\n",
       "    }\n",
       "\n",
       "    .dataframe thead th {\n",
       "        text-align: right;\n",
       "    }\n",
       "</style>\n",
       "<table border=\"1\" class=\"dataframe\">\n",
       "  <thead>\n",
       "    <tr style=\"text-align: right;\">\n",
       "      <th></th>\n",
       "      <th>debt</th>\n",
       "      <th>0</th>\n",
       "      <th>1</th>\n",
       "      <th>percent</th>\n",
       "    </tr>\n",
       "    <tr>\n",
       "      <th>purpose</th>\n",
       "      <th>gender</th>\n",
       "      <th></th>\n",
       "      <th></th>\n",
       "      <th></th>\n",
       "    </tr>\n",
       "  </thead>\n",
       "  <tbody>\n",
       "    <tr>\n",
       "      <th rowspan=\"2\" valign=\"top\">операции с автомобилем</th>\n",
       "      <th>F</th>\n",
       "      <td>2625</td>\n",
       "      <td>235</td>\n",
       "      <td>8.2</td>\n",
       "    </tr>\n",
       "    <tr>\n",
       "      <th>M</th>\n",
       "      <td>1278</td>\n",
       "      <td>168</td>\n",
       "      <td>11.6</td>\n",
       "    </tr>\n",
       "    <tr>\n",
       "      <th rowspan=\"2\" valign=\"top\">операции с недвижимостью</th>\n",
       "      <th>F</th>\n",
       "      <td>6641</td>\n",
       "      <td>444</td>\n",
       "      <td>6.3</td>\n",
       "    </tr>\n",
       "    <tr>\n",
       "      <th>M</th>\n",
       "      <td>3387</td>\n",
       "      <td>338</td>\n",
       "      <td>9.1</td>\n",
       "    </tr>\n",
       "    <tr>\n",
       "      <th rowspan=\"2\" valign=\"top\">получение образования</th>\n",
       "      <th>F</th>\n",
       "      <td>2460</td>\n",
       "      <td>207</td>\n",
       "      <td>7.8</td>\n",
       "    </tr>\n",
       "    <tr>\n",
       "      <th>M</th>\n",
       "      <td>1183</td>\n",
       "      <td>163</td>\n",
       "      <td>12.1</td>\n",
       "    </tr>\n",
       "    <tr>\n",
       "      <th rowspan=\"2\" valign=\"top\">проведение свадьбы</th>\n",
       "      <th>F</th>\n",
       "      <td>1454</td>\n",
       "      <td>108</td>\n",
       "      <td>6.9</td>\n",
       "    </tr>\n",
       "    <tr>\n",
       "      <th>M</th>\n",
       "      <td>684</td>\n",
       "      <td>78</td>\n",
       "      <td>10.2</td>\n",
       "    </tr>\n",
       "  </tbody>\n",
       "</table>\n",
       "</div>"
      ],
      "text/plain": [
       "debt                                0    1  percent\n",
       "purpose                  gender                    \n",
       "операции с автомобилем   F       2625  235      8.2\n",
       "                         M       1278  168     11.6\n",
       "операции с недвижимостью F       6641  444      6.3\n",
       "                         M       3387  338      9.1\n",
       "получение образования    F       2460  207      7.8\n",
       "                         M       1183  163     12.1\n",
       "проведение свадьбы       F       1454  108      6.9\n",
       "                         M        684   78     10.2"
      ]
     },
     "execution_count": 36,
     "metadata": {},
     "output_type": "execute_result"
    }
   ],
   "source": [
    "clients_pivot = clients.pivot_table(index=['purpose','gender'], columns= 'debt', values='days_employed', aggfunc='count')\n",
    "clients_pivot['percent'] = round(clients_pivot[1] / (clients_pivot[0] + clients_pivot[1]), 3)*100\n",
    "clients_pivot.sort_values('purpose', ascending = True)\n"
   ]
  },
  {
   "cell_type": "markdown",
   "id": "2537ff35",
   "metadata": {},
   "source": [
    "В данном случае, я бы обсудил результаты исследования с заказчиком, и в соответствии с его пожеланиями, рассмотрел результаты в различных разрезах."
   ]
  }
 ],
 "metadata": {
  "ExecuteTimeLog": [
   {
    "duration": 485,
    "start_time": "2022-04-12T07:27:23.445Z"
   },
   {
    "duration": 16,
    "start_time": "2022-04-12T07:29:54.637Z"
   },
   {
    "duration": 10,
    "start_time": "2022-04-12T07:35:42.758Z"
   },
   {
    "duration": 6,
    "start_time": "2022-04-12T07:58:53.826Z"
   },
   {
    "duration": 5,
    "start_time": "2022-04-12T07:59:26.632Z"
   },
   {
    "duration": 6,
    "start_time": "2022-04-12T08:00:04.302Z"
   },
   {
    "duration": 13,
    "start_time": "2022-04-12T08:01:26.266Z"
   },
   {
    "duration": 14,
    "start_time": "2022-04-12T08:15:16.916Z"
   },
   {
    "duration": 6,
    "start_time": "2022-04-12T08:48:06.116Z"
   },
   {
    "duration": 40,
    "start_time": "2022-04-12T08:48:26.306Z"
   },
   {
    "duration": 40,
    "start_time": "2022-04-12T08:48:41.424Z"
   },
   {
    "duration": 6,
    "start_time": "2022-04-12T08:49:15.168Z"
   },
   {
    "duration": 7,
    "start_time": "2022-04-12T08:49:50.125Z"
   },
   {
    "duration": 5,
    "start_time": "2022-04-12T08:50:10.583Z"
   },
   {
    "duration": 4,
    "start_time": "2022-04-12T08:50:20.744Z"
   },
   {
    "duration": 5,
    "start_time": "2022-04-12T08:50:29.137Z"
   },
   {
    "duration": 51,
    "start_time": "2022-04-12T12:30:51.653Z"
   },
   {
    "duration": 568,
    "start_time": "2022-04-12T12:31:01.356Z"
   },
   {
    "duration": 22,
    "start_time": "2022-04-12T12:31:01.926Z"
   },
   {
    "duration": 39,
    "start_time": "2022-04-12T12:31:01.950Z"
   },
   {
    "duration": 25,
    "start_time": "2022-04-12T12:31:01.991Z"
   },
   {
    "duration": 88,
    "start_time": "2022-04-12T12:31:02.019Z"
   },
   {
    "duration": 0,
    "start_time": "2022-04-12T12:31:02.110Z"
   },
   {
    "duration": 36,
    "start_time": "2022-04-12T12:32:39.654Z"
   },
   {
    "duration": 33,
    "start_time": "2022-04-12T13:09:31.465Z"
   },
   {
    "duration": 7,
    "start_time": "2022-04-12T13:27:44.765Z"
   },
   {
    "duration": 28,
    "start_time": "2022-04-12T13:28:05.970Z"
   },
   {
    "duration": 16,
    "start_time": "2022-04-12T13:28:31.193Z"
   },
   {
    "duration": 19,
    "start_time": "2022-04-12T13:34:14.703Z"
   },
   {
    "duration": 542,
    "start_time": "2022-04-12T13:34:36.097Z"
   },
   {
    "duration": 19,
    "start_time": "2022-04-12T13:34:36.642Z"
   },
   {
    "duration": 23,
    "start_time": "2022-04-12T13:34:36.664Z"
   },
   {
    "duration": 54,
    "start_time": "2022-04-12T13:34:36.690Z"
   },
   {
    "duration": 20,
    "start_time": "2022-04-12T13:34:36.747Z"
   },
   {
    "duration": 108,
    "start_time": "2022-04-12T13:34:36.769Z"
   },
   {
    "duration": 41,
    "start_time": "2022-04-12T13:35:09.330Z"
   },
   {
    "duration": 26,
    "start_time": "2022-04-12T13:35:40.513Z"
   },
   {
    "duration": 56,
    "start_time": "2022-04-12T19:46:35.278Z"
   },
   {
    "duration": 535,
    "start_time": "2022-04-12T19:46:42.351Z"
   },
   {
    "duration": 17,
    "start_time": "2022-04-12T19:46:42.888Z"
   },
   {
    "duration": 9,
    "start_time": "2022-04-12T19:46:42.907Z"
   },
   {
    "duration": 56,
    "start_time": "2022-04-12T19:46:42.918Z"
   },
   {
    "duration": 15,
    "start_time": "2022-04-12T19:46:42.976Z"
   },
   {
    "duration": 2179,
    "start_time": "2022-04-12T19:50:07.955Z"
   },
   {
    "duration": 10,
    "start_time": "2022-04-12T19:51:11.146Z"
   },
   {
    "duration": 7,
    "start_time": "2022-04-12T20:02:18.889Z"
   },
   {
    "duration": 11,
    "start_time": "2022-04-12T20:03:49.443Z"
   },
   {
    "duration": 8,
    "start_time": "2022-04-12T20:05:27.043Z"
   },
   {
    "duration": 145,
    "start_time": "2022-04-12T20:06:41.127Z"
   },
   {
    "duration": 144,
    "start_time": "2022-04-12T20:07:08.193Z"
   },
   {
    "duration": 4,
    "start_time": "2022-04-12T20:07:34.289Z"
   },
   {
    "duration": 527,
    "start_time": "2022-04-12T20:07:44.762Z"
   },
   {
    "duration": 17,
    "start_time": "2022-04-12T20:07:45.291Z"
   },
   {
    "duration": 28,
    "start_time": "2022-04-12T20:07:45.310Z"
   },
   {
    "duration": 49,
    "start_time": "2022-04-12T20:07:45.340Z"
   },
   {
    "duration": 17,
    "start_time": "2022-04-12T20:07:45.392Z"
   },
   {
    "duration": 34,
    "start_time": "2022-04-12T20:07:45.411Z"
   },
   {
    "duration": 14,
    "start_time": "2022-04-12T20:07:45.447Z"
   },
   {
    "duration": 4,
    "start_time": "2022-04-12T20:08:02.192Z"
   },
   {
    "duration": 9,
    "start_time": "2022-04-12T20:08:22.026Z"
   },
   {
    "duration": 146,
    "start_time": "2022-04-12T20:08:49.703Z"
   },
   {
    "duration": 144,
    "start_time": "2022-04-12T20:08:55.819Z"
   },
   {
    "duration": 128,
    "start_time": "2022-04-12T20:09:08.170Z"
   },
   {
    "duration": 518,
    "start_time": "2022-04-12T20:09:26.140Z"
   },
   {
    "duration": 20,
    "start_time": "2022-04-12T20:09:26.660Z"
   },
   {
    "duration": 11,
    "start_time": "2022-04-12T20:09:26.682Z"
   },
   {
    "duration": 61,
    "start_time": "2022-04-12T20:09:26.695Z"
   },
   {
    "duration": 20,
    "start_time": "2022-04-12T20:09:26.759Z"
   },
   {
    "duration": 9,
    "start_time": "2022-04-12T20:09:26.781Z"
   },
   {
    "duration": 130,
    "start_time": "2022-04-12T20:09:26.791Z"
   },
   {
    "duration": 9,
    "start_time": "2022-04-12T20:09:35.278Z"
   },
   {
    "duration": 9,
    "start_time": "2022-04-12T20:10:01.694Z"
   },
   {
    "duration": 28,
    "start_time": "2022-04-12T20:19:56.131Z"
   },
   {
    "duration": 27,
    "start_time": "2022-04-12T20:21:38.358Z"
   },
   {
    "duration": 9,
    "start_time": "2022-04-12T20:23:32.943Z"
   },
   {
    "duration": 82,
    "start_time": "2022-04-12T20:25:00.962Z"
   },
   {
    "duration": 6,
    "start_time": "2022-04-12T20:25:49.141Z"
   },
   {
    "duration": 10,
    "start_time": "2022-04-12T20:26:02.625Z"
   },
   {
    "duration": 9,
    "start_time": "2022-04-12T20:26:25.362Z"
   },
   {
    "duration": 531,
    "start_time": "2022-04-12T20:35:15.653Z"
   },
   {
    "duration": 17,
    "start_time": "2022-04-12T20:35:16.186Z"
   },
   {
    "duration": 10,
    "start_time": "2022-04-12T20:35:16.205Z"
   },
   {
    "duration": 48,
    "start_time": "2022-04-12T20:35:16.217Z"
   },
   {
    "duration": 16,
    "start_time": "2022-04-12T20:35:16.267Z"
   },
   {
    "duration": 8,
    "start_time": "2022-04-12T20:35:16.285Z"
   },
   {
    "duration": 52,
    "start_time": "2022-04-12T20:35:16.295Z"
   },
   {
    "duration": 8,
    "start_time": "2022-04-12T20:35:16.348Z"
   },
   {
    "duration": 36,
    "start_time": "2022-04-12T20:36:18.021Z"
   },
   {
    "duration": 20,
    "start_time": "2022-04-12T20:37:17.374Z"
   },
   {
    "duration": 26,
    "start_time": "2022-04-12T20:37:31.231Z"
   },
   {
    "duration": 22,
    "start_time": "2022-04-12T20:41:58.797Z"
   },
   {
    "duration": 13,
    "start_time": "2022-04-12T20:48:55.547Z"
   },
   {
    "duration": 18,
    "start_time": "2022-04-12T20:49:56.191Z"
   },
   {
    "duration": 495,
    "start_time": "2022-04-12T20:50:16.739Z"
   },
   {
    "duration": 17,
    "start_time": "2022-04-12T20:50:17.236Z"
   },
   {
    "duration": 10,
    "start_time": "2022-04-12T20:50:17.254Z"
   },
   {
    "duration": 35,
    "start_time": "2022-04-12T20:50:17.266Z"
   },
   {
    "duration": 37,
    "start_time": "2022-04-12T20:50:17.304Z"
   },
   {
    "duration": 8,
    "start_time": "2022-04-12T20:50:17.343Z"
   },
   {
    "duration": 15,
    "start_time": "2022-04-12T20:50:17.353Z"
   },
   {
    "duration": 7,
    "start_time": "2022-04-12T20:50:17.370Z"
   },
   {
    "duration": 11,
    "start_time": "2022-04-12T20:50:17.379Z"
   },
   {
    "duration": 11,
    "start_time": "2022-04-12T20:55:20.064Z"
   },
   {
    "duration": 20,
    "start_time": "2022-04-12T20:55:45.810Z"
   },
   {
    "duration": 15,
    "start_time": "2022-04-12T20:56:51.584Z"
   },
   {
    "duration": 16,
    "start_time": "2022-04-12T20:57:24.440Z"
   },
   {
    "duration": 60,
    "start_time": "2022-04-13T08:02:34.747Z"
   },
   {
    "duration": 8,
    "start_time": "2022-04-13T08:02:56.841Z"
   },
   {
    "duration": 507,
    "start_time": "2022-04-13T08:03:06.139Z"
   },
   {
    "duration": 30,
    "start_time": "2022-04-13T08:03:06.649Z"
   },
   {
    "duration": 15,
    "start_time": "2022-04-13T08:03:06.681Z"
   },
   {
    "duration": 34,
    "start_time": "2022-04-13T08:03:06.699Z"
   },
   {
    "duration": 48,
    "start_time": "2022-04-13T08:03:06.735Z"
   },
   {
    "duration": 9,
    "start_time": "2022-04-13T08:03:06.785Z"
   },
   {
    "duration": 15,
    "start_time": "2022-04-13T08:03:06.795Z"
   },
   {
    "duration": 11,
    "start_time": "2022-04-13T08:03:06.812Z"
   },
   {
    "duration": 49,
    "start_time": "2022-04-13T08:03:06.825Z"
   },
   {
    "duration": 106,
    "start_time": "2022-04-13T08:04:08.598Z"
   },
   {
    "duration": 19,
    "start_time": "2022-04-13T08:04:14.343Z"
   },
   {
    "duration": 104,
    "start_time": "2022-04-13T08:28:43.231Z"
   },
   {
    "duration": 69,
    "start_time": "2022-04-13T08:28:49.759Z"
   },
   {
    "duration": 22,
    "start_time": "2022-04-13T08:29:01.336Z"
   },
   {
    "duration": 9,
    "start_time": "2022-04-13T08:35:47.016Z"
   },
   {
    "duration": 11,
    "start_time": "2022-04-13T08:36:07.125Z"
   },
   {
    "duration": 9,
    "start_time": "2022-04-13T08:36:14.715Z"
   },
   {
    "duration": 5,
    "start_time": "2022-04-13T08:36:19.046Z"
   },
   {
    "duration": 11,
    "start_time": "2022-04-13T08:36:33.561Z"
   },
   {
    "duration": 7,
    "start_time": "2022-04-13T08:36:40.311Z"
   },
   {
    "duration": 6,
    "start_time": "2022-04-13T08:36:44.070Z"
   },
   {
    "duration": 7,
    "start_time": "2022-04-13T08:39:37.339Z"
   },
   {
    "duration": 21,
    "start_time": "2022-04-13T08:42:48.862Z"
   },
   {
    "duration": 6,
    "start_time": "2022-04-13T08:45:35.912Z"
   },
   {
    "duration": 10,
    "start_time": "2022-04-13T08:46:35.178Z"
   },
   {
    "duration": 10,
    "start_time": "2022-04-13T08:46:52.912Z"
   },
   {
    "duration": 9,
    "start_time": "2022-04-13T09:13:32.925Z"
   },
   {
    "duration": 12,
    "start_time": "2022-04-13T09:13:48.263Z"
   },
   {
    "duration": 10,
    "start_time": "2022-04-13T09:13:55.357Z"
   },
   {
    "duration": 12,
    "start_time": "2022-04-13T09:15:52.655Z"
   },
   {
    "duration": 4,
    "start_time": "2022-04-13T09:16:29.810Z"
   },
   {
    "duration": 6,
    "start_time": "2022-04-13T09:16:40.477Z"
   },
   {
    "duration": 8,
    "start_time": "2022-04-13T09:18:47.101Z"
   },
   {
    "duration": 7,
    "start_time": "2022-04-13T09:19:38.792Z"
   },
   {
    "duration": 10,
    "start_time": "2022-04-13T09:21:26.629Z"
   },
   {
    "duration": 8,
    "start_time": "2022-04-13T09:24:31.540Z"
   },
   {
    "duration": 28,
    "start_time": "2022-04-13T09:25:51.625Z"
   },
   {
    "duration": 479,
    "start_time": "2022-04-13T09:26:57.978Z"
   },
   {
    "duration": 19,
    "start_time": "2022-04-13T09:26:58.459Z"
   },
   {
    "duration": 9,
    "start_time": "2022-04-13T09:26:58.480Z"
   },
   {
    "duration": 36,
    "start_time": "2022-04-13T09:26:58.490Z"
   },
   {
    "duration": 18,
    "start_time": "2022-04-13T09:26:58.528Z"
   },
   {
    "duration": 33,
    "start_time": "2022-04-13T09:26:58.548Z"
   },
   {
    "duration": 13,
    "start_time": "2022-04-13T09:26:58.583Z"
   },
   {
    "duration": 11,
    "start_time": "2022-04-13T09:26:58.598Z"
   },
   {
    "duration": 26,
    "start_time": "2022-04-13T09:26:58.611Z"
   },
   {
    "duration": 42,
    "start_time": "2022-04-13T09:26:58.640Z"
   },
   {
    "duration": 6,
    "start_time": "2022-04-13T09:26:58.684Z"
   },
   {
    "duration": 12,
    "start_time": "2022-04-13T09:26:58.692Z"
   },
   {
    "duration": 11,
    "start_time": "2022-04-13T09:26:58.707Z"
   },
   {
    "duration": 8,
    "start_time": "2022-04-13T09:26:58.720Z"
   },
   {
    "duration": 55,
    "start_time": "2022-04-13T09:26:58.729Z"
   },
   {
    "duration": 64,
    "start_time": "2022-04-13T09:29:00.455Z"
   },
   {
    "duration": 8,
    "start_time": "2022-04-13T09:29:14.470Z"
   },
   {
    "duration": 507,
    "start_time": "2022-04-13T09:29:26.191Z"
   },
   {
    "duration": 16,
    "start_time": "2022-04-13T09:29:26.701Z"
   },
   {
    "duration": 9,
    "start_time": "2022-04-13T09:29:26.719Z"
   },
   {
    "duration": 56,
    "start_time": "2022-04-13T09:29:26.730Z"
   },
   {
    "duration": 25,
    "start_time": "2022-04-13T09:29:26.789Z"
   },
   {
    "duration": 12,
    "start_time": "2022-04-13T09:29:26.816Z"
   },
   {
    "duration": 43,
    "start_time": "2022-04-13T09:29:26.830Z"
   },
   {
    "duration": 10,
    "start_time": "2022-04-13T09:29:26.876Z"
   },
   {
    "duration": 18,
    "start_time": "2022-04-13T09:29:26.888Z"
   },
   {
    "duration": 14,
    "start_time": "2022-04-13T09:29:26.908Z"
   },
   {
    "duration": 6,
    "start_time": "2022-04-13T09:29:26.924Z"
   },
   {
    "duration": 42,
    "start_time": "2022-04-13T09:29:26.932Z"
   },
   {
    "duration": 8,
    "start_time": "2022-04-13T09:29:26.977Z"
   },
   {
    "duration": 8,
    "start_time": "2022-04-13T09:29:26.988Z"
   },
   {
    "duration": 22,
    "start_time": "2022-04-13T09:29:26.998Z"
   },
   {
    "duration": 87,
    "start_time": "2022-04-13T09:30:21.586Z"
   },
   {
    "duration": 9,
    "start_time": "2022-04-13T09:30:33.329Z"
   },
   {
    "duration": 501,
    "start_time": "2022-04-13T09:31:38.748Z"
   },
   {
    "duration": 22,
    "start_time": "2022-04-13T09:31:39.251Z"
   },
   {
    "duration": 10,
    "start_time": "2022-04-13T09:31:39.275Z"
   },
   {
    "duration": 35,
    "start_time": "2022-04-13T09:31:39.287Z"
   },
   {
    "duration": 17,
    "start_time": "2022-04-13T09:31:39.324Z"
   },
   {
    "duration": 36,
    "start_time": "2022-04-13T09:31:39.343Z"
   },
   {
    "duration": 15,
    "start_time": "2022-04-13T09:31:39.381Z"
   },
   {
    "duration": 9,
    "start_time": "2022-04-13T09:31:39.398Z"
   },
   {
    "duration": 13,
    "start_time": "2022-04-13T09:31:39.409Z"
   },
   {
    "duration": 11,
    "start_time": "2022-04-13T09:31:39.424Z"
   },
   {
    "duration": 37,
    "start_time": "2022-04-13T09:31:39.436Z"
   },
   {
    "duration": 15,
    "start_time": "2022-04-13T09:31:39.475Z"
   },
   {
    "duration": 7,
    "start_time": "2022-04-13T09:31:39.491Z"
   },
   {
    "duration": 11,
    "start_time": "2022-04-13T09:31:39.499Z"
   },
   {
    "duration": 6,
    "start_time": "2022-04-13T09:31:39.512Z"
   },
   {
    "duration": 58,
    "start_time": "2022-04-13T09:31:39.520Z"
   },
   {
    "duration": 848,
    "start_time": "2022-04-13T09:32:32.534Z"
   },
   {
    "duration": 10,
    "start_time": "2022-04-13T09:33:33.096Z"
   },
   {
    "duration": 10,
    "start_time": "2022-04-13T09:34:02.899Z"
   },
   {
    "duration": 444,
    "start_time": "2022-04-13T09:34:21.995Z"
   },
   {
    "duration": 14,
    "start_time": "2022-04-13T09:34:22.441Z"
   },
   {
    "duration": 17,
    "start_time": "2022-04-13T09:34:22.457Z"
   },
   {
    "duration": 29,
    "start_time": "2022-04-13T09:34:22.476Z"
   },
   {
    "duration": 14,
    "start_time": "2022-04-13T09:34:22.507Z"
   },
   {
    "duration": 7,
    "start_time": "2022-04-13T09:34:22.523Z"
   },
   {
    "duration": 14,
    "start_time": "2022-04-13T09:34:22.531Z"
   },
   {
    "duration": 8,
    "start_time": "2022-04-13T09:34:22.572Z"
   },
   {
    "duration": 10,
    "start_time": "2022-04-13T09:34:22.582Z"
   },
   {
    "duration": 9,
    "start_time": "2022-04-13T09:34:22.594Z"
   },
   {
    "duration": 6,
    "start_time": "2022-04-13T09:34:22.604Z"
   },
   {
    "duration": 9,
    "start_time": "2022-04-13T09:34:22.611Z"
   },
   {
    "duration": 6,
    "start_time": "2022-04-13T09:34:22.621Z"
   },
   {
    "duration": 49,
    "start_time": "2022-04-13T09:34:22.630Z"
   },
   {
    "duration": 7,
    "start_time": "2022-04-13T09:34:22.681Z"
   },
   {
    "duration": 29,
    "start_time": "2022-04-13T09:34:22.690Z"
   },
   {
    "duration": 12,
    "start_time": "2022-04-13T09:37:16.207Z"
   },
   {
    "duration": 7,
    "start_time": "2022-04-13T09:38:46.926Z"
   },
   {
    "duration": 472,
    "start_time": "2022-04-13T09:38:53.861Z"
   },
   {
    "duration": 15,
    "start_time": "2022-04-13T09:38:54.336Z"
   },
   {
    "duration": 23,
    "start_time": "2022-04-13T09:38:54.352Z"
   },
   {
    "duration": 32,
    "start_time": "2022-04-13T09:38:54.377Z"
   },
   {
    "duration": 14,
    "start_time": "2022-04-13T09:38:54.410Z"
   },
   {
    "duration": 8,
    "start_time": "2022-04-13T09:38:54.425Z"
   },
   {
    "duration": 46,
    "start_time": "2022-04-13T09:38:54.434Z"
   },
   {
    "duration": 9,
    "start_time": "2022-04-13T09:38:54.482Z"
   },
   {
    "duration": 9,
    "start_time": "2022-04-13T09:38:54.493Z"
   },
   {
    "duration": 9,
    "start_time": "2022-04-13T09:38:54.505Z"
   },
   {
    "duration": 9,
    "start_time": "2022-04-13T09:38:54.515Z"
   },
   {
    "duration": 10,
    "start_time": "2022-04-13T09:38:54.525Z"
   },
   {
    "duration": 51,
    "start_time": "2022-04-13T09:38:54.537Z"
   },
   {
    "duration": 11,
    "start_time": "2022-04-13T09:38:54.590Z"
   },
   {
    "duration": 10,
    "start_time": "2022-04-13T09:38:54.603Z"
   },
   {
    "duration": 22,
    "start_time": "2022-04-13T09:38:54.615Z"
   },
   {
    "duration": 16,
    "start_time": "2022-04-13T09:39:15.989Z"
   },
   {
    "duration": 15,
    "start_time": "2022-04-13T09:41:23.277Z"
   },
   {
    "duration": 19,
    "start_time": "2022-04-13T09:41:54.432Z"
   },
   {
    "duration": 17,
    "start_time": "2022-04-13T09:42:25.469Z"
   },
   {
    "duration": 10,
    "start_time": "2022-04-13T09:54:04.144Z"
   },
   {
    "duration": 8,
    "start_time": "2022-04-13T09:54:30.758Z"
   },
   {
    "duration": 11,
    "start_time": "2022-04-13T09:55:09.195Z"
   },
   {
    "duration": 8,
    "start_time": "2022-04-13T09:55:32.167Z"
   },
   {
    "duration": 26,
    "start_time": "2022-04-13T10:42:53.200Z"
   },
   {
    "duration": 26,
    "start_time": "2022-04-13T10:44:34.242Z"
   },
   {
    "duration": 96,
    "start_time": "2022-04-13T10:45:14.657Z"
   },
   {
    "duration": 17,
    "start_time": "2022-04-13T10:45:21.492Z"
   },
   {
    "duration": 16,
    "start_time": "2022-04-13T10:46:41.210Z"
   },
   {
    "duration": 417,
    "start_time": "2022-04-13T10:49:06.328Z"
   },
   {
    "duration": 15,
    "start_time": "2022-04-13T10:49:06.747Z"
   },
   {
    "duration": 18,
    "start_time": "2022-04-13T10:49:06.763Z"
   },
   {
    "duration": 34,
    "start_time": "2022-04-13T10:49:06.782Z"
   },
   {
    "duration": 13,
    "start_time": "2022-04-13T10:49:06.818Z"
   },
   {
    "duration": 8,
    "start_time": "2022-04-13T10:49:06.833Z"
   },
   {
    "duration": 41,
    "start_time": "2022-04-13T10:49:06.842Z"
   },
   {
    "duration": 7,
    "start_time": "2022-04-13T10:49:06.885Z"
   },
   {
    "duration": 10,
    "start_time": "2022-04-13T10:49:06.894Z"
   },
   {
    "duration": 9,
    "start_time": "2022-04-13T10:49:06.905Z"
   },
   {
    "duration": 19,
    "start_time": "2022-04-13T10:49:06.916Z"
   },
   {
    "duration": 13,
    "start_time": "2022-04-13T10:49:06.937Z"
   },
   {
    "duration": 14,
    "start_time": "2022-04-13T10:49:06.973Z"
   },
   {
    "duration": 7,
    "start_time": "2022-04-13T10:49:06.990Z"
   },
   {
    "duration": 12,
    "start_time": "2022-04-13T10:49:06.998Z"
   },
   {
    "duration": 23,
    "start_time": "2022-04-13T10:49:07.012Z"
   },
   {
    "duration": 36,
    "start_time": "2022-04-13T10:49:07.037Z"
   },
   {
    "duration": 18,
    "start_time": "2022-04-13T10:49:07.075Z"
   },
   {
    "duration": 24,
    "start_time": "2022-04-13T10:49:07.095Z"
   },
   {
    "duration": 12,
    "start_time": "2022-04-13T10:49:07.121Z"
   },
   {
    "duration": 17,
    "start_time": "2022-04-13T10:49:55.295Z"
   },
   {
    "duration": 76,
    "start_time": "2022-04-13T11:03:22.566Z"
   },
   {
    "duration": 18,
    "start_time": "2022-04-13T11:03:31.253Z"
   },
   {
    "duration": 8,
    "start_time": "2022-04-13T11:04:04.209Z"
   },
   {
    "duration": 30,
    "start_time": "2022-04-13T11:04:14.026Z"
   },
   {
    "duration": 41,
    "start_time": "2022-04-13T11:04:49.363Z"
   },
   {
    "duration": 46,
    "start_time": "2022-04-13T11:05:01.932Z"
   },
   {
    "duration": 47,
    "start_time": "2022-04-13T11:06:21.413Z"
   },
   {
    "duration": 34,
    "start_time": "2022-04-13T11:07:25.883Z"
   },
   {
    "duration": 41,
    "start_time": "2022-04-13T11:09:43.212Z"
   },
   {
    "duration": 3,
    "start_time": "2022-04-13T11:10:44.919Z"
   },
   {
    "duration": 7,
    "start_time": "2022-04-13T11:11:27.627Z"
   },
   {
    "duration": 36,
    "start_time": "2022-04-13T11:11:41.569Z"
   },
   {
    "duration": 7,
    "start_time": "2022-04-13T11:23:39.529Z"
   },
   {
    "duration": 14,
    "start_time": "2022-04-13T11:25:06.233Z"
   },
   {
    "duration": 40,
    "start_time": "2022-04-13T11:27:05.955Z"
   },
   {
    "duration": 3,
    "start_time": "2022-04-13T11:57:30.810Z"
   },
   {
    "duration": 17,
    "start_time": "2022-04-13T11:58:58.955Z"
   },
   {
    "duration": 38,
    "start_time": "2022-04-13T12:00:55.907Z"
   },
   {
    "duration": 26,
    "start_time": "2022-04-13T12:01:31.650Z"
   },
   {
    "duration": 24,
    "start_time": "2022-04-13T12:01:40.935Z"
   },
   {
    "duration": 491,
    "start_time": "2022-04-13T12:04:39.105Z"
   },
   {
    "duration": 20,
    "start_time": "2022-04-13T12:04:39.601Z"
   },
   {
    "duration": 9,
    "start_time": "2022-04-13T12:04:39.623Z"
   },
   {
    "duration": 34,
    "start_time": "2022-04-13T12:04:39.634Z"
   },
   {
    "duration": 18,
    "start_time": "2022-04-13T12:04:39.674Z"
   },
   {
    "duration": 32,
    "start_time": "2022-04-13T12:04:39.694Z"
   },
   {
    "duration": 15,
    "start_time": "2022-04-13T12:04:39.727Z"
   },
   {
    "duration": 7,
    "start_time": "2022-04-13T12:04:39.743Z"
   },
   {
    "duration": 35,
    "start_time": "2022-04-13T12:04:39.751Z"
   },
   {
    "duration": 32,
    "start_time": "2022-04-13T12:04:39.788Z"
   },
   {
    "duration": 22,
    "start_time": "2022-04-13T12:04:39.822Z"
   },
   {
    "duration": 11,
    "start_time": "2022-04-13T12:04:39.846Z"
   },
   {
    "duration": 24,
    "start_time": "2022-04-13T12:04:39.859Z"
   },
   {
    "duration": 18,
    "start_time": "2022-04-13T12:04:39.886Z"
   },
   {
    "duration": 27,
    "start_time": "2022-04-13T12:04:39.905Z"
   },
   {
    "duration": 21,
    "start_time": "2022-04-13T12:04:39.934Z"
   },
   {
    "duration": 14,
    "start_time": "2022-04-13T12:04:39.957Z"
   },
   {
    "duration": 45,
    "start_time": "2022-04-13T12:04:39.972Z"
   },
   {
    "duration": 25,
    "start_time": "2022-04-13T12:04:40.019Z"
   },
   {
    "duration": 15,
    "start_time": "2022-04-13T12:04:40.047Z"
   },
   {
    "duration": 54,
    "start_time": "2022-04-13T12:04:40.064Z"
   },
   {
    "duration": 30,
    "start_time": "2022-04-13T12:04:40.120Z"
   },
   {
    "duration": 37,
    "start_time": "2022-04-13T12:04:40.152Z"
   },
   {
    "duration": 28,
    "start_time": "2022-04-13T12:04:40.193Z"
   },
   {
    "duration": 30,
    "start_time": "2022-04-13T12:04:40.223Z"
   },
   {
    "duration": 101,
    "start_time": "2022-04-13T12:05:34.390Z"
   },
   {
    "duration": 14,
    "start_time": "2022-04-13T12:05:57.002Z"
   },
   {
    "duration": 30,
    "start_time": "2022-04-13T12:06:13.372Z"
   },
   {
    "duration": 35,
    "start_time": "2022-04-13T12:07:12.574Z"
   },
   {
    "duration": 20,
    "start_time": "2022-04-13T12:07:32.811Z"
   },
   {
    "duration": 21,
    "start_time": "2022-04-13T12:10:07.526Z"
   },
   {
    "duration": 103,
    "start_time": "2022-04-13T12:16:37.009Z"
   },
   {
    "duration": 108,
    "start_time": "2022-04-13T12:17:08.119Z"
   },
   {
    "duration": 23,
    "start_time": "2022-04-13T12:17:26.531Z"
   },
   {
    "duration": 20,
    "start_time": "2022-04-13T12:17:36.541Z"
   },
   {
    "duration": 142,
    "start_time": "2022-04-13T12:25:32.425Z"
   },
   {
    "duration": 132,
    "start_time": "2022-04-13T12:30:34.397Z"
   },
   {
    "duration": 287,
    "start_time": "2022-04-13T12:30:57.316Z"
   },
   {
    "duration": 502,
    "start_time": "2022-04-13T12:32:21.700Z"
   },
   {
    "duration": 21,
    "start_time": "2022-04-13T12:32:22.205Z"
   },
   {
    "duration": 10,
    "start_time": "2022-04-13T12:32:22.228Z"
   },
   {
    "duration": 54,
    "start_time": "2022-04-13T12:32:22.240Z"
   },
   {
    "duration": 23,
    "start_time": "2022-04-13T12:32:22.297Z"
   },
   {
    "duration": 9,
    "start_time": "2022-04-13T12:32:22.322Z"
   },
   {
    "duration": 17,
    "start_time": "2022-04-13T12:32:22.333Z"
   },
   {
    "duration": 7,
    "start_time": "2022-04-13T12:32:22.351Z"
   },
   {
    "duration": 23,
    "start_time": "2022-04-13T12:32:22.360Z"
   },
   {
    "duration": 46,
    "start_time": "2022-04-13T12:32:22.390Z"
   },
   {
    "duration": 8,
    "start_time": "2022-04-13T12:32:22.438Z"
   },
   {
    "duration": 17,
    "start_time": "2022-04-13T12:32:22.447Z"
   },
   {
    "duration": 62,
    "start_time": "2022-04-13T12:32:22.465Z"
   },
   {
    "duration": 7,
    "start_time": "2022-04-13T12:32:22.530Z"
   },
   {
    "duration": 12,
    "start_time": "2022-04-13T12:32:22.539Z"
   },
   {
    "duration": 24,
    "start_time": "2022-04-13T12:32:22.553Z"
   },
   {
    "duration": 22,
    "start_time": "2022-04-13T12:32:22.579Z"
   },
   {
    "duration": 42,
    "start_time": "2022-04-13T12:32:22.604Z"
   },
   {
    "duration": 22,
    "start_time": "2022-04-13T12:32:22.648Z"
   },
   {
    "duration": 27,
    "start_time": "2022-04-13T12:32:22.672Z"
   },
   {
    "duration": 38,
    "start_time": "2022-04-13T12:32:22.701Z"
   },
   {
    "duration": 30,
    "start_time": "2022-04-13T12:32:22.740Z"
   },
   {
    "duration": 42,
    "start_time": "2022-04-13T12:32:22.772Z"
   },
   {
    "duration": 24,
    "start_time": "2022-04-13T12:32:22.816Z"
   },
   {
    "duration": 41,
    "start_time": "2022-04-13T12:32:22.843Z"
   },
   {
    "duration": 40,
    "start_time": "2022-04-13T12:32:22.891Z"
   },
   {
    "duration": 27,
    "start_time": "2022-04-13T12:32:22.934Z"
   },
   {
    "duration": 30,
    "start_time": "2022-04-13T12:32:22.964Z"
   },
   {
    "duration": 44,
    "start_time": "2022-04-13T12:32:22.997Z"
   },
   {
    "duration": 2026,
    "start_time": "2022-04-13T12:32:23.043Z"
   },
   {
    "duration": 0,
    "start_time": "2022-04-13T12:32:25.071Z"
   },
   {
    "duration": 465,
    "start_time": "2022-04-13T12:33:11.502Z"
   },
   {
    "duration": 20,
    "start_time": "2022-04-13T12:33:11.969Z"
   },
   {
    "duration": 29,
    "start_time": "2022-04-13T12:33:11.992Z"
   },
   {
    "duration": 33,
    "start_time": "2022-04-13T12:33:12.023Z"
   },
   {
    "duration": 22,
    "start_time": "2022-04-13T12:33:12.058Z"
   },
   {
    "duration": 16,
    "start_time": "2022-04-13T12:33:12.085Z"
   },
   {
    "duration": 16,
    "start_time": "2022-04-13T12:33:12.105Z"
   },
   {
    "duration": 7,
    "start_time": "2022-04-13T12:33:12.122Z"
   },
   {
    "duration": 12,
    "start_time": "2022-04-13T12:33:12.130Z"
   },
   {
    "duration": 9,
    "start_time": "2022-04-13T12:33:12.143Z"
   },
   {
    "duration": 23,
    "start_time": "2022-04-13T12:33:12.153Z"
   },
   {
    "duration": 30,
    "start_time": "2022-04-13T12:33:12.182Z"
   },
   {
    "duration": 15,
    "start_time": "2022-04-13T12:33:12.214Z"
   },
   {
    "duration": 6,
    "start_time": "2022-04-13T12:33:12.232Z"
   },
   {
    "duration": 15,
    "start_time": "2022-04-13T12:33:12.240Z"
   },
   {
    "duration": 29,
    "start_time": "2022-04-13T12:33:12.256Z"
   },
   {
    "duration": 14,
    "start_time": "2022-04-13T12:33:12.288Z"
   },
   {
    "duration": 17,
    "start_time": "2022-04-13T12:33:12.303Z"
   },
   {
    "duration": 15,
    "start_time": "2022-04-13T12:33:12.322Z"
   },
   {
    "duration": 11,
    "start_time": "2022-04-13T12:33:12.339Z"
   },
   {
    "duration": 47,
    "start_time": "2022-04-13T12:33:12.351Z"
   },
   {
    "duration": 32,
    "start_time": "2022-04-13T12:33:12.400Z"
   },
   {
    "duration": 29,
    "start_time": "2022-04-13T12:33:12.434Z"
   },
   {
    "duration": 37,
    "start_time": "2022-04-13T12:33:12.465Z"
   },
   {
    "duration": 33,
    "start_time": "2022-04-13T12:33:12.504Z"
   },
   {
    "duration": 13,
    "start_time": "2022-04-13T12:33:12.539Z"
   },
   {
    "duration": 33,
    "start_time": "2022-04-13T12:33:12.554Z"
   },
   {
    "duration": 29,
    "start_time": "2022-04-13T12:33:12.589Z"
   },
   {
    "duration": 21,
    "start_time": "2022-04-13T12:33:12.620Z"
   },
   {
    "duration": 17,
    "start_time": "2022-04-13T12:33:12.643Z"
   },
   {
    "duration": 267,
    "start_time": "2022-04-13T12:33:12.662Z"
   },
   {
    "duration": 204,
    "start_time": "2022-04-13T12:35:57.603Z"
   },
   {
    "duration": 233,
    "start_time": "2022-04-13T12:39:22.598Z"
   },
   {
    "duration": 194,
    "start_time": "2022-04-13T12:39:41.600Z"
   },
   {
    "duration": 226,
    "start_time": "2022-04-13T12:41:14.913Z"
   },
   {
    "duration": 158,
    "start_time": "2022-04-13T12:42:47.319Z"
   },
   {
    "duration": 195,
    "start_time": "2022-04-13T12:44:13.197Z"
   },
   {
    "duration": 218,
    "start_time": "2022-04-13T12:44:24.951Z"
   },
   {
    "duration": 520,
    "start_time": "2022-04-13T12:44:34.446Z"
   },
   {
    "duration": 20,
    "start_time": "2022-04-13T12:44:34.968Z"
   },
   {
    "duration": 17,
    "start_time": "2022-04-13T12:44:34.990Z"
   },
   {
    "duration": 36,
    "start_time": "2022-04-13T12:44:35.010Z"
   },
   {
    "duration": 25,
    "start_time": "2022-04-13T12:44:35.048Z"
   },
   {
    "duration": 11,
    "start_time": "2022-04-13T12:44:35.077Z"
   },
   {
    "duration": 17,
    "start_time": "2022-04-13T12:44:35.092Z"
   },
   {
    "duration": 7,
    "start_time": "2022-04-13T12:44:35.111Z"
   },
   {
    "duration": 12,
    "start_time": "2022-04-13T12:44:35.119Z"
   },
   {
    "duration": 9,
    "start_time": "2022-04-13T12:44:35.134Z"
   },
   {
    "duration": 41,
    "start_time": "2022-04-13T12:44:35.144Z"
   },
   {
    "duration": 17,
    "start_time": "2022-04-13T12:44:35.187Z"
   },
   {
    "duration": 13,
    "start_time": "2022-04-13T12:44:35.206Z"
   },
   {
    "duration": 6,
    "start_time": "2022-04-13T12:44:35.221Z"
   },
   {
    "duration": 12,
    "start_time": "2022-04-13T12:44:35.229Z"
   },
   {
    "duration": 47,
    "start_time": "2022-04-13T12:44:35.243Z"
   },
   {
    "duration": 8,
    "start_time": "2022-04-13T12:44:35.292Z"
   },
   {
    "duration": 17,
    "start_time": "2022-04-13T12:44:35.302Z"
   },
   {
    "duration": 16,
    "start_time": "2022-04-13T12:44:35.321Z"
   },
   {
    "duration": 39,
    "start_time": "2022-04-13T12:44:35.339Z"
   },
   {
    "duration": 34,
    "start_time": "2022-04-13T12:44:35.380Z"
   },
   {
    "duration": 30,
    "start_time": "2022-04-13T12:44:35.415Z"
   },
   {
    "duration": 47,
    "start_time": "2022-04-13T12:44:35.447Z"
   },
   {
    "duration": 15,
    "start_time": "2022-04-13T12:44:35.496Z"
   },
   {
    "duration": 34,
    "start_time": "2022-04-13T12:44:35.513Z"
   },
   {
    "duration": 30,
    "start_time": "2022-04-13T12:44:35.548Z"
   },
   {
    "duration": 16,
    "start_time": "2022-04-13T12:44:35.580Z"
   },
   {
    "duration": 13,
    "start_time": "2022-04-13T12:44:35.599Z"
   },
   {
    "duration": 29,
    "start_time": "2022-04-13T12:44:35.613Z"
   },
   {
    "duration": 39,
    "start_time": "2022-04-13T12:44:35.643Z"
   },
   {
    "duration": 249,
    "start_time": "2022-04-13T12:44:35.684Z"
   },
   {
    "duration": 202,
    "start_time": "2022-04-13T12:44:42.691Z"
   },
   {
    "duration": 231,
    "start_time": "2022-04-13T12:45:10.687Z"
   },
   {
    "duration": 217,
    "start_time": "2022-04-13T12:45:21.387Z"
   },
   {
    "duration": 30,
    "start_time": "2022-04-13T12:48:47.500Z"
   },
   {
    "duration": 16,
    "start_time": "2022-04-13T12:48:56.364Z"
   },
   {
    "duration": 69,
    "start_time": "2022-04-13T14:42:28.889Z"
   },
   {
    "duration": 15,
    "start_time": "2022-04-13T14:42:39.723Z"
   },
   {
    "duration": 15,
    "start_time": "2022-04-13T14:43:11.626Z"
   },
   {
    "duration": 610,
    "start_time": "2022-04-13T18:17:06.109Z"
   },
   {
    "duration": 20,
    "start_time": "2022-04-13T18:17:06.722Z"
   },
   {
    "duration": 11,
    "start_time": "2022-04-13T18:17:06.745Z"
   },
   {
    "duration": 65,
    "start_time": "2022-04-13T18:17:06.758Z"
   },
   {
    "duration": 20,
    "start_time": "2022-04-13T18:17:06.826Z"
   },
   {
    "duration": 10,
    "start_time": "2022-04-13T18:17:06.848Z"
   },
   {
    "duration": 39,
    "start_time": "2022-04-13T18:17:06.861Z"
   },
   {
    "duration": 9,
    "start_time": "2022-04-13T18:17:06.902Z"
   },
   {
    "duration": 13,
    "start_time": "2022-04-13T18:17:06.913Z"
   },
   {
    "duration": 13,
    "start_time": "2022-04-13T18:17:06.928Z"
   },
   {
    "duration": 9,
    "start_time": "2022-04-13T18:17:06.984Z"
   },
   {
    "duration": 17,
    "start_time": "2022-04-13T18:17:06.995Z"
   },
   {
    "duration": 15,
    "start_time": "2022-04-13T18:17:07.014Z"
   },
   {
    "duration": 8,
    "start_time": "2022-04-13T18:17:07.033Z"
   },
   {
    "duration": 53,
    "start_time": "2022-04-13T18:17:07.043Z"
   },
   {
    "duration": 30,
    "start_time": "2022-04-13T18:17:07.098Z"
   },
   {
    "duration": 12,
    "start_time": "2022-04-13T18:17:07.130Z"
   },
   {
    "duration": 50,
    "start_time": "2022-04-13T18:17:07.144Z"
   },
   {
    "duration": 23,
    "start_time": "2022-04-13T18:17:07.196Z"
   },
   {
    "duration": 18,
    "start_time": "2022-04-13T18:17:07.221Z"
   },
   {
    "duration": 62,
    "start_time": "2022-04-13T18:17:07.241Z"
   },
   {
    "duration": 45,
    "start_time": "2022-04-13T18:17:07.306Z"
   },
   {
    "duration": 69,
    "start_time": "2022-04-13T18:17:07.354Z"
   },
   {
    "duration": 19,
    "start_time": "2022-04-13T18:17:07.425Z"
   },
   {
    "duration": 61,
    "start_time": "2022-04-13T18:17:07.446Z"
   },
   {
    "duration": 18,
    "start_time": "2022-04-13T18:17:07.509Z"
   },
   {
    "duration": 16,
    "start_time": "2022-04-13T18:17:07.529Z"
   },
   {
    "duration": 45,
    "start_time": "2022-04-13T18:17:07.547Z"
   },
   {
    "duration": 32,
    "start_time": "2022-04-13T18:17:07.594Z"
   },
   {
    "duration": 24,
    "start_time": "2022-04-13T18:17:07.629Z"
   },
   {
    "duration": 426,
    "start_time": "2022-04-13T18:17:07.655Z"
   },
   {
    "duration": 123,
    "start_time": "2022-04-13T18:17:08.083Z"
   },
   {
    "duration": 27,
    "start_time": "2022-04-13T18:18:56.295Z"
   },
   {
    "duration": 26,
    "start_time": "2022-04-13T18:23:04.899Z"
   },
   {
    "duration": 30,
    "start_time": "2022-04-13T18:23:54.395Z"
   },
   {
    "duration": 32,
    "start_time": "2022-04-13T18:24:16.048Z"
   },
   {
    "duration": 28,
    "start_time": "2022-04-13T18:25:11.350Z"
   },
   {
    "duration": 17,
    "start_time": "2022-04-13T18:25:55.946Z"
   },
   {
    "duration": 23,
    "start_time": "2022-04-13T18:26:27.011Z"
   },
   {
    "duration": 27,
    "start_time": "2022-04-13T18:27:34.051Z"
   },
   {
    "duration": 280,
    "start_time": "2022-04-13T18:30:10.895Z"
   },
   {
    "duration": 277,
    "start_time": "2022-04-13T18:30:40.358Z"
   },
   {
    "duration": 274,
    "start_time": "2022-04-13T18:31:48.829Z"
   },
   {
    "duration": 270,
    "start_time": "2022-04-13T18:32:09.435Z"
   },
   {
    "duration": 29,
    "start_time": "2022-04-13T18:34:53.385Z"
   },
   {
    "duration": 32,
    "start_time": "2022-04-13T18:35:06.684Z"
   },
   {
    "duration": 30,
    "start_time": "2022-04-13T18:35:14.195Z"
   },
   {
    "duration": 53,
    "start_time": "2022-04-13T18:35:51.109Z"
   },
   {
    "duration": 29,
    "start_time": "2022-04-13T18:37:37.155Z"
   },
   {
    "duration": 35,
    "start_time": "2022-04-13T18:39:05.439Z"
   },
   {
    "duration": 36,
    "start_time": "2022-04-13T18:39:19.727Z"
   },
   {
    "duration": 33,
    "start_time": "2022-04-13T18:40:39.194Z"
   },
   {
    "duration": 39,
    "start_time": "2022-04-13T18:41:29.376Z"
   },
   {
    "duration": 31,
    "start_time": "2022-04-13T18:42:17.141Z"
   },
   {
    "duration": 30,
    "start_time": "2022-04-13T18:42:27.817Z"
   },
   {
    "duration": 29,
    "start_time": "2022-04-13T18:42:47.497Z"
   },
   {
    "duration": 47,
    "start_time": "2022-04-13T19:20:24.560Z"
   },
   {
    "duration": 31,
    "start_time": "2022-04-13T19:20:40.156Z"
   },
   {
    "duration": 54,
    "start_time": "2022-04-13T19:28:00.540Z"
   },
   {
    "duration": 4,
    "start_time": "2022-04-13T19:32:40.518Z"
   },
   {
    "duration": 4,
    "start_time": "2022-04-13T19:33:26.806Z"
   },
   {
    "duration": 279,
    "start_time": "2022-04-13T19:36:31.866Z"
   },
   {
    "duration": 30,
    "start_time": "2022-04-13T19:50:34.518Z"
   },
   {
    "duration": 39,
    "start_time": "2022-04-13T20:03:30.194Z"
   },
   {
    "duration": 40,
    "start_time": "2022-04-13T20:03:39.130Z"
   },
   {
    "duration": 28,
    "start_time": "2022-04-13T20:04:25.512Z"
   },
   {
    "duration": 43,
    "start_time": "2022-04-14T09:31:02.138Z"
   },
   {
    "duration": 628,
    "start_time": "2022-04-14T09:31:11.817Z"
   },
   {
    "duration": 15,
    "start_time": "2022-04-14T09:31:12.448Z"
   },
   {
    "duration": 8,
    "start_time": "2022-04-14T09:31:12.464Z"
   },
   {
    "duration": 55,
    "start_time": "2022-04-14T09:31:12.474Z"
   },
   {
    "duration": 18,
    "start_time": "2022-04-14T09:31:12.531Z"
   },
   {
    "duration": 10,
    "start_time": "2022-04-14T09:31:12.551Z"
   },
   {
    "duration": 15,
    "start_time": "2022-04-14T09:31:12.562Z"
   },
   {
    "duration": 6,
    "start_time": "2022-04-14T09:31:12.579Z"
   },
   {
    "duration": 44,
    "start_time": "2022-04-14T09:31:12.587Z"
   },
   {
    "duration": 9,
    "start_time": "2022-04-14T09:31:12.634Z"
   },
   {
    "duration": 6,
    "start_time": "2022-04-14T09:31:12.644Z"
   },
   {
    "duration": 10,
    "start_time": "2022-04-14T09:31:12.652Z"
   },
   {
    "duration": 13,
    "start_time": "2022-04-14T09:31:12.665Z"
   },
   {
    "duration": 47,
    "start_time": "2022-04-14T09:31:12.680Z"
   },
   {
    "duration": 17,
    "start_time": "2022-04-14T09:31:12.730Z"
   },
   {
    "duration": 34,
    "start_time": "2022-04-14T09:31:12.749Z"
   },
   {
    "duration": 41,
    "start_time": "2022-04-14T09:31:12.786Z"
   },
   {
    "duration": 14,
    "start_time": "2022-04-14T09:31:12.829Z"
   },
   {
    "duration": 18,
    "start_time": "2022-04-14T09:31:12.844Z"
   },
   {
    "duration": 11,
    "start_time": "2022-04-14T09:31:12.864Z"
   },
   {
    "duration": 67,
    "start_time": "2022-04-14T09:31:12.877Z"
   },
   {
    "duration": 41,
    "start_time": "2022-04-14T09:31:12.946Z"
   },
   {
    "duration": 42,
    "start_time": "2022-04-14T09:31:12.989Z"
   },
   {
    "duration": 18,
    "start_time": "2022-04-14T09:31:13.033Z"
   },
   {
    "duration": 38,
    "start_time": "2022-04-14T09:31:13.054Z"
   },
   {
    "duration": 39,
    "start_time": "2022-04-14T09:31:13.095Z"
   },
   {
    "duration": 18,
    "start_time": "2022-04-14T09:31:13.136Z"
   },
   {
    "duration": 2,
    "start_time": "2022-04-14T09:31:13.159Z"
   },
   {
    "duration": 33,
    "start_time": "2022-04-14T09:31:13.164Z"
   },
   {
    "duration": 40,
    "start_time": "2022-04-14T09:31:13.200Z"
   },
   {
    "duration": 431,
    "start_time": "2022-04-14T09:31:13.243Z"
   },
   {
    "duration": 312,
    "start_time": "2022-04-14T09:31:13.676Z"
   },
   {
    "duration": 36,
    "start_time": "2022-04-14T09:31:13.991Z"
   },
   {
    "duration": 27,
    "start_time": "2022-04-14T09:31:14.029Z"
   },
   {
    "duration": 31,
    "start_time": "2022-04-14T09:31:14.058Z"
   },
   {
    "duration": 53,
    "start_time": "2022-04-14T09:31:14.091Z"
   },
   {
    "duration": 555,
    "start_time": "2022-04-14T09:48:26.599Z"
   },
   {
    "duration": 19,
    "start_time": "2022-04-14T09:48:27.157Z"
   },
   {
    "duration": 18,
    "start_time": "2022-04-14T09:48:27.178Z"
   },
   {
    "duration": 52,
    "start_time": "2022-04-14T09:48:27.199Z"
   },
   {
    "duration": 19,
    "start_time": "2022-04-14T09:48:27.253Z"
   },
   {
    "duration": 9,
    "start_time": "2022-04-14T09:48:27.274Z"
   },
   {
    "duration": 13,
    "start_time": "2022-04-14T09:48:27.285Z"
   },
   {
    "duration": 47,
    "start_time": "2022-04-14T09:48:27.299Z"
   },
   {
    "duration": 32,
    "start_time": "2022-04-14T09:48:27.348Z"
   },
   {
    "duration": 10,
    "start_time": "2022-04-14T09:48:27.386Z"
   },
   {
    "duration": 13,
    "start_time": "2022-04-14T09:48:27.398Z"
   },
   {
    "duration": 26,
    "start_time": "2022-04-14T09:48:27.413Z"
   },
   {
    "duration": 38,
    "start_time": "2022-04-14T09:48:27.442Z"
   },
   {
    "duration": 8,
    "start_time": "2022-04-14T09:48:27.482Z"
   },
   {
    "duration": 20,
    "start_time": "2022-04-14T09:48:27.492Z"
   },
   {
    "duration": 27,
    "start_time": "2022-04-14T09:48:27.514Z"
   },
   {
    "duration": 41,
    "start_time": "2022-04-14T09:48:27.544Z"
   },
   {
    "duration": 17,
    "start_time": "2022-04-14T09:48:27.587Z"
   },
   {
    "duration": 31,
    "start_time": "2022-04-14T09:48:27.606Z"
   },
   {
    "duration": 23,
    "start_time": "2022-04-14T09:48:27.641Z"
   },
   {
    "duration": 27,
    "start_time": "2022-04-14T09:48:27.667Z"
   },
   {
    "duration": 40,
    "start_time": "2022-04-14T09:48:27.695Z"
   },
   {
    "duration": 40,
    "start_time": "2022-04-14T09:48:27.738Z"
   },
   {
    "duration": 18,
    "start_time": "2022-04-14T09:48:27.780Z"
   },
   {
    "duration": 57,
    "start_time": "2022-04-14T09:48:27.800Z"
   },
   {
    "duration": 19,
    "start_time": "2022-04-14T09:48:27.859Z"
   },
   {
    "duration": 18,
    "start_time": "2022-04-14T09:48:27.880Z"
   },
   {
    "duration": 3,
    "start_time": "2022-04-14T09:48:27.902Z"
   },
   {
    "duration": 57,
    "start_time": "2022-04-14T09:48:27.906Z"
   },
   {
    "duration": 22,
    "start_time": "2022-04-14T09:48:27.965Z"
   },
   {
    "duration": 263,
    "start_time": "2022-04-14T09:48:27.990Z"
   },
   {
    "duration": 188,
    "start_time": "2022-04-14T09:48:28.255Z"
   },
   {
    "duration": 25,
    "start_time": "2022-04-14T09:48:28.445Z"
   },
   {
    "duration": 27,
    "start_time": "2022-04-14T09:48:28.472Z"
   },
   {
    "duration": 42,
    "start_time": "2022-04-14T09:48:28.501Z"
   },
   {
    "duration": 22,
    "start_time": "2022-04-14T09:48:28.545Z"
   },
   {
    "duration": 108,
    "start_time": "2022-04-14T11:58:46.590Z"
   },
   {
    "duration": 654,
    "start_time": "2022-04-14T11:58:54.423Z"
   },
   {
    "duration": 31,
    "start_time": "2022-04-14T11:58:55.081Z"
   },
   {
    "duration": 38,
    "start_time": "2022-04-14T11:58:55.114Z"
   },
   {
    "duration": 45,
    "start_time": "2022-04-14T11:58:55.155Z"
   },
   {
    "duration": 20,
    "start_time": "2022-04-14T11:58:55.202Z"
   },
   {
    "duration": 34,
    "start_time": "2022-04-14T11:58:55.224Z"
   },
   {
    "duration": 18,
    "start_time": "2022-04-14T11:58:55.260Z"
   },
   {
    "duration": 9,
    "start_time": "2022-04-14T11:58:55.281Z"
   },
   {
    "duration": 59,
    "start_time": "2022-04-14T11:58:55.293Z"
   },
   {
    "duration": 13,
    "start_time": "2022-04-14T11:58:55.356Z"
   },
   {
    "duration": 7,
    "start_time": "2022-04-14T11:58:55.371Z"
   },
   {
    "duration": 17,
    "start_time": "2022-04-14T11:58:55.381Z"
   },
   {
    "duration": 52,
    "start_time": "2022-04-14T11:58:55.401Z"
   },
   {
    "duration": 14,
    "start_time": "2022-04-14T11:58:55.456Z"
   },
   {
    "duration": 16,
    "start_time": "2022-04-14T11:58:55.472Z"
   },
   {
    "duration": 63,
    "start_time": "2022-04-14T11:58:55.490Z"
   },
   {
    "duration": 12,
    "start_time": "2022-04-14T11:58:55.555Z"
   },
   {
    "duration": 20,
    "start_time": "2022-04-14T11:58:55.569Z"
   },
   {
    "duration": 63,
    "start_time": "2022-04-14T11:58:55.592Z"
   },
   {
    "duration": 25,
    "start_time": "2022-04-14T11:58:55.657Z"
   },
   {
    "duration": 27,
    "start_time": "2022-04-14T11:58:55.684Z"
   },
   {
    "duration": 79,
    "start_time": "2022-04-14T11:58:55.713Z"
   },
   {
    "duration": 65,
    "start_time": "2022-04-14T11:58:55.794Z"
   },
   {
    "duration": 21,
    "start_time": "2022-04-14T11:58:55.862Z"
   },
   {
    "duration": 72,
    "start_time": "2022-04-14T11:58:55.885Z"
   },
   {
    "duration": 18,
    "start_time": "2022-04-14T11:58:55.960Z"
   },
   {
    "duration": 18,
    "start_time": "2022-04-14T11:58:55.980Z"
   },
   {
    "duration": 4,
    "start_time": "2022-04-14T11:58:56.005Z"
   },
   {
    "duration": 82,
    "start_time": "2022-04-14T11:58:56.011Z"
   },
   {
    "duration": 57,
    "start_time": "2022-04-14T11:58:56.096Z"
   },
   {
    "duration": 692,
    "start_time": "2022-04-14T11:58:56.156Z"
   },
   {
    "duration": 491,
    "start_time": "2022-04-14T11:58:56.852Z"
   },
   {
    "duration": 44,
    "start_time": "2022-04-14T11:58:57.346Z"
   },
   {
    "duration": 28,
    "start_time": "2022-04-14T11:58:57.392Z"
   },
   {
    "duration": 52,
    "start_time": "2022-04-14T11:58:57.422Z"
   },
   {
    "duration": 33,
    "start_time": "2022-04-14T11:58:57.476Z"
   },
   {
    "duration": 704,
    "start_time": "2022-04-14T12:00:21.764Z"
   },
   {
    "duration": 23,
    "start_time": "2022-04-14T12:00:22.471Z"
   },
   {
    "duration": 35,
    "start_time": "2022-04-14T12:00:22.496Z"
   },
   {
    "duration": 63,
    "start_time": "2022-04-14T12:00:22.534Z"
   },
   {
    "duration": 20,
    "start_time": "2022-04-14T12:00:22.599Z"
   },
   {
    "duration": 33,
    "start_time": "2022-04-14T12:00:22.621Z"
   },
   {
    "duration": 18,
    "start_time": "2022-04-14T12:00:22.656Z"
   },
   {
    "duration": 14,
    "start_time": "2022-04-14T12:00:22.676Z"
   },
   {
    "duration": 64,
    "start_time": "2022-04-14T12:00:22.692Z"
   },
   {
    "duration": 16,
    "start_time": "2022-04-14T12:00:22.761Z"
   },
   {
    "duration": 15,
    "start_time": "2022-04-14T12:00:22.779Z"
   },
   {
    "duration": 32,
    "start_time": "2022-04-14T12:00:22.796Z"
   },
   {
    "duration": 35,
    "start_time": "2022-04-14T12:00:22.830Z"
   },
   {
    "duration": 12,
    "start_time": "2022-04-14T12:00:22.867Z"
   },
   {
    "duration": 29,
    "start_time": "2022-04-14T12:00:22.881Z"
   },
   {
    "duration": 46,
    "start_time": "2022-04-14T12:00:22.913Z"
   },
   {
    "duration": 12,
    "start_time": "2022-04-14T12:00:22.961Z"
   },
   {
    "duration": 28,
    "start_time": "2022-04-14T12:00:22.976Z"
   },
   {
    "duration": 47,
    "start_time": "2022-04-14T12:00:23.007Z"
   },
   {
    "duration": 25,
    "start_time": "2022-04-14T12:00:23.057Z"
   },
   {
    "duration": 45,
    "start_time": "2022-04-14T12:00:23.085Z"
   },
   {
    "duration": 65,
    "start_time": "2022-04-14T12:00:23.132Z"
   },
   {
    "duration": 64,
    "start_time": "2022-04-14T12:00:23.199Z"
   },
   {
    "duration": 19,
    "start_time": "2022-04-14T12:00:23.266Z"
   },
   {
    "duration": 66,
    "start_time": "2022-04-14T12:00:23.287Z"
   },
   {
    "duration": 22,
    "start_time": "2022-04-14T12:00:23.355Z"
   },
   {
    "duration": 18,
    "start_time": "2022-04-14T12:00:23.379Z"
   },
   {
    "duration": 9,
    "start_time": "2022-04-14T12:00:23.401Z"
   },
   {
    "duration": 65,
    "start_time": "2022-04-14T12:00:23.412Z"
   },
   {
    "duration": 23,
    "start_time": "2022-04-14T12:00:23.479Z"
   },
   {
    "duration": 428,
    "start_time": "2022-04-14T12:00:23.505Z"
   },
   {
    "duration": 483,
    "start_time": "2022-04-14T12:00:23.935Z"
   },
   {
    "duration": 43,
    "start_time": "2022-04-14T12:00:24.421Z"
   },
   {
    "duration": 42,
    "start_time": "2022-04-14T12:00:24.467Z"
   },
   {
    "duration": 50,
    "start_time": "2022-04-14T12:00:24.512Z"
   },
   {
    "duration": 32,
    "start_time": "2022-04-14T12:00:24.565Z"
   },
   {
    "duration": 629,
    "start_time": "2022-04-14T12:32:54.616Z"
   },
   {
    "duration": 21,
    "start_time": "2022-04-14T12:32:55.248Z"
   },
   {
    "duration": 11,
    "start_time": "2022-04-14T12:32:55.271Z"
   },
   {
    "duration": 44,
    "start_time": "2022-04-14T12:32:55.285Z"
   },
   {
    "duration": 38,
    "start_time": "2022-04-14T12:32:55.331Z"
   },
   {
    "duration": 13,
    "start_time": "2022-04-14T12:32:55.371Z"
   },
   {
    "duration": 17,
    "start_time": "2022-04-14T12:32:55.386Z"
   },
   {
    "duration": 8,
    "start_time": "2022-04-14T12:32:55.405Z"
   },
   {
    "duration": 49,
    "start_time": "2022-04-14T12:32:55.415Z"
   },
   {
    "duration": 13,
    "start_time": "2022-04-14T12:32:55.470Z"
   },
   {
    "duration": 8,
    "start_time": "2022-04-14T12:32:55.486Z"
   },
   {
    "duration": 57,
    "start_time": "2022-04-14T12:32:55.496Z"
   },
   {
    "duration": 17,
    "start_time": "2022-04-14T12:32:55.555Z"
   },
   {
    "duration": 9,
    "start_time": "2022-04-14T12:32:55.574Z"
   },
   {
    "duration": 16,
    "start_time": "2022-04-14T12:32:55.585Z"
   },
   {
    "duration": 66,
    "start_time": "2022-04-14T12:32:55.603Z"
   },
   {
    "duration": 13,
    "start_time": "2022-04-14T12:32:55.671Z"
   },
   {
    "duration": 21,
    "start_time": "2022-04-14T12:32:55.686Z"
   },
   {
    "duration": 56,
    "start_time": "2022-04-14T12:32:55.709Z"
   },
   {
    "duration": 18,
    "start_time": "2022-04-14T12:32:55.767Z"
   },
   {
    "duration": 27,
    "start_time": "2022-04-14T12:32:55.788Z"
   },
   {
    "duration": 74,
    "start_time": "2022-04-14T12:32:55.817Z"
   },
   {
    "duration": 73,
    "start_time": "2022-04-14T12:32:55.894Z"
   },
   {
    "duration": 21,
    "start_time": "2022-04-14T12:32:55.969Z"
   },
   {
    "duration": 62,
    "start_time": "2022-04-14T12:32:55.993Z"
   },
   {
    "duration": 16,
    "start_time": "2022-04-14T12:32:56.058Z"
   },
   {
    "duration": 15,
    "start_time": "2022-04-14T12:32:56.075Z"
   },
   {
    "duration": 3,
    "start_time": "2022-04-14T12:32:56.095Z"
   },
   {
    "duration": 66,
    "start_time": "2022-04-14T12:32:56.099Z"
   },
   {
    "duration": 21,
    "start_time": "2022-04-14T12:32:56.168Z"
   },
   {
    "duration": 407,
    "start_time": "2022-04-14T12:32:56.191Z"
   },
   {
    "duration": 296,
    "start_time": "2022-04-14T12:32:56.600Z"
   },
   {
    "duration": 32,
    "start_time": "2022-04-14T12:32:56.899Z"
   },
   {
    "duration": 29,
    "start_time": "2022-04-14T12:32:56.952Z"
   },
   {
    "duration": 29,
    "start_time": "2022-04-14T12:32:56.983Z"
   },
   {
    "duration": 57,
    "start_time": "2022-04-14T12:32:57.014Z"
   },
   {
    "duration": 616,
    "start_time": "2022-04-23T17:01:34.821Z"
   },
   {
    "duration": 21,
    "start_time": "2022-04-23T17:01:35.439Z"
   },
   {
    "duration": 10,
    "start_time": "2022-04-23T17:01:35.462Z"
   },
   {
    "duration": 121,
    "start_time": "2022-04-23T17:01:35.476Z"
   },
   {
    "duration": 14,
    "start_time": "2022-04-23T17:01:35.598Z"
   },
   {
    "duration": 8,
    "start_time": "2022-04-23T17:01:35.614Z"
   },
   {
    "duration": 28,
    "start_time": "2022-04-23T17:01:35.623Z"
   },
   {
    "duration": 16,
    "start_time": "2022-04-23T17:01:35.654Z"
   },
   {
    "duration": 24,
    "start_time": "2022-04-23T17:01:35.672Z"
   },
   {
    "duration": 10,
    "start_time": "2022-04-23T17:01:35.699Z"
   },
   {
    "duration": 6,
    "start_time": "2022-04-23T17:01:35.711Z"
   },
   {
    "duration": 14,
    "start_time": "2022-04-23T17:01:35.718Z"
   },
   {
    "duration": 41,
    "start_time": "2022-04-23T17:01:35.734Z"
   },
   {
    "duration": 19,
    "start_time": "2022-04-23T17:01:35.780Z"
   },
   {
    "duration": 13,
    "start_time": "2022-04-23T17:01:35.801Z"
   },
   {
    "duration": 29,
    "start_time": "2022-04-23T17:01:35.816Z"
   },
   {
    "duration": 19,
    "start_time": "2022-04-23T17:01:35.847Z"
   },
   {
    "duration": 32,
    "start_time": "2022-04-23T17:01:35.868Z"
   },
   {
    "duration": 18,
    "start_time": "2022-04-23T17:01:35.902Z"
   },
   {
    "duration": 25,
    "start_time": "2022-04-23T17:01:35.922Z"
   },
   {
    "duration": 27,
    "start_time": "2022-04-23T17:01:35.950Z"
   },
   {
    "duration": 51,
    "start_time": "2022-04-23T17:01:35.979Z"
   },
   {
    "duration": 63,
    "start_time": "2022-04-23T17:01:36.032Z"
   },
   {
    "duration": 20,
    "start_time": "2022-04-23T17:01:36.097Z"
   },
   {
    "duration": 68,
    "start_time": "2022-04-23T17:01:36.119Z"
   },
   {
    "duration": 54,
    "start_time": "2022-04-23T17:01:36.189Z"
   },
   {
    "duration": 15,
    "start_time": "2022-04-23T17:01:36.245Z"
   },
   {
    "duration": 34,
    "start_time": "2022-04-23T17:01:36.264Z"
   },
   {
    "duration": 30,
    "start_time": "2022-04-23T17:01:36.300Z"
   },
   {
    "duration": 17,
    "start_time": "2022-04-23T17:01:36.331Z"
   },
   {
    "duration": 314,
    "start_time": "2022-04-23T17:01:36.352Z"
   },
   {
    "duration": 236,
    "start_time": "2022-04-23T17:01:36.668Z"
   },
   {
    "duration": 25,
    "start_time": "2022-04-23T17:01:36.906Z"
   },
   {
    "duration": 37,
    "start_time": "2022-04-23T17:01:36.955Z"
   },
   {
    "duration": 24,
    "start_time": "2022-04-23T17:01:36.994Z"
   },
   {
    "duration": 23,
    "start_time": "2022-04-23T17:01:37.020Z"
   },
   {
    "duration": 613,
    "start_time": "2022-04-24T08:43:35.950Z"
   },
   {
    "duration": 30,
    "start_time": "2022-04-24T08:43:36.565Z"
   },
   {
    "duration": 12,
    "start_time": "2022-04-24T08:43:36.597Z"
   },
   {
    "duration": 43,
    "start_time": "2022-04-24T08:43:36.613Z"
   },
   {
    "duration": 48,
    "start_time": "2022-04-24T08:43:36.658Z"
   },
   {
    "duration": 12,
    "start_time": "2022-04-24T08:43:36.708Z"
   },
   {
    "duration": 17,
    "start_time": "2022-04-24T08:43:36.722Z"
   },
   {
    "duration": 9,
    "start_time": "2022-04-24T08:43:36.741Z"
   },
   {
    "duration": 49,
    "start_time": "2022-04-24T08:43:36.752Z"
   },
   {
    "duration": 12,
    "start_time": "2022-04-24T08:43:36.805Z"
   },
   {
    "duration": 10,
    "start_time": "2022-04-24T08:43:36.821Z"
   },
   {
    "duration": 14,
    "start_time": "2022-04-24T08:43:36.834Z"
   },
   {
    "duration": 16,
    "start_time": "2022-04-24T08:43:36.894Z"
   },
   {
    "duration": 9,
    "start_time": "2022-04-24T08:43:36.913Z"
   },
   {
    "duration": 17,
    "start_time": "2022-04-24T08:43:36.925Z"
   },
   {
    "duration": 72,
    "start_time": "2022-04-24T08:43:36.944Z"
   },
   {
    "duration": 14,
    "start_time": "2022-04-24T08:43:37.019Z"
   },
   {
    "duration": 58,
    "start_time": "2022-04-24T08:43:37.036Z"
   },
   {
    "duration": 35,
    "start_time": "2022-04-24T08:43:37.097Z"
   },
   {
    "duration": 24,
    "start_time": "2022-04-24T08:43:37.134Z"
   },
   {
    "duration": 46,
    "start_time": "2022-04-24T08:43:37.160Z"
   },
   {
    "duration": 40,
    "start_time": "2022-04-24T08:43:37.209Z"
   },
   {
    "duration": 60,
    "start_time": "2022-04-24T08:43:37.251Z"
   },
   {
    "duration": 50,
    "start_time": "2022-04-24T08:43:37.314Z"
   },
   {
    "duration": 70,
    "start_time": "2022-04-24T08:43:37.367Z"
   },
   {
    "duration": 18,
    "start_time": "2022-04-24T08:43:37.439Z"
   },
   {
    "duration": 41,
    "start_time": "2022-04-24T08:43:37.459Z"
   },
   {
    "duration": 3,
    "start_time": "2022-04-24T08:43:37.505Z"
   },
   {
    "duration": 33,
    "start_time": "2022-04-24T08:43:37.510Z"
   },
   {
    "duration": 48,
    "start_time": "2022-04-24T08:43:37.546Z"
   },
   {
    "duration": 427,
    "start_time": "2022-04-24T08:43:37.596Z"
   },
   {
    "duration": 321,
    "start_time": "2022-04-24T08:43:38.025Z"
   },
   {
    "duration": 46,
    "start_time": "2022-04-24T08:43:38.349Z"
   },
   {
    "duration": 31,
    "start_time": "2022-04-24T08:43:38.397Z"
   },
   {
    "duration": 31,
    "start_time": "2022-04-24T08:43:38.430Z"
   },
   {
    "duration": 62,
    "start_time": "2022-04-24T08:43:38.463Z"
   },
   {
    "duration": 457,
    "start_time": "2022-04-24T12:01:54.119Z"
   },
   {
    "duration": 17,
    "start_time": "2022-04-24T12:01:54.579Z"
   },
   {
    "duration": 10,
    "start_time": "2022-04-24T12:01:54.598Z"
   },
   {
    "duration": 34,
    "start_time": "2022-04-24T12:01:54.610Z"
   },
   {
    "duration": 41,
    "start_time": "2022-04-24T12:01:54.647Z"
   },
   {
    "duration": 8,
    "start_time": "2022-04-24T12:01:54.690Z"
   },
   {
    "duration": 13,
    "start_time": "2022-04-24T12:01:54.700Z"
   },
   {
    "duration": 7,
    "start_time": "2022-04-24T12:01:54.715Z"
   },
   {
    "duration": 10,
    "start_time": "2022-04-24T12:01:54.724Z"
   },
   {
    "duration": 47,
    "start_time": "2022-04-24T12:01:54.736Z"
   },
   {
    "duration": 10,
    "start_time": "2022-04-24T12:01:54.785Z"
   },
   {
    "duration": 10,
    "start_time": "2022-04-24T12:01:54.797Z"
   },
   {
    "duration": 14,
    "start_time": "2022-04-24T12:01:54.809Z"
   },
   {
    "duration": 9,
    "start_time": "2022-04-24T12:01:54.828Z"
   },
   {
    "duration": 47,
    "start_time": "2022-04-24T12:01:54.840Z"
   },
   {
    "duration": 34,
    "start_time": "2022-04-24T12:01:54.889Z"
   },
   {
    "duration": 10,
    "start_time": "2022-04-24T12:01:54.926Z"
   },
   {
    "duration": 55,
    "start_time": "2022-04-24T12:01:54.938Z"
   },
   {
    "duration": 21,
    "start_time": "2022-04-24T12:01:54.995Z"
   },
   {
    "duration": 14,
    "start_time": "2022-04-24T12:01:55.018Z"
   },
   {
    "duration": 49,
    "start_time": "2022-04-24T12:01:55.035Z"
   },
   {
    "duration": 5,
    "start_time": "2022-04-24T12:01:55.086Z"
   },
   {
    "duration": 20,
    "start_time": "2022-04-24T12:01:55.093Z"
   },
   {
    "duration": 32,
    "start_time": "2022-04-24T12:01:55.115Z"
   },
   {
    "duration": 33,
    "start_time": "2022-04-24T12:01:55.173Z"
   },
   {
    "duration": 13,
    "start_time": "2022-04-24T12:01:55.208Z"
   },
   {
    "duration": 13,
    "start_time": "2022-04-24T12:01:55.223Z"
   },
   {
    "duration": 36,
    "start_time": "2022-04-24T12:01:55.238Z"
   },
   {
    "duration": 25,
    "start_time": "2022-04-24T12:01:55.276Z"
   },
   {
    "duration": 25,
    "start_time": "2022-04-24T12:01:55.304Z"
   },
   {
    "duration": 264,
    "start_time": "2022-04-24T12:01:55.332Z"
   },
   {
    "duration": 187,
    "start_time": "2022-04-24T12:01:55.598Z"
   },
   {
    "duration": 24,
    "start_time": "2022-04-24T12:01:55.787Z"
   },
   {
    "duration": 27,
    "start_time": "2022-04-24T12:01:55.813Z"
   },
   {
    "duration": 55,
    "start_time": "2022-04-24T12:01:55.842Z"
   },
   {
    "duration": 39,
    "start_time": "2022-04-24T12:01:55.899Z"
   },
   {
    "duration": 485,
    "start_time": "2022-04-24T12:07:53.778Z"
   },
   {
    "duration": 15,
    "start_time": "2022-04-24T12:07:54.265Z"
   },
   {
    "duration": 16,
    "start_time": "2022-04-24T12:07:54.282Z"
   },
   {
    "duration": 52,
    "start_time": "2022-04-24T12:07:54.299Z"
   },
   {
    "duration": 14,
    "start_time": "2022-04-24T12:07:54.352Z"
   },
   {
    "duration": 12,
    "start_time": "2022-04-24T12:07:54.367Z"
   },
   {
    "duration": 24,
    "start_time": "2022-04-24T12:07:54.381Z"
   },
   {
    "duration": 7,
    "start_time": "2022-04-24T12:07:54.408Z"
   },
   {
    "duration": 12,
    "start_time": "2022-04-24T12:07:54.417Z"
   },
   {
    "duration": 14,
    "start_time": "2022-04-24T12:07:54.432Z"
   },
   {
    "duration": 31,
    "start_time": "2022-04-24T12:07:54.448Z"
   },
   {
    "duration": 21,
    "start_time": "2022-04-24T12:07:54.480Z"
   },
   {
    "duration": 34,
    "start_time": "2022-04-24T12:07:54.503Z"
   },
   {
    "duration": 13,
    "start_time": "2022-04-24T12:07:54.538Z"
   },
   {
    "duration": 16,
    "start_time": "2022-04-24T12:07:54.553Z"
   },
   {
    "duration": 31,
    "start_time": "2022-04-24T12:07:54.572Z"
   },
   {
    "duration": 10,
    "start_time": "2022-04-24T12:07:54.605Z"
   },
   {
    "duration": 21,
    "start_time": "2022-04-24T12:07:54.617Z"
   },
   {
    "duration": 51,
    "start_time": "2022-04-24T12:07:54.639Z"
   },
   {
    "duration": 16,
    "start_time": "2022-04-24T12:07:54.692Z"
   },
   {
    "duration": 21,
    "start_time": "2022-04-24T12:07:54.710Z"
   },
   {
    "duration": 49,
    "start_time": "2022-04-24T12:07:54.733Z"
   },
   {
    "duration": 18,
    "start_time": "2022-04-24T12:07:54.784Z"
   },
   {
    "duration": 31,
    "start_time": "2022-04-24T12:07:54.803Z"
   },
   {
    "duration": 56,
    "start_time": "2022-04-24T12:07:54.835Z"
   },
   {
    "duration": 13,
    "start_time": "2022-04-24T12:07:54.893Z"
   },
   {
    "duration": 16,
    "start_time": "2022-04-24T12:07:54.908Z"
   },
   {
    "duration": 2,
    "start_time": "2022-04-24T12:07:54.927Z"
   },
   {
    "duration": 49,
    "start_time": "2022-04-24T12:07:54.931Z"
   },
   {
    "duration": 19,
    "start_time": "2022-04-24T12:07:54.982Z"
   },
   {
    "duration": 255,
    "start_time": "2022-04-24T12:07:55.003Z"
   },
   {
    "duration": 186,
    "start_time": "2022-04-24T12:07:55.260Z"
   },
   {
    "duration": 44,
    "start_time": "2022-04-24T12:07:55.449Z"
   },
   {
    "duration": 25,
    "start_time": "2022-04-24T12:07:55.495Z"
   },
   {
    "duration": 21,
    "start_time": "2022-04-24T12:07:55.522Z"
   },
   {
    "duration": 59,
    "start_time": "2022-04-24T12:07:55.545Z"
   },
   {
    "duration": 443,
    "start_time": "2022-04-24T12:33:09.606Z"
   },
   {
    "duration": 17,
    "start_time": "2022-04-24T12:33:10.051Z"
   },
   {
    "duration": 9,
    "start_time": "2022-04-24T12:33:10.074Z"
   },
   {
    "duration": 44,
    "start_time": "2022-04-24T12:33:10.086Z"
   },
   {
    "duration": 15,
    "start_time": "2022-04-24T12:33:10.133Z"
   },
   {
    "duration": 25,
    "start_time": "2022-04-24T12:33:10.149Z"
   },
   {
    "duration": 13,
    "start_time": "2022-04-24T12:33:10.175Z"
   },
   {
    "duration": 7,
    "start_time": "2022-04-24T12:33:10.189Z"
   },
   {
    "duration": 8,
    "start_time": "2022-04-24T12:33:10.198Z"
   },
   {
    "duration": 9,
    "start_time": "2022-04-24T12:33:10.209Z"
   },
   {
    "duration": 7,
    "start_time": "2022-04-24T12:33:10.220Z"
   },
   {
    "duration": 49,
    "start_time": "2022-04-24T12:33:10.228Z"
   },
   {
    "duration": 11,
    "start_time": "2022-04-24T12:33:10.279Z"
   },
   {
    "duration": 7,
    "start_time": "2022-04-24T12:33:10.291Z"
   },
   {
    "duration": 13,
    "start_time": "2022-04-24T12:33:10.300Z"
   },
   {
    "duration": 22,
    "start_time": "2022-04-24T12:33:10.314Z"
   },
   {
    "duration": 43,
    "start_time": "2022-04-24T12:33:10.337Z"
   },
   {
    "duration": 14,
    "start_time": "2022-04-24T12:33:10.382Z"
   },
   {
    "duration": 16,
    "start_time": "2022-04-24T12:33:10.397Z"
   },
   {
    "duration": 11,
    "start_time": "2022-04-24T12:33:10.414Z"
   },
   {
    "duration": 48,
    "start_time": "2022-04-24T12:33:10.427Z"
   },
   {
    "duration": 27,
    "start_time": "2022-04-24T12:33:10.477Z"
   },
   {
    "duration": 17,
    "start_time": "2022-04-24T12:33:10.506Z"
   },
   {
    "duration": 58,
    "start_time": "2022-04-24T12:33:10.525Z"
   },
   {
    "duration": 30,
    "start_time": "2022-04-24T12:33:10.585Z"
   },
   {
    "duration": 11,
    "start_time": "2022-04-24T12:33:10.617Z"
   },
   {
    "duration": 12,
    "start_time": "2022-04-24T12:33:10.630Z"
   },
   {
    "duration": 3,
    "start_time": "2022-04-24T12:33:10.673Z"
   },
   {
    "duration": 24,
    "start_time": "2022-04-24T12:33:10.678Z"
   },
   {
    "duration": 17,
    "start_time": "2022-04-24T12:33:10.704Z"
   },
   {
    "duration": 234,
    "start_time": "2022-04-24T12:33:10.723Z"
   },
   {
    "duration": 174,
    "start_time": "2022-04-24T12:33:10.958Z"
   },
   {
    "duration": 20,
    "start_time": "2022-04-24T12:33:11.133Z"
   },
   {
    "duration": 33,
    "start_time": "2022-04-24T12:33:11.155Z"
   },
   {
    "duration": 19,
    "start_time": "2022-04-24T12:33:11.190Z"
   },
   {
    "duration": 21,
    "start_time": "2022-04-24T12:33:11.211Z"
   },
   {
    "duration": 483,
    "start_time": "2022-04-24T13:07:19.668Z"
   },
   {
    "duration": 14,
    "start_time": "2022-04-24T13:07:20.153Z"
   },
   {
    "duration": 8,
    "start_time": "2022-04-24T13:07:20.169Z"
   },
   {
    "duration": 39,
    "start_time": "2022-04-24T13:07:20.179Z"
   },
   {
    "duration": 12,
    "start_time": "2022-04-24T13:07:20.220Z"
   },
   {
    "duration": 7,
    "start_time": "2022-04-24T13:07:20.234Z"
   },
   {
    "duration": 14,
    "start_time": "2022-04-24T13:07:20.242Z"
   },
   {
    "duration": 6,
    "start_time": "2022-04-24T13:07:20.257Z"
   },
   {
    "duration": 8,
    "start_time": "2022-04-24T13:07:20.264Z"
   },
   {
    "duration": 8,
    "start_time": "2022-04-24T13:07:20.301Z"
   },
   {
    "duration": 7,
    "start_time": "2022-04-24T13:07:20.310Z"
   },
   {
    "duration": 8,
    "start_time": "2022-04-24T13:07:20.318Z"
   },
   {
    "duration": 10,
    "start_time": "2022-04-24T13:07:20.327Z"
   },
   {
    "duration": 6,
    "start_time": "2022-04-24T13:07:20.339Z"
   },
   {
    "duration": 12,
    "start_time": "2022-04-24T13:07:20.346Z"
   },
   {
    "duration": 46,
    "start_time": "2022-04-24T13:07:20.359Z"
   },
   {
    "duration": 8,
    "start_time": "2022-04-24T13:07:20.406Z"
   },
   {
    "duration": 14,
    "start_time": "2022-04-24T13:07:20.415Z"
   },
   {
    "duration": 14,
    "start_time": "2022-04-24T13:07:20.431Z"
   },
   {
    "duration": 10,
    "start_time": "2022-04-24T13:07:20.446Z"
   },
   {
    "duration": 16,
    "start_time": "2022-04-24T13:07:20.457Z"
   },
   {
    "duration": 27,
    "start_time": "2022-04-24T13:07:20.500Z"
   },
   {
    "duration": 19,
    "start_time": "2022-04-24T13:07:20.529Z"
   },
   {
    "duration": 51,
    "start_time": "2022-04-24T13:07:20.550Z"
   },
   {
    "duration": 28,
    "start_time": "2022-04-24T13:07:20.603Z"
   },
   {
    "duration": 11,
    "start_time": "2022-04-24T13:07:20.633Z"
   },
   {
    "duration": 11,
    "start_time": "2022-04-24T13:07:20.646Z"
   },
   {
    "duration": 2,
    "start_time": "2022-04-24T13:07:20.661Z"
   },
   {
    "duration": 52,
    "start_time": "2022-04-24T13:07:20.664Z"
   },
   {
    "duration": 16,
    "start_time": "2022-04-24T13:07:20.718Z"
   },
   {
    "duration": 232,
    "start_time": "2022-04-24T13:07:20.736Z"
   },
   {
    "duration": 166,
    "start_time": "2022-04-24T13:07:20.969Z"
   },
   {
    "duration": 18,
    "start_time": "2022-04-24T13:07:21.137Z"
   },
   {
    "duration": 17,
    "start_time": "2022-04-24T13:07:21.157Z"
   },
   {
    "duration": 39,
    "start_time": "2022-04-24T13:07:21.176Z"
   },
   {
    "duration": 20,
    "start_time": "2022-04-24T13:07:21.217Z"
   }
  ],
  "kernelspec": {
   "display_name": "Python 3 (ipykernel)",
   "language": "python",
   "name": "python3"
  },
  "language_info": {
   "codemirror_mode": {
    "name": "ipython",
    "version": 3
   },
   "file_extension": ".py",
   "mimetype": "text/x-python",
   "name": "python",
   "nbconvert_exporter": "python",
   "pygments_lexer": "ipython3",
   "version": "3.9.7"
  },
  "toc": {
   "base_numbering": "0",
   "nav_menu": {
    "height": "224px",
    "width": "378px"
   },
   "number_sections": true,
   "sideBar": true,
   "skip_h1_title": true,
   "title_cell": "Table of Contents",
   "title_sidebar": "Contents",
   "toc_cell": false,
   "toc_position": {
    "height": "calc(100% - 180px)",
    "left": "10px",
    "top": "150px",
    "width": "353.391px"
   },
   "toc_section_display": true,
   "toc_window_display": true
  }
 },
 "nbformat": 4,
 "nbformat_minor": 5
}
