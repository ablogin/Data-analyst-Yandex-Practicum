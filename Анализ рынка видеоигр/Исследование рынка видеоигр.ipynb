{
 "cells": [
  {
   "cell_type": "markdown",
   "metadata": {},
   "source": [
    "# Исследоввание рынка видеоигр\n",
    "\n",
    "Вы работаете в интернет-магазине , который продаёт по всему миру компьютерные игры. Из открытых источников доступны исторические данные о продажах игр, оценки пользователей и экспертов, жанры и платформы (например, Xbox или PlayStation). Вам нужно выявить определяющие успешность игры закономерности. "
   ]
  },
  {
   "cell_type": "markdown",
   "metadata": {},
   "source": [
    "## Изучение данных из файла и их предобработка"
   ]
  },
  {
   "cell_type": "code",
   "execution_count": 1,
   "metadata": {},
   "outputs": [],
   "source": [
    "import pandas as pd\n",
    "import matplotlib.pyplot as plt\n",
    "import math\n",
    "import numpy as np\n",
    "from scipy import stats as st\n",
    "import copy\n",
    "import seaborn as sns\n",
    "\n",
    "data = pd.read_csv('/datasets/games.csv')"
   ]
  },
  {
   "cell_type": "markdown",
   "metadata": {},
   "source": [
    "### Обзор и изучение данных\n",
    "\n",
    "\n",
    "    Name — название игры\n",
    "    Platform — платформа\n",
    "    Year_of_Release — год выпуска\n",
    "    Genre — жанр игры\n",
    "    NA_sales — продажи в Северной Америке (миллионы проданных копий)\n",
    "    EU_sales — продажи в Европе (миллионы проданных копий)\n",
    "    JP_sales — продажи в Японии (миллионы проданных копий)\n",
    "    Other_sales — продажи в других странах (миллионы проданных копий)\n",
    "    Critic_Score — оценка критиков (максимум 100)\n",
    "    User_Score — оценка пользователей (максимум 10)\n",
    "    Rating — рейтинг от организации ESRB (англ. Entertainment Software Rating Board). Эта ассоциация определяет рейтинг компьютерных игр и присваивает им подходящую возрастную категорию."
   ]
  },
  {
   "cell_type": "code",
   "execution_count": 2,
   "metadata": {},
   "outputs": [
    {
     "name": "stdout",
     "output_type": "stream",
     "text": [
      "\n",
      "Информация о таблице:\n",
      "      \n",
      "<class 'pandas.core.frame.DataFrame'>\n",
      "RangeIndex: 16715 entries, 0 to 16714\n",
      "Data columns (total 11 columns):\n",
      " #   Column           Non-Null Count  Dtype  \n",
      "---  ------           --------------  -----  \n",
      " 0   Name             16713 non-null  object \n",
      " 1   Platform         16715 non-null  object \n",
      " 2   Year_of_Release  16446 non-null  float64\n",
      " 3   Genre            16713 non-null  object \n",
      " 4   NA_sales         16715 non-null  float64\n",
      " 5   EU_sales         16715 non-null  float64\n",
      " 6   JP_sales         16715 non-null  float64\n",
      " 7   Other_sales      16715 non-null  float64\n",
      " 8   Critic_Score     8137 non-null   float64\n",
      " 9   User_Score       10014 non-null  object \n",
      " 10  Rating           9949 non-null   object \n",
      "dtypes: float64(6), object(5)\n",
      "memory usage: 1.4+ MB\n"
     ]
    },
    {
     "data": {
      "text/plain": [
       "None"
      ]
     },
     "metadata": {},
     "output_type": "display_data"
    },
    {
     "name": "stdout",
     "output_type": "stream",
     "text": [
      "\n",
      "Обзор таблицы:\n",
      "      \n"
     ]
    },
    {
     "data": {
      "text/html": [
       "<div>\n",
       "<style scoped>\n",
       "    .dataframe tbody tr th:only-of-type {\n",
       "        vertical-align: middle;\n",
       "    }\n",
       "\n",
       "    .dataframe tbody tr th {\n",
       "        vertical-align: top;\n",
       "    }\n",
       "\n",
       "    .dataframe thead th {\n",
       "        text-align: right;\n",
       "    }\n",
       "</style>\n",
       "<table border=\"1\" class=\"dataframe\">\n",
       "  <thead>\n",
       "    <tr style=\"text-align: right;\">\n",
       "      <th></th>\n",
       "      <th>Name</th>\n",
       "      <th>Platform</th>\n",
       "      <th>Year_of_Release</th>\n",
       "      <th>Genre</th>\n",
       "      <th>NA_sales</th>\n",
       "      <th>EU_sales</th>\n",
       "      <th>JP_sales</th>\n",
       "      <th>Other_sales</th>\n",
       "      <th>Critic_Score</th>\n",
       "      <th>User_Score</th>\n",
       "      <th>Rating</th>\n",
       "    </tr>\n",
       "  </thead>\n",
       "  <tbody>\n",
       "    <tr>\n",
       "      <th>0</th>\n",
       "      <td>Wii Sports</td>\n",
       "      <td>Wii</td>\n",
       "      <td>2006.0</td>\n",
       "      <td>Sports</td>\n",
       "      <td>41.36</td>\n",
       "      <td>28.96</td>\n",
       "      <td>3.77</td>\n",
       "      <td>8.45</td>\n",
       "      <td>76.0</td>\n",
       "      <td>8</td>\n",
       "      <td>E</td>\n",
       "    </tr>\n",
       "    <tr>\n",
       "      <th>1</th>\n",
       "      <td>Super Mario Bros.</td>\n",
       "      <td>NES</td>\n",
       "      <td>1985.0</td>\n",
       "      <td>Platform</td>\n",
       "      <td>29.08</td>\n",
       "      <td>3.58</td>\n",
       "      <td>6.81</td>\n",
       "      <td>0.77</td>\n",
       "      <td>NaN</td>\n",
       "      <td>NaN</td>\n",
       "      <td>NaN</td>\n",
       "    </tr>\n",
       "    <tr>\n",
       "      <th>2</th>\n",
       "      <td>Mario Kart Wii</td>\n",
       "      <td>Wii</td>\n",
       "      <td>2008.0</td>\n",
       "      <td>Racing</td>\n",
       "      <td>15.68</td>\n",
       "      <td>12.76</td>\n",
       "      <td>3.79</td>\n",
       "      <td>3.29</td>\n",
       "      <td>82.0</td>\n",
       "      <td>8.3</td>\n",
       "      <td>E</td>\n",
       "    </tr>\n",
       "    <tr>\n",
       "      <th>3</th>\n",
       "      <td>Wii Sports Resort</td>\n",
       "      <td>Wii</td>\n",
       "      <td>2009.0</td>\n",
       "      <td>Sports</td>\n",
       "      <td>15.61</td>\n",
       "      <td>10.93</td>\n",
       "      <td>3.28</td>\n",
       "      <td>2.95</td>\n",
       "      <td>80.0</td>\n",
       "      <td>8</td>\n",
       "      <td>E</td>\n",
       "    </tr>\n",
       "    <tr>\n",
       "      <th>4</th>\n",
       "      <td>Pokemon Red/Pokemon Blue</td>\n",
       "      <td>GB</td>\n",
       "      <td>1996.0</td>\n",
       "      <td>Role-Playing</td>\n",
       "      <td>11.27</td>\n",
       "      <td>8.89</td>\n",
       "      <td>10.22</td>\n",
       "      <td>1.00</td>\n",
       "      <td>NaN</td>\n",
       "      <td>NaN</td>\n",
       "      <td>NaN</td>\n",
       "    </tr>\n",
       "    <tr>\n",
       "      <th>5</th>\n",
       "      <td>Tetris</td>\n",
       "      <td>GB</td>\n",
       "      <td>1989.0</td>\n",
       "      <td>Puzzle</td>\n",
       "      <td>23.20</td>\n",
       "      <td>2.26</td>\n",
       "      <td>4.22</td>\n",
       "      <td>0.58</td>\n",
       "      <td>NaN</td>\n",
       "      <td>NaN</td>\n",
       "      <td>NaN</td>\n",
       "    </tr>\n",
       "    <tr>\n",
       "      <th>6</th>\n",
       "      <td>New Super Mario Bros.</td>\n",
       "      <td>DS</td>\n",
       "      <td>2006.0</td>\n",
       "      <td>Platform</td>\n",
       "      <td>11.28</td>\n",
       "      <td>9.14</td>\n",
       "      <td>6.50</td>\n",
       "      <td>2.88</td>\n",
       "      <td>89.0</td>\n",
       "      <td>8.5</td>\n",
       "      <td>E</td>\n",
       "    </tr>\n",
       "    <tr>\n",
       "      <th>7</th>\n",
       "      <td>Wii Play</td>\n",
       "      <td>Wii</td>\n",
       "      <td>2006.0</td>\n",
       "      <td>Misc</td>\n",
       "      <td>13.96</td>\n",
       "      <td>9.18</td>\n",
       "      <td>2.93</td>\n",
       "      <td>2.84</td>\n",
       "      <td>58.0</td>\n",
       "      <td>6.6</td>\n",
       "      <td>E</td>\n",
       "    </tr>\n",
       "    <tr>\n",
       "      <th>8</th>\n",
       "      <td>New Super Mario Bros. Wii</td>\n",
       "      <td>Wii</td>\n",
       "      <td>2009.0</td>\n",
       "      <td>Platform</td>\n",
       "      <td>14.44</td>\n",
       "      <td>6.94</td>\n",
       "      <td>4.70</td>\n",
       "      <td>2.24</td>\n",
       "      <td>87.0</td>\n",
       "      <td>8.4</td>\n",
       "      <td>E</td>\n",
       "    </tr>\n",
       "    <tr>\n",
       "      <th>9</th>\n",
       "      <td>Duck Hunt</td>\n",
       "      <td>NES</td>\n",
       "      <td>1984.0</td>\n",
       "      <td>Shooter</td>\n",
       "      <td>26.93</td>\n",
       "      <td>0.63</td>\n",
       "      <td>0.28</td>\n",
       "      <td>0.47</td>\n",
       "      <td>NaN</td>\n",
       "      <td>NaN</td>\n",
       "      <td>NaN</td>\n",
       "    </tr>\n",
       "    <tr>\n",
       "      <th>10</th>\n",
       "      <td>Nintendogs</td>\n",
       "      <td>DS</td>\n",
       "      <td>2005.0</td>\n",
       "      <td>Simulation</td>\n",
       "      <td>9.05</td>\n",
       "      <td>10.95</td>\n",
       "      <td>1.93</td>\n",
       "      <td>2.74</td>\n",
       "      <td>NaN</td>\n",
       "      <td>NaN</td>\n",
       "      <td>NaN</td>\n",
       "    </tr>\n",
       "    <tr>\n",
       "      <th>11</th>\n",
       "      <td>Mario Kart DS</td>\n",
       "      <td>DS</td>\n",
       "      <td>2005.0</td>\n",
       "      <td>Racing</td>\n",
       "      <td>9.71</td>\n",
       "      <td>7.47</td>\n",
       "      <td>4.13</td>\n",
       "      <td>1.90</td>\n",
       "      <td>91.0</td>\n",
       "      <td>8.6</td>\n",
       "      <td>E</td>\n",
       "    </tr>\n",
       "    <tr>\n",
       "      <th>12</th>\n",
       "      <td>Pokemon Gold/Pokemon Silver</td>\n",
       "      <td>GB</td>\n",
       "      <td>1999.0</td>\n",
       "      <td>Role-Playing</td>\n",
       "      <td>9.00</td>\n",
       "      <td>6.18</td>\n",
       "      <td>7.20</td>\n",
       "      <td>0.71</td>\n",
       "      <td>NaN</td>\n",
       "      <td>NaN</td>\n",
       "      <td>NaN</td>\n",
       "    </tr>\n",
       "    <tr>\n",
       "      <th>13</th>\n",
       "      <td>Wii Fit</td>\n",
       "      <td>Wii</td>\n",
       "      <td>2007.0</td>\n",
       "      <td>Sports</td>\n",
       "      <td>8.92</td>\n",
       "      <td>8.03</td>\n",
       "      <td>3.60</td>\n",
       "      <td>2.15</td>\n",
       "      <td>80.0</td>\n",
       "      <td>7.7</td>\n",
       "      <td>E</td>\n",
       "    </tr>\n",
       "    <tr>\n",
       "      <th>14</th>\n",
       "      <td>Kinect Adventures!</td>\n",
       "      <td>X360</td>\n",
       "      <td>2010.0</td>\n",
       "      <td>Misc</td>\n",
       "      <td>15.00</td>\n",
       "      <td>4.89</td>\n",
       "      <td>0.24</td>\n",
       "      <td>1.69</td>\n",
       "      <td>61.0</td>\n",
       "      <td>6.3</td>\n",
       "      <td>E</td>\n",
       "    </tr>\n",
       "  </tbody>\n",
       "</table>\n",
       "</div>"
      ],
      "text/plain": [
       "                           Name Platform  Year_of_Release         Genre  \\\n",
       "0                    Wii Sports      Wii           2006.0        Sports   \n",
       "1             Super Mario Bros.      NES           1985.0      Platform   \n",
       "2                Mario Kart Wii      Wii           2008.0        Racing   \n",
       "3             Wii Sports Resort      Wii           2009.0        Sports   \n",
       "4      Pokemon Red/Pokemon Blue       GB           1996.0  Role-Playing   \n",
       "5                        Tetris       GB           1989.0        Puzzle   \n",
       "6         New Super Mario Bros.       DS           2006.0      Platform   \n",
       "7                      Wii Play      Wii           2006.0          Misc   \n",
       "8     New Super Mario Bros. Wii      Wii           2009.0      Platform   \n",
       "9                     Duck Hunt      NES           1984.0       Shooter   \n",
       "10                   Nintendogs       DS           2005.0    Simulation   \n",
       "11                Mario Kart DS       DS           2005.0        Racing   \n",
       "12  Pokemon Gold/Pokemon Silver       GB           1999.0  Role-Playing   \n",
       "13                      Wii Fit      Wii           2007.0        Sports   \n",
       "14           Kinect Adventures!     X360           2010.0          Misc   \n",
       "\n",
       "    NA_sales  EU_sales  JP_sales  Other_sales  Critic_Score User_Score Rating  \n",
       "0      41.36     28.96      3.77         8.45          76.0          8      E  \n",
       "1      29.08      3.58      6.81         0.77           NaN        NaN    NaN  \n",
       "2      15.68     12.76      3.79         3.29          82.0        8.3      E  \n",
       "3      15.61     10.93      3.28         2.95          80.0          8      E  \n",
       "4      11.27      8.89     10.22         1.00           NaN        NaN    NaN  \n",
       "5      23.20      2.26      4.22         0.58           NaN        NaN    NaN  \n",
       "6      11.28      9.14      6.50         2.88          89.0        8.5      E  \n",
       "7      13.96      9.18      2.93         2.84          58.0        6.6      E  \n",
       "8      14.44      6.94      4.70         2.24          87.0        8.4      E  \n",
       "9      26.93      0.63      0.28         0.47           NaN        NaN    NaN  \n",
       "10      9.05     10.95      1.93         2.74           NaN        NaN    NaN  \n",
       "11      9.71      7.47      4.13         1.90          91.0        8.6      E  \n",
       "12      9.00      6.18      7.20         0.71           NaN        NaN    NaN  \n",
       "13      8.92      8.03      3.60         2.15          80.0        7.7      E  \n",
       "14     15.00      4.89      0.24         1.69          61.0        6.3      E  "
      ]
     },
     "metadata": {},
     "output_type": "display_data"
    },
    {
     "name": "stdout",
     "output_type": "stream",
     "text": [
      "Количество дубликатов: 0\n",
      "\n",
      "Подсчет пропусков:\n",
      "      \n",
      "Name                  2\n",
      "Platform              0\n",
      "Year_of_Release     269\n",
      "Genre                 2\n",
      "NA_sales              0\n",
      "EU_sales              0\n",
      "JP_sales              0\n",
      "Other_sales           0\n",
      "Critic_Score       8578\n",
      "User_Score         6701\n",
      "Rating             6766\n",
      "dtype: int64\n"
     ]
    }
   ],
   "source": [
    "print('''\n",
    "Информация о таблице:\n",
    "      ''')\n",
    "display(data.info())\n",
    "print('''\n",
    "Обзор таблицы:\n",
    "      ''')\n",
    "display(data.head(15))\n",
    "print('Количество дубликатов:', data.duplicated().sum())\n",
    "print('''\n",
    "Подсчет пропусков:\n",
    "      ''')\n",
    "print(data.isna().sum())# подсчёт пропусков"
   ]
  },
  {
   "cell_type": "code",
   "execution_count": 3,
   "metadata": {},
   "outputs": [
    {
     "data": {
      "text/plain": [
       "NaN    6701\n",
       "tbd    2424\n",
       "7.8     324\n",
       "8       290\n",
       "8.2     282\n",
       "       ... \n",
       "0.5       2\n",
       "1.1       2\n",
       "9.6       2\n",
       "9.7       1\n",
       "0         1\n",
       "Name: User_Score, Length: 97, dtype: int64"
      ]
     },
     "execution_count": 3,
     "metadata": {},
     "output_type": "execute_result"
    }
   ],
   "source": [
    "data['User_Score'].value_counts(dropna=False) #по условию задания проверим, сколько значений tbd в столбце с пользовательским рейтингом"
   ]
  },
  {
   "cell_type": "markdown",
   "metadata": {},
   "source": [
    "Вывод:\n",
    "- присутствуют пропущеннные значения в столбцах с названиями игр и годами релизов, а также в трех столбцах с рейтингами\n",
    "- нет дубликатов\n",
    "- необходимо привести названия столбцов в нижний регистр\n",
    "- в столбце с пользовательским рейтингом присутствуют значения `tbd`, что означает To Be Determined (будет определено). Скорее всего это игры, которые не набрали достаточное количество оценок для вывода общего рейтинга. Можно заменить эти значения на пустые.\n",
    "- в столбцах `Year_of_Release`, `User_Score`, `Critic_Score` необходимо заменить типы данных."
   ]
  },
  {
   "cell_type": "markdown",
   "metadata": {},
   "source": [
    "### Предобработка данных"
   ]
  },
  {
   "cell_type": "code",
   "execution_count": 4,
   "metadata": {},
   "outputs": [
    {
     "data": {
      "text/html": [
       "<div>\n",
       "<style scoped>\n",
       "    .dataframe tbody tr th:only-of-type {\n",
       "        vertical-align: middle;\n",
       "    }\n",
       "\n",
       "    .dataframe tbody tr th {\n",
       "        vertical-align: top;\n",
       "    }\n",
       "\n",
       "    .dataframe thead th {\n",
       "        text-align: right;\n",
       "    }\n",
       "</style>\n",
       "<table border=\"1\" class=\"dataframe\">\n",
       "  <thead>\n",
       "    <tr style=\"text-align: right;\">\n",
       "      <th></th>\n",
       "      <th>name</th>\n",
       "      <th>platform</th>\n",
       "      <th>year_of_release</th>\n",
       "      <th>genre</th>\n",
       "      <th>na_sales</th>\n",
       "      <th>eu_sales</th>\n",
       "      <th>jp_sales</th>\n",
       "      <th>other_sales</th>\n",
       "      <th>critic_score</th>\n",
       "      <th>user_score</th>\n",
       "      <th>rating</th>\n",
       "    </tr>\n",
       "  </thead>\n",
       "  <tbody>\n",
       "    <tr>\n",
       "      <th>0</th>\n",
       "      <td>Wii Sports</td>\n",
       "      <td>Wii</td>\n",
       "      <td>2006.0</td>\n",
       "      <td>Sports</td>\n",
       "      <td>41.36</td>\n",
       "      <td>28.96</td>\n",
       "      <td>3.77</td>\n",
       "      <td>8.45</td>\n",
       "      <td>76.0</td>\n",
       "      <td>8</td>\n",
       "      <td>E</td>\n",
       "    </tr>\n",
       "    <tr>\n",
       "      <th>1</th>\n",
       "      <td>Super Mario Bros.</td>\n",
       "      <td>NES</td>\n",
       "      <td>1985.0</td>\n",
       "      <td>Platform</td>\n",
       "      <td>29.08</td>\n",
       "      <td>3.58</td>\n",
       "      <td>6.81</td>\n",
       "      <td>0.77</td>\n",
       "      <td>NaN</td>\n",
       "      <td>NaN</td>\n",
       "      <td>NaN</td>\n",
       "    </tr>\n",
       "    <tr>\n",
       "      <th>2</th>\n",
       "      <td>Mario Kart Wii</td>\n",
       "      <td>Wii</td>\n",
       "      <td>2008.0</td>\n",
       "      <td>Racing</td>\n",
       "      <td>15.68</td>\n",
       "      <td>12.76</td>\n",
       "      <td>3.79</td>\n",
       "      <td>3.29</td>\n",
       "      <td>82.0</td>\n",
       "      <td>8.3</td>\n",
       "      <td>E</td>\n",
       "    </tr>\n",
       "    <tr>\n",
       "      <th>3</th>\n",
       "      <td>Wii Sports Resort</td>\n",
       "      <td>Wii</td>\n",
       "      <td>2009.0</td>\n",
       "      <td>Sports</td>\n",
       "      <td>15.61</td>\n",
       "      <td>10.93</td>\n",
       "      <td>3.28</td>\n",
       "      <td>2.95</td>\n",
       "      <td>80.0</td>\n",
       "      <td>8</td>\n",
       "      <td>E</td>\n",
       "    </tr>\n",
       "    <tr>\n",
       "      <th>4</th>\n",
       "      <td>Pokemon Red/Pokemon Blue</td>\n",
       "      <td>GB</td>\n",
       "      <td>1996.0</td>\n",
       "      <td>Role-Playing</td>\n",
       "      <td>11.27</td>\n",
       "      <td>8.89</td>\n",
       "      <td>10.22</td>\n",
       "      <td>1.00</td>\n",
       "      <td>NaN</td>\n",
       "      <td>NaN</td>\n",
       "      <td>NaN</td>\n",
       "    </tr>\n",
       "  </tbody>\n",
       "</table>\n",
       "</div>"
      ],
      "text/plain": [
       "                       name platform  year_of_release         genre  na_sales  \\\n",
       "0                Wii Sports      Wii           2006.0        Sports     41.36   \n",
       "1         Super Mario Bros.      NES           1985.0      Platform     29.08   \n",
       "2            Mario Kart Wii      Wii           2008.0        Racing     15.68   \n",
       "3         Wii Sports Resort      Wii           2009.0        Sports     15.61   \n",
       "4  Pokemon Red/Pokemon Blue       GB           1996.0  Role-Playing     11.27   \n",
       "\n",
       "   eu_sales  jp_sales  other_sales  critic_score user_score rating  \n",
       "0     28.96      3.77         8.45          76.0          8      E  \n",
       "1      3.58      6.81         0.77           NaN        NaN    NaN  \n",
       "2     12.76      3.79         3.29          82.0        8.3      E  \n",
       "3     10.93      3.28         2.95          80.0          8      E  \n",
       "4      8.89     10.22         1.00           NaN        NaN    NaN  "
      ]
     },
     "metadata": {},
     "output_type": "display_data"
    }
   ],
   "source": [
    "#приведем названия столбцов к нижнему регистру и проверим\n",
    "\n",
    "data.columns = data.columns.str.lower()\n",
    "display(data.head())"
   ]
  },
  {
   "cell_type": "code",
   "execution_count": 5,
   "metadata": {},
   "outputs": [
    {
     "name": "stdout",
     "output_type": "stream",
     "text": [
      "<class 'pandas.core.frame.DataFrame'>\n",
      "Int64Index: 16444 entries, 0 to 16714\n",
      "Data columns (total 11 columns):\n",
      " #   Column           Non-Null Count  Dtype  \n",
      "---  ------           --------------  -----  \n",
      " 0   name             16444 non-null  object \n",
      " 1   platform         16444 non-null  object \n",
      " 2   year_of_release  16444 non-null  float64\n",
      " 3   genre            16444 non-null  object \n",
      " 4   na_sales         16444 non-null  float64\n",
      " 5   eu_sales         16444 non-null  float64\n",
      " 6   jp_sales         16444 non-null  float64\n",
      " 7   other_sales      16444 non-null  float64\n",
      " 8   critic_score     7983 non-null   float64\n",
      " 9   user_score       9839 non-null   object \n",
      " 10  rating           9768 non-null   object \n",
      "dtypes: float64(6), object(5)\n",
      "memory usage: 1.5+ MB\n"
     ]
    }
   ],
   "source": [
    "#удалим пустые значения в столбцах 'name', 'genre', 'year_of_release', так как они не влияют на общую картину\n",
    "data.dropna(subset=['name', 'genre', 'year_of_release'], inplace=True)\n",
    "data.info()"
   ]
  },
  {
   "cell_type": "code",
   "execution_count": 6,
   "metadata": {},
   "outputs": [],
   "source": [
    "data['user_score'] = data['user_score'].replace(\"tbd\", np.NaN) \n",
    "# заменим значение \"tbd\" - \"to be determined\" на NaN"
   ]
  },
  {
   "cell_type": "code",
   "execution_count": 7,
   "metadata": {
    "scrolled": false
   },
   "outputs": [
    {
     "name": "stdout",
     "output_type": "stream",
     "text": [
      "<class 'pandas.core.frame.DataFrame'>\n",
      "Int64Index: 16444 entries, 0 to 16714\n",
      "Data columns (total 11 columns):\n",
      " #   Column           Non-Null Count  Dtype  \n",
      "---  ------           --------------  -----  \n",
      " 0   name             16444 non-null  object \n",
      " 1   platform         16444 non-null  object \n",
      " 2   year_of_release  16444 non-null  Int64  \n",
      " 3   genre            16444 non-null  object \n",
      " 4   na_sales         16444 non-null  float64\n",
      " 5   eu_sales         16444 non-null  float64\n",
      " 6   jp_sales         16444 non-null  float64\n",
      " 7   other_sales      16444 non-null  float64\n",
      " 8   critic_score     7983 non-null   Int64  \n",
      " 9   user_score       7463 non-null   float64\n",
      " 10  rating           9768 non-null   object \n",
      "dtypes: Int64(2), float64(5), object(4)\n",
      "memory usage: 1.5+ MB\n"
     ]
    },
    {
     "data": {
      "text/plain": [
       "None"
      ]
     },
     "metadata": {},
     "output_type": "display_data"
    },
    {
     "data": {
      "text/html": [
       "<div>\n",
       "<style scoped>\n",
       "    .dataframe tbody tr th:only-of-type {\n",
       "        vertical-align: middle;\n",
       "    }\n",
       "\n",
       "    .dataframe tbody tr th {\n",
       "        vertical-align: top;\n",
       "    }\n",
       "\n",
       "    .dataframe thead th {\n",
       "        text-align: right;\n",
       "    }\n",
       "</style>\n",
       "<table border=\"1\" class=\"dataframe\">\n",
       "  <thead>\n",
       "    <tr style=\"text-align: right;\">\n",
       "      <th></th>\n",
       "      <th>name</th>\n",
       "      <th>platform</th>\n",
       "      <th>year_of_release</th>\n",
       "      <th>genre</th>\n",
       "      <th>na_sales</th>\n",
       "      <th>eu_sales</th>\n",
       "      <th>jp_sales</th>\n",
       "      <th>other_sales</th>\n",
       "      <th>critic_score</th>\n",
       "      <th>user_score</th>\n",
       "      <th>rating</th>\n",
       "    </tr>\n",
       "  </thead>\n",
       "  <tbody>\n",
       "    <tr>\n",
       "      <th>0</th>\n",
       "      <td>Wii Sports</td>\n",
       "      <td>Wii</td>\n",
       "      <td>2006</td>\n",
       "      <td>Sports</td>\n",
       "      <td>41.36</td>\n",
       "      <td>28.96</td>\n",
       "      <td>3.77</td>\n",
       "      <td>8.45</td>\n",
       "      <td>76</td>\n",
       "      <td>8.0</td>\n",
       "      <td>E</td>\n",
       "    </tr>\n",
       "    <tr>\n",
       "      <th>1</th>\n",
       "      <td>Super Mario Bros.</td>\n",
       "      <td>NES</td>\n",
       "      <td>1985</td>\n",
       "      <td>Platform</td>\n",
       "      <td>29.08</td>\n",
       "      <td>3.58</td>\n",
       "      <td>6.81</td>\n",
       "      <td>0.77</td>\n",
       "      <td>&lt;NA&gt;</td>\n",
       "      <td>NaN</td>\n",
       "      <td>NaN</td>\n",
       "    </tr>\n",
       "    <tr>\n",
       "      <th>2</th>\n",
       "      <td>Mario Kart Wii</td>\n",
       "      <td>Wii</td>\n",
       "      <td>2008</td>\n",
       "      <td>Racing</td>\n",
       "      <td>15.68</td>\n",
       "      <td>12.76</td>\n",
       "      <td>3.79</td>\n",
       "      <td>3.29</td>\n",
       "      <td>82</td>\n",
       "      <td>8.3</td>\n",
       "      <td>E</td>\n",
       "    </tr>\n",
       "    <tr>\n",
       "      <th>3</th>\n",
       "      <td>Wii Sports Resort</td>\n",
       "      <td>Wii</td>\n",
       "      <td>2009</td>\n",
       "      <td>Sports</td>\n",
       "      <td>15.61</td>\n",
       "      <td>10.93</td>\n",
       "      <td>3.28</td>\n",
       "      <td>2.95</td>\n",
       "      <td>80</td>\n",
       "      <td>8.0</td>\n",
       "      <td>E</td>\n",
       "    </tr>\n",
       "    <tr>\n",
       "      <th>4</th>\n",
       "      <td>Pokemon Red/Pokemon Blue</td>\n",
       "      <td>GB</td>\n",
       "      <td>1996</td>\n",
       "      <td>Role-Playing</td>\n",
       "      <td>11.27</td>\n",
       "      <td>8.89</td>\n",
       "      <td>10.22</td>\n",
       "      <td>1.00</td>\n",
       "      <td>&lt;NA&gt;</td>\n",
       "      <td>NaN</td>\n",
       "      <td>NaN</td>\n",
       "    </tr>\n",
       "    <tr>\n",
       "      <th>5</th>\n",
       "      <td>Tetris</td>\n",
       "      <td>GB</td>\n",
       "      <td>1989</td>\n",
       "      <td>Puzzle</td>\n",
       "      <td>23.20</td>\n",
       "      <td>2.26</td>\n",
       "      <td>4.22</td>\n",
       "      <td>0.58</td>\n",
       "      <td>&lt;NA&gt;</td>\n",
       "      <td>NaN</td>\n",
       "      <td>NaN</td>\n",
       "    </tr>\n",
       "    <tr>\n",
       "      <th>6</th>\n",
       "      <td>New Super Mario Bros.</td>\n",
       "      <td>DS</td>\n",
       "      <td>2006</td>\n",
       "      <td>Platform</td>\n",
       "      <td>11.28</td>\n",
       "      <td>9.14</td>\n",
       "      <td>6.50</td>\n",
       "      <td>2.88</td>\n",
       "      <td>89</td>\n",
       "      <td>8.5</td>\n",
       "      <td>E</td>\n",
       "    </tr>\n",
       "    <tr>\n",
       "      <th>7</th>\n",
       "      <td>Wii Play</td>\n",
       "      <td>Wii</td>\n",
       "      <td>2006</td>\n",
       "      <td>Misc</td>\n",
       "      <td>13.96</td>\n",
       "      <td>9.18</td>\n",
       "      <td>2.93</td>\n",
       "      <td>2.84</td>\n",
       "      <td>58</td>\n",
       "      <td>6.6</td>\n",
       "      <td>E</td>\n",
       "    </tr>\n",
       "    <tr>\n",
       "      <th>8</th>\n",
       "      <td>New Super Mario Bros. Wii</td>\n",
       "      <td>Wii</td>\n",
       "      <td>2009</td>\n",
       "      <td>Platform</td>\n",
       "      <td>14.44</td>\n",
       "      <td>6.94</td>\n",
       "      <td>4.70</td>\n",
       "      <td>2.24</td>\n",
       "      <td>87</td>\n",
       "      <td>8.4</td>\n",
       "      <td>E</td>\n",
       "    </tr>\n",
       "    <tr>\n",
       "      <th>9</th>\n",
       "      <td>Duck Hunt</td>\n",
       "      <td>NES</td>\n",
       "      <td>1984</td>\n",
       "      <td>Shooter</td>\n",
       "      <td>26.93</td>\n",
       "      <td>0.63</td>\n",
       "      <td>0.28</td>\n",
       "      <td>0.47</td>\n",
       "      <td>&lt;NA&gt;</td>\n",
       "      <td>NaN</td>\n",
       "      <td>NaN</td>\n",
       "    </tr>\n",
       "    <tr>\n",
       "      <th>10</th>\n",
       "      <td>Nintendogs</td>\n",
       "      <td>DS</td>\n",
       "      <td>2005</td>\n",
       "      <td>Simulation</td>\n",
       "      <td>9.05</td>\n",
       "      <td>10.95</td>\n",
       "      <td>1.93</td>\n",
       "      <td>2.74</td>\n",
       "      <td>&lt;NA&gt;</td>\n",
       "      <td>NaN</td>\n",
       "      <td>NaN</td>\n",
       "    </tr>\n",
       "    <tr>\n",
       "      <th>11</th>\n",
       "      <td>Mario Kart DS</td>\n",
       "      <td>DS</td>\n",
       "      <td>2005</td>\n",
       "      <td>Racing</td>\n",
       "      <td>9.71</td>\n",
       "      <td>7.47</td>\n",
       "      <td>4.13</td>\n",
       "      <td>1.90</td>\n",
       "      <td>91</td>\n",
       "      <td>8.6</td>\n",
       "      <td>E</td>\n",
       "    </tr>\n",
       "    <tr>\n",
       "      <th>12</th>\n",
       "      <td>Pokemon Gold/Pokemon Silver</td>\n",
       "      <td>GB</td>\n",
       "      <td>1999</td>\n",
       "      <td>Role-Playing</td>\n",
       "      <td>9.00</td>\n",
       "      <td>6.18</td>\n",
       "      <td>7.20</td>\n",
       "      <td>0.71</td>\n",
       "      <td>&lt;NA&gt;</td>\n",
       "      <td>NaN</td>\n",
       "      <td>NaN</td>\n",
       "    </tr>\n",
       "    <tr>\n",
       "      <th>13</th>\n",
       "      <td>Wii Fit</td>\n",
       "      <td>Wii</td>\n",
       "      <td>2007</td>\n",
       "      <td>Sports</td>\n",
       "      <td>8.92</td>\n",
       "      <td>8.03</td>\n",
       "      <td>3.60</td>\n",
       "      <td>2.15</td>\n",
       "      <td>80</td>\n",
       "      <td>7.7</td>\n",
       "      <td>E</td>\n",
       "    </tr>\n",
       "    <tr>\n",
       "      <th>14</th>\n",
       "      <td>Kinect Adventures!</td>\n",
       "      <td>X360</td>\n",
       "      <td>2010</td>\n",
       "      <td>Misc</td>\n",
       "      <td>15.00</td>\n",
       "      <td>4.89</td>\n",
       "      <td>0.24</td>\n",
       "      <td>1.69</td>\n",
       "      <td>61</td>\n",
       "      <td>6.3</td>\n",
       "      <td>E</td>\n",
       "    </tr>\n",
       "  </tbody>\n",
       "</table>\n",
       "</div>"
      ],
      "text/plain": [
       "                           name platform  year_of_release         genre  \\\n",
       "0                    Wii Sports      Wii             2006        Sports   \n",
       "1             Super Mario Bros.      NES             1985      Platform   \n",
       "2                Mario Kart Wii      Wii             2008        Racing   \n",
       "3             Wii Sports Resort      Wii             2009        Sports   \n",
       "4      Pokemon Red/Pokemon Blue       GB             1996  Role-Playing   \n",
       "5                        Tetris       GB             1989        Puzzle   \n",
       "6         New Super Mario Bros.       DS             2006      Platform   \n",
       "7                      Wii Play      Wii             2006          Misc   \n",
       "8     New Super Mario Bros. Wii      Wii             2009      Platform   \n",
       "9                     Duck Hunt      NES             1984       Shooter   \n",
       "10                   Nintendogs       DS             2005    Simulation   \n",
       "11                Mario Kart DS       DS             2005        Racing   \n",
       "12  Pokemon Gold/Pokemon Silver       GB             1999  Role-Playing   \n",
       "13                      Wii Fit      Wii             2007        Sports   \n",
       "14           Kinect Adventures!     X360             2010          Misc   \n",
       "\n",
       "    na_sales  eu_sales  jp_sales  other_sales  critic_score  user_score rating  \n",
       "0      41.36     28.96      3.77         8.45            76         8.0      E  \n",
       "1      29.08      3.58      6.81         0.77          <NA>         NaN    NaN  \n",
       "2      15.68     12.76      3.79         3.29            82         8.3      E  \n",
       "3      15.61     10.93      3.28         2.95            80         8.0      E  \n",
       "4      11.27      8.89     10.22         1.00          <NA>         NaN    NaN  \n",
       "5      23.20      2.26      4.22         0.58          <NA>         NaN    NaN  \n",
       "6      11.28      9.14      6.50         2.88            89         8.5      E  \n",
       "7      13.96      9.18      2.93         2.84            58         6.6      E  \n",
       "8      14.44      6.94      4.70         2.24            87         8.4      E  \n",
       "9      26.93      0.63      0.28         0.47          <NA>         NaN    NaN  \n",
       "10      9.05     10.95      1.93         2.74          <NA>         NaN    NaN  \n",
       "11      9.71      7.47      4.13         1.90            91         8.6      E  \n",
       "12      9.00      6.18      7.20         0.71          <NA>         NaN    NaN  \n",
       "13      8.92      8.03      3.60         2.15            80         7.7      E  \n",
       "14     15.00      4.89      0.24         1.69            61         6.3      E  "
      ]
     },
     "metadata": {},
     "output_type": "display_data"
    }
   ],
   "source": [
    "#приведем типы данных к соотвествующему\n",
    "\n",
    "# Приведем годы и оценки критиков в целочисленный тип\n",
    "data['year_of_release'] = data['year_of_release'].astype('Int64')\n",
    "data['critic_score'] = data['critic_score'].astype('Int64')\n",
    "\n",
    "# Оценки пользователей приведем к типу float\n",
    "data['user_score'] = data['user_score'].astype('float')\n",
    "\n",
    "display(data.info())\n",
    "display(data.head(15))"
   ]
  },
  {
   "cell_type": "markdown",
   "metadata": {},
   "source": [
    "Замечание: Пропуски в столбцах year_of_release , critic_score , user_score , rating оставим незаполненными, поскольку их заполнение может исказить статистику"
   ]
  },
  {
   "cell_type": "markdown",
   "metadata": {},
   "source": [
    "## Расчеты и добавление результатов в таблицу"
   ]
  },
  {
   "cell_type": "code",
   "execution_count": 8,
   "metadata": {},
   "outputs": [
    {
     "data": {
      "text/html": [
       "<div>\n",
       "<style scoped>\n",
       "    .dataframe tbody tr th:only-of-type {\n",
       "        vertical-align: middle;\n",
       "    }\n",
       "\n",
       "    .dataframe tbody tr th {\n",
       "        vertical-align: top;\n",
       "    }\n",
       "\n",
       "    .dataframe thead th {\n",
       "        text-align: right;\n",
       "    }\n",
       "</style>\n",
       "<table border=\"1\" class=\"dataframe\">\n",
       "  <thead>\n",
       "    <tr style=\"text-align: right;\">\n",
       "      <th></th>\n",
       "      <th>name</th>\n",
       "      <th>platform</th>\n",
       "      <th>year_of_release</th>\n",
       "      <th>genre</th>\n",
       "      <th>na_sales</th>\n",
       "      <th>eu_sales</th>\n",
       "      <th>jp_sales</th>\n",
       "      <th>other_sales</th>\n",
       "      <th>critic_score</th>\n",
       "      <th>user_score</th>\n",
       "      <th>rating</th>\n",
       "      <th>total_sales</th>\n",
       "    </tr>\n",
       "  </thead>\n",
       "  <tbody>\n",
       "    <tr>\n",
       "      <th>0</th>\n",
       "      <td>Wii Sports</td>\n",
       "      <td>Wii</td>\n",
       "      <td>2006</td>\n",
       "      <td>Sports</td>\n",
       "      <td>41.36</td>\n",
       "      <td>28.96</td>\n",
       "      <td>3.77</td>\n",
       "      <td>8.45</td>\n",
       "      <td>76</td>\n",
       "      <td>8.0</td>\n",
       "      <td>E</td>\n",
       "      <td>82.54</td>\n",
       "    </tr>\n",
       "    <tr>\n",
       "      <th>1</th>\n",
       "      <td>Super Mario Bros.</td>\n",
       "      <td>NES</td>\n",
       "      <td>1985</td>\n",
       "      <td>Platform</td>\n",
       "      <td>29.08</td>\n",
       "      <td>3.58</td>\n",
       "      <td>6.81</td>\n",
       "      <td>0.77</td>\n",
       "      <td>&lt;NA&gt;</td>\n",
       "      <td>NaN</td>\n",
       "      <td>NaN</td>\n",
       "      <td>40.24</td>\n",
       "    </tr>\n",
       "    <tr>\n",
       "      <th>2</th>\n",
       "      <td>Mario Kart Wii</td>\n",
       "      <td>Wii</td>\n",
       "      <td>2008</td>\n",
       "      <td>Racing</td>\n",
       "      <td>15.68</td>\n",
       "      <td>12.76</td>\n",
       "      <td>3.79</td>\n",
       "      <td>3.29</td>\n",
       "      <td>82</td>\n",
       "      <td>8.3</td>\n",
       "      <td>E</td>\n",
       "      <td>35.52</td>\n",
       "    </tr>\n",
       "    <tr>\n",
       "      <th>3</th>\n",
       "      <td>Wii Sports Resort</td>\n",
       "      <td>Wii</td>\n",
       "      <td>2009</td>\n",
       "      <td>Sports</td>\n",
       "      <td>15.61</td>\n",
       "      <td>10.93</td>\n",
       "      <td>3.28</td>\n",
       "      <td>2.95</td>\n",
       "      <td>80</td>\n",
       "      <td>8.0</td>\n",
       "      <td>E</td>\n",
       "      <td>32.77</td>\n",
       "    </tr>\n",
       "    <tr>\n",
       "      <th>4</th>\n",
       "      <td>Pokemon Red/Pokemon Blue</td>\n",
       "      <td>GB</td>\n",
       "      <td>1996</td>\n",
       "      <td>Role-Playing</td>\n",
       "      <td>11.27</td>\n",
       "      <td>8.89</td>\n",
       "      <td>10.22</td>\n",
       "      <td>1.00</td>\n",
       "      <td>&lt;NA&gt;</td>\n",
       "      <td>NaN</td>\n",
       "      <td>NaN</td>\n",
       "      <td>31.38</td>\n",
       "    </tr>\n",
       "    <tr>\n",
       "      <th>5</th>\n",
       "      <td>Tetris</td>\n",
       "      <td>GB</td>\n",
       "      <td>1989</td>\n",
       "      <td>Puzzle</td>\n",
       "      <td>23.20</td>\n",
       "      <td>2.26</td>\n",
       "      <td>4.22</td>\n",
       "      <td>0.58</td>\n",
       "      <td>&lt;NA&gt;</td>\n",
       "      <td>NaN</td>\n",
       "      <td>NaN</td>\n",
       "      <td>30.26</td>\n",
       "    </tr>\n",
       "    <tr>\n",
       "      <th>6</th>\n",
       "      <td>New Super Mario Bros.</td>\n",
       "      <td>DS</td>\n",
       "      <td>2006</td>\n",
       "      <td>Platform</td>\n",
       "      <td>11.28</td>\n",
       "      <td>9.14</td>\n",
       "      <td>6.50</td>\n",
       "      <td>2.88</td>\n",
       "      <td>89</td>\n",
       "      <td>8.5</td>\n",
       "      <td>E</td>\n",
       "      <td>29.80</td>\n",
       "    </tr>\n",
       "    <tr>\n",
       "      <th>7</th>\n",
       "      <td>Wii Play</td>\n",
       "      <td>Wii</td>\n",
       "      <td>2006</td>\n",
       "      <td>Misc</td>\n",
       "      <td>13.96</td>\n",
       "      <td>9.18</td>\n",
       "      <td>2.93</td>\n",
       "      <td>2.84</td>\n",
       "      <td>58</td>\n",
       "      <td>6.6</td>\n",
       "      <td>E</td>\n",
       "      <td>28.91</td>\n",
       "    </tr>\n",
       "    <tr>\n",
       "      <th>8</th>\n",
       "      <td>New Super Mario Bros. Wii</td>\n",
       "      <td>Wii</td>\n",
       "      <td>2009</td>\n",
       "      <td>Platform</td>\n",
       "      <td>14.44</td>\n",
       "      <td>6.94</td>\n",
       "      <td>4.70</td>\n",
       "      <td>2.24</td>\n",
       "      <td>87</td>\n",
       "      <td>8.4</td>\n",
       "      <td>E</td>\n",
       "      <td>28.32</td>\n",
       "    </tr>\n",
       "    <tr>\n",
       "      <th>9</th>\n",
       "      <td>Duck Hunt</td>\n",
       "      <td>NES</td>\n",
       "      <td>1984</td>\n",
       "      <td>Shooter</td>\n",
       "      <td>26.93</td>\n",
       "      <td>0.63</td>\n",
       "      <td>0.28</td>\n",
       "      <td>0.47</td>\n",
       "      <td>&lt;NA&gt;</td>\n",
       "      <td>NaN</td>\n",
       "      <td>NaN</td>\n",
       "      <td>28.31</td>\n",
       "    </tr>\n",
       "    <tr>\n",
       "      <th>10</th>\n",
       "      <td>Nintendogs</td>\n",
       "      <td>DS</td>\n",
       "      <td>2005</td>\n",
       "      <td>Simulation</td>\n",
       "      <td>9.05</td>\n",
       "      <td>10.95</td>\n",
       "      <td>1.93</td>\n",
       "      <td>2.74</td>\n",
       "      <td>&lt;NA&gt;</td>\n",
       "      <td>NaN</td>\n",
       "      <td>NaN</td>\n",
       "      <td>24.67</td>\n",
       "    </tr>\n",
       "    <tr>\n",
       "      <th>11</th>\n",
       "      <td>Mario Kart DS</td>\n",
       "      <td>DS</td>\n",
       "      <td>2005</td>\n",
       "      <td>Racing</td>\n",
       "      <td>9.71</td>\n",
       "      <td>7.47</td>\n",
       "      <td>4.13</td>\n",
       "      <td>1.90</td>\n",
       "      <td>91</td>\n",
       "      <td>8.6</td>\n",
       "      <td>E</td>\n",
       "      <td>23.21</td>\n",
       "    </tr>\n",
       "    <tr>\n",
       "      <th>12</th>\n",
       "      <td>Pokemon Gold/Pokemon Silver</td>\n",
       "      <td>GB</td>\n",
       "      <td>1999</td>\n",
       "      <td>Role-Playing</td>\n",
       "      <td>9.00</td>\n",
       "      <td>6.18</td>\n",
       "      <td>7.20</td>\n",
       "      <td>0.71</td>\n",
       "      <td>&lt;NA&gt;</td>\n",
       "      <td>NaN</td>\n",
       "      <td>NaN</td>\n",
       "      <td>23.09</td>\n",
       "    </tr>\n",
       "    <tr>\n",
       "      <th>13</th>\n",
       "      <td>Wii Fit</td>\n",
       "      <td>Wii</td>\n",
       "      <td>2007</td>\n",
       "      <td>Sports</td>\n",
       "      <td>8.92</td>\n",
       "      <td>8.03</td>\n",
       "      <td>3.60</td>\n",
       "      <td>2.15</td>\n",
       "      <td>80</td>\n",
       "      <td>7.7</td>\n",
       "      <td>E</td>\n",
       "      <td>22.70</td>\n",
       "    </tr>\n",
       "    <tr>\n",
       "      <th>14</th>\n",
       "      <td>Kinect Adventures!</td>\n",
       "      <td>X360</td>\n",
       "      <td>2010</td>\n",
       "      <td>Misc</td>\n",
       "      <td>15.00</td>\n",
       "      <td>4.89</td>\n",
       "      <td>0.24</td>\n",
       "      <td>1.69</td>\n",
       "      <td>61</td>\n",
       "      <td>6.3</td>\n",
       "      <td>E</td>\n",
       "      <td>21.82</td>\n",
       "    </tr>\n",
       "  </tbody>\n",
       "</table>\n",
       "</div>"
      ],
      "text/plain": [
       "                           name platform  year_of_release         genre  \\\n",
       "0                    Wii Sports      Wii             2006        Sports   \n",
       "1             Super Mario Bros.      NES             1985      Platform   \n",
       "2                Mario Kart Wii      Wii             2008        Racing   \n",
       "3             Wii Sports Resort      Wii             2009        Sports   \n",
       "4      Pokemon Red/Pokemon Blue       GB             1996  Role-Playing   \n",
       "5                        Tetris       GB             1989        Puzzle   \n",
       "6         New Super Mario Bros.       DS             2006      Platform   \n",
       "7                      Wii Play      Wii             2006          Misc   \n",
       "8     New Super Mario Bros. Wii      Wii             2009      Platform   \n",
       "9                     Duck Hunt      NES             1984       Shooter   \n",
       "10                   Nintendogs       DS             2005    Simulation   \n",
       "11                Mario Kart DS       DS             2005        Racing   \n",
       "12  Pokemon Gold/Pokemon Silver       GB             1999  Role-Playing   \n",
       "13                      Wii Fit      Wii             2007        Sports   \n",
       "14           Kinect Adventures!     X360             2010          Misc   \n",
       "\n",
       "    na_sales  eu_sales  jp_sales  other_sales  critic_score  user_score  \\\n",
       "0      41.36     28.96      3.77         8.45            76         8.0   \n",
       "1      29.08      3.58      6.81         0.77          <NA>         NaN   \n",
       "2      15.68     12.76      3.79         3.29            82         8.3   \n",
       "3      15.61     10.93      3.28         2.95            80         8.0   \n",
       "4      11.27      8.89     10.22         1.00          <NA>         NaN   \n",
       "5      23.20      2.26      4.22         0.58          <NA>         NaN   \n",
       "6      11.28      9.14      6.50         2.88            89         8.5   \n",
       "7      13.96      9.18      2.93         2.84            58         6.6   \n",
       "8      14.44      6.94      4.70         2.24            87         8.4   \n",
       "9      26.93      0.63      0.28         0.47          <NA>         NaN   \n",
       "10      9.05     10.95      1.93         2.74          <NA>         NaN   \n",
       "11      9.71      7.47      4.13         1.90            91         8.6   \n",
       "12      9.00      6.18      7.20         0.71          <NA>         NaN   \n",
       "13      8.92      8.03      3.60         2.15            80         7.7   \n",
       "14     15.00      4.89      0.24         1.69            61         6.3   \n",
       "\n",
       "   rating  total_sales  \n",
       "0       E        82.54  \n",
       "1     NaN        40.24  \n",
       "2       E        35.52  \n",
       "3       E        32.77  \n",
       "4     NaN        31.38  \n",
       "5     NaN        30.26  \n",
       "6       E        29.80  \n",
       "7       E        28.91  \n",
       "8       E        28.32  \n",
       "9     NaN        28.31  \n",
       "10    NaN        24.67  \n",
       "11      E        23.21  \n",
       "12    NaN        23.09  \n",
       "13      E        22.70  \n",
       "14      E        21.82  "
      ]
     },
     "metadata": {},
     "output_type": "display_data"
    }
   ],
   "source": [
    "# Добавим столбец total_sales с суммарными продажами\n",
    "data['total_sales'] = data['na_sales'] + data['eu_sales'] + data['jp_sales'] + data['other_sales']\n",
    "display(data.head(15))"
   ]
  },
  {
   "cell_type": "markdown",
   "metadata": {},
   "source": [
    "## Исследовательский анализ данных"
   ]
  },
  {
   "cell_type": "markdown",
   "metadata": {},
   "source": [
    "### Сколько игр выпускалось в разные годы. Важны ли данные за все периоды?"
   ]
  },
  {
   "cell_type": "code",
   "execution_count": 9,
   "metadata": {},
   "outputs": [
    {
     "data": {
      "text/plain": [
       "Text(0, 0.5, 'Кол-во продаж')"
      ]
     },
     "execution_count": 9,
     "metadata": {},
     "output_type": "execute_result"
    },
    {
     "data": {
      "image/png": "[encoded data removed]",
      "text/plain": [
       "<Figure size 1296x360 with 1 Axes>"
      ]
     },
     "metadata": {
      "needs_background": "light"
     },
     "output_type": "display_data"
    }
   ],
   "source": [
    "#построим гистограмму распределения продаж по годам\n",
    "plt.figure(figsize=(18, 5))\n",
    "sns.countplot(data = data, x='year_of_release')\n",
    "plt.title('Распределение продаж по годам', fontsize=15)\n",
    "plt.xlabel('Год', fontsize=12)\n",
    "plt.ylabel('Кол-во продаж',fontsize=12)"
   ]
  },
  {
   "cell_type": "markdown",
   "metadata": {},
   "source": [
    "Наблюдение: Начало роста в 1994, резкий скачок в выпуске игр заметен в 2002 году. Наибольшее кол-во игр было выпущено в 2008-2009 гг. Заметно снижение объема с начала 2012 года.\n"
   ]
  },
  {
   "cell_type": "markdown",
   "metadata": {},
   "source": [
    "### Как менялись продажи по платформам?"
   ]
  },
  {
   "cell_type": "markdown",
   "metadata": {},
   "source": [
    "Посмотрите, как менялись продажи по платформам. Выберите платформы с наибольшими суммарными продажами и постройте распределение по годам. За какой характерный срок появляются новые и исчезают старые платформы?"
   ]
  },
  {
   "cell_type": "code",
   "execution_count": 10,
   "metadata": {},
   "outputs": [
    {
     "data": {
      "text/plain": [
       "Text(0, 0.5, 'Количество продаж')"
      ]
     },
     "execution_count": 10,
     "metadata": {},
     "output_type": "execute_result"
    },
    {
     "data": {
      "image/png": "[encoded data removed]",
      "text/plain": [
       "<Figure size 1296x360 with 1 Axes>"
      ]
     },
     "metadata": {
      "needs_background": "light"
     },
     "output_type": "display_data"
    }
   ],
   "source": [
    "#посмотрим, как распряделяется сумма продаж в зависимости от платформы\n",
    "sales_on_platform = data.pivot_table(index='platform', values='total_sales', aggfunc='sum').sort_values(\n",
    "    by='total_sales', ascending=False)\n",
    "\n",
    "plt.figure(figsize=(18,5))\n",
    "sns.barplot(x=sales_on_platform.index,y=sales_on_platform['total_sales'])\n",
    "plt.title(\"Продажи по платформам за весь период\")\n",
    "plt.xlabel(\"Название платформы\")\n",
    "plt.ylabel(\"Количество продаж\")"
   ]
  },
  {
   "cell_type": "markdown",
   "metadata": {},
   "source": [
    "Наблюдение: Из гистограммы видно, что самые популярные игровые платформы за весь период это PS2, X360, PS3, WII, DS, PS.\n"
   ]
  },
  {
   "cell_type": "code",
   "execution_count": 11,
   "metadata": {},
   "outputs": [],
   "source": [
    "#выделим самые прибыльные платформы в отдельный список\n",
    "top_platforms_list = ['PS2', 'X360', 'PS3', 'Wii', 'DS', 'PS']"
   ]
  },
  {
   "cell_type": "code",
   "execution_count": 12,
   "metadata": {
    "scrolled": false
   },
   "outputs": [
    {
     "data": {
      "image/png": "[encoded data removed]",
      "text/plain": [
       "<Figure size 1296x360 with 1 Axes>"
      ]
     },
     "metadata": {
      "needs_background": "light"
     },
     "output_type": "display_data"
    },
    {
     "data": {
      "image/png": "[encoded data removed]",
      "text/plain": [
       "<Figure size 1296x360 with 1 Axes>"
      ]
     },
     "metadata": {
      "needs_background": "light"
     },
     "output_type": "display_data"
    },
    {
     "data": {
      "image/png": "[encoded data removed]",
      "text/plain": [
       "<Figure size 1296x360 with 1 Axes>"
      ]
     },
     "metadata": {
      "needs_background": "light"
     },
     "output_type": "display_data"
    },
    {
     "data": {
      "image/png": "[encoded data removed]",
      "text/plain": [
       "<Figure size 1296x360 with 1 Axes>"
      ]
     },
     "metadata": {
      "needs_background": "light"
     },
     "output_type": "display_data"
    },
    {
     "data": {
      "image/png": "[encoded data removed]",
      "text/plain": [
       "<Figure size 1296x360 with 1 Axes>"
      ]
     },
     "metadata": {
      "needs_background": "light"
     },
     "output_type": "display_data"
    },
    {
     "data": {
      "image/png": "[encoded data removed]",
      "text/plain": [
       "<Figure size 1296x360 with 1 Axes>"
      ]
     },
     "metadata": {
      "needs_background": "light"
     },
     "output_type": "display_data"
    }
   ],
   "source": [
    "#Построим распределения по годам для каждой платформы с наибольшими продажами\n",
    "for platform in top_platforms_list:\n",
    "    data[data['platform'] == platform].pivot_table(index='year_of_release', values='total_sales', aggfunc='sum').plot(\n",
    "        kind='bar', figsize=(18,5))\n",
    "    plt.title(platform)\n",
    "    plt.xlabel('Год', fontsize=12)\n",
    "    plt.ylabel('Продажи',fontsize=12)"
   ]
  },
  {
   "cell_type": "markdown",
   "metadata": {},
   "source": [
    "Наблюдение: Многие новые платформы появляются в 2006 году (например: Wii, PS3, X360), при этом характерный срок жизни - это 8-10 лет. Таким образом оставим только актульные данные, начиная с 2006 г."
   ]
  },
  {
   "cell_type": "markdown",
   "metadata": {},
   "source": [
    "### Выбор потенциально прибыльных платформ"
   ]
  },
  {
   "cell_type": "markdown",
   "metadata": {},
   "source": [
    "Какие платформы лидируют по продажам, растут или падают? Выберите несколько потенциально прибыльных платформ."
   ]
  },
  {
   "cell_type": "code",
   "execution_count": 13,
   "metadata": {},
   "outputs": [
    {
     "data": {
      "text/plain": [
       "Text(0, 0.5, 'Продажи')"
      ]
     },
     "execution_count": 13,
     "metadata": {},
     "output_type": "execute_result"
    },
    {
     "data": {
      "image/png": "[encoded data removed]",
      "text/plain": [
       "<Figure size 1296x360 with 1 Axes>"
      ]
     },
     "metadata": {
      "needs_background": "light"
     },
     "output_type": "display_data"
    }
   ],
   "source": [
    "actual_data = data[data['year_of_release'] > 2013] #выделяем датафрейм с данными с 2014 года, в дальнейшем будем работать с ним\n",
    "\n",
    "#посмотрим, какие платформы самые прибыльные в новом датафрейме\n",
    "actual_2016_pvt = actual_data.pivot_table(index=['platform'], values='total_sales', aggfunc='sum').reset_index().sort_values(by='total_sales', ascending=False)\n",
    "plt.figure(figsize=(18, 5))\n",
    "sns.barplot(data = actual_2016_pvt, x='platform', y='total_sales')\n",
    "plt.title('Самые продаваемые платформы с 2014-2016 гг', fontsize=15)\n",
    "plt.xlabel('Платформа', fontsize=12)\n",
    "plt.ylabel('Продажи',fontsize=12)\n",
    "\n"
   ]
  },
  {
   "cell_type": "markdown",
   "metadata": {},
   "source": [
    "Самые прибыльные платформы на рассматриваемом промежутке - PS4,XOne,3DS"
   ]
  },
  {
   "cell_type": "code",
   "execution_count": 14,
   "metadata": {},
   "outputs": [
    {
     "data": {
      "text/plain": [
       "Text(0, 0.5, 'Прибыль')"
      ]
     },
     "execution_count": 14,
     "metadata": {},
     "output_type": "execute_result"
    },
    {
     "data": {
      "image/png": "[encoded data removed]",
      "text/plain": [
       "<Figure size 1296x720 with 1 Axes>"
      ]
     },
     "metadata": {
      "needs_background": "light"
     },
     "output_type": "display_data"
    }
   ],
   "source": [
    "#построим график динамики прибыли платформ\n",
    "actual_data.groupby(['platform', 'year_of_release'])['total_sales'].sum().unstack('platform').plot(figsize=(18,10))\n",
    "plt.title(\"Динамика прибыльности игр\")\n",
    "plt.xlabel(\"Год выпуска\")\n",
    "plt.ylabel(\"Прибыль\")"
   ]
  },
  {
   "cell_type": "markdown",
   "metadata": {},
   "source": [
    "В целом продажи по всем платформам падают. С учетом того, что за 2016 год данные неполные, то потенциально прибыльными платформами можно считать:PS4,XOne,3DS. Это подтверждают и данные по общим продажам за период в целом."
   ]
  },
  {
   "cell_type": "markdown",
   "metadata": {},
   "source": [
    "### \"Ящик с усами\""
   ]
  },
  {
   "cell_type": "markdown",
   "metadata": {},
   "source": [
    "Постройте график «ящик с усами» по глобальным продажам игр в разбивке по платформам. Опишите результат."
   ]
  },
  {
   "cell_type": "code",
   "execution_count": 15,
   "metadata": {},
   "outputs": [
    {
     "data": {
      "text/plain": [
       "Text(0, 0.5, 'Глобальные продажи')"
      ]
     },
     "execution_count": 15,
     "metadata": {},
     "output_type": "execute_result"
    },
    {
     "data": {
      "image/png": "[encoded data removed]",
      "text/plain": [
       "<Figure size 1440x1080 with 1 Axes>"
      ]
     },
     "metadata": {
      "needs_background": "light"
     },
     "output_type": "display_data"
    }
   ],
   "source": [
    "#изобразим на одном графике диаграму размаха для общих продаж по платформ из списка\n",
    "plt.figure(figsize=(20,15))\n",
    "sns.boxplot(data=actual_data[actual_data['total_sales'] < 1.5], x='platform', y='total_sales')\n",
    "plt.title('Ящик с усами', fontsize=15)\n",
    "plt.xlabel('Платформа', fontsize=12)\n",
    "plt.ylabel('Глобальные продажи',fontsize=12)\n",
    "\n"
   ]
  },
  {
   "cell_type": "code",
   "execution_count": 16,
   "metadata": {},
   "outputs": [
    {
     "data": {
      "text/html": [
       "<div>\n",
       "<style scoped>\n",
       "    .dataframe tbody tr th:only-of-type {\n",
       "        vertical-align: middle;\n",
       "    }\n",
       "\n",
       "    .dataframe tbody tr th {\n",
       "        vertical-align: top;\n",
       "    }\n",
       "\n",
       "    .dataframe thead th {\n",
       "        text-align: right;\n",
       "    }\n",
       "</style>\n",
       "<table border=\"1\" class=\"dataframe\">\n",
       "  <thead>\n",
       "    <tr style=\"text-align: right;\">\n",
       "      <th></th>\n",
       "      <th>count</th>\n",
       "      <th>mean</th>\n",
       "      <th>std</th>\n",
       "      <th>min</th>\n",
       "      <th>25%</th>\n",
       "      <th>50%</th>\n",
       "      <th>75%</th>\n",
       "      <th>max</th>\n",
       "    </tr>\n",
       "    <tr>\n",
       "      <th>platform</th>\n",
       "      <th></th>\n",
       "      <th></th>\n",
       "      <th></th>\n",
       "      <th></th>\n",
       "      <th></th>\n",
       "      <th></th>\n",
       "      <th></th>\n",
       "      <th></th>\n",
       "    </tr>\n",
       "  </thead>\n",
       "  <tbody>\n",
       "    <tr>\n",
       "      <th>3DS</th>\n",
       "      <td>212.0</td>\n",
       "      <td>0.408868</td>\n",
       "      <td>1.188368</td>\n",
       "      <td>0.01</td>\n",
       "      <td>0.0300</td>\n",
       "      <td>0.090</td>\n",
       "      <td>0.2500</td>\n",
       "      <td>11.68</td>\n",
       "    </tr>\n",
       "    <tr>\n",
       "      <th>PC</th>\n",
       "      <td>151.0</td>\n",
       "      <td>0.179139</td>\n",
       "      <td>0.329359</td>\n",
       "      <td>0.01</td>\n",
       "      <td>0.0200</td>\n",
       "      <td>0.060</td>\n",
       "      <td>0.2000</td>\n",
       "      <td>3.05</td>\n",
       "    </tr>\n",
       "    <tr>\n",
       "      <th>PS3</th>\n",
       "      <td>219.0</td>\n",
       "      <td>0.311324</td>\n",
       "      <td>0.633059</td>\n",
       "      <td>0.01</td>\n",
       "      <td>0.0400</td>\n",
       "      <td>0.110</td>\n",
       "      <td>0.3250</td>\n",
       "      <td>5.27</td>\n",
       "    </tr>\n",
       "    <tr>\n",
       "      <th>PS4</th>\n",
       "      <td>376.0</td>\n",
       "      <td>0.766356</td>\n",
       "      <td>1.614969</td>\n",
       "      <td>0.01</td>\n",
       "      <td>0.0575</td>\n",
       "      <td>0.185</td>\n",
       "      <td>0.6900</td>\n",
       "      <td>14.63</td>\n",
       "    </tr>\n",
       "    <tr>\n",
       "      <th>PSP</th>\n",
       "      <td>13.0</td>\n",
       "      <td>0.027692</td>\n",
       "      <td>0.027735</td>\n",
       "      <td>0.01</td>\n",
       "      <td>0.0100</td>\n",
       "      <td>0.020</td>\n",
       "      <td>0.0200</td>\n",
       "      <td>0.09</td>\n",
       "    </tr>\n",
       "    <tr>\n",
       "      <th>PSV</th>\n",
       "      <td>295.0</td>\n",
       "      <td>0.075932</td>\n",
       "      <td>0.141591</td>\n",
       "      <td>0.01</td>\n",
       "      <td>0.0200</td>\n",
       "      <td>0.040</td>\n",
       "      <td>0.0900</td>\n",
       "      <td>1.96</td>\n",
       "    </tr>\n",
       "    <tr>\n",
       "      <th>Wii</th>\n",
       "      <td>11.0</td>\n",
       "      <td>0.460909</td>\n",
       "      <td>0.625451</td>\n",
       "      <td>0.01</td>\n",
       "      <td>0.0350</td>\n",
       "      <td>0.180</td>\n",
       "      <td>0.7550</td>\n",
       "      <td>2.01</td>\n",
       "    </tr>\n",
       "    <tr>\n",
       "      <th>WiiU</th>\n",
       "      <td>73.0</td>\n",
       "      <td>0.588767</td>\n",
       "      <td>1.161467</td>\n",
       "      <td>0.01</td>\n",
       "      <td>0.0500</td>\n",
       "      <td>0.190</td>\n",
       "      <td>0.5700</td>\n",
       "      <td>7.09</td>\n",
       "    </tr>\n",
       "    <tr>\n",
       "      <th>X360</th>\n",
       "      <td>111.0</td>\n",
       "      <td>0.434414</td>\n",
       "      <td>0.628967</td>\n",
       "      <td>0.01</td>\n",
       "      <td>0.0700</td>\n",
       "      <td>0.180</td>\n",
       "      <td>0.5050</td>\n",
       "      <td>4.28</td>\n",
       "    </tr>\n",
       "    <tr>\n",
       "      <th>XOne</th>\n",
       "      <td>228.0</td>\n",
       "      <td>0.615614</td>\n",
       "      <td>1.046513</td>\n",
       "      <td>0.01</td>\n",
       "      <td>0.0500</td>\n",
       "      <td>0.205</td>\n",
       "      <td>0.6325</td>\n",
       "      <td>7.39</td>\n",
       "    </tr>\n",
       "  </tbody>\n",
       "</table>\n",
       "</div>"
      ],
      "text/plain": [
       "          count      mean       std   min     25%    50%     75%    max\n",
       "platform                                                               \n",
       "3DS       212.0  0.408868  1.188368  0.01  0.0300  0.090  0.2500  11.68\n",
       "PC        151.0  0.179139  0.329359  0.01  0.0200  0.060  0.2000   3.05\n",
       "PS3       219.0  0.311324  0.633059  0.01  0.0400  0.110  0.3250   5.27\n",
       "PS4       376.0  0.766356  1.614969  0.01  0.0575  0.185  0.6900  14.63\n",
       "PSP        13.0  0.027692  0.027735  0.01  0.0100  0.020  0.0200   0.09\n",
       "PSV       295.0  0.075932  0.141591  0.01  0.0200  0.040  0.0900   1.96\n",
       "Wii        11.0  0.460909  0.625451  0.01  0.0350  0.180  0.7550   2.01\n",
       "WiiU       73.0  0.588767  1.161467  0.01  0.0500  0.190  0.5700   7.09\n",
       "X360      111.0  0.434414  0.628967  0.01  0.0700  0.180  0.5050   4.28\n",
       "XOne      228.0  0.615614  1.046513  0.01  0.0500  0.205  0.6325   7.39"
      ]
     },
     "execution_count": 16,
     "metadata": {},
     "output_type": "execute_result"
    }
   ],
   "source": [
    "#получим числовые характеристики продаж по платформам\n",
    "actual_data.groupby('platform')['total_sales'].describe()"
   ]
  },
  {
   "cell_type": "markdown",
   "metadata": {},
   "source": [
    "Выводы: \n",
    "\n",
    "- У большинства платформ из выборки много выбросов, скорее всего это \"всплески\" их популярности, когда игры активно покупались.\n",
    "- Наибольшие медианы по продажам - у платформ X360,Wii,XOne,WiiU\n",
    "- У трех платформ совсем маленькие продажи - PSP, PSV\n",
    "- Игры для компьютеров в среднем приносят меньше прибыли, чем консоли"
   ]
  },
  {
   "cell_type": "markdown",
   "metadata": {},
   "source": [
    "### Диаграмма рассеяния"
   ]
  },
  {
   "cell_type": "markdown",
   "metadata": {},
   "source": [
    "Посмотрите, как влияют на продажи внутри одной популярной платформы отзывы пользователей и критиков. Постройте диаграмму рассеяния и посчитайте корреляцию между отзывами и продажами. Сформулируйте выводы."
   ]
  },
  {
   "cell_type": "code",
   "execution_count": 17,
   "metadata": {},
   "outputs": [
    {
     "name": "stdout",
     "output_type": "stream",
     "text": [
      "Диаграмма рассеяния для PS4\n"
     ]
    },
    {
     "data": {
      "image/png": "[encoded data removed]",
      "text/plain": [
       "<Figure size 540x540 with 12 Axes>"
      ]
     },
     "metadata": {
      "needs_background": "light"
     },
     "output_type": "display_data"
    }
   ],
   "source": [
    "#рассмотрим для начала потенциально прибыльную в 2016 году PS4\n",
    "\n",
    "print(\"Диаграмма рассеяния для PS4\")\n",
    "sns.pairplot(actual_data[actual_data.platform == \"PS4\"][['total_sales', 'critic_score', 'user_score']])\n",
    "plt.show()\n",
    "\n"
   ]
  },
  {
   "cell_type": "markdown",
   "metadata": {},
   "source": [
    "Можно заметить некоторую зависимость между высокими оценками критиков и ростом продаж, однако то же про зависимость пользовательских оценок и продажи сказать трудно. Проверим расчеты:"
   ]
  },
  {
   "cell_type": "code",
   "execution_count": 18,
   "metadata": {},
   "outputs": [
    {
     "name": "stdout",
     "output_type": "stream",
     "text": [
      "Матрица корреляций\n"
     ]
    },
    {
     "data": {
      "text/html": [
       "<div>\n",
       "<style scoped>\n",
       "    .dataframe tbody tr th:only-of-type {\n",
       "        vertical-align: middle;\n",
       "    }\n",
       "\n",
       "    .dataframe tbody tr th {\n",
       "        vertical-align: top;\n",
       "    }\n",
       "\n",
       "    .dataframe thead th {\n",
       "        text-align: right;\n",
       "    }\n",
       "</style>\n",
       "<table border=\"1\" class=\"dataframe\">\n",
       "  <thead>\n",
       "    <tr style=\"text-align: right;\">\n",
       "      <th></th>\n",
       "      <th>total_sales</th>\n",
       "      <th>critic_score</th>\n",
       "      <th>user_score</th>\n",
       "    </tr>\n",
       "  </thead>\n",
       "  <tbody>\n",
       "    <tr>\n",
       "      <th>total_sales</th>\n",
       "      <td>1.000000</td>\n",
       "      <td>0.402661</td>\n",
       "      <td>-0.040132</td>\n",
       "    </tr>\n",
       "    <tr>\n",
       "      <th>critic_score</th>\n",
       "      <td>0.402661</td>\n",
       "      <td>1.000000</td>\n",
       "      <td>0.546434</td>\n",
       "    </tr>\n",
       "    <tr>\n",
       "      <th>user_score</th>\n",
       "      <td>-0.040132</td>\n",
       "      <td>0.546434</td>\n",
       "      <td>1.000000</td>\n",
       "    </tr>\n",
       "  </tbody>\n",
       "</table>\n",
       "</div>"
      ],
      "text/plain": [
       "              total_sales  critic_score  user_score\n",
       "total_sales      1.000000      0.402661   -0.040132\n",
       "critic_score     0.402661      1.000000    0.546434\n",
       "user_score      -0.040132      0.546434    1.000000"
      ]
     },
     "execution_count": 18,
     "metadata": {},
     "output_type": "execute_result"
    }
   ],
   "source": [
    "print(\"Матрица корреляций\")\n",
    "actual_data[actual_data.platform == \"PS4\"][['total_sales', 'critic_score', 'user_score']].corr()"
   ]
  },
  {
   "cell_type": "markdown",
   "metadata": {},
   "source": [
    "Видим, что есть средняя корреляция между оценками критиков и прибылью. Зависимость прибыли и пользовательских оценок проактически нет. Соотнесем эти выводы с данными по другим популярным платформам. Возьмем для сравнения PS3, X360 и WiiU, XOne"
   ]
  },
  {
   "cell_type": "code",
   "execution_count": 19,
   "metadata": {},
   "outputs": [
    {
     "name": "stdout",
     "output_type": "stream",
     "text": [
      "\n",
      "    Корреляция для  PS3\n",
      "\n",
      "Корреляция между отзывами критиков и суммарными продажами\n",
      "Умеренная 0.44657460493190787\n",
      "\n",
      "Корреляция между отзывами пользователей и суммарными продажами\n",
      "Слабая обратная -0.16676141347662113\n",
      "\n",
      "    Корреляция для  X360\n",
      "\n",
      "Корреляция между отзывами критиков и суммарными продажами\n",
      "Средняя 0.5257228356581524\n",
      "\n",
      "Корреляция между отзывами пользователей и суммарными продажами\n",
      "Слабая обратная -0.13844457094566492\n",
      "\n",
      "    Корреляция для  WiiU\n",
      "\n",
      "Корреляция между отзывами критиков и суммарными продажами\n",
      "Умеренная 0.3702014124808842\n",
      "\n",
      "Корреляция между отзывами пользователей и суммарными продажами\n",
      "Умеренная 0.40792645792170784\n",
      "\n",
      "    Корреляция для  XOne\n",
      "\n",
      "Корреляция между отзывами критиков и суммарными продажами\n",
      "Умеренная 0.4286769437033328\n",
      "\n",
      "Корреляция между отзывами пользователей и суммарными продажами\n",
      "Не выявлено -0.0703839280647589\n"
     ]
    }
   ],
   "source": [
    "#Напишем функцию, которая будет считать корреляции для других платформ\n",
    "\n",
    "def corr_rating(platform_name):\n",
    "    print('''\n",
    "    Корреляция для ''', platform_name)\n",
    "    platform = actual_data[actual_data.platform == platform_name][['total_sales', 'critic_score', 'user_score']].corr()\n",
    "    #print(platform)\n",
    "    print()\n",
    "    print('Корреляция между отзывами критиков и суммарными продажами')\n",
    "    \n",
    "    if 0.3 >= platform['critic_score'][0] > 0.1:\n",
    "        print('Слабая', platform['critic_score'][0])\n",
    "    if 0.5 >= platform['critic_score'][0] > 0.3:\n",
    "        print('Умеренная', platform['critic_score'][0])\n",
    "    if 0.7 >= platform['critic_score'][0] > 0.5:\n",
    "        print('Средняя', platform['critic_score'][0])\n",
    "    if 1 >= platform['critic_score'][0] > 0.7:\n",
    "        print('Сильная', platform['critic_score'][0])\n",
    "        \n",
    "    print()\n",
    "    print('Корреляция между отзывами пользователей и суммарными продажами')\n",
    "    \n",
    "    if 0.3 >= platform['user_score'][0] > 0.1:\n",
    "        print('Слабая', platform['user_score'][0])\n",
    "    if 0.5 >= platform['user_score'][0] > 0.3:\n",
    "        print('Умеренная', platform['user_score'][0])\n",
    "    if 0.7 >= platform['user_score'][0] > 0.5:\n",
    "        print('Средняя', platform['user_score'][0])\n",
    "    if 1 >= platform['user_score'][0] > 0.7:\n",
    "        print('Сильная', platform['user_score'][0])\n",
    "        \n",
    "    \n",
    "    if -0.1 <= platform['user_score'][0] < 0.1:\n",
    "        print('Не выявлено', platform['user_score'][0])\n",
    "    if -0.3 <= platform['user_score'][0] < -0.1:\n",
    "        print('Слабая обратная', platform['user_score'][0])\n",
    "    if -0.5 <= platform['user_score'][0] < -0.3:\n",
    "        print('Умеренная обратная', platform['user_score'][0])\n",
    "    if -0.7 <= platform['user_score'][0] < -0.5:\n",
    "        print('Средняя обратная', platform['user_score'][0])\n",
    "    if -1 <= platform['user_score'][0] < -0.7:\n",
    "        print('Сильная обратная', platform['user_score'][0])\n",
    "\n",
    "\n",
    "for pltf in ['PS3', 'X360','WiiU', 'XOne'] :\n",
    "    corr_rating(pltf)"
   ]
  },
  {
   "cell_type": "markdown",
   "metadata": {},
   "source": [
    "Вывод: У рассмотренных платформ наблюдается умеренная связь между оценками критиков и продажами. Однако, корреляция продаж и оценок пользователей практически отсутствует (меньше 15 процентов). Исключение составляет платформа WiiU, где взаимосвязь продаж и отзывов пользователей выше, чем с оценками критиков.\n",
    "\n",
    "Предположим, что отзывы критиков - это часть пиара платформы, и поэтому они напрямую могут влиять на коммерческие показатели игр. \n",
    "\n",
    "Отзывы пользователей же даже на самые интересные и прогрессивные игры могут быть субъективными и не отражать реального положения дел. Тем более, чтобы составить своем мнение об игре, пользователю все равно придется купить ее, а значит вклад в прибыльность редко будет зависеть от высокой оценки."
   ]
  },
  {
   "cell_type": "markdown",
   "metadata": {},
   "source": [
    "### Распределение игр по жанрам"
   ]
  },
  {
   "cell_type": "markdown",
   "metadata": {},
   "source": [
    "Посмотрите на общее распределение игр по жанрам. Что можно сказать о самых прибыльных жанрах? Выделяются ли жанры с высокими и низкими продажами?"
   ]
  },
  {
   "cell_type": "code",
   "execution_count": 20,
   "metadata": {},
   "outputs": [
    {
     "data": {
      "text/html": [
       "<div>\n",
       "<style scoped>\n",
       "    .dataframe tbody tr th:only-of-type {\n",
       "        vertical-align: middle;\n",
       "    }\n",
       "\n",
       "    .dataframe tbody tr th {\n",
       "        vertical-align: top;\n",
       "    }\n",
       "\n",
       "    .dataframe thead th {\n",
       "        text-align: right;\n",
       "    }\n",
       "</style>\n",
       "<table border=\"1\" class=\"dataframe\">\n",
       "  <thead>\n",
       "    <tr style=\"text-align: right;\">\n",
       "      <th></th>\n",
       "      <th>genre</th>\n",
       "      <th>total_sales</th>\n",
       "    </tr>\n",
       "  </thead>\n",
       "  <tbody>\n",
       "    <tr>\n",
       "      <th>0</th>\n",
       "      <td>Action</td>\n",
       "      <td>199.36</td>\n",
       "    </tr>\n",
       "    <tr>\n",
       "      <th>1</th>\n",
       "      <td>Shooter</td>\n",
       "      <td>170.94</td>\n",
       "    </tr>\n",
       "    <tr>\n",
       "      <th>2</th>\n",
       "      <td>Sports</td>\n",
       "      <td>109.48</td>\n",
       "    </tr>\n",
       "    <tr>\n",
       "      <th>3</th>\n",
       "      <td>Role-Playing</td>\n",
       "      <td>101.44</td>\n",
       "    </tr>\n",
       "    <tr>\n",
       "      <th>4</th>\n",
       "      <td>Misc</td>\n",
       "      <td>37.55</td>\n",
       "    </tr>\n",
       "    <tr>\n",
       "      <th>5</th>\n",
       "      <td>Fighting</td>\n",
       "      <td>28.22</td>\n",
       "    </tr>\n",
       "    <tr>\n",
       "      <th>6</th>\n",
       "      <td>Racing</td>\n",
       "      <td>27.52</td>\n",
       "    </tr>\n",
       "    <tr>\n",
       "      <th>7</th>\n",
       "      <td>Platform</td>\n",
       "      <td>18.09</td>\n",
       "    </tr>\n",
       "    <tr>\n",
       "      <th>8</th>\n",
       "      <td>Adventure</td>\n",
       "      <td>17.55</td>\n",
       "    </tr>\n",
       "    <tr>\n",
       "      <th>9</th>\n",
       "      <td>Simulation</td>\n",
       "      <td>13.13</td>\n",
       "    </tr>\n",
       "    <tr>\n",
       "      <th>10</th>\n",
       "      <td>Strategy</td>\n",
       "      <td>3.96</td>\n",
       "    </tr>\n",
       "    <tr>\n",
       "      <th>11</th>\n",
       "      <td>Puzzle</td>\n",
       "      <td>2.21</td>\n",
       "    </tr>\n",
       "  </tbody>\n",
       "</table>\n",
       "</div>"
      ],
      "text/plain": [
       "           genre  total_sales\n",
       "0         Action       199.36\n",
       "1        Shooter       170.94\n",
       "2         Sports       109.48\n",
       "3   Role-Playing       101.44\n",
       "4           Misc        37.55\n",
       "5       Fighting        28.22\n",
       "6         Racing        27.52\n",
       "7       Platform        18.09\n",
       "8      Adventure        17.55\n",
       "9     Simulation        13.13\n",
       "10      Strategy         3.96\n",
       "11        Puzzle         2.21"
      ]
     },
     "execution_count": 20,
     "metadata": {},
     "output_type": "execute_result"
    }
   ],
   "source": [
    "#посмотрим распределение выручки от продаж в зависимости от жанра\n",
    "genre_total_sales = actual_data.pivot_table(index='genre', values='total_sales', aggfunc='sum').sort_values(\n",
    "    by='total_sales', ascending=False).reset_index().rename_axis(None, axis=1)\n",
    "genre_total_sales\n"
   ]
  },
  {
   "cell_type": "code",
   "execution_count": 21,
   "metadata": {},
   "outputs": [
    {
     "data": {
      "text/plain": [
       "Text(0, 0.5, 'Продажи')"
      ]
     },
     "execution_count": 21,
     "metadata": {},
     "output_type": "execute_result"
    },
    {
     "data": {
      "image/png": "[encoded data removed]",
      "text/plain": [
       "<Figure size 864x432 with 1 Axes>"
      ]
     },
     "metadata": {
      "needs_background": "light"
     },
     "output_type": "display_data"
    }
   ],
   "source": [
    "#Отрисуем барплот чтобы наглядно посмотреть как распределяются жанры\n",
    "\n",
    "plt.figure(figsize=(12,6))\n",
    "plt.title('Распределение игр по жанрам ',fontsize=15)\n",
    "sns.barplot(data=genre_total_sales, x='genre', y='total_sales')\n",
    "plt.xlabel('Жанры игр',fontsize=12)\n",
    "plt.ylabel('Продажи',fontsize=12)\n",
    "\n"
   ]
  },
  {
   "cell_type": "markdown",
   "metadata": {},
   "source": [
    "Самым популярным жанром оказались action-игры, менее популярными жанрами - puzzle и strategy. Большая часть прибыли приходится на 5 жанров: Action, Shooter, Sports, Misc, Role-Playing. Однако, общие продажи - плохая метрика для поиска наиболее прибыльного жанра. За высокими показателями общих продаж может скрываться множество мелких игр с низкими продажами. Поэтому для поиска наиболее прибыльного жанра построим распределение средней прибыли каждого жанра. Так мы сможем обратить внимание на игры, стабильно приносящие высокий доход, вне зависимости от количества выпущенного."
   ]
  },
  {
   "cell_type": "code",
   "execution_count": 22,
   "metadata": {},
   "outputs": [
    {
     "data": {
      "text/html": [
       "<div>\n",
       "<style scoped>\n",
       "    .dataframe tbody tr th:only-of-type {\n",
       "        vertical-align: middle;\n",
       "    }\n",
       "\n",
       "    .dataframe tbody tr th {\n",
       "        vertical-align: top;\n",
       "    }\n",
       "\n",
       "    .dataframe thead th {\n",
       "        text-align: right;\n",
       "    }\n",
       "</style>\n",
       "<table border=\"1\" class=\"dataframe\">\n",
       "  <thead>\n",
       "    <tr style=\"text-align: right;\">\n",
       "      <th></th>\n",
       "      <th>genre</th>\n",
       "      <th>total_sales</th>\n",
       "    </tr>\n",
       "  </thead>\n",
       "  <tbody>\n",
       "    <tr>\n",
       "      <th>0</th>\n",
       "      <td>Shooter</td>\n",
       "      <td>1.335469</td>\n",
       "    </tr>\n",
       "    <tr>\n",
       "      <th>1</th>\n",
       "      <td>Sports</td>\n",
       "      <td>0.680000</td>\n",
       "    </tr>\n",
       "    <tr>\n",
       "      <th>2</th>\n",
       "      <td>Platform</td>\n",
       "      <td>0.476053</td>\n",
       "    </tr>\n",
       "    <tr>\n",
       "      <th>3</th>\n",
       "      <td>Fighting</td>\n",
       "      <td>0.470333</td>\n",
       "    </tr>\n",
       "    <tr>\n",
       "      <th>4</th>\n",
       "      <td>Role-Playing</td>\n",
       "      <td>0.459005</td>\n",
       "    </tr>\n",
       "    <tr>\n",
       "      <th>5</th>\n",
       "      <td>Racing</td>\n",
       "      <td>0.398841</td>\n",
       "    </tr>\n",
       "    <tr>\n",
       "      <th>6</th>\n",
       "      <td>Misc</td>\n",
       "      <td>0.332301</td>\n",
       "    </tr>\n",
       "    <tr>\n",
       "      <th>7</th>\n",
       "      <td>Action</td>\n",
       "      <td>0.322068</td>\n",
       "    </tr>\n",
       "    <tr>\n",
       "      <th>8</th>\n",
       "      <td>Simulation</td>\n",
       "      <td>0.298409</td>\n",
       "    </tr>\n",
       "    <tr>\n",
       "      <th>9</th>\n",
       "      <td>Puzzle</td>\n",
       "      <td>0.157857</td>\n",
       "    </tr>\n",
       "    <tr>\n",
       "      <th>10</th>\n",
       "      <td>Strategy</td>\n",
       "      <td>0.107027</td>\n",
       "    </tr>\n",
       "    <tr>\n",
       "      <th>11</th>\n",
       "      <td>Adventure</td>\n",
       "      <td>0.094865</td>\n",
       "    </tr>\n",
       "  </tbody>\n",
       "</table>\n",
       "</div>"
      ],
      "text/plain": [
       "           genre  total_sales\n",
       "0        Shooter     1.335469\n",
       "1         Sports     0.680000\n",
       "2       Platform     0.476053\n",
       "3       Fighting     0.470333\n",
       "4   Role-Playing     0.459005\n",
       "5         Racing     0.398841\n",
       "6           Misc     0.332301\n",
       "7         Action     0.322068\n",
       "8     Simulation     0.298409\n",
       "9         Puzzle     0.157857\n",
       "10      Strategy     0.107027\n",
       "11     Adventure     0.094865"
      ]
     },
     "execution_count": 22,
     "metadata": {},
     "output_type": "execute_result"
    }
   ],
   "source": [
    "#посмотрим распределение выручки от продаж в зависимости от жанра\n",
    "genre_mean_sales = actual_data.pivot_table(index='genre', values='total_sales', aggfunc='mean').sort_values(\n",
    "    by='total_sales', ascending=False).reset_index().rename_axis(None, axis=1)\n",
    "genre_mean_sales"
   ]
  },
  {
   "cell_type": "code",
   "execution_count": 23,
   "metadata": {},
   "outputs": [
    {
     "data": {
      "text/plain": [
       "Text(0, 0.5, 'Средние продажи')"
      ]
     },
     "execution_count": 23,
     "metadata": {},
     "output_type": "execute_result"
    },
    {
     "data": {
      "image/png": "[encoded data removed]",
      "text/plain": [
       "<Figure size 864x432 with 1 Axes>"
      ]
     },
     "metadata": {
      "needs_background": "light"
     },
     "output_type": "display_data"
    }
   ],
   "source": [
    "#Отрисуем барплот чтобы наглядно посмотреть как распределяются жанры\n",
    "\n",
    "plt.figure(figsize=(12,6))\n",
    "plt.title('Распределение игр по жанрам ',fontsize=15)\n",
    "sns.barplot(data=genre_mean_sales, x='genre', y='total_sales')\n",
    "plt.xlabel('Жанры игр',fontsize=12)\n",
    "plt.ylabel('Средние продажи',fontsize=12)"
   ]
  },
  {
   "cell_type": "code",
   "execution_count": 24,
   "metadata": {},
   "outputs": [
    {
     "data": {
      "text/plain": [
       "genre\n",
       "Puzzle           14\n",
       "Strategy         37\n",
       "Platform         38\n",
       "Simulation       44\n",
       "Fighting         60\n",
       "Racing           69\n",
       "Misc            113\n",
       "Shooter         128\n",
       "Sports          161\n",
       "Adventure       185\n",
       "Role-Playing    221\n",
       "Action          619\n",
       "Name: genre, dtype: int64"
      ]
     },
     "execution_count": 24,
     "metadata": {},
     "output_type": "execute_result"
    }
   ],
   "source": [
    "actual_data.groupby(\"genre\")['genre'].count().sort_values() #посмотрим распределение количества игр по жанрам"
   ]
  },
  {
   "cell_type": "markdown",
   "metadata": {},
   "source": [
    "Таким образом, мы видим интересную картину: в топе по выручке находятся игры жанра Action, но если мы рассмотрим средние значения выручки, то результат изменится в пользу Shooter. Учитывая тот факт, что игр в жанре Action выпускается значительно больше, чем других (в 1,5-2 раза), а доля количества игр в жанре Shooter всего лишь 8%, то шутеры выглядят более стабильно прибыльным жанром.\n",
    "\n",
    "Таким образом, самым прибыльными жанрами отметим Shooter и Sports.\n",
    "\n",
    "Интересно, что жанр Adventure сильно отстаёт по продажам, хотя игр выпускается много"
   ]
  },
  {
   "cell_type": "markdown",
   "metadata": {},
   "source": [
    "## Портрет пользователя"
   ]
  },
  {
   "cell_type": "markdown",
   "metadata": {},
   "source": [
    "Определим для пользователя каждого региона (NA, EU, JP) самые популярные платформы (топ-5), жанры (топ-5), влияние рейтинга ESRB на продажи."
   ]
  },
  {
   "cell_type": "code",
   "execution_count": 25,
   "metadata": {},
   "outputs": [
    {
     "data": {
      "text/plain": [
       "NaN     749\n",
       "T       271\n",
       "M       265\n",
       "E       219\n",
       "E10+    185\n",
       "Name: rating, dtype: int64"
      ]
     },
     "metadata": {},
     "output_type": "display_data"
    },
    {
     "name": "stderr",
     "output_type": "stream",
     "text": [
      "/tmp/ipykernel_265/2348549755.py:2: SettingWithCopyWarning: \n",
      "A value is trying to be set on a copy of a slice from a DataFrame.\n",
      "Try using .loc[row_indexer,col_indexer] = value instead\n",
      "\n",
      "See the caveats in the documentation: https://pandas.pydata.org/pandas-docs/stable/user_guide/indexing.html#returning-a-view-versus-a-copy\n",
      "  actual_data['rating'] = actual_data['rating'].fillna(value = 'Empty') #заполним их словом Empty\n"
     ]
    },
    {
     "data": {
      "text/plain": [
       "Empty    749\n",
       "T        271\n",
       "M        265\n",
       "E        219\n",
       "E10+     185\n",
       "Name: rating, dtype: int64"
      ]
     },
     "metadata": {},
     "output_type": "display_data"
    }
   ],
   "source": [
    "display(actual_data['rating'].value_counts(dropna=False)) #проверим сколько игр без рейтинга возраста\n",
    "actual_data['rating'] = actual_data['rating'].fillna(value = 'Empty') #заполним их словом Empty\n",
    "display(actual_data['rating'].value_counts()) #проверим"
   ]
  },
  {
   "cell_type": "code",
   "execution_count": 26,
   "metadata": {},
   "outputs": [
    {
     "name": "stdout",
     "output_type": "stream",
     "text": [
      "\n",
      "Портрет по критерию platform\n",
      "\n"
     ]
    },
    {
     "data": {
      "image/png": "[encoded data removed]",
      "text/plain": [
       "<Figure size 1440x288 with 3 Axes>"
      ]
     },
     "metadata": {
      "needs_background": "light"
     },
     "output_type": "display_data"
    },
    {
     "name": "stdout",
     "output_type": "stream",
     "text": [
      "\n",
      "Портрет по критерию genre\n",
      "\n"
     ]
    },
    {
     "data": {
      "image/png": "[encoded data removed]",
      "text/plain": [
       "<Figure size 1440x288 with 3 Axes>"
      ]
     },
     "metadata": {
      "needs_background": "light"
     },
     "output_type": "display_data"
    },
    {
     "name": "stdout",
     "output_type": "stream",
     "text": [
      "\n",
      "Портрет по критерию rating\n",
      "\n"
     ]
    },
    {
     "data": {
      "image/png": "[encoded data removed]",
      "text/plain": [
       "<Figure size 1440x288 with 3 Axes>"
      ]
     },
     "metadata": {
      "needs_background": "light"
     },
     "output_type": "display_data"
    }
   ],
   "source": [
    "#построим гистограмы топ-5 самых популярных платформ и жанров, \n",
    "# а также построим гистограммы распределения продаж в зависимости от возрастного рейтинга игр\n",
    "\n",
    "for criteria in ['platform', 'genre', 'rating']:\n",
    "    print()\n",
    "    print('Портрет по критерию', criteria)\n",
    "    print()\n",
    "    #NA\n",
    "    na_platform_index = actual_data.groupby(criteria)['na_sales'].sum().sort_values()[-5:].index.tolist()\n",
    "    na_platform_values = actual_data.groupby(criteria)['na_sales'].sum().sort_values()[-5:]\n",
    "\n",
    "    #EU\n",
    "    eu_platform_index = actual_data.groupby(criteria)['eu_sales'].sum().sort_values()[-5:].index.tolist()\n",
    "    eu_platform_values = actual_data.groupby(criteria)['eu_sales'].sum().sort_values()[-5:]\n",
    "\n",
    "    #JP\n",
    "    jp_platform_index = actual_data.groupby(criteria)['jp_sales'].sum().sort_values()[-5:].index.tolist()\n",
    "    jp_platform_values = actual_data.groupby(criteria)['jp_sales'].sum().sort_values()[-5:]\n",
    "\n",
    "    fig, (ax1, ax2, ax3) = plt.subplots(1, 3, figsize=(20,4))\n",
    "\n",
    "    ax1.bar(na_platform_index, na_platform_values)\n",
    "    ax1.set_title(\"North America\", fontsize=16)\n",
    "\n",
    "    ax2.bar(eu_platform_index, eu_platform_values)\n",
    "    ax2.set_title(\"Europe\", fontsize=16)\n",
    "\n",
    "    ax3.bar(jp_platform_index, jp_platform_values)\n",
    "    ax3.set_title(\"Japan\", fontsize=16)\n",
    "\n",
    "    plt.show()\n"
   ]
  },
  {
   "cell_type": "markdown",
   "metadata": {},
   "source": [
    "Самые популярные игровые платформы в Северной Америке это: PS4 и XOne. Топ 5 жанров в северной америке : shooter, action, sports, role-playing. По рейтингам видно, что больше всего продаж у игр с рейтингом \"для взрослых\", на втором месте игры без рейтинга и на третьем месте игры с рейтингом \"для всех\".\n",
    "\n",
    "Лидер среди платформ в Европе PS4. Популярные жанры игр - те же, что и в Америке. По возрастным рейтингам картина повторяет распределение в Америке.\n",
    "\n",
    "Самая популярная игровая платформа в Японии - это 3DS, доля остальных платформ равномерно распределена между другими платформами. Топ жанров в Японии : Role-Playing и action, на остальные жанры приходится меньшая часть. По рейтингам видно, что больше всего продаж у игр без рейтинга.\n",
    "\n",
    "В Европейских странах и Америке в лидерах платформа PS4, на втором месте XOne. Японцы предпочитают пользоваться играми отечественного производства, а абсолютным лидером рейтинга является платформа 3DS.\n",
    "\n",
    "Предпочтения европейских и американских пользователей в выборе жанра практически не различаются, в то время как у японцев в топе \"непопулярный\" на западе Role-playing, а шутеры находятся на пятом месте. \n",
    "\n",
    "Большую часть в распределении возрастных рейтингов в Японии занимают игры без рейтинга. Возможно это связано с тем, что эти оценки (рейтинги) выставляет именно Американское рейтинговое агентство, которое элементарно исключает из оценки игры Японского производства, непопулярные в США."
   ]
  },
  {
   "cell_type": "markdown",
   "metadata": {},
   "source": [
    "## Проверка гипотез"
   ]
  },
  {
   "cell_type": "markdown",
   "metadata": {},
   "source": [
    "### Гипотеза 1"
   ]
  },
  {
   "cell_type": "markdown",
   "metadata": {},
   "source": [
    "Проверим гипотезу: \"Средние пользовательские рейтинги платформ Xbox One и PC одинаковые\"\n",
    "\n",
    "Сформулируем гипотезы:\n",
    "\n",
    "Нулевая гипотеза H₀: Средние пользовательские рейтинги платформ Xbox One и PC одинаковые;\n",
    "Альтернативная гипотеза H₁: Средние пользовательские рейтинги платформ Xbox One и PC различаются\n",
    "\n",
    "В Python есть специальный метод для проверки гипотезы о равенстве среднего двух генеральных совокупностей по взятым из них выборкам: scipy.stats.ttest_ind (array1, array2, equal_var) . Используем его. Если p-value меньше порогового значения alpha, то гипотезу отвергаем. Иначе - не отвергаем. Примем, что пороговое значение равно 15%"
   ]
  },
  {
   "cell_type": "code",
   "execution_count": 27,
   "metadata": {},
   "outputs": [],
   "source": [
    "#зададим две выборки с рейтингами платформ, предварительно удалив пропуски, чтобы они не влияли на конечный результат\n",
    "\n",
    "xone = actual_data[actual_data['platform']==\"XOne\"]['user_score'].dropna()\n",
    "pc = actual_data[actual_data['platform']==\"PC\"]['user_score'].dropna()"
   ]
  },
  {
   "cell_type": "code",
   "execution_count": 28,
   "metadata": {
    "scrolled": true
   },
   "outputs": [
    {
     "name": "stdout",
     "output_type": "stream",
     "text": [
      "p-значение: 0.10450507919348415\n",
      "Отвергаем нулевую гипотезу. Средние пользовательские рейтинги платформ Xbox One и PC разные.\n"
     ]
    }
   ],
   "source": [
    "alpha = 0.15\n",
    " \n",
    "results = st.ttest_ind(xone, pc)\n",
    "print('p-значение:', results.pvalue)\n",
    "if results.pvalue < alpha:\n",
    "    print('Отвергаем нулевую гипотезу. Средние пользовательские рейтинги платформ Xbox One и PC разные.')\n",
    "else:\n",
    "    print('Не можем отвергнуть нулевую гипотезу.')"
   ]
  },
  {
   "cell_type": "markdown",
   "metadata": {},
   "source": [
    "Вывод: Малое значение p-value говорит нам о том, вероятность случайного совпадения средних выборок мала. Нулевая гипотеза отвергается.\n",
    "\n",
    "А значит альтернативная гипотеза о том, что средние выборок отличаются, не отвергается."
   ]
  },
  {
   "cell_type": "markdown",
   "metadata": {},
   "source": [
    "### Гипотеза 2"
   ]
  },
  {
   "cell_type": "markdown",
   "metadata": {},
   "source": [
    "Проверим гипотезу: \"Средние пользовательские рейтинги жанров Action (англ. «действие», экшен-игры) и Sports (англ. «спортивные соревнования») разные.\"\n",
    "\n",
    "Сформулируем гипотезы:\n",
    "\n",
    "Нулевая гипотеза H₀: Средние оценки пользователей жанров Action и Sports равны;\n",
    "Альтернативная гипотеза H₁: Cредние оценки пользователей жанров Action и Sports различаются.\n",
    "\n",
    "В Python есть специальный метод для проверки гипотезы о равенстве среднего двух генеральных совокупностей по взятым из них выборкам: scipy.stats.ttest_ind (array1, array2, equal_var) . Используем его. Если p-value меньше порогового значения alpha, то гипотезу отвергаем. Иначе - не отвергаем. Примем, что пороговое значение равно 10%"
   ]
  },
  {
   "cell_type": "code",
   "execution_count": 29,
   "metadata": {},
   "outputs": [],
   "source": [
    "#зададим две выборки с рейтингами жанров, предварительно удалив пропуски, чтобы они не влияли на конечный результат\n",
    "\n",
    "action = actual_data[actual_data['genre']==\"Action\"]['user_score'].dropna()\n",
    "sports = actual_data[actual_data['genre']==\"Sports\"]['user_score'].dropna()"
   ]
  },
  {
   "cell_type": "code",
   "execution_count": 30,
   "metadata": {},
   "outputs": [
    {
     "name": "stdout",
     "output_type": "stream",
     "text": [
      "p-значение: 2.8711147985105864e-19\n",
      "Отвергаем нулевую гипотезу. Cредние оценки пользователей жанров Action и Sports различаются.\n"
     ]
    }
   ],
   "source": [
    "alpha = 0.1\n",
    " \n",
    "results = st.ttest_ind(action, sports)\n",
    "print('p-значение:', results.pvalue)\n",
    "if results.pvalue < alpha:\n",
    "    print('Отвергаем нулевую гипотезу. Cредние оценки пользователей жанров Action и Sports различаются.')\n",
    "else:\n",
    "    print('Не можем отвергнуть нулевую гипотезу.')"
   ]
  },
  {
   "cell_type": "markdown",
   "metadata": {},
   "source": [
    "Мы получили достаточно большое значение p, а значит оценки пользователей игр жанров Action и Sports можно считать разными. Гипотеза подтверилась!\n"
   ]
  },
  {
   "cell_type": "markdown",
   "metadata": {},
   "source": [
    "## Вывод"
   ]
  },
  {
   "cell_type": "markdown",
   "metadata": {},
   "source": [
    "Мы изучили данные о продаже игр на различных платформах в 2006-2016 годах, приняв этот временной промежуток как актуальный и наиболее подходящий для анализа. Нашей задачей было выяснить определяющие успешность игры закономерности. \n",
    "\n",
    "Изучив различные критерии, мы можем сделать выводы:\n",
    "\n",
    "- средний \"срок жизни\" платформы - 8-10 лет, следует выбирать для приоритетной продажи те платформы, которые на середине этого срока\n",
    "- Самые прибыльные платформы на рассматриваемом промежутке - PS4,XOne,3DS\n",
    "- У трех платформ совсем маленькие продажи - PSP, PSV\n",
    "- Игры для компьютеров в среднем приносят меньше прибыли, чем консоли\n",
    "- У рассмотренных платформ наблюдается умеренная связь между оценками критиков и продажами. \n",
    "- Однако, корреляция продаж и оценок пользователей практически отсутствует (меньше 15 процентов). Исключение составляет платформа WiiU, где взаимосвязь продаж и отзывов пользователей выше, чем с оценками критиков.\n",
    "- топе по выручке находятся игры жанра Action, но если мы рассмотрим средние значения выручки, то результат изменится в пользу Shooter. Таким образом, самым прибыльными жанрами отметим Shooter и Sports.\n",
    "- Интересно, что жанр Adventure сильно отстаёт по продажам, хотя игр выпускается много\n",
    "- В Европейских странах и Америке в лидерах платформа PS4, на втором месте XOne. Японцы предпочитают пользоваться играми отечественного производства, а абсолютным лидером рейтинга является платформа 3DS.\n",
    "- Топ 5 жанров в северной америке : shooter, action, sports, role-playing. Предпочтения европейских и американских пользователей в выборе жанра практически не различаются, в то время как у японцев в топе \"непопулярный\" на западе Role-playing, а шутеры находятся на пятом месте.\n",
    "- Большую часть в распределении возрастных рейтингов в Японии занимают игры без рейтинга. Возможно это связано с тем, что эти оценки (рейтинги) выставляет именно Американское рейтинговое агентство, которое элементарно исключает из оценки игры Японского производства, непопулярные в США.\n",
    "-Игрв без рейтинга также занимают крупную долю в продажах в США и ЕС, следует детельнее изучить эти игры, чтобы использовать эту информацию при планировании продаж.\n",
    "- Статистически проверено, что средние пользовательские рейтинги платформ Xbox One и PC и средние оценки пользователей игр жанров Action и Sports можно считать разными\n",
    "\n",
    "\n",
    "Данные факты, а также приведенные в проекте рассуждения можно использовать для планирования маркетинговых активностей и рекламных кампаний магазина. В зависимости от востребованности и прибыльности жанра, платформы игры, а также региона ее продажи, можно менять продуктовую линейку и предложения для пользователей.\n"
   ]
  }
 ],
 "metadata": {
  "ExecuteTimeLog": [
   {
    "duration": 1445,
    "start_time": "2022-05-23T07:51:23.131Z"
   },
   {
    "duration": 49,
    "start_time": "2022-05-23T07:51:29.833Z"
   },
   {
    "duration": 11,
    "start_time": "2022-05-23T08:00:48.946Z"
   },
   {
    "duration": 54,
    "start_time": "2022-05-23T08:03:29.614Z"
   },
   {
    "duration": 8,
    "start_time": "2022-05-23T08:04:03.584Z"
   },
   {
    "duration": 19,
    "start_time": "2022-05-23T08:34:16.909Z"
   },
   {
    "duration": 39,
    "start_time": "2022-05-23T08:58:02.193Z"
   },
   {
    "duration": 7,
    "start_time": "2022-05-23T09:26:21.104Z"
   },
   {
    "duration": 7,
    "start_time": "2022-05-23T09:26:22.633Z"
   },
   {
    "duration": 164,
    "start_time": "2022-05-23T09:26:54.372Z"
   },
   {
    "duration": 18,
    "start_time": "2022-05-23T09:38:36.017Z"
   },
   {
    "duration": 19,
    "start_time": "2022-05-23T09:39:29.518Z"
   },
   {
    "duration": 21,
    "start_time": "2022-05-23T09:47:58.592Z"
   },
   {
    "duration": 1223,
    "start_time": "2022-05-23T09:48:06.132Z"
   },
   {
    "duration": 89,
    "start_time": "2022-05-23T09:48:07.357Z"
   },
   {
    "duration": 10,
    "start_time": "2022-05-23T09:48:07.449Z"
   },
   {
    "duration": 40,
    "start_time": "2022-05-23T09:48:07.462Z"
   },
   {
    "duration": 46,
    "start_time": "2022-05-23T09:48:07.504Z"
   },
   {
    "duration": 13,
    "start_time": "2022-05-23T09:48:07.553Z"
   },
   {
    "duration": 166,
    "start_time": "2022-05-23T09:48:07.569Z"
   },
   {
    "duration": 0,
    "start_time": "2022-05-23T09:48:07.738Z"
   },
   {
    "duration": 0,
    "start_time": "2022-05-23T09:48:07.739Z"
   },
   {
    "duration": 0,
    "start_time": "2022-05-23T09:48:07.741Z"
   },
   {
    "duration": 0,
    "start_time": "2022-05-23T09:48:07.742Z"
   },
   {
    "duration": 0,
    "start_time": "2022-05-23T09:48:07.743Z"
   },
   {
    "duration": 0,
    "start_time": "2022-05-23T09:48:07.744Z"
   },
   {
    "duration": 0,
    "start_time": "2022-05-23T09:48:07.746Z"
   },
   {
    "duration": 0,
    "start_time": "2022-05-23T09:48:07.747Z"
   },
   {
    "duration": 0,
    "start_time": "2022-05-23T09:48:07.748Z"
   },
   {
    "duration": 0,
    "start_time": "2022-05-23T09:48:07.749Z"
   },
   {
    "duration": 0,
    "start_time": "2022-05-23T09:48:07.750Z"
   },
   {
    "duration": 0,
    "start_time": "2022-05-23T09:48:07.752Z"
   },
   {
    "duration": 0,
    "start_time": "2022-05-23T09:48:07.752Z"
   },
   {
    "duration": 0,
    "start_time": "2022-05-23T09:48:07.754Z"
   },
   {
    "duration": 0,
    "start_time": "2022-05-23T09:48:07.755Z"
   },
   {
    "duration": 0,
    "start_time": "2022-05-23T09:48:07.756Z"
   },
   {
    "duration": 0,
    "start_time": "2022-05-23T09:48:07.757Z"
   },
   {
    "duration": 0,
    "start_time": "2022-05-23T09:48:07.758Z"
   },
   {
    "duration": 0,
    "start_time": "2022-05-23T09:48:07.796Z"
   },
   {
    "duration": 0,
    "start_time": "2022-05-23T09:48:07.797Z"
   },
   {
    "duration": 0,
    "start_time": "2022-05-23T09:48:07.798Z"
   },
   {
    "duration": 0,
    "start_time": "2022-05-23T09:48:07.802Z"
   },
   {
    "duration": 18,
    "start_time": "2022-05-23T09:51:58.640Z"
   },
   {
    "duration": 25,
    "start_time": "2022-05-23T09:52:32.344Z"
   },
   {
    "duration": 1126,
    "start_time": "2022-05-23T09:53:05.320Z"
   },
   {
    "duration": 74,
    "start_time": "2022-05-23T09:53:06.449Z"
   },
   {
    "duration": 8,
    "start_time": "2022-05-23T09:53:06.524Z"
   },
   {
    "duration": 26,
    "start_time": "2022-05-23T09:53:06.534Z"
   },
   {
    "duration": 8,
    "start_time": "2022-05-23T09:53:06.561Z"
   },
   {
    "duration": 15,
    "start_time": "2022-05-23T09:53:06.570Z"
   },
   {
    "duration": 115,
    "start_time": "2022-05-23T09:53:06.586Z"
   },
   {
    "duration": 0,
    "start_time": "2022-05-23T09:53:06.703Z"
   },
   {
    "duration": 0,
    "start_time": "2022-05-23T09:53:06.704Z"
   },
   {
    "duration": 0,
    "start_time": "2022-05-23T09:53:06.705Z"
   },
   {
    "duration": 0,
    "start_time": "2022-05-23T09:53:06.705Z"
   },
   {
    "duration": 0,
    "start_time": "2022-05-23T09:53:06.706Z"
   },
   {
    "duration": 0,
    "start_time": "2022-05-23T09:53:06.706Z"
   },
   {
    "duration": 0,
    "start_time": "2022-05-23T09:53:06.707Z"
   },
   {
    "duration": 0,
    "start_time": "2022-05-23T09:53:06.709Z"
   },
   {
    "duration": 0,
    "start_time": "2022-05-23T09:53:06.710Z"
   },
   {
    "duration": 0,
    "start_time": "2022-05-23T09:53:06.712Z"
   },
   {
    "duration": 0,
    "start_time": "2022-05-23T09:53:06.713Z"
   },
   {
    "duration": 0,
    "start_time": "2022-05-23T09:53:06.715Z"
   },
   {
    "duration": 0,
    "start_time": "2022-05-23T09:53:06.716Z"
   },
   {
    "duration": 0,
    "start_time": "2022-05-23T09:53:06.717Z"
   },
   {
    "duration": 1,
    "start_time": "2022-05-23T09:53:06.719Z"
   },
   {
    "duration": 0,
    "start_time": "2022-05-23T09:53:06.721Z"
   },
   {
    "duration": 0,
    "start_time": "2022-05-23T09:53:06.722Z"
   },
   {
    "duration": 0,
    "start_time": "2022-05-23T09:53:06.724Z"
   },
   {
    "duration": 0,
    "start_time": "2022-05-23T09:53:06.725Z"
   },
   {
    "duration": 0,
    "start_time": "2022-05-23T09:53:06.726Z"
   },
   {
    "duration": 0,
    "start_time": "2022-05-23T09:53:06.728Z"
   },
   {
    "duration": 0,
    "start_time": "2022-05-23T09:53:06.729Z"
   },
   {
    "duration": 30,
    "start_time": "2022-05-23T09:53:39.410Z"
   },
   {
    "duration": 36,
    "start_time": "2022-05-23T09:54:08.207Z"
   },
   {
    "duration": 33,
    "start_time": "2022-05-23T09:56:16.021Z"
   },
   {
    "duration": 156,
    "start_time": "2022-05-23T10:00:02.956Z"
   },
   {
    "duration": 578,
    "start_time": "2022-05-23T11:12:14.785Z"
   },
   {
    "duration": 17,
    "start_time": "2022-05-23T11:12:28.951Z"
   },
   {
    "duration": 18,
    "start_time": "2022-05-23T11:12:43.277Z"
   },
   {
    "duration": 1268,
    "start_time": "2022-05-23T11:16:34.104Z"
   },
   {
    "duration": 80,
    "start_time": "2022-05-23T11:16:35.374Z"
   },
   {
    "duration": 10,
    "start_time": "2022-05-23T11:16:35.456Z"
   },
   {
    "duration": 72,
    "start_time": "2022-05-23T11:16:35.469Z"
   },
   {
    "duration": 87,
    "start_time": "2022-05-23T11:16:35.543Z"
   },
   {
    "duration": 24,
    "start_time": "2022-05-23T11:16:35.632Z"
   },
   {
    "duration": 70,
    "start_time": "2022-05-23T11:16:35.658Z"
   },
   {
    "duration": 22,
    "start_time": "2022-05-23T11:16:35.732Z"
   },
   {
    "duration": 563,
    "start_time": "2022-05-23T11:16:35.756Z"
   },
   {
    "duration": 135,
    "start_time": "2022-05-23T11:16:36.322Z"
   },
   {
    "duration": 0,
    "start_time": "2022-05-23T11:16:36.458Z"
   },
   {
    "duration": 0,
    "start_time": "2022-05-23T11:16:36.459Z"
   },
   {
    "duration": 0,
    "start_time": "2022-05-23T11:16:36.460Z"
   },
   {
    "duration": 0,
    "start_time": "2022-05-23T11:16:36.461Z"
   },
   {
    "duration": 0,
    "start_time": "2022-05-23T11:16:36.462Z"
   },
   {
    "duration": 0,
    "start_time": "2022-05-23T11:16:36.463Z"
   },
   {
    "duration": 0,
    "start_time": "2022-05-23T11:16:36.464Z"
   },
   {
    "duration": 0,
    "start_time": "2022-05-23T11:16:36.465Z"
   },
   {
    "duration": 0,
    "start_time": "2022-05-23T11:16:36.466Z"
   },
   {
    "duration": 0,
    "start_time": "2022-05-23T11:16:36.468Z"
   },
   {
    "duration": 412,
    "start_time": "2022-05-23T11:16:59.516Z"
   },
   {
    "duration": 1005,
    "start_time": "2022-05-23T11:41:39.330Z"
   },
   {
    "duration": 1176,
    "start_time": "2022-05-23T11:42:14.230Z"
   },
   {
    "duration": 70,
    "start_time": "2022-05-23T11:42:15.408Z"
   },
   {
    "duration": 8,
    "start_time": "2022-05-23T11:42:15.495Z"
   },
   {
    "duration": 21,
    "start_time": "2022-05-23T11:42:15.505Z"
   },
   {
    "duration": 24,
    "start_time": "2022-05-23T11:42:15.528Z"
   },
   {
    "duration": 4,
    "start_time": "2022-05-23T11:42:15.554Z"
   },
   {
    "duration": 58,
    "start_time": "2022-05-23T11:42:15.560Z"
   },
   {
    "duration": 22,
    "start_time": "2022-05-23T11:42:15.620Z"
   },
   {
    "duration": 434,
    "start_time": "2022-05-23T11:42:15.644Z"
   },
   {
    "duration": 1013,
    "start_time": "2022-05-23T11:42:16.081Z"
   },
   {
    "duration": 125,
    "start_time": "2022-05-23T11:42:17.096Z"
   },
   {
    "duration": 0,
    "start_time": "2022-05-23T11:42:17.223Z"
   },
   {
    "duration": 0,
    "start_time": "2022-05-23T11:42:17.225Z"
   },
   {
    "duration": 0,
    "start_time": "2022-05-23T11:42:17.227Z"
   },
   {
    "duration": 0,
    "start_time": "2022-05-23T11:42:17.228Z"
   },
   {
    "duration": 0,
    "start_time": "2022-05-23T11:42:17.230Z"
   },
   {
    "duration": 0,
    "start_time": "2022-05-23T11:42:17.231Z"
   },
   {
    "duration": 0,
    "start_time": "2022-05-23T11:42:17.232Z"
   },
   {
    "duration": 0,
    "start_time": "2022-05-23T11:42:17.234Z"
   },
   {
    "duration": 0,
    "start_time": "2022-05-23T11:42:17.236Z"
   },
   {
    "duration": 0,
    "start_time": "2022-05-23T11:42:17.237Z"
   },
   {
    "duration": 348,
    "start_time": "2022-05-23T11:48:23.577Z"
   },
   {
    "duration": 345,
    "start_time": "2022-05-23T11:48:38.563Z"
   },
   {
    "duration": 3,
    "start_time": "2022-05-23T12:01:45.112Z"
   },
   {
    "duration": 678,
    "start_time": "2022-05-23T12:01:45.609Z"
   },
   {
    "duration": 797,
    "start_time": "2022-05-23T12:06:06.423Z"
   },
   {
    "duration": 2,
    "start_time": "2022-05-23T12:06:24.951Z"
   },
   {
    "duration": 10,
    "start_time": "2022-05-23T12:06:29.204Z"
   },
   {
    "duration": 1367,
    "start_time": "2022-05-23T12:06:30.229Z"
   },
   {
    "duration": 20,
    "start_time": "2022-05-23T12:35:06.828Z"
   },
   {
    "duration": 18,
    "start_time": "2022-05-23T12:35:47.388Z"
   },
   {
    "duration": 222,
    "start_time": "2022-05-23T12:35:54.942Z"
   },
   {
    "duration": 16,
    "start_time": "2022-05-23T12:41:49.978Z"
   },
   {
    "duration": 582,
    "start_time": "2022-05-23T12:42:01.580Z"
   },
   {
    "duration": 604,
    "start_time": "2022-05-23T12:42:26.931Z"
   },
   {
    "duration": 15,
    "start_time": "2022-05-23T12:43:22.559Z"
   },
   {
    "duration": 1200,
    "start_time": "2022-05-23T12:43:32.274Z"
   },
   {
    "duration": 542,
    "start_time": "2022-05-23T12:45:10.750Z"
   },
   {
    "duration": 328,
    "start_time": "2022-05-23T12:45:28.152Z"
   },
   {
    "duration": 373,
    "start_time": "2022-05-23T12:47:40.555Z"
   },
   {
    "duration": 423,
    "start_time": "2022-05-23T12:47:47.252Z"
   },
   {
    "duration": 315,
    "start_time": "2022-05-23T12:48:02.613Z"
   },
   {
    "duration": 17,
    "start_time": "2022-05-23T12:49:29.088Z"
   },
   {
    "duration": 782,
    "start_time": "2022-05-23T12:51:14.713Z"
   },
   {
    "duration": 961,
    "start_time": "2022-05-23T12:51:24.910Z"
   },
   {
    "duration": 358,
    "start_time": "2022-05-23T12:51:44.047Z"
   },
   {
    "duration": 382,
    "start_time": "2022-05-23T12:54:16.683Z"
   },
   {
    "duration": 355,
    "start_time": "2022-05-23T13:04:53.728Z"
   },
   {
    "duration": 448,
    "start_time": "2022-05-23T13:05:15.519Z"
   },
   {
    "duration": 572,
    "start_time": "2022-05-23T13:05:24.848Z"
   },
   {
    "duration": 439,
    "start_time": "2022-05-23T13:05:39.322Z"
   },
   {
    "duration": 564,
    "start_time": "2022-05-23T13:05:47.928Z"
   },
   {
    "duration": 396,
    "start_time": "2022-05-23T13:06:24.824Z"
   },
   {
    "duration": 503,
    "start_time": "2022-05-23T13:11:28.369Z"
   },
   {
    "duration": 421,
    "start_time": "2022-05-23T13:12:29.342Z"
   },
   {
    "duration": 425,
    "start_time": "2022-05-23T13:13:16.311Z"
   },
   {
    "duration": 411,
    "start_time": "2022-05-23T13:13:31.910Z"
   },
   {
    "duration": 524,
    "start_time": "2022-05-23T13:13:39.924Z"
   },
   {
    "duration": 435,
    "start_time": "2022-05-23T13:13:47.373Z"
   },
   {
    "duration": 188,
    "start_time": "2022-05-23T13:14:30.215Z"
   },
   {
    "duration": 357,
    "start_time": "2022-05-23T13:15:04.113Z"
   },
   {
    "duration": 57,
    "start_time": "2022-05-23T13:16:19.819Z"
   },
   {
    "duration": 55,
    "start_time": "2022-05-23T13:16:38.292Z"
   },
   {
    "duration": 1194,
    "start_time": "2022-05-23T13:17:20.490Z"
   },
   {
    "duration": 63,
    "start_time": "2022-05-23T13:17:21.686Z"
   },
   {
    "duration": 7,
    "start_time": "2022-05-23T13:17:21.751Z"
   },
   {
    "duration": 20,
    "start_time": "2022-05-23T13:17:21.760Z"
   },
   {
    "duration": 24,
    "start_time": "2022-05-23T13:17:21.798Z"
   },
   {
    "duration": 5,
    "start_time": "2022-05-23T13:17:21.824Z"
   },
   {
    "duration": 40,
    "start_time": "2022-05-23T13:17:21.830Z"
   },
   {
    "duration": 44,
    "start_time": "2022-05-23T13:17:21.872Z"
   },
   {
    "duration": 439,
    "start_time": "2022-05-23T13:17:21.919Z"
   },
   {
    "duration": 367,
    "start_time": "2022-05-23T13:17:22.360Z"
   },
   {
    "duration": 2,
    "start_time": "2022-05-23T13:17:22.729Z"
   },
   {
    "duration": 1209,
    "start_time": "2022-05-23T13:17:22.733Z"
   },
   {
    "duration": 230,
    "start_time": "2022-05-23T13:17:23.943Z"
   },
   {
    "duration": 356,
    "start_time": "2022-05-23T13:17:24.175Z"
   },
   {
    "duration": 357,
    "start_time": "2022-05-23T13:17:24.533Z"
   },
   {
    "duration": 56,
    "start_time": "2022-05-23T13:17:24.894Z"
   },
   {
    "duration": 50,
    "start_time": "2022-05-23T13:17:38.404Z"
   },
   {
    "duration": 460,
    "start_time": "2022-05-23T13:34:04.898Z"
   },
   {
    "duration": 360,
    "start_time": "2022-05-23T13:34:12.584Z"
   },
   {
    "duration": 313,
    "start_time": "2022-05-23T13:34:58.436Z"
   },
   {
    "duration": 251,
    "start_time": "2022-05-23T13:37:21.586Z"
   },
   {
    "duration": 266,
    "start_time": "2022-05-23T13:37:39.657Z"
   },
   {
    "duration": 264,
    "start_time": "2022-05-23T13:38:07.821Z"
   },
   {
    "duration": 9,
    "start_time": "2022-05-23T13:41:26.872Z"
   },
   {
    "duration": 214,
    "start_time": "2022-05-23T13:41:44.510Z"
   },
   {
    "duration": 424,
    "start_time": "2022-05-23T13:48:08.637Z"
   },
   {
    "duration": 503,
    "start_time": "2022-05-23T13:48:38.232Z"
   },
   {
    "duration": 442,
    "start_time": "2022-05-23T13:48:50.819Z"
   },
   {
    "duration": 1861,
    "start_time": "2022-05-23T14:14:52.243Z"
   },
   {
    "duration": 18,
    "start_time": "2022-05-23T14:16:36.520Z"
   },
   {
    "duration": 15,
    "start_time": "2022-05-23T14:17:14.668Z"
   },
   {
    "duration": 5,
    "start_time": "2022-05-23T14:36:03.358Z"
   },
   {
    "duration": 48,
    "start_time": "2022-05-23T14:36:23.114Z"
   },
   {
    "duration": 664,
    "start_time": "2022-05-23T14:36:34.855Z"
   },
   {
    "duration": 36,
    "start_time": "2022-05-23T14:36:51.180Z"
   },
   {
    "duration": 45,
    "start_time": "2022-05-23T14:37:10.963Z"
   },
   {
    "duration": 67,
    "start_time": "2022-05-23T14:37:20.932Z"
   },
   {
    "duration": 97,
    "start_time": "2022-05-23T14:37:28.193Z"
   },
   {
    "duration": 35,
    "start_time": "2022-05-23T14:40:26.063Z"
   },
   {
    "duration": 43,
    "start_time": "2022-05-23T14:40:57.381Z"
   },
   {
    "duration": 29,
    "start_time": "2022-05-23T14:41:19.232Z"
   },
   {
    "duration": 27,
    "start_time": "2022-05-23T14:41:48.922Z"
   },
   {
    "duration": 33,
    "start_time": "2022-05-23T14:42:27.112Z"
   },
   {
    "duration": 33,
    "start_time": "2022-05-23T14:49:03.816Z"
   },
   {
    "duration": 33,
    "start_time": "2022-05-23T14:49:59.035Z"
   },
   {
    "duration": 58,
    "start_time": "2022-05-23T14:50:25.505Z"
   },
   {
    "duration": 30,
    "start_time": "2022-05-23T14:50:35.948Z"
   },
   {
    "duration": 33,
    "start_time": "2022-05-23T14:50:45.248Z"
   },
   {
    "duration": 52,
    "start_time": "2022-05-23T14:55:47.261Z"
   },
   {
    "duration": 49,
    "start_time": "2022-05-23T14:56:06.474Z"
   },
   {
    "duration": 42,
    "start_time": "2022-05-23T14:57:22.787Z"
   },
   {
    "duration": 43,
    "start_time": "2022-05-23T14:58:22.152Z"
   },
   {
    "duration": 44,
    "start_time": "2022-05-23T14:59:14.115Z"
   },
   {
    "duration": 2051,
    "start_time": "2022-05-23T15:11:40.266Z"
   },
   {
    "duration": 19,
    "start_time": "2022-05-23T15:12:00.280Z"
   },
   {
    "duration": 31,
    "start_time": "2022-05-23T15:12:31.570Z"
   },
   {
    "duration": 16,
    "start_time": "2022-05-23T15:45:02.892Z"
   },
   {
    "duration": 192,
    "start_time": "2022-05-23T15:45:39.665Z"
   },
   {
    "duration": 7,
    "start_time": "2022-05-23T15:53:14.513Z"
   },
   {
    "duration": 10,
    "start_time": "2022-05-23T16:27:10.010Z"
   },
   {
    "duration": 24,
    "start_time": "2022-05-23T16:27:17.589Z"
   },
   {
    "duration": 17,
    "start_time": "2022-05-23T16:27:50.559Z"
   },
   {
    "duration": 16,
    "start_time": "2022-05-23T16:28:28.169Z"
   },
   {
    "duration": 14,
    "start_time": "2022-05-23T16:28:41.274Z"
   },
   {
    "duration": 18,
    "start_time": "2022-05-23T16:28:52.613Z"
   },
   {
    "duration": 18,
    "start_time": "2022-05-23T16:29:08.562Z"
   },
   {
    "duration": 17,
    "start_time": "2022-05-23T16:29:38.335Z"
   },
   {
    "duration": 15,
    "start_time": "2022-05-23T16:29:46.275Z"
   },
   {
    "duration": 39,
    "start_time": "2022-05-23T16:37:24.724Z"
   },
   {
    "duration": 12,
    "start_time": "2022-05-23T16:37:33.359Z"
   },
   {
    "duration": 14,
    "start_time": "2022-05-23T16:37:45.374Z"
   },
   {
    "duration": 317,
    "start_time": "2022-05-23T16:42:54.188Z"
   },
   {
    "duration": 7,
    "start_time": "2022-05-23T16:43:50.058Z"
   },
   {
    "duration": 9,
    "start_time": "2022-05-23T16:44:04.111Z"
   },
   {
    "duration": 323,
    "start_time": "2022-05-23T16:44:42.318Z"
   },
   {
    "duration": 163,
    "start_time": "2022-05-23T16:45:14.891Z"
   },
   {
    "duration": 147,
    "start_time": "2022-05-23T16:45:33.985Z"
   },
   {
    "duration": 377,
    "start_time": "2022-05-23T16:46:19.366Z"
   },
   {
    "duration": 626,
    "start_time": "2022-05-23T16:46:45.183Z"
   },
   {
    "duration": 426,
    "start_time": "2022-05-23T16:49:27.042Z"
   },
   {
    "duration": 386,
    "start_time": "2022-05-23T16:51:16.849Z"
   },
   {
    "duration": 1198,
    "start_time": "2022-05-23T17:01:07.134Z"
   },
   {
    "duration": 1382,
    "start_time": "2022-05-23T17:03:23.409Z"
   },
   {
    "duration": 13,
    "start_time": "2022-05-23T17:28:04.283Z"
   },
   {
    "duration": 16,
    "start_time": "2022-05-23T17:28:14.753Z"
   },
   {
    "duration": 7,
    "start_time": "2022-05-23T17:28:16.069Z"
   },
   {
    "duration": 9,
    "start_time": "2022-05-23T17:29:22.691Z"
   },
   {
    "duration": 8,
    "start_time": "2022-05-23T17:35:39.731Z"
   },
   {
    "duration": 6,
    "start_time": "2022-05-23T17:35:59.674Z"
   },
   {
    "duration": 1198,
    "start_time": "2022-05-23T17:44:42.820Z"
   },
   {
    "duration": 55,
    "start_time": "2022-05-23T17:44:44.020Z"
   },
   {
    "duration": 36,
    "start_time": "2022-05-23T17:44:44.076Z"
   },
   {
    "duration": 16,
    "start_time": "2022-05-23T17:44:44.114Z"
   },
   {
    "duration": 23,
    "start_time": "2022-05-23T17:44:44.132Z"
   },
   {
    "duration": 5,
    "start_time": "2022-05-23T17:44:44.157Z"
   },
   {
    "duration": 59,
    "start_time": "2022-05-23T17:44:44.163Z"
   },
   {
    "duration": 22,
    "start_time": "2022-05-23T17:44:44.223Z"
   },
   {
    "duration": 467,
    "start_time": "2022-05-23T17:44:44.247Z"
   },
   {
    "duration": 363,
    "start_time": "2022-05-23T17:44:44.717Z"
   },
   {
    "duration": 2,
    "start_time": "2022-05-23T17:44:45.082Z"
   },
   {
    "duration": 1321,
    "start_time": "2022-05-23T17:44:45.086Z"
   },
   {
    "duration": 225,
    "start_time": "2022-05-23T17:44:46.410Z"
   },
   {
    "duration": 405,
    "start_time": "2022-05-23T17:44:46.636Z"
   },
   {
    "duration": 547,
    "start_time": "2022-05-23T17:44:47.043Z"
   },
   {
    "duration": 60,
    "start_time": "2022-05-23T17:44:47.592Z"
   },
   {
    "duration": 3171,
    "start_time": "2022-05-23T17:44:47.654Z"
   },
   {
    "duration": 13,
    "start_time": "2022-05-23T17:44:50.827Z"
   },
   {
    "duration": 75,
    "start_time": "2022-05-23T17:44:50.841Z"
   },
   {
    "duration": 84,
    "start_time": "2022-05-23T17:44:50.919Z"
   },
   {
    "duration": 432,
    "start_time": "2022-05-23T17:44:51.005Z"
   },
   {
    "duration": 63,
    "start_time": "2022-05-23T17:44:51.439Z"
   },
   {
    "duration": 2163,
    "start_time": "2022-05-23T17:44:51.504Z"
   },
   {
    "duration": 9,
    "start_time": "2022-05-23T17:44:53.670Z"
   },
   {
    "duration": 20,
    "start_time": "2022-05-23T17:44:53.681Z"
   },
   {
    "duration": 20,
    "start_time": "2022-05-23T17:44:53.709Z"
   },
   {
    "duration": 0,
    "start_time": "2022-05-23T17:44:53.731Z"
   },
   {
    "duration": 0,
    "start_time": "2022-05-23T17:44:53.732Z"
   },
   {
    "duration": 398,
    "start_time": "2022-05-23T17:45:39.816Z"
   },
   {
    "duration": 117,
    "start_time": "2022-05-23T17:56:18.645Z"
   },
   {
    "duration": 9,
    "start_time": "2022-05-23T17:56:20.849Z"
   },
   {
    "duration": 5,
    "start_time": "2022-05-23T17:56:22.576Z"
   },
   {
    "duration": 3,
    "start_time": "2022-05-23T17:57:08.660Z"
   },
   {
    "duration": 59,
    "start_time": "2022-05-23T18:01:53.490Z"
   },
   {
    "duration": 1403,
    "start_time": "2022-05-23T18:13:10.461Z"
   },
   {
    "duration": 73,
    "start_time": "2022-05-23T18:13:11.867Z"
   },
   {
    "duration": 12,
    "start_time": "2022-05-23T18:13:11.942Z"
   },
   {
    "duration": 59,
    "start_time": "2022-05-23T18:13:11.956Z"
   },
   {
    "duration": 41,
    "start_time": "2022-05-23T18:13:12.018Z"
   },
   {
    "duration": 7,
    "start_time": "2022-05-23T18:13:12.062Z"
   },
   {
    "duration": 55,
    "start_time": "2022-05-23T18:13:12.071Z"
   },
   {
    "duration": 28,
    "start_time": "2022-05-23T18:13:12.128Z"
   },
   {
    "duration": 628,
    "start_time": "2022-05-23T18:13:12.158Z"
   },
   {
    "duration": 473,
    "start_time": "2022-05-23T18:13:12.794Z"
   },
   {
    "duration": 4,
    "start_time": "2022-05-23T18:13:13.270Z"
   },
   {
    "duration": 1584,
    "start_time": "2022-05-23T18:13:13.276Z"
   },
   {
    "duration": 283,
    "start_time": "2022-05-23T18:13:14.863Z"
   },
   {
    "duration": 479,
    "start_time": "2022-05-23T18:13:15.150Z"
   },
   {
    "duration": 610,
    "start_time": "2022-05-23T18:13:15.631Z"
   },
   {
    "duration": 73,
    "start_time": "2022-05-23T18:13:16.242Z"
   },
   {
    "duration": 2371,
    "start_time": "2022-05-23T18:13:16.319Z"
   },
   {
    "duration": 18,
    "start_time": "2022-05-23T18:13:18.695Z"
   },
   {
    "duration": 36,
    "start_time": "2022-05-23T18:13:18.715Z"
   },
   {
    "duration": 44,
    "start_time": "2022-05-23T18:13:18.753Z"
   },
   {
    "duration": 291,
    "start_time": "2022-05-23T18:13:18.800Z"
   },
   {
    "duration": 10,
    "start_time": "2022-05-23T18:13:19.095Z"
   },
   {
    "duration": 1287,
    "start_time": "2022-05-23T18:13:19.107Z"
   },
   {
    "duration": 11,
    "start_time": "2022-05-23T18:13:20.396Z"
   },
   {
    "duration": 14,
    "start_time": "2022-05-23T18:13:20.409Z"
   },
   {
    "duration": 21,
    "start_time": "2022-05-23T18:13:20.426Z"
   },
   {
    "duration": 6,
    "start_time": "2022-05-23T18:13:20.450Z"
   },
   {
    "duration": 1170,
    "start_time": "2022-05-24T09:06:01.187Z"
   },
   {
    "duration": 54,
    "start_time": "2022-05-24T09:06:02.359Z"
   },
   {
    "duration": 12,
    "start_time": "2022-05-24T09:06:02.415Z"
   },
   {
    "duration": 31,
    "start_time": "2022-05-24T09:06:02.429Z"
   },
   {
    "duration": 48,
    "start_time": "2022-05-24T09:06:02.462Z"
   },
   {
    "duration": 12,
    "start_time": "2022-05-24T09:06:02.512Z"
   },
   {
    "duration": 73,
    "start_time": "2022-05-24T09:06:02.526Z"
   },
   {
    "duration": 18,
    "start_time": "2022-05-24T09:06:02.601Z"
   },
   {
    "duration": 486,
    "start_time": "2022-05-24T09:06:02.621Z"
   },
   {
    "duration": 349,
    "start_time": "2022-05-24T09:06:03.111Z"
   },
   {
    "duration": 3,
    "start_time": "2022-05-24T09:06:03.462Z"
   },
   {
    "duration": 1149,
    "start_time": "2022-05-24T09:06:03.466Z"
   },
   {
    "duration": 223,
    "start_time": "2022-05-24T09:06:04.616Z"
   },
   {
    "duration": 353,
    "start_time": "2022-05-24T09:06:04.840Z"
   },
   {
    "duration": 459,
    "start_time": "2022-05-24T09:06:05.196Z"
   },
   {
    "duration": 82,
    "start_time": "2022-05-24T09:06:05.657Z"
   },
   {
    "duration": 1622,
    "start_time": "2022-05-24T09:06:05.742Z"
   },
   {
    "duration": 17,
    "start_time": "2022-05-24T09:06:07.366Z"
   },
   {
    "duration": 22,
    "start_time": "2022-05-24T09:06:07.385Z"
   },
   {
    "duration": 13,
    "start_time": "2022-05-24T09:06:07.409Z"
   },
   {
    "duration": 216,
    "start_time": "2022-05-24T09:06:07.424Z"
   },
   {
    "duration": 6,
    "start_time": "2022-05-24T09:06:07.641Z"
   },
   {
    "duration": 987,
    "start_time": "2022-05-24T09:06:07.649Z"
   },
   {
    "duration": 9,
    "start_time": "2022-05-24T09:06:08.638Z"
   },
   {
    "duration": 8,
    "start_time": "2022-05-24T09:06:08.648Z"
   },
   {
    "duration": 21,
    "start_time": "2022-05-24T09:06:08.657Z"
   },
   {
    "duration": 4,
    "start_time": "2022-05-24T09:06:08.680Z"
   },
   {
    "duration": 75,
    "start_time": "2022-05-24T10:52:34.975Z"
   },
   {
    "duration": 54,
    "start_time": "2022-05-25T11:55:03.561Z"
   },
   {
    "duration": 1567,
    "start_time": "2022-05-25T11:55:18.555Z"
   },
   {
    "duration": 65,
    "start_time": "2022-05-25T11:55:20.125Z"
   },
   {
    "duration": 7,
    "start_time": "2022-05-25T11:55:20.192Z"
   },
   {
    "duration": 40,
    "start_time": "2022-05-25T11:55:20.202Z"
   },
   {
    "duration": 24,
    "start_time": "2022-05-25T11:55:20.244Z"
   },
   {
    "duration": 4,
    "start_time": "2022-05-25T11:55:20.270Z"
   },
   {
    "duration": 65,
    "start_time": "2022-05-25T11:55:20.276Z"
   },
   {
    "duration": 22,
    "start_time": "2022-05-25T11:55:20.343Z"
   },
   {
    "duration": 478,
    "start_time": "2022-05-25T11:55:20.367Z"
   },
   {
    "duration": 374,
    "start_time": "2022-05-25T11:55:20.849Z"
   },
   {
    "duration": 3,
    "start_time": "2022-05-25T11:55:21.225Z"
   },
   {
    "duration": 1290,
    "start_time": "2022-05-25T11:55:21.230Z"
   },
   {
    "duration": 243,
    "start_time": "2022-05-25T11:55:22.525Z"
   },
   {
    "duration": 356,
    "start_time": "2022-05-25T11:55:22.770Z"
   },
   {
    "duration": 357,
    "start_time": "2022-05-25T11:55:23.128Z"
   },
   {
    "duration": 38,
    "start_time": "2022-05-25T11:55:23.487Z"
   },
   {
    "duration": 2871,
    "start_time": "2022-05-25T11:55:23.527Z"
   },
   {
    "duration": 12,
    "start_time": "2022-05-25T11:55:26.399Z"
   },
   {
    "duration": 38,
    "start_time": "2022-05-25T11:55:26.413Z"
   },
   {
    "duration": 18,
    "start_time": "2022-05-25T11:55:26.453Z"
   },
   {
    "duration": 241,
    "start_time": "2022-05-25T11:55:26.473Z"
   },
   {
    "duration": 13,
    "start_time": "2022-05-25T11:55:26.716Z"
   },
   {
    "duration": 988,
    "start_time": "2022-05-25T11:55:26.731Z"
   },
   {
    "duration": 8,
    "start_time": "2022-05-25T11:55:27.724Z"
   },
   {
    "duration": 31,
    "start_time": "2022-05-25T11:55:27.734Z"
   },
   {
    "duration": 32,
    "start_time": "2022-05-25T11:55:27.767Z"
   },
   {
    "duration": 10,
    "start_time": "2022-05-25T11:55:27.800Z"
   },
   {
    "duration": 21,
    "start_time": "2022-05-25T12:08:37.540Z"
   },
   {
    "duration": 268,
    "start_time": "2022-05-25T12:08:39.391Z"
   },
   {
    "duration": 129,
    "start_time": "2022-05-25T12:13:06.339Z"
   },
   {
    "duration": 22,
    "start_time": "2022-05-25T12:13:22.205Z"
   },
   {
    "duration": 15,
    "start_time": "2022-05-25T12:13:36.654Z"
   },
   {
    "duration": 20,
    "start_time": "2022-05-25T12:13:47.611Z"
   },
   {
    "duration": 30,
    "start_time": "2022-05-25T12:13:53.884Z"
   },
   {
    "duration": 15,
    "start_time": "2022-05-25T12:14:43.994Z"
   },
   {
    "duration": 209,
    "start_time": "2022-05-25T12:14:46.662Z"
   },
   {
    "duration": 6,
    "start_time": "2022-05-25T12:15:55.355Z"
   },
   {
    "duration": 11,
    "start_time": "2022-05-25T12:16:17.410Z"
   },
   {
    "duration": 15,
    "start_time": "2022-05-25T12:16:22.211Z"
   },
   {
    "duration": 12,
    "start_time": "2022-05-25T12:16:25.001Z"
   },
   {
    "duration": 22,
    "start_time": "2022-05-25T12:16:28.317Z"
   },
   {
    "duration": 6,
    "start_time": "2022-05-25T12:16:34.770Z"
   },
   {
    "duration": 11,
    "start_time": "2022-05-25T12:17:08.568Z"
   },
   {
    "duration": 7,
    "start_time": "2022-05-25T12:17:15.382Z"
   },
   {
    "duration": 18,
    "start_time": "2022-05-25T12:47:13.438Z"
   },
   {
    "duration": 36,
    "start_time": "2022-05-25T12:48:19.362Z"
   },
   {
    "duration": 36,
    "start_time": "2022-05-25T12:48:25.486Z"
   },
   {
    "duration": 11,
    "start_time": "2022-05-25T12:48:31.960Z"
   },
   {
    "duration": 10,
    "start_time": "2022-05-25T12:48:54.370Z"
   },
   {
    "duration": 10,
    "start_time": "2022-05-25T12:50:34.139Z"
   },
   {
    "duration": 17,
    "start_time": "2022-05-25T12:55:11.672Z"
   },
   {
    "duration": 24,
    "start_time": "2022-05-25T12:55:30.892Z"
   },
   {
    "duration": 19,
    "start_time": "2022-05-25T13:08:56.896Z"
   },
   {
    "duration": 11,
    "start_time": "2022-05-25T13:10:01.556Z"
   },
   {
    "duration": 1293,
    "start_time": "2022-05-25T13:10:26.684Z"
   },
   {
    "duration": 58,
    "start_time": "2022-05-25T13:10:27.979Z"
   },
   {
    "duration": 10,
    "start_time": "2022-05-25T13:10:28.039Z"
   },
   {
    "duration": 22,
    "start_time": "2022-05-25T13:10:28.055Z"
   },
   {
    "duration": 20,
    "start_time": "2022-05-25T13:10:28.079Z"
   },
   {
    "duration": 4,
    "start_time": "2022-05-25T13:10:28.101Z"
   },
   {
    "duration": 63,
    "start_time": "2022-05-25T13:10:28.107Z"
   },
   {
    "duration": 21,
    "start_time": "2022-05-25T13:10:28.172Z"
   },
   {
    "duration": 501,
    "start_time": "2022-05-25T13:10:28.194Z"
   },
   {
    "duration": 398,
    "start_time": "2022-05-25T13:10:28.698Z"
   },
   {
    "duration": 3,
    "start_time": "2022-05-25T13:10:29.097Z"
   },
   {
    "duration": 1389,
    "start_time": "2022-05-25T13:10:29.102Z"
   },
   {
    "duration": 214,
    "start_time": "2022-05-25T13:10:30.494Z"
   },
   {
    "duration": 389,
    "start_time": "2022-05-25T13:10:30.710Z"
   },
   {
    "duration": 417,
    "start_time": "2022-05-25T13:10:31.101Z"
   },
   {
    "duration": 54,
    "start_time": "2022-05-25T13:10:31.520Z"
   },
   {
    "duration": 2496,
    "start_time": "2022-05-25T13:10:31.577Z"
   },
   {
    "duration": 23,
    "start_time": "2022-05-25T13:10:34.127Z"
   },
   {
    "duration": 86,
    "start_time": "2022-05-25T13:10:34.152Z"
   },
   {
    "duration": 32,
    "start_time": "2022-05-25T13:10:34.242Z"
   },
   {
    "duration": 590,
    "start_time": "2022-05-25T13:10:34.276Z"
   },
   {
    "duration": 77,
    "start_time": "2022-05-25T13:10:34.868Z"
   },
   {
    "duration": 517,
    "start_time": "2022-05-25T13:10:34.950Z"
   },
   {
    "duration": 8,
    "start_time": "2022-05-25T13:10:35.469Z"
   },
   {
    "duration": 1212,
    "start_time": "2022-05-25T13:10:35.478Z"
   },
   {
    "duration": 167,
    "start_time": "2022-05-25T13:10:36.693Z"
   },
   {
    "duration": 0,
    "start_time": "2022-05-25T13:10:36.864Z"
   },
   {
    "duration": 0,
    "start_time": "2022-05-25T13:10:36.865Z"
   },
   {
    "duration": 0,
    "start_time": "2022-05-25T13:10:36.869Z"
   },
   {
    "duration": 0,
    "start_time": "2022-05-25T13:10:36.870Z"
   },
   {
    "duration": 0,
    "start_time": "2022-05-25T13:10:36.874Z"
   },
   {
    "duration": 12,
    "start_time": "2022-05-25T13:10:46.104Z"
   },
   {
    "duration": 12,
    "start_time": "2022-05-25T13:12:03.688Z"
   },
   {
    "duration": 1321,
    "start_time": "2022-05-25T13:12:24.042Z"
   },
   {
    "duration": 80,
    "start_time": "2022-05-25T13:12:25.365Z"
   },
   {
    "duration": 8,
    "start_time": "2022-05-25T13:12:25.447Z"
   },
   {
    "duration": 19,
    "start_time": "2022-05-25T13:12:25.457Z"
   },
   {
    "duration": 49,
    "start_time": "2022-05-25T13:12:25.479Z"
   },
   {
    "duration": 7,
    "start_time": "2022-05-25T13:12:25.530Z"
   },
   {
    "duration": 52,
    "start_time": "2022-05-25T13:12:25.540Z"
   },
   {
    "duration": 51,
    "start_time": "2022-05-25T13:12:25.594Z"
   },
   {
    "duration": 519,
    "start_time": "2022-05-25T13:12:25.648Z"
   },
   {
    "duration": 394,
    "start_time": "2022-05-25T13:12:26.169Z"
   },
   {
    "duration": 3,
    "start_time": "2022-05-25T13:12:26.565Z"
   },
   {
    "duration": 1363,
    "start_time": "2022-05-25T13:12:26.570Z"
   },
   {
    "duration": 238,
    "start_time": "2022-05-25T13:12:27.935Z"
   },
   {
    "duration": 367,
    "start_time": "2022-05-25T13:12:28.176Z"
   },
   {
    "duration": 373,
    "start_time": "2022-05-25T13:12:28.546Z"
   },
   {
    "duration": 52,
    "start_time": "2022-05-25T13:12:28.921Z"
   },
   {
    "duration": 2393,
    "start_time": "2022-05-25T13:12:28.975Z"
   },
   {
    "duration": 64,
    "start_time": "2022-05-25T13:12:31.370Z"
   },
   {
    "duration": 88,
    "start_time": "2022-05-25T13:12:31.436Z"
   },
   {
    "duration": 28,
    "start_time": "2022-05-25T13:12:31.526Z"
   },
   {
    "duration": 599,
    "start_time": "2022-05-25T13:12:31.555Z"
   },
   {
    "duration": 73,
    "start_time": "2022-05-25T13:12:32.156Z"
   },
   {
    "duration": 528,
    "start_time": "2022-05-25T13:12:32.231Z"
   },
   {
    "duration": 9,
    "start_time": "2022-05-25T13:12:32.761Z"
   },
   {
    "duration": 1185,
    "start_time": "2022-05-25T13:12:32.772Z"
   },
   {
    "duration": 13,
    "start_time": "2022-05-25T13:12:33.959Z"
   },
   {
    "duration": 14,
    "start_time": "2022-05-25T13:12:33.974Z"
   },
   {
    "duration": 21,
    "start_time": "2022-05-25T13:12:33.990Z"
   },
   {
    "duration": 48,
    "start_time": "2022-05-25T13:12:34.019Z"
   },
   {
    "duration": 9,
    "start_time": "2022-05-25T13:12:34.069Z"
   },
   {
    "duration": 1382,
    "start_time": "2022-05-25T13:13:30.505Z"
   },
   {
    "duration": 97,
    "start_time": "2022-05-25T13:13:31.890Z"
   },
   {
    "duration": 12,
    "start_time": "2022-05-25T13:13:31.990Z"
   },
   {
    "duration": 51,
    "start_time": "2022-05-25T13:13:32.005Z"
   },
   {
    "duration": 34,
    "start_time": "2022-05-25T13:13:32.058Z"
   },
   {
    "duration": 19,
    "start_time": "2022-05-25T13:13:32.095Z"
   },
   {
    "duration": 70,
    "start_time": "2022-05-25T13:13:32.118Z"
   },
   {
    "duration": 30,
    "start_time": "2022-05-25T13:13:32.190Z"
   },
   {
    "duration": 600,
    "start_time": "2022-05-25T13:13:32.222Z"
   },
   {
    "duration": 431,
    "start_time": "2022-05-25T13:13:32.825Z"
   },
   {
    "duration": 3,
    "start_time": "2022-05-25T13:13:33.258Z"
   },
   {
    "duration": 1342,
    "start_time": "2022-05-25T13:13:33.263Z"
   },
   {
    "duration": 219,
    "start_time": "2022-05-25T13:13:34.606Z"
   },
   {
    "duration": 364,
    "start_time": "2022-05-25T13:13:34.827Z"
   },
   {
    "duration": 398,
    "start_time": "2022-05-25T13:13:35.194Z"
   },
   {
    "duration": 55,
    "start_time": "2022-05-25T13:13:35.594Z"
   },
   {
    "duration": 1844,
    "start_time": "2022-05-25T13:13:35.652Z"
   },
   {
    "duration": 12,
    "start_time": "2022-05-25T13:13:37.498Z"
   },
   {
    "duration": 31,
    "start_time": "2022-05-25T13:13:37.524Z"
   },
   {
    "duration": 21,
    "start_time": "2022-05-25T13:13:37.557Z"
   },
   {
    "duration": 274,
    "start_time": "2022-05-25T13:13:37.580Z"
   },
   {
    "duration": 16,
    "start_time": "2022-05-25T13:13:37.856Z"
   },
   {
    "duration": 249,
    "start_time": "2022-05-25T13:13:37.874Z"
   },
   {
    "duration": 9,
    "start_time": "2022-05-25T13:13:38.125Z"
   },
   {
    "duration": 24,
    "start_time": "2022-05-25T13:13:38.136Z"
   },
   {
    "duration": 1190,
    "start_time": "2022-05-25T13:13:38.161Z"
   },
   {
    "duration": 10,
    "start_time": "2022-05-25T13:13:39.353Z"
   },
   {
    "duration": 15,
    "start_time": "2022-05-25T13:13:39.367Z"
   },
   {
    "duration": 18,
    "start_time": "2022-05-25T13:13:39.385Z"
   },
   {
    "duration": 8,
    "start_time": "2022-05-25T13:13:39.405Z"
   },
   {
    "duration": 10,
    "start_time": "2022-05-25T13:15:02.255Z"
   },
   {
    "duration": 1394,
    "start_time": "2022-05-25T13:17:26.706Z"
   },
   {
    "duration": 67,
    "start_time": "2022-05-25T13:17:28.103Z"
   },
   {
    "duration": 8,
    "start_time": "2022-05-25T13:17:28.171Z"
   },
   {
    "duration": 21,
    "start_time": "2022-05-25T13:17:28.181Z"
   },
   {
    "duration": 52,
    "start_time": "2022-05-25T13:17:28.224Z"
   },
   {
    "duration": 11,
    "start_time": "2022-05-25T13:17:28.278Z"
   },
   {
    "duration": 65,
    "start_time": "2022-05-25T13:17:28.292Z"
   },
   {
    "duration": 24,
    "start_time": "2022-05-25T13:17:28.360Z"
   },
   {
    "duration": 542,
    "start_time": "2022-05-25T13:17:28.386Z"
   },
   {
    "duration": 432,
    "start_time": "2022-05-25T13:17:28.932Z"
   },
   {
    "duration": 3,
    "start_time": "2022-05-25T13:17:29.366Z"
   },
   {
    "duration": 1358,
    "start_time": "2022-05-25T13:17:29.370Z"
   },
   {
    "duration": 251,
    "start_time": "2022-05-25T13:17:30.730Z"
   },
   {
    "duration": 428,
    "start_time": "2022-05-25T13:17:30.984Z"
   },
   {
    "duration": 394,
    "start_time": "2022-05-25T13:17:31.415Z"
   },
   {
    "duration": 60,
    "start_time": "2022-05-25T13:17:31.811Z"
   },
   {
    "duration": 2014,
    "start_time": "2022-05-25T13:17:31.873Z"
   },
   {
    "duration": 14,
    "start_time": "2022-05-25T13:17:33.889Z"
   },
   {
    "duration": 64,
    "start_time": "2022-05-25T13:17:33.905Z"
   },
   {
    "duration": 44,
    "start_time": "2022-05-25T13:17:33.972Z"
   },
   {
    "duration": 288,
    "start_time": "2022-05-25T13:17:34.019Z"
   },
   {
    "duration": 27,
    "start_time": "2022-05-25T13:17:34.308Z"
   },
   {
    "duration": 253,
    "start_time": "2022-05-25T13:17:34.337Z"
   },
   {
    "duration": 12,
    "start_time": "2022-05-25T13:17:34.593Z"
   },
   {
    "duration": 47,
    "start_time": "2022-05-25T13:17:34.607Z"
   },
   {
    "duration": 1083,
    "start_time": "2022-05-25T13:17:34.656Z"
   },
   {
    "duration": 9,
    "start_time": "2022-05-25T13:17:35.742Z"
   },
   {
    "duration": 28,
    "start_time": "2022-05-25T13:17:35.756Z"
   },
   {
    "duration": 40,
    "start_time": "2022-05-25T13:17:35.786Z"
   },
   {
    "duration": 21,
    "start_time": "2022-05-25T13:17:35.831Z"
   },
   {
    "duration": 7,
    "start_time": "2022-05-25T14:01:50.919Z"
   },
   {
    "duration": 4,
    "start_time": "2022-05-25T14:02:25.316Z"
   },
   {
    "duration": 373,
    "start_time": "2022-05-25T14:21:08.611Z"
   },
   {
    "duration": 1195,
    "start_time": "2022-05-25T14:22:06.608Z"
   },
   {
    "duration": 1341,
    "start_time": "2022-05-25T14:22:27.873Z"
   },
   {
    "duration": 342,
    "start_time": "2022-05-25T14:22:45.769Z"
   },
   {
    "duration": 202,
    "start_time": "2022-05-25T14:23:36.088Z"
   },
   {
    "duration": 1046,
    "start_time": "2022-05-25T14:24:59.509Z"
   },
   {
    "duration": 60,
    "start_time": "2022-05-25T14:25:30.960Z"
   },
   {
    "duration": 72,
    "start_time": "2022-05-25T14:25:31.022Z"
   },
   {
    "duration": 8,
    "start_time": "2022-05-25T14:25:31.096Z"
   },
   {
    "duration": 1463,
    "start_time": "2022-05-25T14:27:55.711Z"
   },
   {
    "duration": 95,
    "start_time": "2022-05-25T14:27:57.181Z"
   },
   {
    "duration": 13,
    "start_time": "2022-05-25T14:27:57.279Z"
   },
   {
    "duration": 17,
    "start_time": "2022-05-25T14:27:57.295Z"
   },
   {
    "duration": 75,
    "start_time": "2022-05-25T14:27:57.314Z"
   },
   {
    "duration": 6,
    "start_time": "2022-05-25T14:27:57.392Z"
   },
   {
    "duration": 58,
    "start_time": "2022-05-25T14:27:57.399Z"
   },
   {
    "duration": 27,
    "start_time": "2022-05-25T14:27:57.461Z"
   },
   {
    "duration": 583,
    "start_time": "2022-05-25T14:27:57.490Z"
   },
   {
    "duration": 492,
    "start_time": "2022-05-25T14:27:58.076Z"
   },
   {
    "duration": 2,
    "start_time": "2022-05-25T14:27:58.572Z"
   },
   {
    "duration": 1560,
    "start_time": "2022-05-25T14:27:58.576Z"
   },
   {
    "duration": 252,
    "start_time": "2022-05-25T14:28:00.138Z"
   },
   {
    "duration": 407,
    "start_time": "2022-05-25T14:28:00.392Z"
   },
   {
    "duration": 407,
    "start_time": "2022-05-25T14:28:00.801Z"
   },
   {
    "duration": 48,
    "start_time": "2022-05-25T14:28:01.209Z"
   },
   {
    "duration": 2172,
    "start_time": "2022-05-25T14:28:01.266Z"
   },
   {
    "duration": 21,
    "start_time": "2022-05-25T14:28:03.441Z"
   },
   {
    "duration": 34,
    "start_time": "2022-05-25T14:28:03.464Z"
   },
   {
    "duration": 39,
    "start_time": "2022-05-25T14:28:03.499Z"
   },
   {
    "duration": 265,
    "start_time": "2022-05-25T14:28:03.555Z"
   },
   {
    "duration": 26,
    "start_time": "2022-05-25T14:28:03.821Z"
   },
   {
    "duration": 261,
    "start_time": "2022-05-25T14:28:03.849Z"
   },
   {
    "duration": 8,
    "start_time": "2022-05-25T14:28:04.112Z"
   },
   {
    "duration": 50,
    "start_time": "2022-05-25T14:28:04.122Z"
   },
   {
    "duration": 1127,
    "start_time": "2022-05-25T14:28:04.174Z"
   },
   {
    "duration": 6,
    "start_time": "2022-05-25T14:28:05.303Z"
   },
   {
    "duration": 7,
    "start_time": "2022-05-25T14:28:05.311Z"
   },
   {
    "duration": 50,
    "start_time": "2022-05-25T14:28:05.319Z"
   },
   {
    "duration": 6,
    "start_time": "2022-05-25T14:28:05.371Z"
   },
   {
    "duration": 253,
    "start_time": "2022-05-25T14:30:39.161Z"
   },
   {
    "duration": 1289,
    "start_time": "2022-05-25T14:31:26.977Z"
   },
   {
    "duration": 65,
    "start_time": "2022-05-25T14:31:28.268Z"
   },
   {
    "duration": 12,
    "start_time": "2022-05-25T14:31:28.335Z"
   },
   {
    "duration": 36,
    "start_time": "2022-05-25T14:31:28.350Z"
   },
   {
    "duration": 21,
    "start_time": "2022-05-25T14:31:28.388Z"
   },
   {
    "duration": 5,
    "start_time": "2022-05-25T14:31:28.410Z"
   },
   {
    "duration": 65,
    "start_time": "2022-05-25T14:31:28.425Z"
   },
   {
    "duration": 20,
    "start_time": "2022-05-25T14:31:28.492Z"
   },
   {
    "duration": 491,
    "start_time": "2022-05-25T14:31:28.513Z"
   },
   {
    "duration": 422,
    "start_time": "2022-05-25T14:31:29.007Z"
   },
   {
    "duration": 3,
    "start_time": "2022-05-25T14:31:29.431Z"
   },
   {
    "duration": 1415,
    "start_time": "2022-05-25T14:31:29.435Z"
   },
   {
    "duration": 232,
    "start_time": "2022-05-25T14:31:30.852Z"
   },
   {
    "duration": 374,
    "start_time": "2022-05-25T14:31:31.086Z"
   },
   {
    "duration": 407,
    "start_time": "2022-05-25T14:31:31.463Z"
   },
   {
    "duration": 42,
    "start_time": "2022-05-25T14:31:31.873Z"
   },
   {
    "duration": 2079,
    "start_time": "2022-05-25T14:31:31.916Z"
   },
   {
    "duration": 11,
    "start_time": "2022-05-25T14:31:33.997Z"
   },
   {
    "duration": 37,
    "start_time": "2022-05-25T14:31:34.009Z"
   },
   {
    "duration": 35,
    "start_time": "2022-05-25T14:31:34.048Z"
   },
   {
    "duration": 238,
    "start_time": "2022-05-25T14:31:34.084Z"
   },
   {
    "duration": 32,
    "start_time": "2022-05-25T14:31:34.324Z"
   },
   {
    "duration": 241,
    "start_time": "2022-05-25T14:31:34.358Z"
   },
   {
    "duration": 6,
    "start_time": "2022-05-25T14:31:34.601Z"
   },
   {
    "duration": 17,
    "start_time": "2022-05-25T14:31:34.609Z"
   },
   {
    "duration": 1214,
    "start_time": "2022-05-25T14:31:34.628Z"
   },
   {
    "duration": 9,
    "start_time": "2022-05-25T14:31:35.843Z"
   },
   {
    "duration": 18,
    "start_time": "2022-05-25T14:31:35.856Z"
   },
   {
    "duration": 9,
    "start_time": "2022-05-25T14:31:35.876Z"
   },
   {
    "duration": 5,
    "start_time": "2022-05-25T14:31:35.886Z"
   }
  ],
  "kernelspec": {
   "display_name": "Python 3 (ipykernel)",
   "language": "python",
   "name": "python3"
  },
  "language_info": {
   "codemirror_mode": {
    "name": "ipython",
    "version": 3
   },
   "file_extension": ".py",
   "mimetype": "text/x-python",
   "name": "python",
   "nbconvert_exporter": "python",
   "pygments_lexer": "ipython3",
   "version": "3.9.7"
  },
  "toc": {
   "base_numbering": 1,
   "nav_menu": {},
   "number_sections": true,
   "sideBar": true,
   "skip_h1_title": true,
   "title_cell": "Table of Contents",
   "title_sidebar": "Contents",
   "toc_cell": false,
   "toc_position": {
    "height": "calc(100% - 180px)",
    "left": "10px",
    "top": "150px",
    "width": "270.391px"
   },
   "toc_section_display": true,
   "toc_window_display": true
  }
 },
 "nbformat": 4,
 "nbformat_minor": 2
}
