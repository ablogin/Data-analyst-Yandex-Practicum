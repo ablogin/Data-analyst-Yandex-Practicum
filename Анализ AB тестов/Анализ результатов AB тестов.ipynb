{
 "cells": [
  {
   "cell_type": "markdown",
   "metadata": {},
   "source": [
    "Задачи на проект: \n",
    "Вы — аналитик крупного интернет-магазина. Вместе с отделом маркетинга вы подготовили список гипотез для увеличения выручки.\n",
    "Приоритизируйте гипотезы, запустите A/B-тест и проанализируйте результаты."
   ]
  },
  {
   "cell_type": "code",
   "execution_count": 1,
   "metadata": {},
   "outputs": [
    {
     "name": "stderr",
     "output_type": "stream",
     "text": [
      "/tmp/ipykernel_63/1500642961.py:8: FutureWarning: Passing a negative integer is deprecated in version 1.0 and will not be supported in future version. Instead, use None to not limit the column width.\n",
      "  pd.set_option('display.max_colwidth', -1)\n"
     ]
    }
   ],
   "source": [
    "import pandas as pd\n",
    "import numpy as np\n",
    "import scipy.stats as stats\n",
    "import seaborn as sns\n",
    "import matplotlib.pyplot as plt\n",
    "import datetime as dt\n",
    "\n",
    "pd.set_option('display.max_colwidth', -1)"
   ]
  },
  {
   "cell_type": "markdown",
   "metadata": {},
   "source": [
    "# Подготовка данных"
   ]
  },
  {
   "cell_type": "code",
   "execution_count": 2,
   "metadata": {},
   "outputs": [
    {
     "data": {
      "text/html": [
       "<div>\n",
       "<style scoped>\n",
       "    .dataframe tbody tr th:only-of-type {\n",
       "        vertical-align: middle;\n",
       "    }\n",
       "\n",
       "    .dataframe tbody tr th {\n",
       "        vertical-align: top;\n",
       "    }\n",
       "\n",
       "    .dataframe thead th {\n",
       "        text-align: right;\n",
       "    }\n",
       "</style>\n",
       "<table border=\"1\" class=\"dataframe\">\n",
       "  <thead>\n",
       "    <tr style=\"text-align: right;\">\n",
       "      <th></th>\n",
       "      <th>Hypothesis</th>\n",
       "      <th>Reach</th>\n",
       "      <th>Impact</th>\n",
       "      <th>Confidence</th>\n",
       "      <th>Efforts</th>\n",
       "    </tr>\n",
       "  </thead>\n",
       "  <tbody>\n",
       "    <tr>\n",
       "      <th>0</th>\n",
       "      <td>Добавить два новых канала привлечения трафика, что позволит привлекать на 30% больше пользователей</td>\n",
       "      <td>3</td>\n",
       "      <td>10</td>\n",
       "      <td>8</td>\n",
       "      <td>6</td>\n",
       "    </tr>\n",
       "    <tr>\n",
       "      <th>1</th>\n",
       "      <td>Запустить собственную службу доставки, что сократит срок доставки заказов</td>\n",
       "      <td>2</td>\n",
       "      <td>5</td>\n",
       "      <td>4</td>\n",
       "      <td>10</td>\n",
       "    </tr>\n",
       "    <tr>\n",
       "      <th>2</th>\n",
       "      <td>Добавить блоки рекомендаций товаров на сайт интернет магазина, чтобы повысить конверсию и средний чек заказа</td>\n",
       "      <td>8</td>\n",
       "      <td>3</td>\n",
       "      <td>7</td>\n",
       "      <td>3</td>\n",
       "    </tr>\n",
       "    <tr>\n",
       "      <th>3</th>\n",
       "      <td>Изменить структура категорий, что увеличит конверсию, т.к. пользователи быстрее найдут нужный товар</td>\n",
       "      <td>8</td>\n",
       "      <td>3</td>\n",
       "      <td>3</td>\n",
       "      <td>8</td>\n",
       "    </tr>\n",
       "    <tr>\n",
       "      <th>4</th>\n",
       "      <td>Изменить цвет фона главной страницы, чтобы увеличить вовлеченность пользователей</td>\n",
       "      <td>3</td>\n",
       "      <td>1</td>\n",
       "      <td>1</td>\n",
       "      <td>1</td>\n",
       "    </tr>\n",
       "    <tr>\n",
       "      <th>5</th>\n",
       "      <td>Добавить страницу отзывов клиентов о магазине, что позволит увеличить количество заказов</td>\n",
       "      <td>3</td>\n",
       "      <td>2</td>\n",
       "      <td>2</td>\n",
       "      <td>3</td>\n",
       "    </tr>\n",
       "    <tr>\n",
       "      <th>6</th>\n",
       "      <td>Показать на главной странице баннеры с актуальными акциями и распродажами, чтобы увеличить конверсию</td>\n",
       "      <td>5</td>\n",
       "      <td>3</td>\n",
       "      <td>8</td>\n",
       "      <td>3</td>\n",
       "    </tr>\n",
       "    <tr>\n",
       "      <th>7</th>\n",
       "      <td>Добавить форму подписки на все основные страницы, чтобы собрать базу клиентов для email-рассылок</td>\n",
       "      <td>10</td>\n",
       "      <td>7</td>\n",
       "      <td>8</td>\n",
       "      <td>5</td>\n",
       "    </tr>\n",
       "    <tr>\n",
       "      <th>8</th>\n",
       "      <td>Запустить акцию, дающую скидку на товар в день рождения</td>\n",
       "      <td>1</td>\n",
       "      <td>9</td>\n",
       "      <td>9</td>\n",
       "      <td>5</td>\n",
       "    </tr>\n",
       "  </tbody>\n",
       "</table>\n",
       "</div>"
      ],
      "text/plain": [
       "                                                                                                     Hypothesis  \\\n",
       "0  Добавить два новых канала привлечения трафика, что позволит привлекать на 30% больше пользователей             \n",
       "1  Запустить собственную службу доставки, что сократит срок доставки заказов                                      \n",
       "2  Добавить блоки рекомендаций товаров на сайт интернет магазина, чтобы повысить конверсию и средний чек заказа   \n",
       "3  Изменить структура категорий, что увеличит конверсию, т.к. пользователи быстрее найдут нужный товар            \n",
       "4  Изменить цвет фона главной страницы, чтобы увеличить вовлеченность пользователей                               \n",
       "5  Добавить страницу отзывов клиентов о магазине, что позволит увеличить количество заказов                       \n",
       "6  Показать на главной странице баннеры с актуальными акциями и распродажами, чтобы увеличить конверсию           \n",
       "7  Добавить форму подписки на все основные страницы, чтобы собрать базу клиентов для email-рассылок               \n",
       "8  Запустить акцию, дающую скидку на товар в день рождения                                                        \n",
       "\n",
       "   Reach  Impact  Confidence  Efforts  \n",
       "0  3      10      8           6        \n",
       "1  2      5       4           10       \n",
       "2  8      3       7           3        \n",
       "3  8      3       3           8        \n",
       "4  3      1       1           1        \n",
       "5  3      2       2           3        \n",
       "6  5      3       8           3        \n",
       "7  10     7       8           5        \n",
       "8  1      9       9           5        "
      ]
     },
     "metadata": {},
     "output_type": "display_data"
    },
    {
     "data": {
      "text/html": [
       "<div>\n",
       "<style scoped>\n",
       "    .dataframe tbody tr th:only-of-type {\n",
       "        vertical-align: middle;\n",
       "    }\n",
       "\n",
       "    .dataframe tbody tr th {\n",
       "        vertical-align: top;\n",
       "    }\n",
       "\n",
       "    .dataframe thead th {\n",
       "        text-align: right;\n",
       "    }\n",
       "</style>\n",
       "<table border=\"1\" class=\"dataframe\">\n",
       "  <thead>\n",
       "    <tr style=\"text-align: right;\">\n",
       "      <th></th>\n",
       "      <th>hypothesis</th>\n",
       "      <th>reach</th>\n",
       "      <th>impact</th>\n",
       "      <th>confidence</th>\n",
       "      <th>efforts</th>\n",
       "    </tr>\n",
       "  </thead>\n",
       "  <tbody>\n",
       "    <tr>\n",
       "      <th>0</th>\n",
       "      <td>Добавить два новых канала привлечения трафика, что позволит привлекать на 30% больше пользователей</td>\n",
       "      <td>3</td>\n",
       "      <td>10</td>\n",
       "      <td>8</td>\n",
       "      <td>6</td>\n",
       "    </tr>\n",
       "    <tr>\n",
       "      <th>1</th>\n",
       "      <td>Запустить собственную службу доставки, что сократит срок доставки заказов</td>\n",
       "      <td>2</td>\n",
       "      <td>5</td>\n",
       "      <td>4</td>\n",
       "      <td>10</td>\n",
       "    </tr>\n",
       "    <tr>\n",
       "      <th>2</th>\n",
       "      <td>Добавить блоки рекомендаций товаров на сайт интернет магазина, чтобы повысить конверсию и средний чек заказа</td>\n",
       "      <td>8</td>\n",
       "      <td>3</td>\n",
       "      <td>7</td>\n",
       "      <td>3</td>\n",
       "    </tr>\n",
       "    <tr>\n",
       "      <th>3</th>\n",
       "      <td>Изменить структура категорий, что увеличит конверсию, т.к. пользователи быстрее найдут нужный товар</td>\n",
       "      <td>8</td>\n",
       "      <td>3</td>\n",
       "      <td>3</td>\n",
       "      <td>8</td>\n",
       "    </tr>\n",
       "    <tr>\n",
       "      <th>4</th>\n",
       "      <td>Изменить цвет фона главной страницы, чтобы увеличить вовлеченность пользователей</td>\n",
       "      <td>3</td>\n",
       "      <td>1</td>\n",
       "      <td>1</td>\n",
       "      <td>1</td>\n",
       "    </tr>\n",
       "    <tr>\n",
       "      <th>5</th>\n",
       "      <td>Добавить страницу отзывов клиентов о магазине, что позволит увеличить количество заказов</td>\n",
       "      <td>3</td>\n",
       "      <td>2</td>\n",
       "      <td>2</td>\n",
       "      <td>3</td>\n",
       "    </tr>\n",
       "    <tr>\n",
       "      <th>6</th>\n",
       "      <td>Показать на главной странице баннеры с актуальными акциями и распродажами, чтобы увеличить конверсию</td>\n",
       "      <td>5</td>\n",
       "      <td>3</td>\n",
       "      <td>8</td>\n",
       "      <td>3</td>\n",
       "    </tr>\n",
       "    <tr>\n",
       "      <th>7</th>\n",
       "      <td>Добавить форму подписки на все основные страницы, чтобы собрать базу клиентов для email-рассылок</td>\n",
       "      <td>10</td>\n",
       "      <td>7</td>\n",
       "      <td>8</td>\n",
       "      <td>5</td>\n",
       "    </tr>\n",
       "    <tr>\n",
       "      <th>8</th>\n",
       "      <td>Запустить акцию, дающую скидку на товар в день рождения</td>\n",
       "      <td>1</td>\n",
       "      <td>9</td>\n",
       "      <td>9</td>\n",
       "      <td>5</td>\n",
       "    </tr>\n",
       "  </tbody>\n",
       "</table>\n",
       "</div>"
      ],
      "text/plain": [
       "                                                                                                     hypothesis  \\\n",
       "0  Добавить два новых канала привлечения трафика, что позволит привлекать на 30% больше пользователей             \n",
       "1  Запустить собственную службу доставки, что сократит срок доставки заказов                                      \n",
       "2  Добавить блоки рекомендаций товаров на сайт интернет магазина, чтобы повысить конверсию и средний чек заказа   \n",
       "3  Изменить структура категорий, что увеличит конверсию, т.к. пользователи быстрее найдут нужный товар            \n",
       "4  Изменить цвет фона главной страницы, чтобы увеличить вовлеченность пользователей                               \n",
       "5  Добавить страницу отзывов клиентов о магазине, что позволит увеличить количество заказов                       \n",
       "6  Показать на главной странице баннеры с актуальными акциями и распродажами, чтобы увеличить конверсию           \n",
       "7  Добавить форму подписки на все основные страницы, чтобы собрать базу клиентов для email-рассылок               \n",
       "8  Запустить акцию, дающую скидку на товар в день рождения                                                        \n",
       "\n",
       "   reach  impact  confidence  efforts  \n",
       "0  3      10      8           6        \n",
       "1  2      5       4           10       \n",
       "2  8      3       7           3        \n",
       "3  8      3       3           8        \n",
       "4  3      1       1           1        \n",
       "5  3      2       2           3        \n",
       "6  5      3       8           3        \n",
       "7  10     7       8           5        \n",
       "8  1      9       9           5        "
      ]
     },
     "execution_count": 2,
     "metadata": {},
     "output_type": "execute_result"
    }
   ],
   "source": [
    "# прочитаем фаил с гипотезами\n",
    "hypothesis = pd.read_csv('/datasets/hypothesis.csv')\n",
    "display(hypothesis)\n",
    "hypothesis.rename(columns = {'Hypothesis':'hypothesis', 'Reach':'reach','Impact' :'impact','Confidence': 'confidence','Efforts' :'efforts'}, inplace=True)\n",
    "hypothesis\n"
   ]
  },
  {
   "cell_type": "code",
   "execution_count": 3,
   "metadata": {},
   "outputs": [],
   "source": [
    "# загрузим данные о заказах и посетителях\n",
    "orders = pd.read_csv('/datasets/orders.csv')\n",
    "visitors = pd.read_csv('/datasets/visitors.csv')"
   ]
  },
  {
   "cell_type": "markdown",
   "metadata": {},
   "source": [
    "## Таблица orders"
   ]
  },
  {
   "cell_type": "code",
   "execution_count": 4,
   "metadata": {},
   "outputs": [
    {
     "name": "stdout",
     "output_type": "stream",
     "text": [
      "<class 'pandas.core.frame.DataFrame'>\n",
      "RangeIndex: 1197 entries, 0 to 1196\n",
      "Data columns (total 5 columns):\n",
      " #   Column         Non-Null Count  Dtype \n",
      "---  ------         --------------  ----- \n",
      " 0   transactionId  1197 non-null   int64 \n",
      " 1   visitorId      1197 non-null   int64 \n",
      " 2   date           1197 non-null   object\n",
      " 3   revenue        1197 non-null   int64 \n",
      " 4   group          1197 non-null   object\n",
      "dtypes: int64(3), object(2)\n",
      "memory usage: 46.9+ KB\n"
     ]
    },
    {
     "data": {
      "text/html": [
       "<div>\n",
       "<style scoped>\n",
       "    .dataframe tbody tr th:only-of-type {\n",
       "        vertical-align: middle;\n",
       "    }\n",
       "\n",
       "    .dataframe tbody tr th {\n",
       "        vertical-align: top;\n",
       "    }\n",
       "\n",
       "    .dataframe thead th {\n",
       "        text-align: right;\n",
       "    }\n",
       "</style>\n",
       "<table border=\"1\" class=\"dataframe\">\n",
       "  <thead>\n",
       "    <tr style=\"text-align: right;\">\n",
       "      <th></th>\n",
       "      <th>transactionId</th>\n",
       "      <th>visitorId</th>\n",
       "      <th>date</th>\n",
       "      <th>revenue</th>\n",
       "      <th>group</th>\n",
       "    </tr>\n",
       "  </thead>\n",
       "  <tbody>\n",
       "    <tr>\n",
       "      <th>0</th>\n",
       "      <td>3667963787</td>\n",
       "      <td>3312258926</td>\n",
       "      <td>2019-08-15</td>\n",
       "      <td>1650</td>\n",
       "      <td>B</td>\n",
       "    </tr>\n",
       "    <tr>\n",
       "      <th>1</th>\n",
       "      <td>2804400009</td>\n",
       "      <td>3642806036</td>\n",
       "      <td>2019-08-15</td>\n",
       "      <td>730</td>\n",
       "      <td>B</td>\n",
       "    </tr>\n",
       "    <tr>\n",
       "      <th>2</th>\n",
       "      <td>2961555356</td>\n",
       "      <td>4069496402</td>\n",
       "      <td>2019-08-15</td>\n",
       "      <td>400</td>\n",
       "      <td>A</td>\n",
       "    </tr>\n",
       "    <tr>\n",
       "      <th>3</th>\n",
       "      <td>3797467345</td>\n",
       "      <td>1196621759</td>\n",
       "      <td>2019-08-15</td>\n",
       "      <td>9759</td>\n",
       "      <td>B</td>\n",
       "    </tr>\n",
       "    <tr>\n",
       "      <th>4</th>\n",
       "      <td>2282983706</td>\n",
       "      <td>2322279887</td>\n",
       "      <td>2019-08-15</td>\n",
       "      <td>2308</td>\n",
       "      <td>B</td>\n",
       "    </tr>\n",
       "  </tbody>\n",
       "</table>\n",
       "</div>"
      ],
      "text/plain": [
       "   transactionId   visitorId        date  revenue group\n",
       "0  3667963787     3312258926  2019-08-15  1650     B   \n",
       "1  2804400009     3642806036  2019-08-15  730      B   \n",
       "2  2961555356     4069496402  2019-08-15  400      A   \n",
       "3  3797467345     1196621759  2019-08-15  9759     B   \n",
       "4  2282983706     2322279887  2019-08-15  2308     B   "
      ]
     },
     "execution_count": 4,
     "metadata": {},
     "output_type": "execute_result"
    }
   ],
   "source": [
    "# обзор таблицы orders\n",
    "orders.info()\n",
    "orders.head(5)"
   ]
  },
  {
   "cell_type": "code",
   "execution_count": 5,
   "metadata": {},
   "outputs": [
    {
     "name": "stdout",
     "output_type": "stream",
     "text": [
      "<class 'pandas.core.frame.DataFrame'>\n",
      "RangeIndex: 1197 entries, 0 to 1196\n",
      "Data columns (total 5 columns):\n",
      " #   Column         Non-Null Count  Dtype         \n",
      "---  ------         --------------  -----         \n",
      " 0   transactionId  1197 non-null   int64         \n",
      " 1   visitorId      1197 non-null   int64         \n",
      " 2   date           1197 non-null   datetime64[ns]\n",
      " 3   revenue        1197 non-null   int64         \n",
      " 4   group          1197 non-null   object        \n",
      "dtypes: datetime64[ns](1), int64(3), object(1)\n",
      "memory usage: 46.9+ KB\n"
     ]
    }
   ],
   "source": [
    "# поменяем формат столбца с датами\n",
    "orders['date'] = orders['date'].map(\n",
    "    lambda x: dt.datetime.strptime(x, '%Y-%m-%d')\n",
    ")\n",
    "\n",
    "orders.info()\n"
   ]
  },
  {
   "cell_type": "code",
   "execution_count": 6,
   "metadata": {},
   "outputs": [
    {
     "data": {
      "text/plain": [
       "0"
      ]
     },
     "execution_count": 6,
     "metadata": {},
     "output_type": "execute_result"
    }
   ],
   "source": [
    "# проверим на дубликаты\n",
    "orders.duplicated().sum()"
   ]
  },
  {
   "cell_type": "markdown",
   "metadata": {},
   "source": [
    "## Таблица visitors"
   ]
  },
  {
   "cell_type": "code",
   "execution_count": 7,
   "metadata": {},
   "outputs": [
    {
     "name": "stdout",
     "output_type": "stream",
     "text": [
      "<class 'pandas.core.frame.DataFrame'>\n",
      "RangeIndex: 62 entries, 0 to 61\n",
      "Data columns (total 3 columns):\n",
      " #   Column    Non-Null Count  Dtype \n",
      "---  ------    --------------  ----- \n",
      " 0   date      62 non-null     object\n",
      " 1   group     62 non-null     object\n",
      " 2   visitors  62 non-null     int64 \n",
      "dtypes: int64(1), object(2)\n",
      "memory usage: 1.6+ KB\n"
     ]
    },
    {
     "data": {
      "text/html": [
       "<div>\n",
       "<style scoped>\n",
       "    .dataframe tbody tr th:only-of-type {\n",
       "        vertical-align: middle;\n",
       "    }\n",
       "\n",
       "    .dataframe tbody tr th {\n",
       "        vertical-align: top;\n",
       "    }\n",
       "\n",
       "    .dataframe thead th {\n",
       "        text-align: right;\n",
       "    }\n",
       "</style>\n",
       "<table border=\"1\" class=\"dataframe\">\n",
       "  <thead>\n",
       "    <tr style=\"text-align: right;\">\n",
       "      <th></th>\n",
       "      <th>date</th>\n",
       "      <th>group</th>\n",
       "      <th>visitors</th>\n",
       "    </tr>\n",
       "  </thead>\n",
       "  <tbody>\n",
       "    <tr>\n",
       "      <th>0</th>\n",
       "      <td>2019-08-01</td>\n",
       "      <td>A</td>\n",
       "      <td>719</td>\n",
       "    </tr>\n",
       "    <tr>\n",
       "      <th>1</th>\n",
       "      <td>2019-08-02</td>\n",
       "      <td>A</td>\n",
       "      <td>619</td>\n",
       "    </tr>\n",
       "    <tr>\n",
       "      <th>2</th>\n",
       "      <td>2019-08-03</td>\n",
       "      <td>A</td>\n",
       "      <td>507</td>\n",
       "    </tr>\n",
       "    <tr>\n",
       "      <th>3</th>\n",
       "      <td>2019-08-04</td>\n",
       "      <td>A</td>\n",
       "      <td>717</td>\n",
       "    </tr>\n",
       "    <tr>\n",
       "      <th>4</th>\n",
       "      <td>2019-08-05</td>\n",
       "      <td>A</td>\n",
       "      <td>756</td>\n",
       "    </tr>\n",
       "  </tbody>\n",
       "</table>\n",
       "</div>"
      ],
      "text/plain": [
       "         date group  visitors\n",
       "0  2019-08-01  A     719     \n",
       "1  2019-08-02  A     619     \n",
       "2  2019-08-03  A     507     \n",
       "3  2019-08-04  A     717     \n",
       "4  2019-08-05  A     756     "
      ]
     },
     "execution_count": 7,
     "metadata": {},
     "output_type": "execute_result"
    }
   ],
   "source": [
    "# обзор таблицы visitors\n",
    "visitors.info()\n",
    "visitors.head(5)"
   ]
  },
  {
   "cell_type": "markdown",
   "metadata": {},
   "source": [
    "Пропусков нет, нужно поменять тип данных в столбце date"
   ]
  },
  {
   "cell_type": "code",
   "execution_count": 8,
   "metadata": {
    "scrolled": true
   },
   "outputs": [
    {
     "name": "stdout",
     "output_type": "stream",
     "text": [
      "<class 'pandas.core.frame.DataFrame'>\n",
      "RangeIndex: 62 entries, 0 to 61\n",
      "Data columns (total 3 columns):\n",
      " #   Column    Non-Null Count  Dtype         \n",
      "---  ------    --------------  -----         \n",
      " 0   date      62 non-null     datetime64[ns]\n",
      " 1   group     62 non-null     object        \n",
      " 2   visitors  62 non-null     int64         \n",
      "dtypes: datetime64[ns](1), int64(1), object(1)\n",
      "memory usage: 1.6+ KB\n"
     ]
    }
   ],
   "source": [
    "# поменяем формат столбца с датами\n",
    "visitors['date'] = visitors['date'].map(\n",
    "    lambda x: dt.datetime.strptime(x, '%Y-%m-%d')\n",
    ")\n",
    "visitors.info()\n"
   ]
  },
  {
   "cell_type": "code",
   "execution_count": 9,
   "metadata": {},
   "outputs": [
    {
     "data": {
      "text/plain": [
       "0"
      ]
     },
     "execution_count": 9,
     "metadata": {},
     "output_type": "execute_result"
    }
   ],
   "source": [
    "# проверим на дубликаты\n",
    "visitors.duplicated().sum()"
   ]
  },
  {
   "cell_type": "markdown",
   "metadata": {},
   "source": [
    "## Проверка пользователей, оказавшихся в двух группах сразу"
   ]
  },
  {
   "cell_type": "code",
   "execution_count": 10,
   "metadata": {
    "scrolled": false
   },
   "outputs": [
    {
     "name": "stdout",
     "output_type": "stream",
     "text": [
      "58\n"
     ]
    }
   ],
   "source": [
    "#создадим два списка, в которых сохраним ID пользователей, попавших в каждую из групп\n",
    "list_a = []\n",
    "list_b = []\n",
    "for i in range(len(orders['visitorId'])):\n",
    "    if orders['group'][i] == 'A':\n",
    "        list_a.append(orders['visitorId'][i])\n",
    "    else:\n",
    "        list_b.append(orders['visitorId'][i])\n",
    "\n",
    "# в список result занесем ID пользователей, присутствующих в обоих списках\n",
    "\n",
    "result=list(set(list_a) & set(list_b))\n",
    "print(len(result)) # посчитаем их количество"
   ]
  },
  {
   "cell_type": "code",
   "execution_count": 11,
   "metadata": {
    "scrolled": false
   },
   "outputs": [
    {
     "data": {
      "text/html": [
       "<div>\n",
       "<style scoped>\n",
       "    .dataframe tbody tr th:only-of-type {\n",
       "        vertical-align: middle;\n",
       "    }\n",
       "\n",
       "    .dataframe tbody tr th {\n",
       "        vertical-align: top;\n",
       "    }\n",
       "\n",
       "    .dataframe thead th {\n",
       "        text-align: right;\n",
       "    }\n",
       "</style>\n",
       "<table border=\"1\" class=\"dataframe\">\n",
       "  <thead>\n",
       "    <tr style=\"text-align: right;\">\n",
       "      <th></th>\n",
       "      <th>transactionId</th>\n",
       "      <th>visitorId</th>\n",
       "      <th>date</th>\n",
       "      <th>revenue</th>\n",
       "      <th>group</th>\n",
       "    </tr>\n",
       "  </thead>\n",
       "  <tbody>\n",
       "    <tr>\n",
       "      <th>0</th>\n",
       "      <td>3667963787</td>\n",
       "      <td>3312258926</td>\n",
       "      <td>2019-08-15</td>\n",
       "      <td>1650</td>\n",
       "      <td>B</td>\n",
       "    </tr>\n",
       "    <tr>\n",
       "      <th>1</th>\n",
       "      <td>2804400009</td>\n",
       "      <td>3642806036</td>\n",
       "      <td>2019-08-15</td>\n",
       "      <td>730</td>\n",
       "      <td>B</td>\n",
       "    </tr>\n",
       "    <tr>\n",
       "      <th>3</th>\n",
       "      <td>3797467345</td>\n",
       "      <td>1196621759</td>\n",
       "      <td>2019-08-15</td>\n",
       "      <td>9759</td>\n",
       "      <td>B</td>\n",
       "    </tr>\n",
       "    <tr>\n",
       "      <th>4</th>\n",
       "      <td>2282983706</td>\n",
       "      <td>2322279887</td>\n",
       "      <td>2019-08-15</td>\n",
       "      <td>2308</td>\n",
       "      <td>B</td>\n",
       "    </tr>\n",
       "    <tr>\n",
       "      <th>5</th>\n",
       "      <td>182168103</td>\n",
       "      <td>935554773</td>\n",
       "      <td>2019-08-15</td>\n",
       "      <td>2210</td>\n",
       "      <td>B</td>\n",
       "    </tr>\n",
       "    <tr>\n",
       "      <th>...</th>\n",
       "      <td>...</td>\n",
       "      <td>...</td>\n",
       "      <td>...</td>\n",
       "      <td>...</td>\n",
       "      <td>...</td>\n",
       "    </tr>\n",
       "    <tr>\n",
       "      <th>1191</th>\n",
       "      <td>3592955527</td>\n",
       "      <td>608641596</td>\n",
       "      <td>2019-08-14</td>\n",
       "      <td>16490</td>\n",
       "      <td>B</td>\n",
       "    </tr>\n",
       "    <tr>\n",
       "      <th>1192</th>\n",
       "      <td>2662137336</td>\n",
       "      <td>3733762160</td>\n",
       "      <td>2019-08-14</td>\n",
       "      <td>6490</td>\n",
       "      <td>B</td>\n",
       "    </tr>\n",
       "    <tr>\n",
       "      <th>1193</th>\n",
       "      <td>2203539145</td>\n",
       "      <td>370388673</td>\n",
       "      <td>2019-08-14</td>\n",
       "      <td>3190</td>\n",
       "      <td>A</td>\n",
       "    </tr>\n",
       "    <tr>\n",
       "      <th>1194</th>\n",
       "      <td>1807773912</td>\n",
       "      <td>573423106</td>\n",
       "      <td>2019-08-14</td>\n",
       "      <td>10550</td>\n",
       "      <td>A</td>\n",
       "    </tr>\n",
       "    <tr>\n",
       "      <th>1196</th>\n",
       "      <td>3936777065</td>\n",
       "      <td>2108080724</td>\n",
       "      <td>2019-08-15</td>\n",
       "      <td>202740</td>\n",
       "      <td>B</td>\n",
       "    </tr>\n",
       "  </tbody>\n",
       "</table>\n",
       "<p>1016 rows × 5 columns</p>\n",
       "</div>"
      ],
      "text/plain": [
       "      transactionId   visitorId       date  revenue group\n",
       "0     3667963787     3312258926 2019-08-15  1650     B   \n",
       "1     2804400009     3642806036 2019-08-15  730      B   \n",
       "3     3797467345     1196621759 2019-08-15  9759     B   \n",
       "4     2282983706     2322279887 2019-08-15  2308     B   \n",
       "5     182168103      935554773  2019-08-15  2210     B   \n",
       "...         ...            ...         ...   ...    ..   \n",
       "1191  3592955527     608641596  2019-08-14  16490    B   \n",
       "1192  2662137336     3733762160 2019-08-14  6490     B   \n",
       "1193  2203539145     370388673  2019-08-14  3190     A   \n",
       "1194  1807773912     573423106  2019-08-14  10550    A   \n",
       "1196  3936777065     2108080724 2019-08-15  202740   B   \n",
       "\n",
       "[1016 rows x 5 columns]"
      ]
     },
     "execution_count": 11,
     "metadata": {},
     "output_type": "execute_result"
    }
   ],
   "source": [
    "# так как число \"задвоенных\" пользователей - около 5% от всего датасета, то уберем их из расчетов\n",
    "orders = orders.query(\"visitorId not in @result\")\n",
    "orders"
   ]
  },
  {
   "cell_type": "markdown",
   "metadata": {},
   "source": [
    "# Часть 1. Приоритизация гипотез."
   ]
  },
  {
   "cell_type": "markdown",
   "metadata": {},
   "source": [
    "## Фреймворк ICE"
   ]
  },
  {
   "cell_type": "code",
   "execution_count": 12,
   "metadata": {
    "scrolled": false
   },
   "outputs": [
    {
     "data": {
      "text/html": [
       "<div>\n",
       "<style scoped>\n",
       "    .dataframe tbody tr th:only-of-type {\n",
       "        vertical-align: middle;\n",
       "    }\n",
       "\n",
       "    .dataframe tbody tr th {\n",
       "        vertical-align: top;\n",
       "    }\n",
       "\n",
       "    .dataframe thead th {\n",
       "        text-align: right;\n",
       "    }\n",
       "</style>\n",
       "<table border=\"1\" class=\"dataframe\">\n",
       "  <thead>\n",
       "    <tr style=\"text-align: right;\">\n",
       "      <th></th>\n",
       "      <th>hypothesis</th>\n",
       "      <th>reach</th>\n",
       "      <th>impact</th>\n",
       "      <th>confidence</th>\n",
       "      <th>efforts</th>\n",
       "      <th>ICE</th>\n",
       "    </tr>\n",
       "  </thead>\n",
       "  <tbody>\n",
       "    <tr>\n",
       "      <th>8</th>\n",
       "      <td>Запустить акцию, дающую скидку на товар в день рождения</td>\n",
       "      <td>1</td>\n",
       "      <td>9</td>\n",
       "      <td>9</td>\n",
       "      <td>5</td>\n",
       "      <td>16.200000</td>\n",
       "    </tr>\n",
       "    <tr>\n",
       "      <th>0</th>\n",
       "      <td>Добавить два новых канала привлечения трафика, что позволит привлекать на 30% больше пользователей</td>\n",
       "      <td>3</td>\n",
       "      <td>10</td>\n",
       "      <td>8</td>\n",
       "      <td>6</td>\n",
       "      <td>13.333333</td>\n",
       "    </tr>\n",
       "    <tr>\n",
       "      <th>7</th>\n",
       "      <td>Добавить форму подписки на все основные страницы, чтобы собрать базу клиентов для email-рассылок</td>\n",
       "      <td>10</td>\n",
       "      <td>7</td>\n",
       "      <td>8</td>\n",
       "      <td>5</td>\n",
       "      <td>11.200000</td>\n",
       "    </tr>\n",
       "    <tr>\n",
       "      <th>6</th>\n",
       "      <td>Показать на главной странице баннеры с актуальными акциями и распродажами, чтобы увеличить конверсию</td>\n",
       "      <td>5</td>\n",
       "      <td>3</td>\n",
       "      <td>8</td>\n",
       "      <td>3</td>\n",
       "      <td>8.000000</td>\n",
       "    </tr>\n",
       "    <tr>\n",
       "      <th>2</th>\n",
       "      <td>Добавить блоки рекомендаций товаров на сайт интернет магазина, чтобы повысить конверсию и средний чек заказа</td>\n",
       "      <td>8</td>\n",
       "      <td>3</td>\n",
       "      <td>7</td>\n",
       "      <td>3</td>\n",
       "      <td>7.000000</td>\n",
       "    </tr>\n",
       "    <tr>\n",
       "      <th>1</th>\n",
       "      <td>Запустить собственную службу доставки, что сократит срок доставки заказов</td>\n",
       "      <td>2</td>\n",
       "      <td>5</td>\n",
       "      <td>4</td>\n",
       "      <td>10</td>\n",
       "      <td>2.000000</td>\n",
       "    </tr>\n",
       "    <tr>\n",
       "      <th>5</th>\n",
       "      <td>Добавить страницу отзывов клиентов о магазине, что позволит увеличить количество заказов</td>\n",
       "      <td>3</td>\n",
       "      <td>2</td>\n",
       "      <td>2</td>\n",
       "      <td>3</td>\n",
       "      <td>1.333333</td>\n",
       "    </tr>\n",
       "    <tr>\n",
       "      <th>3</th>\n",
       "      <td>Изменить структура категорий, что увеличит конверсию, т.к. пользователи быстрее найдут нужный товар</td>\n",
       "      <td>8</td>\n",
       "      <td>3</td>\n",
       "      <td>3</td>\n",
       "      <td>8</td>\n",
       "      <td>1.125000</td>\n",
       "    </tr>\n",
       "    <tr>\n",
       "      <th>4</th>\n",
       "      <td>Изменить цвет фона главной страницы, чтобы увеличить вовлеченность пользователей</td>\n",
       "      <td>3</td>\n",
       "      <td>1</td>\n",
       "      <td>1</td>\n",
       "      <td>1</td>\n",
       "      <td>1.000000</td>\n",
       "    </tr>\n",
       "  </tbody>\n",
       "</table>\n",
       "</div>"
      ],
      "text/plain": [
       "                                                                                                     hypothesis  \\\n",
       "8  Запустить акцию, дающую скидку на товар в день рождения                                                        \n",
       "0  Добавить два новых канала привлечения трафика, что позволит привлекать на 30% больше пользователей             \n",
       "7  Добавить форму подписки на все основные страницы, чтобы собрать базу клиентов для email-рассылок               \n",
       "6  Показать на главной странице баннеры с актуальными акциями и распродажами, чтобы увеличить конверсию           \n",
       "2  Добавить блоки рекомендаций товаров на сайт интернет магазина, чтобы повысить конверсию и средний чек заказа   \n",
       "1  Запустить собственную службу доставки, что сократит срок доставки заказов                                      \n",
       "5  Добавить страницу отзывов клиентов о магазине, что позволит увеличить количество заказов                       \n",
       "3  Изменить структура категорий, что увеличит конверсию, т.к. пользователи быстрее найдут нужный товар            \n",
       "4  Изменить цвет фона главной страницы, чтобы увеличить вовлеченность пользователей                               \n",
       "\n",
       "   reach  impact  confidence  efforts        ICE  \n",
       "8  1      9       9           5        16.200000  \n",
       "0  3      10      8           6        13.333333  \n",
       "7  10     7       8           5        11.200000  \n",
       "6  5      3       8           3        8.000000   \n",
       "2  8      3       7           3        7.000000   \n",
       "1  2      5       4           10       2.000000   \n",
       "5  3      2       2           3        1.333333   \n",
       "3  8      3       3           8        1.125000   \n",
       "4  3      1       1           1        1.000000   "
      ]
     },
     "metadata": {},
     "output_type": "display_data"
    }
   ],
   "source": [
    "# применим фреймворк ICE для оценки приоритета гипотез\n",
    "\n",
    "hypothesis['ICE'] = (hypothesis['impact'] * hypothesis['confidence'])/hypothesis['efforts']\n",
    "\n",
    "display(hypothesis.sort_values(by='ICE', ascending=False))"
   ]
  },
  {
   "cell_type": "markdown",
   "metadata": {},
   "source": [
    "8 гипотеза - самая перспективная, следом идут 0,7,6 и 2. Проверим приоритезацию по фреймворку RICE"
   ]
  },
  {
   "cell_type": "markdown",
   "metadata": {},
   "source": [
    "## Фреймворк RICE"
   ]
  },
  {
   "cell_type": "code",
   "execution_count": 13,
   "metadata": {},
   "outputs": [
    {
     "data": {
      "text/html": [
       "<div>\n",
       "<style scoped>\n",
       "    .dataframe tbody tr th:only-of-type {\n",
       "        vertical-align: middle;\n",
       "    }\n",
       "\n",
       "    .dataframe tbody tr th {\n",
       "        vertical-align: top;\n",
       "    }\n",
       "\n",
       "    .dataframe thead th {\n",
       "        text-align: right;\n",
       "    }\n",
       "</style>\n",
       "<table border=\"1\" class=\"dataframe\">\n",
       "  <thead>\n",
       "    <tr style=\"text-align: right;\">\n",
       "      <th></th>\n",
       "      <th>hypothesis</th>\n",
       "      <th>reach</th>\n",
       "      <th>impact</th>\n",
       "      <th>confidence</th>\n",
       "      <th>efforts</th>\n",
       "      <th>ICE</th>\n",
       "      <th>RICE</th>\n",
       "    </tr>\n",
       "  </thead>\n",
       "  <tbody>\n",
       "    <tr>\n",
       "      <th>7</th>\n",
       "      <td>Добавить форму подписки на все основные страницы, чтобы собрать базу клиентов для email-рассылок</td>\n",
       "      <td>10</td>\n",
       "      <td>7</td>\n",
       "      <td>8</td>\n",
       "      <td>5</td>\n",
       "      <td>11.200000</td>\n",
       "      <td>112.0</td>\n",
       "    </tr>\n",
       "    <tr>\n",
       "      <th>2</th>\n",
       "      <td>Добавить блоки рекомендаций товаров на сайт интернет магазина, чтобы повысить конверсию и средний чек заказа</td>\n",
       "      <td>8</td>\n",
       "      <td>3</td>\n",
       "      <td>7</td>\n",
       "      <td>3</td>\n",
       "      <td>7.000000</td>\n",
       "      <td>56.0</td>\n",
       "    </tr>\n",
       "    <tr>\n",
       "      <th>0</th>\n",
       "      <td>Добавить два новых канала привлечения трафика, что позволит привлекать на 30% больше пользователей</td>\n",
       "      <td>3</td>\n",
       "      <td>10</td>\n",
       "      <td>8</td>\n",
       "      <td>6</td>\n",
       "      <td>13.333333</td>\n",
       "      <td>40.0</td>\n",
       "    </tr>\n",
       "    <tr>\n",
       "      <th>6</th>\n",
       "      <td>Показать на главной странице баннеры с актуальными акциями и распродажами, чтобы увеличить конверсию</td>\n",
       "      <td>5</td>\n",
       "      <td>3</td>\n",
       "      <td>8</td>\n",
       "      <td>3</td>\n",
       "      <td>8.000000</td>\n",
       "      <td>40.0</td>\n",
       "    </tr>\n",
       "    <tr>\n",
       "      <th>8</th>\n",
       "      <td>Запустить акцию, дающую скидку на товар в день рождения</td>\n",
       "      <td>1</td>\n",
       "      <td>9</td>\n",
       "      <td>9</td>\n",
       "      <td>5</td>\n",
       "      <td>16.200000</td>\n",
       "      <td>16.2</td>\n",
       "    </tr>\n",
       "    <tr>\n",
       "      <th>3</th>\n",
       "      <td>Изменить структура категорий, что увеличит конверсию, т.к. пользователи быстрее найдут нужный товар</td>\n",
       "      <td>8</td>\n",
       "      <td>3</td>\n",
       "      <td>3</td>\n",
       "      <td>8</td>\n",
       "      <td>1.125000</td>\n",
       "      <td>9.0</td>\n",
       "    </tr>\n",
       "    <tr>\n",
       "      <th>1</th>\n",
       "      <td>Запустить собственную службу доставки, что сократит срок доставки заказов</td>\n",
       "      <td>2</td>\n",
       "      <td>5</td>\n",
       "      <td>4</td>\n",
       "      <td>10</td>\n",
       "      <td>2.000000</td>\n",
       "      <td>4.0</td>\n",
       "    </tr>\n",
       "    <tr>\n",
       "      <th>5</th>\n",
       "      <td>Добавить страницу отзывов клиентов о магазине, что позволит увеличить количество заказов</td>\n",
       "      <td>3</td>\n",
       "      <td>2</td>\n",
       "      <td>2</td>\n",
       "      <td>3</td>\n",
       "      <td>1.333333</td>\n",
       "      <td>4.0</td>\n",
       "    </tr>\n",
       "    <tr>\n",
       "      <th>4</th>\n",
       "      <td>Изменить цвет фона главной страницы, чтобы увеличить вовлеченность пользователей</td>\n",
       "      <td>3</td>\n",
       "      <td>1</td>\n",
       "      <td>1</td>\n",
       "      <td>1</td>\n",
       "      <td>1.000000</td>\n",
       "      <td>3.0</td>\n",
       "    </tr>\n",
       "  </tbody>\n",
       "</table>\n",
       "</div>"
      ],
      "text/plain": [
       "                                                                                                     hypothesis  \\\n",
       "7  Добавить форму подписки на все основные страницы, чтобы собрать базу клиентов для email-рассылок               \n",
       "2  Добавить блоки рекомендаций товаров на сайт интернет магазина, чтобы повысить конверсию и средний чек заказа   \n",
       "0  Добавить два новых канала привлечения трафика, что позволит привлекать на 30% больше пользователей             \n",
       "6  Показать на главной странице баннеры с актуальными акциями и распродажами, чтобы увеличить конверсию           \n",
       "8  Запустить акцию, дающую скидку на товар в день рождения                                                        \n",
       "3  Изменить структура категорий, что увеличит конверсию, т.к. пользователи быстрее найдут нужный товар            \n",
       "1  Запустить собственную службу доставки, что сократит срок доставки заказов                                      \n",
       "5  Добавить страницу отзывов клиентов о магазине, что позволит увеличить количество заказов                       \n",
       "4  Изменить цвет фона главной страницы, чтобы увеличить вовлеченность пользователей                               \n",
       "\n",
       "   reach  impact  confidence  efforts        ICE   RICE  \n",
       "7  10     7       8           5        11.200000  112.0  \n",
       "2  8      3       7           3        7.000000   56.0   \n",
       "0  3      10      8           6        13.333333  40.0   \n",
       "6  5      3       8           3        8.000000   40.0   \n",
       "8  1      9       9           5        16.200000  16.2   \n",
       "3  8      3       3           8        1.125000   9.0    \n",
       "1  2      5       4           10       2.000000   4.0    \n",
       "5  3      2       2           3        1.333333   4.0    \n",
       "4  3      1       1           1        1.000000   3.0    "
      ]
     },
     "metadata": {},
     "output_type": "display_data"
    }
   ],
   "source": [
    "# применим фреймворк RICE для оценки приоритета гипотез\n",
    "\n",
    "hypothesis['RICE'] = (hypothesis['reach'] * hypothesis['impact'] * hypothesis['confidence'])/hypothesis['efforts']\n",
    "\n",
    "display(hypothesis.sort_values(by='RICE', ascending=False))\n"
   ]
  },
  {
   "cell_type": "markdown",
   "metadata": {},
   "source": [
    "И снова перспективные гипотезы 0,2,6,7 и 8. Однако на первом месте - 7 и 2, у них самые высокие показатели Reach. В то же время у самой перспективной гипотезы по ICE (номер 8) этот показатель всего 1. И действительно, по логике акция ко дню рождения покупателя имеет меньший охват по сравнению с внедрением формы обратной связи на всех страницах.\n",
    "\n",
    "Выберем в качестве приоритетной гипотезы номер 7 - \"Добавить форму подписки на все основные страницы, чтобы собрать базу клиентов для email-рассылок\"."
   ]
  },
  {
   "cell_type": "markdown",
   "metadata": {},
   "source": [
    "# Часть 2. Анализ A/B-теста"
   ]
  },
  {
   "cell_type": "markdown",
   "metadata": {},
   "source": [
    "## График кумулятивной выручки по группам"
   ]
  },
  {
   "cell_type": "code",
   "execution_count": 14,
   "metadata": {
    "scrolled": true
   },
   "outputs": [
    {
     "name": "stdout",
     "output_type": "stream",
     "text": [
      "        date group  orders  buyers  revenue  visitors\n",
      "0 2019-08-01  A     23      19      142779   719     \n",
      "1 2019-08-01  B     17      17      59758    713     \n",
      "2 2019-08-02  A     42      36      234381   1338    \n",
      "3 2019-08-02  B     40      39      221801   1294    \n",
      "4 2019-08-03  A     66      60      346854   1845    \n"
     ]
    }
   ],
   "source": [
    "# создаем массив уникальных пар значений дат и групп теста\n",
    "datesGroups = orders[['date','group']].drop_duplicates()\n",
    "\n",
    "# получаем агрегированные кумулятивные по дням данные о заказах \n",
    "ordersAggregated = datesGroups.apply(lambda x: orders[np.logical_and(orders['date'] <= x['date'], orders['group'] == x['group'])].agg({'date' : 'max', 'group' : 'max', 'transactionId' : 'nunique', 'visitorId' : 'nunique', 'revenue' : 'sum'}), axis=1).sort_values(by=['date','group'])\n",
    "\n",
    "# получаем агрегированные кумулятивные по дням данные о посетителях интернет-магазина \n",
    "visitorsAggregated = datesGroups.apply(lambda x: visitors[np.logical_and(visitors['date'] <= x['date'], visitors['group'] == x['group'])].agg({'date' : 'max', 'group' : 'max', 'visitors' : 'sum'}), axis=1).sort_values(by=['date','group'])\n",
    "\n",
    "# объединяем кумулятивные данные в одной таблице и присваиваем ее столбцам понятные названия\n",
    "cumulativeData = ordersAggregated.merge(visitorsAggregated, left_on=['date', 'group'], right_on=['date', 'group'])\n",
    "cumulativeData.columns = ['date', 'group', 'orders', 'buyers', 'revenue', 'visitors']\n",
    "\n",
    "print(cumulativeData.head(5))"
   ]
  },
  {
   "cell_type": "markdown",
   "metadata": {},
   "source": [
    "Построим графики кумулятивной выручки по дням и группам A/B-тестирования:\n"
   ]
  },
  {
   "cell_type": "code",
   "execution_count": 15,
   "metadata": {},
   "outputs": [
    {
     "data": {
      "image/png": "[encoded data removed]",
      "text/plain": [
       "<Figure size 432x288 with 1 Axes>"
      ]
     },
     "metadata": {
      "needs_background": "light"
     },
     "output_type": "display_data"
    }
   ],
   "source": [
    "import matplotlib.pyplot as plt\n",
    "\n",
    "# датафрейм с кумулятивным количеством заказов и кумулятивной выручкой по дням в группе А\n",
    "cumulativeRevenueA = cumulativeData[cumulativeData['group']=='A'][['date','revenue', 'orders']]\n",
    "\n",
    "# датафрейм с кумулятивным количеством заказов и кумулятивной выручкой по дням в группе B\n",
    "cumulativeRevenueB = cumulativeData[cumulativeData['group']=='B'][['date','revenue', 'orders']]\n",
    "\n",
    "# Строим график выручки группы А\n",
    "plt.plot(cumulativeRevenueA['date'], cumulativeRevenueA['revenue'], label='A')\n",
    "\n",
    "# Строим график выручки группы B\n",
    "plt.plot(cumulativeRevenueB['date'], cumulativeRevenueB['revenue'], label='B')\n",
    "\n",
    "plt.legend()\n",
    "plt.xticks(rotation = 45)\n",
    "\n",
    "plt.ylabel('Кумулятивная выручка')\n",
    "plt.xlabel('Дата')\n",
    "plt.title('Динамика кумулятивной выручки по дням')\n",
    "plt.show()"
   ]
  },
  {
   "cell_type": "markdown",
   "metadata": {},
   "source": [
    "Выручка почти равномерно увеличивается в течение всего теста. Хороший знак.\n",
    "Однако график выручки группы В в одной из точек резко растет. Это может сигнализировать о всплесках числа заказов, либо о появлении очень дорогих заказов в выборке. Проверим это позже."
   ]
  },
  {
   "cell_type": "markdown",
   "metadata": {},
   "source": [
    "## График кумулятивного среднего чека по группам"
   ]
  },
  {
   "cell_type": "markdown",
   "metadata": {},
   "source": [
    "Построим графики среднего чека по группам — разделим кумулятивную выручку на кумулятивное число заказов:"
   ]
  },
  {
   "cell_type": "code",
   "execution_count": 16,
   "metadata": {},
   "outputs": [
    {
     "data": {
      "image/png": "[encoded data removed]",
      "text/plain": [
       "<Figure size 432x288 with 1 Axes>"
      ]
     },
     "metadata": {
      "needs_background": "light"
     },
     "output_type": "display_data"
    }
   ],
   "source": [
    "plt.plot(cumulativeRevenueA['date'], cumulativeRevenueA['revenue']/cumulativeRevenueA['orders'], label='A')\n",
    "plt.plot(cumulativeRevenueB['date'], cumulativeRevenueB['revenue']/cumulativeRevenueB['orders'], label='B')\n",
    "plt.axis([dt.datetime(2019, 8, 1), dt.datetime(2019, 8, 31), 0, 11000])\n",
    "plt.legend()\n",
    "\n",
    "plt.xticks(rotation = 45)\n",
    "\n",
    "plt.ylabel('Кумулятивный средний чек')\n",
    "plt.xlabel('Дата')\n",
    "plt.title('Динамика кумулятивного среднего чека по группам')\n",
    "plt.show()"
   ]
  },
  {
   "cell_type": "markdown",
   "metadata": {},
   "source": [
    "Средний чек становится равномерным ближе к концу теста: установился для группы A и продолжает падать для группы B. Возможно, в группу B в середине теста попали крупные заказы (резкий всплеск на графике). Тогда ей нужно больше данных, чтобы прийти к реальному среднему чеку и установиться на его уровне."
   ]
  },
  {
   "cell_type": "markdown",
   "metadata": {},
   "source": [
    "## График относительного изменения кумулятивного среднего чека B к A"
   ]
  },
  {
   "cell_type": "markdown",
   "metadata": {},
   "source": [
    "Построим график относительного различия для среднего чека. Добавим горизонтальную ось методом axhline() "
   ]
  },
  {
   "cell_type": "code",
   "execution_count": 17,
   "metadata": {},
   "outputs": [
    {
     "data": {
      "image/png": "[encoded data removed]",
      "text/plain": [
       "<Figure size 432x288 with 1 Axes>"
      ]
     },
     "metadata": {
      "needs_background": "light"
     },
     "output_type": "display_data"
    }
   ],
   "source": [
    "# собираем данные в одном датафрейме\n",
    "mergedCumulativeRevenue = cumulativeRevenueA.merge(cumulativeRevenueB, left_on='date', right_on='date', how='left', suffixes=['A', 'B'])\n",
    "\n",
    "# cтроим отношение средних чеков\n",
    "plt.plot(mergedCumulativeRevenue['date'], (mergedCumulativeRevenue['revenueB']/mergedCumulativeRevenue['ordersB'])/(mergedCumulativeRevenue['revenueA']/mergedCumulativeRevenue['ordersA'])-1)\n",
    "\n",
    "# добавляем ось X\n",
    "plt.axhline(y=0, color='black', linestyle='--')\n",
    "\n",
    "plt.xticks(rotation = 45)\n",
    "\n",
    "plt.ylabel('Изменение среднего чека B к A')\n",
    "plt.xlabel('Дата')\n",
    "plt.title('График относительного изменения кумулятивного среднего чека B к A')\n",
    "plt.show()"
   ]
  },
  {
   "cell_type": "markdown",
   "metadata": {},
   "source": [
    "В нескольких точках график различия между сегментами резко «скачет». Где-то уж точно спрятались крупные заказы и выбросы! Найдём их позже."
   ]
  },
  {
   "cell_type": "markdown",
   "metadata": {},
   "source": [
    "## График кумулятивной конверсии по группам"
   ]
  },
  {
   "cell_type": "code",
   "execution_count": 18,
   "metadata": {},
   "outputs": [
    {
     "data": {
      "image/png": "[encoded data removed]",
      "text/plain": [
       "<Figure size 432x288 with 1 Axes>"
      ]
     },
     "metadata": {
      "needs_background": "light"
     },
     "output_type": "display_data"
    }
   ],
   "source": [
    "# считаем кумулятивную конверсию\n",
    "cumulativeData['conversion'] = cumulativeData['orders']/cumulativeData['visitors']\n",
    "\n",
    "# отделяем данные по группе A\n",
    "cumulativeDataA = cumulativeData[cumulativeData['group']=='A']\n",
    "\n",
    "# отделяем данные по группе B\n",
    "cumulativeDataB = cumulativeData[cumulativeData['group']=='B']\n",
    "\n",
    "# строим графики\n",
    "plt.plot(cumulativeDataA['date'], cumulativeDataA['conversion'], label='A')\n",
    "plt.plot(cumulativeDataB['date'], cumulativeDataB['conversion'], label='B')\n",
    "plt.legend()\n",
    "\n",
    "# задаем масштаб осей\n",
    "plt.axis([dt.datetime(2019, 8, 1), dt.datetime(2019, 8, 31), 0, 0.04])\n",
    "\n",
    "plt.xticks(rotation = 45)\n",
    "\n",
    "plt.ylabel('Кумулятивная конверсия')\n",
    "plt.xlabel('Дата')\n",
    "plt.title('График кумулятивной конверсии по группам')\n",
    "plt.show()"
   ]
  },
  {
   "cell_type": "markdown",
   "metadata": {},
   "source": [
    "По графику накопительная конверсия по группе B практически на всем протяжении лежит значительно выше накопительной конверсии группы A. Начиная с 4 августа вверх берет группа В и стабилизируется к середине теста."
   ]
  },
  {
   "cell_type": "markdown",
   "metadata": {},
   "source": [
    "## График относительного изменения кумулятивной конверсии B к A"
   ]
  },
  {
   "cell_type": "code",
   "execution_count": 19,
   "metadata": {},
   "outputs": [
    {
     "data": {
      "image/png": "[encoded data removed]",
      "text/plain": [
       "<Figure size 432x288 with 1 Axes>"
      ]
     },
     "metadata": {
      "needs_background": "light"
     },
     "output_type": "display_data"
    }
   ],
   "source": [
    "mergedCumulativeConversions = cumulativeDataA[['date','conversion']].merge(cumulativeDataB[['date','conversion']], left_on='date', right_on='date', how='left', suffixes=['A', 'B'])\n",
    "\n",
    "plt.plot(mergedCumulativeConversions['date'], mergedCumulativeConversions['conversionB']/mergedCumulativeConversions['conversionA']-1, label=\"Относительный прирост конверсии группы B относительно группы A\")\n",
    "plt.legend()\n",
    "\n",
    "plt.axhline(y=0, color='black', linestyle='--')\n",
    "plt.axhline(y=0.1, color='grey', linestyle='--')\n",
    "#plt.axis(['2019-08-01', '2019-08-31', -0.6, 0.6])\n",
    "plt.axis([dt.datetime(2019, 8, 1), dt.datetime(2019, 8, 31), -0.4, 0.4])\n",
    "\n",
    "plt.xticks(rotation = 45)\n",
    "\n",
    "plt.ylabel('Кумулятивная конверсия')\n",
    "plt.xlabel('Дата')\n",
    "plt.title('Относительное изменение кумулятивной конверсии B к A')\n",
    "plt.show()"
   ]
  },
  {
   "cell_type": "markdown",
   "metadata": {},
   "source": [
    "Конверсия в группе B стабильно лучше конверсии в группе A на 10% по просшествии 1 недели после начала. В начале теста группа B немного проигрывала группе A, затем вырвалась вперёд. После некоторых скачков, прирост конверси выровнялся и зафиксировался на относительно одном уровне."
   ]
  },
  {
   "cell_type": "markdown",
   "metadata": {},
   "source": [
    "## Точечный график количества заказов по пользователям"
   ]
  },
  {
   "cell_type": "code",
   "execution_count": 20,
   "metadata": {},
   "outputs": [
    {
     "name": "stdout",
     "output_type": "stream",
     "text": [
      "      visitorId  orders\n",
      "908  3967698036  3     \n",
      "55   249864742   3     \n",
      "478  2108163459  3     \n",
      "687  2988190573  3     \n",
      "890  3908431265  3     \n",
      "138  611059232   3     \n",
      "632  2742574263  3     \n",
      "157  678354126   2     \n",
      "323  1404560065  2     \n",
      "452  1985475298  2     \n"
     ]
    },
    {
     "data": {
      "image/png": "[encoded data removed]",
      "text/plain": [
       "<Figure size 432x288 with 1 Axes>"
      ]
     },
     "metadata": {
      "needs_background": "light"
     },
     "output_type": "display_data"
    }
   ],
   "source": [
    "ordersByUsers = (\n",
    "    orders.groupby('visitorId', as_index=False)\n",
    "    .agg({'transactionId': 'nunique'})\n",
    ")\n",
    "\n",
    "ordersByUsers.columns = ['visitorId', 'orders']\n",
    "\n",
    "print(ordersByUsers.sort_values(by='orders', ascending=False).head(10)) \n",
    "\n",
    "x_values = pd.Series(range(0,len(ordersByUsers)))\n",
    "\n",
    "plt.scatter(x_values, ordersByUsers['orders'])\n",
    "\n",
    "plt.ylabel('Количество заказов')\n",
    "plt.xlabel('Пользователи')\n",
    "plt.title('Количество заказов по пользователям')\n",
    "plt.show()"
   ]
  },
  {
   "cell_type": "markdown",
   "metadata": {},
   "source": [
    "В основном пользователи делают 1 заказ, меньшее кол-во поьзователей делает 2 заказа, но их все же много. Есть выбросы где пользователи делают 8,9, 11 заказов. По графику можно выбрать границу аномальных заказов между 2 и 4 заказами. Их точная доля не ясна — непонятно, считать их аномалиями или нет. Чтобы ответить на этот вопрос, посчитаем выборочные перцентили количества заказов на одного пользователя."
   ]
  },
  {
   "cell_type": "markdown",
   "metadata": {},
   "source": [
    "## 95-й и 99-й перцентили количества заказов на пользователя"
   ]
  },
  {
   "cell_type": "code",
   "execution_count": 21,
   "metadata": {},
   "outputs": [
    {
     "name": "stdout",
     "output_type": "stream",
     "text": [
      "[1. 2.]\n"
     ]
    }
   ],
   "source": [
    "print(np.percentile(ordersByUsers['orders'], [95, 99])) "
   ]
  },
  {
   "cell_type": "markdown",
   "metadata": {},
   "source": [
    "Не более 5% пользователей оформляли больше чем 1 заказ. И всего 1% пользователей заказывали более двух раз.\n",
    "Разумно выбрать 1 заказа на одного пользователя за нижнюю границу числа заказов, и отсеять аномальных пользователей по ней. Удалением таких строк займёмся позже."
   ]
  },
  {
   "cell_type": "markdown",
   "metadata": {},
   "source": [
    "## Точечный график стоимостей заказов"
   ]
  },
  {
   "cell_type": "code",
   "execution_count": 22,
   "metadata": {},
   "outputs": [
    {
     "data": {
      "image/png": "[encoded data removed]",
      "text/plain": [
       "<Figure size 432x288 with 1 Axes>"
      ]
     },
     "metadata": {
      "needs_background": "light"
     },
     "output_type": "display_data"
    }
   ],
   "source": [
    "x_values = pd.Series(range(0,len(orders['revenue'])))\n",
    "plt.scatter(x_values, orders['revenue'])\n",
    "\n",
    "\n",
    "plt.ylabel('Стоимость заказов')\n",
    "plt.xlabel('Пользователи')\n",
    "plt.title('Точечный график стоимостей заказов')\n",
    "plt.show()\n"
   ]
  },
  {
   "cell_type": "markdown",
   "metadata": {},
   "source": [
    "Видим несколько выбросов, значительно выше средней стоимости заказов. Посмотрим более детально распределение на более крупном масштабе:"
   ]
  },
  {
   "cell_type": "code",
   "execution_count": 23,
   "metadata": {},
   "outputs": [
    {
     "data": {
      "image/png": "[encoded data removed]",
      "text/plain": [
       "<Figure size 432x288 with 1 Axes>"
      ]
     },
     "metadata": {
      "needs_background": "light"
     },
     "output_type": "display_data"
    }
   ],
   "source": [
    "x_values = pd.Series(range(0,len(orders['revenue'])))\n",
    "plt.scatter(x_values, orders['revenue'])\n",
    "plt.axis([0, 1030, 0, 200000])\n",
    "\n",
    "plt.ylabel('Стоимость заказов')\n",
    "plt.xlabel('Пользователи')\n",
    "plt.title('Точечный график стоимостей заказов')\n",
    "plt.show()\n"
   ]
  },
  {
   "cell_type": "markdown",
   "metadata": {},
   "source": [
    "Визуально можем оценить, что большинство заказов не превышет стоимость между 25 и 50 тысячами. Проверим, какое относительное количество заказов приходится на заказы, дороже этих цифр. Посчитаем 95 и 99 перцентили."
   ]
  },
  {
   "cell_type": "markdown",
   "metadata": {},
   "source": [
    "## 95-й и 99-й перцентили стоимости заказов"
   ]
  },
  {
   "cell_type": "markdown",
   "metadata": {},
   "source": [
    "Определим 95 и 99 перцентили стоимости заказа выборке:\n"
   ]
  },
  {
   "cell_type": "code",
   "execution_count": 24,
   "metadata": {},
   "outputs": [
    {
     "name": "stdout",
     "output_type": "stream",
     "text": [
      "[26785. 53904.]\n"
     ]
    }
   ],
   "source": [
    "print(np.percentile(orders['revenue'], [95, 99]))"
   ]
  },
  {
   "cell_type": "markdown",
   "metadata": {},
   "source": [
    "Не более 5% заказов дороже 26 785 рублей и не более 1% дороже 53 904 рублей. Можем взять в качестве границы аномальных значений показатель 26 785 руб, соответствующий 95-му перцентилю."
   ]
  },
  {
   "cell_type": "markdown",
   "metadata": {},
   "source": [
    "## Стат. значимость различий в конверсии между группами по «сырым» данным"
   ]
  },
  {
   "cell_type": "markdown",
   "metadata": {},
   "source": [
    "Так как у нас есть значительные (по сравнению с нормальным распределением) выбросы в данных, стоит применить  тест, основанный на структурном подходе (непараметрический). Для расчетов возьмем U-критерий Манна-Уитни.\n",
    "\n",
    "Сформулируем нулевую гипотезу: Статистически значимых различий в конверсии между группами по \"сырым\" данным нет. Установим порог значимости в 0,05."
   ]
  },
  {
   "cell_type": "markdown",
   "metadata": {},
   "source": [
    "Для наглядности расчетов создадим таблицу с дневными показателями количества заказов, выручки и количества посетителей в разбивке по группам, а также накопительный итог на каждый день по этим показателям."
   ]
  },
  {
   "cell_type": "code",
   "execution_count": 25,
   "metadata": {},
   "outputs": [
    {
     "data": {
      "text/html": [
       "<div>\n",
       "<style scoped>\n",
       "    .dataframe tbody tr th:only-of-type {\n",
       "        vertical-align: middle;\n",
       "    }\n",
       "\n",
       "    .dataframe tbody tr th {\n",
       "        vertical-align: top;\n",
       "    }\n",
       "\n",
       "    .dataframe thead th {\n",
       "        text-align: right;\n",
       "    }\n",
       "</style>\n",
       "<table border=\"1\" class=\"dataframe\">\n",
       "  <thead>\n",
       "    <tr style=\"text-align: right;\">\n",
       "      <th></th>\n",
       "      <th>date</th>\n",
       "      <th>ordersPerDateA</th>\n",
       "      <th>revenuePerDateA</th>\n",
       "      <th>ordersPerDateB</th>\n",
       "      <th>revenuePerDateB</th>\n",
       "      <th>ordersCummulativeA</th>\n",
       "      <th>revenueCummulativeA</th>\n",
       "      <th>ordersCummulativeB</th>\n",
       "      <th>revenueCummulativeB</th>\n",
       "      <th>visitorsPerDateA</th>\n",
       "      <th>visitorsPerDateB</th>\n",
       "      <th>visitorsCummulativeA</th>\n",
       "      <th>visitorsCummulativeB</th>\n",
       "    </tr>\n",
       "  </thead>\n",
       "  <tbody>\n",
       "    <tr>\n",
       "      <th>0</th>\n",
       "      <td>2019-08-01</td>\n",
       "      <td>23</td>\n",
       "      <td>142779</td>\n",
       "      <td>17</td>\n",
       "      <td>59758</td>\n",
       "      <td>23</td>\n",
       "      <td>142779</td>\n",
       "      <td>17</td>\n",
       "      <td>59758</td>\n",
       "      <td>719</td>\n",
       "      <td>713</td>\n",
       "      <td>719</td>\n",
       "      <td>713</td>\n",
       "    </tr>\n",
       "    <tr>\n",
       "      <th>1</th>\n",
       "      <td>2019-08-02</td>\n",
       "      <td>19</td>\n",
       "      <td>91602</td>\n",
       "      <td>23</td>\n",
       "      <td>162043</td>\n",
       "      <td>42</td>\n",
       "      <td>234381</td>\n",
       "      <td>40</td>\n",
       "      <td>221801</td>\n",
       "      <td>619</td>\n",
       "      <td>581</td>\n",
       "      <td>1338</td>\n",
       "      <td>1294</td>\n",
       "    </tr>\n",
       "    <tr>\n",
       "      <th>2</th>\n",
       "      <td>2019-08-03</td>\n",
       "      <td>24</td>\n",
       "      <td>112473</td>\n",
       "      <td>14</td>\n",
       "      <td>67049</td>\n",
       "      <td>66</td>\n",
       "      <td>346854</td>\n",
       "      <td>54</td>\n",
       "      <td>288850</td>\n",
       "      <td>507</td>\n",
       "      <td>509</td>\n",
       "      <td>1845</td>\n",
       "      <td>1803</td>\n",
       "    </tr>\n",
       "    <tr>\n",
       "      <th>3</th>\n",
       "      <td>2019-08-04</td>\n",
       "      <td>11</td>\n",
       "      <td>41176</td>\n",
       "      <td>14</td>\n",
       "      <td>96890</td>\n",
       "      <td>77</td>\n",
       "      <td>388030</td>\n",
       "      <td>68</td>\n",
       "      <td>385740</td>\n",
       "      <td>717</td>\n",
       "      <td>770</td>\n",
       "      <td>2562</td>\n",
       "      <td>2573</td>\n",
       "    </tr>\n",
       "    <tr>\n",
       "      <th>4</th>\n",
       "      <td>2019-08-05</td>\n",
       "      <td>22</td>\n",
       "      <td>86383</td>\n",
       "      <td>21</td>\n",
       "      <td>89908</td>\n",
       "      <td>99</td>\n",
       "      <td>474413</td>\n",
       "      <td>89</td>\n",
       "      <td>475648</td>\n",
       "      <td>756</td>\n",
       "      <td>707</td>\n",
       "      <td>3318</td>\n",
       "      <td>3280</td>\n",
       "    </tr>\n",
       "  </tbody>\n",
       "</table>\n",
       "</div>"
      ],
      "text/plain": [
       "        date  ordersPerDateA  revenuePerDateA  ordersPerDateB  \\\n",
       "0 2019-08-01  23              142779           17               \n",
       "1 2019-08-02  19              91602            23               \n",
       "2 2019-08-03  24              112473           14               \n",
       "3 2019-08-04  11              41176            14               \n",
       "4 2019-08-05  22              86383            21               \n",
       "\n",
       "   revenuePerDateB  ordersCummulativeA  revenueCummulativeA  \\\n",
       "0  59758            23                  142779                \n",
       "1  162043           42                  234381                \n",
       "2  67049            66                  346854                \n",
       "3  96890            77                  388030                \n",
       "4  89908            99                  474413                \n",
       "\n",
       "   ordersCummulativeB  revenueCummulativeB  visitorsPerDateA  \\\n",
       "0  17                  59758                719                \n",
       "1  40                  221801               619                \n",
       "2  54                  288850               507                \n",
       "3  68                  385740               717                \n",
       "4  89                  475648               756                \n",
       "\n",
       "   visitorsPerDateB  visitorsCummulativeA  visitorsCummulativeB  \n",
       "0  713               719                   713                   \n",
       "1  581               1338                  1294                  \n",
       "2  509               1845                  1803                  \n",
       "3  770               2562                  2573                  \n",
       "4  707               3318                  3280                  "
      ]
     },
     "metadata": {},
     "output_type": "display_data"
    }
   ],
   "source": [
    "visitorsADaily = visitors[visitors['group'] == 'A'][['date', 'visitors']]\n",
    "visitorsADaily.columns = ['date', 'visitorsPerDateA']\n",
    "\n",
    "visitorsACummulative = visitorsADaily.apply(\n",
    "    lambda x: visitorsADaily[visitorsADaily['date'] <= x['date']].agg(\n",
    "        {'date': 'max', 'visitorsPerDateA': 'sum'}\n",
    "    ),\n",
    "    axis=1,\n",
    ")\n",
    "visitorsACummulative.columns = ['date', 'visitorsCummulativeA']\n",
    "\n",
    "visitorsBDaily = visitors[visitors['group'] == 'B'][['date', 'visitors']]\n",
    "visitorsBDaily.columns = ['date', 'visitorsPerDateB']\n",
    "\n",
    "visitorsBCummulative = visitorsBDaily.apply(\n",
    "    lambda x: visitorsBDaily[visitorsBDaily['date'] <= x['date']].agg(\n",
    "        {'date': 'max', 'visitorsPerDateB': 'sum'}\n",
    "    ),\n",
    "    axis=1,\n",
    ")\n",
    "visitorsBCummulative.columns = ['date', 'visitorsCummulativeB']\n",
    "\n",
    "ordersADaily = (\n",
    "    orders[orders['group'] == 'A'][['date', 'transactionId', 'visitorId', 'revenue']]\n",
    "    .groupby('date', as_index=False)\n",
    "    .agg({'transactionId': pd.Series.nunique, 'revenue': 'sum'})\n",
    ")\n",
    "ordersADaily.columns = ['date', 'ordersPerDateA', 'revenuePerDateA']\n",
    "\n",
    "ordersACummulative = ordersADaily.apply(\n",
    "    lambda x: ordersADaily[ordersADaily['date'] <= x['date']].agg(\n",
    "        {'date': 'max', 'ordersPerDateA': 'sum', 'revenuePerDateA': 'sum'}\n",
    "    ),\n",
    "    axis=1,\n",
    ").sort_values(by=['date'])\n",
    "ordersACummulative.columns = [\n",
    "    'date',\n",
    "    'ordersCummulativeA',\n",
    "    'revenueCummulativeA',\n",
    "]\n",
    "\n",
    "ordersBDaily = (\n",
    "    orders[orders['group'] == 'B'][['date', 'transactionId', 'visitorId', 'revenue']]\n",
    "    .groupby('date', as_index=False)\n",
    "    .agg({'transactionId': pd.Series.nunique, 'revenue': 'sum'})\n",
    ")\n",
    "ordersBDaily.columns = ['date', 'ordersPerDateB', 'revenuePerDateB']\n",
    "\n",
    "ordersBCummulative = ordersBDaily.apply(\n",
    "    lambda x: ordersBDaily[ordersBDaily['date'] <= x['date']].agg(\n",
    "        {'date': 'max', 'ordersPerDateB': 'sum', 'revenuePerDateB': 'sum'}\n",
    "    ),\n",
    "    axis=1,\n",
    ").sort_values(by=['date'])\n",
    "ordersBCummulative.columns = [\n",
    "    'date',\n",
    "    'ordersCummulativeB',\n",
    "    'revenueCummulativeB',\n",
    "]\n",
    "\n",
    "data = (\n",
    "    ordersADaily.merge(\n",
    "        ordersBDaily, left_on='date', right_on='date', how='left'\n",
    "    )\n",
    "    .merge(ordersACummulative, left_on='date', right_on='date', how='left')\n",
    "    .merge(ordersBCummulative, left_on='date', right_on='date', how='left')\n",
    "    .merge(visitorsADaily, left_on='date', right_on='date', how='left')\n",
    "    .merge(visitorsBDaily, left_on='date', right_on='date', how='left')\n",
    "    .merge(visitorsACummulative, left_on='date', right_on='date', how='left')\n",
    "    .merge(visitorsBCummulative, left_on='date', right_on='date', how='left')\n",
    ")\n",
    "\n",
    "display(data.head(5))"
   ]
  },
  {
   "cell_type": "code",
   "execution_count": 26,
   "metadata": {},
   "outputs": [
    {
     "name": "stdout",
     "output_type": "stream",
     "text": [
      "P-value: 0.011\n",
      "Относительное различие группы B и A: 0.160\n"
     ]
    }
   ],
   "source": [
    "#Создадим переменные ordersByUsersA и ordersByUsersB со столбцами ['userId', 'orders']. \n",
    "# В них для пользователей, которые заказывали хотя бы 1 раз, укажем число совершённых заказов.\n",
    "\n",
    "ordersByUsersA = (\n",
    "    orders[orders['group'] == 'A']\n",
    "    .groupby('visitorId', as_index=False)\n",
    "    .agg({'transactionId': pd.Series.nunique})\n",
    ")\n",
    "ordersByUsersA.columns = ['visitorId', 'orders']\n",
    "\n",
    "ordersByUsersB = (\n",
    "    orders[orders['group'] == 'B']\n",
    "    .groupby('visitorId', as_index=False)\n",
    "    .agg({'transactionId': pd.Series.nunique})\n",
    ")\n",
    "ordersByUsersB.columns = ['visitorId', 'orders']\n",
    "\n",
    "#Объявим переменные sampleA и sampleB, в которых пользователям из разных групп \n",
    "# будет соответствовать количество заказов. Тем, кто ничего не заказал, будут соответствовать нули. \n",
    "# Это нужно, чтобы подготовить выборки к проверке критерием Манна-Уитни.\n",
    "\n",
    "sampleA = pd.concat(\n",
    "    [\n",
    "        ordersByUsersA['orders'],\n",
    "        pd.Series(\n",
    "            0,\n",
    "            index=np.arange(\n",
    "                data['visitorsPerDateA'].sum() - len(ordersByUsersA['orders'])\n",
    "            ),\n",
    "            name='orders',\n",
    "        ),\n",
    "    ],\n",
    "    axis=0,\n",
    ")\n",
    "\n",
    "sampleB = pd.concat(\n",
    "    [\n",
    "        ordersByUsersB['orders'],\n",
    "        pd.Series(\n",
    "            0,\n",
    "            index=np.arange(\n",
    "                data['visitorsPerDateB'].sum() - len(ordersByUsersB['orders'])\n",
    "            ),\n",
    "            name='orders',\n",
    "        ),\n",
    "    ],\n",
    "    axis=0,\n",
    ")\n",
    "\n",
    "# Применим критерий и отформатируем p-value, округлив его до трёх знаков после запятой.\n",
    "\n",
    "print(\"P-value: {0:.3f}\".format(stats.mannwhitneyu(sampleA, sampleB)[1]))\n",
    "\n",
    "# Выведем относительный прирост среднего числа заказов группы B: \n",
    "# среднее число заказов группы B / среднее число заказов группы A - 1. Округлим до трёх знаков после запятой.\n",
    "\n",
    "print(\"Относительное различие группы B и A: {0:.3f}\".format(sampleB.mean() / sampleA.mean() - 1))\n"
   ]
  },
  {
   "cell_type": "markdown",
   "metadata": {},
   "source": [
    "Значение p-value значительно меньше порога в 0,05, следовательно нулевую гипотезу мы отвергаем. Показатели конверсии по группам разнятся - их относительное различие достигает 16 процентов."
   ]
  },
  {
   "cell_type": "markdown",
   "metadata": {},
   "source": [
    "##  Стат. значимость различий в среднем чеке заказа между группами по «сырым» данным"
   ]
  },
  {
   "cell_type": "markdown",
   "metadata": {},
   "source": [
    "Сформулируем нулевую гипотезу: Статистически значимых различий в среднем чеке заказа между группами по «сырым» данным нет"
   ]
  },
  {
   "cell_type": "markdown",
   "metadata": {},
   "source": [
    "Чтобы рассчитать статистическую значимость различий в среднем чеке, передадим критерию mannwhitneyu() данные о выручке с заказов.\n",
    "А ещё найдём относительные различия в среднем чеке между группами:"
   ]
  },
  {
   "cell_type": "code",
   "execution_count": 27,
   "metadata": {},
   "outputs": [
    {
     "name": "stdout",
     "output_type": "stream",
     "text": [
      "P-value: 0.829\n",
      "Относительное различие группы B и A: 0.287\n"
     ]
    }
   ],
   "source": [
    "print('P-value: {0:.3f}'.format(stats.mannwhitneyu(orders[orders['group']=='A']['revenue'], orders[orders['group']=='B']['revenue'])[1]))\n",
    "print('Относительное различие группы B и A: {0:.3f}'.format(orders[orders['group']=='B']['revenue'].mean()/orders[orders['group']=='A']['revenue'].mean()-1))"
   ]
  },
  {
   "cell_type": "markdown",
   "metadata": {},
   "source": [
    "Первое число — p-value = 0.829 значительно больше 0.05. Значит, нулевую гипотезу о том, что статистически значимых различий в среднем чеке между группами нет, не отвергаем. Относительный выигрыш группы B относительно А равен 28,7%."
   ]
  },
  {
   "cell_type": "markdown",
   "metadata": {},
   "source": [
    "Посчитаем количество \"аномальных\" покупателей (количество заказов больше 1, а сумма заказов больше 26785)."
   ]
  },
  {
   "cell_type": "code",
   "execution_count": 28,
   "metadata": {},
   "outputs": [
    {
     "name": "stdout",
     "output_type": "stream",
     "text": [
      "568     113298937\n",
      "1099    148427295\n",
      "928     204675465\n",
      "33      249864742\n",
      "684     358944393\n",
      "Name: visitorId, dtype: int64\n",
      "86\n"
     ]
    }
   ],
   "source": [
    "usersWithManyOrders = pd.concat(\n",
    "    [\n",
    "        ordersByUsersA[ordersByUsersA['orders'] > 1]['visitorId'],\n",
    "        ordersByUsersB[ordersByUsersB['orders'] > 1]['visitorId'],\n",
    "    ],\n",
    "    axis=0,\n",
    ")\n",
    "usersWithExpensiveOrders = orders[orders['revenue'] > 26785]['visitorId']\n",
    "\n",
    "abnormalUsers = (\n",
    "    pd.concat([usersWithManyOrders, usersWithExpensiveOrders], axis=0)\n",
    "    .drop_duplicates()\n",
    "    .sort_values()\n",
    ")\n",
    "print(abnormalUsers.head(5))\n",
    "print(abnormalUsers.shape[0])"
   ]
  },
  {
   "cell_type": "markdown",
   "metadata": {},
   "source": [
    "Всего 86 аномальных пользователей.\n",
    "\n",
    "Узнаем, как их действия повлияли на результаты теста. Посчитаем статистическую значимость различий в конверсии между группами теста по очищенным данным. Сначала подготовим выборки количества заказов по пользователям по группам теста:"
   ]
  },
  {
   "cell_type": "markdown",
   "metadata": {},
   "source": [
    "## Стат. значимость различий в конверсии между группами по «очищенным» данным"
   ]
  },
  {
   "cell_type": "markdown",
   "metadata": {},
   "source": [
    "Сформулируем нулевую гипотезу: Статистически значимых различий в конверсии между группами по \"очищенным\" данным нет"
   ]
  },
  {
   "cell_type": "code",
   "execution_count": 29,
   "metadata": {},
   "outputs": [],
   "source": [
    "sampleAFiltered = pd.concat(\n",
    "    [\n",
    "        ordersByUsersA[\n",
    "            np.logical_not(ordersByUsersA['visitorId'].isin(abnormalUsers))\n",
    "        ]['orders'],\n",
    "        pd.Series(\n",
    "            0,\n",
    "            index=np.arange(\n",
    "                data['visitorsPerDateA'].sum() - len(ordersByUsersA['orders'])\n",
    "            ),\n",
    "            name='orders',\n",
    "        ),\n",
    "    ],\n",
    "    axis=0,\n",
    ")\n",
    "\n",
    "sampleBFiltered = pd.concat(\n",
    "    [\n",
    "        ordersByUsersB[\n",
    "            np.logical_not(ordersByUsersB['visitorId'].isin(abnormalUsers))\n",
    "        ]['orders'],\n",
    "        pd.Series(\n",
    "            0,\n",
    "            index=np.arange(\n",
    "                data['visitorsPerDateB'].sum() - len(ordersByUsersB['orders'])\n",
    "            ),\n",
    "            name='orders',\n",
    "        ),\n",
    "    ],\n",
    "    axis=0,\n",
    ")"
   ]
  },
  {
   "cell_type": "markdown",
   "metadata": {},
   "source": [
    "Применим статистический критерий Манна-Уитни к полученным выборкам:\n"
   ]
  },
  {
   "cell_type": "code",
   "execution_count": 30,
   "metadata": {},
   "outputs": [
    {
     "name": "stdout",
     "output_type": "stream",
     "text": [
      "P-value: 0.016\n",
      "Относительное различие группы B и A: 0.174\n"
     ]
    }
   ],
   "source": [
    "print('P-value: {0:.3f}'.format(stats.mannwhitneyu(sampleAFiltered, sampleBFiltered)[1]))\n",
    "print('Относительное различие группы B и A: {0:.3f}'.format(sampleBFiltered.mean()/sampleAFiltered.mean()-1))"
   ]
  },
  {
   "cell_type": "markdown",
   "metadata": {},
   "source": [
    "Значение P-value по прежнему меньше 0,05. Относительное различие по конверсии немного увеличилось - с 16 до 17,4 процентов. Так как это очищенные данные, то мы можем с большей вероятностью утверждать, что эти различия имеют статистическую значимость."
   ]
  },
  {
   "cell_type": "markdown",
   "metadata": {},
   "source": [
    "##  Стат. значимость различий в среднем чеке заказа между группами по «очищенным» данным"
   ]
  },
  {
   "cell_type": "markdown",
   "metadata": {},
   "source": [
    "Сформулируем нулевую гипотезу: Статистически значимых различий в среднем чеке заказа между группами по «очищенным» данным нет"
   ]
  },
  {
   "cell_type": "code",
   "execution_count": 31,
   "metadata": {},
   "outputs": [
    {
     "name": "stdout",
     "output_type": "stream",
     "text": [
      "P-value: 0.727\n",
      "Относительное различие группы B и A: -0.034\n"
     ]
    }
   ],
   "source": [
    "print(\n",
    "    'P-value: {0:.3f}'.format(\n",
    "        stats.mannwhitneyu(\n",
    "            orders[\n",
    "                np.logical_and(\n",
    "                    orders['group'] == 'A',\n",
    "                    np.logical_not(orders['visitorId'].isin(abnormalUsers)),\n",
    "                )\n",
    "            ]['revenue'],\n",
    "            orders[\n",
    "                np.logical_and(\n",
    "                    orders['group'] == 'B',\n",
    "                    np.logical_not(orders['visitorId'].isin(abnormalUsers)),\n",
    "                )\n",
    "            ]['revenue'],\n",
    "        )[1]\n",
    "    )\n",
    ")\n",
    "\n",
    "print(\n",
    "    \"Относительное различие группы B и A: {0:.3f}\".format(\n",
    "        orders[\n",
    "            np.logical_and(\n",
    "                orders['group'] == 'B',\n",
    "                np.logical_not(orders['visitorId'].isin(abnormalUsers)),\n",
    "            )\n",
    "        ]['revenue'].mean()\n",
    "        / orders[\n",
    "            np.logical_and(\n",
    "                orders['group'] == 'A',\n",
    "                np.logical_not(orders['visitorId'].isin(abnormalUsers)),\n",
    "            )\n",
    "        ]['revenue'].mean()\n",
    "        - 1\n",
    "    )\n",
    ")\n",
    "\n"
   ]
  },
  {
   "cell_type": "markdown",
   "metadata": {},
   "source": [
    "Как и в случае с \"сырыми\" данными показатель P-value значительно больше 0,05, а значит мы не можем отвергнуть нулевую гипотезу. Однако стоит отметить изменение относительной разницы между группами - теперь группа В вместо выигрыша 28 процентов - даже проигрывает 3 процента другой группе. Следовательно, статистической разницы между исследуемых групп нет."
   ]
  },
  {
   "cell_type": "markdown",
   "metadata": {},
   "source": [
    "# Выводы по результатам A/B теста"
   ]
  },
  {
   "cell_type": "markdown",
   "metadata": {},
   "source": [
    "В ходе проекта мы подготовили данные, полученные в результате АВ-теста, очистили их от пользователей, оказавшихся одновременно в двух группах. Расставили гипотезы по приоритетам и проверили основные показатели по выручке, среднему чеку и конверсии, чтобы сделать выводы об успешности проведенного теста.\n",
    "\n",
    "Были приоритизированы имеющиеся гипотезы по двум фреймворкам - ICE и RICE. В итоге гипотеза, имеющая максимальный показатель охвата (reach) получила больший приоритет и выбрана в качестве основной.\n",
    "\n",
    "Кумулятивные метрики по выручке, среднему чеку и конверсии почти все время лидировали в группе B. Были некоторые скачки на графиках выручки и среднего чека, связанные с выбросами - крупными заказами. Однако после очистки от аномальных пользователей, ситуация поменялась - относительная разница между средними чеками стала минимальна. \n",
    "\n",
    "До и после очистки данных, показатель конверсии в группе B больше чем в группе A - с 16% до 17,3% после очистки данных. Данная разница показателей конверсии между группами и до и после очистки данных является статистически значимой, что пользволяет нам сделать вывод о том, что мы можем остановить наш A/B тест и зафиксировать успешные показатели группы B."
   ]
  },
  {
   "cell_type": "code",
   "execution_count": null,
   "metadata": {},
   "outputs": [],
   "source": []
  }
 ],
 "metadata": {
  "ExecuteTimeLog": [
   {
    "duration": 1543,
    "start_time": "2022-07-06T07:27:10.116Z"
   },
   {
    "duration": 45,
    "start_time": "2022-07-06T07:27:23.092Z"
   },
   {
    "duration": 17,
    "start_time": "2022-07-06T07:30:37.725Z"
   },
   {
    "duration": 20,
    "start_time": "2022-07-06T07:37:54.583Z"
   },
   {
    "duration": 131,
    "start_time": "2022-07-06T07:38:23.246Z"
   },
   {
    "duration": 8,
    "start_time": "2022-07-06T07:38:24.983Z"
   },
   {
    "duration": 20,
    "start_time": "2022-07-06T07:38:42.168Z"
   },
   {
    "duration": 24,
    "start_time": "2022-07-06T08:43:09.079Z"
   },
   {
    "duration": 16,
    "start_time": "2022-07-06T08:44:04.896Z"
   },
   {
    "duration": 26,
    "start_time": "2022-07-06T08:44:25.155Z"
   },
   {
    "duration": 376,
    "start_time": "2022-07-06T08:44:44.569Z"
   },
   {
    "duration": 12,
    "start_time": "2022-07-06T08:45:57.483Z"
   },
   {
    "duration": 29,
    "start_time": "2022-07-06T08:59:59.224Z"
   },
   {
    "duration": 16,
    "start_time": "2022-07-06T09:01:05.164Z"
   },
   {
    "duration": 11,
    "start_time": "2022-07-06T09:02:27.969Z"
   },
   {
    "duration": 24,
    "start_time": "2022-07-06T09:02:42.927Z"
   },
   {
    "duration": 39,
    "start_time": "2022-07-06T09:02:47.535Z"
   },
   {
    "duration": 16,
    "start_time": "2022-07-06T09:13:23.486Z"
   },
   {
    "duration": 21,
    "start_time": "2022-07-06T09:13:41.986Z"
   },
   {
    "duration": 5,
    "start_time": "2022-07-06T09:23:03.291Z"
   },
   {
    "duration": 29,
    "start_time": "2022-07-06T09:33:30.294Z"
   },
   {
    "duration": 309,
    "start_time": "2022-07-06T09:54:52.669Z"
   },
   {
    "duration": 285,
    "start_time": "2022-07-06T09:55:34.739Z"
   },
   {
    "duration": 186,
    "start_time": "2022-07-06T09:57:45.612Z"
   },
   {
    "duration": 339,
    "start_time": "2022-07-06T10:31:49.571Z"
   },
   {
    "duration": 266,
    "start_time": "2022-07-06T10:39:59.310Z"
   },
   {
    "duration": 1215,
    "start_time": "2022-07-06T10:41:07.772Z"
   },
   {
    "duration": 30,
    "start_time": "2022-07-06T10:41:08.990Z"
   },
   {
    "duration": 58,
    "start_time": "2022-07-06T10:41:09.022Z"
   },
   {
    "duration": 18,
    "start_time": "2022-07-06T10:41:09.082Z"
   },
   {
    "duration": 32,
    "start_time": "2022-07-06T10:41:09.102Z"
   },
   {
    "duration": 33,
    "start_time": "2022-07-06T10:41:09.136Z"
   },
   {
    "duration": 21,
    "start_time": "2022-07-06T10:41:09.177Z"
   },
   {
    "duration": 24,
    "start_time": "2022-07-06T10:41:09.200Z"
   },
   {
    "duration": 26,
    "start_time": "2022-07-06T10:41:09.226Z"
   },
   {
    "duration": 30,
    "start_time": "2022-07-06T10:41:09.256Z"
   },
   {
    "duration": 325,
    "start_time": "2022-07-06T10:41:09.288Z"
   },
   {
    "duration": 307,
    "start_time": "2022-07-06T10:41:09.616Z"
   },
   {
    "duration": 206,
    "start_time": "2022-07-06T10:41:09.924Z"
   },
   {
    "duration": 347,
    "start_time": "2022-07-06T10:41:10.132Z"
   },
   {
    "duration": 219,
    "start_time": "2022-07-06T10:41:10.482Z"
   },
   {
    "duration": 1211,
    "start_time": "2022-07-06T10:46:09.967Z"
   },
   {
    "duration": 242,
    "start_time": "2022-07-06T10:46:44.724Z"
   },
   {
    "duration": 365,
    "start_time": "2022-07-06T11:01:57.617Z"
   },
   {
    "duration": 322,
    "start_time": "2022-07-06T11:03:43.178Z"
   },
   {
    "duration": 1331,
    "start_time": "2022-07-06T11:09:40.981Z"
   },
   {
    "duration": 24,
    "start_time": "2022-07-06T11:09:42.314Z"
   },
   {
    "duration": 57,
    "start_time": "2022-07-06T11:09:42.339Z"
   },
   {
    "duration": 17,
    "start_time": "2022-07-06T11:09:42.398Z"
   },
   {
    "duration": 505,
    "start_time": "2022-07-06T11:09:42.418Z"
   },
   {
    "duration": 0,
    "start_time": "2022-07-06T11:09:42.925Z"
   },
   {
    "duration": 0,
    "start_time": "2022-07-06T11:09:42.926Z"
   },
   {
    "duration": 0,
    "start_time": "2022-07-06T11:09:42.928Z"
   },
   {
    "duration": 0,
    "start_time": "2022-07-06T11:09:42.929Z"
   },
   {
    "duration": 0,
    "start_time": "2022-07-06T11:09:42.930Z"
   },
   {
    "duration": 0,
    "start_time": "2022-07-06T11:09:42.931Z"
   },
   {
    "duration": 0,
    "start_time": "2022-07-06T11:09:42.933Z"
   },
   {
    "duration": 0,
    "start_time": "2022-07-06T11:09:42.934Z"
   },
   {
    "duration": 0,
    "start_time": "2022-07-06T11:09:42.936Z"
   },
   {
    "duration": 0,
    "start_time": "2022-07-06T11:09:42.937Z"
   },
   {
    "duration": 0,
    "start_time": "2022-07-06T11:09:42.938Z"
   },
   {
    "duration": 1354,
    "start_time": "2022-07-06T11:11:22.137Z"
   },
   {
    "duration": 27,
    "start_time": "2022-07-06T11:11:23.494Z"
   },
   {
    "duration": 65,
    "start_time": "2022-07-06T11:11:23.523Z"
   },
   {
    "duration": 17,
    "start_time": "2022-07-06T11:11:23.590Z"
   },
   {
    "duration": 22,
    "start_time": "2022-07-06T11:11:23.610Z"
   },
   {
    "duration": 70,
    "start_time": "2022-07-06T11:11:23.634Z"
   },
   {
    "duration": 15,
    "start_time": "2022-07-06T11:11:23.706Z"
   },
   {
    "duration": 36,
    "start_time": "2022-07-06T11:11:23.723Z"
   },
   {
    "duration": 30,
    "start_time": "2022-07-06T11:11:23.769Z"
   },
   {
    "duration": 4,
    "start_time": "2022-07-06T11:11:23.801Z"
   },
   {
    "duration": 402,
    "start_time": "2022-07-06T11:11:23.806Z"
   },
   {
    "duration": 430,
    "start_time": "2022-07-06T11:11:24.209Z"
   },
   {
    "duration": 287,
    "start_time": "2022-07-06T11:11:24.641Z"
   },
   {
    "duration": 365,
    "start_time": "2022-07-06T11:11:24.932Z"
   },
   {
    "duration": 227,
    "start_time": "2022-07-06T11:11:25.299Z"
   },
   {
    "duration": 482,
    "start_time": "2022-07-06T11:11:25.528Z"
   },
   {
    "duration": 328,
    "start_time": "2022-07-06T11:12:22.285Z"
   },
   {
    "duration": 301,
    "start_time": "2022-07-06T11:16:59.586Z"
   },
   {
    "duration": 297,
    "start_time": "2022-07-06T11:18:34.855Z"
   },
   {
    "duration": 399,
    "start_time": "2022-07-06T11:18:49.167Z"
   },
   {
    "duration": 300,
    "start_time": "2022-07-06T11:18:58.051Z"
   },
   {
    "duration": 315,
    "start_time": "2022-07-06T11:19:10.265Z"
   },
   {
    "duration": 205,
    "start_time": "2022-07-06T11:19:47.469Z"
   },
   {
    "duration": 190,
    "start_time": "2022-07-06T11:20:39.203Z"
   },
   {
    "duration": 319,
    "start_time": "2022-07-06T11:28:13.010Z"
   },
   {
    "duration": 16,
    "start_time": "2022-07-06T11:33:53.885Z"
   },
   {
    "duration": 29,
    "start_time": "2022-07-06T11:34:31.450Z"
   },
   {
    "duration": 20,
    "start_time": "2022-07-06T11:40:21.500Z"
   },
   {
    "duration": 193,
    "start_time": "2022-07-06T11:41:01.057Z"
   },
   {
    "duration": 5,
    "start_time": "2022-07-06T11:45:43.558Z"
   },
   {
    "duration": 129,
    "start_time": "2022-07-06T11:48:53.276Z"
   },
   {
    "duration": 129,
    "start_time": "2022-07-06T11:49:37.077Z"
   },
   {
    "duration": 133,
    "start_time": "2022-07-06T11:52:03.977Z"
   },
   {
    "duration": 141,
    "start_time": "2022-07-06T11:52:20.130Z"
   },
   {
    "duration": 134,
    "start_time": "2022-07-06T11:52:23.979Z"
   },
   {
    "duration": 153,
    "start_time": "2022-07-06T11:53:00.981Z"
   },
   {
    "duration": 212,
    "start_time": "2022-07-06T11:53:15.281Z"
   },
   {
    "duration": 4,
    "start_time": "2022-07-06T11:54:19.326Z"
   },
   {
    "duration": 4,
    "start_time": "2022-07-06T11:54:29.530Z"
   },
   {
    "duration": 5,
    "start_time": "2022-07-06T11:56:54.137Z"
   },
   {
    "duration": 158,
    "start_time": "2022-07-06T13:24:05.670Z"
   },
   {
    "duration": 181,
    "start_time": "2022-07-06T13:31:39.970Z"
   },
   {
    "duration": 253,
    "start_time": "2022-07-06T13:32:14.943Z"
   },
   {
    "duration": 296,
    "start_time": "2022-07-06T13:32:21.986Z"
   },
   {
    "duration": 195,
    "start_time": "2022-07-06T13:33:53.568Z"
   },
   {
    "duration": 1337,
    "start_time": "2022-07-06T13:37:34.163Z"
   },
   {
    "duration": 27,
    "start_time": "2022-07-06T13:37:35.502Z"
   },
   {
    "duration": 57,
    "start_time": "2022-07-06T13:37:35.531Z"
   },
   {
    "duration": 20,
    "start_time": "2022-07-06T13:37:35.590Z"
   },
   {
    "duration": 21,
    "start_time": "2022-07-06T13:37:35.613Z"
   },
   {
    "duration": 24,
    "start_time": "2022-07-06T13:37:35.635Z"
   },
   {
    "duration": 41,
    "start_time": "2022-07-06T13:37:35.661Z"
   },
   {
    "duration": 25,
    "start_time": "2022-07-06T13:37:35.705Z"
   },
   {
    "duration": 32,
    "start_time": "2022-07-06T13:37:35.732Z"
   },
   {
    "duration": 12,
    "start_time": "2022-07-06T13:37:35.774Z"
   },
   {
    "duration": 312,
    "start_time": "2022-07-06T13:37:35.788Z"
   },
   {
    "duration": 308,
    "start_time": "2022-07-06T13:37:36.102Z"
   },
   {
    "duration": 191,
    "start_time": "2022-07-06T13:37:36.412Z"
   },
   {
    "duration": 281,
    "start_time": "2022-07-06T13:37:36.605Z"
   },
   {
    "duration": 203,
    "start_time": "2022-07-06T13:37:36.888Z"
   },
   {
    "duration": 288,
    "start_time": "2022-07-06T13:37:37.093Z"
   },
   {
    "duration": 152,
    "start_time": "2022-07-06T13:37:37.382Z"
   },
   {
    "duration": 151,
    "start_time": "2022-07-06T13:37:37.535Z"
   },
   {
    "duration": 5,
    "start_time": "2022-07-06T13:37:37.690Z"
   },
   {
    "duration": 159,
    "start_time": "2022-07-06T13:37:37.697Z"
   },
   {
    "duration": 245,
    "start_time": "2022-07-06T13:37:37.862Z"
   },
   {
    "duration": 5,
    "start_time": "2022-07-06T13:37:38.109Z"
   },
   {
    "duration": 266,
    "start_time": "2022-07-06T13:37:38.116Z"
   },
   {
    "duration": 199,
    "start_time": "2022-07-06T13:37:38.387Z"
   },
   {
    "duration": 29,
    "start_time": "2022-07-06T13:39:46.468Z"
   },
   {
    "duration": 1227,
    "start_time": "2022-07-06T13:40:57.384Z"
   },
   {
    "duration": 19,
    "start_time": "2022-07-06T13:41:22.776Z"
   },
   {
    "duration": 12,
    "start_time": "2022-07-06T13:46:13.871Z"
   },
   {
    "duration": 40,
    "start_time": "2022-07-06T13:46:36.338Z"
   },
   {
    "duration": 26,
    "start_time": "2022-07-06T13:49:18.740Z"
   },
   {
    "duration": 11,
    "start_time": "2022-07-06T14:03:50.208Z"
   },
   {
    "duration": 28,
    "start_time": "2022-07-06T14:05:20.738Z"
   },
   {
    "duration": 11,
    "start_time": "2022-07-06T14:06:15.804Z"
   },
   {
    "duration": 21,
    "start_time": "2022-07-06T14:06:24.572Z"
   },
   {
    "duration": 22,
    "start_time": "2022-07-06T14:07:29.317Z"
   },
   {
    "duration": 14,
    "start_time": "2022-07-06T14:07:46.786Z"
   },
   {
    "duration": 190,
    "start_time": "2022-07-06T14:07:51.739Z"
   },
   {
    "duration": 41,
    "start_time": "2022-07-06T14:07:59.252Z"
   },
   {
    "duration": 23,
    "start_time": "2022-07-06T14:08:10.066Z"
   },
   {
    "duration": 114,
    "start_time": "2022-07-06T14:09:47.274Z"
   },
   {
    "duration": 1256,
    "start_time": "2022-07-06T14:41:34.270Z"
   },
   {
    "duration": 41,
    "start_time": "2022-07-06T14:41:35.528Z"
   },
   {
    "duration": 32,
    "start_time": "2022-07-06T14:41:35.579Z"
   },
   {
    "duration": 18,
    "start_time": "2022-07-06T14:41:35.613Z"
   },
   {
    "duration": 65,
    "start_time": "2022-07-06T14:41:35.633Z"
   },
   {
    "duration": 19,
    "start_time": "2022-07-06T14:41:35.700Z"
   },
   {
    "duration": 12,
    "start_time": "2022-07-06T14:41:35.720Z"
   },
   {
    "duration": 34,
    "start_time": "2022-07-06T14:41:35.735Z"
   },
   {
    "duration": 34,
    "start_time": "2022-07-06T14:41:35.771Z"
   },
   {
    "duration": 3,
    "start_time": "2022-07-06T14:41:35.808Z"
   },
   {
    "duration": 323,
    "start_time": "2022-07-06T14:41:35.813Z"
   },
   {
    "duration": 310,
    "start_time": "2022-07-06T14:41:36.138Z"
   },
   {
    "duration": 186,
    "start_time": "2022-07-06T14:41:36.450Z"
   },
   {
    "duration": 339,
    "start_time": "2022-07-06T14:41:36.641Z"
   },
   {
    "duration": 202,
    "start_time": "2022-07-06T14:41:36.982Z"
   },
   {
    "duration": 288,
    "start_time": "2022-07-06T14:41:37.186Z"
   },
   {
    "duration": 144,
    "start_time": "2022-07-06T14:41:37.476Z"
   },
   {
    "duration": 158,
    "start_time": "2022-07-06T14:41:37.621Z"
   },
   {
    "duration": 5,
    "start_time": "2022-07-06T14:41:37.785Z"
   },
   {
    "duration": 156,
    "start_time": "2022-07-06T14:41:37.791Z"
   },
   {
    "duration": 242,
    "start_time": "2022-07-06T14:41:37.949Z"
   },
   {
    "duration": 5,
    "start_time": "2022-07-06T14:41:38.192Z"
   },
   {
    "duration": 262,
    "start_time": "2022-07-06T14:41:38.198Z"
   },
   {
    "duration": 193,
    "start_time": "2022-07-06T14:41:38.465Z"
   },
   {
    "duration": 14,
    "start_time": "2022-07-06T14:41:38.660Z"
   },
   {
    "duration": 28,
    "start_time": "2022-07-06T14:41:38.676Z"
   },
   {
    "duration": 8,
    "start_time": "2022-07-06T14:41:38.706Z"
   },
   {
    "duration": 23,
    "start_time": "2022-07-06T14:41:38.717Z"
   },
   {
    "duration": 30,
    "start_time": "2022-07-06T14:41:38.746Z"
   },
   {
    "duration": 59,
    "start_time": "2022-07-07T08:37:29.604Z"
   },
   {
    "duration": 1240,
    "start_time": "2022-07-07T08:37:39.707Z"
   },
   {
    "duration": 94,
    "start_time": "2022-07-07T08:37:40.957Z"
   },
   {
    "duration": 217,
    "start_time": "2022-07-07T08:37:41.058Z"
   },
   {
    "duration": 17,
    "start_time": "2022-07-07T08:37:41.276Z"
   },
   {
    "duration": 19,
    "start_time": "2022-07-07T08:37:41.295Z"
   },
   {
    "duration": 20,
    "start_time": "2022-07-07T08:37:41.315Z"
   },
   {
    "duration": 10,
    "start_time": "2022-07-07T08:37:41.336Z"
   },
   {
    "duration": 21,
    "start_time": "2022-07-07T08:37:41.347Z"
   },
   {
    "duration": 16,
    "start_time": "2022-07-07T08:37:41.369Z"
   },
   {
    "duration": 4,
    "start_time": "2022-07-07T08:37:41.386Z"
   },
   {
    "duration": 301,
    "start_time": "2022-07-07T08:37:41.392Z"
   },
   {
    "duration": 249,
    "start_time": "2022-07-07T08:37:41.695Z"
   },
   {
    "duration": 164,
    "start_time": "2022-07-07T08:37:41.945Z"
   },
   {
    "duration": 287,
    "start_time": "2022-07-07T08:37:42.112Z"
   },
   {
    "duration": 184,
    "start_time": "2022-07-07T08:37:42.401Z"
   },
   {
    "duration": 278,
    "start_time": "2022-07-07T08:37:42.587Z"
   },
   {
    "duration": 131,
    "start_time": "2022-07-07T08:37:42.867Z"
   },
   {
    "duration": 119,
    "start_time": "2022-07-07T08:37:43.000Z"
   },
   {
    "duration": 4,
    "start_time": "2022-07-07T08:37:43.120Z"
   },
   {
    "duration": 142,
    "start_time": "2022-07-07T08:37:43.126Z"
   },
   {
    "duration": 204,
    "start_time": "2022-07-07T08:37:43.270Z"
   },
   {
    "duration": 5,
    "start_time": "2022-07-07T08:37:43.475Z"
   },
   {
    "duration": 242,
    "start_time": "2022-07-07T08:37:43.482Z"
   },
   {
    "duration": 160,
    "start_time": "2022-07-07T08:37:43.726Z"
   },
   {
    "duration": 11,
    "start_time": "2022-07-07T08:37:43.887Z"
   },
   {
    "duration": 8,
    "start_time": "2022-07-07T08:37:43.900Z"
   },
   {
    "duration": 10,
    "start_time": "2022-07-07T08:37:43.910Z"
   },
   {
    "duration": 47,
    "start_time": "2022-07-07T08:37:43.921Z"
   },
   {
    "duration": 12,
    "start_time": "2022-07-07T08:37:43.970Z"
   },
   {
    "duration": 11,
    "start_time": "2022-07-07T09:29:13.817Z"
   },
   {
    "duration": 12,
    "start_time": "2022-07-07T09:29:22.499Z"
   },
   {
    "duration": 1103,
    "start_time": "2022-07-07T09:31:09.610Z"
   },
   {
    "duration": 35,
    "start_time": "2022-07-07T09:31:10.715Z"
   },
   {
    "duration": 76,
    "start_time": "2022-07-07T09:31:10.752Z"
   },
   {
    "duration": 18,
    "start_time": "2022-07-07T09:31:10.831Z"
   },
   {
    "duration": 20,
    "start_time": "2022-07-07T09:31:10.851Z"
   },
   {
    "duration": 17,
    "start_time": "2022-07-07T09:31:10.873Z"
   },
   {
    "duration": 17,
    "start_time": "2022-07-07T09:31:10.892Z"
   },
   {
    "duration": 19,
    "start_time": "2022-07-07T09:31:10.911Z"
   },
   {
    "duration": 18,
    "start_time": "2022-07-07T09:31:10.952Z"
   },
   {
    "duration": 284,
    "start_time": "2022-07-07T09:31:10.974Z"
   },
   {
    "duration": 271,
    "start_time": "2022-07-07T09:31:11.260Z"
   },
   {
    "duration": 168,
    "start_time": "2022-07-07T09:31:11.533Z"
   },
   {
    "duration": 268,
    "start_time": "2022-07-07T09:31:11.703Z"
   },
   {
    "duration": 183,
    "start_time": "2022-07-07T09:31:11.973Z"
   },
   {
    "duration": 282,
    "start_time": "2022-07-07T09:31:12.158Z"
   },
   {
    "duration": 140,
    "start_time": "2022-07-07T09:31:12.442Z"
   },
   {
    "duration": 130,
    "start_time": "2022-07-07T09:31:12.584Z"
   },
   {
    "duration": 4,
    "start_time": "2022-07-07T09:31:12.715Z"
   },
   {
    "duration": 169,
    "start_time": "2022-07-07T09:31:12.721Z"
   },
   {
    "duration": 401,
    "start_time": "2022-07-07T09:31:12.892Z"
   },
   {
    "duration": 58,
    "start_time": "2022-07-07T09:31:13.295Z"
   },
   {
    "duration": 428,
    "start_time": "2022-07-07T09:31:13.355Z"
   },
   {
    "duration": 370,
    "start_time": "2022-07-07T09:31:13.785Z"
   },
   {
    "duration": 10,
    "start_time": "2022-07-07T09:31:14.157Z"
   },
   {
    "duration": 9,
    "start_time": "2022-07-07T09:31:14.169Z"
   },
   {
    "duration": 7,
    "start_time": "2022-07-07T09:31:14.179Z"
   },
   {
    "duration": 75,
    "start_time": "2022-07-07T09:31:14.188Z"
   },
   {
    "duration": 13,
    "start_time": "2022-07-07T09:31:14.266Z"
   },
   {
    "duration": 1144,
    "start_time": "2022-07-07T09:31:50.170Z"
   },
   {
    "duration": 41,
    "start_time": "2022-07-07T09:31:51.317Z"
   },
   {
    "duration": 88,
    "start_time": "2022-07-07T09:31:51.361Z"
   },
   {
    "duration": 24,
    "start_time": "2022-07-07T09:31:51.451Z"
   },
   {
    "duration": 29,
    "start_time": "2022-07-07T09:31:51.477Z"
   },
   {
    "duration": 22,
    "start_time": "2022-07-07T09:31:51.508Z"
   },
   {
    "duration": 51,
    "start_time": "2022-07-07T09:31:51.531Z"
   },
   {
    "duration": 36,
    "start_time": "2022-07-07T09:31:51.583Z"
   },
   {
    "duration": 17,
    "start_time": "2022-07-07T09:31:51.621Z"
   },
   {
    "duration": 369,
    "start_time": "2022-07-07T09:31:51.640Z"
   },
   {
    "duration": 353,
    "start_time": "2022-07-07T09:31:52.010Z"
   },
   {
    "duration": 188,
    "start_time": "2022-07-07T09:31:52.365Z"
   },
   {
    "duration": 319,
    "start_time": "2022-07-07T09:31:52.556Z"
   },
   {
    "duration": 208,
    "start_time": "2022-07-07T09:31:52.879Z"
   },
   {
    "duration": 285,
    "start_time": "2022-07-07T09:31:53.088Z"
   },
   {
    "duration": 136,
    "start_time": "2022-07-07T09:31:53.375Z"
   },
   {
    "duration": 144,
    "start_time": "2022-07-07T09:31:53.513Z"
   },
   {
    "duration": 6,
    "start_time": "2022-07-07T09:31:53.659Z"
   },
   {
    "duration": 162,
    "start_time": "2022-07-07T09:31:53.666Z"
   },
   {
    "duration": 249,
    "start_time": "2022-07-07T09:31:53.829Z"
   },
   {
    "duration": 5,
    "start_time": "2022-07-07T09:31:54.080Z"
   },
   {
    "duration": 280,
    "start_time": "2022-07-07T09:31:54.087Z"
   },
   {
    "duration": 212,
    "start_time": "2022-07-07T09:31:54.369Z"
   },
   {
    "duration": 10,
    "start_time": "2022-07-07T09:31:54.583Z"
   },
   {
    "duration": 28,
    "start_time": "2022-07-07T09:31:54.594Z"
   },
   {
    "duration": 10,
    "start_time": "2022-07-07T09:31:54.623Z"
   },
   {
    "duration": 41,
    "start_time": "2022-07-07T09:31:54.635Z"
   },
   {
    "duration": 24,
    "start_time": "2022-07-07T09:31:54.678Z"
   },
   {
    "duration": 33,
    "start_time": "2022-07-07T09:33:33.991Z"
   },
   {
    "duration": 1128,
    "start_time": "2022-07-07T09:36:08.753Z"
   },
   {
    "duration": 42,
    "start_time": "2022-07-07T09:36:09.883Z"
   },
   {
    "duration": 50,
    "start_time": "2022-07-07T09:36:09.927Z"
   },
   {
    "duration": 15,
    "start_time": "2022-07-07T09:36:09.978Z"
   },
   {
    "duration": 19,
    "start_time": "2022-07-07T09:36:09.995Z"
   },
   {
    "duration": 15,
    "start_time": "2022-07-07T09:36:10.016Z"
   },
   {
    "duration": 10,
    "start_time": "2022-07-07T09:36:10.032Z"
   },
   {
    "duration": 15,
    "start_time": "2022-07-07T09:36:10.044Z"
   },
   {
    "duration": 11,
    "start_time": "2022-07-07T09:36:10.061Z"
   },
   {
    "duration": 293,
    "start_time": "2022-07-07T09:36:10.074Z"
   },
   {
    "duration": 245,
    "start_time": "2022-07-07T09:36:10.369Z"
   },
   {
    "duration": 165,
    "start_time": "2022-07-07T09:36:10.616Z"
   },
   {
    "duration": 252,
    "start_time": "2022-07-07T09:36:10.783Z"
   },
   {
    "duration": 177,
    "start_time": "2022-07-07T09:36:11.038Z"
   },
   {
    "duration": 311,
    "start_time": "2022-07-07T09:36:11.217Z"
   },
   {
    "duration": 125,
    "start_time": "2022-07-07T09:36:11.529Z"
   },
   {
    "duration": 4,
    "start_time": "2022-07-07T09:36:11.655Z"
   },
   {
    "duration": 136,
    "start_time": "2022-07-07T09:36:11.660Z"
   },
   {
    "duration": 136,
    "start_time": "2022-07-07T09:36:11.797Z"
   },
   {
    "duration": 4,
    "start_time": "2022-07-07T09:36:11.934Z"
   },
   {
    "duration": 291,
    "start_time": "2022-07-07T09:36:11.940Z"
   },
   {
    "duration": 154,
    "start_time": "2022-07-07T09:36:12.233Z"
   },
   {
    "duration": 10,
    "start_time": "2022-07-07T09:36:12.389Z"
   },
   {
    "duration": 10,
    "start_time": "2022-07-07T09:36:12.401Z"
   },
   {
    "duration": 11,
    "start_time": "2022-07-07T09:36:12.412Z"
   },
   {
    "duration": 42,
    "start_time": "2022-07-07T09:36:12.424Z"
   },
   {
    "duration": 13,
    "start_time": "2022-07-07T09:36:12.467Z"
   },
   {
    "duration": 1392,
    "start_time": "2022-07-08T04:18:19.704Z"
   },
   {
    "duration": 38,
    "start_time": "2022-07-08T04:18:21.098Z"
   },
   {
    "duration": 31,
    "start_time": "2022-07-08T04:18:21.137Z"
   },
   {
    "duration": 18,
    "start_time": "2022-07-08T04:18:21.170Z"
   },
   {
    "duration": 26,
    "start_time": "2022-07-08T04:18:21.190Z"
   },
   {
    "duration": 34,
    "start_time": "2022-07-08T04:18:21.218Z"
   },
   {
    "duration": 30,
    "start_time": "2022-07-08T04:18:21.254Z"
   },
   {
    "duration": 26,
    "start_time": "2022-07-08T04:18:21.286Z"
   },
   {
    "duration": 32,
    "start_time": "2022-07-08T04:18:21.314Z"
   },
   {
    "duration": 355,
    "start_time": "2022-07-08T04:18:21.350Z"
   },
   {
    "duration": 282,
    "start_time": "2022-07-08T04:18:21.707Z"
   },
   {
    "duration": 210,
    "start_time": "2022-07-08T04:18:21.990Z"
   },
   {
    "duration": 319,
    "start_time": "2022-07-08T04:18:22.203Z"
   },
   {
    "duration": 240,
    "start_time": "2022-07-08T04:18:22.532Z"
   },
   {
    "duration": 302,
    "start_time": "2022-07-08T04:18:22.773Z"
   },
   {
    "duration": 151,
    "start_time": "2022-07-08T04:18:23.078Z"
   },
   {
    "duration": 4,
    "start_time": "2022-07-08T04:18:23.230Z"
   },
   {
    "duration": 212,
    "start_time": "2022-07-08T04:18:23.236Z"
   },
   {
    "duration": 162,
    "start_time": "2022-07-08T04:18:23.451Z"
   },
   {
    "duration": 17,
    "start_time": "2022-07-08T04:18:23.615Z"
   },
   {
    "duration": 310,
    "start_time": "2022-07-08T04:18:23.634Z"
   },
   {
    "duration": 186,
    "start_time": "2022-07-08T04:18:23.946Z"
   },
   {
    "duration": 13,
    "start_time": "2022-07-08T04:18:24.138Z"
   },
   {
    "duration": 12,
    "start_time": "2022-07-08T04:18:24.153Z"
   },
   {
    "duration": 10,
    "start_time": "2022-07-08T04:18:24.166Z"
   },
   {
    "duration": 25,
    "start_time": "2022-07-08T04:18:24.177Z"
   },
   {
    "duration": 34,
    "start_time": "2022-07-08T04:18:24.204Z"
   },
   {
    "duration": 1293,
    "start_time": "2022-07-08T06:18:11.966Z"
   },
   {
    "duration": 30,
    "start_time": "2022-07-08T06:18:13.261Z"
   },
   {
    "duration": 27,
    "start_time": "2022-07-08T06:18:13.293Z"
   },
   {
    "duration": 21,
    "start_time": "2022-07-08T06:18:13.322Z"
   },
   {
    "duration": 43,
    "start_time": "2022-07-08T06:18:13.347Z"
   },
   {
    "duration": 17,
    "start_time": "2022-07-08T06:18:13.392Z"
   },
   {
    "duration": 11,
    "start_time": "2022-07-08T06:18:13.411Z"
   },
   {
    "duration": 30,
    "start_time": "2022-07-08T06:18:13.429Z"
   },
   {
    "duration": 28,
    "start_time": "2022-07-08T06:18:13.461Z"
   },
   {
    "duration": 366,
    "start_time": "2022-07-08T06:18:13.490Z"
   },
   {
    "duration": 309,
    "start_time": "2022-07-08T06:18:13.862Z"
   },
   {
    "duration": 213,
    "start_time": "2022-07-08T06:18:14.174Z"
   },
   {
    "duration": 297,
    "start_time": "2022-07-08T06:18:14.389Z"
   },
   {
    "duration": 208,
    "start_time": "2022-07-08T06:18:14.691Z"
   },
   {
    "duration": 349,
    "start_time": "2022-07-08T06:18:14.900Z"
   },
   {
    "duration": 138,
    "start_time": "2022-07-08T06:18:15.253Z"
   },
   {
    "duration": 4,
    "start_time": "2022-07-08T06:18:15.393Z"
   },
   {
    "duration": 163,
    "start_time": "2022-07-08T06:18:15.398Z"
   },
   {
    "duration": 147,
    "start_time": "2022-07-08T06:18:15.564Z"
   },
   {
    "duration": 4,
    "start_time": "2022-07-08T06:18:15.712Z"
   },
   {
    "duration": 321,
    "start_time": "2022-07-08T06:18:15.727Z"
   },
   {
    "duration": 168,
    "start_time": "2022-07-08T06:18:16.049Z"
   },
   {
    "duration": 28,
    "start_time": "2022-07-08T06:18:16.219Z"
   },
   {
    "duration": 23,
    "start_time": "2022-07-08T06:18:16.257Z"
   },
   {
    "duration": 8,
    "start_time": "2022-07-08T06:18:16.282Z"
   },
   {
    "duration": 30,
    "start_time": "2022-07-08T06:18:16.292Z"
   },
   {
    "duration": 19,
    "start_time": "2022-07-08T06:18:16.324Z"
   },
   {
    "duration": 1325,
    "start_time": "2022-07-08T06:40:21.952Z"
   },
   {
    "duration": 44,
    "start_time": "2022-07-08T06:40:23.278Z"
   },
   {
    "duration": 70,
    "start_time": "2022-07-08T06:40:23.324Z"
   },
   {
    "duration": 17,
    "start_time": "2022-07-08T06:40:23.396Z"
   },
   {
    "duration": 19,
    "start_time": "2022-07-08T06:40:23.416Z"
   },
   {
    "duration": 15,
    "start_time": "2022-07-08T06:40:23.436Z"
   },
   {
    "duration": 11,
    "start_time": "2022-07-08T06:40:23.453Z"
   },
   {
    "duration": 1441,
    "start_time": "2022-07-08T06:40:23.465Z"
   },
   {
    "duration": 0,
    "start_time": "2022-07-08T06:40:24.909Z"
   },
   {
    "duration": 0,
    "start_time": "2022-07-08T06:40:24.910Z"
   },
   {
    "duration": 0,
    "start_time": "2022-07-08T06:40:24.911Z"
   },
   {
    "duration": 0,
    "start_time": "2022-07-08T06:40:24.912Z"
   },
   {
    "duration": 0,
    "start_time": "2022-07-08T06:40:24.913Z"
   },
   {
    "duration": 0,
    "start_time": "2022-07-08T06:40:24.914Z"
   },
   {
    "duration": 0,
    "start_time": "2022-07-08T06:40:24.916Z"
   },
   {
    "duration": 0,
    "start_time": "2022-07-08T06:40:24.917Z"
   },
   {
    "duration": 0,
    "start_time": "2022-07-08T06:40:24.919Z"
   },
   {
    "duration": 0,
    "start_time": "2022-07-08T06:40:24.920Z"
   },
   {
    "duration": 0,
    "start_time": "2022-07-08T06:40:24.921Z"
   },
   {
    "duration": 0,
    "start_time": "2022-07-08T06:40:24.921Z"
   },
   {
    "duration": 0,
    "start_time": "2022-07-08T06:40:24.922Z"
   },
   {
    "duration": 0,
    "start_time": "2022-07-08T06:40:24.923Z"
   },
   {
    "duration": 0,
    "start_time": "2022-07-08T06:40:24.925Z"
   },
   {
    "duration": 0,
    "start_time": "2022-07-08T06:40:24.925Z"
   },
   {
    "duration": 0,
    "start_time": "2022-07-08T06:40:24.926Z"
   },
   {
    "duration": 0,
    "start_time": "2022-07-08T06:40:24.927Z"
   },
   {
    "duration": 0,
    "start_time": "2022-07-08T06:40:24.928Z"
   },
   {
    "duration": 1144,
    "start_time": "2022-07-08T06:42:42.254Z"
   },
   {
    "duration": 28,
    "start_time": "2022-07-08T06:42:43.401Z"
   },
   {
    "duration": 26,
    "start_time": "2022-07-08T06:42:43.430Z"
   },
   {
    "duration": 15,
    "start_time": "2022-07-08T06:42:43.457Z"
   },
   {
    "duration": 18,
    "start_time": "2022-07-08T06:42:43.475Z"
   },
   {
    "duration": 14,
    "start_time": "2022-07-08T06:42:43.495Z"
   },
   {
    "duration": 10,
    "start_time": "2022-07-08T06:42:43.511Z"
   },
   {
    "duration": 930,
    "start_time": "2022-07-08T06:42:43.523Z"
   },
   {
    "duration": 0,
    "start_time": "2022-07-08T06:42:44.456Z"
   },
   {
    "duration": 0,
    "start_time": "2022-07-08T06:42:44.458Z"
   },
   {
    "duration": 0,
    "start_time": "2022-07-08T06:42:44.459Z"
   },
   {
    "duration": 0,
    "start_time": "2022-07-08T06:42:44.461Z"
   },
   {
    "duration": 0,
    "start_time": "2022-07-08T06:42:44.463Z"
   },
   {
    "duration": 0,
    "start_time": "2022-07-08T06:42:44.464Z"
   },
   {
    "duration": 0,
    "start_time": "2022-07-08T06:42:44.466Z"
   },
   {
    "duration": 0,
    "start_time": "2022-07-08T06:42:44.467Z"
   },
   {
    "duration": 0,
    "start_time": "2022-07-08T06:42:44.469Z"
   },
   {
    "duration": 0,
    "start_time": "2022-07-08T06:42:44.470Z"
   },
   {
    "duration": 0,
    "start_time": "2022-07-08T06:42:44.471Z"
   },
   {
    "duration": 0,
    "start_time": "2022-07-08T06:42:44.472Z"
   },
   {
    "duration": 0,
    "start_time": "2022-07-08T06:42:44.474Z"
   },
   {
    "duration": 0,
    "start_time": "2022-07-08T06:42:44.475Z"
   },
   {
    "duration": 0,
    "start_time": "2022-07-08T06:42:44.476Z"
   },
   {
    "duration": 0,
    "start_time": "2022-07-08T06:42:44.477Z"
   },
   {
    "duration": 0,
    "start_time": "2022-07-08T06:42:44.478Z"
   },
   {
    "duration": 0,
    "start_time": "2022-07-08T06:42:44.479Z"
   },
   {
    "duration": 0,
    "start_time": "2022-07-08T06:42:44.481Z"
   },
   {
    "duration": 1136,
    "start_time": "2022-07-08T06:43:46.347Z"
   },
   {
    "duration": 31,
    "start_time": "2022-07-08T06:43:47.485Z"
   },
   {
    "duration": 25,
    "start_time": "2022-07-08T06:43:47.518Z"
   },
   {
    "duration": 14,
    "start_time": "2022-07-08T06:43:47.545Z"
   },
   {
    "duration": 17,
    "start_time": "2022-07-08T06:43:47.561Z"
   },
   {
    "duration": 13,
    "start_time": "2022-07-08T06:43:47.579Z"
   },
   {
    "duration": 11,
    "start_time": "2022-07-08T06:43:47.594Z"
   },
   {
    "duration": 12,
    "start_time": "2022-07-08T06:43:47.607Z"
   },
   {
    "duration": 11,
    "start_time": "2022-07-08T06:43:47.621Z"
   },
   {
    "duration": 297,
    "start_time": "2022-07-08T06:43:47.635Z"
   },
   {
    "duration": 247,
    "start_time": "2022-07-08T06:43:47.933Z"
   },
   {
    "duration": 158,
    "start_time": "2022-07-08T06:43:48.181Z"
   },
   {
    "duration": 311,
    "start_time": "2022-07-08T06:43:48.341Z"
   },
   {
    "duration": 185,
    "start_time": "2022-07-08T06:43:48.654Z"
   },
   {
    "duration": 332,
    "start_time": "2022-07-08T06:43:48.841Z"
   },
   {
    "duration": 219,
    "start_time": "2022-07-08T06:43:49.175Z"
   },
   {
    "duration": 4,
    "start_time": "2022-07-08T06:43:49.396Z"
   },
   {
    "duration": 289,
    "start_time": "2022-07-08T06:43:49.402Z"
   },
   {
    "duration": 292,
    "start_time": "2022-07-08T06:43:49.693Z"
   },
   {
    "duration": 4,
    "start_time": "2022-07-08T06:43:49.987Z"
   },
   {
    "duration": 606,
    "start_time": "2022-07-08T06:43:49.992Z"
   },
   {
    "duration": 304,
    "start_time": "2022-07-08T06:43:50.600Z"
   },
   {
    "duration": 9,
    "start_time": "2022-07-08T06:43:50.906Z"
   },
   {
    "duration": 22,
    "start_time": "2022-07-08T06:43:50.916Z"
   },
   {
    "duration": 29,
    "start_time": "2022-07-08T06:43:50.939Z"
   },
   {
    "duration": 30,
    "start_time": "2022-07-08T06:43:50.970Z"
   },
   {
    "duration": 13,
    "start_time": "2022-07-08T06:43:51.001Z"
   },
   {
    "duration": 19,
    "start_time": "2022-07-08T06:49:20.544Z"
   },
   {
    "duration": 11,
    "start_time": "2022-07-08T06:51:22.118Z"
   },
   {
    "duration": 22,
    "start_time": "2022-07-08T06:51:29.176Z"
   },
   {
    "duration": 23,
    "start_time": "2022-07-08T07:01:23.288Z"
   },
   {
    "duration": 94,
    "start_time": "2022-07-08T07:04:32.333Z"
   },
   {
    "duration": 21,
    "start_time": "2022-07-08T07:04:51.620Z"
   },
   {
    "duration": 169,
    "start_time": "2022-07-08T08:02:14.325Z"
   },
   {
    "duration": 11,
    "start_time": "2022-07-08T08:02:21.757Z"
   },
   {
    "duration": 20,
    "start_time": "2022-07-08T08:04:34.057Z"
   },
   {
    "duration": 15,
    "start_time": "2022-07-08T08:04:41.757Z"
   },
   {
    "duration": 19,
    "start_time": "2022-07-08T08:05:34.520Z"
   },
   {
    "duration": 16,
    "start_time": "2022-07-08T08:09:52.297Z"
   },
   {
    "duration": 23,
    "start_time": "2022-07-08T08:10:33.046Z"
   },
   {
    "duration": 20,
    "start_time": "2022-07-08T08:11:08.903Z"
   },
   {
    "duration": 15,
    "start_time": "2022-07-08T08:13:36.032Z"
   },
   {
    "duration": 13,
    "start_time": "2022-07-08T08:16:43.827Z"
   },
   {
    "duration": 11,
    "start_time": "2022-07-08T08:16:58.120Z"
   },
   {
    "duration": 16,
    "start_time": "2022-07-08T08:17:24.517Z"
   },
   {
    "duration": 17,
    "start_time": "2022-07-08T08:17:30.273Z"
   },
   {
    "duration": 11,
    "start_time": "2022-07-08T08:20:29.579Z"
   },
   {
    "duration": 15,
    "start_time": "2022-07-08T08:29:44.241Z"
   },
   {
    "duration": 15,
    "start_time": "2022-07-08T08:32:24.894Z"
   },
   {
    "duration": 17,
    "start_time": "2022-07-08T08:32:39.115Z"
   },
   {
    "duration": 15,
    "start_time": "2022-07-08T08:33:41.508Z"
   },
   {
    "duration": 23,
    "start_time": "2022-07-08T08:43:34.906Z"
   },
   {
    "duration": 42,
    "start_time": "2022-07-08T08:47:58.986Z"
   },
   {
    "duration": 42,
    "start_time": "2022-07-08T08:48:33.033Z"
   },
   {
    "duration": 122,
    "start_time": "2022-07-08T08:55:47.982Z"
   },
   {
    "duration": 146,
    "start_time": "2022-07-08T08:56:23.264Z"
   },
   {
    "duration": 99,
    "start_time": "2022-07-08T08:56:27.307Z"
   },
   {
    "duration": 104,
    "start_time": "2022-07-08T08:56:56.938Z"
   },
   {
    "duration": 156,
    "start_time": "2022-07-08T08:57:03.769Z"
   },
   {
    "duration": 1108,
    "start_time": "2022-07-08T08:57:17.800Z"
   },
   {
    "duration": 31,
    "start_time": "2022-07-08T08:57:18.911Z"
   },
   {
    "duration": 29,
    "start_time": "2022-07-08T08:57:18.944Z"
   },
   {
    "duration": 15,
    "start_time": "2022-07-08T08:57:18.976Z"
   },
   {
    "duration": 45,
    "start_time": "2022-07-08T08:57:18.992Z"
   },
   {
    "duration": 37,
    "start_time": "2022-07-08T08:57:19.038Z"
   },
   {
    "duration": 20,
    "start_time": "2022-07-08T08:57:19.077Z"
   },
   {
    "duration": 33,
    "start_time": "2022-07-08T08:57:19.099Z"
   },
   {
    "duration": 15,
    "start_time": "2022-07-08T08:57:19.134Z"
   },
   {
    "duration": 18,
    "start_time": "2022-07-08T08:57:19.152Z"
   },
   {
    "duration": 33,
    "start_time": "2022-07-08T08:57:19.172Z"
   },
   {
    "duration": 32,
    "start_time": "2022-07-08T08:57:19.207Z"
   },
   {
    "duration": 11,
    "start_time": "2022-07-08T08:57:19.241Z"
   },
   {
    "duration": 27,
    "start_time": "2022-07-08T08:57:19.253Z"
   },
   {
    "duration": 333,
    "start_time": "2022-07-08T08:57:19.282Z"
   },
   {
    "duration": 287,
    "start_time": "2022-07-08T08:57:19.617Z"
   },
   {
    "duration": 182,
    "start_time": "2022-07-08T08:57:19.906Z"
   },
   {
    "duration": 295,
    "start_time": "2022-07-08T08:57:20.091Z"
   },
   {
    "duration": 198,
    "start_time": "2022-07-08T08:57:20.389Z"
   },
   {
    "duration": 294,
    "start_time": "2022-07-08T08:57:20.590Z"
   },
   {
    "duration": 157,
    "start_time": "2022-07-08T08:57:20.886Z"
   },
   {
    "duration": 5,
    "start_time": "2022-07-08T08:57:21.045Z"
   },
   {
    "duration": 156,
    "start_time": "2022-07-08T08:57:21.063Z"
   },
   {
    "duration": 162,
    "start_time": "2022-07-08T08:57:21.221Z"
   },
   {
    "duration": 6,
    "start_time": "2022-07-08T08:57:21.386Z"
   },
   {
    "duration": 353,
    "start_time": "2022-07-08T08:57:21.395Z"
   },
   {
    "duration": 163,
    "start_time": "2022-07-08T08:57:21.749Z"
   },
   {
    "duration": 12,
    "start_time": "2022-07-08T08:57:21.916Z"
   },
   {
    "duration": 9,
    "start_time": "2022-07-08T08:57:21.930Z"
   },
   {
    "duration": 28,
    "start_time": "2022-07-08T08:57:21.941Z"
   },
   {
    "duration": 35,
    "start_time": "2022-07-08T08:57:21.971Z"
   },
   {
    "duration": 14,
    "start_time": "2022-07-08T08:57:22.008Z"
   },
   {
    "duration": 8,
    "start_time": "2022-07-08T09:12:22.752Z"
   },
   {
    "duration": 68,
    "start_time": "2022-07-08T09:13:12.350Z"
   },
   {
    "duration": 18,
    "start_time": "2022-07-08T09:14:03.818Z"
   },
   {
    "duration": 5,
    "start_time": "2022-07-08T09:14:48.854Z"
   },
   {
    "duration": 14,
    "start_time": "2022-07-08T09:18:39.742Z"
   },
   {
    "duration": 15,
    "start_time": "2022-07-08T09:19:12.875Z"
   },
   {
    "duration": 1170,
    "start_time": "2022-07-08T09:19:20.287Z"
   },
   {
    "duration": 32,
    "start_time": "2022-07-08T09:19:21.459Z"
   },
   {
    "duration": 28,
    "start_time": "2022-07-08T09:19:21.492Z"
   },
   {
    "duration": 18,
    "start_time": "2022-07-08T09:19:21.523Z"
   },
   {
    "duration": 20,
    "start_time": "2022-07-08T09:19:21.542Z"
   },
   {
    "duration": 22,
    "start_time": "2022-07-08T09:19:21.565Z"
   },
   {
    "duration": 17,
    "start_time": "2022-07-08T09:19:21.589Z"
   },
   {
    "duration": 11,
    "start_time": "2022-07-08T09:19:21.607Z"
   },
   {
    "duration": 10,
    "start_time": "2022-07-08T09:19:21.620Z"
   },
   {
    "duration": 17,
    "start_time": "2022-07-08T09:19:21.632Z"
   },
   {
    "duration": 139,
    "start_time": "2022-07-08T09:19:21.651Z"
   },
   {
    "duration": 0,
    "start_time": "2022-07-08T09:19:21.792Z"
   },
   {
    "duration": 0,
    "start_time": "2022-07-08T09:19:21.793Z"
   },
   {
    "duration": 0,
    "start_time": "2022-07-08T09:19:21.794Z"
   },
   {
    "duration": 0,
    "start_time": "2022-07-08T09:19:21.795Z"
   },
   {
    "duration": 0,
    "start_time": "2022-07-08T09:19:21.796Z"
   },
   {
    "duration": 0,
    "start_time": "2022-07-08T09:19:21.797Z"
   },
   {
    "duration": 0,
    "start_time": "2022-07-08T09:19:21.799Z"
   },
   {
    "duration": 0,
    "start_time": "2022-07-08T09:19:21.799Z"
   },
   {
    "duration": 0,
    "start_time": "2022-07-08T09:19:21.801Z"
   },
   {
    "duration": 0,
    "start_time": "2022-07-08T09:19:21.801Z"
   },
   {
    "duration": 0,
    "start_time": "2022-07-08T09:19:21.802Z"
   },
   {
    "duration": 0,
    "start_time": "2022-07-08T09:19:21.803Z"
   },
   {
    "duration": 0,
    "start_time": "2022-07-08T09:19:21.804Z"
   },
   {
    "duration": 0,
    "start_time": "2022-07-08T09:19:21.805Z"
   },
   {
    "duration": 0,
    "start_time": "2022-07-08T09:19:21.806Z"
   },
   {
    "duration": 0,
    "start_time": "2022-07-08T09:19:21.807Z"
   },
   {
    "duration": 0,
    "start_time": "2022-07-08T09:19:21.808Z"
   },
   {
    "duration": 0,
    "start_time": "2022-07-08T09:19:21.809Z"
   },
   {
    "duration": 0,
    "start_time": "2022-07-08T09:19:21.810Z"
   },
   {
    "duration": 0,
    "start_time": "2022-07-08T09:19:21.811Z"
   },
   {
    "duration": 1254,
    "start_time": "2022-07-08T09:19:34.679Z"
   },
   {
    "duration": 32,
    "start_time": "2022-07-08T09:19:35.935Z"
   },
   {
    "duration": 32,
    "start_time": "2022-07-08T09:19:35.969Z"
   },
   {
    "duration": 16,
    "start_time": "2022-07-08T09:19:36.003Z"
   },
   {
    "duration": 20,
    "start_time": "2022-07-08T09:19:36.021Z"
   },
   {
    "duration": 7,
    "start_time": "2022-07-08T09:19:36.044Z"
   },
   {
    "duration": 32,
    "start_time": "2022-07-08T09:19:36.052Z"
   },
   {
    "duration": 18,
    "start_time": "2022-07-08T09:19:36.085Z"
   },
   {
    "duration": 13,
    "start_time": "2022-07-08T09:19:36.105Z"
   },
   {
    "duration": 20,
    "start_time": "2022-07-08T09:19:36.120Z"
   },
   {
    "duration": 33,
    "start_time": "2022-07-08T09:19:36.142Z"
   },
   {
    "duration": 13,
    "start_time": "2022-07-08T09:19:36.177Z"
   },
   {
    "duration": 11,
    "start_time": "2022-07-08T09:19:36.191Z"
   },
   {
    "duration": 289,
    "start_time": "2022-07-08T09:19:36.205Z"
   },
   {
    "duration": 264,
    "start_time": "2022-07-08T09:19:36.495Z"
   },
   {
    "duration": 173,
    "start_time": "2022-07-08T09:19:36.763Z"
   },
   {
    "duration": 430,
    "start_time": "2022-07-08T09:19:36.938Z"
   },
   {
    "duration": 400,
    "start_time": "2022-07-08T09:19:37.370Z"
   },
   {
    "duration": 437,
    "start_time": "2022-07-08T09:19:37.772Z"
   },
   {
    "duration": 314,
    "start_time": "2022-07-08T09:19:38.264Z"
   },
   {
    "duration": 5,
    "start_time": "2022-07-08T09:19:38.581Z"
   },
   {
    "duration": 308,
    "start_time": "2022-07-08T09:19:38.587Z"
   },
   {
    "duration": 367,
    "start_time": "2022-07-08T09:19:38.897Z"
   },
   {
    "duration": 5,
    "start_time": "2022-07-08T09:19:39.266Z"
   },
   {
    "duration": 354,
    "start_time": "2022-07-08T09:19:39.273Z"
   },
   {
    "duration": 145,
    "start_time": "2022-07-08T09:19:39.629Z"
   },
   {
    "duration": 11,
    "start_time": "2022-07-08T09:19:39.776Z"
   },
   {
    "duration": 9,
    "start_time": "2022-07-08T09:19:39.789Z"
   },
   {
    "duration": 9,
    "start_time": "2022-07-08T09:19:39.799Z"
   },
   {
    "duration": 32,
    "start_time": "2022-07-08T09:19:39.809Z"
   },
   {
    "duration": 38,
    "start_time": "2022-07-08T09:19:39.843Z"
   },
   {
    "duration": 226,
    "start_time": "2022-07-08T09:25:52.790Z"
   },
   {
    "duration": 198,
    "start_time": "2022-07-08T09:26:34.220Z"
   },
   {
    "duration": 184,
    "start_time": "2022-07-08T09:26:43.516Z"
   },
   {
    "duration": 204,
    "start_time": "2022-07-08T09:27:00.473Z"
   },
   {
    "duration": 194,
    "start_time": "2022-07-08T09:27:43.776Z"
   },
   {
    "duration": 271,
    "start_time": "2022-07-08T09:28:49.993Z"
   },
   {
    "duration": 295,
    "start_time": "2022-07-08T09:28:57.544Z"
   },
   {
    "duration": 1362,
    "start_time": "2022-07-08T11:10:39.332Z"
   },
   {
    "duration": 72,
    "start_time": "2022-07-08T11:10:40.696Z"
   },
   {
    "duration": 129,
    "start_time": "2022-07-08T11:10:40.771Z"
   },
   {
    "duration": 16,
    "start_time": "2022-07-08T11:10:40.902Z"
   },
   {
    "duration": 37,
    "start_time": "2022-07-08T11:10:40.920Z"
   },
   {
    "duration": 19,
    "start_time": "2022-07-08T11:10:40.962Z"
   },
   {
    "duration": 18,
    "start_time": "2022-07-08T11:10:40.983Z"
   },
   {
    "duration": 16,
    "start_time": "2022-07-08T11:10:41.003Z"
   },
   {
    "duration": 9,
    "start_time": "2022-07-08T11:10:41.021Z"
   },
   {
    "duration": 29,
    "start_time": "2022-07-08T11:10:41.033Z"
   },
   {
    "duration": 43,
    "start_time": "2022-07-08T11:10:41.064Z"
   },
   {
    "duration": 13,
    "start_time": "2022-07-08T11:10:41.109Z"
   },
   {
    "duration": 36,
    "start_time": "2022-07-08T11:10:41.124Z"
   },
   {
    "duration": 323,
    "start_time": "2022-07-08T11:10:41.170Z"
   },
   {
    "duration": 428,
    "start_time": "2022-07-08T11:10:41.495Z"
   },
   {
    "duration": 221,
    "start_time": "2022-07-08T11:10:41.926Z"
   },
   {
    "duration": 349,
    "start_time": "2022-07-08T11:10:42.149Z"
   },
   {
    "duration": 194,
    "start_time": "2022-07-08T11:10:42.499Z"
   },
   {
    "duration": 302,
    "start_time": "2022-07-08T11:10:42.695Z"
   },
   {
    "duration": 194,
    "start_time": "2022-07-08T11:10:42.999Z"
   },
   {
    "duration": 3,
    "start_time": "2022-07-08T11:10:43.195Z"
   },
   {
    "duration": 284,
    "start_time": "2022-07-08T11:10:43.200Z"
   },
   {
    "duration": 300,
    "start_time": "2022-07-08T11:10:43.485Z"
   },
   {
    "duration": 65,
    "start_time": "2022-07-08T11:10:43.787Z"
   },
   {
    "duration": 733,
    "start_time": "2022-07-08T11:10:43.854Z"
   },
   {
    "duration": 380,
    "start_time": "2022-07-08T11:10:44.588Z"
   },
   {
    "duration": 12,
    "start_time": "2022-07-08T11:10:44.973Z"
   },
   {
    "duration": 79,
    "start_time": "2022-07-08T11:10:44.988Z"
   },
   {
    "duration": 10,
    "start_time": "2022-07-08T11:10:45.070Z"
   },
   {
    "duration": 73,
    "start_time": "2022-07-08T11:10:45.081Z"
   },
   {
    "duration": 21,
    "start_time": "2022-07-08T11:10:45.157Z"
   },
   {
    "duration": 188,
    "start_time": "2022-07-08T11:11:33.150Z"
   },
   {
    "duration": 192,
    "start_time": "2022-07-08T11:11:49.685Z"
   },
   {
    "duration": 315,
    "start_time": "2022-07-08T11:13:10.642Z"
   },
   {
    "duration": 156,
    "start_time": "2022-07-08T11:17:06.354Z"
   },
   {
    "duration": 16,
    "start_time": "2022-07-08T11:24:34.535Z"
   },
   {
    "duration": 1115,
    "start_time": "2022-07-08T11:24:49.454Z"
   },
   {
    "duration": 29,
    "start_time": "2022-07-08T11:24:50.572Z"
   },
   {
    "duration": 29,
    "start_time": "2022-07-08T11:24:50.602Z"
   },
   {
    "duration": 27,
    "start_time": "2022-07-08T11:24:50.632Z"
   },
   {
    "duration": 18,
    "start_time": "2022-07-08T11:24:50.661Z"
   },
   {
    "duration": 9,
    "start_time": "2022-07-08T11:24:50.681Z"
   },
   {
    "duration": 17,
    "start_time": "2022-07-08T11:24:50.692Z"
   },
   {
    "duration": 11,
    "start_time": "2022-07-08T11:24:50.711Z"
   },
   {
    "duration": 30,
    "start_time": "2022-07-08T11:24:50.724Z"
   },
   {
    "duration": 17,
    "start_time": "2022-07-08T11:24:50.756Z"
   },
   {
    "duration": 23,
    "start_time": "2022-07-08T11:24:50.776Z"
   },
   {
    "duration": 11,
    "start_time": "2022-07-08T11:24:50.801Z"
   },
   {
    "duration": 11,
    "start_time": "2022-07-08T11:24:50.814Z"
   },
   {
    "duration": 290,
    "start_time": "2022-07-08T11:24:50.841Z"
   },
   {
    "duration": 281,
    "start_time": "2022-07-08T11:24:51.133Z"
   },
   {
    "duration": 217,
    "start_time": "2022-07-08T11:24:51.415Z"
   },
   {
    "duration": 325,
    "start_time": "2022-07-08T11:24:51.634Z"
   },
   {
    "duration": 205,
    "start_time": "2022-07-08T11:24:51.961Z"
   },
   {
    "duration": 307,
    "start_time": "2022-07-08T11:24:52.168Z"
   },
   {
    "duration": 162,
    "start_time": "2022-07-08T11:24:52.477Z"
   },
   {
    "duration": 14,
    "start_time": "2022-07-08T11:24:52.640Z"
   },
   {
    "duration": 148,
    "start_time": "2022-07-08T11:24:52.657Z"
   },
   {
    "duration": 147,
    "start_time": "2022-07-08T11:24:52.807Z"
   },
   {
    "duration": 4,
    "start_time": "2022-07-08T11:24:52.959Z"
   },
   {
    "duration": 312,
    "start_time": "2022-07-08T11:24:52.965Z"
   },
   {
    "duration": 173,
    "start_time": "2022-07-08T11:24:53.279Z"
   },
   {
    "duration": 11,
    "start_time": "2022-07-08T11:24:53.454Z"
   },
   {
    "duration": 10,
    "start_time": "2022-07-08T11:24:53.466Z"
   },
   {
    "duration": 16,
    "start_time": "2022-07-08T11:24:53.478Z"
   },
   {
    "duration": 26,
    "start_time": "2022-07-08T11:24:53.496Z"
   },
   {
    "duration": 34,
    "start_time": "2022-07-08T11:24:53.523Z"
   },
   {
    "duration": 141,
    "start_time": "2022-07-08T11:30:55.529Z"
   },
   {
    "duration": 137,
    "start_time": "2022-07-08T11:31:02.330Z"
   },
   {
    "duration": 1077,
    "start_time": "2022-07-08T12:10:50.686Z"
   },
   {
    "duration": 29,
    "start_time": "2022-07-08T12:10:51.765Z"
   },
   {
    "duration": 27,
    "start_time": "2022-07-08T12:10:51.795Z"
   },
   {
    "duration": 15,
    "start_time": "2022-07-08T12:10:51.824Z"
   },
   {
    "duration": 29,
    "start_time": "2022-07-08T12:10:51.841Z"
   },
   {
    "duration": 7,
    "start_time": "2022-07-08T12:10:51.872Z"
   },
   {
    "duration": 15,
    "start_time": "2022-07-08T12:10:51.880Z"
   },
   {
    "duration": 11,
    "start_time": "2022-07-08T12:10:51.897Z"
   },
   {
    "duration": 12,
    "start_time": "2022-07-08T12:10:51.909Z"
   },
   {
    "duration": 34,
    "start_time": "2022-07-08T12:10:51.923Z"
   },
   {
    "duration": 19,
    "start_time": "2022-07-08T12:10:51.958Z"
   },
   {
    "duration": 12,
    "start_time": "2022-07-08T12:10:51.979Z"
   },
   {
    "duration": 14,
    "start_time": "2022-07-08T12:10:51.993Z"
   },
   {
    "duration": 305,
    "start_time": "2022-07-08T12:10:52.008Z"
   },
   {
    "duration": 271,
    "start_time": "2022-07-08T12:10:52.315Z"
   },
   {
    "duration": 198,
    "start_time": "2022-07-08T12:10:52.588Z"
   },
   {
    "duration": 263,
    "start_time": "2022-07-08T12:10:52.788Z"
   },
   {
    "duration": 203,
    "start_time": "2022-07-08T12:10:53.053Z"
   },
   {
    "duration": 309,
    "start_time": "2022-07-08T12:10:53.258Z"
   },
   {
    "duration": 138,
    "start_time": "2022-07-08T12:10:53.569Z"
   },
   {
    "duration": 3,
    "start_time": "2022-07-08T12:10:53.709Z"
   },
   {
    "duration": 147,
    "start_time": "2022-07-08T12:10:53.715Z"
   },
   {
    "duration": 136,
    "start_time": "2022-07-08T12:10:53.863Z"
   },
   {
    "duration": 4,
    "start_time": "2022-07-08T12:10:54.001Z"
   },
   {
    "duration": 307,
    "start_time": "2022-07-08T12:10:54.006Z"
   },
   {
    "duration": 192,
    "start_time": "2022-07-08T12:10:54.315Z"
   },
   {
    "duration": 10,
    "start_time": "2022-07-08T12:10:54.509Z"
   },
   {
    "duration": 36,
    "start_time": "2022-07-08T12:10:54.522Z"
   },
   {
    "duration": 17,
    "start_time": "2022-07-08T12:10:54.560Z"
   },
   {
    "duration": 27,
    "start_time": "2022-07-08T12:10:54.579Z"
   },
   {
    "duration": 14,
    "start_time": "2022-07-08T12:10:54.607Z"
   },
   {
    "duration": 129,
    "start_time": "2022-07-08T12:12:04.870Z"
   },
   {
    "duration": 136,
    "start_time": "2022-07-08T12:12:18.221Z"
   },
   {
    "duration": 141,
    "start_time": "2022-07-08T12:12:26.059Z"
   },
   {
    "duration": 141,
    "start_time": "2022-07-08T12:12:46.185Z"
   },
   {
    "duration": 137,
    "start_time": "2022-07-08T12:12:50.289Z"
   },
   {
    "duration": 1332,
    "start_time": "2022-07-09T09:12:02.351Z"
   },
   {
    "duration": 51,
    "start_time": "2022-07-09T09:12:03.685Z"
   },
   {
    "duration": 75,
    "start_time": "2022-07-09T09:12:03.738Z"
   },
   {
    "duration": 15,
    "start_time": "2022-07-09T09:12:03.815Z"
   },
   {
    "duration": 23,
    "start_time": "2022-07-09T09:12:03.832Z"
   },
   {
    "duration": 11,
    "start_time": "2022-07-09T09:12:03.857Z"
   },
   {
    "duration": 18,
    "start_time": "2022-07-09T09:12:03.870Z"
   },
   {
    "duration": 28,
    "start_time": "2022-07-09T09:12:03.890Z"
   },
   {
    "duration": 14,
    "start_time": "2022-07-09T09:12:03.922Z"
   },
   {
    "duration": 23,
    "start_time": "2022-07-09T09:12:03.938Z"
   },
   {
    "duration": 17,
    "start_time": "2022-07-09T09:12:03.963Z"
   },
   {
    "duration": 12,
    "start_time": "2022-07-09T09:12:03.981Z"
   },
   {
    "duration": 13,
    "start_time": "2022-07-09T09:12:03.994Z"
   },
   {
    "duration": 288,
    "start_time": "2022-07-09T09:12:04.009Z"
   },
   {
    "duration": 321,
    "start_time": "2022-07-09T09:12:04.298Z"
   },
   {
    "duration": 182,
    "start_time": "2022-07-09T09:12:04.622Z"
   },
   {
    "duration": 357,
    "start_time": "2022-07-09T09:12:04.806Z"
   },
   {
    "duration": 205,
    "start_time": "2022-07-09T09:12:05.165Z"
   },
   {
    "duration": 306,
    "start_time": "2022-07-09T09:12:05.372Z"
   },
   {
    "duration": 157,
    "start_time": "2022-07-09T09:12:05.679Z"
   },
   {
    "duration": 5,
    "start_time": "2022-07-09T09:12:05.838Z"
   },
   {
    "duration": 154,
    "start_time": "2022-07-09T09:12:05.845Z"
   },
   {
    "duration": 159,
    "start_time": "2022-07-09T09:12:06.001Z"
   },
   {
    "duration": 5,
    "start_time": "2022-07-09T09:12:06.162Z"
   },
   {
    "duration": 326,
    "start_time": "2022-07-09T09:12:06.169Z"
   },
   {
    "duration": 150,
    "start_time": "2022-07-09T09:12:06.496Z"
   },
   {
    "duration": 11,
    "start_time": "2022-07-09T09:12:06.648Z"
   },
   {
    "duration": 9,
    "start_time": "2022-07-09T09:12:06.662Z"
   },
   {
    "duration": 9,
    "start_time": "2022-07-09T09:12:06.672Z"
   },
   {
    "duration": 50,
    "start_time": "2022-07-09T09:12:06.682Z"
   },
   {
    "duration": 15,
    "start_time": "2022-07-09T09:12:06.734Z"
   }
  ],
  "kernelspec": {
   "display_name": "Python 3 (ipykernel)",
   "language": "python",
   "name": "python3"
  },
  "language_info": {
   "codemirror_mode": {
    "name": "ipython",
    "version": 3
   },
   "file_extension": ".py",
   "mimetype": "text/x-python",
   "name": "python",
   "nbconvert_exporter": "python",
   "pygments_lexer": "ipython3",
   "version": "3.9.7"
  },
  "toc": {
   "base_numbering": 1,
   "nav_menu": {},
   "number_sections": true,
   "sideBar": true,
   "skip_h1_title": false,
   "title_cell": "Table of Contents",
   "title_sidebar": "Contents",
   "toc_cell": false,
   "toc_position": {
    "height": "calc(100% - 180px)",
    "left": "10px",
    "top": "150px",
    "width": "270.391px"
   },
   "toc_section_display": true,
   "toc_window_display": true
  }
 },
 "nbformat": 4,
 "nbformat_minor": 2
}
