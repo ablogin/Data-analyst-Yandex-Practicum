{
 "cells": [
  {
   "cell_type": "markdown",
   "metadata": {
    "toc": true
   },
   "source": [
    "<h1>Содержание<span class=\"tocSkip\"></span></h1>\n",
    "<div class=\"toc\"><ul class=\"toc-item\"><li><span><a href=\"#Изучение-данных-из-файла\" data-toc-modified-id=\"Изучение-данных-из-файла-1\"><span class=\"toc-item-num\">1&nbsp;&nbsp;</span>Изучение данных из файла</a></span><ul class=\"toc-item\"><li><span><a href=\"#Вывод\" data-toc-modified-id=\"Вывод-1.1\"><span class=\"toc-item-num\">1.1&nbsp;&nbsp;</span>Вывод</a></span></li></ul></li><li><span><a href=\"#Предобработка-данных\" data-toc-modified-id=\"Предобработка-данных-2\"><span class=\"toc-item-num\">2&nbsp;&nbsp;</span>Предобработка данных</a></span><ul class=\"toc-item\"><li><span><a href=\"#Замена-и-заполнение-пропусков\" data-toc-modified-id=\"Замена-и-заполнение-пропусков-2.1\"><span class=\"toc-item-num\">2.1&nbsp;&nbsp;</span>Замена и заполнение пропусков</a></span></li><li><span><a href=\"#Удаление-строк\" data-toc-modified-id=\"Удаление-строк-2.2\"><span class=\"toc-item-num\">2.2&nbsp;&nbsp;</span>Удаление строк</a></span></li></ul></li><li><span><a href=\"#Расчёты-и-добавление-результатов-в-таблицу\" data-toc-modified-id=\"Расчёты-и-добавление-результатов-в-таблицу-3\"><span class=\"toc-item-num\">3&nbsp;&nbsp;</span>Расчёты и добавление результатов в таблицу</a></span><ul class=\"toc-item\"><li><span><a href=\"#Добавление-новых-столбцов-с-рассчитанными-значениями\" data-toc-modified-id=\"Добавление-новых-столбцов-с-рассчитанными-значениями-3.1\"><span class=\"toc-item-num\">3.1&nbsp;&nbsp;</span>Добавление новых столбцов с рассчитанными значениями</a></span></li></ul></li><li><span><a href=\"#Исследовательский-анализ-данных\" data-toc-modified-id=\"Исследовательский-анализ-данных-4\"><span class=\"toc-item-num\">4&nbsp;&nbsp;</span>Исследовательский анализ данных</a></span><ul class=\"toc-item\"><li><span><a href=\"#Изучение-основных-характеристик\" data-toc-modified-id=\"Изучение-основных-характеристик-4.1\"><span class=\"toc-item-num\">4.1&nbsp;&nbsp;</span>Изучение основных характеристик</a></span></li><li><span><a href=\"#Сроки-продажи-квартиры\" data-toc-modified-id=\"Сроки-продажи-квартиры-4.2\"><span class=\"toc-item-num\">4.2&nbsp;&nbsp;</span>Сроки продажи квартиры</a></span></li><li><span><a href=\"#Выбивающиеся-значения\" data-toc-modified-id=\"Выбивающиеся-значения-4.3\"><span class=\"toc-item-num\">4.3&nbsp;&nbsp;</span>Выбивающиеся значения</a></span></li><li><span><a href=\"#Что-влияет-на-стоимость?\" data-toc-modified-id=\"Что-влияет-на-стоимость?-4.4\"><span class=\"toc-item-num\">4.4&nbsp;&nbsp;</span>Что влияет на стоимость?</a></span></li><li><span><a href=\"#Топ-10-по-числу-объявлений\" data-toc-modified-id=\"Топ-10-по-числу-объявлений-4.5\"><span class=\"toc-item-num\">4.5&nbsp;&nbsp;</span>Топ-10 по числу объявлений</a></span></li><li><span><a href=\"#Выделим-квартиры-в-центре-СПб\" data-toc-modified-id=\"Выделим-квартиры-в-центре-СПб-4.6\"><span class=\"toc-item-num\">4.6&nbsp;&nbsp;</span>Выделим квартиры в центре СПб</a></span></li><li><span><a href=\"#Характеристики-квартир-в-центре\" data-toc-modified-id=\"Характеристики-квартир-в-центре-4.7\"><span class=\"toc-item-num\">4.7&nbsp;&nbsp;</span>Характеристики квартир в центре</a></span><ul class=\"toc-item\"><li><span><a href=\"#Выводы\" data-toc-modified-id=\"Выводы-4.7.1\"><span class=\"toc-item-num\">4.7.1&nbsp;&nbsp;</span>Выводы</a></span></li></ul></li></ul></li><li><span><a href=\"#Общий-вывод\" data-toc-modified-id=\"Общий-вывод-5\"><span class=\"toc-item-num\">5&nbsp;&nbsp;</span>Общий вывод</a></span></li><li><span><a href=\"#Чек-лист-готовности-проекта\" data-toc-modified-id=\"Чек-лист-готовности-проекта-6\"><span class=\"toc-item-num\">6&nbsp;&nbsp;</span>Чек-лист готовности проекта</a></span></li></ul></div>"
   ]
  },
  {
   "cell_type": "markdown",
   "metadata": {},
   "source": [
    "# Исследование объявлений о продаже квартир\n",
    "\n",
    "В вашем распоряжении данные сервиса Яндекc Недвижимость — архив объявлений о продаже квартир в Санкт-Петербурге и соседних населённых пунктах за несколько лет. Нужно научиться определять рыночную стоимость объектов недвижимости. Ваша задача — установить параметры. Это позволит построить автоматизированную систему: она отследит аномалии и мошенническую деятельность. \n",
    "\n",
    "По каждой квартире на продажу доступны два вида данных. Первые вписаны пользователем, вторые получены автоматически на основе картографических данных. Например, расстояние до центра, аэропорта, ближайшего парка и водоёма. "
   ]
  },
  {
   "cell_type": "markdown",
   "metadata": {},
   "source": [
    "## Изучение данных из файла"
   ]
  },
  {
   "cell_type": "code",
   "execution_count": 1,
   "metadata": {
    "scrolled": true
   },
   "outputs": [],
   "source": [
    "import pandas as pd\n",
    "\n",
    "import warnings\n",
    "\n",
    "import matplotlib.pyplot as plt\n"
   ]
  },
  {
   "cell_type": "code",
   "execution_count": 2,
   "metadata": {},
   "outputs": [
    {
     "data": {
      "text/html": [
       "<div>\n",
       "<style scoped>\n",
       "    .dataframe tbody tr th:only-of-type {\n",
       "        vertical-align: middle;\n",
       "    }\n",
       "\n",
       "    .dataframe tbody tr th {\n",
       "        vertical-align: top;\n",
       "    }\n",
       "\n",
       "    .dataframe thead th {\n",
       "        text-align: right;\n",
       "    }\n",
       "</style>\n",
       "<table border=\"1\" class=\"dataframe\">\n",
       "  <thead>\n",
       "    <tr style=\"text-align: right;\">\n",
       "      <th></th>\n",
       "      <th>total_images</th>\n",
       "      <th>last_price</th>\n",
       "      <th>total_area</th>\n",
       "      <th>first_day_exposition</th>\n",
       "      <th>rooms</th>\n",
       "      <th>ceiling_height</th>\n",
       "      <th>floors_total</th>\n",
       "      <th>living_area</th>\n",
       "      <th>floor</th>\n",
       "      <th>is_apartment</th>\n",
       "      <th>...</th>\n",
       "      <th>kitchen_area</th>\n",
       "      <th>balcony</th>\n",
       "      <th>locality_name</th>\n",
       "      <th>airports_nearest</th>\n",
       "      <th>cityCenters_nearest</th>\n",
       "      <th>parks_around3000</th>\n",
       "      <th>parks_nearest</th>\n",
       "      <th>ponds_around3000</th>\n",
       "      <th>ponds_nearest</th>\n",
       "      <th>days_exposition</th>\n",
       "    </tr>\n",
       "  </thead>\n",
       "  <tbody>\n",
       "    <tr>\n",
       "      <th>0</th>\n",
       "      <td>20</td>\n",
       "      <td>13000000.0</td>\n",
       "      <td>108.00</td>\n",
       "      <td>2019-03-07T00:00:00</td>\n",
       "      <td>3</td>\n",
       "      <td>2.70</td>\n",
       "      <td>16.0</td>\n",
       "      <td>51.00</td>\n",
       "      <td>8</td>\n",
       "      <td>NaN</td>\n",
       "      <td>...</td>\n",
       "      <td>25.00</td>\n",
       "      <td>NaN</td>\n",
       "      <td>Санкт-Петербург</td>\n",
       "      <td>18863.0</td>\n",
       "      <td>16028.0</td>\n",
       "      <td>1.0</td>\n",
       "      <td>482.0</td>\n",
       "      <td>2.0</td>\n",
       "      <td>755.0</td>\n",
       "      <td>NaN</td>\n",
       "    </tr>\n",
       "    <tr>\n",
       "      <th>1</th>\n",
       "      <td>7</td>\n",
       "      <td>3350000.0</td>\n",
       "      <td>40.40</td>\n",
       "      <td>2018-12-04T00:00:00</td>\n",
       "      <td>1</td>\n",
       "      <td>NaN</td>\n",
       "      <td>11.0</td>\n",
       "      <td>18.60</td>\n",
       "      <td>1</td>\n",
       "      <td>NaN</td>\n",
       "      <td>...</td>\n",
       "      <td>11.00</td>\n",
       "      <td>2.0</td>\n",
       "      <td>посёлок Шушары</td>\n",
       "      <td>12817.0</td>\n",
       "      <td>18603.0</td>\n",
       "      <td>0.0</td>\n",
       "      <td>NaN</td>\n",
       "      <td>0.0</td>\n",
       "      <td>NaN</td>\n",
       "      <td>81.0</td>\n",
       "    </tr>\n",
       "    <tr>\n",
       "      <th>2</th>\n",
       "      <td>10</td>\n",
       "      <td>5196000.0</td>\n",
       "      <td>56.00</td>\n",
       "      <td>2015-08-20T00:00:00</td>\n",
       "      <td>2</td>\n",
       "      <td>NaN</td>\n",
       "      <td>5.0</td>\n",
       "      <td>34.30</td>\n",
       "      <td>4</td>\n",
       "      <td>NaN</td>\n",
       "      <td>...</td>\n",
       "      <td>8.30</td>\n",
       "      <td>0.0</td>\n",
       "      <td>Санкт-Петербург</td>\n",
       "      <td>21741.0</td>\n",
       "      <td>13933.0</td>\n",
       "      <td>1.0</td>\n",
       "      <td>90.0</td>\n",
       "      <td>2.0</td>\n",
       "      <td>574.0</td>\n",
       "      <td>558.0</td>\n",
       "    </tr>\n",
       "    <tr>\n",
       "      <th>3</th>\n",
       "      <td>0</td>\n",
       "      <td>64900000.0</td>\n",
       "      <td>159.00</td>\n",
       "      <td>2015-07-24T00:00:00</td>\n",
       "      <td>3</td>\n",
       "      <td>NaN</td>\n",
       "      <td>14.0</td>\n",
       "      <td>NaN</td>\n",
       "      <td>9</td>\n",
       "      <td>NaN</td>\n",
       "      <td>...</td>\n",
       "      <td>NaN</td>\n",
       "      <td>0.0</td>\n",
       "      <td>Санкт-Петербург</td>\n",
       "      <td>28098.0</td>\n",
       "      <td>6800.0</td>\n",
       "      <td>2.0</td>\n",
       "      <td>84.0</td>\n",
       "      <td>3.0</td>\n",
       "      <td>234.0</td>\n",
       "      <td>424.0</td>\n",
       "    </tr>\n",
       "    <tr>\n",
       "      <th>4</th>\n",
       "      <td>2</td>\n",
       "      <td>10000000.0</td>\n",
       "      <td>100.00</td>\n",
       "      <td>2018-06-19T00:00:00</td>\n",
       "      <td>2</td>\n",
       "      <td>3.03</td>\n",
       "      <td>14.0</td>\n",
       "      <td>32.00</td>\n",
       "      <td>13</td>\n",
       "      <td>NaN</td>\n",
       "      <td>...</td>\n",
       "      <td>41.00</td>\n",
       "      <td>NaN</td>\n",
       "      <td>Санкт-Петербург</td>\n",
       "      <td>31856.0</td>\n",
       "      <td>8098.0</td>\n",
       "      <td>2.0</td>\n",
       "      <td>112.0</td>\n",
       "      <td>1.0</td>\n",
       "      <td>48.0</td>\n",
       "      <td>121.0</td>\n",
       "    </tr>\n",
       "    <tr>\n",
       "      <th>5</th>\n",
       "      <td>10</td>\n",
       "      <td>2890000.0</td>\n",
       "      <td>30.40</td>\n",
       "      <td>2018-09-10T00:00:00</td>\n",
       "      <td>1</td>\n",
       "      <td>NaN</td>\n",
       "      <td>12.0</td>\n",
       "      <td>14.40</td>\n",
       "      <td>5</td>\n",
       "      <td>NaN</td>\n",
       "      <td>...</td>\n",
       "      <td>9.10</td>\n",
       "      <td>NaN</td>\n",
       "      <td>городской посёлок Янино-1</td>\n",
       "      <td>NaN</td>\n",
       "      <td>NaN</td>\n",
       "      <td>NaN</td>\n",
       "      <td>NaN</td>\n",
       "      <td>NaN</td>\n",
       "      <td>NaN</td>\n",
       "      <td>55.0</td>\n",
       "    </tr>\n",
       "    <tr>\n",
       "      <th>6</th>\n",
       "      <td>6</td>\n",
       "      <td>3700000.0</td>\n",
       "      <td>37.30</td>\n",
       "      <td>2017-11-02T00:00:00</td>\n",
       "      <td>1</td>\n",
       "      <td>NaN</td>\n",
       "      <td>26.0</td>\n",
       "      <td>10.60</td>\n",
       "      <td>6</td>\n",
       "      <td>NaN</td>\n",
       "      <td>...</td>\n",
       "      <td>14.40</td>\n",
       "      <td>1.0</td>\n",
       "      <td>посёлок Парголово</td>\n",
       "      <td>52996.0</td>\n",
       "      <td>19143.0</td>\n",
       "      <td>0.0</td>\n",
       "      <td>NaN</td>\n",
       "      <td>0.0</td>\n",
       "      <td>NaN</td>\n",
       "      <td>155.0</td>\n",
       "    </tr>\n",
       "    <tr>\n",
       "      <th>7</th>\n",
       "      <td>5</td>\n",
       "      <td>7915000.0</td>\n",
       "      <td>71.60</td>\n",
       "      <td>2019-04-18T00:00:00</td>\n",
       "      <td>2</td>\n",
       "      <td>NaN</td>\n",
       "      <td>24.0</td>\n",
       "      <td>NaN</td>\n",
       "      <td>22</td>\n",
       "      <td>NaN</td>\n",
       "      <td>...</td>\n",
       "      <td>18.90</td>\n",
       "      <td>2.0</td>\n",
       "      <td>Санкт-Петербург</td>\n",
       "      <td>23982.0</td>\n",
       "      <td>11634.0</td>\n",
       "      <td>0.0</td>\n",
       "      <td>NaN</td>\n",
       "      <td>0.0</td>\n",
       "      <td>NaN</td>\n",
       "      <td>NaN</td>\n",
       "    </tr>\n",
       "    <tr>\n",
       "      <th>8</th>\n",
       "      <td>20</td>\n",
       "      <td>2900000.0</td>\n",
       "      <td>33.16</td>\n",
       "      <td>2018-05-23T00:00:00</td>\n",
       "      <td>1</td>\n",
       "      <td>NaN</td>\n",
       "      <td>27.0</td>\n",
       "      <td>15.43</td>\n",
       "      <td>26</td>\n",
       "      <td>NaN</td>\n",
       "      <td>...</td>\n",
       "      <td>8.81</td>\n",
       "      <td>NaN</td>\n",
       "      <td>посёлок Мурино</td>\n",
       "      <td>NaN</td>\n",
       "      <td>NaN</td>\n",
       "      <td>NaN</td>\n",
       "      <td>NaN</td>\n",
       "      <td>NaN</td>\n",
       "      <td>NaN</td>\n",
       "      <td>189.0</td>\n",
       "    </tr>\n",
       "    <tr>\n",
       "      <th>9</th>\n",
       "      <td>18</td>\n",
       "      <td>5400000.0</td>\n",
       "      <td>61.00</td>\n",
       "      <td>2017-02-26T00:00:00</td>\n",
       "      <td>3</td>\n",
       "      <td>2.50</td>\n",
       "      <td>9.0</td>\n",
       "      <td>43.60</td>\n",
       "      <td>7</td>\n",
       "      <td>NaN</td>\n",
       "      <td>...</td>\n",
       "      <td>6.50</td>\n",
       "      <td>2.0</td>\n",
       "      <td>Санкт-Петербург</td>\n",
       "      <td>50898.0</td>\n",
       "      <td>15008.0</td>\n",
       "      <td>0.0</td>\n",
       "      <td>NaN</td>\n",
       "      <td>0.0</td>\n",
       "      <td>NaN</td>\n",
       "      <td>289.0</td>\n",
       "    </tr>\n",
       "  </tbody>\n",
       "</table>\n",
       "<p>10 rows × 22 columns</p>\n",
       "</div>"
      ],
      "text/plain": [
       "   total_images  last_price  total_area first_day_exposition  rooms  \\\n",
       "0            20  13000000.0      108.00  2019-03-07T00:00:00      3   \n",
       "1             7   3350000.0       40.40  2018-12-04T00:00:00      1   \n",
       "2            10   5196000.0       56.00  2015-08-20T00:00:00      2   \n",
       "3             0  64900000.0      159.00  2015-07-24T00:00:00      3   \n",
       "4             2  10000000.0      100.00  2018-06-19T00:00:00      2   \n",
       "5            10   2890000.0       30.40  2018-09-10T00:00:00      1   \n",
       "6             6   3700000.0       37.30  2017-11-02T00:00:00      1   \n",
       "7             5   7915000.0       71.60  2019-04-18T00:00:00      2   \n",
       "8            20   2900000.0       33.16  2018-05-23T00:00:00      1   \n",
       "9            18   5400000.0       61.00  2017-02-26T00:00:00      3   \n",
       "\n",
       "   ceiling_height  floors_total  living_area  floor is_apartment  ...  \\\n",
       "0            2.70          16.0        51.00      8          NaN  ...   \n",
       "1             NaN          11.0        18.60      1          NaN  ...   \n",
       "2             NaN           5.0        34.30      4          NaN  ...   \n",
       "3             NaN          14.0          NaN      9          NaN  ...   \n",
       "4            3.03          14.0        32.00     13          NaN  ...   \n",
       "5             NaN          12.0        14.40      5          NaN  ...   \n",
       "6             NaN          26.0        10.60      6          NaN  ...   \n",
       "7             NaN          24.0          NaN     22          NaN  ...   \n",
       "8             NaN          27.0        15.43     26          NaN  ...   \n",
       "9            2.50           9.0        43.60      7          NaN  ...   \n",
       "\n",
       "   kitchen_area  balcony              locality_name  airports_nearest  \\\n",
       "0         25.00      NaN            Санкт-Петербург           18863.0   \n",
       "1         11.00      2.0             посёлок Шушары           12817.0   \n",
       "2          8.30      0.0            Санкт-Петербург           21741.0   \n",
       "3           NaN      0.0            Санкт-Петербург           28098.0   \n",
       "4         41.00      NaN            Санкт-Петербург           31856.0   \n",
       "5          9.10      NaN  городской посёлок Янино-1               NaN   \n",
       "6         14.40      1.0          посёлок Парголово           52996.0   \n",
       "7         18.90      2.0            Санкт-Петербург           23982.0   \n",
       "8          8.81      NaN             посёлок Мурино               NaN   \n",
       "9          6.50      2.0            Санкт-Петербург           50898.0   \n",
       "\n",
       "  cityCenters_nearest  parks_around3000  parks_nearest  ponds_around3000  \\\n",
       "0             16028.0               1.0          482.0               2.0   \n",
       "1             18603.0               0.0            NaN               0.0   \n",
       "2             13933.0               1.0           90.0               2.0   \n",
       "3              6800.0               2.0           84.0               3.0   \n",
       "4              8098.0               2.0          112.0               1.0   \n",
       "5                 NaN               NaN            NaN               NaN   \n",
       "6             19143.0               0.0            NaN               0.0   \n",
       "7             11634.0               0.0            NaN               0.0   \n",
       "8                 NaN               NaN            NaN               NaN   \n",
       "9             15008.0               0.0            NaN               0.0   \n",
       "\n",
       "   ponds_nearest  days_exposition  \n",
       "0          755.0              NaN  \n",
       "1            NaN             81.0  \n",
       "2          574.0            558.0  \n",
       "3          234.0            424.0  \n",
       "4           48.0            121.0  \n",
       "5            NaN             55.0  \n",
       "6            NaN            155.0  \n",
       "7            NaN              NaN  \n",
       "8            NaN            189.0  \n",
       "9            NaN            289.0  \n",
       "\n",
       "[10 rows x 22 columns]"
      ]
     },
     "execution_count": 2,
     "metadata": {},
     "output_type": "execute_result"
    }
   ],
   "source": [
    "data = pd.read_csv('/Users/grigorij/Desktop/Портфолио/Исследование объявлений о продаже квартир/real_estate_data.csv', sep = '\\t')\n",
    "data.head(10)"
   ]
  },
  {
   "cell_type": "code",
   "execution_count": 3,
   "metadata": {},
   "outputs": [
    {
     "name": "stdout",
     "output_type": "stream",
     "text": [
      "<class 'pandas.core.frame.DataFrame'>\n",
      "RangeIndex: 23699 entries, 0 to 23698\n",
      "Data columns (total 22 columns):\n",
      " #   Column                Non-Null Count  Dtype  \n",
      "---  ------                --------------  -----  \n",
      " 0   total_images          23699 non-null  int64  \n",
      " 1   last_price            23699 non-null  float64\n",
      " 2   total_area            23699 non-null  float64\n",
      " 3   first_day_exposition  23699 non-null  object \n",
      " 4   rooms                 23699 non-null  int64  \n",
      " 5   ceiling_height        14504 non-null  float64\n",
      " 6   floors_total          23613 non-null  float64\n",
      " 7   living_area           21796 non-null  float64\n",
      " 8   floor                 23699 non-null  int64  \n",
      " 9   is_apartment          2775 non-null   object \n",
      " 10  studio                23699 non-null  bool   \n",
      " 11  open_plan             23699 non-null  bool   \n",
      " 12  kitchen_area          21421 non-null  float64\n",
      " 13  balcony               12180 non-null  float64\n",
      " 14  locality_name         23650 non-null  object \n",
      " 15  airports_nearest      18157 non-null  float64\n",
      " 16  cityCenters_nearest   18180 non-null  float64\n",
      " 17  parks_around3000      18181 non-null  float64\n",
      " 18  parks_nearest         8079 non-null   float64\n",
      " 19  ponds_around3000      18181 non-null  float64\n",
      " 20  ponds_nearest         9110 non-null   float64\n",
      " 21  days_exposition       20518 non-null  float64\n",
      "dtypes: bool(2), float64(14), int64(3), object(3)\n",
      "memory usage: 3.7+ MB\n"
     ]
    }
   ],
   "source": [
    "data.info()"
   ]
  },
  {
   "cell_type": "code",
   "execution_count": 4,
   "metadata": {},
   "outputs": [
    {
     "name": "stdout",
     "output_type": "stream",
     "text": [
      "total_images                0\n",
      "last_price                  0\n",
      "total_area                  0\n",
      "first_day_exposition        0\n",
      "rooms                       0\n",
      "ceiling_height           9195\n",
      "floors_total               86\n",
      "living_area              1903\n",
      "floor                       0\n",
      "is_apartment            20924\n",
      "studio                      0\n",
      "open_plan                   0\n",
      "kitchen_area             2278\n",
      "balcony                 11519\n",
      "locality_name              49\n",
      "airports_nearest         5542\n",
      "cityCenters_nearest      5519\n",
      "parks_around3000         5518\n",
      "parks_nearest           15620\n",
      "ponds_around3000         5518\n",
      "ponds_nearest           14589\n",
      "days_exposition          3181\n",
      "dtype: int64\n"
     ]
    }
   ],
   "source": [
    "print(data.isna().sum())"
   ]
  },
  {
   "cell_type": "code",
   "execution_count": 5,
   "metadata": {},
   "outputs": [
    {
     "data": {
      "text/html": [
       "<div>\n",
       "<style scoped>\n",
       "    .dataframe tbody tr th:only-of-type {\n",
       "        vertical-align: middle;\n",
       "    }\n",
       "\n",
       "    .dataframe tbody tr th {\n",
       "        vertical-align: top;\n",
       "    }\n",
       "\n",
       "    .dataframe thead th {\n",
       "        text-align: right;\n",
       "    }\n",
       "</style>\n",
       "<table border=\"1\" class=\"dataframe\">\n",
       "  <thead>\n",
       "    <tr style=\"text-align: right;\">\n",
       "      <th></th>\n",
       "      <th>total_images</th>\n",
       "      <th>last_price</th>\n",
       "      <th>total_area</th>\n",
       "      <th>rooms</th>\n",
       "      <th>ceiling_height</th>\n",
       "      <th>floors_total</th>\n",
       "      <th>living_area</th>\n",
       "      <th>floor</th>\n",
       "      <th>kitchen_area</th>\n",
       "      <th>balcony</th>\n",
       "      <th>airports_nearest</th>\n",
       "      <th>cityCenters_nearest</th>\n",
       "      <th>parks_around3000</th>\n",
       "      <th>parks_nearest</th>\n",
       "      <th>ponds_around3000</th>\n",
       "      <th>ponds_nearest</th>\n",
       "      <th>days_exposition</th>\n",
       "    </tr>\n",
       "  </thead>\n",
       "  <tbody>\n",
       "    <tr>\n",
       "      <th>count</th>\n",
       "      <td>23699.000000</td>\n",
       "      <td>2.369900e+04</td>\n",
       "      <td>23699.000000</td>\n",
       "      <td>23699.000000</td>\n",
       "      <td>14504.000000</td>\n",
       "      <td>23613.000000</td>\n",
       "      <td>21796.000000</td>\n",
       "      <td>23699.000000</td>\n",
       "      <td>21421.000000</td>\n",
       "      <td>12180.000000</td>\n",
       "      <td>18157.000000</td>\n",
       "      <td>18180.000000</td>\n",
       "      <td>18181.000000</td>\n",
       "      <td>8079.000000</td>\n",
       "      <td>18181.000000</td>\n",
       "      <td>9110.000000</td>\n",
       "      <td>20518.000000</td>\n",
       "    </tr>\n",
       "    <tr>\n",
       "      <th>mean</th>\n",
       "      <td>9.858475</td>\n",
       "      <td>6.541549e+06</td>\n",
       "      <td>60.348651</td>\n",
       "      <td>2.070636</td>\n",
       "      <td>2.771499</td>\n",
       "      <td>10.673824</td>\n",
       "      <td>34.457852</td>\n",
       "      <td>5.892358</td>\n",
       "      <td>10.569807</td>\n",
       "      <td>1.150082</td>\n",
       "      <td>28793.672193</td>\n",
       "      <td>14191.277833</td>\n",
       "      <td>0.611408</td>\n",
       "      <td>490.804555</td>\n",
       "      <td>0.770255</td>\n",
       "      <td>517.980900</td>\n",
       "      <td>180.888634</td>\n",
       "    </tr>\n",
       "    <tr>\n",
       "      <th>std</th>\n",
       "      <td>5.682529</td>\n",
       "      <td>1.088701e+07</td>\n",
       "      <td>35.654083</td>\n",
       "      <td>1.078405</td>\n",
       "      <td>1.261056</td>\n",
       "      <td>6.597173</td>\n",
       "      <td>22.030445</td>\n",
       "      <td>4.885249</td>\n",
       "      <td>5.905438</td>\n",
       "      <td>1.071300</td>\n",
       "      <td>12630.880622</td>\n",
       "      <td>8608.386210</td>\n",
       "      <td>0.802074</td>\n",
       "      <td>342.317995</td>\n",
       "      <td>0.938346</td>\n",
       "      <td>277.720643</td>\n",
       "      <td>219.727988</td>\n",
       "    </tr>\n",
       "    <tr>\n",
       "      <th>min</th>\n",
       "      <td>0.000000</td>\n",
       "      <td>1.219000e+04</td>\n",
       "      <td>12.000000</td>\n",
       "      <td>0.000000</td>\n",
       "      <td>1.000000</td>\n",
       "      <td>1.000000</td>\n",
       "      <td>2.000000</td>\n",
       "      <td>1.000000</td>\n",
       "      <td>1.300000</td>\n",
       "      <td>0.000000</td>\n",
       "      <td>0.000000</td>\n",
       "      <td>181.000000</td>\n",
       "      <td>0.000000</td>\n",
       "      <td>1.000000</td>\n",
       "      <td>0.000000</td>\n",
       "      <td>13.000000</td>\n",
       "      <td>1.000000</td>\n",
       "    </tr>\n",
       "    <tr>\n",
       "      <th>25%</th>\n",
       "      <td>6.000000</td>\n",
       "      <td>3.400000e+06</td>\n",
       "      <td>40.000000</td>\n",
       "      <td>1.000000</td>\n",
       "      <td>2.520000</td>\n",
       "      <td>5.000000</td>\n",
       "      <td>18.600000</td>\n",
       "      <td>2.000000</td>\n",
       "      <td>7.000000</td>\n",
       "      <td>0.000000</td>\n",
       "      <td>18585.000000</td>\n",
       "      <td>9238.000000</td>\n",
       "      <td>0.000000</td>\n",
       "      <td>288.000000</td>\n",
       "      <td>0.000000</td>\n",
       "      <td>294.000000</td>\n",
       "      <td>45.000000</td>\n",
       "    </tr>\n",
       "    <tr>\n",
       "      <th>50%</th>\n",
       "      <td>9.000000</td>\n",
       "      <td>4.650000e+06</td>\n",
       "      <td>52.000000</td>\n",
       "      <td>2.000000</td>\n",
       "      <td>2.650000</td>\n",
       "      <td>9.000000</td>\n",
       "      <td>30.000000</td>\n",
       "      <td>4.000000</td>\n",
       "      <td>9.100000</td>\n",
       "      <td>1.000000</td>\n",
       "      <td>26726.000000</td>\n",
       "      <td>13098.500000</td>\n",
       "      <td>0.000000</td>\n",
       "      <td>455.000000</td>\n",
       "      <td>1.000000</td>\n",
       "      <td>502.000000</td>\n",
       "      <td>95.000000</td>\n",
       "    </tr>\n",
       "    <tr>\n",
       "      <th>75%</th>\n",
       "      <td>14.000000</td>\n",
       "      <td>6.800000e+06</td>\n",
       "      <td>69.900000</td>\n",
       "      <td>3.000000</td>\n",
       "      <td>2.800000</td>\n",
       "      <td>16.000000</td>\n",
       "      <td>42.300000</td>\n",
       "      <td>8.000000</td>\n",
       "      <td>12.000000</td>\n",
       "      <td>2.000000</td>\n",
       "      <td>37273.000000</td>\n",
       "      <td>16293.000000</td>\n",
       "      <td>1.000000</td>\n",
       "      <td>612.000000</td>\n",
       "      <td>1.000000</td>\n",
       "      <td>729.000000</td>\n",
       "      <td>232.000000</td>\n",
       "    </tr>\n",
       "    <tr>\n",
       "      <th>max</th>\n",
       "      <td>50.000000</td>\n",
       "      <td>7.630000e+08</td>\n",
       "      <td>900.000000</td>\n",
       "      <td>19.000000</td>\n",
       "      <td>100.000000</td>\n",
       "      <td>60.000000</td>\n",
       "      <td>409.700000</td>\n",
       "      <td>33.000000</td>\n",
       "      <td>112.000000</td>\n",
       "      <td>5.000000</td>\n",
       "      <td>84869.000000</td>\n",
       "      <td>65968.000000</td>\n",
       "      <td>3.000000</td>\n",
       "      <td>3190.000000</td>\n",
       "      <td>3.000000</td>\n",
       "      <td>1344.000000</td>\n",
       "      <td>1580.000000</td>\n",
       "    </tr>\n",
       "  </tbody>\n",
       "</table>\n",
       "</div>"
      ],
      "text/plain": [
       "       total_images    last_price    total_area         rooms  ceiling_height  \\\n",
       "count  23699.000000  2.369900e+04  23699.000000  23699.000000    14504.000000   \n",
       "mean       9.858475  6.541549e+06     60.348651      2.070636        2.771499   \n",
       "std        5.682529  1.088701e+07     35.654083      1.078405        1.261056   \n",
       "min        0.000000  1.219000e+04     12.000000      0.000000        1.000000   \n",
       "25%        6.000000  3.400000e+06     40.000000      1.000000        2.520000   \n",
       "50%        9.000000  4.650000e+06     52.000000      2.000000        2.650000   \n",
       "75%       14.000000  6.800000e+06     69.900000      3.000000        2.800000   \n",
       "max       50.000000  7.630000e+08    900.000000     19.000000      100.000000   \n",
       "\n",
       "       floors_total   living_area         floor  kitchen_area       balcony  \\\n",
       "count  23613.000000  21796.000000  23699.000000  21421.000000  12180.000000   \n",
       "mean      10.673824     34.457852      5.892358     10.569807      1.150082   \n",
       "std        6.597173     22.030445      4.885249      5.905438      1.071300   \n",
       "min        1.000000      2.000000      1.000000      1.300000      0.000000   \n",
       "25%        5.000000     18.600000      2.000000      7.000000      0.000000   \n",
       "50%        9.000000     30.000000      4.000000      9.100000      1.000000   \n",
       "75%       16.000000     42.300000      8.000000     12.000000      2.000000   \n",
       "max       60.000000    409.700000     33.000000    112.000000      5.000000   \n",
       "\n",
       "       airports_nearest  cityCenters_nearest  parks_around3000  parks_nearest  \\\n",
       "count      18157.000000         18180.000000      18181.000000    8079.000000   \n",
       "mean       28793.672193         14191.277833          0.611408     490.804555   \n",
       "std        12630.880622          8608.386210          0.802074     342.317995   \n",
       "min            0.000000           181.000000          0.000000       1.000000   \n",
       "25%        18585.000000          9238.000000          0.000000     288.000000   \n",
       "50%        26726.000000         13098.500000          0.000000     455.000000   \n",
       "75%        37273.000000         16293.000000          1.000000     612.000000   \n",
       "max        84869.000000         65968.000000          3.000000    3190.000000   \n",
       "\n",
       "       ponds_around3000  ponds_nearest  days_exposition  \n",
       "count      18181.000000    9110.000000     20518.000000  \n",
       "mean           0.770255     517.980900       180.888634  \n",
       "std            0.938346     277.720643       219.727988  \n",
       "min            0.000000      13.000000         1.000000  \n",
       "25%            0.000000     294.000000        45.000000  \n",
       "50%            1.000000     502.000000        95.000000  \n",
       "75%            1.000000     729.000000       232.000000  \n",
       "max            3.000000    1344.000000      1580.000000  "
      ]
     },
     "execution_count": 5,
     "metadata": {},
     "output_type": "execute_result"
    }
   ],
   "source": [
    "data.describe()"
   ]
  },
  {
   "cell_type": "code",
   "execution_count": 6,
   "metadata": {},
   "outputs": [
    {
     "data": {
      "text/plain": [
       "0"
      ]
     },
     "execution_count": 6,
     "metadata": {},
     "output_type": "execute_result"
    }
   ],
   "source": [
    "data.duplicated().sum()"
   ]
  },
  {
   "cell_type": "markdown",
   "metadata": {},
   "source": [
    "### Вывод"
   ]
  },
  {
   "cell_type": "markdown",
   "metadata": {},
   "source": [
    "Всего у нас 23699 записи. Для целого ряда столбцов есть пропущенные значения и некорректный тип данных. \n",
    "\n",
    "В нескольких столбцах есть необычные значения, например огромная кухня размером с трехкомнатную квартиру, или потолки высотой 100 метров. В дальнейшем следует учитывать эти выбивающиеся значения при расчетах. Будем учитывать их с помощью логической индексации при построении графиков.\n",
    "\n",
    "Обнаруженные пропуски:\n",
    "\n",
    "    ceiling_height           9195 - высота потолков, скорее всего придется заменить на медианные значения\n",
    "    floors_total               86 - можно отбросить, малое значение\n",
    "    living_area              1903 - как и с высотой потолков, попробуем заменить на медианные значения\n",
    "    is_apartment            20924 - скорее всего пользователи просто не отмечают этот пункт, \n",
    "                                    если продаются не апартаменты\n",
    "    kitchen_area             2278 - заменим на медианное значение\n",
    "    balcony                 11519 - слишком много пропусков, скорее всего пропуск означает отсутствие балкона\n",
    "    locality_name              49 - можно отбросить, малое значение\n",
    "    airports_nearest         5542 - автоматически заполненные значения на основе карты, \n",
    "                                    скорее всего корректно заполнить не получится\n",
    "    cityCenters_nearest      5519 - автоматически заполненные значения на основе карты, \n",
    "                                    скорее всего корректно заполнить не получится\n",
    "    parks_around3000         5518 - предположим, что пропуски означают отсутствие парков в заданном радиусе\n",
    "    parks_nearest           15620 - автоматически заполненные значения на основе карты, \n",
    "                                    скорее всего корректно заполнить не получится\n",
    "    ponds_around3000         5518 - предположим, что пропуски означают отсутствие прудов в заданном радиусе\n",
    "    ponds_nearest           14589 - автоматически заполненные значения на основе карты, \n",
    "                                    скорее всего корректно заполнить не получится\n",
    "    days_exposition          3181\n",
    "\n",
    "Дубликаты в датасете не обнаружены."
   ]
  },
  {
   "cell_type": "markdown",
   "metadata": {},
   "source": [
    "## Предобработка данных"
   ]
  },
  {
   "cell_type": "markdown",
   "metadata": {},
   "source": [
    "### Замена и заполнение пропусков"
   ]
  },
  {
   "cell_type": "markdown",
   "metadata": {},
   "source": [
    "Заменим, где это логически возможно, пропуски в данных. Данные в столбцах с расстоянием до аэропорта, центра города и ближайших прудов/парков трогать не будем, тк корректно заменить их не получится."
   ]
  },
  {
   "cell_type": "markdown",
   "metadata": {},
   "source": [
    "Сперва разберемся со строками, замены в которых можно осуществить сразу же стандартными методами:"
   ]
  },
  {
   "cell_type": "code",
   "execution_count": 7,
   "metadata": {},
   "outputs": [
    {
     "data": {
      "text/html": [
       "<div>\n",
       "<style scoped>\n",
       "    .dataframe tbody tr th:only-of-type {\n",
       "        vertical-align: middle;\n",
       "    }\n",
       "\n",
       "    .dataframe tbody tr th {\n",
       "        vertical-align: top;\n",
       "    }\n",
       "\n",
       "    .dataframe thead th {\n",
       "        text-align: right;\n",
       "    }\n",
       "</style>\n",
       "<table border=\"1\" class=\"dataframe\">\n",
       "  <thead>\n",
       "    <tr style=\"text-align: right;\">\n",
       "      <th></th>\n",
       "      <th>total_images</th>\n",
       "      <th>last_price</th>\n",
       "      <th>total_area</th>\n",
       "      <th>first_day_exposition</th>\n",
       "      <th>rooms</th>\n",
       "      <th>ceiling_height</th>\n",
       "      <th>floors_total</th>\n",
       "      <th>living_area</th>\n",
       "      <th>floor</th>\n",
       "      <th>is_apartment</th>\n",
       "      <th>...</th>\n",
       "      <th>kitchen_area</th>\n",
       "      <th>balcony</th>\n",
       "      <th>locality_name</th>\n",
       "      <th>airports_nearest</th>\n",
       "      <th>cityCenters_nearest</th>\n",
       "      <th>parks_around3000</th>\n",
       "      <th>parks_nearest</th>\n",
       "      <th>ponds_around3000</th>\n",
       "      <th>ponds_nearest</th>\n",
       "      <th>days_exposition</th>\n",
       "    </tr>\n",
       "  </thead>\n",
       "  <tbody>\n",
       "    <tr>\n",
       "      <th>0</th>\n",
       "      <td>20</td>\n",
       "      <td>13000000.0</td>\n",
       "      <td>108.00</td>\n",
       "      <td>2019-03-07T00:00:00</td>\n",
       "      <td>3</td>\n",
       "      <td>2.70</td>\n",
       "      <td>16.0</td>\n",
       "      <td>51.00</td>\n",
       "      <td>8</td>\n",
       "      <td>False</td>\n",
       "      <td>...</td>\n",
       "      <td>25.00</td>\n",
       "      <td>0.0</td>\n",
       "      <td>Санкт-Петербург</td>\n",
       "      <td>18863.0</td>\n",
       "      <td>16028.0</td>\n",
       "      <td>1.0</td>\n",
       "      <td>482.0</td>\n",
       "      <td>2.0</td>\n",
       "      <td>755.0</td>\n",
       "      <td>NaN</td>\n",
       "    </tr>\n",
       "    <tr>\n",
       "      <th>1</th>\n",
       "      <td>7</td>\n",
       "      <td>3350000.0</td>\n",
       "      <td>40.40</td>\n",
       "      <td>2018-12-04T00:00:00</td>\n",
       "      <td>1</td>\n",
       "      <td>NaN</td>\n",
       "      <td>11.0</td>\n",
       "      <td>18.60</td>\n",
       "      <td>1</td>\n",
       "      <td>False</td>\n",
       "      <td>...</td>\n",
       "      <td>11.00</td>\n",
       "      <td>2.0</td>\n",
       "      <td>посёлок Шушары</td>\n",
       "      <td>12817.0</td>\n",
       "      <td>18603.0</td>\n",
       "      <td>0.0</td>\n",
       "      <td>NaN</td>\n",
       "      <td>0.0</td>\n",
       "      <td>NaN</td>\n",
       "      <td>81.0</td>\n",
       "    </tr>\n",
       "    <tr>\n",
       "      <th>2</th>\n",
       "      <td>10</td>\n",
       "      <td>5196000.0</td>\n",
       "      <td>56.00</td>\n",
       "      <td>2015-08-20T00:00:00</td>\n",
       "      <td>2</td>\n",
       "      <td>NaN</td>\n",
       "      <td>5.0</td>\n",
       "      <td>34.30</td>\n",
       "      <td>4</td>\n",
       "      <td>False</td>\n",
       "      <td>...</td>\n",
       "      <td>8.30</td>\n",
       "      <td>0.0</td>\n",
       "      <td>Санкт-Петербург</td>\n",
       "      <td>21741.0</td>\n",
       "      <td>13933.0</td>\n",
       "      <td>1.0</td>\n",
       "      <td>90.0</td>\n",
       "      <td>2.0</td>\n",
       "      <td>574.0</td>\n",
       "      <td>558.0</td>\n",
       "    </tr>\n",
       "    <tr>\n",
       "      <th>3</th>\n",
       "      <td>0</td>\n",
       "      <td>64900000.0</td>\n",
       "      <td>159.00</td>\n",
       "      <td>2015-07-24T00:00:00</td>\n",
       "      <td>3</td>\n",
       "      <td>NaN</td>\n",
       "      <td>14.0</td>\n",
       "      <td>NaN</td>\n",
       "      <td>9</td>\n",
       "      <td>False</td>\n",
       "      <td>...</td>\n",
       "      <td>NaN</td>\n",
       "      <td>0.0</td>\n",
       "      <td>Санкт-Петербург</td>\n",
       "      <td>28098.0</td>\n",
       "      <td>6800.0</td>\n",
       "      <td>2.0</td>\n",
       "      <td>84.0</td>\n",
       "      <td>3.0</td>\n",
       "      <td>234.0</td>\n",
       "      <td>424.0</td>\n",
       "    </tr>\n",
       "    <tr>\n",
       "      <th>4</th>\n",
       "      <td>2</td>\n",
       "      <td>10000000.0</td>\n",
       "      <td>100.00</td>\n",
       "      <td>2018-06-19T00:00:00</td>\n",
       "      <td>2</td>\n",
       "      <td>3.03</td>\n",
       "      <td>14.0</td>\n",
       "      <td>32.00</td>\n",
       "      <td>13</td>\n",
       "      <td>False</td>\n",
       "      <td>...</td>\n",
       "      <td>41.00</td>\n",
       "      <td>0.0</td>\n",
       "      <td>Санкт-Петербург</td>\n",
       "      <td>31856.0</td>\n",
       "      <td>8098.0</td>\n",
       "      <td>2.0</td>\n",
       "      <td>112.0</td>\n",
       "      <td>1.0</td>\n",
       "      <td>48.0</td>\n",
       "      <td>121.0</td>\n",
       "    </tr>\n",
       "    <tr>\n",
       "      <th>5</th>\n",
       "      <td>10</td>\n",
       "      <td>2890000.0</td>\n",
       "      <td>30.40</td>\n",
       "      <td>2018-09-10T00:00:00</td>\n",
       "      <td>1</td>\n",
       "      <td>NaN</td>\n",
       "      <td>12.0</td>\n",
       "      <td>14.40</td>\n",
       "      <td>5</td>\n",
       "      <td>False</td>\n",
       "      <td>...</td>\n",
       "      <td>9.10</td>\n",
       "      <td>0.0</td>\n",
       "      <td>городской посёлок Янино-1</td>\n",
       "      <td>NaN</td>\n",
       "      <td>NaN</td>\n",
       "      <td>0.0</td>\n",
       "      <td>NaN</td>\n",
       "      <td>0.0</td>\n",
       "      <td>NaN</td>\n",
       "      <td>55.0</td>\n",
       "    </tr>\n",
       "    <tr>\n",
       "      <th>6</th>\n",
       "      <td>6</td>\n",
       "      <td>3700000.0</td>\n",
       "      <td>37.30</td>\n",
       "      <td>2017-11-02T00:00:00</td>\n",
       "      <td>1</td>\n",
       "      <td>NaN</td>\n",
       "      <td>26.0</td>\n",
       "      <td>10.60</td>\n",
       "      <td>6</td>\n",
       "      <td>False</td>\n",
       "      <td>...</td>\n",
       "      <td>14.40</td>\n",
       "      <td>1.0</td>\n",
       "      <td>посёлок Парголово</td>\n",
       "      <td>52996.0</td>\n",
       "      <td>19143.0</td>\n",
       "      <td>0.0</td>\n",
       "      <td>NaN</td>\n",
       "      <td>0.0</td>\n",
       "      <td>NaN</td>\n",
       "      <td>155.0</td>\n",
       "    </tr>\n",
       "    <tr>\n",
       "      <th>7</th>\n",
       "      <td>5</td>\n",
       "      <td>7915000.0</td>\n",
       "      <td>71.60</td>\n",
       "      <td>2019-04-18T00:00:00</td>\n",
       "      <td>2</td>\n",
       "      <td>NaN</td>\n",
       "      <td>24.0</td>\n",
       "      <td>NaN</td>\n",
       "      <td>22</td>\n",
       "      <td>False</td>\n",
       "      <td>...</td>\n",
       "      <td>18.90</td>\n",
       "      <td>2.0</td>\n",
       "      <td>Санкт-Петербург</td>\n",
       "      <td>23982.0</td>\n",
       "      <td>11634.0</td>\n",
       "      <td>0.0</td>\n",
       "      <td>NaN</td>\n",
       "      <td>0.0</td>\n",
       "      <td>NaN</td>\n",
       "      <td>NaN</td>\n",
       "    </tr>\n",
       "    <tr>\n",
       "      <th>8</th>\n",
       "      <td>20</td>\n",
       "      <td>2900000.0</td>\n",
       "      <td>33.16</td>\n",
       "      <td>2018-05-23T00:00:00</td>\n",
       "      <td>1</td>\n",
       "      <td>NaN</td>\n",
       "      <td>27.0</td>\n",
       "      <td>15.43</td>\n",
       "      <td>26</td>\n",
       "      <td>False</td>\n",
       "      <td>...</td>\n",
       "      <td>8.81</td>\n",
       "      <td>0.0</td>\n",
       "      <td>посёлок Мурино</td>\n",
       "      <td>NaN</td>\n",
       "      <td>NaN</td>\n",
       "      <td>0.0</td>\n",
       "      <td>NaN</td>\n",
       "      <td>0.0</td>\n",
       "      <td>NaN</td>\n",
       "      <td>189.0</td>\n",
       "    </tr>\n",
       "    <tr>\n",
       "      <th>9</th>\n",
       "      <td>18</td>\n",
       "      <td>5400000.0</td>\n",
       "      <td>61.00</td>\n",
       "      <td>2017-02-26T00:00:00</td>\n",
       "      <td>3</td>\n",
       "      <td>2.50</td>\n",
       "      <td>9.0</td>\n",
       "      <td>43.60</td>\n",
       "      <td>7</td>\n",
       "      <td>False</td>\n",
       "      <td>...</td>\n",
       "      <td>6.50</td>\n",
       "      <td>2.0</td>\n",
       "      <td>Санкт-Петербург</td>\n",
       "      <td>50898.0</td>\n",
       "      <td>15008.0</td>\n",
       "      <td>0.0</td>\n",
       "      <td>NaN</td>\n",
       "      <td>0.0</td>\n",
       "      <td>NaN</td>\n",
       "      <td>289.0</td>\n",
       "    </tr>\n",
       "  </tbody>\n",
       "</table>\n",
       "<p>10 rows × 22 columns</p>\n",
       "</div>"
      ],
      "text/plain": [
       "   total_images  last_price  total_area first_day_exposition  rooms  \\\n",
       "0            20  13000000.0      108.00  2019-03-07T00:00:00      3   \n",
       "1             7   3350000.0       40.40  2018-12-04T00:00:00      1   \n",
       "2            10   5196000.0       56.00  2015-08-20T00:00:00      2   \n",
       "3             0  64900000.0      159.00  2015-07-24T00:00:00      3   \n",
       "4             2  10000000.0      100.00  2018-06-19T00:00:00      2   \n",
       "5            10   2890000.0       30.40  2018-09-10T00:00:00      1   \n",
       "6             6   3700000.0       37.30  2017-11-02T00:00:00      1   \n",
       "7             5   7915000.0       71.60  2019-04-18T00:00:00      2   \n",
       "8            20   2900000.0       33.16  2018-05-23T00:00:00      1   \n",
       "9            18   5400000.0       61.00  2017-02-26T00:00:00      3   \n",
       "\n",
       "   ceiling_height  floors_total  living_area  floor  is_apartment  ...  \\\n",
       "0            2.70          16.0        51.00      8         False  ...   \n",
       "1             NaN          11.0        18.60      1         False  ...   \n",
       "2             NaN           5.0        34.30      4         False  ...   \n",
       "3             NaN          14.0          NaN      9         False  ...   \n",
       "4            3.03          14.0        32.00     13         False  ...   \n",
       "5             NaN          12.0        14.40      5         False  ...   \n",
       "6             NaN          26.0        10.60      6         False  ...   \n",
       "7             NaN          24.0          NaN     22         False  ...   \n",
       "8             NaN          27.0        15.43     26         False  ...   \n",
       "9            2.50           9.0        43.60      7         False  ...   \n",
       "\n",
       "   kitchen_area  balcony              locality_name  airports_nearest  \\\n",
       "0         25.00      0.0            Санкт-Петербург           18863.0   \n",
       "1         11.00      2.0             посёлок Шушары           12817.0   \n",
       "2          8.30      0.0            Санкт-Петербург           21741.0   \n",
       "3           NaN      0.0            Санкт-Петербург           28098.0   \n",
       "4         41.00      0.0            Санкт-Петербург           31856.0   \n",
       "5          9.10      0.0  городской посёлок Янино-1               NaN   \n",
       "6         14.40      1.0          посёлок Парголово           52996.0   \n",
       "7         18.90      2.0            Санкт-Петербург           23982.0   \n",
       "8          8.81      0.0             посёлок Мурино               NaN   \n",
       "9          6.50      2.0            Санкт-Петербург           50898.0   \n",
       "\n",
       "  cityCenters_nearest  parks_around3000  parks_nearest  ponds_around3000  \\\n",
       "0             16028.0               1.0          482.0               2.0   \n",
       "1             18603.0               0.0            NaN               0.0   \n",
       "2             13933.0               1.0           90.0               2.0   \n",
       "3              6800.0               2.0           84.0               3.0   \n",
       "4              8098.0               2.0          112.0               1.0   \n",
       "5                 NaN               0.0            NaN               0.0   \n",
       "6             19143.0               0.0            NaN               0.0   \n",
       "7             11634.0               0.0            NaN               0.0   \n",
       "8                 NaN               0.0            NaN               0.0   \n",
       "9             15008.0               0.0            NaN               0.0   \n",
       "\n",
       "   ponds_nearest  days_exposition  \n",
       "0          755.0              NaN  \n",
       "1            NaN             81.0  \n",
       "2          574.0            558.0  \n",
       "3          234.0            424.0  \n",
       "4           48.0            121.0  \n",
       "5            NaN             55.0  \n",
       "6            NaN            155.0  \n",
       "7            NaN              NaN  \n",
       "8            NaN            189.0  \n",
       "9            NaN            289.0  \n",
       "\n",
       "[10 rows x 22 columns]"
      ]
     },
     "metadata": {},
     "output_type": "display_data"
    }
   ],
   "source": [
    "#заменим пропуски в столбце с балконами на ноль\n",
    "#скорее всего он отсутствует и пользователи оставляют поле пустым\n",
    "data['balcony'] = data['balcony'].fillna(0)\n",
    "\n",
    "#заполним пропуски в столбце \"апартаменты\" на False\n",
    "#т.к. это булево значение, то логично, что пропущенные значения - не являются апартаментами\n",
    "data['is_apartment'] = data['is_apartment'].fillna(False)\n",
    "\n",
    "#предположим, что пропущенные значения в столбцах с количеством парков и прудов означают их отсутствие в заданном радиусе\n",
    "#и заменим эти значения на ноль\n",
    "\n",
    "data['parks_around3000'] = data['parks_around3000'].fillna(value=0)\n",
    "data['ponds_around3000'] = data['ponds_around3000'].fillna(value=0)\n",
    "\n",
    "display(data.head(10)) #проверим\n",
    "#print(data.isna().sum()) \n"
   ]
  },
  {
   "cell_type": "markdown",
   "metadata": {},
   "source": [
    "Заполним пропущенные значения высоты потолков, жилой и кухонной площади. Используем для этого медианные значения."
   ]
  },
  {
   "cell_type": "code",
   "execution_count": 8,
   "metadata": {
    "scrolled": false
   },
   "outputs": [
    {
     "data": {
      "text/html": [
       "<div>\n",
       "<style scoped>\n",
       "    .dataframe tbody tr th:only-of-type {\n",
       "        vertical-align: middle;\n",
       "    }\n",
       "\n",
       "    .dataframe tbody tr th {\n",
       "        vertical-align: top;\n",
       "    }\n",
       "\n",
       "    .dataframe thead th {\n",
       "        text-align: right;\n",
       "    }\n",
       "</style>\n",
       "<table border=\"1\" class=\"dataframe\">\n",
       "  <thead>\n",
       "    <tr style=\"text-align: right;\">\n",
       "      <th></th>\n",
       "      <th>total_images</th>\n",
       "      <th>last_price</th>\n",
       "      <th>total_area</th>\n",
       "      <th>first_day_exposition</th>\n",
       "      <th>rooms</th>\n",
       "      <th>ceiling_height</th>\n",
       "      <th>floors_total</th>\n",
       "      <th>living_area</th>\n",
       "      <th>floor</th>\n",
       "      <th>is_apartment</th>\n",
       "      <th>...</th>\n",
       "      <th>kitchen_area</th>\n",
       "      <th>balcony</th>\n",
       "      <th>locality_name</th>\n",
       "      <th>airports_nearest</th>\n",
       "      <th>cityCenters_nearest</th>\n",
       "      <th>parks_around3000</th>\n",
       "      <th>parks_nearest</th>\n",
       "      <th>ponds_around3000</th>\n",
       "      <th>ponds_nearest</th>\n",
       "      <th>days_exposition</th>\n",
       "    </tr>\n",
       "  </thead>\n",
       "  <tbody>\n",
       "    <tr>\n",
       "      <th>0</th>\n",
       "      <td>20</td>\n",
       "      <td>13000000.0</td>\n",
       "      <td>108.00</td>\n",
       "      <td>2019-03-07T00:00:00</td>\n",
       "      <td>3</td>\n",
       "      <td>2.700</td>\n",
       "      <td>16.0</td>\n",
       "      <td>51.000000</td>\n",
       "      <td>8</td>\n",
       "      <td>False</td>\n",
       "      <td>...</td>\n",
       "      <td>25.000</td>\n",
       "      <td>0.0</td>\n",
       "      <td>Санкт-Петербург</td>\n",
       "      <td>18863.0</td>\n",
       "      <td>16028.0</td>\n",
       "      <td>1.0</td>\n",
       "      <td>482.0</td>\n",
       "      <td>2.0</td>\n",
       "      <td>755.0</td>\n",
       "      <td>NaN</td>\n",
       "    </tr>\n",
       "    <tr>\n",
       "      <th>1</th>\n",
       "      <td>7</td>\n",
       "      <td>3350000.0</td>\n",
       "      <td>40.40</td>\n",
       "      <td>2018-12-04T00:00:00</td>\n",
       "      <td>1</td>\n",
       "      <td>2.650</td>\n",
       "      <td>11.0</td>\n",
       "      <td>18.600000</td>\n",
       "      <td>1</td>\n",
       "      <td>False</td>\n",
       "      <td>...</td>\n",
       "      <td>11.000</td>\n",
       "      <td>2.0</td>\n",
       "      <td>посёлок Шушары</td>\n",
       "      <td>12817.0</td>\n",
       "      <td>18603.0</td>\n",
       "      <td>0.0</td>\n",
       "      <td>NaN</td>\n",
       "      <td>0.0</td>\n",
       "      <td>NaN</td>\n",
       "      <td>81.0</td>\n",
       "    </tr>\n",
       "    <tr>\n",
       "      <th>2</th>\n",
       "      <td>10</td>\n",
       "      <td>5196000.0</td>\n",
       "      <td>56.00</td>\n",
       "      <td>2015-08-20T00:00:00</td>\n",
       "      <td>2</td>\n",
       "      <td>2.600</td>\n",
       "      <td>5.0</td>\n",
       "      <td>34.300000</td>\n",
       "      <td>4</td>\n",
       "      <td>False</td>\n",
       "      <td>...</td>\n",
       "      <td>8.300</td>\n",
       "      <td>0.0</td>\n",
       "      <td>Санкт-Петербург</td>\n",
       "      <td>21741.0</td>\n",
       "      <td>13933.0</td>\n",
       "      <td>1.0</td>\n",
       "      <td>90.0</td>\n",
       "      <td>2.0</td>\n",
       "      <td>574.0</td>\n",
       "      <td>558.0</td>\n",
       "    </tr>\n",
       "    <tr>\n",
       "      <th>3</th>\n",
       "      <td>0</td>\n",
       "      <td>64900000.0</td>\n",
       "      <td>159.00</td>\n",
       "      <td>2015-07-24T00:00:00</td>\n",
       "      <td>3</td>\n",
       "      <td>2.600</td>\n",
       "      <td>14.0</td>\n",
       "      <td>91.730769</td>\n",
       "      <td>9</td>\n",
       "      <td>False</td>\n",
       "      <td>...</td>\n",
       "      <td>27.825</td>\n",
       "      <td>0.0</td>\n",
       "      <td>Санкт-Петербург</td>\n",
       "      <td>28098.0</td>\n",
       "      <td>6800.0</td>\n",
       "      <td>2.0</td>\n",
       "      <td>84.0</td>\n",
       "      <td>3.0</td>\n",
       "      <td>234.0</td>\n",
       "      <td>424.0</td>\n",
       "    </tr>\n",
       "    <tr>\n",
       "      <th>4</th>\n",
       "      <td>2</td>\n",
       "      <td>10000000.0</td>\n",
       "      <td>100.00</td>\n",
       "      <td>2018-06-19T00:00:00</td>\n",
       "      <td>2</td>\n",
       "      <td>3.030</td>\n",
       "      <td>14.0</td>\n",
       "      <td>32.000000</td>\n",
       "      <td>13</td>\n",
       "      <td>False</td>\n",
       "      <td>...</td>\n",
       "      <td>41.000</td>\n",
       "      <td>0.0</td>\n",
       "      <td>Санкт-Петербург</td>\n",
       "      <td>31856.0</td>\n",
       "      <td>8098.0</td>\n",
       "      <td>2.0</td>\n",
       "      <td>112.0</td>\n",
       "      <td>1.0</td>\n",
       "      <td>48.0</td>\n",
       "      <td>121.0</td>\n",
       "    </tr>\n",
       "    <tr>\n",
       "      <th>5</th>\n",
       "      <td>10</td>\n",
       "      <td>2890000.0</td>\n",
       "      <td>30.40</td>\n",
       "      <td>2018-09-10T00:00:00</td>\n",
       "      <td>1</td>\n",
       "      <td>2.625</td>\n",
       "      <td>12.0</td>\n",
       "      <td>14.400000</td>\n",
       "      <td>5</td>\n",
       "      <td>False</td>\n",
       "      <td>...</td>\n",
       "      <td>9.100</td>\n",
       "      <td>0.0</td>\n",
       "      <td>городской посёлок Янино-1</td>\n",
       "      <td>NaN</td>\n",
       "      <td>NaN</td>\n",
       "      <td>0.0</td>\n",
       "      <td>NaN</td>\n",
       "      <td>0.0</td>\n",
       "      <td>NaN</td>\n",
       "      <td>55.0</td>\n",
       "    </tr>\n",
       "    <tr>\n",
       "      <th>6</th>\n",
       "      <td>6</td>\n",
       "      <td>3700000.0</td>\n",
       "      <td>37.30</td>\n",
       "      <td>2017-11-02T00:00:00</td>\n",
       "      <td>1</td>\n",
       "      <td>2.600</td>\n",
       "      <td>26.0</td>\n",
       "      <td>10.600000</td>\n",
       "      <td>6</td>\n",
       "      <td>False</td>\n",
       "      <td>...</td>\n",
       "      <td>14.400</td>\n",
       "      <td>1.0</td>\n",
       "      <td>посёлок Парголово</td>\n",
       "      <td>52996.0</td>\n",
       "      <td>19143.0</td>\n",
       "      <td>0.0</td>\n",
       "      <td>NaN</td>\n",
       "      <td>0.0</td>\n",
       "      <td>NaN</td>\n",
       "      <td>155.0</td>\n",
       "    </tr>\n",
       "    <tr>\n",
       "      <th>7</th>\n",
       "      <td>5</td>\n",
       "      <td>7915000.0</td>\n",
       "      <td>71.60</td>\n",
       "      <td>2019-04-18T00:00:00</td>\n",
       "      <td>2</td>\n",
       "      <td>2.750</td>\n",
       "      <td>24.0</td>\n",
       "      <td>41.307692</td>\n",
       "      <td>22</td>\n",
       "      <td>False</td>\n",
       "      <td>...</td>\n",
       "      <td>18.900</td>\n",
       "      <td>2.0</td>\n",
       "      <td>Санкт-Петербург</td>\n",
       "      <td>23982.0</td>\n",
       "      <td>11634.0</td>\n",
       "      <td>0.0</td>\n",
       "      <td>NaN</td>\n",
       "      <td>0.0</td>\n",
       "      <td>NaN</td>\n",
       "      <td>NaN</td>\n",
       "    </tr>\n",
       "    <tr>\n",
       "      <th>8</th>\n",
       "      <td>20</td>\n",
       "      <td>2900000.0</td>\n",
       "      <td>33.16</td>\n",
       "      <td>2018-05-23T00:00:00</td>\n",
       "      <td>1</td>\n",
       "      <td>2.650</td>\n",
       "      <td>27.0</td>\n",
       "      <td>15.430000</td>\n",
       "      <td>26</td>\n",
       "      <td>False</td>\n",
       "      <td>...</td>\n",
       "      <td>8.810</td>\n",
       "      <td>0.0</td>\n",
       "      <td>посёлок Мурино</td>\n",
       "      <td>NaN</td>\n",
       "      <td>NaN</td>\n",
       "      <td>0.0</td>\n",
       "      <td>NaN</td>\n",
       "      <td>0.0</td>\n",
       "      <td>NaN</td>\n",
       "      <td>189.0</td>\n",
       "    </tr>\n",
       "    <tr>\n",
       "      <th>9</th>\n",
       "      <td>18</td>\n",
       "      <td>5400000.0</td>\n",
       "      <td>61.00</td>\n",
       "      <td>2017-02-26T00:00:00</td>\n",
       "      <td>3</td>\n",
       "      <td>2.500</td>\n",
       "      <td>9.0</td>\n",
       "      <td>43.600000</td>\n",
       "      <td>7</td>\n",
       "      <td>False</td>\n",
       "      <td>...</td>\n",
       "      <td>6.500</td>\n",
       "      <td>2.0</td>\n",
       "      <td>Санкт-Петербург</td>\n",
       "      <td>50898.0</td>\n",
       "      <td>15008.0</td>\n",
       "      <td>0.0</td>\n",
       "      <td>NaN</td>\n",
       "      <td>0.0</td>\n",
       "      <td>NaN</td>\n",
       "      <td>289.0</td>\n",
       "    </tr>\n",
       "  </tbody>\n",
       "</table>\n",
       "<p>10 rows × 22 columns</p>\n",
       "</div>"
      ],
      "text/plain": [
       "   total_images  last_price  total_area first_day_exposition  rooms  \\\n",
       "0            20  13000000.0      108.00  2019-03-07T00:00:00      3   \n",
       "1             7   3350000.0       40.40  2018-12-04T00:00:00      1   \n",
       "2            10   5196000.0       56.00  2015-08-20T00:00:00      2   \n",
       "3             0  64900000.0      159.00  2015-07-24T00:00:00      3   \n",
       "4             2  10000000.0      100.00  2018-06-19T00:00:00      2   \n",
       "5            10   2890000.0       30.40  2018-09-10T00:00:00      1   \n",
       "6             6   3700000.0       37.30  2017-11-02T00:00:00      1   \n",
       "7             5   7915000.0       71.60  2019-04-18T00:00:00      2   \n",
       "8            20   2900000.0       33.16  2018-05-23T00:00:00      1   \n",
       "9            18   5400000.0       61.00  2017-02-26T00:00:00      3   \n",
       "\n",
       "   ceiling_height  floors_total  living_area  floor  is_apartment  ...  \\\n",
       "0           2.700          16.0    51.000000      8         False  ...   \n",
       "1           2.650          11.0    18.600000      1         False  ...   \n",
       "2           2.600           5.0    34.300000      4         False  ...   \n",
       "3           2.600          14.0    91.730769      9         False  ...   \n",
       "4           3.030          14.0    32.000000     13         False  ...   \n",
       "5           2.625          12.0    14.400000      5         False  ...   \n",
       "6           2.600          26.0    10.600000      6         False  ...   \n",
       "7           2.750          24.0    41.307692     22         False  ...   \n",
       "8           2.650          27.0    15.430000     26         False  ...   \n",
       "9           2.500           9.0    43.600000      7         False  ...   \n",
       "\n",
       "   kitchen_area  balcony              locality_name  airports_nearest  \\\n",
       "0        25.000      0.0            Санкт-Петербург           18863.0   \n",
       "1        11.000      2.0             посёлок Шушары           12817.0   \n",
       "2         8.300      0.0            Санкт-Петербург           21741.0   \n",
       "3        27.825      0.0            Санкт-Петербург           28098.0   \n",
       "4        41.000      0.0            Санкт-Петербург           31856.0   \n",
       "5         9.100      0.0  городской посёлок Янино-1               NaN   \n",
       "6        14.400      1.0          посёлок Парголово           52996.0   \n",
       "7        18.900      2.0            Санкт-Петербург           23982.0   \n",
       "8         8.810      0.0             посёлок Мурино               NaN   \n",
       "9         6.500      2.0            Санкт-Петербург           50898.0   \n",
       "\n",
       "  cityCenters_nearest  parks_around3000  parks_nearest  ponds_around3000  \\\n",
       "0             16028.0               1.0          482.0               2.0   \n",
       "1             18603.0               0.0            NaN               0.0   \n",
       "2             13933.0               1.0           90.0               2.0   \n",
       "3              6800.0               2.0           84.0               3.0   \n",
       "4              8098.0               2.0          112.0               1.0   \n",
       "5                 NaN               0.0            NaN               0.0   \n",
       "6             19143.0               0.0            NaN               0.0   \n",
       "7             11634.0               0.0            NaN               0.0   \n",
       "8                 NaN               0.0            NaN               0.0   \n",
       "9             15008.0               0.0            NaN               0.0   \n",
       "\n",
       "   ponds_nearest  days_exposition  \n",
       "0          755.0              NaN  \n",
       "1            NaN             81.0  \n",
       "2          574.0            558.0  \n",
       "3          234.0            424.0  \n",
       "4           48.0            121.0  \n",
       "5            NaN             55.0  \n",
       "6            NaN            155.0  \n",
       "7            NaN              NaN  \n",
       "8            NaN            189.0  \n",
       "9            NaN            289.0  \n",
       "\n",
       "[10 rows x 22 columns]"
      ]
     },
     "metadata": {},
     "output_type": "display_data"
    }
   ],
   "source": [
    "#заменим пропуски в столбце с жилой площадью и площадью кухни\n",
    "#для этого умножим значение общей площади на коэффициент отношения средних значений\n",
    "\n",
    "with warnings.catch_warnings():\n",
    "    warnings.simplefilter(\"ignore\", category=RuntimeWarning)\n",
    "    data['living_area'].fillna((data['living_area'].median() / data['total_area'].median()) * data['total_area'], inplace=True)\n",
    "    data['kitchen_area'].fillna((data['kitchen_area'].median() / data['total_area'].median()) * data['total_area'], inplace=True)\n",
    "\n",
    "#заменим значения высоты потолков на медианные значения по столбцу\n",
    "with warnings.catch_warnings():\n",
    "    warnings.simplefilter(\"ignore\", category=RuntimeWarning)\n",
    "    data['ceiling_height'] = data.groupby(['locality_name', 'floors_total'])['ceiling_height'].apply(lambda x: x.fillna(x.median()))\n",
    "    data['ceiling_height'].fillna(data['ceiling_height'].median(), inplace=True)\n",
    "    \n",
    "display(data.head(10)) #проверим\n",
    "#print(data.isna().sum()) \n",
    "\n"
   ]
  },
  {
   "cell_type": "markdown",
   "metadata": {},
   "source": [
    "### Удаление строк"
   ]
  },
  {
   "cell_type": "code",
   "execution_count": 9,
   "metadata": {
    "scrolled": false
   },
   "outputs": [
    {
     "data": {
      "text/html": [
       "<div>\n",
       "<style scoped>\n",
       "    .dataframe tbody tr th:only-of-type {\n",
       "        vertical-align: middle;\n",
       "    }\n",
       "\n",
       "    .dataframe tbody tr th {\n",
       "        vertical-align: top;\n",
       "    }\n",
       "\n",
       "    .dataframe thead th {\n",
       "        text-align: right;\n",
       "    }\n",
       "</style>\n",
       "<table border=\"1\" class=\"dataframe\">\n",
       "  <thead>\n",
       "    <tr style=\"text-align: right;\">\n",
       "      <th></th>\n",
       "      <th>total_images</th>\n",
       "      <th>last_price</th>\n",
       "      <th>total_area</th>\n",
       "      <th>first_day_exposition</th>\n",
       "      <th>rooms</th>\n",
       "      <th>ceiling_height</th>\n",
       "      <th>floors_total</th>\n",
       "      <th>living_area</th>\n",
       "      <th>floor</th>\n",
       "      <th>is_apartment</th>\n",
       "      <th>...</th>\n",
       "      <th>kitchen_area</th>\n",
       "      <th>balcony</th>\n",
       "      <th>locality_name</th>\n",
       "      <th>airports_nearest</th>\n",
       "      <th>cityCenters_nearest</th>\n",
       "      <th>parks_around3000</th>\n",
       "      <th>parks_nearest</th>\n",
       "      <th>ponds_around3000</th>\n",
       "      <th>ponds_nearest</th>\n",
       "      <th>days_exposition</th>\n",
       "    </tr>\n",
       "  </thead>\n",
       "  <tbody>\n",
       "    <tr>\n",
       "      <th>184</th>\n",
       "      <td>7</td>\n",
       "      <td>2600000.0</td>\n",
       "      <td>30.20</td>\n",
       "      <td>2018-02-14T00:00:00</td>\n",
       "      <td>1</td>\n",
       "      <td>2.65</td>\n",
       "      <td>9.0</td>\n",
       "      <td>26.10</td>\n",
       "      <td>5</td>\n",
       "      <td>False</td>\n",
       "      <td>...</td>\n",
       "      <td>6.20000</td>\n",
       "      <td>0.0</td>\n",
       "      <td>Санкт-Петербург</td>\n",
       "      <td>13952.0</td>\n",
       "      <td>15031.0</td>\n",
       "      <td>0.0</td>\n",
       "      <td>NaN</td>\n",
       "      <td>1.0</td>\n",
       "      <td>824.0</td>\n",
       "      <td>12.0</td>\n",
       "    </tr>\n",
       "    <tr>\n",
       "      <th>424</th>\n",
       "      <td>14</td>\n",
       "      <td>11500000.0</td>\n",
       "      <td>98.00</td>\n",
       "      <td>2016-05-10T00:00:00</td>\n",
       "      <td>3</td>\n",
       "      <td>2.65</td>\n",
       "      <td>3.0</td>\n",
       "      <td>88.00</td>\n",
       "      <td>3</td>\n",
       "      <td>False</td>\n",
       "      <td>...</td>\n",
       "      <td>17.15000</td>\n",
       "      <td>1.0</td>\n",
       "      <td>Санкт-Петербург</td>\n",
       "      <td>39363.0</td>\n",
       "      <td>13270.0</td>\n",
       "      <td>0.0</td>\n",
       "      <td>NaN</td>\n",
       "      <td>0.0</td>\n",
       "      <td>NaN</td>\n",
       "      <td>90.0</td>\n",
       "    </tr>\n",
       "    <tr>\n",
       "      <th>440</th>\n",
       "      <td>8</td>\n",
       "      <td>2480000.0</td>\n",
       "      <td>27.11</td>\n",
       "      <td>2018-03-12T00:00:00</td>\n",
       "      <td>0</td>\n",
       "      <td>2.70</td>\n",
       "      <td>17.0</td>\n",
       "      <td>24.75</td>\n",
       "      <td>4</td>\n",
       "      <td>False</td>\n",
       "      <td>...</td>\n",
       "      <td>4.74425</td>\n",
       "      <td>2.0</td>\n",
       "      <td>Санкт-Петербург</td>\n",
       "      <td>38171.0</td>\n",
       "      <td>15015.0</td>\n",
       "      <td>0.0</td>\n",
       "      <td>NaN</td>\n",
       "      <td>2.0</td>\n",
       "      <td>982.0</td>\n",
       "      <td>64.0</td>\n",
       "    </tr>\n",
       "    <tr>\n",
       "      <th>545</th>\n",
       "      <td>9</td>\n",
       "      <td>4700000.0</td>\n",
       "      <td>23.80</td>\n",
       "      <td>2018-12-28T00:00:00</td>\n",
       "      <td>1</td>\n",
       "      <td>2.70</td>\n",
       "      <td>18.0</td>\n",
       "      <td>20.00</td>\n",
       "      <td>9</td>\n",
       "      <td>False</td>\n",
       "      <td>...</td>\n",
       "      <td>5.00000</td>\n",
       "      <td>0.0</td>\n",
       "      <td>Санкт-Петербург</td>\n",
       "      <td>9731.0</td>\n",
       "      <td>11849.0</td>\n",
       "      <td>0.0</td>\n",
       "      <td>NaN</td>\n",
       "      <td>0.0</td>\n",
       "      <td>NaN</td>\n",
       "      <td>108.0</td>\n",
       "    </tr>\n",
       "    <tr>\n",
       "      <th>551</th>\n",
       "      <td>8</td>\n",
       "      <td>3100000.0</td>\n",
       "      <td>31.59</td>\n",
       "      <td>2018-03-08T00:00:00</td>\n",
       "      <td>1</td>\n",
       "      <td>2.70</td>\n",
       "      <td>19.0</td>\n",
       "      <td>30.55</td>\n",
       "      <td>2</td>\n",
       "      <td>False</td>\n",
       "      <td>...</td>\n",
       "      <td>9.28000</td>\n",
       "      <td>2.0</td>\n",
       "      <td>посёлок Мурино</td>\n",
       "      <td>NaN</td>\n",
       "      <td>NaN</td>\n",
       "      <td>0.0</td>\n",
       "      <td>NaN</td>\n",
       "      <td>0.0</td>\n",
       "      <td>NaN</td>\n",
       "      <td>70.0</td>\n",
       "    </tr>\n",
       "    <tr>\n",
       "      <th>601</th>\n",
       "      <td>12</td>\n",
       "      <td>5600000.0</td>\n",
       "      <td>53.70</td>\n",
       "      <td>2017-04-18T00:00:00</td>\n",
       "      <td>2</td>\n",
       "      <td>2.50</td>\n",
       "      <td>12.0</td>\n",
       "      <td>48.30</td>\n",
       "      <td>5</td>\n",
       "      <td>False</td>\n",
       "      <td>...</td>\n",
       "      <td>7.00000</td>\n",
       "      <td>2.0</td>\n",
       "      <td>Санкт-Петербург</td>\n",
       "      <td>50477.0</td>\n",
       "      <td>13252.0</td>\n",
       "      <td>2.0</td>\n",
       "      <td>220.0</td>\n",
       "      <td>1.0</td>\n",
       "      <td>1250.0</td>\n",
       "      <td>167.0</td>\n",
       "    </tr>\n",
       "    <tr>\n",
       "      <th>696</th>\n",
       "      <td>1</td>\n",
       "      <td>3364930.0</td>\n",
       "      <td>34.69</td>\n",
       "      <td>2014-11-27T00:00:00</td>\n",
       "      <td>1</td>\n",
       "      <td>2.64</td>\n",
       "      <td>25.0</td>\n",
       "      <td>23.43</td>\n",
       "      <td>25</td>\n",
       "      <td>False</td>\n",
       "      <td>...</td>\n",
       "      <td>23.43000</td>\n",
       "      <td>2.0</td>\n",
       "      <td>Санкт-Петербург</td>\n",
       "      <td>43396.0</td>\n",
       "      <td>12153.0</td>\n",
       "      <td>0.0</td>\n",
       "      <td>NaN</td>\n",
       "      <td>0.0</td>\n",
       "      <td>NaN</td>\n",
       "      <td>574.0</td>\n",
       "    </tr>\n",
       "    <tr>\n",
       "      <th>1060</th>\n",
       "      <td>10</td>\n",
       "      <td>5200000.0</td>\n",
       "      <td>50.00</td>\n",
       "      <td>2015-11-06T00:00:00</td>\n",
       "      <td>2</td>\n",
       "      <td>2.70</td>\n",
       "      <td>35.0</td>\n",
       "      <td>39.00</td>\n",
       "      <td>15</td>\n",
       "      <td>False</td>\n",
       "      <td>...</td>\n",
       "      <td>20.50000</td>\n",
       "      <td>2.0</td>\n",
       "      <td>Санкт-Петербург</td>\n",
       "      <td>18732.0</td>\n",
       "      <td>20444.0</td>\n",
       "      <td>0.0</td>\n",
       "      <td>NaN</td>\n",
       "      <td>3.0</td>\n",
       "      <td>80.0</td>\n",
       "      <td>281.0</td>\n",
       "    </tr>\n",
       "    <tr>\n",
       "      <th>1155</th>\n",
       "      <td>11</td>\n",
       "      <td>7000000.0</td>\n",
       "      <td>38.00</td>\n",
       "      <td>2019-04-09T00:00:00</td>\n",
       "      <td>1</td>\n",
       "      <td>3.20</td>\n",
       "      <td>5.0</td>\n",
       "      <td>33.00</td>\n",
       "      <td>1</td>\n",
       "      <td>False</td>\n",
       "      <td>...</td>\n",
       "      <td>12.00000</td>\n",
       "      <td>0.0</td>\n",
       "      <td>Санкт-Петербург</td>\n",
       "      <td>31501.0</td>\n",
       "      <td>3670.0</td>\n",
       "      <td>1.0</td>\n",
       "      <td>183.0</td>\n",
       "      <td>3.0</td>\n",
       "      <td>689.0</td>\n",
       "      <td>NaN</td>\n",
       "    </tr>\n",
       "    <tr>\n",
       "      <th>1354</th>\n",
       "      <td>14</td>\n",
       "      <td>7300000.0</td>\n",
       "      <td>54.50</td>\n",
       "      <td>2018-08-20T00:00:00</td>\n",
       "      <td>2</td>\n",
       "      <td>2.70</td>\n",
       "      <td>16.0</td>\n",
       "      <td>38.00</td>\n",
       "      <td>12</td>\n",
       "      <td>False</td>\n",
       "      <td>...</td>\n",
       "      <td>19.00000</td>\n",
       "      <td>2.0</td>\n",
       "      <td>Санкт-Петербург</td>\n",
       "      <td>51030.0</td>\n",
       "      <td>14721.0</td>\n",
       "      <td>0.0</td>\n",
       "      <td>NaN</td>\n",
       "      <td>0.0</td>\n",
       "      <td>NaN</td>\n",
       "      <td>NaN</td>\n",
       "    </tr>\n",
       "  </tbody>\n",
       "</table>\n",
       "<p>10 rows × 22 columns</p>\n",
       "</div>"
      ],
      "text/plain": [
       "      total_images  last_price  total_area first_day_exposition  rooms  \\\n",
       "184              7   2600000.0       30.20  2018-02-14T00:00:00      1   \n",
       "424             14  11500000.0       98.00  2016-05-10T00:00:00      3   \n",
       "440              8   2480000.0       27.11  2018-03-12T00:00:00      0   \n",
       "545              9   4700000.0       23.80  2018-12-28T00:00:00      1   \n",
       "551              8   3100000.0       31.59  2018-03-08T00:00:00      1   \n",
       "601             12   5600000.0       53.70  2017-04-18T00:00:00      2   \n",
       "696              1   3364930.0       34.69  2014-11-27T00:00:00      1   \n",
       "1060            10   5200000.0       50.00  2015-11-06T00:00:00      2   \n",
       "1155            11   7000000.0       38.00  2019-04-09T00:00:00      1   \n",
       "1354            14   7300000.0       54.50  2018-08-20T00:00:00      2   \n",
       "\n",
       "      ceiling_height  floors_total  living_area  floor  is_apartment  ...  \\\n",
       "184             2.65           9.0        26.10      5         False  ...   \n",
       "424             2.65           3.0        88.00      3         False  ...   \n",
       "440             2.70          17.0        24.75      4         False  ...   \n",
       "545             2.70          18.0        20.00      9         False  ...   \n",
       "551             2.70          19.0        30.55      2         False  ...   \n",
       "601             2.50          12.0        48.30      5         False  ...   \n",
       "696             2.64          25.0        23.43     25         False  ...   \n",
       "1060            2.70          35.0        39.00     15         False  ...   \n",
       "1155            3.20           5.0        33.00      1         False  ...   \n",
       "1354            2.70          16.0        38.00     12         False  ...   \n",
       "\n",
       "      kitchen_area  balcony    locality_name  airports_nearest  \\\n",
       "184        6.20000      0.0  Санкт-Петербург           13952.0   \n",
       "424       17.15000      1.0  Санкт-Петербург           39363.0   \n",
       "440        4.74425      2.0  Санкт-Петербург           38171.0   \n",
       "545        5.00000      0.0  Санкт-Петербург            9731.0   \n",
       "551        9.28000      2.0   посёлок Мурино               NaN   \n",
       "601        7.00000      2.0  Санкт-Петербург           50477.0   \n",
       "696       23.43000      2.0  Санкт-Петербург           43396.0   \n",
       "1060      20.50000      2.0  Санкт-Петербург           18732.0   \n",
       "1155      12.00000      0.0  Санкт-Петербург           31501.0   \n",
       "1354      19.00000      2.0  Санкт-Петербург           51030.0   \n",
       "\n",
       "     cityCenters_nearest  parks_around3000  parks_nearest  ponds_around3000  \\\n",
       "184              15031.0               0.0            NaN               1.0   \n",
       "424              13270.0               0.0            NaN               0.0   \n",
       "440              15015.0               0.0            NaN               2.0   \n",
       "545              11849.0               0.0            NaN               0.0   \n",
       "551                  NaN               0.0            NaN               0.0   \n",
       "601              13252.0               2.0          220.0               1.0   \n",
       "696              12153.0               0.0            NaN               0.0   \n",
       "1060             20444.0               0.0            NaN               3.0   \n",
       "1155              3670.0               1.0          183.0               3.0   \n",
       "1354             14721.0               0.0            NaN               0.0   \n",
       "\n",
       "      ponds_nearest  days_exposition  \n",
       "184           824.0             12.0  \n",
       "424             NaN             90.0  \n",
       "440           982.0             64.0  \n",
       "545             NaN            108.0  \n",
       "551             NaN             70.0  \n",
       "601          1250.0            167.0  \n",
       "696             NaN            574.0  \n",
       "1060           80.0            281.0  \n",
       "1155          689.0              NaN  \n",
       "1354            NaN              NaN  \n",
       "\n",
       "[10 rows x 22 columns]"
      ]
     },
     "metadata": {},
     "output_type": "display_data"
    },
    {
     "name": "stdout",
     "output_type": "stream",
     "text": [
      "Сумма жилой и кухонной площади превышает общую площадь в 121 случае\n"
     ]
    }
   ],
   "source": [
    "# после заполнения пропусков в столбцах с жилой и кухонной площядями проверим, \n",
    "# не превышают ли эти столбцы в сумме площадь квартир:\n",
    "\n",
    "display(data[(data['living_area'] + data['kitchen_area']) > data['total_area']].head(10))\n",
    "print('Сумма жилой и кухонной площади превышает общую площадь в', \n",
    "      len(data[(data['living_area'] + data['kitchen_area']) > data['total_area']]['total_area']),\n",
    "     'случае')"
   ]
  },
  {
   "cell_type": "code",
   "execution_count": 10,
   "metadata": {},
   "outputs": [
    {
     "name": "stdout",
     "output_type": "stream",
     "text": [
      "Сумма жилой и кухонной площади превышает общую площадь в 0 случаев\n"
     ]
    }
   ],
   "source": [
    "#удалим эти значения из датасета и проверим\n",
    "\n",
    "data = data[(data['living_area'] + data['kitchen_area']) < data['total_area']]\n",
    "print('Сумма жилой и кухонной площади превышает общую площадь в', \n",
    "      len(data[(data['living_area'] + data['kitchen_area']) > data['total_area']]['total_area']),\n",
    "     'случаев')"
   ]
  },
  {
   "cell_type": "code",
   "execution_count": 11,
   "metadata": {},
   "outputs": [
    {
     "name": "stdout",
     "output_type": "stream",
     "text": [
      "Количество пропусков в столбце с названиями городов: 0\n",
      "Количество пропусков в столбце с общей этажностью: 0\n"
     ]
    }
   ],
   "source": [
    "#удалим строки, где не указано название города и этажность здания, их количество (86+49) позволяет пренебречь этими данными\n",
    "\n",
    "data.dropna(subset=['locality_name'], inplace=True)\n",
    "data.dropna(subset=['floors_total'], inplace=True)\n",
    "\n",
    "print('Количество пропусков в столбце с названиями городов:', data['locality_name'].isna().sum())\n",
    "print('Количество пропусков в столбце с общей этажностью:', data['floors_total'].isna().sum())\n",
    "#print(data.isna().sum()) \n"
   ]
  },
  {
   "cell_type": "code",
   "execution_count": 12,
   "metadata": {},
   "outputs": [
    {
     "name": "stdout",
     "output_type": "stream",
     "text": [
      "total_images                0\n",
      "last_price                  0\n",
      "total_area                  0\n",
      "first_day_exposition        0\n",
      "rooms                       0\n",
      "ceiling_height              0\n",
      "floors_total                0\n",
      "living_area                 0\n",
      "floor                       0\n",
      "is_apartment                0\n",
      "studio                      0\n",
      "open_plan                   0\n",
      "kitchen_area                0\n",
      "balcony                     0\n",
      "locality_name               0\n",
      "airports_nearest         5460\n",
      "cityCenters_nearest      5437\n",
      "parks_around3000            0\n",
      "parks_nearest           15403\n",
      "ponds_around3000            0\n",
      "ponds_nearest           14397\n",
      "days_exposition             0\n",
      "dtype: int64\n"
     ]
    }
   ],
   "source": [
    "# присвоим пропускам в сроке продажи значение для удобной фильтрации на следующих шагах\n",
    "# будем их отбрасывать при расчетах, т.к. нет возможности корректно их заполнить\n",
    "\n",
    "data['days_exposition'].fillna(9999, inplace=True)\n",
    "\n",
    "print(data.isna().sum()) #финально проверим удаление пропусков в интересующих нас столбцах\n"
   ]
  },
  {
   "cell_type": "code",
   "execution_count": 13,
   "metadata": {},
   "outputs": [
    {
     "name": "stdout",
     "output_type": "stream",
     "text": [
      "<class 'pandas.core.frame.DataFrame'>\n",
      "Int64Index: 23374 entries, 0 to 23698\n",
      "Data columns (total 22 columns):\n",
      " #   Column                Non-Null Count  Dtype         \n",
      "---  ------                --------------  -----         \n",
      " 0   total_images          23374 non-null  int64         \n",
      " 1   last_price            23374 non-null  int64         \n",
      " 2   total_area            23374 non-null  float64       \n",
      " 3   first_day_exposition  23374 non-null  datetime64[ns]\n",
      " 4   rooms                 23374 non-null  int64         \n",
      " 5   ceiling_height        23374 non-null  float64       \n",
      " 6   floors_total          23374 non-null  int64         \n",
      " 7   living_area           23374 non-null  float64       \n",
      " 8   floor                 23374 non-null  int64         \n",
      " 9   is_apartment          23374 non-null  bool          \n",
      " 10  studio                23374 non-null  bool          \n",
      " 11  open_plan             23374 non-null  bool          \n",
      " 12  kitchen_area          23374 non-null  float64       \n",
      " 13  balcony               23374 non-null  int64         \n",
      " 14  locality_name         23374 non-null  object        \n",
      " 15  airports_nearest      17914 non-null  float64       \n",
      " 16  cityCenters_nearest   17937 non-null  float64       \n",
      " 17  parks_around3000      23374 non-null  int64         \n",
      " 18  parks_nearest         7971 non-null   float64       \n",
      " 19  ponds_around3000      23374 non-null  int64         \n",
      " 20  ponds_nearest         8977 non-null   float64       \n",
      " 21  days_exposition       23374 non-null  int64         \n",
      "dtypes: bool(3), datetime64[ns](1), float64(8), int64(9), object(1)\n",
      "memory usage: 3.6+ MB\n"
     ]
    }
   ],
   "source": [
    "#переведем данные в необходимый для корректных расчетов тип\n",
    "\n",
    "data['last_price'] = data['last_price'].round() \n",
    "data['last_price'] = data['last_price'].astype('int')  #в расчетах удобнее использовать целочисленный тип\n",
    "data['first_day_exposition'] = pd.to_datetime(data['first_day_exposition'], format = '%Y-%m-%d') #переведем в формат даты без указания времени\n",
    "data['floors_total'] = data['floors_total'].astype('int') #это всегда целое число\n",
    "data['balcony'] = data['balcony'].astype('int') #это всегда целое число\n",
    "data['days_exposition'] = data['days_exposition'].round()\n",
    "data['days_exposition'] = data['days_exposition'].astype('int') #это всегда целое число\n",
    "data['parks_around3000'] = data['parks_around3000'].astype('int') #это всегда целое число\n",
    "data['ponds_around3000'] = data['ponds_around3000'].astype('int') #это всегда целое число\n",
    "data.info()"
   ]
  },
  {
   "cell_type": "code",
   "execution_count": 14,
   "metadata": {},
   "outputs": [
    {
     "data": {
      "text/html": [
       "<div>\n",
       "<style scoped>\n",
       "    .dataframe tbody tr th:only-of-type {\n",
       "        vertical-align: middle;\n",
       "    }\n",
       "\n",
       "    .dataframe tbody tr th {\n",
       "        vertical-align: top;\n",
       "    }\n",
       "\n",
       "    .dataframe thead th {\n",
       "        text-align: right;\n",
       "    }\n",
       "</style>\n",
       "<table border=\"1\" class=\"dataframe\">\n",
       "  <thead>\n",
       "    <tr style=\"text-align: right;\">\n",
       "      <th></th>\n",
       "      <th>total_images</th>\n",
       "      <th>last_price</th>\n",
       "      <th>total_area</th>\n",
       "      <th>first_day_exposition</th>\n",
       "      <th>rooms</th>\n",
       "      <th>ceiling_height</th>\n",
       "      <th>floors_total</th>\n",
       "      <th>living_area</th>\n",
       "      <th>floor</th>\n",
       "      <th>is_apartment</th>\n",
       "      <th>...</th>\n",
       "      <th>kitchen_area</th>\n",
       "      <th>balcony</th>\n",
       "      <th>locality_name</th>\n",
       "      <th>airports_nearest</th>\n",
       "      <th>cityCenters_nearest</th>\n",
       "      <th>parks_around3000</th>\n",
       "      <th>parks_nearest</th>\n",
       "      <th>ponds_around3000</th>\n",
       "      <th>ponds_nearest</th>\n",
       "      <th>days_exposition</th>\n",
       "    </tr>\n",
       "  </thead>\n",
       "  <tbody>\n",
       "    <tr>\n",
       "      <th>0</th>\n",
       "      <td>20</td>\n",
       "      <td>13000000</td>\n",
       "      <td>108.00</td>\n",
       "      <td>2019-03-07</td>\n",
       "      <td>3</td>\n",
       "      <td>2.700</td>\n",
       "      <td>16</td>\n",
       "      <td>51.000000</td>\n",
       "      <td>8</td>\n",
       "      <td>False</td>\n",
       "      <td>...</td>\n",
       "      <td>25.000</td>\n",
       "      <td>0</td>\n",
       "      <td>Санкт-Петербург</td>\n",
       "      <td>18863.0</td>\n",
       "      <td>16028.0</td>\n",
       "      <td>1</td>\n",
       "      <td>482.0</td>\n",
       "      <td>2</td>\n",
       "      <td>755.0</td>\n",
       "      <td>9999</td>\n",
       "    </tr>\n",
       "    <tr>\n",
       "      <th>1</th>\n",
       "      <td>7</td>\n",
       "      <td>3350000</td>\n",
       "      <td>40.40</td>\n",
       "      <td>2018-12-04</td>\n",
       "      <td>1</td>\n",
       "      <td>2.650</td>\n",
       "      <td>11</td>\n",
       "      <td>18.600000</td>\n",
       "      <td>1</td>\n",
       "      <td>False</td>\n",
       "      <td>...</td>\n",
       "      <td>11.000</td>\n",
       "      <td>2</td>\n",
       "      <td>посёлок Шушары</td>\n",
       "      <td>12817.0</td>\n",
       "      <td>18603.0</td>\n",
       "      <td>0</td>\n",
       "      <td>NaN</td>\n",
       "      <td>0</td>\n",
       "      <td>NaN</td>\n",
       "      <td>81</td>\n",
       "    </tr>\n",
       "    <tr>\n",
       "      <th>2</th>\n",
       "      <td>10</td>\n",
       "      <td>5196000</td>\n",
       "      <td>56.00</td>\n",
       "      <td>2015-08-20</td>\n",
       "      <td>2</td>\n",
       "      <td>2.600</td>\n",
       "      <td>5</td>\n",
       "      <td>34.300000</td>\n",
       "      <td>4</td>\n",
       "      <td>False</td>\n",
       "      <td>...</td>\n",
       "      <td>8.300</td>\n",
       "      <td>0</td>\n",
       "      <td>Санкт-Петербург</td>\n",
       "      <td>21741.0</td>\n",
       "      <td>13933.0</td>\n",
       "      <td>1</td>\n",
       "      <td>90.0</td>\n",
       "      <td>2</td>\n",
       "      <td>574.0</td>\n",
       "      <td>558</td>\n",
       "    </tr>\n",
       "    <tr>\n",
       "      <th>3</th>\n",
       "      <td>0</td>\n",
       "      <td>64900000</td>\n",
       "      <td>159.00</td>\n",
       "      <td>2015-07-24</td>\n",
       "      <td>3</td>\n",
       "      <td>2.600</td>\n",
       "      <td>14</td>\n",
       "      <td>91.730769</td>\n",
       "      <td>9</td>\n",
       "      <td>False</td>\n",
       "      <td>...</td>\n",
       "      <td>27.825</td>\n",
       "      <td>0</td>\n",
       "      <td>Санкт-Петербург</td>\n",
       "      <td>28098.0</td>\n",
       "      <td>6800.0</td>\n",
       "      <td>2</td>\n",
       "      <td>84.0</td>\n",
       "      <td>3</td>\n",
       "      <td>234.0</td>\n",
       "      <td>424</td>\n",
       "    </tr>\n",
       "    <tr>\n",
       "      <th>4</th>\n",
       "      <td>2</td>\n",
       "      <td>10000000</td>\n",
       "      <td>100.00</td>\n",
       "      <td>2018-06-19</td>\n",
       "      <td>2</td>\n",
       "      <td>3.030</td>\n",
       "      <td>14</td>\n",
       "      <td>32.000000</td>\n",
       "      <td>13</td>\n",
       "      <td>False</td>\n",
       "      <td>...</td>\n",
       "      <td>41.000</td>\n",
       "      <td>0</td>\n",
       "      <td>Санкт-Петербург</td>\n",
       "      <td>31856.0</td>\n",
       "      <td>8098.0</td>\n",
       "      <td>2</td>\n",
       "      <td>112.0</td>\n",
       "      <td>1</td>\n",
       "      <td>48.0</td>\n",
       "      <td>121</td>\n",
       "    </tr>\n",
       "    <tr>\n",
       "      <th>5</th>\n",
       "      <td>10</td>\n",
       "      <td>2890000</td>\n",
       "      <td>30.40</td>\n",
       "      <td>2018-09-10</td>\n",
       "      <td>1</td>\n",
       "      <td>2.625</td>\n",
       "      <td>12</td>\n",
       "      <td>14.400000</td>\n",
       "      <td>5</td>\n",
       "      <td>False</td>\n",
       "      <td>...</td>\n",
       "      <td>9.100</td>\n",
       "      <td>0</td>\n",
       "      <td>городской посёлок Янино-1</td>\n",
       "      <td>NaN</td>\n",
       "      <td>NaN</td>\n",
       "      <td>0</td>\n",
       "      <td>NaN</td>\n",
       "      <td>0</td>\n",
       "      <td>NaN</td>\n",
       "      <td>55</td>\n",
       "    </tr>\n",
       "    <tr>\n",
       "      <th>6</th>\n",
       "      <td>6</td>\n",
       "      <td>3700000</td>\n",
       "      <td>37.30</td>\n",
       "      <td>2017-11-02</td>\n",
       "      <td>1</td>\n",
       "      <td>2.600</td>\n",
       "      <td>26</td>\n",
       "      <td>10.600000</td>\n",
       "      <td>6</td>\n",
       "      <td>False</td>\n",
       "      <td>...</td>\n",
       "      <td>14.400</td>\n",
       "      <td>1</td>\n",
       "      <td>посёлок Парголово</td>\n",
       "      <td>52996.0</td>\n",
       "      <td>19143.0</td>\n",
       "      <td>0</td>\n",
       "      <td>NaN</td>\n",
       "      <td>0</td>\n",
       "      <td>NaN</td>\n",
       "      <td>155</td>\n",
       "    </tr>\n",
       "    <tr>\n",
       "      <th>7</th>\n",
       "      <td>5</td>\n",
       "      <td>7915000</td>\n",
       "      <td>71.60</td>\n",
       "      <td>2019-04-18</td>\n",
       "      <td>2</td>\n",
       "      <td>2.750</td>\n",
       "      <td>24</td>\n",
       "      <td>41.307692</td>\n",
       "      <td>22</td>\n",
       "      <td>False</td>\n",
       "      <td>...</td>\n",
       "      <td>18.900</td>\n",
       "      <td>2</td>\n",
       "      <td>Санкт-Петербург</td>\n",
       "      <td>23982.0</td>\n",
       "      <td>11634.0</td>\n",
       "      <td>0</td>\n",
       "      <td>NaN</td>\n",
       "      <td>0</td>\n",
       "      <td>NaN</td>\n",
       "      <td>9999</td>\n",
       "    </tr>\n",
       "    <tr>\n",
       "      <th>8</th>\n",
       "      <td>20</td>\n",
       "      <td>2900000</td>\n",
       "      <td>33.16</td>\n",
       "      <td>2018-05-23</td>\n",
       "      <td>1</td>\n",
       "      <td>2.650</td>\n",
       "      <td>27</td>\n",
       "      <td>15.430000</td>\n",
       "      <td>26</td>\n",
       "      <td>False</td>\n",
       "      <td>...</td>\n",
       "      <td>8.810</td>\n",
       "      <td>0</td>\n",
       "      <td>посёлок Мурино</td>\n",
       "      <td>NaN</td>\n",
       "      <td>NaN</td>\n",
       "      <td>0</td>\n",
       "      <td>NaN</td>\n",
       "      <td>0</td>\n",
       "      <td>NaN</td>\n",
       "      <td>189</td>\n",
       "    </tr>\n",
       "    <tr>\n",
       "      <th>9</th>\n",
       "      <td>18</td>\n",
       "      <td>5400000</td>\n",
       "      <td>61.00</td>\n",
       "      <td>2017-02-26</td>\n",
       "      <td>3</td>\n",
       "      <td>2.500</td>\n",
       "      <td>9</td>\n",
       "      <td>43.600000</td>\n",
       "      <td>7</td>\n",
       "      <td>False</td>\n",
       "      <td>...</td>\n",
       "      <td>6.500</td>\n",
       "      <td>2</td>\n",
       "      <td>Санкт-Петербург</td>\n",
       "      <td>50898.0</td>\n",
       "      <td>15008.0</td>\n",
       "      <td>0</td>\n",
       "      <td>NaN</td>\n",
       "      <td>0</td>\n",
       "      <td>NaN</td>\n",
       "      <td>289</td>\n",
       "    </tr>\n",
       "  </tbody>\n",
       "</table>\n",
       "<p>10 rows × 22 columns</p>\n",
       "</div>"
      ],
      "text/plain": [
       "   total_images  last_price  total_area first_day_exposition  rooms  \\\n",
       "0            20    13000000      108.00           2019-03-07      3   \n",
       "1             7     3350000       40.40           2018-12-04      1   \n",
       "2            10     5196000       56.00           2015-08-20      2   \n",
       "3             0    64900000      159.00           2015-07-24      3   \n",
       "4             2    10000000      100.00           2018-06-19      2   \n",
       "5            10     2890000       30.40           2018-09-10      1   \n",
       "6             6     3700000       37.30           2017-11-02      1   \n",
       "7             5     7915000       71.60           2019-04-18      2   \n",
       "8            20     2900000       33.16           2018-05-23      1   \n",
       "9            18     5400000       61.00           2017-02-26      3   \n",
       "\n",
       "   ceiling_height  floors_total  living_area  floor  is_apartment  ...  \\\n",
       "0           2.700            16    51.000000      8         False  ...   \n",
       "1           2.650            11    18.600000      1         False  ...   \n",
       "2           2.600             5    34.300000      4         False  ...   \n",
       "3           2.600            14    91.730769      9         False  ...   \n",
       "4           3.030            14    32.000000     13         False  ...   \n",
       "5           2.625            12    14.400000      5         False  ...   \n",
       "6           2.600            26    10.600000      6         False  ...   \n",
       "7           2.750            24    41.307692     22         False  ...   \n",
       "8           2.650            27    15.430000     26         False  ...   \n",
       "9           2.500             9    43.600000      7         False  ...   \n",
       "\n",
       "   kitchen_area  balcony              locality_name  airports_nearest  \\\n",
       "0        25.000        0            Санкт-Петербург           18863.0   \n",
       "1        11.000        2             посёлок Шушары           12817.0   \n",
       "2         8.300        0            Санкт-Петербург           21741.0   \n",
       "3        27.825        0            Санкт-Петербург           28098.0   \n",
       "4        41.000        0            Санкт-Петербург           31856.0   \n",
       "5         9.100        0  городской посёлок Янино-1               NaN   \n",
       "6        14.400        1          посёлок Парголово           52996.0   \n",
       "7        18.900        2            Санкт-Петербург           23982.0   \n",
       "8         8.810        0             посёлок Мурино               NaN   \n",
       "9         6.500        2            Санкт-Петербург           50898.0   \n",
       "\n",
       "  cityCenters_nearest  parks_around3000  parks_nearest  ponds_around3000  \\\n",
       "0             16028.0                 1          482.0                 2   \n",
       "1             18603.0                 0            NaN                 0   \n",
       "2             13933.0                 1           90.0                 2   \n",
       "3              6800.0                 2           84.0                 3   \n",
       "4              8098.0                 2          112.0                 1   \n",
       "5                 NaN                 0            NaN                 0   \n",
       "6             19143.0                 0            NaN                 0   \n",
       "7             11634.0                 0            NaN                 0   \n",
       "8                 NaN                 0            NaN                 0   \n",
       "9             15008.0                 0            NaN                 0   \n",
       "\n",
       "   ponds_nearest  days_exposition  \n",
       "0          755.0             9999  \n",
       "1            NaN               81  \n",
       "2          574.0              558  \n",
       "3          234.0              424  \n",
       "4           48.0              121  \n",
       "5            NaN               55  \n",
       "6            NaN              155  \n",
       "7            NaN             9999  \n",
       "8            NaN              189  \n",
       "9            NaN              289  \n",
       "\n",
       "[10 rows x 22 columns]"
      ]
     },
     "execution_count": 14,
     "metadata": {},
     "output_type": "execute_result"
    }
   ],
   "source": [
    "data.head(10) #проверим"
   ]
  },
  {
   "cell_type": "markdown",
   "metadata": {},
   "source": [
    "Промежуточный вывод:\n",
    "\n",
    "Мы очистили датасет от пропущенных значений и заполнили их в соответствии с предположениями.\n",
    "\n",
    "Заменили типы данных в стобцах на необходимые для расчетов.\n",
    "\n",
    "Удалили строки, пропущенные значения в которых нельзя заменить корректно и удаление которых не изменит картину данных в датасете."
   ]
  },
  {
   "cell_type": "markdown",
   "metadata": {},
   "source": [
    "## Расчёты и добавление результатов в таблицу"
   ]
  },
  {
   "cell_type": "markdown",
   "metadata": {},
   "source": [
    "### Добавление новых столбцов с рассчитанными значениями"
   ]
  },
  {
   "cell_type": "markdown",
   "metadata": {},
   "source": [
    "-посчитано и добавлено в таблицу: цена квадратного метра"
   ]
  },
  {
   "cell_type": "code",
   "execution_count": 15,
   "metadata": {},
   "outputs": [],
   "source": [
    "#посчитаем цену квадратного метра\n",
    "data['square_meter_price'] = data['last_price'] / data['total_area']\n",
    "data['square_meter_price'] = data['square_meter_price'].astype(int) # и тут же поменяем его тип на целочисленный"
   ]
  },
  {
   "cell_type": "markdown",
   "metadata": {},
   "source": [
    "-посчитано и добавлено в таблицу: день недели, месяц и год публикации объявления"
   ]
  },
  {
   "cell_type": "code",
   "execution_count": 16,
   "metadata": {},
   "outputs": [],
   "source": [
    "#создадим столбец дня недели\n",
    "data['weekday_exposition'] = data['first_day_exposition'].dt.weekday\n",
    "\n",
    "#столбец месяца\n",
    "data['month_exposition'] = data['first_day_exposition'].dt.month\n",
    "\n",
    "#столбец года\n",
    "data['year_exposition'] = data['first_day_exposition'].dt.year"
   ]
  },
  {
   "cell_type": "markdown",
   "metadata": {},
   "source": [
    "-посчитано и добавлено в таблицу: этаж квартиры; варианты — первый, последний, другой"
   ]
  },
  {
   "cell_type": "code",
   "execution_count": 17,
   "metadata": {},
   "outputs": [],
   "source": [
    "#напишем функцию распределения по этажам\n",
    "def floor_name(row):\n",
    "    try:\n",
    "        floors_total = row['floors_total']\n",
    "        floor = row['floor']\n",
    "        if floor == 1:\n",
    "            return 'первый'\n",
    "        elif floor == floors_total:\n",
    "            return 'последний'\n",
    "        elif 1 < floor < floors_total:\n",
    "            return 'другой'\n",
    "    except:\n",
    "        return 'другой'\n",
    "        \n",
    "    \n",
    "#категоризуем этажи с помощью функции  \n",
    "data['floor_category'] = data.apply(floor_name, axis = 1)\n"
   ]
  },
  {
   "cell_type": "markdown",
   "metadata": {},
   "source": [
    "-посчитано и добавлено в таблицу: соотношение жилой и общей площади, а также отношение площади кухни к общей"
   ]
  },
  {
   "cell_type": "code",
   "execution_count": 18,
   "metadata": {},
   "outputs": [
    {
     "data": {
      "text/html": [
       "<div>\n",
       "<style scoped>\n",
       "    .dataframe tbody tr th:only-of-type {\n",
       "        vertical-align: middle;\n",
       "    }\n",
       "\n",
       "    .dataframe tbody tr th {\n",
       "        vertical-align: top;\n",
       "    }\n",
       "\n",
       "    .dataframe thead th {\n",
       "        text-align: right;\n",
       "    }\n",
       "</style>\n",
       "<table border=\"1\" class=\"dataframe\">\n",
       "  <thead>\n",
       "    <tr style=\"text-align: right;\">\n",
       "      <th></th>\n",
       "      <th>total_images</th>\n",
       "      <th>last_price</th>\n",
       "      <th>total_area</th>\n",
       "      <th>first_day_exposition</th>\n",
       "      <th>rooms</th>\n",
       "      <th>ceiling_height</th>\n",
       "      <th>floors_total</th>\n",
       "      <th>living_area</th>\n",
       "      <th>floor</th>\n",
       "      <th>is_apartment</th>\n",
       "      <th>studio</th>\n",
       "      <th>open_plan</th>\n",
       "      <th>kitchen_area</th>\n",
       "      <th>balcony</th>\n",
       "      <th>locality_name</th>\n",
       "      <th>airports_nearest</th>\n",
       "      <th>cityCenters_nearest</th>\n",
       "      <th>parks_around3000</th>\n",
       "      <th>parks_nearest</th>\n",
       "      <th>ponds_around3000</th>\n",
       "      <th>ponds_nearest</th>\n",
       "      <th>days_exposition</th>\n",
       "      <th>square_meter_price</th>\n",
       "      <th>weekday_exposition</th>\n",
       "      <th>month_exposition</th>\n",
       "      <th>year_exposition</th>\n",
       "      <th>floor_category</th>\n",
       "      <th>living_to_total</th>\n",
       "      <th>kitchen_to_total</th>\n",
       "    </tr>\n",
       "  </thead>\n",
       "  <tbody>\n",
       "    <tr>\n",
       "      <th>0</th>\n",
       "      <td>20</td>\n",
       "      <td>13000000</td>\n",
       "      <td>108.00</td>\n",
       "      <td>2019-03-07</td>\n",
       "      <td>3</td>\n",
       "      <td>2.700</td>\n",
       "      <td>16</td>\n",
       "      <td>51.000000</td>\n",
       "      <td>8</td>\n",
       "      <td>False</td>\n",
       "      <td>False</td>\n",
       "      <td>False</td>\n",
       "      <td>25.000</td>\n",
       "      <td>0</td>\n",
       "      <td>Санкт-Петербург</td>\n",
       "      <td>18863.0</td>\n",
       "      <td>16028.0</td>\n",
       "      <td>1</td>\n",
       "      <td>482.0</td>\n",
       "      <td>2</td>\n",
       "      <td>755.0</td>\n",
       "      <td>9999</td>\n",
       "      <td>120370</td>\n",
       "      <td>3</td>\n",
       "      <td>3</td>\n",
       "      <td>2019</td>\n",
       "      <td>другой</td>\n",
       "      <td>0.472222</td>\n",
       "      <td>0.231481</td>\n",
       "    </tr>\n",
       "    <tr>\n",
       "      <th>1</th>\n",
       "      <td>7</td>\n",
       "      <td>3350000</td>\n",
       "      <td>40.40</td>\n",
       "      <td>2018-12-04</td>\n",
       "      <td>1</td>\n",
       "      <td>2.650</td>\n",
       "      <td>11</td>\n",
       "      <td>18.600000</td>\n",
       "      <td>1</td>\n",
       "      <td>False</td>\n",
       "      <td>False</td>\n",
       "      <td>False</td>\n",
       "      <td>11.000</td>\n",
       "      <td>2</td>\n",
       "      <td>посёлок Шушары</td>\n",
       "      <td>12817.0</td>\n",
       "      <td>18603.0</td>\n",
       "      <td>0</td>\n",
       "      <td>NaN</td>\n",
       "      <td>0</td>\n",
       "      <td>NaN</td>\n",
       "      <td>81</td>\n",
       "      <td>82920</td>\n",
       "      <td>1</td>\n",
       "      <td>12</td>\n",
       "      <td>2018</td>\n",
       "      <td>первый</td>\n",
       "      <td>0.460396</td>\n",
       "      <td>0.272277</td>\n",
       "    </tr>\n",
       "    <tr>\n",
       "      <th>2</th>\n",
       "      <td>10</td>\n",
       "      <td>5196000</td>\n",
       "      <td>56.00</td>\n",
       "      <td>2015-08-20</td>\n",
       "      <td>2</td>\n",
       "      <td>2.600</td>\n",
       "      <td>5</td>\n",
       "      <td>34.300000</td>\n",
       "      <td>4</td>\n",
       "      <td>False</td>\n",
       "      <td>False</td>\n",
       "      <td>False</td>\n",
       "      <td>8.300</td>\n",
       "      <td>0</td>\n",
       "      <td>Санкт-Петербург</td>\n",
       "      <td>21741.0</td>\n",
       "      <td>13933.0</td>\n",
       "      <td>1</td>\n",
       "      <td>90.0</td>\n",
       "      <td>2</td>\n",
       "      <td>574.0</td>\n",
       "      <td>558</td>\n",
       "      <td>92785</td>\n",
       "      <td>3</td>\n",
       "      <td>8</td>\n",
       "      <td>2015</td>\n",
       "      <td>другой</td>\n",
       "      <td>0.612500</td>\n",
       "      <td>0.148214</td>\n",
       "    </tr>\n",
       "    <tr>\n",
       "      <th>3</th>\n",
       "      <td>0</td>\n",
       "      <td>64900000</td>\n",
       "      <td>159.00</td>\n",
       "      <td>2015-07-24</td>\n",
       "      <td>3</td>\n",
       "      <td>2.600</td>\n",
       "      <td>14</td>\n",
       "      <td>91.730769</td>\n",
       "      <td>9</td>\n",
       "      <td>False</td>\n",
       "      <td>False</td>\n",
       "      <td>False</td>\n",
       "      <td>27.825</td>\n",
       "      <td>0</td>\n",
       "      <td>Санкт-Петербург</td>\n",
       "      <td>28098.0</td>\n",
       "      <td>6800.0</td>\n",
       "      <td>2</td>\n",
       "      <td>84.0</td>\n",
       "      <td>3</td>\n",
       "      <td>234.0</td>\n",
       "      <td>424</td>\n",
       "      <td>408176</td>\n",
       "      <td>4</td>\n",
       "      <td>7</td>\n",
       "      <td>2015</td>\n",
       "      <td>другой</td>\n",
       "      <td>0.576923</td>\n",
       "      <td>0.175000</td>\n",
       "    </tr>\n",
       "    <tr>\n",
       "      <th>4</th>\n",
       "      <td>2</td>\n",
       "      <td>10000000</td>\n",
       "      <td>100.00</td>\n",
       "      <td>2018-06-19</td>\n",
       "      <td>2</td>\n",
       "      <td>3.030</td>\n",
       "      <td>14</td>\n",
       "      <td>32.000000</td>\n",
       "      <td>13</td>\n",
       "      <td>False</td>\n",
       "      <td>False</td>\n",
       "      <td>False</td>\n",
       "      <td>41.000</td>\n",
       "      <td>0</td>\n",
       "      <td>Санкт-Петербург</td>\n",
       "      <td>31856.0</td>\n",
       "      <td>8098.0</td>\n",
       "      <td>2</td>\n",
       "      <td>112.0</td>\n",
       "      <td>1</td>\n",
       "      <td>48.0</td>\n",
       "      <td>121</td>\n",
       "      <td>100000</td>\n",
       "      <td>1</td>\n",
       "      <td>6</td>\n",
       "      <td>2018</td>\n",
       "      <td>другой</td>\n",
       "      <td>0.320000</td>\n",
       "      <td>0.410000</td>\n",
       "    </tr>\n",
       "    <tr>\n",
       "      <th>5</th>\n",
       "      <td>10</td>\n",
       "      <td>2890000</td>\n",
       "      <td>30.40</td>\n",
       "      <td>2018-09-10</td>\n",
       "      <td>1</td>\n",
       "      <td>2.625</td>\n",
       "      <td>12</td>\n",
       "      <td>14.400000</td>\n",
       "      <td>5</td>\n",
       "      <td>False</td>\n",
       "      <td>False</td>\n",
       "      <td>False</td>\n",
       "      <td>9.100</td>\n",
       "      <td>0</td>\n",
       "      <td>городской посёлок Янино-1</td>\n",
       "      <td>NaN</td>\n",
       "      <td>NaN</td>\n",
       "      <td>0</td>\n",
       "      <td>NaN</td>\n",
       "      <td>0</td>\n",
       "      <td>NaN</td>\n",
       "      <td>55</td>\n",
       "      <td>95065</td>\n",
       "      <td>0</td>\n",
       "      <td>9</td>\n",
       "      <td>2018</td>\n",
       "      <td>другой</td>\n",
       "      <td>0.473684</td>\n",
       "      <td>0.299342</td>\n",
       "    </tr>\n",
       "    <tr>\n",
       "      <th>6</th>\n",
       "      <td>6</td>\n",
       "      <td>3700000</td>\n",
       "      <td>37.30</td>\n",
       "      <td>2017-11-02</td>\n",
       "      <td>1</td>\n",
       "      <td>2.600</td>\n",
       "      <td>26</td>\n",
       "      <td>10.600000</td>\n",
       "      <td>6</td>\n",
       "      <td>False</td>\n",
       "      <td>False</td>\n",
       "      <td>False</td>\n",
       "      <td>14.400</td>\n",
       "      <td>1</td>\n",
       "      <td>посёлок Парголово</td>\n",
       "      <td>52996.0</td>\n",
       "      <td>19143.0</td>\n",
       "      <td>0</td>\n",
       "      <td>NaN</td>\n",
       "      <td>0</td>\n",
       "      <td>NaN</td>\n",
       "      <td>155</td>\n",
       "      <td>99195</td>\n",
       "      <td>3</td>\n",
       "      <td>11</td>\n",
       "      <td>2017</td>\n",
       "      <td>другой</td>\n",
       "      <td>0.284182</td>\n",
       "      <td>0.386059</td>\n",
       "    </tr>\n",
       "    <tr>\n",
       "      <th>7</th>\n",
       "      <td>5</td>\n",
       "      <td>7915000</td>\n",
       "      <td>71.60</td>\n",
       "      <td>2019-04-18</td>\n",
       "      <td>2</td>\n",
       "      <td>2.750</td>\n",
       "      <td>24</td>\n",
       "      <td>41.307692</td>\n",
       "      <td>22</td>\n",
       "      <td>False</td>\n",
       "      <td>False</td>\n",
       "      <td>False</td>\n",
       "      <td>18.900</td>\n",
       "      <td>2</td>\n",
       "      <td>Санкт-Петербург</td>\n",
       "      <td>23982.0</td>\n",
       "      <td>11634.0</td>\n",
       "      <td>0</td>\n",
       "      <td>NaN</td>\n",
       "      <td>0</td>\n",
       "      <td>NaN</td>\n",
       "      <td>9999</td>\n",
       "      <td>110544</td>\n",
       "      <td>3</td>\n",
       "      <td>4</td>\n",
       "      <td>2019</td>\n",
       "      <td>другой</td>\n",
       "      <td>0.576923</td>\n",
       "      <td>0.263966</td>\n",
       "    </tr>\n",
       "    <tr>\n",
       "      <th>8</th>\n",
       "      <td>20</td>\n",
       "      <td>2900000</td>\n",
       "      <td>33.16</td>\n",
       "      <td>2018-05-23</td>\n",
       "      <td>1</td>\n",
       "      <td>2.650</td>\n",
       "      <td>27</td>\n",
       "      <td>15.430000</td>\n",
       "      <td>26</td>\n",
       "      <td>False</td>\n",
       "      <td>False</td>\n",
       "      <td>False</td>\n",
       "      <td>8.810</td>\n",
       "      <td>0</td>\n",
       "      <td>посёлок Мурино</td>\n",
       "      <td>NaN</td>\n",
       "      <td>NaN</td>\n",
       "      <td>0</td>\n",
       "      <td>NaN</td>\n",
       "      <td>0</td>\n",
       "      <td>NaN</td>\n",
       "      <td>189</td>\n",
       "      <td>87454</td>\n",
       "      <td>2</td>\n",
       "      <td>5</td>\n",
       "      <td>2018</td>\n",
       "      <td>другой</td>\n",
       "      <td>0.465320</td>\n",
       "      <td>0.265682</td>\n",
       "    </tr>\n",
       "    <tr>\n",
       "      <th>9</th>\n",
       "      <td>18</td>\n",
       "      <td>5400000</td>\n",
       "      <td>61.00</td>\n",
       "      <td>2017-02-26</td>\n",
       "      <td>3</td>\n",
       "      <td>2.500</td>\n",
       "      <td>9</td>\n",
       "      <td>43.600000</td>\n",
       "      <td>7</td>\n",
       "      <td>False</td>\n",
       "      <td>False</td>\n",
       "      <td>False</td>\n",
       "      <td>6.500</td>\n",
       "      <td>2</td>\n",
       "      <td>Санкт-Петербург</td>\n",
       "      <td>50898.0</td>\n",
       "      <td>15008.0</td>\n",
       "      <td>0</td>\n",
       "      <td>NaN</td>\n",
       "      <td>0</td>\n",
       "      <td>NaN</td>\n",
       "      <td>289</td>\n",
       "      <td>88524</td>\n",
       "      <td>6</td>\n",
       "      <td>2</td>\n",
       "      <td>2017</td>\n",
       "      <td>другой</td>\n",
       "      <td>0.714754</td>\n",
       "      <td>0.106557</td>\n",
       "    </tr>\n",
       "  </tbody>\n",
       "</table>\n",
       "</div>"
      ],
      "text/plain": [
       "   total_images  last_price  total_area first_day_exposition  rooms  \\\n",
       "0            20    13000000      108.00           2019-03-07      3   \n",
       "1             7     3350000       40.40           2018-12-04      1   \n",
       "2            10     5196000       56.00           2015-08-20      2   \n",
       "3             0    64900000      159.00           2015-07-24      3   \n",
       "4             2    10000000      100.00           2018-06-19      2   \n",
       "5            10     2890000       30.40           2018-09-10      1   \n",
       "6             6     3700000       37.30           2017-11-02      1   \n",
       "7             5     7915000       71.60           2019-04-18      2   \n",
       "8            20     2900000       33.16           2018-05-23      1   \n",
       "9            18     5400000       61.00           2017-02-26      3   \n",
       "\n",
       "   ceiling_height  floors_total  living_area  floor  is_apartment  studio  \\\n",
       "0           2.700            16    51.000000      8         False   False   \n",
       "1           2.650            11    18.600000      1         False   False   \n",
       "2           2.600             5    34.300000      4         False   False   \n",
       "3           2.600            14    91.730769      9         False   False   \n",
       "4           3.030            14    32.000000     13         False   False   \n",
       "5           2.625            12    14.400000      5         False   False   \n",
       "6           2.600            26    10.600000      6         False   False   \n",
       "7           2.750            24    41.307692     22         False   False   \n",
       "8           2.650            27    15.430000     26         False   False   \n",
       "9           2.500             9    43.600000      7         False   False   \n",
       "\n",
       "   open_plan  kitchen_area  balcony              locality_name  \\\n",
       "0      False        25.000        0            Санкт-Петербург   \n",
       "1      False        11.000        2             посёлок Шушары   \n",
       "2      False         8.300        0            Санкт-Петербург   \n",
       "3      False        27.825        0            Санкт-Петербург   \n",
       "4      False        41.000        0            Санкт-Петербург   \n",
       "5      False         9.100        0  городской посёлок Янино-1   \n",
       "6      False        14.400        1          посёлок Парголово   \n",
       "7      False        18.900        2            Санкт-Петербург   \n",
       "8      False         8.810        0             посёлок Мурино   \n",
       "9      False         6.500        2            Санкт-Петербург   \n",
       "\n",
       "   airports_nearest  cityCenters_nearest  parks_around3000  parks_nearest  \\\n",
       "0           18863.0              16028.0                 1          482.0   \n",
       "1           12817.0              18603.0                 0            NaN   \n",
       "2           21741.0              13933.0                 1           90.0   \n",
       "3           28098.0               6800.0                 2           84.0   \n",
       "4           31856.0               8098.0                 2          112.0   \n",
       "5               NaN                  NaN                 0            NaN   \n",
       "6           52996.0              19143.0                 0            NaN   \n",
       "7           23982.0              11634.0                 0            NaN   \n",
       "8               NaN                  NaN                 0            NaN   \n",
       "9           50898.0              15008.0                 0            NaN   \n",
       "\n",
       "   ponds_around3000  ponds_nearest  days_exposition  square_meter_price  \\\n",
       "0                 2          755.0             9999              120370   \n",
       "1                 0            NaN               81               82920   \n",
       "2                 2          574.0              558               92785   \n",
       "3                 3          234.0              424              408176   \n",
       "4                 1           48.0              121              100000   \n",
       "5                 0            NaN               55               95065   \n",
       "6                 0            NaN              155               99195   \n",
       "7                 0            NaN             9999              110544   \n",
       "8                 0            NaN              189               87454   \n",
       "9                 0            NaN              289               88524   \n",
       "\n",
       "   weekday_exposition  month_exposition  year_exposition floor_category  \\\n",
       "0                   3                 3             2019         другой   \n",
       "1                   1                12             2018         первый   \n",
       "2                   3                 8             2015         другой   \n",
       "3                   4                 7             2015         другой   \n",
       "4                   1                 6             2018         другой   \n",
       "5                   0                 9             2018         другой   \n",
       "6                   3                11             2017         другой   \n",
       "7                   3                 4             2019         другой   \n",
       "8                   2                 5             2018         другой   \n",
       "9                   6                 2             2017         другой   \n",
       "\n",
       "   living_to_total  kitchen_to_total  \n",
       "0         0.472222          0.231481  \n",
       "1         0.460396          0.272277  \n",
       "2         0.612500          0.148214  \n",
       "3         0.576923          0.175000  \n",
       "4         0.320000          0.410000  \n",
       "5         0.473684          0.299342  \n",
       "6         0.284182          0.386059  \n",
       "7         0.576923          0.263966  \n",
       "8         0.465320          0.265682  \n",
       "9         0.714754          0.106557  "
      ]
     },
     "metadata": {},
     "output_type": "display_data"
    }
   ],
   "source": [
    "#добавим столбец соотношения жилой площади к общей\n",
    "data['living_to_total'] = data['living_area'] / data['total_area']\n",
    "\n",
    "#добавим столбец отношения площади кухни к общей\n",
    "data['kitchen_to_total'] = data['kitchen_area'] / data['total_area']\n",
    "\n",
    "pd.set_option('display.max_columns', None)\n",
    "display(data.head(10))\n",
    "#data.info()"
   ]
  },
  {
   "cell_type": "markdown",
   "metadata": {},
   "source": [
    "## Исследовательский анализ данных"
   ]
  },
  {
   "cell_type": "markdown",
   "metadata": {},
   "source": [
    "### Изучение основных характеристик"
   ]
  },
  {
   "cell_type": "markdown",
   "metadata": {},
   "source": [
    "1. Изучите следующие параметры: площадь, цена, число комнат, высота потолков. Постройте гистограммы для каждого параметра."
   ]
  },
  {
   "cell_type": "code",
   "execution_count": 19,
   "metadata": {},
   "outputs": [
    {
     "data": {
      "text/plain": [
       "count    23374.000000\n",
       "mean        60.391441\n",
       "std         35.685912\n",
       "min         13.000000\n",
       "25%         40.000000\n",
       "50%         52.000000\n",
       "75%         69.800000\n",
       "max        900.000000\n",
       "Name: total_area, dtype: float64"
      ]
     },
     "execution_count": 19,
     "metadata": {},
     "output_type": "execute_result"
    },
    {
     "data": {
      "image/png": "[encoded data removed]",
      "text/plain": [
       "<Figure size 360x216 with 1 Axes>"
      ]
     },
     "metadata": {
      "needs_background": "light"
     },
     "output_type": "display_data"
    }
   ],
   "source": [
    "#изучим общую площадь\n",
    "data.plot(y = 'total_area', kind = 'hist', bins = 100, grid=True, figsize = (5,3), range = (0,200))\n",
    "data['total_area'].describe()"
   ]
  },
  {
   "cell_type": "markdown",
   "metadata": {},
   "source": [
    "Большинство квартир площадью до 70-80 квадратных метров, однако есть большие квартиры площадью до 900 кв.м."
   ]
  },
  {
   "cell_type": "code",
   "execution_count": 20,
   "metadata": {
    "scrolled": false
   },
   "outputs": [
    {
     "data": {
      "text/plain": [
       "count    2.337400e+04\n",
       "mean     6.536688e+06\n",
       "std      1.089411e+07\n",
       "min      1.219000e+04\n",
       "25%      3.430000e+06\n",
       "50%      4.650000e+06\n",
       "75%      6.790000e+06\n",
       "max      7.630000e+08\n",
       "Name: last_price, dtype: float64"
      ]
     },
     "execution_count": 20,
     "metadata": {},
     "output_type": "execute_result"
    },
    {
     "data": {
      "image/png": "[encoded data removed]",
      "text/plain": [
       "<Figure size 360x216 with 1 Axes>"
      ]
     },
     "metadata": {
      "needs_background": "light"
     },
     "output_type": "display_data"
    }
   ],
   "source": [
    "#изучим цену\n",
    "data.plot(y = 'last_price', kind = 'hist', bins = 100, grid=True, range = (0,15000000), figsize = (5,3))\n",
    "data['last_price'].describe()"
   ]
  },
  {
   "cell_type": "markdown",
   "metadata": {},
   "source": [
    "Средняя цена колеблется в диапазоне 4-6 млн. рублей"
   ]
  },
  {
   "cell_type": "code",
   "execution_count": 21,
   "metadata": {},
   "outputs": [
    {
     "data": {
      "text/plain": [
       "count    23374.000000\n",
       "mean         2.073586\n",
       "std          1.077405\n",
       "min          0.000000\n",
       "25%          1.000000\n",
       "50%          2.000000\n",
       "75%          3.000000\n",
       "max         19.000000\n",
       "Name: rooms, dtype: float64"
      ]
     },
     "execution_count": 21,
     "metadata": {},
     "output_type": "execute_result"
    },
    {
     "data": {
      "image/png": "[encoded data removed]",
      "text/plain": [
       "<Figure size 360x360 with 1 Axes>"
      ]
     },
     "metadata": {
      "needs_background": "light"
     },
     "output_type": "display_data"
    }
   ],
   "source": [
    "#изучим число комнат\n",
    "data.plot(y = 'rooms', kind = 'hist', bins = 7, grid=True, range = (1,7), figsize = (5,5))\n",
    "data['rooms'].describe()"
   ]
  },
  {
   "cell_type": "markdown",
   "metadata": {},
   "source": [
    "Большинство квартир 1 и 2-комнатные, чуть меньше предложений 3-х комнатных квартир. Максимальное количество комнат - 19, скорее всего это расселенные коммунальные квартиры."
   ]
  },
  {
   "cell_type": "code",
   "execution_count": 22,
   "metadata": {},
   "outputs": [
    {
     "data": {
      "text/plain": [
       "count    23374.000000\n",
       "mean         2.731384\n",
       "std          0.754640\n",
       "min          1.000000\n",
       "25%          2.550000\n",
       "50%          2.650000\n",
       "75%          2.750000\n",
       "max         32.000000\n",
       "Name: ceiling_height, dtype: float64"
      ]
     },
     "execution_count": 22,
     "metadata": {},
     "output_type": "execute_result"
    },
    {
     "data": {
      "image/png": "[encoded data removed]",
      "text/plain": [
       "<Figure size 1080x360 with 1 Axes>"
      ]
     },
     "metadata": {
      "needs_background": "light"
     },
     "output_type": "display_data"
    }
   ],
   "source": [
    "#изучим высоту потолков\n",
    "data.plot(y = 'ceiling_height', kind = 'hist', bins = 100, range = (2,5), grid=True, figsize = (15,5))\n",
    "data['ceiling_height'].describe()"
   ]
  },
  {
   "cell_type": "markdown",
   "metadata": {},
   "source": [
    "Большинство значений колеблется в промежутке 2,5 - 3 метра, однако есть выбивающиеся значения до 100 метров, что конечно же является ошибкой ввода"
   ]
  },
  {
   "cell_type": "markdown",
   "metadata": {},
   "source": [
    "**Промежуточный вывод:**\n",
    "\n",
    "Площадь\n",
    "\n",
    "Большинство квартир - менее 100 квадратных метров, больше площадь практически не встречается. Однако есть выбивающиеся значения огромной площади.\n",
    "\n",
    "Стоимость\n",
    "\n",
    "В основном стоимость квартир - порядка 5 миллионов. Есть и варианты дороже 20 миллионов, скорее всего это элитная недвижимость, либо частные дома.\n",
    "\n",
    "Комнаты\n",
    "В основном квартиры состоят из 1, 2 и 3 комнат. Есть небольшая доля 4-комнатных квартир. Варианты, где больше 7 комнат такэе присутствуют, скорее всего это частные дома либо большие квартиры в старом фонде.\n",
    "\n",
    "Высота потолков\n",
    "\n",
    "Большинство вариантов имеют высоту потолков от 2,5 до 3 метров. Данные больше 4 метров (высота в старых петербургских квартирах) также встречаются, однако в расчетах их лучше не учитывать."
   ]
  },
  {
   "cell_type": "markdown",
   "metadata": {},
   "source": [
    "### Сроки продажи квартиры"
   ]
  },
  {
   "cell_type": "markdown",
   "metadata": {},
   "source": [
    "2. Изучите время продажи квартиры. Постройте гистограмму. Посчитайте среднее и медиану. Опишите, сколько обычно занимает продажа. Когда можно считать, что продажи прошли очень быстро, а когда необычно долго?"
   ]
  },
  {
   "cell_type": "code",
   "execution_count": 23,
   "metadata": {},
   "outputs": [
    {
     "name": "stdout",
     "output_type": "stream",
     "text": [
      "count    20225.000000\n",
      "mean       181.109073\n",
      "std        220.009934\n",
      "min          1.000000\n",
      "25%         45.000000\n",
      "50%         96.000000\n",
      "75%        232.000000\n",
      "max       1580.000000\n",
      "Name: days_exposition, dtype: float64\n"
     ]
    },
    {
     "data": {
      "image/png": "[encoded data removed]",
      "text/plain": [
       "<Figure size 432x288 with 1 Axes>"
      ]
     },
     "metadata": {
      "needs_background": "light"
     },
     "output_type": "display_data"
    },
    {
     "data": {
      "image/png": "[encoded data removed]",
      "text/plain": [
       "<Figure size 432x288 with 1 Axes>"
      ]
     },
     "metadata": {
      "needs_background": "light"
     },
     "output_type": "display_data"
    }
   ],
   "source": [
    "data.plot(y = 'days_exposition', kind = 'hist', bins = 30, grid = True, range = (1,1600))\n",
    "data.plot(y = 'days_exposition', kind = 'hist', bins = 100, grid = True, range = (25,100))\n",
    "\n",
    "#среднее значение, медиана и межквартильный размах\n",
    "print(data[(data['days_exposition']!=0)&(data['days_exposition']!=9999)]['days_exposition'].describe())\n",
    "#print(data[data['days_exposition']!=0]['days_exposition'].value_counts())"
   ]
  },
  {
   "cell_type": "markdown",
   "metadata": {},
   "source": [
    "Вывод:гистограма имеет вид распределения Пуассона. Среднее значение - 180 дней, а медиана - 95 дней. При масштабировании графика можно заметить выбивающиеся значения на 30, 45, 60 и 90 день. Можно предположить, что это стандартные для объявлений сроки публикации и скорее всего сделки не закрываются именно в эти дни. Для чистоты расчетов, можно эти значения исключить при анализе."
   ]
  },
  {
   "cell_type": "markdown",
   "metadata": {},
   "source": [
    "### Выбивающиеся значения"
   ]
  },
  {
   "cell_type": "markdown",
   "metadata": {},
   "source": [
    "3.Уберите редкие и выбивающиеся значения. Опишите, какие особенности обнаружили"
   ]
  },
  {
   "cell_type": "code",
   "execution_count": 24,
   "metadata": {
    "scrolled": false
   },
   "outputs": [
    {
     "data": {
      "text/plain": [
       "count    18415.000000\n",
       "mean       193.737768\n",
       "std        226.616394\n",
       "min          1.000000\n",
       "25%         43.000000\n",
       "50%        112.000000\n",
       "75%        256.000000\n",
       "max       1580.000000\n",
       "Name: days_exposition, dtype: float64"
      ]
     },
     "execution_count": 24,
     "metadata": {},
     "output_type": "execute_result"
    },
    {
     "data": {
      "image/png": "[encoded data removed]",
      "text/plain": [
       "<Figure size 432x288 with 1 Axes>"
      ]
     },
     "metadata": {
      "needs_background": "light"
     },
     "output_type": "display_data"
    },
    {
     "data": {
      "image/png": "[encoded data removed]",
      "text/plain": [
       "<Figure size 432x288 with 1 Axes>"
      ]
     },
     "metadata": {
      "needs_background": "light"
     },
     "output_type": "display_data"
    },
    {
     "data": {
      "image/png": "[encoded data removed]",
      "text/plain": [
       "<Figure size 432x288 with 1 Axes>"
      ]
     },
     "metadata": {
      "needs_background": "light"
     },
     "output_type": "display_data"
    }
   ],
   "source": [
    "#отфильтруем данные от аномалий и запишем их в новый датафрейм good_data\n",
    "good_data = data.query('days_exposition != 30 and days_exposition != 45 and days_exposition != 60 and days_exposition != 90 and days_exposition != 0 and days_exposition != 9999')\n",
    "\n",
    "#диаграмма размаха\n",
    "plt.boxplot(good_data['days_exposition'])\n",
    "plt.ylim(1,1000)\n",
    "\n",
    "#гистограммы\n",
    "good_data.plot(y = 'days_exposition', kind = 'hist', bins = 30, grid = True, range = (1,1600))\n",
    "good_data.plot(y = 'days_exposition', kind = 'hist', bins = 100, grid = True, range = (1,200))\n",
    "\n",
    "#среднее значение, медиана и межквартильный размах\n",
    "#good_data['days_exposition'].value_counts()\n",
    "good_data['days_exposition'].describe()"
   ]
  },
  {
   "cell_type": "markdown",
   "metadata": {},
   "source": [
    "Вывод: в очищенных от аномалий данных по времени продажи мы получаем большие значения медианы и среднего значения - 112 и 193. Судя по данным диаграмы размаха, быстрой продажей может считаться совершенная в течение 43 дней, а долгой - больше 255 дней."
   ]
  },
  {
   "cell_type": "markdown",
   "metadata": {},
   "source": [
    "**Замечание:**\n",
    "\n",
    "В дальнейшем аномальные значения буду убирать вручную с помощью мтода query на основе построенных графиков\n",
    "    "
   ]
  },
  {
   "cell_type": "markdown",
   "metadata": {},
   "source": [
    "### Что влияет на стоимость?"
   ]
  },
  {
   "cell_type": "markdown",
   "metadata": {},
   "source": [
    "4.Какие факторы больше всего влияют на стоимость квартиры? Изучите, зависит ли цена от квадратного метра, числа комнат, этажа (первого или последнего), удалённости от центра. Также изучите зависимость от даты размещения: дня недели, месяца и года"
   ]
  },
  {
   "cell_type": "code",
   "execution_count": 25,
   "metadata": {},
   "outputs": [],
   "source": [
    "#data.info()"
   ]
  },
  {
   "cell_type": "code",
   "execution_count": 26,
   "metadata": {},
   "outputs": [
    {
     "data": {
      "text/html": [
       "<div>\n",
       "<style scoped>\n",
       "    .dataframe tbody tr th:only-of-type {\n",
       "        vertical-align: middle;\n",
       "    }\n",
       "\n",
       "    .dataframe tbody tr th {\n",
       "        vertical-align: top;\n",
       "    }\n",
       "\n",
       "    .dataframe thead th {\n",
       "        text-align: right;\n",
       "    }\n",
       "</style>\n",
       "<table border=\"1\" class=\"dataframe\">\n",
       "  <thead>\n",
       "    <tr style=\"text-align: right;\">\n",
       "      <th></th>\n",
       "      <th>total_area</th>\n",
       "      <th>last_price</th>\n",
       "    </tr>\n",
       "  </thead>\n",
       "  <tbody>\n",
       "    <tr>\n",
       "      <th>total_area</th>\n",
       "      <td>1.000000</td>\n",
       "      <td>0.653535</td>\n",
       "    </tr>\n",
       "    <tr>\n",
       "      <th>last_price</th>\n",
       "      <td>0.653535</td>\n",
       "      <td>1.000000</td>\n",
       "    </tr>\n",
       "  </tbody>\n",
       "</table>\n",
       "</div>"
      ],
      "text/plain": [
       "            total_area  last_price\n",
       "total_area    1.000000    0.653535\n",
       "last_price    0.653535    1.000000"
      ]
     },
     "execution_count": 26,
     "metadata": {},
     "output_type": "execute_result"
    },
    {
     "data": {
      "image/png": "[encoded data removed]",
      "text/plain": [
       "<Figure size 432x288 with 1 Axes>"
      ]
     },
     "metadata": {
      "needs_background": "light"
     },
     "output_type": "display_data"
    }
   ],
   "source": [
    "# Зависимость цены от площади\n",
    "\n",
    "data.plot(x='total_area', y='last_price', kind='scatter') \n",
    "data[['total_area','last_price']].corr()"
   ]
  },
  {
   "cell_type": "code",
   "execution_count": 27,
   "metadata": {},
   "outputs": [
    {
     "data": {
      "image/png": "[encoded data removed]",
      "text/plain": [
       "<Figure size 360x360 with 1 Axes>"
      ]
     },
     "metadata": {
      "needs_background": "light"
     },
     "output_type": "display_data"
    },
    {
     "name": "stdout",
     "output_type": "stream",
     "text": [
      "Корреляция цены и общей площади: \n",
      "\n",
      "            last_price  total_area\n",
      "last_price    1.000000    0.878892\n",
      "total_area    0.878892    1.000000 \n",
      "\n"
     ]
    }
   ],
   "source": [
    "# Зависимость цены от общей площади, исключая выбивающие значения площади (более 300 квадратов)\n",
    "\n",
    "(\n",
    "    data.query('total_area > 0 and total_area < 300').pivot_table(index='total_area', values='last_price')\n",
    "    .plot(grid=True, style='o', figsize=(5, 5))\n",
    ")\n",
    "plt.show()\n",
    "print('Корреляция цены и общей площади:','\\n')\n",
    "print(data.query('total_area > 0 and total_area < 300').pivot_table(index='floor', values=['total_area', 'last_price']).corr(),'\\n')\n"
   ]
  },
  {
   "cell_type": "markdown",
   "metadata": {},
   "source": [
    "Вывод: достаточно высокая корелляция между значениями площади и цены. Что звучит логично."
   ]
  },
  {
   "cell_type": "code",
   "execution_count": 28,
   "metadata": {},
   "outputs": [
    {
     "data": {
      "image/png": "[encoded data removed]",
      "text/plain": [
       "<Figure size 360x360 with 1 Axes>"
      ]
     },
     "metadata": {
      "needs_background": "light"
     },
     "output_type": "display_data"
    },
    {
     "name": "stdout",
     "output_type": "stream",
     "text": [
      "Корреляция цены и числа комнат: \n",
      "\n",
      "            last_price     rooms\n",
      "last_price    1.000000  0.619564\n",
      "rooms         0.619564  1.000000 \n",
      "\n"
     ]
    }
   ],
   "source": [
    "# Зависимость цены от числа комнат (исключим квартиры, где больше 7 комнат)\n",
    "(\n",
    "    data.query('rooms > 0 and rooms < 7').pivot_table(index='rooms', values='last_price')\n",
    "    .plot(grid=True, style='o-', figsize=(5, 5))\n",
    ")\n",
    "plt.show()\n",
    "print('Корреляция цены и числа комнат:','\\n')\n",
    "print(data.query('rooms > 0 and rooms < 7').pivot_table(index='floor', values=['rooms', 'last_price']).corr(),'\\n')"
   ]
  },
  {
   "cell_type": "markdown",
   "metadata": {},
   "source": [
    "Чем больше комнат, тем больше цена. Отметим, что квартиры от 4-х комнат стоят значительно дороже. Вероятно, это премиальная недвижимость."
   ]
  },
  {
   "cell_type": "code",
   "execution_count": 29,
   "metadata": {},
   "outputs": [
    {
     "data": {
      "image/png": "[encoded data removed]",
      "text/plain": [
       "<Figure size 360x360 with 1 Axes>"
      ]
     },
     "metadata": {
      "needs_background": "light"
     },
     "output_type": "display_data"
    }
   ],
   "source": [
    "(\n",
    "    data.pivot_table(index='floor_category', values='last_price', aggfunc='median')\n",
    "    .plot(grid=True, style='o-', figsize=(5, 5))\n",
    ")\n",
    "plt.show()"
   ]
  },
  {
   "cell_type": "markdown",
   "metadata": {},
   "source": [
    "Вывод: Квартиры на первом этаже стоят дешевле всего, однако на последнем этаже квартиры стоят немного дороже, самые дорогие квартиры - на \"нейтральных\" этажах"
   ]
  },
  {
   "cell_type": "code",
   "execution_count": 30,
   "metadata": {},
   "outputs": [
    {
     "data": {
      "text/html": [
       "<div>\n",
       "<style scoped>\n",
       "    .dataframe tbody tr th:only-of-type {\n",
       "        vertical-align: middle;\n",
       "    }\n",
       "\n",
       "    .dataframe tbody tr th {\n",
       "        vertical-align: top;\n",
       "    }\n",
       "\n",
       "    .dataframe thead th {\n",
       "        text-align: right;\n",
       "    }\n",
       "</style>\n",
       "<table border=\"1\" class=\"dataframe\">\n",
       "  <thead>\n",
       "    <tr style=\"text-align: right;\">\n",
       "      <th></th>\n",
       "      <th>cityCenters_nearest</th>\n",
       "      <th>last_price</th>\n",
       "    </tr>\n",
       "  </thead>\n",
       "  <tbody>\n",
       "    <tr>\n",
       "      <th>cityCenters_nearest</th>\n",
       "      <td>1.000000</td>\n",
       "      <td>-0.205784</td>\n",
       "    </tr>\n",
       "    <tr>\n",
       "      <th>last_price</th>\n",
       "      <td>-0.205784</td>\n",
       "      <td>1.000000</td>\n",
       "    </tr>\n",
       "  </tbody>\n",
       "</table>\n",
       "</div>"
      ],
      "text/plain": [
       "                     cityCenters_nearest  last_price\n",
       "cityCenters_nearest             1.000000   -0.205784\n",
       "last_price                     -0.205784    1.000000"
      ]
     },
     "execution_count": 30,
     "metadata": {},
     "output_type": "execute_result"
    },
    {
     "data": {
      "image/png": "[encoded data removed]",
      "text/plain": [
       "<Figure size 432x288 with 1 Axes>"
      ]
     },
     "metadata": {
      "needs_background": "light"
     },
     "output_type": "display_data"
    }
   ],
   "source": [
    "#Изучим зависимость цены от удалённости от центра\n",
    "data.plot(kind = 'scatter', y = 'last_price', x = 'cityCenters_nearest', alpha = 0.5)\n",
    "\n",
    "data[['cityCenters_nearest','last_price']].corr()"
   ]
  },
  {
   "cell_type": "code",
   "execution_count": 31,
   "metadata": {},
   "outputs": [
    {
     "data": {
      "image/png": "[encoded data removed]",
      "text/plain": [
       "<Figure size 360x360 with 1 Axes>"
      ]
     },
     "metadata": {
      "needs_background": "light"
     },
     "output_type": "display_data"
    },
    {
     "name": "stdout",
     "output_type": "stream",
     "text": [
      "Корреляция цены и удалённости от центра: \n",
      "\n",
      "                     cityCenters_nearest  last_price\n",
      "cityCenters_nearest             1.000000    0.594523\n",
      "last_price                      0.594523    1.000000 \n",
      "\n"
     ]
    }
   ],
   "source": [
    "# Зависимость цены от удалённости от центра, исключая выбивающиеся значения цены (более 20 млн)\n",
    "(\n",
    "    data.query('last_price > 0 and last_price < 20000000').pivot_table(index='cityCenters_nearest', values='last_price')\n",
    "    .plot(grid=True, style='o', figsize=(5, 5))\n",
    ")\n",
    "plt.show()\n",
    "print('Корреляция цены и удалённости от центра:','\\n')\n",
    "print(data.query('last_price > 0 and last_price < 20000000').pivot_table(index='floor', values=['cityCenters_nearest', 'last_price']).corr(),'\\n')\n",
    "\n"
   ]
  },
  {
   "cell_type": "markdown",
   "metadata": {},
   "source": [
    "Вывод: видим явную зависимость стоимости квадратного метра от близости к центру! Чем ближе к центру, тем выше стоимость!"
   ]
  },
  {
   "cell_type": "code",
   "execution_count": 32,
   "metadata": {
    "scrolled": false
   },
   "outputs": [
    {
     "data": {
      "image/png": "[encoded data removed]",
      "text/plain": [
       "<Figure size 360x360 with 1 Axes>"
      ]
     },
     "metadata": {
      "needs_background": "light"
     },
     "output_type": "display_data"
    },
    {
     "data": {
      "image/png": "[encoded data removed]",
      "text/plain": [
       "<Figure size 720x360 with 1 Axes>"
      ]
     },
     "metadata": {
      "needs_background": "light"
     },
     "output_type": "display_data"
    },
    {
     "data": {
      "image/png": "[encoded data removed]",
      "text/plain": [
       "<Figure size 360x360 with 1 Axes>"
      ]
     },
     "metadata": {
      "needs_background": "light"
     },
     "output_type": "display_data"
    },
    {
     "data": {
      "image/png": "[encoded data removed]",
      "text/plain": [
       "<Figure size 360x360 with 1 Axes>"
      ]
     },
     "metadata": {
      "needs_background": "light"
     },
     "output_type": "display_data"
    }
   ],
   "source": [
    "#исключим выбивающиеся значения цены и посчитаем зависимость от даты размещения по дням, месяцам, годам\n",
    "\n",
    "# Зависимость цены от дня размещения\n",
    "(\n",
    "    data.query('last_price > 0 and last_price < 20000000').pivot_table(index='weekday_exposition', values='last_price')\n",
    "    .plot(grid=True, style='o-', figsize=(5, 5))\n",
    ")\n",
    "plt.show()\n",
    "# Зависимость цены от месяца размещения\n",
    "(\n",
    "    data.query('last_price > 0 and last_price < 20000000').pivot_table(index='month_exposition', values='last_price')\n",
    "    .plot(grid=True, style='o-', xlim=(1,12), figsize=(10, 5))\n",
    ")\n",
    "plt.show()\n",
    "# Зависимость цены от года размещения\n",
    "(\n",
    "    data.query('last_price > 0 and last_price < 20000000').pivot_table(index='year_exposition', values='last_price')\n",
    "    .plot(grid=True, style='o-', figsize=(5, 5))\n",
    ")\n",
    "plt.show()\n",
    "\n",
    "# Зависимость стоимости кв.метра от года размещения\n",
    "(\n",
    "    data.pivot_table(index='year_exposition', values='square_meter_price')\n",
    "    .plot(grid=True, style='o-', figsize=(5, 5))\n",
    ")\n",
    "plt.show()\n",
    "\n"
   ]
  },
  {
   "cell_type": "markdown",
   "metadata": {},
   "source": [
    "День недели: дороже всего квартиры, опубликованные в среду, дешевле всего - в субботу. Вероятно связано с графиком работы риелторов и в будние дни выставляется больше квартир.\n",
    "\n",
    "Месяц: дороже всего квартиры, продающиеся с апреля, дешевле всего - с июня. Это может быть связано с сезонностью рынка недвижимости - летом в период отпусков покупают реже, зимой - неудобно переезжать, плюс это период праздников.\n",
    "\n",
    "Год: квартиры очень сильно подешевели в 2016-2018 годах, что, вероятно, вызвано экономическим кризисом 2014 года и падением рубля. В 2019 году цены снова стали повышаться. Возможно это свзяано с ростом экономики, введением льготной ипотеки, а также изменением подхода к маркетингу Яндекс.Недвижимости. График изменения стоимости квадратного метра по годам также подтверждает эти выводы."
   ]
  },
  {
   "cell_type": "markdown",
   "metadata": {},
   "source": [
    "### Топ-10 по числу объявлений"
   ]
  },
  {
   "cell_type": "markdown",
   "metadata": {},
   "source": [
    "5.Выберите 10 населённых пунктов с наибольшим числом объявлений. Посчитайте среднюю цену квадратного метра в этих населённых пунктах. Выделите населённые пункты с самой высокой и низкой стоимостью жилья. Эти данные можно найти по имени в столбце locality_name"
   ]
  },
  {
   "cell_type": "code",
   "execution_count": 33,
   "metadata": {},
   "outputs": [
    {
     "data": {
      "text/html": [
       "<div>\n",
       "<style scoped>\n",
       "    .dataframe tbody tr th:only-of-type {\n",
       "        vertical-align: middle;\n",
       "    }\n",
       "\n",
       "    .dataframe tbody tr th {\n",
       "        vertical-align: top;\n",
       "    }\n",
       "\n",
       "    .dataframe thead th {\n",
       "        text-align: right;\n",
       "    }\n",
       "</style>\n",
       "<table border=\"1\" class=\"dataframe\">\n",
       "  <thead>\n",
       "    <tr style=\"text-align: right;\">\n",
       "      <th></th>\n",
       "      <th>count</th>\n",
       "      <th>mean</th>\n",
       "    </tr>\n",
       "    <tr>\n",
       "      <th>locality_name</th>\n",
       "      <th></th>\n",
       "      <th></th>\n",
       "    </tr>\n",
       "  </thead>\n",
       "  <tbody>\n",
       "    <tr>\n",
       "      <th>Санкт-Петербург</th>\n",
       "      <td>15533</td>\n",
       "      <td>114652.062319</td>\n",
       "    </tr>\n",
       "    <tr>\n",
       "      <th>посёлок Мурино</th>\n",
       "      <td>510</td>\n",
       "      <td>85448.449020</td>\n",
       "    </tr>\n",
       "    <tr>\n",
       "      <th>посёлок Шушары</th>\n",
       "      <td>437</td>\n",
       "      <td>78483.691076</td>\n",
       "    </tr>\n",
       "    <tr>\n",
       "      <th>Всеволожск</th>\n",
       "      <td>390</td>\n",
       "      <td>68582.679487</td>\n",
       "    </tr>\n",
       "    <tr>\n",
       "      <th>Пушкин</th>\n",
       "      <td>368</td>\n",
       "      <td>103179.959239</td>\n",
       "    </tr>\n",
       "    <tr>\n",
       "      <th>Колпино</th>\n",
       "      <td>337</td>\n",
       "      <td>75480.118694</td>\n",
       "    </tr>\n",
       "    <tr>\n",
       "      <th>посёлок Парголово</th>\n",
       "      <td>326</td>\n",
       "      <td>90134.650307</td>\n",
       "    </tr>\n",
       "    <tr>\n",
       "      <th>Гатчина</th>\n",
       "      <td>303</td>\n",
       "      <td>68624.689769</td>\n",
       "    </tr>\n",
       "    <tr>\n",
       "      <th>деревня Кудрово</th>\n",
       "      <td>295</td>\n",
       "      <td>92446.894915</td>\n",
       "    </tr>\n",
       "    <tr>\n",
       "      <th>Выборг</th>\n",
       "      <td>234</td>\n",
       "      <td>58303.294872</td>\n",
       "    </tr>\n",
       "  </tbody>\n",
       "</table>\n",
       "</div>"
      ],
      "text/plain": [
       "                   count           mean\n",
       "locality_name                          \n",
       "Санкт-Петербург    15533  114652.062319\n",
       "посёлок Мурино       510   85448.449020\n",
       "посёлок Шушары       437   78483.691076\n",
       "Всеволожск           390   68582.679487\n",
       "Пушкин               368  103179.959239\n",
       "Колпино              337   75480.118694\n",
       "посёлок Парголово    326   90134.650307\n",
       "Гатчина              303   68624.689769\n",
       "деревня Кудрово      295   92446.894915\n",
       "Выборг               234   58303.294872"
      ]
     },
     "metadata": {},
     "output_type": "display_data"
    },
    {
     "name": "stdout",
     "output_type": "stream",
     "text": [
      "                 count           mean\n",
      "locality_name                        \n",
      "Санкт-Петербург  15533  114652.062319\n",
      "               count          mean\n",
      "locality_name                     \n",
      "Выборг           234  58303.294872\n"
     ]
    }
   ],
   "source": [
    "locality_pivot_table = data.pivot_table(index = 'locality_name', values = 'square_meter_price', aggfunc=['count', 'mean'])\n",
    "locality_pivot_table.columns = ['count', 'mean']\n",
    "locality_pivot_table = locality_pivot_table.sort_values('count', ascending = False).head(10)\n",
    "display(locality_pivot_table)\n",
    "#самая высокая стоимость\n",
    "print(locality_pivot_table[locality_pivot_table['mean']==locality_pivot_table['mean'].max()])\n",
    "#самая низкая стоимость\n",
    "print(locality_pivot_table[locality_pivot_table['mean']==locality_pivot_table['mean'].min()])"
   ]
  },
  {
   "cell_type": "markdown",
   "metadata": {},
   "source": [
    "Вывод: самая высокая стоимость жилья из 10 населённых пунктов с самым большим количеством объявлений в Санкт-Петербурге, тогда как самая низкая стоимость в Выборге.\n",
    "\n",
    "После Петербурга, большинство предложений находятся в его пригородах, что звучит логично - люди склонны покупать более дешевые варианты в отдалении от центра."
   ]
  },
  {
   "cell_type": "markdown",
   "metadata": {},
   "source": [
    "### Выделим квартиры в центре СПб"
   ]
  },
  {
   "cell_type": "markdown",
   "metadata": {},
   "source": [
    "6. Изучите предложения квартир: для каждой квартиры есть информация о расстоянии до центра. Выделите квартиры в Санкт-Петербурге ('locality_name'). Ваша задача — выяснить, какая область входит в центр. Создайте столбец с расстоянием до центра в километрах: округлите до целых значений. После этого посчитайте среднюю цену для каждого километра. Постройте график: он должен показывать, как цена зависит от удалённости от центра. Определите границу, где график сильно меняется — это и будет центральная зона.\n",
    "            "
   ]
  },
  {
   "cell_type": "code",
   "execution_count": 34,
   "metadata": {},
   "outputs": [
    {
     "data": {
      "text/plain": [
       "<AxesSubplot:xlabel='cityCenters_nearest_km'>"
      ]
     },
     "execution_count": 34,
     "metadata": {},
     "output_type": "execute_result"
    },
    {
     "data": {
      "image/png": "[encoded data removed]",
      "text/plain": [
       "<Figure size 720x360 with 1 Axes>"
      ]
     },
     "metadata": {
      "needs_background": "light"
     },
     "output_type": "display_data"
    }
   ],
   "source": [
    "data['cityCenters_nearest_km'] = data['cityCenters_nearest']/1000 #создадим столбец с расстоянием до центра\n",
    "data['cityCenters_nearest_km'] = data['cityCenters_nearest_km'].fillna(999999) #заполним пропущенные значения, чтобы их потом откинуть\n",
    "data['cityCenters_nearest_km'] = data['cityCenters_nearest_km'].astype('int') #переведем в целочисленный тип\n",
    "pivot_table_km = data.query('locality_name == \"Санкт-Петербург\" and cityCenters_nearest_km !=999999').pivot_table(index = 'cityCenters_nearest_km', values = 'square_meter_price', aggfunc = 'mean')\n",
    "pivot_table_km.plot(grid=True, style='o-', xlim=(0,15), figsize=(10, 5)) #построим график изменения цены в СПБ при удалении от центра города"
   ]
  },
  {
   "cell_type": "markdown",
   "metadata": {},
   "source": [
    "Вывод: судя по графику центром считать будем радиус в 7 км. Именно в этой отметке происходит относительно резкое изменение цены.\n",
    "\n",
    "Мы могли выбрать отметку в 3 км, однако судя по географии города, в отметку 4-7 км могут входить районы, находящиеся на островах, но еще считающиеся престижными и центральными (Петроградская сторона, Васильевский остров, Каменный остров) - таким образом было бы неправильно их \"откидывать\"."
   ]
  },
  {
   "cell_type": "markdown",
   "metadata": {},
   "source": [
    "### Характеристики квартир в центре"
   ]
  },
  {
   "cell_type": "markdown",
   "metadata": {},
   "source": [
    "7.Выделите сегмент квартир в центре. Проанализируйте эту территорию и изучите следующие параметры: площадь, цена, число комнат, высота потолков. Также выделите факторы, которые влияют на стоимость квартиры (число комнат, этаж, удалённость от центра, дата размещения объявления). Сделайте выводы. Отличаются ли они от общих выводов по всему городу?"
   ]
  },
  {
   "cell_type": "code",
   "execution_count": 35,
   "metadata": {},
   "outputs": [],
   "source": [
    "#выделим квартиры в центре, беря за радиус 7 км\n",
    "spb_center = data.query('(locality_name == \"Санкт-Петербург\") & (cityCenters_nearest_km <= 7)')\n"
   ]
  },
  {
   "cell_type": "code",
   "execution_count": 36,
   "metadata": {},
   "outputs": [
    {
     "data": {
      "text/html": [
       "<div>\n",
       "<style scoped>\n",
       "    .dataframe tbody tr th:only-of-type {\n",
       "        vertical-align: middle;\n",
       "    }\n",
       "\n",
       "    .dataframe tbody tr th {\n",
       "        vertical-align: top;\n",
       "    }\n",
       "\n",
       "    .dataframe thead th {\n",
       "        text-align: right;\n",
       "    }\n",
       "</style>\n",
       "<table border=\"1\" class=\"dataframe\">\n",
       "  <thead>\n",
       "    <tr style=\"text-align: right;\">\n",
       "      <th></th>\n",
       "      <th>total_images</th>\n",
       "      <th>last_price</th>\n",
       "      <th>total_area</th>\n",
       "      <th>rooms</th>\n",
       "      <th>ceiling_height</th>\n",
       "      <th>floors_total</th>\n",
       "      <th>living_area</th>\n",
       "      <th>floor</th>\n",
       "      <th>kitchen_area</th>\n",
       "      <th>balcony</th>\n",
       "      <th>airports_nearest</th>\n",
       "      <th>cityCenters_nearest</th>\n",
       "      <th>parks_around3000</th>\n",
       "      <th>parks_nearest</th>\n",
       "      <th>ponds_around3000</th>\n",
       "      <th>ponds_nearest</th>\n",
       "      <th>days_exposition</th>\n",
       "      <th>square_meter_price</th>\n",
       "      <th>weekday_exposition</th>\n",
       "      <th>month_exposition</th>\n",
       "      <th>year_exposition</th>\n",
       "      <th>living_to_total</th>\n",
       "      <th>kitchen_to_total</th>\n",
       "      <th>cityCenters_nearest_km</th>\n",
       "    </tr>\n",
       "  </thead>\n",
       "  <tbody>\n",
       "    <tr>\n",
       "      <th>count</th>\n",
       "      <td>3673.000000</td>\n",
       "      <td>3.673000e+03</td>\n",
       "      <td>3673.000000</td>\n",
       "      <td>3673.000000</td>\n",
       "      <td>3673.000000</td>\n",
       "      <td>3673.000000</td>\n",
       "      <td>3673.000000</td>\n",
       "      <td>3673.000000</td>\n",
       "      <td>3673.000000</td>\n",
       "      <td>3673.000000</td>\n",
       "      <td>3667.000000</td>\n",
       "      <td>3673.000000</td>\n",
       "      <td>3673.000000</td>\n",
       "      <td>2423.000000</td>\n",
       "      <td>3673.000000</td>\n",
       "      <td>2633.000000</td>\n",
       "      <td>3673.000000</td>\n",
       "      <td>3.673000e+03</td>\n",
       "      <td>3673.000000</td>\n",
       "      <td>3673.000000</td>\n",
       "      <td>3673.000000</td>\n",
       "      <td>3673.000000</td>\n",
       "      <td>3673.000000</td>\n",
       "      <td>3673.000000</td>\n",
       "    </tr>\n",
       "    <tr>\n",
       "      <th>mean</th>\n",
       "      <td>10.264362</td>\n",
       "      <td>1.468187e+07</td>\n",
       "      <td>92.361786</td>\n",
       "      <td>2.816227</td>\n",
       "      <td>2.996542</td>\n",
       "      <td>7.247209</td>\n",
       "      <td>54.345181</td>\n",
       "      <td>4.278247</td>\n",
       "      <td>14.573912</td>\n",
       "      <td>0.330248</td>\n",
       "      <td>24644.698118</td>\n",
       "      <td>4698.630547</td>\n",
       "      <td>1.022870</td>\n",
       "      <td>464.913743</td>\n",
       "      <td>1.277974</td>\n",
       "      <td>463.650589</td>\n",
       "      <td>1841.473183</td>\n",
       "      <td>1.438812e+05</td>\n",
       "      <td>2.525456</td>\n",
       "      <td>6.420909</td>\n",
       "      <td>2017.173972</td>\n",
       "      <td>0.579054</td>\n",
       "      <td>0.172759</td>\n",
       "      <td>4.202287</td>\n",
       "    </tr>\n",
       "    <tr>\n",
       "      <th>std</th>\n",
       "      <td>6.004771</td>\n",
       "      <td>2.469554e+07</td>\n",
       "      <td>60.563676</td>\n",
       "      <td>1.454741</td>\n",
       "      <td>0.715933</td>\n",
       "      <td>3.979917</td>\n",
       "      <td>38.277613</td>\n",
       "      <td>3.061623</td>\n",
       "      <td>9.665707</td>\n",
       "      <td>0.766683</td>\n",
       "      <td>4307.752277</td>\n",
       "      <td>1766.052635</td>\n",
       "      <td>0.938478</td>\n",
       "      <td>302.700576</td>\n",
       "      <td>1.087309</td>\n",
       "      <td>270.151022</td>\n",
       "      <td>3617.205078</td>\n",
       "      <td>9.124013e+04</td>\n",
       "      <td>1.722897</td>\n",
       "      <td>3.461950</td>\n",
       "      <td>1.120690</td>\n",
       "      <td>0.108819</td>\n",
       "      <td>0.077822</td>\n",
       "      <td>1.756152</td>\n",
       "    </tr>\n",
       "    <tr>\n",
       "      <th>min</th>\n",
       "      <td>0.000000</td>\n",
       "      <td>1.600000e+06</td>\n",
       "      <td>13.000000</td>\n",
       "      <td>0.000000</td>\n",
       "      <td>2.000000</td>\n",
       "      <td>2.000000</td>\n",
       "      <td>2.000000</td>\n",
       "      <td>1.000000</td>\n",
       "      <td>2.000000</td>\n",
       "      <td>0.000000</td>\n",
       "      <td>12388.000000</td>\n",
       "      <td>181.000000</td>\n",
       "      <td>0.000000</td>\n",
       "      <td>9.000000</td>\n",
       "      <td>0.000000</td>\n",
       "      <td>22.000000</td>\n",
       "      <td>3.000000</td>\n",
       "      <td>1.534500e+04</td>\n",
       "      <td>0.000000</td>\n",
       "      <td>1.000000</td>\n",
       "      <td>2014.000000</td>\n",
       "      <td>0.021583</td>\n",
       "      <td>0.025381</td>\n",
       "      <td>0.000000</td>\n",
       "    </tr>\n",
       "    <tr>\n",
       "      <th>25%</th>\n",
       "      <td>6.000000</td>\n",
       "      <td>6.550000e+06</td>\n",
       "      <td>56.000000</td>\n",
       "      <td>2.000000</td>\n",
       "      <td>2.700000</td>\n",
       "      <td>5.000000</td>\n",
       "      <td>31.000000</td>\n",
       "      <td>2.000000</td>\n",
       "      <td>9.000000</td>\n",
       "      <td>0.000000</td>\n",
       "      <td>21772.000000</td>\n",
       "      <td>3602.000000</td>\n",
       "      <td>0.000000</td>\n",
       "      <td>278.500000</td>\n",
       "      <td>0.000000</td>\n",
       "      <td>227.000000</td>\n",
       "      <td>69.000000</td>\n",
       "      <td>9.999900e+04</td>\n",
       "      <td>1.000000</td>\n",
       "      <td>3.000000</td>\n",
       "      <td>2017.000000</td>\n",
       "      <td>0.521739</td>\n",
       "      <td>0.120805</td>\n",
       "      <td>3.000000</td>\n",
       "    </tr>\n",
       "    <tr>\n",
       "      <th>50%</th>\n",
       "      <td>10.000000</td>\n",
       "      <td>9.000000e+06</td>\n",
       "      <td>77.800000</td>\n",
       "      <td>3.000000</td>\n",
       "      <td>3.000000</td>\n",
       "      <td>6.000000</td>\n",
       "      <td>45.300000</td>\n",
       "      <td>4.000000</td>\n",
       "      <td>12.000000</td>\n",
       "      <td>0.000000</td>\n",
       "      <td>24324.000000</td>\n",
       "      <td>4816.000000</td>\n",
       "      <td>1.000000</td>\n",
       "      <td>437.000000</td>\n",
       "      <td>1.000000</td>\n",
       "      <td>449.000000</td>\n",
       "      <td>197.000000</td>\n",
       "      <td>1.235290e+05</td>\n",
       "      <td>3.000000</td>\n",
       "      <td>6.000000</td>\n",
       "      <td>2017.000000</td>\n",
       "      <td>0.581395</td>\n",
       "      <td>0.158967</td>\n",
       "      <td>4.000000</td>\n",
       "    </tr>\n",
       "    <tr>\n",
       "      <th>75%</th>\n",
       "      <td>15.000000</td>\n",
       "      <td>1.400000e+07</td>\n",
       "      <td>108.700000</td>\n",
       "      <td>3.000000</td>\n",
       "      <td>3.150000</td>\n",
       "      <td>9.000000</td>\n",
       "      <td>65.500000</td>\n",
       "      <td>5.000000</td>\n",
       "      <td>17.000000</td>\n",
       "      <td>0.000000</td>\n",
       "      <td>27125.500000</td>\n",
       "      <td>5954.000000</td>\n",
       "      <td>2.000000</td>\n",
       "      <td>596.000000</td>\n",
       "      <td>2.000000</td>\n",
       "      <td>666.000000</td>\n",
       "      <td>631.000000</td>\n",
       "      <td>1.547020e+05</td>\n",
       "      <td>4.000000</td>\n",
       "      <td>10.000000</td>\n",
       "      <td>2018.000000</td>\n",
       "      <td>0.656044</td>\n",
       "      <td>0.197368</td>\n",
       "      <td>5.000000</td>\n",
       "    </tr>\n",
       "    <tr>\n",
       "      <th>max</th>\n",
       "      <td>50.000000</td>\n",
       "      <td>7.630000e+08</td>\n",
       "      <td>900.000000</td>\n",
       "      <td>19.000000</td>\n",
       "      <td>32.000000</td>\n",
       "      <td>27.000000</td>\n",
       "      <td>409.700000</td>\n",
       "      <td>25.000000</td>\n",
       "      <td>112.000000</td>\n",
       "      <td>5.000000</td>\n",
       "      <td>39763.000000</td>\n",
       "      <td>7998.000000</td>\n",
       "      <td>3.000000</td>\n",
       "      <td>2295.000000</td>\n",
       "      <td>3.000000</td>\n",
       "      <td>1293.000000</td>\n",
       "      <td>9999.000000</td>\n",
       "      <td>1.907500e+06</td>\n",
       "      <td>6.000000</td>\n",
       "      <td>12.000000</td>\n",
       "      <td>2019.000000</td>\n",
       "      <td>0.908439</td>\n",
       "      <td>0.636986</td>\n",
       "      <td>7.000000</td>\n",
       "    </tr>\n",
       "  </tbody>\n",
       "</table>\n",
       "</div>"
      ],
      "text/plain": [
       "       total_images    last_price   total_area        rooms  ceiling_height  \\\n",
       "count   3673.000000  3.673000e+03  3673.000000  3673.000000     3673.000000   \n",
       "mean      10.264362  1.468187e+07    92.361786     2.816227        2.996542   \n",
       "std        6.004771  2.469554e+07    60.563676     1.454741        0.715933   \n",
       "min        0.000000  1.600000e+06    13.000000     0.000000        2.000000   \n",
       "25%        6.000000  6.550000e+06    56.000000     2.000000        2.700000   \n",
       "50%       10.000000  9.000000e+06    77.800000     3.000000        3.000000   \n",
       "75%       15.000000  1.400000e+07   108.700000     3.000000        3.150000   \n",
       "max       50.000000  7.630000e+08   900.000000    19.000000       32.000000   \n",
       "\n",
       "       floors_total  living_area        floor  kitchen_area      balcony  \\\n",
       "count   3673.000000  3673.000000  3673.000000   3673.000000  3673.000000   \n",
       "mean       7.247209    54.345181     4.278247     14.573912     0.330248   \n",
       "std        3.979917    38.277613     3.061623      9.665707     0.766683   \n",
       "min        2.000000     2.000000     1.000000      2.000000     0.000000   \n",
       "25%        5.000000    31.000000     2.000000      9.000000     0.000000   \n",
       "50%        6.000000    45.300000     4.000000     12.000000     0.000000   \n",
       "75%        9.000000    65.500000     5.000000     17.000000     0.000000   \n",
       "max       27.000000   409.700000    25.000000    112.000000     5.000000   \n",
       "\n",
       "       airports_nearest  cityCenters_nearest  parks_around3000  parks_nearest  \\\n",
       "count       3667.000000          3673.000000       3673.000000    2423.000000   \n",
       "mean       24644.698118          4698.630547          1.022870     464.913743   \n",
       "std         4307.752277          1766.052635          0.938478     302.700576   \n",
       "min        12388.000000           181.000000          0.000000       9.000000   \n",
       "25%        21772.000000          3602.000000          0.000000     278.500000   \n",
       "50%        24324.000000          4816.000000          1.000000     437.000000   \n",
       "75%        27125.500000          5954.000000          2.000000     596.000000   \n",
       "max        39763.000000          7998.000000          3.000000    2295.000000   \n",
       "\n",
       "       ponds_around3000  ponds_nearest  days_exposition  square_meter_price  \\\n",
       "count       3673.000000    2633.000000      3673.000000        3.673000e+03   \n",
       "mean           1.277974     463.650589      1841.473183        1.438812e+05   \n",
       "std            1.087309     270.151022      3617.205078        9.124013e+04   \n",
       "min            0.000000      22.000000         3.000000        1.534500e+04   \n",
       "25%            0.000000     227.000000        69.000000        9.999900e+04   \n",
       "50%            1.000000     449.000000       197.000000        1.235290e+05   \n",
       "75%            2.000000     666.000000       631.000000        1.547020e+05   \n",
       "max            3.000000    1293.000000      9999.000000        1.907500e+06   \n",
       "\n",
       "       weekday_exposition  month_exposition  year_exposition  living_to_total  \\\n",
       "count         3673.000000       3673.000000      3673.000000      3673.000000   \n",
       "mean             2.525456          6.420909      2017.173972         0.579054   \n",
       "std              1.722897          3.461950         1.120690         0.108819   \n",
       "min              0.000000          1.000000      2014.000000         0.021583   \n",
       "25%              1.000000          3.000000      2017.000000         0.521739   \n",
       "50%              3.000000          6.000000      2017.000000         0.581395   \n",
       "75%              4.000000         10.000000      2018.000000         0.656044   \n",
       "max              6.000000         12.000000      2019.000000         0.908439   \n",
       "\n",
       "       kitchen_to_total  cityCenters_nearest_km  \n",
       "count       3673.000000             3673.000000  \n",
       "mean           0.172759                4.202287  \n",
       "std            0.077822                1.756152  \n",
       "min            0.025381                0.000000  \n",
       "25%            0.120805                3.000000  \n",
       "50%            0.158967                4.000000  \n",
       "75%            0.197368                5.000000  \n",
       "max            0.636986                7.000000  "
      ]
     },
     "execution_count": 36,
     "metadata": {},
     "output_type": "execute_result"
    }
   ],
   "source": [
    "spb_center.describe()"
   ]
  },
  {
   "cell_type": "code",
   "execution_count": 37,
   "metadata": {},
   "outputs": [
    {
     "data": {
      "text/plain": [
       "count    3673.000000\n",
       "mean       92.361786\n",
       "std        60.563676\n",
       "min        13.000000\n",
       "25%        56.000000\n",
       "50%        77.800000\n",
       "75%       108.700000\n",
       "max       900.000000\n",
       "Name: total_area, dtype: float64"
      ]
     },
     "execution_count": 37,
     "metadata": {},
     "output_type": "execute_result"
    },
    {
     "data": {
      "image/png": "[encoded data removed]",
      "text/plain": [
       "<Figure size 360x216 with 1 Axes>"
      ]
     },
     "metadata": {
      "needs_background": "light"
     },
     "output_type": "display_data"
    }
   ],
   "source": [
    "#изучим общую площадь\n",
    "spb_center.plot(y = 'total_area', kind = 'hist', bins = 100, grid=True, figsize = (5,3), range = (0,200))\n",
    "spb_center['total_area'].describe()"
   ]
  },
  {
   "cell_type": "markdown",
   "metadata": {},
   "source": [
    "Площадь квартир в центре значительно больше, чем в целом по выборке - до 100-125 метров. Также в центре находится большое число квартир с большой площадью."
   ]
  },
  {
   "cell_type": "code",
   "execution_count": 38,
   "metadata": {},
   "outputs": [
    {
     "data": {
      "text/plain": [
       "count    3.673000e+03\n",
       "mean     1.468187e+07\n",
       "std      2.469554e+07\n",
       "min      1.600000e+06\n",
       "25%      6.550000e+06\n",
       "50%      9.000000e+06\n",
       "75%      1.400000e+07\n",
       "max      7.630000e+08\n",
       "Name: last_price, dtype: float64"
      ]
     },
     "execution_count": 38,
     "metadata": {},
     "output_type": "execute_result"
    },
    {
     "data": {
      "image/png": "[encoded data removed]",
      "text/plain": [
       "<Figure size 360x216 with 1 Axes>"
      ]
     },
     "metadata": {
      "needs_background": "light"
     },
     "output_type": "display_data"
    }
   ],
   "source": [
    "#изучим цену\n",
    "spb_center.plot(y = 'last_price', kind = 'hist', bins = 100, grid=True, range = (0,20000000), figsize = (5,3))\n",
    "spb_center['last_price'].describe()\n"
   ]
  },
  {
   "cell_type": "markdown",
   "metadata": {},
   "source": [
    "Средняя цена относительно общей выборки увеличилась на 4-5 млн. рублей, наблюдается много пиков на отметках 7-15 млн."
   ]
  },
  {
   "cell_type": "code",
   "execution_count": 39,
   "metadata": {},
   "outputs": [
    {
     "data": {
      "text/plain": [
       "count    3673.000000\n",
       "mean        2.816227\n",
       "std         1.454741\n",
       "min         0.000000\n",
       "25%         2.000000\n",
       "50%         3.000000\n",
       "75%         3.000000\n",
       "max        19.000000\n",
       "Name: rooms, dtype: float64"
      ]
     },
     "execution_count": 39,
     "metadata": {},
     "output_type": "execute_result"
    },
    {
     "data": {
      "image/png": "[encoded data removed]",
      "text/plain": [
       "<Figure size 360x360 with 1 Axes>"
      ]
     },
     "metadata": {
      "needs_background": "light"
     },
     "output_type": "display_data"
    }
   ],
   "source": [
    "#изучим число комнат\n",
    "spb_center.plot(y = 'rooms', kind = 'hist', bins = 7, grid=True, range = (1,7), figsize = (5,5))\n",
    "spb_center['rooms'].describe()"
   ]
  },
  {
   "cell_type": "markdown",
   "metadata": {},
   "source": [
    "Больше всего продается 2 и 3 комнатных квартир, в выборке также присутствуют многокомнатные квартиры."
   ]
  },
  {
   "cell_type": "code",
   "execution_count": 40,
   "metadata": {
    "scrolled": false
   },
   "outputs": [
    {
     "data": {
      "text/plain": [
       "count    3673.000000\n",
       "mean        2.996542\n",
       "std         0.715933\n",
       "min         2.000000\n",
       "25%         2.700000\n",
       "50%         3.000000\n",
       "75%         3.150000\n",
       "max        32.000000\n",
       "Name: ceiling_height, dtype: float64"
      ]
     },
     "execution_count": 40,
     "metadata": {},
     "output_type": "execute_result"
    },
    {
     "data": {
      "image/png": "[encoded data removed]",
      "text/plain": [
       "<Figure size 1080x360 with 1 Axes>"
      ]
     },
     "metadata": {
      "needs_background": "light"
     },
     "output_type": "display_data"
    }
   ],
   "source": [
    "#изучим высоту потолков\n",
    "spb_center.plot(y = 'ceiling_height', kind = 'hist', bins = 100, range = (2,5), grid=True, figsize = (15,5))\n",
    "spb_center['ceiling_height'].describe()\n"
   ]
  },
  {
   "cell_type": "markdown",
   "metadata": {},
   "source": [
    "Средняя высота потолков увеличилась по сравнению с выборкой на полметра, также присутствуют квартиры с высокими потолками. Скорее всего это квартиры в старых домах с высокими этажами."
   ]
  },
  {
   "cell_type": "code",
   "execution_count": 41,
   "metadata": {},
   "outputs": [
    {
     "data": {
      "image/png": "[encoded data removed]",
      "text/plain": [
       "<Figure size 360x360 with 1 Axes>"
      ]
     },
     "metadata": {
      "needs_background": "light"
     },
     "output_type": "display_data"
    },
    {
     "name": "stdout",
     "output_type": "stream",
     "text": [
      "Корреляция цены и числа комнат: \n",
      "\n",
      "            last_price     rooms\n",
      "last_price    1.000000  0.601575\n",
      "rooms         0.601575  1.000000 \n",
      "\n"
     ]
    },
    {
     "data": {
      "image/png": "[encoded data removed]",
      "text/plain": [
       "<Figure size 360x360 with 1 Axes>"
      ]
     },
     "metadata": {
      "needs_background": "light"
     },
     "output_type": "display_data"
    },
    {
     "data": {
      "image/png": "[encoded data removed]",
      "text/plain": [
       "<Figure size 360x360 with 1 Axes>"
      ]
     },
     "metadata": {
      "needs_background": "light"
     },
     "output_type": "display_data"
    },
    {
     "name": "stdout",
     "output_type": "stream",
     "text": [
      "Корреляция цены и удалённости от центра: \n",
      "\n",
      "                     cityCenters_nearest  last_price\n",
      "cityCenters_nearest             1.000000    0.165951\n",
      "last_price                      0.165951    1.000000 \n",
      "\n"
     ]
    }
   ],
   "source": [
    "# Зависимость цены от числа комнат\n",
    "(\n",
    "    spb_center.query('(rooms > 0) & (rooms < 7)').pivot_table(index='rooms', values='last_price')\n",
    "    .plot(grid=True, style='o-', figsize=(5, 5))\n",
    ")\n",
    "plt.show()\n",
    "print('Корреляция цены и числа комнат:','\\n')\n",
    "print(spb_center.query('(rooms > 0) & (rooms < 7)').pivot_table(index='floor', values=['rooms', 'last_price']).corr(),'\\n')\n",
    "\n",
    "# Зависимость цены от этажа\n",
    "(\n",
    "    spb_center.pivot_table(index='floor_category', values='last_price', aggfunc='median')\n",
    "    .plot(grid=True, style='o-', figsize=(5, 5))\n",
    ")\n",
    "plt.show()\n",
    "\n",
    "# Зависимость цены от удалённости от центра\n",
    "(\n",
    "    spb_center.pivot_table(index='cityCenters_nearest', values='last_price', aggfunc='median')\n",
    "    .plot(grid=True, style='o', figsize=(5, 5))\n",
    ")\n",
    "plt.show()\n",
    "print('Корреляция цены и удалённости от центра:','\\n')\n",
    "print(spb_center.pivot_table(index='floor', values=['cityCenters_nearest', 'last_price']).corr(),'\\n')"
   ]
  },
  {
   "cell_type": "code",
   "execution_count": 42,
   "metadata": {},
   "outputs": [
    {
     "data": {
      "text/plain": [
       "count    2.337400e+04\n",
       "mean     6.536688e+06\n",
       "std      1.089411e+07\n",
       "min      1.219000e+04\n",
       "25%      3.430000e+06\n",
       "50%      4.650000e+06\n",
       "75%      6.790000e+06\n",
       "max      7.630000e+08\n",
       "Name: last_price, dtype: float64"
      ]
     },
     "execution_count": 42,
     "metadata": {},
     "output_type": "execute_result"
    },
    {
     "data": {
      "image/png": "[encoded data removed]",
      "text/plain": [
       "<Figure size 360x216 with 1 Axes>"
      ]
     },
     "metadata": {
      "needs_background": "light"
     },
     "output_type": "display_data"
    }
   ],
   "source": [
    "#изучим цену\n",
    "spb_center.plot(y = 'last_price', kind = 'hist', bins = 100, grid=True, range = (0,30000000), figsize = (5,3))\n",
    "data['last_price'].describe()"
   ]
  },
  {
   "cell_type": "code",
   "execution_count": 43,
   "metadata": {},
   "outputs": [
    {
     "data": {
      "image/png": "[encoded data removed]",
      "text/plain": [
       "<Figure size 360x360 with 1 Axes>"
      ]
     },
     "metadata": {
      "needs_background": "light"
     },
     "output_type": "display_data"
    },
    {
     "data": {
      "image/png": "[encoded data removed]",
      "text/plain": [
       "<Figure size 720x360 with 1 Axes>"
      ]
     },
     "metadata": {
      "needs_background": "light"
     },
     "output_type": "display_data"
    },
    {
     "data": {
      "image/png": "[encoded data removed]",
      "text/plain": [
       "<Figure size 360x360 with 1 Axes>"
      ]
     },
     "metadata": {
      "needs_background": "light"
     },
     "output_type": "display_data"
    },
    {
     "data": {
      "image/png": "[encoded data removed]",
      "text/plain": [
       "<Figure size 360x360 with 1 Axes>"
      ]
     },
     "metadata": {
      "needs_background": "light"
     },
     "output_type": "display_data"
    }
   ],
   "source": [
    "#исключим строки с ценой более 12 млн\n",
    "# Зависимость цены от дня размещения\n",
    "(\n",
    "    spb_center.query('last_price <12000000').pivot_table(index='weekday_exposition', values='last_price')\n",
    "    .plot(grid=True, style='o-', xlim=(0,6), figsize=(5, 5))\n",
    ")\n",
    "plt.show()\n",
    "# Зависимость цены от месяца размещения\n",
    "(\n",
    "    spb_center.query('last_price > 0 and last_price < 12000000').pivot_table(index='month_exposition', values='last_price')\n",
    "    .plot(grid=True, style='o-', xlim=(1,12), figsize=(10, 5))\n",
    ")\n",
    "plt.show()\n",
    "# Зависимость цены от года размещения\n",
    "(\n",
    "    spb_center.query('last_price > 0 and last_price < 12000000').pivot_table(index='year_exposition', values='last_price')\n",
    "    .plot(grid=True, style='o-', figsize=(5, 5))\n",
    ")\n",
    "plt.show()\n",
    "\n",
    "# Зависимость стоимости кв.метра от года размещения\n",
    "(\n",
    "    spb_center.query('last_price > 0 and last_price < 12000000').pivot_table(index='year_exposition', values='square_meter_price')\n",
    "    .plot(grid=True, style='o-', figsize=(5, 5))\n",
    ")\n",
    "plt.show()\n",
    "\n"
   ]
  },
  {
   "cell_type": "markdown",
   "metadata": {},
   "source": [
    "#### Выводы \n",
    "\n",
    "- Зависимость цены квартиры от числа комнат в центре такая же, как и в целом по выборке (увеличивается пропорционально количеству комнат)\n",
    "- В центре верхний этаж стоит практически столько же, сколько и другие этажи, кроме первого\n",
    "- Стоимость квартир в центре не привязана к удаленности от центра. Это можно связать с большим количеством нестандартных квартир, а также с наличием элитной недвижимости.\n",
    "- Стоимость квартир, опубликованных в среду и пятницу самая низкая, в субботу - самая высокая\n",
    "- Стоимость квартир, опублиокванных в сентябре - самая высокая. Возможно это связано со сдачей в эксплуатацию осенью крупных ЖК, а также повышенным спросом после лета.\n",
    "- Несмотря на кризис, квартиры не сильно просели в стоимости в 15-19 годах. Скорее всего люди использовали недвижимость как способ вложения денег, тк в центре стоимость зачастую только растет. График изменения стоимости квадратного метра подтверждает этот вывод и даже показывает планомерный рост на протяжении этих лет."
   ]
  },
  {
   "cell_type": "markdown",
   "metadata": {},
   "source": [
    "## Общий вывод"
   ]
  },
  {
   "cell_type": "markdown",
   "metadata": {},
   "source": [
    "Был обработан массив данных по объявлениям размещенным в СПБ и ЛО, заполнены пропущенные значения и заменены некорректные типы данных. Добавлены дополнительные значения для удобства работы. Изучены основные параметры, влияющие на цены квартир в целом по выборке и в центре Санкт-Петербурга.\n",
    "\n",
    "Сроки продажи квартиры:\n",
    "\n",
    "- Судя по данным диаграмы размаха, быстрой продажей может считаться совершенная в течение 43 дней, а долгой - больше 255 дней. 112 дней - средний срок продажи квартиры. \n",
    "- Присутствуют квартиры, проданные за несколько дней и несколько лет. Имеет смысл изучить эти аномальные значения, чтобы сделать дополнительные выводы.\n",
    "\n",
    "Что влияет на стоимость:\n",
    "\n",
    "- Стоимость квартиры напрямую зависит от количества комнат, однако площадь квартиры определяет конечную стоимсоть за квадратный метр. Так, стоимость за квадрат в трешке может быть меньше, чем в студии.\n",
    "- Квартира на первом этаже обойдется дешевле всего. Кроме того, квартира на последнем этаже стоит дешевле, чем квартира на среднем этаже.\n",
    "- Экономический кризис 2014 года значительно повлиял на снижение цены недвижимости\n",
    "- Покупать квартиру летом и зимой выгоднее всего\n",
    "- Чем ближе квартира к центру СПб, тем она дороже, ниже описаны особености квартир в СПб\n",
    "\n",
    "Стоимость квадратного метра в топ-10 населённых пунктов:\n",
    "\n",
    "- Дороже всего квадратный метр в Санкт-Петербурге - 114848\n",
    "- Дешевле всего квадратный метр в Выборге - 58141\n",
    "\n",
    "В центре СПБ:\n",
    "\n",
    "- В радиусе 7 км в центре Петербурга, цена значительно выше, чем в целом по выборке. \n",
    "- Дешевле всего обойдется квартира на первом этаже, однако на остальных этажах квартиры стоят одинаково\n",
    "- Нет однозначного фактора, влияющего на цену, могут быть дорогие однушки и сравнительно \"дешевые\" многокомнатные квартиры. - Все зависит от конкретного дома и предложения.\n",
    "- В кризисное время люди склонны вкладывать в недвижимость в центре\n",
    "- Дороже всего квартиры, опубликованные в сентябре\n",
    "\n",
    "Замечание:\n",
    "\n",
    "- Мы изучили общий срез квартир, однако не делали его более тонкую сегментацию. Например, в зависимости от города/по годам или внешних условий. Возможно это будут более показательные цифры. \n",
    "\n"
   ]
  }
 ],
 "metadata": {
  "ExecuteTimeLog": [
   {
    "duration": 484,
    "start_time": "2022-04-25T07:34:11.934Z"
   },
   {
    "duration": 100,
    "start_time": "2022-04-25T07:37:34.500Z"
   },
   {
    "duration": 15,
    "start_time": "2022-04-25T07:40:23.560Z"
   },
   {
    "duration": 8,
    "start_time": "2022-04-25T07:42:32.363Z"
   },
   {
    "duration": 62,
    "start_time": "2022-04-25T07:44:20.906Z"
   },
   {
    "duration": 61,
    "start_time": "2022-04-25T07:49:17.301Z"
   },
   {
    "duration": 8,
    "start_time": "2022-04-25T07:49:28.690Z"
   },
   {
    "duration": 7,
    "start_time": "2022-04-25T07:50:28.992Z"
   },
   {
    "duration": 7,
    "start_time": "2022-04-25T07:50:33.700Z"
   },
   {
    "duration": 6,
    "start_time": "2022-04-25T07:51:26.502Z"
   },
   {
    "duration": 5,
    "start_time": "2022-04-25T07:55:40.636Z"
   },
   {
    "duration": 6,
    "start_time": "2022-04-25T07:57:02.359Z"
   },
   {
    "duration": 11,
    "start_time": "2022-04-25T07:57:28.724Z"
   },
   {
    "duration": 9,
    "start_time": "2022-04-25T07:57:37.181Z"
   },
   {
    "duration": 7,
    "start_time": "2022-04-25T07:58:09.434Z"
   },
   {
    "duration": 7,
    "start_time": "2022-04-25T07:58:22.457Z"
   },
   {
    "duration": 7,
    "start_time": "2022-04-25T07:58:28.689Z"
   },
   {
    "duration": 8,
    "start_time": "2022-04-25T07:59:21.222Z"
   },
   {
    "duration": 6,
    "start_time": "2022-04-25T08:04:13.778Z"
   },
   {
    "duration": 6,
    "start_time": "2022-04-25T08:04:24.762Z"
   },
   {
    "duration": 22,
    "start_time": "2022-04-25T08:05:39.940Z"
   },
   {
    "duration": 36,
    "start_time": "2022-04-25T08:06:02.840Z"
   },
   {
    "duration": 7,
    "start_time": "2022-04-25T09:11:30.222Z"
   },
   {
    "duration": 2152,
    "start_time": "2022-04-25T09:12:06.016Z"
   },
   {
    "duration": 7,
    "start_time": "2022-04-25T09:12:23.681Z"
   },
   {
    "duration": 7,
    "start_time": "2022-04-25T09:22:52.279Z"
   },
   {
    "duration": 7,
    "start_time": "2022-04-25T09:23:26.600Z"
   },
   {
    "duration": 23,
    "start_time": "2022-04-25T09:23:58.379Z"
   },
   {
    "duration": 7,
    "start_time": "2022-04-25T09:24:39.445Z"
   },
   {
    "duration": 7,
    "start_time": "2022-04-25T09:25:50.908Z"
   },
   {
    "duration": 6,
    "start_time": "2022-04-25T09:26:01.812Z"
   },
   {
    "duration": 20,
    "start_time": "2022-04-25T09:26:15.370Z"
   },
   {
    "duration": 5,
    "start_time": "2022-04-25T09:27:00.683Z"
   },
   {
    "duration": 7,
    "start_time": "2022-04-25T09:28:43.171Z"
   },
   {
    "duration": 116,
    "start_time": "2022-04-25T09:28:56.706Z"
   },
   {
    "duration": 24,
    "start_time": "2022-04-25T09:29:00.930Z"
   },
   {
    "duration": 45,
    "start_time": "2022-04-25T09:29:06.777Z"
   },
   {
    "duration": 9,
    "start_time": "2022-04-25T09:30:07.327Z"
   },
   {
    "duration": 9,
    "start_time": "2022-04-25T09:30:34.330Z"
   },
   {
    "duration": 25,
    "start_time": "2022-04-25T09:30:44.172Z"
   },
   {
    "duration": 13,
    "start_time": "2022-04-25T09:43:54.428Z"
   },
   {
    "duration": 14,
    "start_time": "2022-04-25T09:49:10.808Z"
   },
   {
    "duration": 12,
    "start_time": "2022-04-25T09:52:33.755Z"
   },
   {
    "duration": 8,
    "start_time": "2022-04-25T09:55:55.068Z"
   },
   {
    "duration": 26,
    "start_time": "2022-04-25T09:56:13.073Z"
   },
   {
    "duration": 16,
    "start_time": "2022-04-25T09:56:39.556Z"
   },
   {
    "duration": 10,
    "start_time": "2022-04-25T09:57:34.456Z"
   },
   {
    "duration": 17,
    "start_time": "2022-04-25T09:58:25.108Z"
   },
   {
    "duration": 13,
    "start_time": "2022-04-25T10:00:48.289Z"
   },
   {
    "duration": 7,
    "start_time": "2022-04-25T10:02:05.508Z"
   },
   {
    "duration": 7,
    "start_time": "2022-04-25T10:02:17.757Z"
   },
   {
    "duration": 7,
    "start_time": "2022-04-25T10:02:23.509Z"
   },
   {
    "duration": 15,
    "start_time": "2022-04-25T10:03:12.219Z"
   },
   {
    "duration": 9,
    "start_time": "2022-04-25T10:09:30.538Z"
   },
   {
    "duration": 13,
    "start_time": "2022-04-25T10:09:52.167Z"
   },
   {
    "duration": 114,
    "start_time": "2022-04-25T10:11:28.973Z"
   },
   {
    "duration": 159,
    "start_time": "2022-04-25T10:13:31.623Z"
   },
   {
    "duration": 7,
    "start_time": "2022-04-25T10:13:37.142Z"
   },
   {
    "duration": 54,
    "start_time": "2022-04-25T10:14:35.901Z"
   },
   {
    "duration": 10,
    "start_time": "2022-04-25T10:22:15.371Z"
   },
   {
    "duration": 22,
    "start_time": "2022-04-25T10:22:23.722Z"
   },
   {
    "duration": 33,
    "start_time": "2022-04-25T10:23:17.792Z"
   },
   {
    "duration": 665,
    "start_time": "2022-04-25T11:52:31.799Z"
   },
   {
    "duration": 22,
    "start_time": "2022-04-25T11:52:32.467Z"
   },
   {
    "duration": 12,
    "start_time": "2022-04-25T11:52:32.491Z"
   },
   {
    "duration": 120,
    "start_time": "2022-04-25T11:52:32.505Z"
   },
   {
    "duration": 9,
    "start_time": "2022-04-25T11:52:32.628Z"
   },
   {
    "duration": 76,
    "start_time": "2022-04-25T11:52:32.639Z"
   },
   {
    "duration": 21,
    "start_time": "2022-04-25T11:52:32.718Z"
   },
   {
    "duration": 27,
    "start_time": "2022-04-25T11:52:32.741Z"
   },
   {
    "duration": 22,
    "start_time": "2022-04-25T11:52:32.770Z"
   },
   {
    "duration": 91,
    "start_time": "2022-04-25T11:53:06.147Z"
   },
   {
    "duration": 49,
    "start_time": "2022-04-26T08:13:39.198Z"
   },
   {
    "duration": 512,
    "start_time": "2022-04-26T08:13:50.618Z"
   },
   {
    "duration": 14,
    "start_time": "2022-04-26T08:13:51.132Z"
   },
   {
    "duration": 7,
    "start_time": "2022-04-26T08:13:51.147Z"
   },
   {
    "duration": 76,
    "start_time": "2022-04-26T08:13:51.156Z"
   },
   {
    "duration": 6,
    "start_time": "2022-04-26T08:13:51.234Z"
   },
   {
    "duration": 34,
    "start_time": "2022-04-26T08:13:51.242Z"
   },
   {
    "duration": 15,
    "start_time": "2022-04-26T08:13:51.278Z"
   },
   {
    "duration": 43,
    "start_time": "2022-04-26T08:13:51.294Z"
   },
   {
    "duration": 16,
    "start_time": "2022-04-26T08:13:51.338Z"
   },
   {
    "duration": 52,
    "start_time": "2022-04-27T12:00:55.075Z"
   },
   {
    "duration": 496,
    "start_time": "2022-04-27T12:01:10.069Z"
   },
   {
    "duration": 16,
    "start_time": "2022-04-27T12:01:10.567Z"
   },
   {
    "duration": 9,
    "start_time": "2022-04-27T12:01:10.585Z"
   },
   {
    "duration": 88,
    "start_time": "2022-04-27T12:01:10.595Z"
   },
   {
    "duration": 7,
    "start_time": "2022-04-27T12:01:10.686Z"
   },
   {
    "duration": 61,
    "start_time": "2022-04-27T12:01:10.695Z"
   },
   {
    "duration": 23,
    "start_time": "2022-04-27T12:01:10.758Z"
   },
   {
    "duration": 20,
    "start_time": "2022-04-27T12:01:10.784Z"
   },
   {
    "duration": 34,
    "start_time": "2022-04-27T12:01:10.806Z"
   },
   {
    "duration": 484,
    "start_time": "2022-04-27T14:14:14.363Z"
   },
   {
    "duration": 12,
    "start_time": "2022-04-27T14:14:14.849Z"
   },
   {
    "duration": 7,
    "start_time": "2022-04-27T14:14:14.863Z"
   },
   {
    "duration": 76,
    "start_time": "2022-04-27T14:14:14.872Z"
   },
   {
    "duration": 6,
    "start_time": "2022-04-27T14:14:14.949Z"
   },
   {
    "duration": 30,
    "start_time": "2022-04-27T14:14:14.957Z"
   },
   {
    "duration": 34,
    "start_time": "2022-04-27T14:14:14.988Z"
   },
   {
    "duration": 27,
    "start_time": "2022-04-27T14:14:15.024Z"
   },
   {
    "duration": 15,
    "start_time": "2022-04-27T14:14:15.053Z"
   },
   {
    "duration": 54,
    "start_time": "2022-04-27T14:15:15.523Z"
   },
   {
    "duration": 18,
    "start_time": "2022-04-27T14:34:32.988Z"
   },
   {
    "duration": 71,
    "start_time": "2022-04-27T14:37:56.861Z"
   },
   {
    "duration": 984,
    "start_time": "2022-04-28T12:10:10.272Z"
   },
   {
    "duration": 32,
    "start_time": "2022-04-28T12:10:11.259Z"
   },
   {
    "duration": 11,
    "start_time": "2022-04-28T12:10:11.293Z"
   },
   {
    "duration": 122,
    "start_time": "2022-04-28T12:10:11.308Z"
   },
   {
    "duration": 123,
    "start_time": "2022-04-28T12:10:11.433Z"
   },
   {
    "duration": 0,
    "start_time": "2022-04-28T12:10:11.558Z"
   },
   {
    "duration": 0,
    "start_time": "2022-04-28T12:10:11.560Z"
   },
   {
    "duration": 0,
    "start_time": "2022-04-28T12:10:11.561Z"
   },
   {
    "duration": 0,
    "start_time": "2022-04-28T12:10:11.562Z"
   },
   {
    "duration": 26,
    "start_time": "2022-04-28T12:10:23.427Z"
   },
   {
    "duration": 26,
    "start_time": "2022-04-28T12:12:07.838Z"
   },
   {
    "duration": 23,
    "start_time": "2022-04-28T12:12:18.247Z"
   },
   {
    "duration": 27,
    "start_time": "2022-04-28T12:13:21.781Z"
   },
   {
    "duration": 696,
    "start_time": "2022-04-28T12:13:30.154Z"
   },
   {
    "duration": 35,
    "start_time": "2022-04-28T12:13:30.853Z"
   },
   {
    "duration": 16,
    "start_time": "2022-04-28T12:13:30.893Z"
   },
   {
    "duration": 125,
    "start_time": "2022-04-28T12:13:30.911Z"
   },
   {
    "duration": 24,
    "start_time": "2022-04-28T12:13:31.039Z"
   },
   {
    "duration": 73,
    "start_time": "2022-04-28T12:13:31.065Z"
   },
   {
    "duration": 42,
    "start_time": "2022-04-28T12:13:31.140Z"
   },
   {
    "duration": 32,
    "start_time": "2022-04-28T12:13:31.184Z"
   },
   {
    "duration": 24,
    "start_time": "2022-04-28T12:13:31.219Z"
   },
   {
    "duration": 659,
    "start_time": "2022-04-28T12:15:24.448Z"
   },
   {
    "duration": 24,
    "start_time": "2022-04-28T12:15:25.112Z"
   },
   {
    "duration": 13,
    "start_time": "2022-04-28T12:15:25.140Z"
   },
   {
    "duration": 185,
    "start_time": "2022-04-28T12:15:25.157Z"
   },
   {
    "duration": 41,
    "start_time": "2022-04-28T12:15:25.344Z"
   },
   {
    "duration": 56,
    "start_time": "2022-04-28T12:15:25.387Z"
   },
   {
    "duration": 47,
    "start_time": "2022-04-28T12:15:25.446Z"
   },
   {
    "duration": 26,
    "start_time": "2022-04-28T12:15:25.496Z"
   },
   {
    "duration": 21,
    "start_time": "2022-04-28T12:15:25.523Z"
   },
   {
    "duration": 6,
    "start_time": "2022-04-28T12:16:52.334Z"
   },
   {
    "duration": 6,
    "start_time": "2022-04-28T12:17:22.413Z"
   },
   {
    "duration": 6,
    "start_time": "2022-04-28T12:17:53.371Z"
   },
   {
    "duration": 50,
    "start_time": "2022-04-28T13:20:21.265Z"
   },
   {
    "duration": 30,
    "start_time": "2022-04-28T13:26:01.065Z"
   },
   {
    "duration": 55,
    "start_time": "2022-04-28T13:29:56.013Z"
   },
   {
    "duration": 698,
    "start_time": "2022-04-28T13:30:57.748Z"
   },
   {
    "duration": 20,
    "start_time": "2022-04-28T13:30:58.448Z"
   },
   {
    "duration": 20,
    "start_time": "2022-04-28T13:30:58.481Z"
   },
   {
    "duration": 115,
    "start_time": "2022-04-28T13:30:58.504Z"
   },
   {
    "duration": 27,
    "start_time": "2022-04-28T13:30:58.622Z"
   },
   {
    "duration": 83,
    "start_time": "2022-04-28T13:30:58.652Z"
   },
   {
    "duration": 44,
    "start_time": "2022-04-28T13:30:58.737Z"
   },
   {
    "duration": 26,
    "start_time": "2022-04-28T13:30:58.785Z"
   },
   {
    "duration": 20,
    "start_time": "2022-04-28T13:30:58.813Z"
   },
   {
    "duration": 59,
    "start_time": "2022-04-28T13:30:58.836Z"
   },
   {
    "duration": 26,
    "start_time": "2022-04-28T13:30:58.898Z"
   },
   {
    "duration": 85,
    "start_time": "2022-04-28T13:30:58.927Z"
   },
   {
    "duration": 188,
    "start_time": "2022-04-28T14:24:26.247Z"
   },
   {
    "duration": 604,
    "start_time": "2022-04-29T11:23:52.355Z"
   },
   {
    "duration": 14,
    "start_time": "2022-04-29T11:23:52.961Z"
   },
   {
    "duration": 7,
    "start_time": "2022-04-29T11:23:52.976Z"
   },
   {
    "duration": 79,
    "start_time": "2022-04-29T11:23:52.985Z"
   },
   {
    "duration": 18,
    "start_time": "2022-04-29T11:23:53.066Z"
   },
   {
    "duration": 58,
    "start_time": "2022-04-29T11:23:53.086Z"
   },
   {
    "duration": 14,
    "start_time": "2022-04-29T11:23:53.145Z"
   },
   {
    "duration": 16,
    "start_time": "2022-04-29T11:23:53.160Z"
   },
   {
    "duration": 14,
    "start_time": "2022-04-29T11:23:53.177Z"
   },
   {
    "duration": 46,
    "start_time": "2022-04-29T11:23:53.192Z"
   },
   {
    "duration": 14,
    "start_time": "2022-04-29T11:23:53.241Z"
   },
   {
    "duration": 96,
    "start_time": "2022-04-29T11:23:53.257Z"
   },
   {
    "duration": 548,
    "start_time": "2022-04-29T11:42:45.699Z"
   },
   {
    "duration": 14,
    "start_time": "2022-04-29T11:42:46.249Z"
   },
   {
    "duration": 7,
    "start_time": "2022-04-29T11:42:46.265Z"
   },
   {
    "duration": 81,
    "start_time": "2022-04-29T11:42:46.274Z"
   },
   {
    "duration": 19,
    "start_time": "2022-04-29T11:42:46.358Z"
   },
   {
    "duration": 62,
    "start_time": "2022-04-29T11:42:46.379Z"
   },
   {
    "duration": 15,
    "start_time": "2022-04-29T11:42:46.443Z"
   },
   {
    "duration": 20,
    "start_time": "2022-04-29T11:42:46.460Z"
   },
   {
    "duration": 16,
    "start_time": "2022-04-29T11:42:46.483Z"
   },
   {
    "duration": 24,
    "start_time": "2022-04-29T11:42:46.525Z"
   },
   {
    "duration": 17,
    "start_time": "2022-04-29T11:42:46.551Z"
   },
   {
    "duration": 105,
    "start_time": "2022-04-29T11:42:46.570Z"
   },
   {
    "duration": 563,
    "start_time": "2022-04-29T11:43:06.038Z"
   },
   {
    "duration": 23,
    "start_time": "2022-04-29T11:43:06.603Z"
   },
   {
    "duration": 16,
    "start_time": "2022-04-29T11:43:06.627Z"
   },
   {
    "duration": 82,
    "start_time": "2022-04-29T11:43:06.646Z"
   },
   {
    "duration": 21,
    "start_time": "2022-04-29T11:43:06.731Z"
   },
   {
    "duration": 38,
    "start_time": "2022-04-29T11:43:06.754Z"
   },
   {
    "duration": 42,
    "start_time": "2022-04-29T11:43:06.794Z"
   },
   {
    "duration": 17,
    "start_time": "2022-04-29T11:43:06.838Z"
   },
   {
    "duration": 14,
    "start_time": "2022-04-29T11:43:06.857Z"
   },
   {
    "duration": 22,
    "start_time": "2022-04-29T11:43:06.873Z"
   },
   {
    "duration": 50,
    "start_time": "2022-04-29T11:43:06.897Z"
   },
   {
    "duration": 31,
    "start_time": "2022-04-29T11:43:06.950Z"
   },
   {
    "duration": 30,
    "start_time": "2022-04-29T11:45:20.917Z"
   },
   {
    "duration": 316,
    "start_time": "2022-04-29T12:13:00.048Z"
   },
   {
    "duration": 303,
    "start_time": "2022-04-29T12:13:13.185Z"
   },
   {
    "duration": 519,
    "start_time": "2022-04-29T12:17:59.657Z"
   },
   {
    "duration": 716,
    "start_time": "2022-04-29T12:38:07.839Z"
   },
   {
    "duration": 241,
    "start_time": "2022-04-29T12:40:43.225Z"
   },
   {
    "duration": 244,
    "start_time": "2022-04-29T12:41:11.492Z"
   },
   {
    "duration": 298,
    "start_time": "2022-04-29T12:41:33.655Z"
   },
   {
    "duration": 267,
    "start_time": "2022-04-29T12:42:04.287Z"
   },
   {
    "duration": 155,
    "start_time": "2022-04-29T12:43:35.440Z"
   },
   {
    "duration": 269,
    "start_time": "2022-04-29T12:44:18.707Z"
   },
   {
    "duration": 155,
    "start_time": "2022-04-29T12:44:25.672Z"
   },
   {
    "duration": 158,
    "start_time": "2022-04-29T12:44:38.343Z"
   },
   {
    "duration": 196,
    "start_time": "2022-04-29T12:44:43.344Z"
   },
   {
    "duration": 170,
    "start_time": "2022-04-29T12:45:39.652Z"
   },
   {
    "duration": 265,
    "start_time": "2022-04-29T12:45:48.539Z"
   },
   {
    "duration": 169,
    "start_time": "2022-04-29T12:45:57.311Z"
   },
   {
    "duration": 205,
    "start_time": "2022-04-29T12:46:08.460Z"
   },
   {
    "duration": 282,
    "start_time": "2022-04-29T12:46:18.546Z"
   },
   {
    "duration": 263,
    "start_time": "2022-04-29T12:46:49.283Z"
   },
   {
    "duration": 302,
    "start_time": "2022-04-29T12:47:10.850Z"
   },
   {
    "duration": 513,
    "start_time": "2022-04-29T13:07:17.809Z"
   },
   {
    "duration": 719,
    "start_time": "2022-04-29T13:08:17.373Z"
   },
   {
    "duration": 656,
    "start_time": "2022-04-29T13:08:55.605Z"
   },
   {
    "duration": 163,
    "start_time": "2022-04-29T13:11:25.013Z"
   },
   {
    "duration": 912,
    "start_time": "2022-04-29T13:14:21.704Z"
   },
   {
    "duration": 696,
    "start_time": "2022-04-29T13:16:43.558Z"
   },
   {
    "duration": 646,
    "start_time": "2022-04-29T13:18:05.314Z"
   },
   {
    "duration": 21,
    "start_time": "2022-04-29T13:26:08.686Z"
   },
   {
    "duration": 212,
    "start_time": "2022-04-29T13:28:16.824Z"
   },
   {
    "duration": 208,
    "start_time": "2022-04-29T13:29:06.733Z"
   },
   {
    "duration": 168,
    "start_time": "2022-04-29T13:29:21.606Z"
   },
   {
    "duration": 121,
    "start_time": "2022-04-29T13:29:37.194Z"
   },
   {
    "duration": 262,
    "start_time": "2022-04-29T13:29:53.724Z"
   },
   {
    "duration": 972,
    "start_time": "2022-04-29T13:30:30.859Z"
   },
   {
    "duration": 12,
    "start_time": "2022-04-29T13:33:00.660Z"
   },
   {
    "duration": 16,
    "start_time": "2022-04-29T13:33:18.867Z"
   },
   {
    "duration": 985,
    "start_time": "2022-04-29T13:33:28.334Z"
   },
   {
    "duration": 573,
    "start_time": "2022-04-29T13:33:50.641Z"
   },
   {
    "duration": 22,
    "start_time": "2022-04-29T13:33:51.216Z"
   },
   {
    "duration": 12,
    "start_time": "2022-04-29T13:33:51.240Z"
   },
   {
    "duration": 103,
    "start_time": "2022-04-29T13:33:51.254Z"
   },
   {
    "duration": 21,
    "start_time": "2022-04-29T13:33:51.359Z"
   },
   {
    "duration": 72,
    "start_time": "2022-04-29T13:33:51.383Z"
   },
   {
    "duration": 24,
    "start_time": "2022-04-29T13:33:51.459Z"
   },
   {
    "duration": 39,
    "start_time": "2022-04-29T13:33:51.485Z"
   },
   {
    "duration": 21,
    "start_time": "2022-04-29T13:33:51.527Z"
   },
   {
    "duration": 27,
    "start_time": "2022-04-29T13:33:51.552Z"
   },
   {
    "duration": 42,
    "start_time": "2022-04-29T13:33:51.581Z"
   },
   {
    "duration": 37,
    "start_time": "2022-04-29T13:33:51.625Z"
   },
   {
    "duration": 41,
    "start_time": "2022-04-29T13:33:51.664Z"
   },
   {
    "duration": 409,
    "start_time": "2022-04-29T13:33:51.707Z"
   },
   {
    "duration": 788,
    "start_time": "2022-04-29T13:33:52.118Z"
   },
   {
    "duration": 371,
    "start_time": "2022-04-29T13:33:52.908Z"
   },
   {
    "duration": 234,
    "start_time": "2022-04-29T13:33:53.281Z"
   },
   {
    "duration": 302,
    "start_time": "2022-04-29T13:33:53.522Z"
   },
   {
    "duration": 735,
    "start_time": "2022-04-29T13:33:53.827Z"
   },
   {
    "duration": 938,
    "start_time": "2022-04-29T13:33:54.564Z"
   },
   {
    "duration": 35,
    "start_time": "2022-04-29T13:33:55.504Z"
   },
   {
    "duration": 99,
    "start_time": "2022-04-29T13:33:55.541Z"
   },
   {
    "duration": 21,
    "start_time": "2022-04-29T13:34:28.132Z"
   },
   {
    "duration": 625,
    "start_time": "2022-04-29T13:39:48.220Z"
   },
   {
    "duration": 23,
    "start_time": "2022-04-29T13:39:48.849Z"
   },
   {
    "duration": 9,
    "start_time": "2022-04-29T13:39:48.874Z"
   },
   {
    "duration": 100,
    "start_time": "2022-04-29T13:39:48.886Z"
   },
   {
    "duration": 20,
    "start_time": "2022-04-29T13:39:48.988Z"
   },
   {
    "duration": 54,
    "start_time": "2022-04-29T13:39:49.010Z"
   },
   {
    "duration": 22,
    "start_time": "2022-04-29T13:39:49.066Z"
   },
   {
    "duration": 43,
    "start_time": "2022-04-29T13:39:49.090Z"
   },
   {
    "duration": 20,
    "start_time": "2022-04-29T13:39:49.136Z"
   },
   {
    "duration": 32,
    "start_time": "2022-04-29T13:39:49.160Z"
   },
   {
    "duration": 51,
    "start_time": "2022-04-29T13:39:49.194Z"
   },
   {
    "duration": 32,
    "start_time": "2022-04-29T13:39:49.248Z"
   },
   {
    "duration": 52,
    "start_time": "2022-04-29T13:39:49.282Z"
   },
   {
    "duration": 415,
    "start_time": "2022-04-29T13:39:49.337Z"
   },
   {
    "duration": 603,
    "start_time": "2022-04-29T13:39:49.757Z"
   },
   {
    "duration": 446,
    "start_time": "2022-04-29T13:39:50.361Z"
   },
   {
    "duration": 251,
    "start_time": "2022-04-29T13:39:50.810Z"
   },
   {
    "duration": 232,
    "start_time": "2022-04-29T13:39:51.064Z"
   },
   {
    "duration": 685,
    "start_time": "2022-04-29T13:39:51.298Z"
   },
   {
    "duration": 753,
    "start_time": "2022-04-29T13:39:51.985Z"
   },
   {
    "duration": 15,
    "start_time": "2022-04-29T13:39:52.741Z"
   },
   {
    "duration": 3348,
    "start_time": "2022-04-29T13:39:52.758Z"
   },
   {
    "duration": 2069,
    "start_time": "2022-04-29T13:40:49.690Z"
   },
   {
    "duration": 313,
    "start_time": "2022-04-29T13:41:21.737Z"
   },
   {
    "duration": 280,
    "start_time": "2022-04-29T13:44:04.914Z"
   },
   {
    "duration": 11,
    "start_time": "2022-04-29T13:51:39.511Z"
   },
   {
    "duration": 159,
    "start_time": "2022-04-29T13:52:19.463Z"
   },
   {
    "duration": 157,
    "start_time": "2022-04-29T13:52:32.507Z"
   },
   {
    "duration": 137,
    "start_time": "2022-04-29T13:52:42.469Z"
   },
   {
    "duration": 150,
    "start_time": "2022-04-29T13:54:38.076Z"
   },
   {
    "duration": 150,
    "start_time": "2022-04-29T13:54:59.730Z"
   },
   {
    "duration": 147,
    "start_time": "2022-04-29T13:55:30.873Z"
   },
   {
    "duration": 144,
    "start_time": "2022-04-29T13:55:54.713Z"
   },
   {
    "duration": 10,
    "start_time": "2022-04-29T13:57:35.685Z"
   },
   {
    "duration": 143,
    "start_time": "2022-04-29T13:58:14.563Z"
   },
   {
    "duration": 202,
    "start_time": "2022-04-29T13:58:50.811Z"
   },
   {
    "duration": 129,
    "start_time": "2022-04-29T13:59:01.328Z"
   },
   {
    "duration": 151,
    "start_time": "2022-04-29T13:59:37.215Z"
   },
   {
    "duration": 135,
    "start_time": "2022-04-29T13:59:55.623Z"
   },
   {
    "duration": 2821,
    "start_time": "2022-04-29T14:03:09.762Z"
   },
   {
    "duration": 190,
    "start_time": "2022-04-29T14:03:39.059Z"
   },
   {
    "duration": 182,
    "start_time": "2022-04-29T14:04:10.508Z"
   },
   {
    "duration": 192,
    "start_time": "2022-04-29T14:04:21.835Z"
   },
   {
    "duration": 177,
    "start_time": "2022-04-29T14:04:37.018Z"
   },
   {
    "duration": 486,
    "start_time": "2022-04-30T10:47:34.079Z"
   },
   {
    "duration": 14,
    "start_time": "2022-04-30T10:47:34.567Z"
   },
   {
    "duration": 8,
    "start_time": "2022-04-30T10:47:34.583Z"
   },
   {
    "duration": 86,
    "start_time": "2022-04-30T10:47:34.592Z"
   },
   {
    "duration": 28,
    "start_time": "2022-04-30T10:47:34.680Z"
   },
   {
    "duration": 44,
    "start_time": "2022-04-30T10:47:34.710Z"
   },
   {
    "duration": 29,
    "start_time": "2022-04-30T10:47:34.756Z"
   },
   {
    "duration": 27,
    "start_time": "2022-04-30T10:47:34.786Z"
   },
   {
    "duration": 10,
    "start_time": "2022-04-30T10:47:34.815Z"
   },
   {
    "duration": 14,
    "start_time": "2022-04-30T10:47:34.826Z"
   },
   {
    "duration": 7,
    "start_time": "2022-04-30T10:47:34.842Z"
   },
   {
    "duration": 30,
    "start_time": "2022-04-30T10:47:34.850Z"
   },
   {
    "duration": 57,
    "start_time": "2022-04-30T10:47:34.881Z"
   },
   {
    "duration": 391,
    "start_time": "2022-04-30T10:47:34.941Z"
   },
   {
    "duration": 763,
    "start_time": "2022-04-30T10:47:35.334Z"
   },
   {
    "duration": 357,
    "start_time": "2022-04-30T10:47:36.099Z"
   },
   {
    "duration": 243,
    "start_time": "2022-04-30T10:47:36.458Z"
   },
   {
    "duration": 222,
    "start_time": "2022-04-30T10:47:36.712Z"
   },
   {
    "duration": 646,
    "start_time": "2022-04-30T10:47:36.935Z"
   },
   {
    "duration": 671,
    "start_time": "2022-04-30T10:47:37.583Z"
   },
   {
    "duration": 15,
    "start_time": "2022-04-30T10:47:38.256Z"
   },
   {
    "duration": 315,
    "start_time": "2022-04-30T10:47:38.272Z"
   },
   {
    "duration": 201,
    "start_time": "2022-04-30T10:47:38.588Z"
   },
   {
    "duration": 181,
    "start_time": "2022-04-30T10:47:38.792Z"
   },
   {
    "duration": 217,
    "start_time": "2022-04-30T10:47:38.975Z"
   },
   {
    "duration": 79,
    "start_time": "2022-04-30T10:58:05.681Z"
   },
   {
    "duration": 43,
    "start_time": "2022-04-30T10:58:21.776Z"
   },
   {
    "duration": 91,
    "start_time": "2022-04-30T10:59:50.560Z"
   },
   {
    "duration": 176,
    "start_time": "2022-04-30T11:01:26.740Z"
   },
   {
    "duration": 137,
    "start_time": "2022-04-30T11:15:28.596Z"
   },
   {
    "duration": 131,
    "start_time": "2022-04-30T11:15:58.322Z"
   },
   {
    "duration": 182,
    "start_time": "2022-04-30T11:20:17.189Z"
   },
   {
    "duration": 171,
    "start_time": "2022-04-30T11:20:27.452Z"
   },
   {
    "duration": 161,
    "start_time": "2022-04-30T11:21:23.452Z"
   },
   {
    "duration": 22,
    "start_time": "2022-04-30T11:21:39.409Z"
   },
   {
    "duration": 156,
    "start_time": "2022-04-30T11:22:01.418Z"
   },
   {
    "duration": 9,
    "start_time": "2022-04-30T11:42:24.091Z"
   },
   {
    "duration": 235,
    "start_time": "2022-04-30T11:50:14.490Z"
   },
   {
    "duration": 148,
    "start_time": "2022-04-30T11:56:38.761Z"
   },
   {
    "duration": 1463,
    "start_time": "2022-04-30T11:57:53.665Z"
   },
   {
    "duration": 179,
    "start_time": "2022-04-30T11:58:13.186Z"
   },
   {
    "duration": 168,
    "start_time": "2022-04-30T12:21:25.191Z"
   },
   {
    "duration": 150,
    "start_time": "2022-04-30T12:23:55.933Z"
   },
   {
    "duration": 157,
    "start_time": "2022-04-30T12:25:27.063Z"
   },
   {
    "duration": 162,
    "start_time": "2022-04-30T12:25:32.772Z"
   },
   {
    "duration": 160,
    "start_time": "2022-04-30T12:27:32.569Z"
   },
   {
    "duration": 161,
    "start_time": "2022-04-30T12:28:25.581Z"
   },
   {
    "duration": 162,
    "start_time": "2022-04-30T12:29:22.758Z"
   },
   {
    "duration": 239,
    "start_time": "2022-04-30T12:30:10.779Z"
   },
   {
    "duration": 84,
    "start_time": "2022-04-30T12:30:34.344Z"
   },
   {
    "duration": 4,
    "start_time": "2022-04-30T13:33:58.730Z"
   },
   {
    "duration": 11,
    "start_time": "2022-04-30T13:38:02.095Z"
   },
   {
    "duration": 7,
    "start_time": "2022-04-30T13:40:49.035Z"
   },
   {
    "duration": 8,
    "start_time": "2022-04-30T13:43:22.660Z"
   },
   {
    "duration": 12,
    "start_time": "2022-04-30T13:43:25.476Z"
   },
   {
    "duration": 480,
    "start_time": "2022-04-30T13:43:34.844Z"
   },
   {
    "duration": 15,
    "start_time": "2022-04-30T13:43:35.326Z"
   },
   {
    "duration": 8,
    "start_time": "2022-04-30T13:43:35.342Z"
   },
   {
    "duration": 95,
    "start_time": "2022-04-30T13:43:35.352Z"
   },
   {
    "duration": 3,
    "start_time": "2022-04-30T13:43:35.449Z"
   },
   {
    "duration": 7,
    "start_time": "2022-04-30T13:43:35.454Z"
   },
   {
    "duration": 7,
    "start_time": "2022-04-30T13:43:35.463Z"
   },
   {
    "duration": 12,
    "start_time": "2022-04-30T13:43:35.472Z"
   },
   {
    "duration": 22,
    "start_time": "2022-04-30T13:43:35.486Z"
   },
   {
    "duration": 30,
    "start_time": "2022-04-30T13:43:35.511Z"
   },
   {
    "duration": 29,
    "start_time": "2022-04-30T13:43:35.543Z"
   },
   {
    "duration": 364,
    "start_time": "2022-04-30T13:43:35.574Z"
   },
   {
    "duration": 498,
    "start_time": "2022-04-30T13:43:35.940Z"
   },
   {
    "duration": 368,
    "start_time": "2022-04-30T13:43:36.440Z"
   },
   {
    "duration": 225,
    "start_time": "2022-04-30T13:43:36.809Z"
   },
   {
    "duration": 204,
    "start_time": "2022-04-30T13:43:37.036Z"
   },
   {
    "duration": 613,
    "start_time": "2022-04-30T13:43:37.242Z"
   },
   {
    "duration": 616,
    "start_time": "2022-04-30T13:43:37.857Z"
   },
   {
    "duration": 15,
    "start_time": "2022-04-30T13:43:38.474Z"
   },
   {
    "duration": 209,
    "start_time": "2022-04-30T13:43:38.490Z"
   },
   {
    "duration": 252,
    "start_time": "2022-04-30T13:43:38.700Z"
   },
   {
    "duration": 155,
    "start_time": "2022-04-30T13:43:38.954Z"
   },
   {
    "duration": 200,
    "start_time": "2022-04-30T13:43:39.111Z"
   },
   {
    "duration": 161,
    "start_time": "2022-04-30T13:43:39.313Z"
   },
   {
    "duration": 173,
    "start_time": "2022-04-30T13:43:39.476Z"
   },
   {
    "duration": 174,
    "start_time": "2022-04-30T13:43:39.650Z"
   },
   {
    "duration": 28,
    "start_time": "2022-04-30T13:43:39.825Z"
   },
   {
    "duration": 172,
    "start_time": "2022-04-30T13:43:39.856Z"
   },
   {
    "duration": 9,
    "start_time": "2022-04-30T13:43:40.029Z"
   },
   {
    "duration": 167,
    "start_time": "2022-04-30T13:43:40.040Z"
   },
   {
    "duration": 167,
    "start_time": "2022-04-30T13:43:40.209Z"
   },
   {
    "duration": 96,
    "start_time": "2022-04-30T13:43:40.377Z"
   },
   {
    "duration": 0,
    "start_time": "2022-04-30T13:43:40.474Z"
   },
   {
    "duration": 0,
    "start_time": "2022-04-30T13:43:40.476Z"
   },
   {
    "duration": 0,
    "start_time": "2022-04-30T13:43:40.477Z"
   },
   {
    "duration": 0,
    "start_time": "2022-04-30T13:43:40.478Z"
   },
   {
    "duration": 0,
    "start_time": "2022-04-30T13:43:40.478Z"
   },
   {
    "duration": 5,
    "start_time": "2022-04-30T13:45:25.146Z"
   },
   {
    "duration": 81,
    "start_time": "2022-04-30T13:45:27.477Z"
   },
   {
    "duration": 533,
    "start_time": "2022-04-30T13:45:35.881Z"
   },
   {
    "duration": 16,
    "start_time": "2022-04-30T13:45:36.416Z"
   },
   {
    "duration": 8,
    "start_time": "2022-04-30T13:45:36.433Z"
   },
   {
    "duration": 84,
    "start_time": "2022-04-30T13:45:36.443Z"
   },
   {
    "duration": 3,
    "start_time": "2022-04-30T13:45:36.530Z"
   },
   {
    "duration": 7,
    "start_time": "2022-04-30T13:45:36.535Z"
   },
   {
    "duration": 5,
    "start_time": "2022-04-30T13:45:36.543Z"
   },
   {
    "duration": 12,
    "start_time": "2022-04-30T13:45:36.549Z"
   },
   {
    "duration": 5,
    "start_time": "2022-04-30T13:45:36.562Z"
   },
   {
    "duration": 60,
    "start_time": "2022-04-30T13:45:36.569Z"
   },
   {
    "duration": 31,
    "start_time": "2022-04-30T13:45:36.631Z"
   },
   {
    "duration": 376,
    "start_time": "2022-04-30T13:45:36.663Z"
   },
   {
    "duration": 484,
    "start_time": "2022-04-30T13:45:37.040Z"
   },
   {
    "duration": 367,
    "start_time": "2022-04-30T13:45:37.527Z"
   },
   {
    "duration": 222,
    "start_time": "2022-04-30T13:45:37.896Z"
   },
   {
    "duration": 200,
    "start_time": "2022-04-30T13:45:38.119Z"
   },
   {
    "duration": 615,
    "start_time": "2022-04-30T13:45:38.320Z"
   },
   {
    "duration": 597,
    "start_time": "2022-04-30T13:45:38.937Z"
   },
   {
    "duration": 14,
    "start_time": "2022-04-30T13:45:39.535Z"
   },
   {
    "duration": 207,
    "start_time": "2022-04-30T13:45:39.551Z"
   },
   {
    "duration": 250,
    "start_time": "2022-04-30T13:45:39.760Z"
   },
   {
    "duration": 297,
    "start_time": "2022-04-30T13:45:40.012Z"
   },
   {
    "duration": 398,
    "start_time": "2022-04-30T13:45:40.311Z"
   },
   {
    "duration": 309,
    "start_time": "2022-04-30T13:45:40.711Z"
   },
   {
    "duration": 310,
    "start_time": "2022-04-30T13:45:41.021Z"
   },
   {
    "duration": 263,
    "start_time": "2022-04-30T13:45:41.333Z"
   },
   {
    "duration": 33,
    "start_time": "2022-04-30T13:45:41.598Z"
   },
   {
    "duration": 178,
    "start_time": "2022-04-30T13:45:41.632Z"
   },
   {
    "duration": 10,
    "start_time": "2022-04-30T13:45:41.812Z"
   },
   {
    "duration": 164,
    "start_time": "2022-04-30T13:45:41.823Z"
   },
   {
    "duration": 168,
    "start_time": "2022-04-30T13:45:41.989Z"
   },
   {
    "duration": 86,
    "start_time": "2022-04-30T13:45:42.158Z"
   },
   {
    "duration": 0,
    "start_time": "2022-04-30T13:45:42.245Z"
   },
   {
    "duration": 0,
    "start_time": "2022-04-30T13:45:42.246Z"
   },
   {
    "duration": 0,
    "start_time": "2022-04-30T13:45:42.247Z"
   },
   {
    "duration": 0,
    "start_time": "2022-04-30T13:45:42.248Z"
   },
   {
    "duration": 0,
    "start_time": "2022-04-30T13:45:42.249Z"
   },
   {
    "duration": 35,
    "start_time": "2022-04-30T13:59:47.351Z"
   },
   {
    "duration": 27,
    "start_time": "2022-04-30T14:00:02.315Z"
   },
   {
    "duration": 501,
    "start_time": "2022-04-30T14:00:31.017Z"
   },
   {
    "duration": 16,
    "start_time": "2022-04-30T14:00:31.520Z"
   },
   {
    "duration": 8,
    "start_time": "2022-04-30T14:00:31.537Z"
   },
   {
    "duration": 89,
    "start_time": "2022-04-30T14:00:31.547Z"
   },
   {
    "duration": 29,
    "start_time": "2022-04-30T14:00:31.638Z"
   },
   {
    "duration": 46,
    "start_time": "2022-04-30T14:00:31.668Z"
   },
   {
    "duration": 28,
    "start_time": "2022-04-30T14:00:31.716Z"
   },
   {
    "duration": 373,
    "start_time": "2022-04-30T14:00:31.746Z"
   },
   {
    "duration": 489,
    "start_time": "2022-04-30T14:00:32.120Z"
   },
   {
    "duration": 347,
    "start_time": "2022-04-30T14:00:32.611Z"
   },
   {
    "duration": 222,
    "start_time": "2022-04-30T14:00:32.960Z"
   },
   {
    "duration": 193,
    "start_time": "2022-04-30T14:00:33.184Z"
   },
   {
    "duration": 599,
    "start_time": "2022-04-30T14:00:33.378Z"
   },
   {
    "duration": 611,
    "start_time": "2022-04-30T14:00:33.981Z"
   },
   {
    "duration": 20,
    "start_time": "2022-04-30T14:00:34.594Z"
   },
   {
    "duration": 209,
    "start_time": "2022-04-30T14:00:34.615Z"
   },
   {
    "duration": 253,
    "start_time": "2022-04-30T14:00:34.826Z"
   },
   {
    "duration": 166,
    "start_time": "2022-04-30T14:00:35.081Z"
   },
   {
    "duration": 209,
    "start_time": "2022-04-30T14:00:35.249Z"
   },
   {
    "duration": 174,
    "start_time": "2022-04-30T14:00:35.460Z"
   },
   {
    "duration": 173,
    "start_time": "2022-04-30T14:00:35.636Z"
   },
   {
    "duration": 165,
    "start_time": "2022-04-30T14:00:35.811Z"
   },
   {
    "duration": 38,
    "start_time": "2022-04-30T14:00:35.977Z"
   },
   {
    "duration": 167,
    "start_time": "2022-04-30T14:00:36.017Z"
   },
   {
    "duration": 22,
    "start_time": "2022-04-30T14:00:36.186Z"
   },
   {
    "duration": 179,
    "start_time": "2022-04-30T14:00:36.210Z"
   },
   {
    "duration": 164,
    "start_time": "2022-04-30T14:00:36.391Z"
   },
   {
    "duration": 103,
    "start_time": "2022-04-30T14:00:36.556Z"
   },
   {
    "duration": 0,
    "start_time": "2022-04-30T14:00:36.661Z"
   },
   {
    "duration": 0,
    "start_time": "2022-04-30T14:00:36.662Z"
   },
   {
    "duration": 0,
    "start_time": "2022-04-30T14:00:36.663Z"
   },
   {
    "duration": 0,
    "start_time": "2022-04-30T14:00:36.665Z"
   },
   {
    "duration": 0,
    "start_time": "2022-04-30T14:00:36.665Z"
   },
   {
    "duration": 32,
    "start_time": "2022-04-30T14:05:34.273Z"
   },
   {
    "duration": 79,
    "start_time": "2022-04-30T14:06:17.227Z"
   },
   {
    "duration": 31,
    "start_time": "2022-04-30T14:07:03.451Z"
   },
   {
    "duration": 403,
    "start_time": "2022-04-30T14:07:03.484Z"
   },
   {
    "duration": 310,
    "start_time": "2022-04-30T14:07:03.888Z"
   },
   {
    "duration": 319,
    "start_time": "2022-04-30T14:07:04.199Z"
   },
   {
    "duration": 226,
    "start_time": "2022-04-30T14:07:04.520Z"
   },
   {
    "duration": 207,
    "start_time": "2022-04-30T14:07:04.748Z"
   },
   {
    "duration": 618,
    "start_time": "2022-04-30T14:07:04.957Z"
   },
   {
    "duration": 713,
    "start_time": "2022-04-30T14:07:05.577Z"
   },
   {
    "duration": 19,
    "start_time": "2022-04-30T14:07:06.292Z"
   },
   {
    "duration": 205,
    "start_time": "2022-04-30T14:07:06.313Z"
   },
   {
    "duration": 189,
    "start_time": "2022-04-30T14:07:06.520Z"
   },
   {
    "duration": 166,
    "start_time": "2022-04-30T14:07:06.711Z"
   },
   {
    "duration": 215,
    "start_time": "2022-04-30T14:07:06.879Z"
   },
   {
    "duration": 236,
    "start_time": "2022-04-30T14:07:07.097Z"
   },
   {
    "duration": 374,
    "start_time": "2022-04-30T14:07:07.335Z"
   },
   {
    "duration": 326,
    "start_time": "2022-04-30T14:07:07.711Z"
   },
   {
    "duration": 82,
    "start_time": "2022-04-30T14:07:08.039Z"
   },
   {
    "duration": 321,
    "start_time": "2022-04-30T14:07:08.123Z"
   },
   {
    "duration": 63,
    "start_time": "2022-04-30T14:07:08.446Z"
   },
   {
    "duration": 387,
    "start_time": "2022-04-30T14:07:08.510Z"
   },
   {
    "duration": 178,
    "start_time": "2022-04-30T14:07:08.899Z"
   },
   {
    "duration": 90,
    "start_time": "2022-04-30T14:07:09.078Z"
   },
   {
    "duration": 0,
    "start_time": "2022-04-30T14:07:09.169Z"
   },
   {
    "duration": 0,
    "start_time": "2022-04-30T14:07:09.171Z"
   },
   {
    "duration": 0,
    "start_time": "2022-04-30T14:07:09.172Z"
   },
   {
    "duration": 0,
    "start_time": "2022-04-30T14:07:09.173Z"
   },
   {
    "duration": 0,
    "start_time": "2022-04-30T14:07:09.174Z"
   },
   {
    "duration": 499,
    "start_time": "2022-04-30T14:07:13.351Z"
   },
   {
    "duration": 15,
    "start_time": "2022-04-30T14:07:13.852Z"
   },
   {
    "duration": 8,
    "start_time": "2022-04-30T14:07:13.869Z"
   },
   {
    "duration": 94,
    "start_time": "2022-04-30T14:07:13.879Z"
   },
   {
    "duration": 44,
    "start_time": "2022-04-30T14:07:13.975Z"
   },
   {
    "duration": 96,
    "start_time": "2022-04-30T14:07:14.021Z"
   },
   {
    "duration": 0,
    "start_time": "2022-04-30T14:07:14.119Z"
   },
   {
    "duration": 0,
    "start_time": "2022-04-30T14:07:14.120Z"
   },
   {
    "duration": 0,
    "start_time": "2022-04-30T14:07:14.121Z"
   },
   {
    "duration": 0,
    "start_time": "2022-04-30T14:07:14.122Z"
   },
   {
    "duration": 0,
    "start_time": "2022-04-30T14:07:14.123Z"
   },
   {
    "duration": 0,
    "start_time": "2022-04-30T14:07:14.124Z"
   },
   {
    "duration": 0,
    "start_time": "2022-04-30T14:07:14.125Z"
   },
   {
    "duration": 0,
    "start_time": "2022-04-30T14:07:14.125Z"
   },
   {
    "duration": 0,
    "start_time": "2022-04-30T14:07:14.127Z"
   },
   {
    "duration": 0,
    "start_time": "2022-04-30T14:07:14.127Z"
   },
   {
    "duration": 0,
    "start_time": "2022-04-30T14:07:14.128Z"
   },
   {
    "duration": 0,
    "start_time": "2022-04-30T14:07:14.130Z"
   },
   {
    "duration": 0,
    "start_time": "2022-04-30T14:07:14.131Z"
   },
   {
    "duration": 0,
    "start_time": "2022-04-30T14:07:14.132Z"
   },
   {
    "duration": 0,
    "start_time": "2022-04-30T14:07:14.133Z"
   },
   {
    "duration": 0,
    "start_time": "2022-04-30T14:07:14.134Z"
   },
   {
    "duration": 0,
    "start_time": "2022-04-30T14:07:14.135Z"
   },
   {
    "duration": 0,
    "start_time": "2022-04-30T14:07:14.136Z"
   },
   {
    "duration": 0,
    "start_time": "2022-04-30T14:07:14.137Z"
   },
   {
    "duration": 0,
    "start_time": "2022-04-30T14:07:14.138Z"
   },
   {
    "duration": 0,
    "start_time": "2022-04-30T14:07:14.139Z"
   },
   {
    "duration": 0,
    "start_time": "2022-04-30T14:07:14.140Z"
   },
   {
    "duration": 0,
    "start_time": "2022-04-30T14:07:14.141Z"
   },
   {
    "duration": 0,
    "start_time": "2022-04-30T14:07:14.142Z"
   },
   {
    "duration": 0,
    "start_time": "2022-04-30T14:07:14.143Z"
   },
   {
    "duration": 0,
    "start_time": "2022-04-30T14:07:14.144Z"
   },
   {
    "duration": 0,
    "start_time": "2022-04-30T14:07:14.145Z"
   },
   {
    "duration": 541,
    "start_time": "2022-04-30T14:10:04.406Z"
   },
   {
    "duration": 16,
    "start_time": "2022-04-30T14:10:04.949Z"
   },
   {
    "duration": 8,
    "start_time": "2022-04-30T14:10:04.967Z"
   },
   {
    "duration": 95,
    "start_time": "2022-04-30T14:10:04.978Z"
   },
   {
    "duration": 40,
    "start_time": "2022-04-30T14:10:05.075Z"
   },
   {
    "duration": 29,
    "start_time": "2022-04-30T14:10:05.117Z"
   },
   {
    "duration": 28,
    "start_time": "2022-04-30T14:10:05.148Z"
   },
   {
    "duration": 391,
    "start_time": "2022-04-30T14:10:05.178Z"
   },
   {
    "duration": 542,
    "start_time": "2022-04-30T14:10:05.571Z"
   },
   {
    "duration": 366,
    "start_time": "2022-04-30T14:10:06.116Z"
   },
   {
    "duration": 233,
    "start_time": "2022-04-30T14:10:06.484Z"
   },
   {
    "duration": 208,
    "start_time": "2022-04-30T14:10:06.719Z"
   },
   {
    "duration": 590,
    "start_time": "2022-04-30T14:10:06.929Z"
   },
   {
    "duration": 606,
    "start_time": "2022-04-30T14:10:07.521Z"
   },
   {
    "duration": 14,
    "start_time": "2022-04-30T14:10:08.129Z"
   },
   {
    "duration": 204,
    "start_time": "2022-04-30T14:10:08.145Z"
   },
   {
    "duration": 261,
    "start_time": "2022-04-30T14:10:08.350Z"
   },
   {
    "duration": 165,
    "start_time": "2022-04-30T14:10:08.613Z"
   },
   {
    "duration": 206,
    "start_time": "2022-04-30T14:10:08.779Z"
   },
   {
    "duration": 185,
    "start_time": "2022-04-30T14:10:08.987Z"
   },
   {
    "duration": 172,
    "start_time": "2022-04-30T14:10:09.174Z"
   },
   {
    "duration": 179,
    "start_time": "2022-04-30T14:10:09.348Z"
   },
   {
    "duration": 29,
    "start_time": "2022-04-30T14:10:09.529Z"
   },
   {
    "duration": 183,
    "start_time": "2022-04-30T14:10:09.560Z"
   },
   {
    "duration": 9,
    "start_time": "2022-04-30T14:10:09.745Z"
   },
   {
    "duration": 181,
    "start_time": "2022-04-30T14:10:09.756Z"
   },
   {
    "duration": 175,
    "start_time": "2022-04-30T14:10:09.939Z"
   },
   {
    "duration": 80,
    "start_time": "2022-04-30T14:10:10.117Z"
   },
   {
    "duration": 0,
    "start_time": "2022-04-30T14:10:10.199Z"
   },
   {
    "duration": 0,
    "start_time": "2022-04-30T14:10:10.200Z"
   },
   {
    "duration": 0,
    "start_time": "2022-04-30T14:10:10.202Z"
   },
   {
    "duration": 0,
    "start_time": "2022-04-30T14:10:10.203Z"
   },
   {
    "duration": 0,
    "start_time": "2022-04-30T14:10:10.204Z"
   },
   {
    "duration": 27,
    "start_time": "2022-04-30T14:10:38.803Z"
   },
   {
    "duration": 3,
    "start_time": "2022-04-30T14:12:01.880Z"
   },
   {
    "duration": 358,
    "start_time": "2022-04-30T14:12:32.797Z"
   },
   {
    "duration": 315,
    "start_time": "2022-04-30T14:16:09.540Z"
   },
   {
    "duration": 323,
    "start_time": "2022-04-30T14:16:25.959Z"
   },
   {
    "duration": 289,
    "start_time": "2022-04-30T14:16:38.037Z"
   },
   {
    "duration": 360,
    "start_time": "2022-04-30T14:17:11.294Z"
   },
   {
    "duration": 159,
    "start_time": "2022-04-30T14:19:52.158Z"
   },
   {
    "duration": 147,
    "start_time": "2022-04-30T14:20:30.242Z"
   },
   {
    "duration": 137,
    "start_time": "2022-04-30T14:20:35.241Z"
   },
   {
    "duration": 137,
    "start_time": "2022-04-30T14:20:42.289Z"
   },
   {
    "duration": 160,
    "start_time": "2022-04-30T14:20:47.122Z"
   },
   {
    "duration": 134,
    "start_time": "2022-04-30T14:20:56.287Z"
   },
   {
    "duration": 179,
    "start_time": "2022-04-30T14:21:03.659Z"
   },
   {
    "duration": 156,
    "start_time": "2022-04-30T14:21:18.886Z"
   },
   {
    "duration": 164,
    "start_time": "2022-04-30T14:21:43.172Z"
   },
   {
    "duration": 139,
    "start_time": "2022-04-30T14:22:03.203Z"
   },
   {
    "duration": 256,
    "start_time": "2022-04-30T14:22:09.506Z"
   },
   {
    "duration": 147,
    "start_time": "2022-04-30T14:22:19.723Z"
   },
   {
    "duration": 151,
    "start_time": "2022-04-30T14:22:26.360Z"
   },
   {
    "duration": 165,
    "start_time": "2022-04-30T14:22:35.825Z"
   },
   {
    "duration": 180,
    "start_time": "2022-04-30T14:23:31.963Z"
   },
   {
    "duration": 154,
    "start_time": "2022-04-30T14:23:40.790Z"
   },
   {
    "duration": 136,
    "start_time": "2022-04-30T14:23:57.907Z"
   },
   {
    "duration": 156,
    "start_time": "2022-04-30T14:24:09.740Z"
   },
   {
    "duration": 180,
    "start_time": "2022-04-30T14:24:21.990Z"
   },
   {
    "duration": 193,
    "start_time": "2022-04-30T14:25:06.838Z"
   },
   {
    "duration": 510,
    "start_time": "2022-04-30T14:28:21.945Z"
   },
   {
    "duration": 18,
    "start_time": "2022-04-30T14:28:22.457Z"
   },
   {
    "duration": 11,
    "start_time": "2022-04-30T14:28:22.477Z"
   },
   {
    "duration": 77,
    "start_time": "2022-04-30T14:28:22.509Z"
   },
   {
    "duration": 612,
    "start_time": "2022-04-30T14:28:22.588Z"
   },
   {
    "duration": 33,
    "start_time": "2022-04-30T14:28:23.201Z"
   },
   {
    "duration": 3,
    "start_time": "2022-04-30T14:28:23.235Z"
   },
   {
    "duration": 307,
    "start_time": "2022-04-30T14:28:23.240Z"
   },
   {
    "duration": 549,
    "start_time": "2022-04-30T14:28:23.549Z"
   },
   {
    "duration": 295,
    "start_time": "2022-04-30T14:28:24.101Z"
   },
   {
    "duration": 209,
    "start_time": "2022-04-30T14:28:24.398Z"
   },
   {
    "duration": 200,
    "start_time": "2022-04-30T14:28:24.609Z"
   },
   {
    "duration": 580,
    "start_time": "2022-04-30T14:28:24.810Z"
   },
   {
    "duration": 667,
    "start_time": "2022-04-30T14:28:25.391Z"
   },
   {
    "duration": 17,
    "start_time": "2022-04-30T14:28:26.060Z"
   },
   {
    "duration": 210,
    "start_time": "2022-04-30T14:28:26.078Z"
   },
   {
    "duration": 178,
    "start_time": "2022-04-30T14:28:26.290Z"
   },
   {
    "duration": 165,
    "start_time": "2022-04-30T14:28:26.470Z"
   },
   {
    "duration": 203,
    "start_time": "2022-04-30T14:28:26.636Z"
   },
   {
    "duration": 183,
    "start_time": "2022-04-30T14:28:26.841Z"
   },
   {
    "duration": 169,
    "start_time": "2022-04-30T14:28:27.026Z"
   },
   {
    "duration": 174,
    "start_time": "2022-04-30T14:28:27.197Z"
   },
   {
    "duration": 38,
    "start_time": "2022-04-30T14:28:27.372Z"
   },
   {
    "duration": 216,
    "start_time": "2022-04-30T14:28:27.412Z"
   },
   {
    "duration": 9,
    "start_time": "2022-04-30T14:28:27.630Z"
   },
   {
    "duration": 374,
    "start_time": "2022-04-30T14:28:27.640Z"
   },
   {
    "duration": 326,
    "start_time": "2022-04-30T14:28:28.016Z"
   },
   {
    "duration": 91,
    "start_time": "2022-04-30T14:28:28.345Z"
   },
   {
    "duration": 0,
    "start_time": "2022-04-30T14:28:28.438Z"
   },
   {
    "duration": 0,
    "start_time": "2022-04-30T14:28:28.439Z"
   },
   {
    "duration": 0,
    "start_time": "2022-04-30T14:28:28.440Z"
   },
   {
    "duration": 0,
    "start_time": "2022-04-30T14:28:28.441Z"
   },
   {
    "duration": 0,
    "start_time": "2022-04-30T14:28:28.443Z"
   },
   {
    "duration": 241,
    "start_time": "2022-04-30T14:28:53.746Z"
   },
   {
    "duration": 205,
    "start_time": "2022-04-30T14:29:04.395Z"
   },
   {
    "duration": 223,
    "start_time": "2022-04-30T14:29:13.520Z"
   },
   {
    "duration": 299,
    "start_time": "2022-04-30T14:29:31.708Z"
   },
   {
    "duration": 314,
    "start_time": "2022-04-30T14:29:50.373Z"
   },
   {
    "duration": 5,
    "start_time": "2022-04-30T14:33:08.361Z"
   },
   {
    "duration": 554,
    "start_time": "2022-04-30T14:33:39.511Z"
   },
   {
    "duration": 639,
    "start_time": "2022-04-30T14:41:02.078Z"
   },
   {
    "duration": 575,
    "start_time": "2022-04-30T14:50:34.532Z"
   },
   {
    "duration": 2,
    "start_time": "2022-04-30T14:51:49.578Z"
   },
   {
    "duration": 197,
    "start_time": "2022-04-30T14:53:16.303Z"
   },
   {
    "duration": 189,
    "start_time": "2022-04-30T14:53:28.249Z"
   },
   {
    "duration": 188,
    "start_time": "2022-04-30T14:59:58.980Z"
   },
   {
    "duration": 690,
    "start_time": "2022-04-30T15:16:11.867Z"
   },
   {
    "duration": 793,
    "start_time": "2022-04-30T15:17:23.341Z"
   },
   {
    "duration": 553,
    "start_time": "2022-04-30T15:18:44.695Z"
   },
   {
    "duration": 17,
    "start_time": "2022-04-30T15:18:45.251Z"
   },
   {
    "duration": 10,
    "start_time": "2022-04-30T15:18:45.270Z"
   },
   {
    "duration": 91,
    "start_time": "2022-04-30T15:18:45.282Z"
   },
   {
    "duration": 587,
    "start_time": "2022-04-30T15:18:45.375Z"
   },
   {
    "duration": 30,
    "start_time": "2022-04-30T15:18:45.964Z"
   },
   {
    "duration": 13,
    "start_time": "2022-04-30T15:18:45.995Z"
   },
   {
    "duration": 329,
    "start_time": "2022-04-30T15:18:46.010Z"
   },
   {
    "duration": 595,
    "start_time": "2022-04-30T15:18:46.340Z"
   },
   {
    "duration": 306,
    "start_time": "2022-04-30T15:18:46.937Z"
   },
   {
    "duration": 174,
    "start_time": "2022-04-30T15:18:47.245Z"
   },
   {
    "duration": 313,
    "start_time": "2022-04-30T15:18:47.421Z"
   },
   {
    "duration": 596,
    "start_time": "2022-04-30T15:18:47.736Z"
   },
   {
    "duration": 794,
    "start_time": "2022-04-30T15:18:48.336Z"
   },
   {
    "duration": 2,
    "start_time": "2022-04-30T15:18:49.132Z"
   },
   {
    "duration": 194,
    "start_time": "2022-04-30T15:18:49.137Z"
   },
   {
    "duration": 177,
    "start_time": "2022-04-30T15:18:49.333Z"
   },
   {
    "duration": 173,
    "start_time": "2022-04-30T15:18:49.512Z"
   },
   {
    "duration": 202,
    "start_time": "2022-04-30T15:18:49.687Z"
   },
   {
    "duration": 184,
    "start_time": "2022-04-30T15:18:49.891Z"
   },
   {
    "duration": 174,
    "start_time": "2022-04-30T15:18:50.077Z"
   },
   {
    "duration": 169,
    "start_time": "2022-04-30T15:18:50.253Z"
   },
   {
    "duration": 29,
    "start_time": "2022-04-30T15:18:50.424Z"
   },
   {
    "duration": 175,
    "start_time": "2022-04-30T15:18:50.455Z"
   },
   {
    "duration": 10,
    "start_time": "2022-04-30T15:18:50.631Z"
   },
   {
    "duration": 166,
    "start_time": "2022-04-30T15:18:50.643Z"
   },
   {
    "duration": 252,
    "start_time": "2022-04-30T15:18:50.811Z"
   },
   {
    "duration": 88,
    "start_time": "2022-04-30T15:18:51.064Z"
   },
   {
    "duration": 0,
    "start_time": "2022-04-30T15:18:51.154Z"
   },
   {
    "duration": 0,
    "start_time": "2022-04-30T15:18:51.155Z"
   },
   {
    "duration": 0,
    "start_time": "2022-04-30T15:18:51.156Z"
   },
   {
    "duration": 0,
    "start_time": "2022-04-30T15:18:51.158Z"
   },
   {
    "duration": 0,
    "start_time": "2022-04-30T15:18:51.159Z"
   },
   {
    "duration": 688,
    "start_time": "2022-04-30T15:20:29.627Z"
   },
   {
    "duration": 695,
    "start_time": "2022-04-30T15:20:45.516Z"
   },
   {
    "duration": 671,
    "start_time": "2022-04-30T15:21:49.296Z"
   },
   {
    "duration": 659,
    "start_time": "2022-04-30T15:22:36.141Z"
   },
   {
    "duration": 561,
    "start_time": "2022-04-30T15:23:31.398Z"
   },
   {
    "duration": 531,
    "start_time": "2022-04-30T15:23:41.202Z"
   },
   {
    "duration": 16,
    "start_time": "2022-04-30T15:23:41.735Z"
   },
   {
    "duration": 9,
    "start_time": "2022-04-30T15:23:41.752Z"
   },
   {
    "duration": 91,
    "start_time": "2022-04-30T15:23:41.763Z"
   },
   {
    "duration": 571,
    "start_time": "2022-04-30T15:23:41.856Z"
   },
   {
    "duration": 28,
    "start_time": "2022-04-30T15:23:42.429Z"
   },
   {
    "duration": 2,
    "start_time": "2022-04-30T15:23:42.459Z"
   },
   {
    "duration": 320,
    "start_time": "2022-04-30T15:23:42.463Z"
   },
   {
    "duration": 586,
    "start_time": "2022-04-30T15:23:42.785Z"
   },
   {
    "duration": 302,
    "start_time": "2022-04-30T15:23:43.374Z"
   },
   {
    "duration": 175,
    "start_time": "2022-04-30T15:23:43.678Z"
   },
   {
    "duration": 326,
    "start_time": "2022-04-30T15:23:43.854Z"
   },
   {
    "duration": 608,
    "start_time": "2022-04-30T15:23:44.181Z"
   },
   {
    "duration": 670,
    "start_time": "2022-04-30T15:23:44.791Z"
   },
   {
    "duration": 2,
    "start_time": "2022-04-30T15:23:45.463Z"
   },
   {
    "duration": 210,
    "start_time": "2022-04-30T15:23:45.467Z"
   },
   {
    "duration": 184,
    "start_time": "2022-04-30T15:23:45.679Z"
   },
   {
    "duration": 177,
    "start_time": "2022-04-30T15:23:45.864Z"
   },
   {
    "duration": 215,
    "start_time": "2022-04-30T15:23:46.042Z"
   },
   {
    "duration": 188,
    "start_time": "2022-04-30T15:23:46.259Z"
   },
   {
    "duration": 181,
    "start_time": "2022-04-30T15:23:46.448Z"
   },
   {
    "duration": 177,
    "start_time": "2022-04-30T15:23:46.632Z"
   },
   {
    "duration": 32,
    "start_time": "2022-04-30T15:23:46.811Z"
   },
   {
    "duration": 190,
    "start_time": "2022-04-30T15:23:46.846Z"
   },
   {
    "duration": 10,
    "start_time": "2022-04-30T15:23:47.038Z"
   },
   {
    "duration": 183,
    "start_time": "2022-04-30T15:23:47.050Z"
   },
   {
    "duration": 245,
    "start_time": "2022-04-30T15:23:47.235Z"
   },
   {
    "duration": 84,
    "start_time": "2022-04-30T15:23:47.483Z"
   },
   {
    "duration": 0,
    "start_time": "2022-04-30T15:23:47.568Z"
   },
   {
    "duration": 0,
    "start_time": "2022-04-30T15:23:47.570Z"
   },
   {
    "duration": 0,
    "start_time": "2022-04-30T15:23:47.571Z"
   },
   {
    "duration": 0,
    "start_time": "2022-04-30T15:23:47.572Z"
   },
   {
    "duration": 0,
    "start_time": "2022-04-30T15:23:47.573Z"
   },
   {
    "duration": 513,
    "start_time": "2022-04-30T15:24:25.515Z"
   },
   {
    "duration": 15,
    "start_time": "2022-04-30T15:24:26.030Z"
   },
   {
    "duration": 7,
    "start_time": "2022-04-30T15:24:26.047Z"
   },
   {
    "duration": 92,
    "start_time": "2022-04-30T15:24:26.056Z"
   },
   {
    "duration": 545,
    "start_time": "2022-04-30T15:24:26.149Z"
   },
   {
    "duration": 37,
    "start_time": "2022-04-30T15:24:26.696Z"
   },
   {
    "duration": 2,
    "start_time": "2022-04-30T15:24:26.735Z"
   },
   {
    "duration": 309,
    "start_time": "2022-04-30T15:24:26.738Z"
   },
   {
    "duration": 563,
    "start_time": "2022-04-30T15:24:27.049Z"
   },
   {
    "duration": 297,
    "start_time": "2022-04-30T15:24:27.615Z"
   },
   {
    "duration": 174,
    "start_time": "2022-04-30T15:24:27.914Z"
   },
   {
    "duration": 317,
    "start_time": "2022-04-30T15:24:28.090Z"
   },
   {
    "duration": 601,
    "start_time": "2022-04-30T15:24:28.409Z"
   },
   {
    "duration": 778,
    "start_time": "2022-04-30T15:24:29.011Z"
   },
   {
    "duration": 2,
    "start_time": "2022-04-30T15:24:29.791Z"
   },
   {
    "duration": 186,
    "start_time": "2022-04-30T15:24:29.807Z"
   },
   {
    "duration": 175,
    "start_time": "2022-04-30T15:24:29.994Z"
   },
   {
    "duration": 172,
    "start_time": "2022-04-30T15:24:30.171Z"
   },
   {
    "duration": 189,
    "start_time": "2022-04-30T15:24:30.344Z"
   },
   {
    "duration": 175,
    "start_time": "2022-04-30T15:24:30.535Z"
   },
   {
    "duration": 172,
    "start_time": "2022-04-30T15:24:30.712Z"
   },
   {
    "duration": 171,
    "start_time": "2022-04-30T15:24:30.885Z"
   },
   {
    "duration": 29,
    "start_time": "2022-04-30T15:24:31.058Z"
   },
   {
    "duration": 175,
    "start_time": "2022-04-30T15:24:31.089Z"
   },
   {
    "duration": 9,
    "start_time": "2022-04-30T15:24:31.265Z"
   },
   {
    "duration": 170,
    "start_time": "2022-04-30T15:24:31.276Z"
   },
   {
    "duration": 248,
    "start_time": "2022-04-30T15:24:31.448Z"
   },
   {
    "duration": 83,
    "start_time": "2022-04-30T15:24:31.699Z"
   },
   {
    "duration": 0,
    "start_time": "2022-04-30T15:24:31.784Z"
   },
   {
    "duration": 0,
    "start_time": "2022-04-30T15:24:31.785Z"
   },
   {
    "duration": 0,
    "start_time": "2022-04-30T15:24:31.787Z"
   },
   {
    "duration": 0,
    "start_time": "2022-04-30T15:24:31.788Z"
   },
   {
    "duration": 0,
    "start_time": "2022-04-30T15:24:31.789Z"
   },
   {
    "duration": 594,
    "start_time": "2022-04-30T15:37:50.588Z"
   },
   {
    "duration": 89,
    "start_time": "2022-04-30T15:38:27.362Z"
   },
   {
    "duration": 91,
    "start_time": "2022-04-30T15:38:45.648Z"
   },
   {
    "duration": 380,
    "start_time": "2022-04-30T15:38:53.676Z"
   },
   {
    "duration": 857,
    "start_time": "2022-04-30T15:39:31.006Z"
   },
   {
    "duration": 10,
    "start_time": "2022-04-30T15:39:44.445Z"
   },
   {
    "duration": 493,
    "start_time": "2022-04-30T15:40:34.651Z"
   },
   {
    "duration": 565,
    "start_time": "2022-04-30T15:41:19.182Z"
   },
   {
    "duration": 16,
    "start_time": "2022-04-30T15:41:19.749Z"
   },
   {
    "duration": 9,
    "start_time": "2022-04-30T15:41:19.767Z"
   },
   {
    "duration": 97,
    "start_time": "2022-04-30T15:41:19.778Z"
   },
   {
    "duration": 589,
    "start_time": "2022-04-30T15:41:19.877Z"
   },
   {
    "duration": 39,
    "start_time": "2022-04-30T15:41:20.468Z"
   },
   {
    "duration": 2,
    "start_time": "2022-04-30T15:41:20.509Z"
   },
   {
    "duration": 315,
    "start_time": "2022-04-30T15:41:20.513Z"
   },
   {
    "duration": 580,
    "start_time": "2022-04-30T15:41:20.829Z"
   },
   {
    "duration": 313,
    "start_time": "2022-04-30T15:41:21.411Z"
   },
   {
    "duration": 187,
    "start_time": "2022-04-30T15:41:21.726Z"
   },
   {
    "duration": 327,
    "start_time": "2022-04-30T15:41:21.915Z"
   },
   {
    "duration": 513,
    "start_time": "2022-04-30T15:41:22.244Z"
   },
   {
    "duration": 47,
    "start_time": "2022-04-30T15:41:22.761Z"
   },
   {
    "duration": 81,
    "start_time": "2022-04-30T15:41:22.810Z"
   },
   {
    "duration": 0,
    "start_time": "2022-04-30T15:41:22.893Z"
   },
   {
    "duration": 0,
    "start_time": "2022-04-30T15:41:22.894Z"
   },
   {
    "duration": 0,
    "start_time": "2022-04-30T15:41:22.907Z"
   },
   {
    "duration": 0,
    "start_time": "2022-04-30T15:41:22.909Z"
   },
   {
    "duration": 0,
    "start_time": "2022-04-30T15:41:22.910Z"
   },
   {
    "duration": 0,
    "start_time": "2022-04-30T15:41:22.911Z"
   },
   {
    "duration": 0,
    "start_time": "2022-04-30T15:41:22.913Z"
   },
   {
    "duration": 0,
    "start_time": "2022-04-30T15:41:22.914Z"
   },
   {
    "duration": 0,
    "start_time": "2022-04-30T15:41:22.915Z"
   },
   {
    "duration": 0,
    "start_time": "2022-04-30T15:41:22.917Z"
   },
   {
    "duration": 0,
    "start_time": "2022-04-30T15:41:22.918Z"
   },
   {
    "duration": 1,
    "start_time": "2022-04-30T15:41:22.919Z"
   },
   {
    "duration": 0,
    "start_time": "2022-04-30T15:41:22.921Z"
   },
   {
    "duration": 0,
    "start_time": "2022-04-30T15:41:22.922Z"
   },
   {
    "duration": 0,
    "start_time": "2022-04-30T15:41:22.924Z"
   },
   {
    "duration": 0,
    "start_time": "2022-04-30T15:41:22.925Z"
   },
   {
    "duration": 0,
    "start_time": "2022-04-30T15:41:22.926Z"
   },
   {
    "duration": 0,
    "start_time": "2022-04-30T15:41:22.927Z"
   },
   {
    "duration": 0,
    "start_time": "2022-04-30T15:41:22.928Z"
   },
   {
    "duration": 521,
    "start_time": "2022-04-30T15:45:45.817Z"
   },
   {
    "duration": 15,
    "start_time": "2022-04-30T15:45:46.340Z"
   },
   {
    "duration": 8,
    "start_time": "2022-04-30T15:45:46.356Z"
   },
   {
    "duration": 90,
    "start_time": "2022-04-30T15:45:46.367Z"
   },
   {
    "duration": 582,
    "start_time": "2022-04-30T15:45:46.459Z"
   },
   {
    "duration": 27,
    "start_time": "2022-04-30T15:45:47.043Z"
   },
   {
    "duration": 2,
    "start_time": "2022-04-30T15:45:47.072Z"
   },
   {
    "duration": 315,
    "start_time": "2022-04-30T15:45:47.076Z"
   },
   {
    "duration": 580,
    "start_time": "2022-04-30T15:45:47.393Z"
   },
   {
    "duration": 304,
    "start_time": "2022-04-30T15:45:47.976Z"
   },
   {
    "duration": 177,
    "start_time": "2022-04-30T15:45:48.281Z"
   },
   {
    "duration": 316,
    "start_time": "2022-04-30T15:45:48.460Z"
   },
   {
    "duration": 505,
    "start_time": "2022-04-30T15:45:48.778Z"
   },
   {
    "duration": 91,
    "start_time": "2022-04-30T15:45:49.285Z"
   },
   {
    "duration": 0,
    "start_time": "2022-04-30T15:45:49.378Z"
   },
   {
    "duration": 0,
    "start_time": "2022-04-30T15:45:49.380Z"
   },
   {
    "duration": 0,
    "start_time": "2022-04-30T15:45:49.381Z"
   },
   {
    "duration": 0,
    "start_time": "2022-04-30T15:45:49.382Z"
   },
   {
    "duration": 0,
    "start_time": "2022-04-30T15:45:49.383Z"
   },
   {
    "duration": 0,
    "start_time": "2022-04-30T15:45:49.384Z"
   },
   {
    "duration": 0,
    "start_time": "2022-04-30T15:45:49.385Z"
   },
   {
    "duration": 0,
    "start_time": "2022-04-30T15:45:49.386Z"
   },
   {
    "duration": 0,
    "start_time": "2022-04-30T15:45:49.387Z"
   },
   {
    "duration": 0,
    "start_time": "2022-04-30T15:45:49.388Z"
   },
   {
    "duration": 0,
    "start_time": "2022-04-30T15:45:49.408Z"
   },
   {
    "duration": 0,
    "start_time": "2022-04-30T15:45:49.409Z"
   },
   {
    "duration": 0,
    "start_time": "2022-04-30T15:45:49.410Z"
   },
   {
    "duration": 0,
    "start_time": "2022-04-30T15:45:49.411Z"
   },
   {
    "duration": 0,
    "start_time": "2022-04-30T15:45:49.412Z"
   },
   {
    "duration": 0,
    "start_time": "2022-04-30T15:45:49.413Z"
   },
   {
    "duration": 0,
    "start_time": "2022-04-30T15:45:49.414Z"
   },
   {
    "duration": 0,
    "start_time": "2022-04-30T15:45:49.416Z"
   },
   {
    "duration": 0,
    "start_time": "2022-04-30T15:45:49.416Z"
   },
   {
    "duration": 510,
    "start_time": "2022-04-30T15:46:27.722Z"
   },
   {
    "duration": 15,
    "start_time": "2022-04-30T15:46:28.234Z"
   },
   {
    "duration": 8,
    "start_time": "2022-04-30T15:46:28.251Z"
   },
   {
    "duration": 85,
    "start_time": "2022-04-30T15:46:28.261Z"
   },
   {
    "duration": 589,
    "start_time": "2022-04-30T15:46:28.348Z"
   },
   {
    "duration": 29,
    "start_time": "2022-04-30T15:46:28.939Z"
   },
   {
    "duration": 2,
    "start_time": "2022-04-30T15:46:28.969Z"
   },
   {
    "duration": 313,
    "start_time": "2022-04-30T15:46:28.973Z"
   },
   {
    "duration": 650,
    "start_time": "2022-04-30T15:46:29.288Z"
   },
   {
    "duration": 352,
    "start_time": "2022-04-30T15:46:29.940Z"
   },
   {
    "duration": 187,
    "start_time": "2022-04-30T15:46:30.294Z"
   },
   {
    "duration": 341,
    "start_time": "2022-04-30T15:46:30.483Z"
   },
   {
    "duration": 517,
    "start_time": "2022-04-30T15:46:30.825Z"
   },
   {
    "duration": 91,
    "start_time": "2022-04-30T15:46:31.345Z"
   },
   {
    "duration": 0,
    "start_time": "2022-04-30T15:46:31.438Z"
   },
   {
    "duration": 0,
    "start_time": "2022-04-30T15:46:31.440Z"
   },
   {
    "duration": 0,
    "start_time": "2022-04-30T15:46:31.441Z"
   },
   {
    "duration": 0,
    "start_time": "2022-04-30T15:46:31.442Z"
   },
   {
    "duration": 0,
    "start_time": "2022-04-30T15:46:31.443Z"
   },
   {
    "duration": 0,
    "start_time": "2022-04-30T15:46:31.444Z"
   },
   {
    "duration": 0,
    "start_time": "2022-04-30T15:46:31.445Z"
   },
   {
    "duration": 0,
    "start_time": "2022-04-30T15:46:31.446Z"
   },
   {
    "duration": 0,
    "start_time": "2022-04-30T15:46:31.447Z"
   },
   {
    "duration": 0,
    "start_time": "2022-04-30T15:46:31.448Z"
   },
   {
    "duration": 0,
    "start_time": "2022-04-30T15:46:31.449Z"
   },
   {
    "duration": 0,
    "start_time": "2022-04-30T15:46:31.450Z"
   },
   {
    "duration": 0,
    "start_time": "2022-04-30T15:46:31.451Z"
   },
   {
    "duration": 0,
    "start_time": "2022-04-30T15:46:31.452Z"
   },
   {
    "duration": 0,
    "start_time": "2022-04-30T15:46:31.453Z"
   },
   {
    "duration": 0,
    "start_time": "2022-04-30T15:46:31.454Z"
   },
   {
    "duration": 0,
    "start_time": "2022-04-30T15:46:31.455Z"
   },
   {
    "duration": 0,
    "start_time": "2022-04-30T15:46:31.456Z"
   },
   {
    "duration": 0,
    "start_time": "2022-04-30T15:46:31.457Z"
   },
   {
    "duration": 547,
    "start_time": "2022-04-30T15:47:14.008Z"
   },
   {
    "duration": 16,
    "start_time": "2022-04-30T15:47:14.557Z"
   },
   {
    "duration": 8,
    "start_time": "2022-04-30T15:47:14.575Z"
   },
   {
    "duration": 88,
    "start_time": "2022-04-30T15:47:14.586Z"
   },
   {
    "duration": 586,
    "start_time": "2022-04-30T15:47:14.675Z"
   },
   {
    "duration": 44,
    "start_time": "2022-04-30T15:47:15.263Z"
   },
   {
    "duration": 3,
    "start_time": "2022-04-30T15:47:15.310Z"
   },
   {
    "duration": 315,
    "start_time": "2022-04-30T15:47:15.315Z"
   },
   {
    "duration": 605,
    "start_time": "2022-04-30T15:47:15.632Z"
   },
   {
    "duration": 323,
    "start_time": "2022-04-30T15:47:16.242Z"
   },
   {
    "duration": 181,
    "start_time": "2022-04-30T15:47:16.567Z"
   },
   {
    "duration": 333,
    "start_time": "2022-04-30T15:47:16.750Z"
   },
   {
    "duration": 524,
    "start_time": "2022-04-30T15:47:17.085Z"
   },
   {
    "duration": 710,
    "start_time": "2022-04-30T15:47:17.611Z"
   },
   {
    "duration": 3,
    "start_time": "2022-04-30T15:47:18.322Z"
   },
   {
    "duration": 213,
    "start_time": "2022-04-30T15:47:18.326Z"
   },
   {
    "duration": 194,
    "start_time": "2022-04-30T15:47:18.540Z"
   },
   {
    "duration": 178,
    "start_time": "2022-04-30T15:47:18.736Z"
   },
   {
    "duration": 221,
    "start_time": "2022-04-30T15:47:18.915Z"
   },
   {
    "duration": 196,
    "start_time": "2022-04-30T15:47:19.137Z"
   },
   {
    "duration": 175,
    "start_time": "2022-04-30T15:47:19.335Z"
   },
   {
    "duration": 183,
    "start_time": "2022-04-30T15:47:19.511Z"
   },
   {
    "duration": 39,
    "start_time": "2022-04-30T15:47:19.696Z"
   },
   {
    "duration": 182,
    "start_time": "2022-04-30T15:47:19.737Z"
   },
   {
    "duration": 10,
    "start_time": "2022-04-30T15:47:19.920Z"
   },
   {
    "duration": 182,
    "start_time": "2022-04-30T15:47:19.932Z"
   },
   {
    "duration": 266,
    "start_time": "2022-04-30T15:47:20.116Z"
   },
   {
    "duration": 86,
    "start_time": "2022-04-30T15:47:20.386Z"
   },
   {
    "duration": 0,
    "start_time": "2022-04-30T15:47:20.474Z"
   },
   {
    "duration": 0,
    "start_time": "2022-04-30T15:47:20.475Z"
   },
   {
    "duration": 0,
    "start_time": "2022-04-30T15:47:20.476Z"
   },
   {
    "duration": 0,
    "start_time": "2022-04-30T15:47:20.477Z"
   },
   {
    "duration": 0,
    "start_time": "2022-04-30T15:47:20.478Z"
   },
   {
    "duration": 168,
    "start_time": "2022-04-30T15:50:22.772Z"
   },
   {
    "duration": 159,
    "start_time": "2022-04-30T15:50:59.767Z"
   },
   {
    "duration": 165,
    "start_time": "2022-04-30T15:51:15.279Z"
   },
   {
    "duration": 173,
    "start_time": "2022-04-30T15:52:24.154Z"
   },
   {
    "duration": 193,
    "start_time": "2022-04-30T15:55:00.580Z"
   },
   {
    "duration": 187,
    "start_time": "2022-04-30T15:56:38.370Z"
   },
   {
    "duration": 182,
    "start_time": "2022-04-30T15:59:43.385Z"
   },
   {
    "duration": 186,
    "start_time": "2022-04-30T15:59:51.029Z"
   },
   {
    "duration": 177,
    "start_time": "2022-04-30T16:00:05.343Z"
   },
   {
    "duration": 200,
    "start_time": "2022-04-30T16:00:15.045Z"
   },
   {
    "duration": 416,
    "start_time": "2022-04-30T16:03:46.818Z"
   },
   {
    "duration": 368,
    "start_time": "2022-04-30T16:04:03.703Z"
   },
   {
    "duration": 190,
    "start_time": "2022-04-30T16:05:05.190Z"
   },
   {
    "duration": 181,
    "start_time": "2022-04-30T16:05:10.160Z"
   },
   {
    "duration": 180,
    "start_time": "2022-04-30T16:09:32.009Z"
   },
   {
    "duration": 188,
    "start_time": "2022-04-30T16:10:47.978Z"
   },
   {
    "duration": 495,
    "start_time": "2022-04-30T16:13:59.754Z"
   },
   {
    "duration": 15,
    "start_time": "2022-04-30T16:14:00.251Z"
   },
   {
    "duration": 8,
    "start_time": "2022-04-30T16:14:00.267Z"
   },
   {
    "duration": 88,
    "start_time": "2022-04-30T16:14:00.277Z"
   },
   {
    "duration": 571,
    "start_time": "2022-04-30T16:14:00.368Z"
   },
   {
    "duration": 30,
    "start_time": "2022-04-30T16:14:00.941Z"
   },
   {
    "duration": 3,
    "start_time": "2022-04-30T16:14:00.973Z"
   },
   {
    "duration": 325,
    "start_time": "2022-04-30T16:14:00.978Z"
   },
   {
    "duration": 571,
    "start_time": "2022-04-30T16:14:01.304Z"
   },
   {
    "duration": 308,
    "start_time": "2022-04-30T16:14:01.877Z"
   },
   {
    "duration": 179,
    "start_time": "2022-04-30T16:14:02.188Z"
   },
   {
    "duration": 313,
    "start_time": "2022-04-30T16:14:02.370Z"
   },
   {
    "duration": 513,
    "start_time": "2022-04-30T16:14:02.685Z"
   },
   {
    "duration": 684,
    "start_time": "2022-04-30T16:14:03.201Z"
   },
   {
    "duration": 3,
    "start_time": "2022-04-30T16:14:03.886Z"
   },
   {
    "duration": 207,
    "start_time": "2022-04-30T16:14:03.891Z"
   },
   {
    "duration": 183,
    "start_time": "2022-04-30T16:14:04.100Z"
   },
   {
    "duration": 166,
    "start_time": "2022-04-30T16:14:04.284Z"
   },
   {
    "duration": 191,
    "start_time": "2022-04-30T16:14:04.452Z"
   },
   {
    "duration": 174,
    "start_time": "2022-04-30T16:14:04.644Z"
   },
   {
    "duration": 207,
    "start_time": "2022-04-30T16:14:04.820Z"
   },
   {
    "duration": 206,
    "start_time": "2022-04-30T16:14:05.028Z"
   },
   {
    "duration": 183,
    "start_time": "2022-04-30T16:14:05.236Z"
   },
   {
    "duration": 177,
    "start_time": "2022-04-30T16:14:05.420Z"
   },
   {
    "duration": 265,
    "start_time": "2022-04-30T16:14:05.599Z"
   },
   {
    "duration": 42,
    "start_time": "2022-04-30T16:14:05.866Z"
   },
   {
    "duration": 198,
    "start_time": "2022-04-30T16:14:05.911Z"
   },
   {
    "duration": 10,
    "start_time": "2022-04-30T16:14:06.112Z"
   },
   {
    "duration": 185,
    "start_time": "2022-04-30T16:14:06.124Z"
   },
   {
    "duration": 174,
    "start_time": "2022-04-30T16:14:06.311Z"
   },
   {
    "duration": 167,
    "start_time": "2022-04-30T16:14:06.487Z"
   },
   {
    "duration": 441,
    "start_time": "2022-04-30T16:14:06.655Z"
   },
   {
    "duration": 0,
    "start_time": "2022-04-30T16:14:07.099Z"
   },
   {
    "duration": 0,
    "start_time": "2022-04-30T16:14:07.100Z"
   },
   {
    "duration": 0,
    "start_time": "2022-04-30T16:14:07.101Z"
   },
   {
    "duration": 489,
    "start_time": "2022-04-30T16:14:22.056Z"
   },
   {
    "duration": 15,
    "start_time": "2022-04-30T16:14:22.547Z"
   },
   {
    "duration": 8,
    "start_time": "2022-04-30T16:14:22.564Z"
   },
   {
    "duration": 92,
    "start_time": "2022-04-30T16:14:22.573Z"
   },
   {
    "duration": 593,
    "start_time": "2022-04-30T16:14:22.667Z"
   },
   {
    "duration": 29,
    "start_time": "2022-04-30T16:14:23.262Z"
   },
   {
    "duration": 16,
    "start_time": "2022-04-30T16:14:23.292Z"
   },
   {
    "duration": 324,
    "start_time": "2022-04-30T16:14:23.310Z"
   },
   {
    "duration": 579,
    "start_time": "2022-04-30T16:14:23.636Z"
   },
   {
    "duration": 310,
    "start_time": "2022-04-30T16:14:24.217Z"
   },
   {
    "duration": 181,
    "start_time": "2022-04-30T16:14:24.529Z"
   },
   {
    "duration": 316,
    "start_time": "2022-04-30T16:14:24.713Z"
   },
   {
    "duration": 504,
    "start_time": "2022-04-30T16:14:25.031Z"
   },
   {
    "duration": 687,
    "start_time": "2022-04-30T16:14:25.539Z"
   },
   {
    "duration": 2,
    "start_time": "2022-04-30T16:14:26.229Z"
   },
   {
    "duration": 196,
    "start_time": "2022-04-30T16:14:26.233Z"
   },
   {
    "duration": 182,
    "start_time": "2022-04-30T16:14:26.431Z"
   },
   {
    "duration": 170,
    "start_time": "2022-04-30T16:14:26.615Z"
   },
   {
    "duration": 187,
    "start_time": "2022-04-30T16:14:26.787Z"
   },
   {
    "duration": 171,
    "start_time": "2022-04-30T16:14:26.976Z"
   },
   {
    "duration": 206,
    "start_time": "2022-04-30T16:14:27.149Z"
   },
   {
    "duration": 206,
    "start_time": "2022-04-30T16:14:27.357Z"
   },
   {
    "duration": 183,
    "start_time": "2022-04-30T16:14:27.565Z"
   },
   {
    "duration": 181,
    "start_time": "2022-04-30T16:14:27.750Z"
   },
   {
    "duration": 248,
    "start_time": "2022-04-30T16:14:27.933Z"
   },
   {
    "duration": 43,
    "start_time": "2022-04-30T16:14:28.183Z"
   },
   {
    "duration": 186,
    "start_time": "2022-04-30T16:14:28.228Z"
   },
   {
    "duration": 10,
    "start_time": "2022-04-30T16:14:28.416Z"
   },
   {
    "duration": 170,
    "start_time": "2022-04-30T16:14:28.428Z"
   },
   {
    "duration": 176,
    "start_time": "2022-04-30T16:14:28.607Z"
   },
   {
    "duration": 172,
    "start_time": "2022-04-30T16:14:28.786Z"
   },
   {
    "duration": 183,
    "start_time": "2022-04-30T16:14:28.963Z"
   },
   {
    "duration": 171,
    "start_time": "2022-04-30T16:14:29.148Z"
   },
   {
    "duration": 191,
    "start_time": "2022-04-30T16:14:29.321Z"
   },
   {
    "duration": 164,
    "start_time": "2022-04-30T16:16:57.022Z"
   },
   {
    "duration": 87,
    "start_time": "2022-04-30T16:18:42.767Z"
   },
   {
    "duration": 14,
    "start_time": "2022-04-30T16:19:07.754Z"
   },
   {
    "duration": 529,
    "start_time": "2022-04-30T16:19:30.713Z"
   },
   {
    "duration": 479,
    "start_time": "2022-04-30T16:20:18.815Z"
   },
   {
    "duration": 481,
    "start_time": "2022-04-30T16:23:16.103Z"
   },
   {
    "duration": 464,
    "start_time": "2022-04-30T16:23:37.921Z"
   },
   {
    "duration": 559,
    "start_time": "2022-04-30T16:28:55.682Z"
   },
   {
    "duration": 17,
    "start_time": "2022-04-30T16:28:56.244Z"
   },
   {
    "duration": 9,
    "start_time": "2022-04-30T16:28:56.263Z"
   },
   {
    "duration": 92,
    "start_time": "2022-04-30T16:28:56.275Z"
   },
   {
    "duration": 577,
    "start_time": "2022-04-30T16:28:56.370Z"
   },
   {
    "duration": 28,
    "start_time": "2022-04-30T16:28:56.948Z"
   },
   {
    "duration": 2,
    "start_time": "2022-04-30T16:28:56.978Z"
   },
   {
    "duration": 319,
    "start_time": "2022-04-30T16:28:56.982Z"
   },
   {
    "duration": 557,
    "start_time": "2022-04-30T16:28:57.302Z"
   },
   {
    "duration": 304,
    "start_time": "2022-04-30T16:28:57.862Z"
   },
   {
    "duration": 174,
    "start_time": "2022-04-30T16:28:58.168Z"
   },
   {
    "duration": 310,
    "start_time": "2022-04-30T16:28:58.344Z"
   },
   {
    "duration": 494,
    "start_time": "2022-04-30T16:28:58.656Z"
   },
   {
    "duration": 669,
    "start_time": "2022-04-30T16:28:59.152Z"
   },
   {
    "duration": 2,
    "start_time": "2022-04-30T16:28:59.822Z"
   },
   {
    "duration": 204,
    "start_time": "2022-04-30T16:28:59.826Z"
   },
   {
    "duration": 184,
    "start_time": "2022-04-30T16:29:00.031Z"
   },
   {
    "duration": 166,
    "start_time": "2022-04-30T16:29:00.216Z"
   },
   {
    "duration": 177,
    "start_time": "2022-04-30T16:29:00.384Z"
   },
   {
    "duration": 167,
    "start_time": "2022-04-30T16:29:00.562Z"
   },
   {
    "duration": 209,
    "start_time": "2022-04-30T16:29:00.731Z"
   },
   {
    "duration": 207,
    "start_time": "2022-04-30T16:29:00.942Z"
   },
   {
    "duration": 185,
    "start_time": "2022-04-30T16:29:01.151Z"
   },
   {
    "duration": 165,
    "start_time": "2022-04-30T16:29:01.338Z"
   },
   {
    "duration": 245,
    "start_time": "2022-04-30T16:29:01.506Z"
   },
   {
    "duration": 472,
    "start_time": "2022-04-30T16:29:01.753Z"
   },
   {
    "duration": 31,
    "start_time": "2022-04-30T16:29:02.227Z"
   },
   {
    "duration": 196,
    "start_time": "2022-04-30T16:29:02.261Z"
   },
   {
    "duration": 14,
    "start_time": "2022-04-30T16:29:02.458Z"
   },
   {
    "duration": 173,
    "start_time": "2022-04-30T16:29:02.474Z"
   },
   {
    "duration": 169,
    "start_time": "2022-04-30T16:29:02.649Z"
   },
   {
    "duration": 172,
    "start_time": "2022-04-30T16:29:02.819Z"
   },
   {
    "duration": 192,
    "start_time": "2022-04-30T16:29:02.992Z"
   },
   {
    "duration": 173,
    "start_time": "2022-04-30T16:29:03.186Z"
   },
   {
    "duration": 199,
    "start_time": "2022-04-30T16:29:03.361Z"
   },
   {
    "duration": 305,
    "start_time": "2022-04-30T16:32:35.731Z"
   },
   {
    "duration": 14,
    "start_time": "2022-04-30T16:33:03.436Z"
   },
   {
    "duration": 483,
    "start_time": "2022-04-30T16:33:20.708Z"
   },
   {
    "duration": 14,
    "start_time": "2022-04-30T16:40:05.120Z"
   },
   {
    "duration": 169,
    "start_time": "2022-04-30T16:40:31.561Z"
   },
   {
    "duration": 174,
    "start_time": "2022-04-30T16:40:56.183Z"
   },
   {
    "duration": 170,
    "start_time": "2022-04-30T16:41:05.292Z"
   },
   {
    "duration": 15,
    "start_time": "2022-04-30T17:07:05.530Z"
   },
   {
    "duration": 14,
    "start_time": "2022-04-30T17:07:25.331Z"
   },
   {
    "duration": 464,
    "start_time": "2022-04-30T17:07:49.694Z"
   },
   {
    "duration": 506,
    "start_time": "2022-04-30T17:09:33.839Z"
   },
   {
    "duration": 556,
    "start_time": "2022-04-30T17:10:30.491Z"
   },
   {
    "duration": 16,
    "start_time": "2022-04-30T17:10:31.049Z"
   },
   {
    "duration": 8,
    "start_time": "2022-04-30T17:10:31.066Z"
   },
   {
    "duration": 94,
    "start_time": "2022-04-30T17:10:31.075Z"
   },
   {
    "duration": 550,
    "start_time": "2022-04-30T17:10:31.171Z"
   },
   {
    "duration": 29,
    "start_time": "2022-04-30T17:10:31.722Z"
   },
   {
    "duration": 3,
    "start_time": "2022-04-30T17:10:31.752Z"
   },
   {
    "duration": 313,
    "start_time": "2022-04-30T17:10:31.756Z"
   },
   {
    "duration": 561,
    "start_time": "2022-04-30T17:10:32.071Z"
   },
   {
    "duration": 310,
    "start_time": "2022-04-30T17:10:32.633Z"
   },
   {
    "duration": 184,
    "start_time": "2022-04-30T17:10:32.945Z"
   },
   {
    "duration": 324,
    "start_time": "2022-04-30T17:10:33.131Z"
   },
   {
    "duration": 505,
    "start_time": "2022-04-30T17:10:33.457Z"
   },
   {
    "duration": 683,
    "start_time": "2022-04-30T17:10:33.965Z"
   },
   {
    "duration": 2,
    "start_time": "2022-04-30T17:10:34.649Z"
   },
   {
    "duration": 199,
    "start_time": "2022-04-30T17:10:34.653Z"
   },
   {
    "duration": 185,
    "start_time": "2022-04-30T17:10:34.854Z"
   },
   {
    "duration": 177,
    "start_time": "2022-04-30T17:10:35.041Z"
   },
   {
    "duration": 189,
    "start_time": "2022-04-30T17:10:35.220Z"
   },
   {
    "duration": 172,
    "start_time": "2022-04-30T17:10:35.411Z"
   },
   {
    "duration": 201,
    "start_time": "2022-04-30T17:10:35.585Z"
   },
   {
    "duration": 206,
    "start_time": "2022-04-30T17:10:35.788Z"
   },
   {
    "duration": 185,
    "start_time": "2022-04-30T17:10:35.995Z"
   },
   {
    "duration": 174,
    "start_time": "2022-04-30T17:10:36.181Z"
   },
   {
    "duration": 248,
    "start_time": "2022-04-30T17:10:36.356Z"
   },
   {
    "duration": 479,
    "start_time": "2022-04-30T17:10:36.608Z"
   },
   {
    "duration": 39,
    "start_time": "2022-04-30T17:10:37.089Z"
   },
   {
    "duration": 192,
    "start_time": "2022-04-30T17:10:37.130Z"
   },
   {
    "duration": 14,
    "start_time": "2022-04-30T17:10:37.324Z"
   },
   {
    "duration": 479,
    "start_time": "2022-04-30T17:10:37.340Z"
   },
   {
    "duration": 444,
    "start_time": "2022-04-30T17:10:37.821Z"
   },
   {
    "duration": 482,
    "start_time": "2022-04-30T17:11:41.223Z"
   },
   {
    "duration": 441,
    "start_time": "2022-04-30T17:11:54.036Z"
   },
   {
    "duration": 471,
    "start_time": "2022-04-30T17:12:08.957Z"
   },
   {
    "duration": 519,
    "start_time": "2022-04-30T17:17:38.798Z"
   },
   {
    "duration": 485,
    "start_time": "2022-04-30T17:18:18.012Z"
   },
   {
    "duration": 474,
    "start_time": "2022-04-30T17:22:11.550Z"
   },
   {
    "duration": 15,
    "start_time": "2022-04-30T17:23:53.619Z"
   },
   {
    "duration": 12,
    "start_time": "2022-04-30T17:24:01.914Z"
   },
   {
    "duration": 447,
    "start_time": "2022-04-30T17:24:53.800Z"
   },
   {
    "duration": 29,
    "start_time": "2022-04-30T17:25:55.646Z"
   },
   {
    "duration": 1625,
    "start_time": "2022-04-30T17:27:26.159Z"
   },
   {
    "duration": 518,
    "start_time": "2022-04-30T17:27:48.156Z"
   },
   {
    "duration": 475,
    "start_time": "2022-04-30T17:28:05.067Z"
   },
   {
    "duration": 70,
    "start_time": "2022-04-30T17:28:27.906Z"
   },
   {
    "duration": 454,
    "start_time": "2022-04-30T17:29:50.028Z"
   },
   {
    "duration": 450,
    "start_time": "2022-04-30T17:30:01.217Z"
   },
   {
    "duration": 571,
    "start_time": "2022-04-30T17:30:15.466Z"
   },
   {
    "duration": 447,
    "start_time": "2022-04-30T17:30:27.601Z"
   },
   {
    "duration": 471,
    "start_time": "2022-04-30T17:30:36.518Z"
   },
   {
    "duration": 560,
    "start_time": "2022-04-30T17:31:09.740Z"
   },
   {
    "duration": 485,
    "start_time": "2022-04-30T17:31:22.225Z"
   },
   {
    "duration": 451,
    "start_time": "2022-04-30T17:31:51.698Z"
   },
   {
    "duration": 451,
    "start_time": "2022-04-30T17:32:18.471Z"
   },
   {
    "duration": 500,
    "start_time": "2022-04-30T17:32:31.765Z"
   },
   {
    "duration": 457,
    "start_time": "2022-04-30T17:33:09.441Z"
   },
   {
    "duration": 524,
    "start_time": "2022-04-30T17:33:25.719Z"
   },
   {
    "duration": 15,
    "start_time": "2022-04-30T17:33:26.245Z"
   },
   {
    "duration": 8,
    "start_time": "2022-04-30T17:33:26.262Z"
   },
   {
    "duration": 91,
    "start_time": "2022-04-30T17:33:26.271Z"
   },
   {
    "duration": 576,
    "start_time": "2022-04-30T17:33:26.363Z"
   },
   {
    "duration": 29,
    "start_time": "2022-04-30T17:33:26.941Z"
   },
   {
    "duration": 3,
    "start_time": "2022-04-30T17:33:26.971Z"
   },
   {
    "duration": 325,
    "start_time": "2022-04-30T17:33:26.976Z"
   },
   {
    "duration": 570,
    "start_time": "2022-04-30T17:33:27.303Z"
   },
   {
    "duration": 296,
    "start_time": "2022-04-30T17:33:27.875Z"
   },
   {
    "duration": 178,
    "start_time": "2022-04-30T17:33:28.173Z"
   },
   {
    "duration": 311,
    "start_time": "2022-04-30T17:33:28.353Z"
   },
   {
    "duration": 503,
    "start_time": "2022-04-30T17:33:28.666Z"
   },
   {
    "duration": 671,
    "start_time": "2022-04-30T17:33:29.171Z"
   },
   {
    "duration": 2,
    "start_time": "2022-04-30T17:33:29.844Z"
   },
   {
    "duration": 202,
    "start_time": "2022-04-30T17:33:29.848Z"
   },
   {
    "duration": 188,
    "start_time": "2022-04-30T17:33:30.051Z"
   },
   {
    "duration": 207,
    "start_time": "2022-04-30T17:33:30.241Z"
   },
   {
    "duration": 193,
    "start_time": "2022-04-30T17:33:30.450Z"
   },
   {
    "duration": 180,
    "start_time": "2022-04-30T17:33:30.644Z"
   },
   {
    "duration": 214,
    "start_time": "2022-04-30T17:33:30.825Z"
   },
   {
    "duration": 216,
    "start_time": "2022-04-30T17:33:31.041Z"
   },
   {
    "duration": 192,
    "start_time": "2022-04-30T17:33:31.259Z"
   },
   {
    "duration": 182,
    "start_time": "2022-04-30T17:33:31.452Z"
   },
   {
    "duration": 255,
    "start_time": "2022-04-30T17:33:31.636Z"
   },
   {
    "duration": 476,
    "start_time": "2022-04-30T17:33:31.893Z"
   },
   {
    "duration": 46,
    "start_time": "2022-04-30T17:33:32.371Z"
   },
   {
    "duration": 190,
    "start_time": "2022-04-30T17:33:32.421Z"
   },
   {
    "duration": 13,
    "start_time": "2022-04-30T17:33:32.613Z"
   },
   {
    "duration": 486,
    "start_time": "2022-04-30T17:33:32.627Z"
   },
   {
    "duration": 13,
    "start_time": "2022-04-30T17:33:33.114Z"
   },
   {
    "duration": 11,
    "start_time": "2022-04-30T17:33:33.128Z"
   },
   {
    "duration": 92,
    "start_time": "2022-04-30T17:33:33.140Z"
   },
   {
    "duration": 438,
    "start_time": "2022-04-30T17:33:33.234Z"
   },
   {
    "duration": 2311,
    "start_time": "2022-05-02T08:27:27.112Z"
   },
   {
    "duration": 16,
    "start_time": "2022-05-02T08:27:29.425Z"
   },
   {
    "duration": 10,
    "start_time": "2022-05-02T08:27:29.443Z"
   },
   {
    "duration": 94,
    "start_time": "2022-05-02T08:27:29.456Z"
   },
   {
    "duration": 523,
    "start_time": "2022-05-02T08:27:29.552Z"
   },
   {
    "duration": 27,
    "start_time": "2022-05-02T08:27:30.077Z"
   },
   {
    "duration": 2,
    "start_time": "2022-05-02T08:27:30.105Z"
   },
   {
    "duration": 305,
    "start_time": "2022-05-02T08:27:30.109Z"
   },
   {
    "duration": 762,
    "start_time": "2022-05-02T08:27:30.416Z"
   },
   {
    "duration": 268,
    "start_time": "2022-05-02T08:27:31.181Z"
   },
   {
    "duration": 158,
    "start_time": "2022-05-02T08:27:31.450Z"
   },
   {
    "duration": 287,
    "start_time": "2022-05-02T08:27:31.610Z"
   },
   {
    "duration": 446,
    "start_time": "2022-05-02T08:27:31.899Z"
   },
   {
    "duration": 620,
    "start_time": "2022-05-02T08:27:32.347Z"
   },
   {
    "duration": 3,
    "start_time": "2022-05-02T08:27:32.969Z"
   },
   {
    "duration": 185,
    "start_time": "2022-05-02T08:27:32.974Z"
   },
   {
    "duration": 165,
    "start_time": "2022-05-02T08:27:33.161Z"
   },
   {
    "duration": 152,
    "start_time": "2022-05-02T08:27:33.329Z"
   },
   {
    "duration": 171,
    "start_time": "2022-05-02T08:27:33.483Z"
   },
   {
    "duration": 166,
    "start_time": "2022-05-02T08:27:33.656Z"
   },
   {
    "duration": 186,
    "start_time": "2022-05-02T08:27:33.825Z"
   },
   {
    "duration": 186,
    "start_time": "2022-05-02T08:27:34.013Z"
   },
   {
    "duration": 173,
    "start_time": "2022-05-02T08:27:34.201Z"
   },
   {
    "duration": 158,
    "start_time": "2022-05-02T08:27:34.376Z"
   },
   {
    "duration": 236,
    "start_time": "2022-05-02T08:27:34.537Z"
   },
   {
    "duration": 423,
    "start_time": "2022-05-02T08:27:34.775Z"
   },
   {
    "duration": 42,
    "start_time": "2022-05-02T08:27:35.200Z"
   },
   {
    "duration": 169,
    "start_time": "2022-05-02T08:27:35.246Z"
   },
   {
    "duration": 18,
    "start_time": "2022-05-02T08:27:35.417Z"
   },
   {
    "duration": 444,
    "start_time": "2022-05-02T08:27:35.436Z"
   },
   {
    "duration": 14,
    "start_time": "2022-05-02T08:27:35.882Z"
   },
   {
    "duration": 29,
    "start_time": "2022-05-02T08:27:35.898Z"
   },
   {
    "duration": 65,
    "start_time": "2022-05-02T08:27:35.928Z"
   },
   {
    "duration": 437,
    "start_time": "2022-05-02T08:27:35.995Z"
   },
   {
    "duration": 449,
    "start_time": "2022-05-02T08:36:46.185Z"
   },
   {
    "duration": 418,
    "start_time": "2022-05-02T08:37:58.596Z"
   },
   {
    "duration": 428,
    "start_time": "2022-05-02T08:40:21.146Z"
   },
   {
    "duration": 501,
    "start_time": "2022-05-02T08:40:33.480Z"
   },
   {
    "duration": 390,
    "start_time": "2022-05-02T08:46:05.660Z"
   },
   {
    "duration": 402,
    "start_time": "2022-05-02T08:46:14.645Z"
   },
   {
    "duration": 260,
    "start_time": "2022-05-02T08:48:04.762Z"
   },
   {
    "duration": 269,
    "start_time": "2022-05-02T08:50:02.761Z"
   },
   {
    "duration": 327,
    "start_time": "2022-05-02T08:50:41.780Z"
   },
   {
    "duration": 253,
    "start_time": "2022-05-02T08:50:54.418Z"
   },
   {
    "duration": 18,
    "start_time": "2022-05-02T09:00:43.120Z"
   },
   {
    "duration": 284,
    "start_time": "2022-05-02T09:00:46.764Z"
   },
   {
    "duration": 446,
    "start_time": "2022-05-02T09:00:57.327Z"
   },
   {
    "duration": 527,
    "start_time": "2022-05-02T09:01:20.094Z"
   },
   {
    "duration": 388,
    "start_time": "2022-05-02T09:01:55.331Z"
   },
   {
    "duration": 435,
    "start_time": "2022-05-02T09:02:22.814Z"
   },
   {
    "duration": 440,
    "start_time": "2022-05-02T09:02:30.263Z"
   },
   {
    "duration": 357,
    "start_time": "2022-05-02T09:04:21.214Z"
   },
   {
    "duration": 580,
    "start_time": "2022-05-02T09:04:47.810Z"
   },
   {
    "duration": 16,
    "start_time": "2022-05-02T09:04:48.392Z"
   },
   {
    "duration": 16,
    "start_time": "2022-05-02T09:04:48.410Z"
   },
   {
    "duration": 69,
    "start_time": "2022-05-02T09:04:48.436Z"
   },
   {
    "duration": 535,
    "start_time": "2022-05-02T09:04:48.507Z"
   },
   {
    "duration": 27,
    "start_time": "2022-05-02T09:04:49.044Z"
   },
   {
    "duration": 3,
    "start_time": "2022-05-02T09:04:49.072Z"
   },
   {
    "duration": 331,
    "start_time": "2022-05-02T09:04:49.076Z"
   },
   {
    "duration": 592,
    "start_time": "2022-05-02T09:04:49.409Z"
   },
   {
    "duration": 288,
    "start_time": "2022-05-02T09:04:50.004Z"
   },
   {
    "duration": 180,
    "start_time": "2022-05-02T09:04:50.294Z"
   },
   {
    "duration": 308,
    "start_time": "2022-05-02T09:04:50.476Z"
   },
   {
    "duration": 475,
    "start_time": "2022-05-02T09:04:50.786Z"
   },
   {
    "duration": 685,
    "start_time": "2022-05-02T09:04:51.263Z"
   },
   {
    "duration": 3,
    "start_time": "2022-05-02T09:04:51.949Z"
   },
   {
    "duration": 208,
    "start_time": "2022-05-02T09:04:51.954Z"
   },
   {
    "duration": 170,
    "start_time": "2022-05-02T09:04:52.164Z"
   },
   {
    "duration": 163,
    "start_time": "2022-05-02T09:04:52.336Z"
   },
   {
    "duration": 184,
    "start_time": "2022-05-02T09:04:52.500Z"
   },
   {
    "duration": 176,
    "start_time": "2022-05-02T09:04:52.686Z"
   },
   {
    "duration": 186,
    "start_time": "2022-05-02T09:04:52.863Z"
   },
   {
    "duration": 205,
    "start_time": "2022-05-02T09:04:53.050Z"
   },
   {
    "duration": 182,
    "start_time": "2022-05-02T09:04:53.257Z"
   },
   {
    "duration": 175,
    "start_time": "2022-05-02T09:04:53.440Z"
   },
   {
    "duration": 258,
    "start_time": "2022-05-02T09:04:53.617Z"
   },
   {
    "duration": 441,
    "start_time": "2022-05-02T09:04:53.876Z"
   },
   {
    "duration": 32,
    "start_time": "2022-05-02T09:04:54.322Z"
   },
   {
    "duration": 189,
    "start_time": "2022-05-02T09:04:54.358Z"
   },
   {
    "duration": 14,
    "start_time": "2022-05-02T09:04:54.549Z"
   },
   {
    "duration": 281,
    "start_time": "2022-05-02T09:04:54.565Z"
   },
   {
    "duration": 442,
    "start_time": "2022-05-02T09:04:54.847Z"
   },
   {
    "duration": 14,
    "start_time": "2022-05-02T09:04:55.290Z"
   },
   {
    "duration": 32,
    "start_time": "2022-05-02T09:04:55.305Z"
   },
   {
    "duration": 65,
    "start_time": "2022-05-02T09:04:55.339Z"
   },
   {
    "duration": 484,
    "start_time": "2022-05-02T09:04:55.406Z"
   },
   {
    "duration": 4454,
    "start_time": "2022-05-02T09:05:07.892Z"
   },
   {
    "duration": 268,
    "start_time": "2022-05-02T09:05:25.638Z"
   },
   {
    "duration": 273,
    "start_time": "2022-05-02T09:05:31.585Z"
   },
   {
    "duration": 284,
    "start_time": "2022-05-02T09:05:52.582Z"
   },
   {
    "duration": 283,
    "start_time": "2022-05-02T09:06:00.570Z"
   },
   {
    "duration": 744,
    "start_time": "2022-05-02T09:07:58.471Z"
   },
   {
    "duration": 288,
    "start_time": "2022-05-02T09:08:27.575Z"
   },
   {
    "duration": 411,
    "start_time": "2022-05-02T09:08:44.775Z"
   },
   {
    "duration": 447,
    "start_time": "2022-05-02T09:09:08.152Z"
   },
   {
    "duration": 564,
    "start_time": "2022-05-02T09:09:14.983Z"
   },
   {
    "duration": 12,
    "start_time": "2022-05-02T09:10:04.500Z"
   },
   {
    "duration": 482,
    "start_time": "2022-05-02T09:10:11.436Z"
   },
   {
    "duration": 455,
    "start_time": "2022-05-02T09:10:48.450Z"
   },
   {
    "duration": 582,
    "start_time": "2022-05-02T09:11:06.510Z"
   },
   {
    "duration": 254,
    "start_time": "2022-05-02T09:11:43.920Z"
   },
   {
    "duration": 353,
    "start_time": "2022-05-02T09:22:00.850Z"
   },
   {
    "duration": 540,
    "start_time": "2022-05-02T09:24:39.210Z"
   },
   {
    "duration": 14,
    "start_time": "2022-05-02T09:24:39.753Z"
   },
   {
    "duration": 8,
    "start_time": "2022-05-02T09:24:39.768Z"
   },
   {
    "duration": 80,
    "start_time": "2022-05-02T09:24:39.778Z"
   },
   {
    "duration": 538,
    "start_time": "2022-05-02T09:24:39.861Z"
   },
   {
    "duration": 39,
    "start_time": "2022-05-02T09:24:40.400Z"
   },
   {
    "duration": 2,
    "start_time": "2022-05-02T09:24:40.441Z"
   },
   {
    "duration": 307,
    "start_time": "2022-05-02T09:24:40.445Z"
   },
   {
    "duration": 611,
    "start_time": "2022-05-02T09:24:40.754Z"
   },
   {
    "duration": 417,
    "start_time": "2022-05-02T09:24:41.367Z"
   },
   {
    "duration": 254,
    "start_time": "2022-05-02T09:24:41.786Z"
   },
   {
    "duration": 400,
    "start_time": "2022-05-02T09:24:42.042Z"
   },
   {
    "duration": 613,
    "start_time": "2022-05-02T09:24:42.443Z"
   },
   {
    "duration": 649,
    "start_time": "2022-05-02T09:24:43.059Z"
   },
   {
    "duration": 3,
    "start_time": "2022-05-02T09:24:43.710Z"
   },
   {
    "duration": 185,
    "start_time": "2022-05-02T09:24:43.723Z"
   },
   {
    "duration": 171,
    "start_time": "2022-05-02T09:24:43.910Z"
   },
   {
    "duration": 163,
    "start_time": "2022-05-02T09:24:44.083Z"
   },
   {
    "duration": 189,
    "start_time": "2022-05-02T09:24:44.248Z"
   },
   {
    "duration": 195,
    "start_time": "2022-05-02T09:24:44.439Z"
   },
   {
    "duration": 195,
    "start_time": "2022-05-02T09:24:44.636Z"
   },
   {
    "duration": 192,
    "start_time": "2022-05-02T09:24:44.832Z"
   },
   {
    "duration": 195,
    "start_time": "2022-05-02T09:24:45.026Z"
   },
   {
    "duration": 168,
    "start_time": "2022-05-02T09:24:45.224Z"
   },
   {
    "duration": 242,
    "start_time": "2022-05-02T09:24:45.393Z"
   },
   {
    "duration": 450,
    "start_time": "2022-05-02T09:24:45.636Z"
   },
   {
    "duration": 39,
    "start_time": "2022-05-02T09:24:46.087Z"
   },
   {
    "duration": 180,
    "start_time": "2022-05-02T09:24:46.127Z"
   },
   {
    "duration": 19,
    "start_time": "2022-05-02T09:24:46.309Z"
   },
   {
    "duration": 448,
    "start_time": "2022-05-02T09:24:46.330Z"
   },
   {
    "duration": 14,
    "start_time": "2022-05-02T09:24:46.780Z"
   },
   {
    "duration": 29,
    "start_time": "2022-05-02T09:24:46.796Z"
   },
   {
    "duration": 72,
    "start_time": "2022-05-02T09:24:46.827Z"
   },
   {
    "duration": 323,
    "start_time": "2022-05-02T09:24:46.901Z"
   },
   {
    "duration": 555,
    "start_time": "2022-05-02T09:24:47.226Z"
   },
   {
    "duration": 368,
    "start_time": "2022-05-02T09:25:31.144Z"
   },
   {
    "duration": 515,
    "start_time": "2022-05-02T09:25:38.837Z"
   },
   {
    "duration": 15,
    "start_time": "2022-05-02T09:25:39.354Z"
   },
   {
    "duration": 8,
    "start_time": "2022-05-02T09:25:39.371Z"
   },
   {
    "duration": 85,
    "start_time": "2022-05-02T09:25:39.380Z"
   },
   {
    "duration": 508,
    "start_time": "2022-05-02T09:25:39.468Z"
   },
   {
    "duration": 27,
    "start_time": "2022-05-02T09:25:39.977Z"
   },
   {
    "duration": 20,
    "start_time": "2022-05-02T09:25:40.005Z"
   },
   {
    "duration": 304,
    "start_time": "2022-05-02T09:25:40.026Z"
   },
   {
    "duration": 730,
    "start_time": "2022-05-02T09:25:40.331Z"
   },
   {
    "duration": 408,
    "start_time": "2022-05-02T09:25:41.063Z"
   },
   {
    "duration": 251,
    "start_time": "2022-05-02T09:25:41.474Z"
   },
   {
    "duration": 285,
    "start_time": "2022-05-02T09:25:41.727Z"
   },
   {
    "duration": 485,
    "start_time": "2022-05-02T09:25:42.014Z"
   },
   {
    "duration": 620,
    "start_time": "2022-05-02T09:25:42.502Z"
   },
   {
    "duration": 3,
    "start_time": "2022-05-02T09:25:43.124Z"
   },
   {
    "duration": 189,
    "start_time": "2022-05-02T09:25:43.128Z"
   },
   {
    "duration": 159,
    "start_time": "2022-05-02T09:25:43.322Z"
   },
   {
    "duration": 214,
    "start_time": "2022-05-02T09:25:43.483Z"
   },
   {
    "duration": 158,
    "start_time": "2022-05-02T09:25:43.699Z"
   },
   {
    "duration": 157,
    "start_time": "2022-05-02T09:25:43.859Z"
   },
   {
    "duration": 186,
    "start_time": "2022-05-02T09:25:44.018Z"
   },
   {
    "duration": 185,
    "start_time": "2022-05-02T09:25:44.206Z"
   },
   {
    "duration": 161,
    "start_time": "2022-05-02T09:25:44.393Z"
   },
   {
    "duration": 179,
    "start_time": "2022-05-02T09:25:44.556Z"
   },
   {
    "duration": 238,
    "start_time": "2022-05-02T09:25:44.737Z"
   },
   {
    "duration": 443,
    "start_time": "2022-05-02T09:25:44.977Z"
   },
   {
    "duration": 31,
    "start_time": "2022-05-02T09:25:45.423Z"
   },
   {
    "duration": 185,
    "start_time": "2022-05-02T09:25:45.455Z"
   },
   {
    "duration": 14,
    "start_time": "2022-05-02T09:25:45.642Z"
   },
   {
    "duration": 445,
    "start_time": "2022-05-02T09:25:45.658Z"
   },
   {
    "duration": 26,
    "start_time": "2022-05-02T09:25:46.104Z"
   },
   {
    "duration": 11,
    "start_time": "2022-05-02T09:25:46.132Z"
   },
   {
    "duration": 96,
    "start_time": "2022-05-02T09:25:46.144Z"
   },
   {
    "duration": 294,
    "start_time": "2022-05-02T09:25:46.242Z"
   },
   {
    "duration": 514,
    "start_time": "2022-05-02T09:25:46.537Z"
   },
   {
    "duration": 746,
    "start_time": "2022-05-02T09:28:03.064Z"
   },
   {
    "duration": 115,
    "start_time": "2022-05-02T09:28:03.812Z"
   },
   {
    "duration": 17,
    "start_time": "2022-05-02T09:28:03.929Z"
   },
   {
    "duration": 10,
    "start_time": "2022-05-02T09:28:03.948Z"
   },
   {
    "duration": 94,
    "start_time": "2022-05-02T09:28:03.960Z"
   },
   {
    "duration": 498,
    "start_time": "2022-05-02T09:28:04.057Z"
   },
   {
    "duration": 28,
    "start_time": "2022-05-02T09:28:04.557Z"
   },
   {
    "duration": 3,
    "start_time": "2022-05-02T09:28:04.587Z"
   },
   {
    "duration": 361,
    "start_time": "2022-05-02T09:28:04.592Z"
   },
   {
    "duration": 315,
    "start_time": "2022-05-02T09:28:04.956Z"
   },
   {
    "duration": 286,
    "start_time": "2022-05-02T09:28:05.273Z"
   },
   {
    "duration": 169,
    "start_time": "2022-05-02T09:28:05.562Z"
   },
   {
    "duration": 288,
    "start_time": "2022-05-02T09:28:05.733Z"
   },
   {
    "duration": 542,
    "start_time": "2022-05-02T09:28:06.023Z"
   },
   {
    "duration": 559,
    "start_time": "2022-05-02T09:28:06.567Z"
   },
   {
    "duration": 2,
    "start_time": "2022-05-02T09:28:07.128Z"
   },
   {
    "duration": 199,
    "start_time": "2022-05-02T09:28:07.131Z"
   },
   {
    "duration": 174,
    "start_time": "2022-05-02T09:28:07.331Z"
   },
   {
    "duration": 162,
    "start_time": "2022-05-02T09:28:07.507Z"
   },
   {
    "duration": 184,
    "start_time": "2022-05-02T09:28:07.671Z"
   },
   {
    "duration": 157,
    "start_time": "2022-05-02T09:28:07.857Z"
   },
   {
    "duration": 204,
    "start_time": "2022-05-02T09:28:08.016Z"
   },
   {
    "duration": 201,
    "start_time": "2022-05-02T09:28:08.222Z"
   },
   {
    "duration": 259,
    "start_time": "2022-05-02T09:28:08.426Z"
   },
   {
    "duration": 163,
    "start_time": "2022-05-02T09:28:08.687Z"
   },
   {
    "duration": 156,
    "start_time": "2022-05-02T09:28:08.852Z"
   },
   {
    "duration": 440,
    "start_time": "2022-05-02T09:28:09.010Z"
   },
   {
    "duration": 30,
    "start_time": "2022-05-02T09:28:09.454Z"
   },
   {
    "duration": 185,
    "start_time": "2022-05-02T09:28:09.486Z"
   },
   {
    "duration": 14,
    "start_time": "2022-05-02T09:28:09.673Z"
   },
   {
    "duration": 554,
    "start_time": "2022-05-02T09:28:09.689Z"
   },
   {
    "duration": 15,
    "start_time": "2022-05-02T09:28:10.244Z"
   },
   {
    "duration": 13,
    "start_time": "2022-05-02T09:28:10.260Z"
   },
   {
    "duration": 92,
    "start_time": "2022-05-02T09:28:10.275Z"
   },
   {
    "duration": 351,
    "start_time": "2022-05-02T09:28:10.369Z"
   },
   {
    "duration": 478,
    "start_time": "2022-05-02T09:28:10.723Z"
   },
   {
    "duration": 339,
    "start_time": "2022-05-02T09:28:32.140Z"
   },
   {
    "duration": 519,
    "start_time": "2022-05-02T09:49:52.007Z"
   },
   {
    "duration": 181,
    "start_time": "2022-05-02T09:53:56.804Z"
   },
   {
    "duration": 245,
    "start_time": "2022-05-02T09:56:23.906Z"
   },
   {
    "duration": 135,
    "start_time": "2022-05-02T09:57:15.633Z"
   },
   {
    "duration": 121,
    "start_time": "2022-05-02T09:57:46.165Z"
   },
   {
    "duration": 76,
    "start_time": "2022-05-02T09:58:25.419Z"
   },
   {
    "duration": 129,
    "start_time": "2022-05-02T09:58:39.798Z"
   },
   {
    "duration": 16,
    "start_time": "2022-05-02T10:01:12.283Z"
   },
   {
    "duration": 454,
    "start_time": "2022-05-02T10:01:35.343Z"
   },
   {
    "duration": 446,
    "start_time": "2022-05-02T10:04:05.222Z"
   },
   {
    "duration": 35,
    "start_time": "2022-05-02T10:21:39.316Z"
   },
   {
    "duration": 32,
    "start_time": "2022-05-02T10:22:10.797Z"
   },
   {
    "duration": 19,
    "start_time": "2022-05-02T10:34:10.875Z"
   },
   {
    "duration": 11,
    "start_time": "2022-05-02T10:35:12.139Z"
   },
   {
    "duration": 7,
    "start_time": "2022-05-02T10:36:49.628Z"
   },
   {
    "duration": 346,
    "start_time": "2022-05-02T10:40:09.495Z"
   },
   {
    "duration": 266,
    "start_time": "2022-05-02T10:42:00.442Z"
   },
   {
    "duration": 362,
    "start_time": "2022-05-02T10:43:58.441Z"
   },
   {
    "duration": 296,
    "start_time": "2022-05-02T10:45:23.770Z"
   },
   {
    "duration": 152,
    "start_time": "2022-05-02T10:45:59.613Z"
   },
   {
    "duration": 140,
    "start_time": "2022-05-02T10:46:08.942Z"
   },
   {
    "duration": 155,
    "start_time": "2022-05-02T10:46:16.610Z"
   },
   {
    "duration": 145,
    "start_time": "2022-05-02T10:46:37.878Z"
   },
   {
    "duration": 214,
    "start_time": "2022-05-02T10:46:57.662Z"
   },
   {
    "duration": 143,
    "start_time": "2022-05-02T10:47:08.363Z"
   },
   {
    "duration": 288,
    "start_time": "2022-05-02T10:48:06.909Z"
   },
   {
    "duration": 702,
    "start_time": "2022-05-02T11:18:38.004Z"
   },
   {
    "duration": 122,
    "start_time": "2022-05-02T11:18:38.707Z"
   },
   {
    "duration": 16,
    "start_time": "2022-05-02T11:18:38.831Z"
   },
   {
    "duration": 9,
    "start_time": "2022-05-02T11:18:38.849Z"
   },
   {
    "duration": 87,
    "start_time": "2022-05-02T11:18:38.859Z"
   },
   {
    "duration": 483,
    "start_time": "2022-05-02T11:18:38.948Z"
   },
   {
    "duration": 27,
    "start_time": "2022-05-02T11:18:39.432Z"
   },
   {
    "duration": 3,
    "start_time": "2022-05-02T11:18:39.461Z"
   },
   {
    "duration": 357,
    "start_time": "2022-05-02T11:18:39.465Z"
   },
   {
    "duration": 303,
    "start_time": "2022-05-02T11:18:39.825Z"
   },
   {
    "duration": 291,
    "start_time": "2022-05-02T11:18:40.129Z"
   },
   {
    "duration": 167,
    "start_time": "2022-05-02T11:18:40.421Z"
   },
   {
    "duration": 296,
    "start_time": "2022-05-02T11:18:40.590Z"
   },
   {
    "duration": 553,
    "start_time": "2022-05-02T11:18:40.888Z"
   },
   {
    "duration": 547,
    "start_time": "2022-05-02T11:18:41.443Z"
   },
   {
    "duration": 2,
    "start_time": "2022-05-02T11:18:41.992Z"
   },
   {
    "duration": 188,
    "start_time": "2022-05-02T11:18:41.996Z"
   },
   {
    "duration": 171,
    "start_time": "2022-05-02T11:18:42.186Z"
   },
   {
    "duration": 167,
    "start_time": "2022-05-02T11:18:42.359Z"
   },
   {
    "duration": 144,
    "start_time": "2022-05-02T11:18:42.528Z"
   },
   {
    "duration": 188,
    "start_time": "2022-05-02T11:18:42.674Z"
   },
   {
    "duration": 195,
    "start_time": "2022-05-02T11:18:42.863Z"
   },
   {
    "duration": 535,
    "start_time": "2022-05-02T11:18:43.059Z"
   },
   {
    "duration": 44,
    "start_time": "2022-05-02T11:18:43.595Z"
   },
   {
    "duration": 174,
    "start_time": "2022-05-02T11:18:43.641Z"
   },
   {
    "duration": 13,
    "start_time": "2022-05-02T11:18:43.817Z"
   },
   {
    "duration": 68,
    "start_time": "2022-05-02T11:18:43.831Z"
   },
   {
    "duration": 290,
    "start_time": "2022-05-02T11:18:43.902Z"
   },
   {
    "duration": 271,
    "start_time": "2022-05-02T11:18:44.193Z"
   },
   {
    "duration": 156,
    "start_time": "2022-05-02T11:18:44.466Z"
   },
   {
    "duration": 306,
    "start_time": "2022-05-02T11:18:44.624Z"
   },
   {
    "duration": 632,
    "start_time": "2022-05-02T11:18:44.931Z"
   },
   {
    "duration": 88,
    "start_time": "2022-05-02T11:18:45.565Z"
   },
   {
    "duration": 0,
    "start_time": "2022-05-02T11:18:45.655Z"
   },
   {
    "duration": 339,
    "start_time": "2022-05-02T11:18:58.152Z"
   },
   {
    "duration": 916,
    "start_time": "2022-05-05T14:37:48.581Z"
   },
   {
    "duration": 146,
    "start_time": "2022-05-05T14:37:49.500Z"
   },
   {
    "duration": 24,
    "start_time": "2022-05-05T14:37:49.648Z"
   },
   {
    "duration": 14,
    "start_time": "2022-05-05T14:37:49.674Z"
   },
   {
    "duration": 107,
    "start_time": "2022-05-05T14:37:49.723Z"
   },
   {
    "duration": 792,
    "start_time": "2022-05-05T14:37:49.833Z"
   },
   {
    "duration": 38,
    "start_time": "2022-05-05T14:37:50.627Z"
   },
   {
    "duration": 3,
    "start_time": "2022-05-05T14:37:50.668Z"
   },
   {
    "duration": 551,
    "start_time": "2022-05-05T14:37:50.673Z"
   },
   {
    "duration": 502,
    "start_time": "2022-05-05T14:37:51.226Z"
   },
   {
    "duration": 463,
    "start_time": "2022-05-05T14:37:51.730Z"
   },
   {
    "duration": 278,
    "start_time": "2022-05-05T14:37:52.195Z"
   },
   {
    "duration": 503,
    "start_time": "2022-05-05T14:37:52.475Z"
   },
   {
    "duration": 856,
    "start_time": "2022-05-05T14:37:52.982Z"
   },
   {
    "duration": 921,
    "start_time": "2022-05-05T14:37:53.840Z"
   },
   {
    "duration": 3,
    "start_time": "2022-05-05T14:37:54.763Z"
   },
   {
    "duration": 293,
    "start_time": "2022-05-05T14:37:54.768Z"
   },
   {
    "duration": 274,
    "start_time": "2022-05-05T14:37:55.064Z"
   },
   {
    "duration": 258,
    "start_time": "2022-05-05T14:37:55.340Z"
   },
   {
    "duration": 230,
    "start_time": "2022-05-05T14:37:55.601Z"
   },
   {
    "duration": 300,
    "start_time": "2022-05-05T14:37:55.833Z"
   },
   {
    "duration": 314,
    "start_time": "2022-05-05T14:37:56.135Z"
   },
   {
    "duration": 821,
    "start_time": "2022-05-05T14:37:56.452Z"
   },
   {
    "duration": 60,
    "start_time": "2022-05-05T14:37:57.275Z"
   },
   {
    "duration": 296,
    "start_time": "2022-05-05T14:37:57.338Z"
   },
   {
    "duration": 14,
    "start_time": "2022-05-05T14:37:57.636Z"
   },
   {
    "duration": 125,
    "start_time": "2022-05-05T14:37:57.652Z"
   },
   {
    "duration": 489,
    "start_time": "2022-05-05T14:37:57.780Z"
   },
   {
    "duration": 483,
    "start_time": "2022-05-05T14:37:58.271Z"
   },
   {
    "duration": 245,
    "start_time": "2022-05-05T14:37:58.757Z"
   },
   {
    "duration": 524,
    "start_time": "2022-05-05T14:37:59.005Z"
   },
   {
    "duration": 831,
    "start_time": "2022-05-05T14:37:59.531Z"
   },
   {
    "duration": 132,
    "start_time": "2022-05-05T14:38:00.365Z"
   },
   {
    "duration": 0,
    "start_time": "2022-05-05T14:38:00.500Z"
   },
   {
    "duration": 834,
    "start_time": "2022-05-05T14:57:14.862Z"
   },
   {
    "duration": 158,
    "start_time": "2022-05-05T14:57:15.699Z"
   },
   {
    "duration": 22,
    "start_time": "2022-05-05T14:57:15.860Z"
   },
   {
    "duration": 12,
    "start_time": "2022-05-05T14:57:15.884Z"
   },
   {
    "duration": 111,
    "start_time": "2022-05-05T14:57:15.925Z"
   },
   {
    "duration": 755,
    "start_time": "2022-05-05T14:57:16.039Z"
   },
   {
    "duration": 51,
    "start_time": "2022-05-05T14:57:16.796Z"
   },
   {
    "duration": 3,
    "start_time": "2022-05-05T14:57:16.849Z"
   },
   {
    "duration": 535,
    "start_time": "2022-05-05T14:57:16.854Z"
   },
   {
    "duration": 477,
    "start_time": "2022-05-05T14:57:17.391Z"
   },
   {
    "duration": 441,
    "start_time": "2022-05-05T14:57:17.870Z"
   },
   {
    "duration": 261,
    "start_time": "2022-05-05T14:57:18.313Z"
   },
   {
    "duration": 808,
    "start_time": "2022-05-05T14:57:18.577Z"
   },
   {
    "duration": 1212,
    "start_time": "2022-05-05T14:57:19.391Z"
   },
   {
    "duration": 907,
    "start_time": "2022-05-05T14:57:20.605Z"
   },
   {
    "duration": 10,
    "start_time": "2022-05-05T14:57:21.514Z"
   },
   {
    "duration": 289,
    "start_time": "2022-05-05T14:57:21.527Z"
   },
   {
    "duration": 269,
    "start_time": "2022-05-05T14:57:21.819Z"
   },
   {
    "duration": 254,
    "start_time": "2022-05-05T14:57:22.090Z"
   },
   {
    "duration": 221,
    "start_time": "2022-05-05T14:57:22.346Z"
   },
   {
    "duration": 290,
    "start_time": "2022-05-05T14:57:22.570Z"
   },
   {
    "duration": 307,
    "start_time": "2022-05-05T14:57:22.863Z"
   },
   {
    "duration": 799,
    "start_time": "2022-05-05T14:57:23.173Z"
   },
   {
    "duration": 54,
    "start_time": "2022-05-05T14:57:23.974Z"
   },
   {
    "duration": 282,
    "start_time": "2022-05-05T14:57:24.030Z"
   },
   {
    "duration": 18,
    "start_time": "2022-05-05T14:57:24.315Z"
   },
   {
    "duration": 110,
    "start_time": "2022-05-05T14:57:24.335Z"
   },
   {
    "duration": 450,
    "start_time": "2022-05-05T14:57:24.447Z"
   },
   {
    "duration": 464,
    "start_time": "2022-05-05T14:57:24.900Z"
   },
   {
    "duration": 256,
    "start_time": "2022-05-05T14:57:25.367Z"
   },
   {
    "duration": 505,
    "start_time": "2022-05-05T14:57:25.625Z"
   },
   {
    "duration": 827,
    "start_time": "2022-05-05T14:57:26.133Z"
   },
   {
    "duration": 125,
    "start_time": "2022-05-05T14:57:26.962Z"
   },
   {
    "duration": 0,
    "start_time": "2022-05-05T14:57:27.089Z"
   },
   {
    "duration": 889,
    "start_time": "2022-05-05T14:59:38.211Z"
   },
   {
    "duration": 147,
    "start_time": "2022-05-05T14:59:39.103Z"
   },
   {
    "duration": 21,
    "start_time": "2022-05-05T14:59:39.252Z"
   },
   {
    "duration": 11,
    "start_time": "2022-05-05T14:59:39.276Z"
   },
   {
    "duration": 138,
    "start_time": "2022-05-05T14:59:39.291Z"
   },
   {
    "duration": 793,
    "start_time": "2022-05-05T14:59:39.432Z"
   },
   {
    "duration": 38,
    "start_time": "2022-05-05T14:59:40.227Z"
   },
   {
    "duration": 3,
    "start_time": "2022-05-05T14:59:40.268Z"
   },
   {
    "duration": 666,
    "start_time": "2022-05-05T14:59:40.273Z"
   },
   {
    "duration": 500,
    "start_time": "2022-05-05T14:59:40.941Z"
   },
   {
    "duration": 455,
    "start_time": "2022-05-05T14:59:41.443Z"
   },
   {
    "duration": 282,
    "start_time": "2022-05-05T14:59:41.900Z"
   },
   {
    "duration": 502,
    "start_time": "2022-05-05T14:59:42.184Z"
   },
   {
    "duration": 826,
    "start_time": "2022-05-05T14:59:42.690Z"
   },
   {
    "duration": 917,
    "start_time": "2022-05-05T14:59:43.518Z"
   },
   {
    "duration": 4,
    "start_time": "2022-05-05T14:59:44.437Z"
   },
   {
    "duration": 294,
    "start_time": "2022-05-05T14:59:44.443Z"
   },
   {
    "duration": 296,
    "start_time": "2022-05-05T14:59:44.740Z"
   },
   {
    "duration": 268,
    "start_time": "2022-05-05T14:59:45.038Z"
   },
   {
    "duration": 239,
    "start_time": "2022-05-05T14:59:45.309Z"
   },
   {
    "duration": 301,
    "start_time": "2022-05-05T14:59:45.551Z"
   },
   {
    "duration": 307,
    "start_time": "2022-05-05T14:59:45.855Z"
   },
   {
    "duration": 834,
    "start_time": "2022-05-05T14:59:46.164Z"
   },
   {
    "duration": 56,
    "start_time": "2022-05-05T14:59:47.000Z"
   },
   {
    "duration": 299,
    "start_time": "2022-05-05T14:59:47.058Z"
   },
   {
    "duration": 13,
    "start_time": "2022-05-05T14:59:47.359Z"
   },
   {
    "duration": 123,
    "start_time": "2022-05-05T14:59:47.374Z"
   },
   {
    "duration": 463,
    "start_time": "2022-05-05T14:59:47.499Z"
   },
   {
    "duration": 471,
    "start_time": "2022-05-05T14:59:47.965Z"
   },
   {
    "duration": 255,
    "start_time": "2022-05-05T14:59:48.439Z"
   },
   {
    "duration": 527,
    "start_time": "2022-05-05T14:59:48.697Z"
   },
   {
    "duration": 816,
    "start_time": "2022-05-05T14:59:49.227Z"
   },
   {
    "duration": 124,
    "start_time": "2022-05-05T14:59:50.046Z"
   },
   {
    "duration": 0,
    "start_time": "2022-05-05T14:59:50.172Z"
   },
   {
    "duration": 58,
    "start_time": "2022-05-05T18:19:10.716Z"
   },
   {
    "duration": 1007,
    "start_time": "2022-05-05T18:19:18.132Z"
   },
   {
    "duration": 190,
    "start_time": "2022-05-05T18:19:19.142Z"
   },
   {
    "duration": 21,
    "start_time": "2022-05-05T18:19:19.338Z"
   },
   {
    "duration": 10,
    "start_time": "2022-05-05T18:19:19.361Z"
   },
   {
    "duration": 111,
    "start_time": "2022-05-05T18:19:19.374Z"
   },
   {
    "duration": 639,
    "start_time": "2022-05-05T18:19:19.488Z"
   },
   {
    "duration": 35,
    "start_time": "2022-05-05T18:19:20.129Z"
   },
   {
    "duration": 7,
    "start_time": "2022-05-05T18:19:20.166Z"
   },
   {
    "duration": 467,
    "start_time": "2022-05-05T18:19:20.175Z"
   },
   {
    "duration": 354,
    "start_time": "2022-05-05T18:19:20.644Z"
   },
   {
    "duration": 348,
    "start_time": "2022-05-05T18:19:21.001Z"
   },
   {
    "duration": 207,
    "start_time": "2022-05-05T18:19:21.351Z"
   },
   {
    "duration": 374,
    "start_time": "2022-05-05T18:19:21.560Z"
   },
   {
    "duration": 643,
    "start_time": "2022-05-05T18:19:21.941Z"
   },
   {
    "duration": 648,
    "start_time": "2022-05-05T18:19:22.585Z"
   },
   {
    "duration": 4,
    "start_time": "2022-05-05T18:19:23.239Z"
   },
   {
    "duration": 210,
    "start_time": "2022-05-05T18:19:23.244Z"
   },
   {
    "duration": 189,
    "start_time": "2022-05-05T18:19:23.455Z"
   },
   {
    "duration": 187,
    "start_time": "2022-05-05T18:19:23.646Z"
   },
   {
    "duration": 197,
    "start_time": "2022-05-05T18:19:23.840Z"
   },
   {
    "duration": 224,
    "start_time": "2022-05-05T18:19:24.039Z"
   },
   {
    "duration": 232,
    "start_time": "2022-05-05T18:19:24.265Z"
   },
   {
    "duration": 606,
    "start_time": "2022-05-05T18:19:24.502Z"
   },
   {
    "duration": 39,
    "start_time": "2022-05-05T18:19:25.110Z"
   },
   {
    "duration": 213,
    "start_time": "2022-05-05T18:19:25.151Z"
   },
   {
    "duration": 9,
    "start_time": "2022-05-05T18:19:25.366Z"
   },
   {
    "duration": 91,
    "start_time": "2022-05-05T18:19:25.377Z"
   },
   {
    "duration": 340,
    "start_time": "2022-05-05T18:19:25.470Z"
   },
   {
    "duration": 334,
    "start_time": "2022-05-05T18:19:25.812Z"
   },
   {
    "duration": 169,
    "start_time": "2022-05-05T18:19:26.148Z"
   },
   {
    "duration": 344,
    "start_time": "2022-05-05T18:19:26.319Z"
   },
   {
    "duration": 614,
    "start_time": "2022-05-05T18:19:26.665Z"
   },
   {
    "duration": 336,
    "start_time": "2022-05-05T18:19:27.281Z"
   },
   {
    "duration": 537,
    "start_time": "2022-05-05T18:19:27.619Z"
   },
   {
    "duration": 1253,
    "start_time": "2022-05-06T07:11:25.791Z"
   },
   {
    "duration": 157,
    "start_time": "2022-05-06T07:11:27.047Z"
   },
   {
    "duration": 22,
    "start_time": "2022-05-06T07:11:27.206Z"
   },
   {
    "duration": 13,
    "start_time": "2022-05-06T07:11:27.252Z"
   },
   {
    "duration": 121,
    "start_time": "2022-05-06T07:11:27.268Z"
   },
   {
    "duration": 794,
    "start_time": "2022-05-06T07:11:27.391Z"
   },
   {
    "duration": 40,
    "start_time": "2022-05-06T07:11:28.188Z"
   },
   {
    "duration": 22,
    "start_time": "2022-05-06T07:11:28.230Z"
   },
   {
    "duration": 546,
    "start_time": "2022-05-06T07:11:28.254Z"
   },
   {
    "duration": 1064,
    "start_time": "2022-05-06T07:11:28.804Z"
   },
   {
    "duration": 1510,
    "start_time": "2022-05-06T07:11:29.871Z"
   },
   {
    "duration": 780,
    "start_time": "2022-05-06T07:11:31.384Z"
   },
   {
    "duration": 1396,
    "start_time": "2022-05-06T07:11:32.167Z"
   },
   {
    "duration": 814,
    "start_time": "2022-05-06T07:11:33.566Z"
   },
   {
    "duration": 895,
    "start_time": "2022-05-06T07:11:34.383Z"
   },
   {
    "duration": 4,
    "start_time": "2022-05-06T07:11:35.281Z"
   },
   {
    "duration": 289,
    "start_time": "2022-05-06T07:11:35.287Z"
   },
   {
    "duration": 278,
    "start_time": "2022-05-06T07:11:35.578Z"
   },
   {
    "duration": 248,
    "start_time": "2022-05-06T07:11:35.859Z"
   },
   {
    "duration": 219,
    "start_time": "2022-05-06T07:11:36.109Z"
   },
   {
    "duration": 288,
    "start_time": "2022-05-06T07:11:36.330Z"
   },
   {
    "duration": 301,
    "start_time": "2022-05-06T07:11:36.620Z"
   },
   {
    "duration": 794,
    "start_time": "2022-05-06T07:11:36.923Z"
   },
   {
    "duration": 56,
    "start_time": "2022-05-06T07:11:37.719Z"
   },
   {
    "duration": 290,
    "start_time": "2022-05-06T07:11:37.778Z"
   },
   {
    "duration": 12,
    "start_time": "2022-05-06T07:11:38.070Z"
   },
   {
    "duration": 119,
    "start_time": "2022-05-06T07:11:38.084Z"
   },
   {
    "duration": 437,
    "start_time": "2022-05-06T07:11:38.207Z"
   },
   {
    "duration": 446,
    "start_time": "2022-05-06T07:11:38.652Z"
   },
   {
    "duration": 239,
    "start_time": "2022-05-06T07:11:39.100Z"
   },
   {
    "duration": 500,
    "start_time": "2022-05-06T07:11:39.341Z"
   },
   {
    "duration": 791,
    "start_time": "2022-05-06T07:11:39.843Z"
   },
   {
    "duration": 448,
    "start_time": "2022-05-06T07:11:40.637Z"
   },
   {
    "duration": 744,
    "start_time": "2022-05-06T07:11:41.088Z"
   },
   {
    "duration": 586,
    "start_time": "2022-05-06T07:11:41.835Z"
   },
   {
    "duration": 771,
    "start_time": "2022-05-06T07:11:55.883Z"
   },
   {
    "duration": 139,
    "start_time": "2022-05-06T07:11:56.657Z"
   },
   {
    "duration": 21,
    "start_time": "2022-05-06T07:11:56.798Z"
   },
   {
    "duration": 29,
    "start_time": "2022-05-06T07:11:56.822Z"
   },
   {
    "duration": 105,
    "start_time": "2022-05-06T07:11:56.855Z"
   },
   {
    "duration": 1032,
    "start_time": "2022-05-06T07:11:56.962Z"
   },
   {
    "duration": 39,
    "start_time": "2022-05-06T07:11:57.997Z"
   },
   {
    "duration": 4,
    "start_time": "2022-05-06T07:11:58.053Z"
   },
   {
    "duration": 527,
    "start_time": "2022-05-06T07:11:58.060Z"
   },
   {
    "duration": 470,
    "start_time": "2022-05-06T07:11:58.589Z"
   },
   {
    "duration": 509,
    "start_time": "2022-05-06T07:11:59.062Z"
   },
   {
    "duration": 486,
    "start_time": "2022-05-06T07:11:59.573Z"
   },
   {
    "duration": 916,
    "start_time": "2022-05-06T07:12:00.062Z"
   },
   {
    "duration": 1390,
    "start_time": "2022-05-06T07:12:00.982Z"
   },
   {
    "duration": 882,
    "start_time": "2022-05-06T07:12:02.374Z"
   },
   {
    "duration": 4,
    "start_time": "2022-05-06T07:12:03.258Z"
   },
   {
    "duration": 294,
    "start_time": "2022-05-06T07:12:03.264Z"
   },
   {
    "duration": 271,
    "start_time": "2022-05-06T07:12:03.561Z"
   },
   {
    "duration": 249,
    "start_time": "2022-05-06T07:12:03.835Z"
   },
   {
    "duration": 216,
    "start_time": "2022-05-06T07:12:04.087Z"
   },
   {
    "duration": 287,
    "start_time": "2022-05-06T07:12:04.306Z"
   },
   {
    "duration": 294,
    "start_time": "2022-05-06T07:12:04.595Z"
   },
   {
    "duration": 764,
    "start_time": "2022-05-06T07:12:04.892Z"
   },
   {
    "duration": 41,
    "start_time": "2022-05-06T07:12:05.658Z"
   },
   {
    "duration": 308,
    "start_time": "2022-05-06T07:12:05.701Z"
   },
   {
    "duration": 12,
    "start_time": "2022-05-06T07:12:06.012Z"
   },
   {
    "duration": 117,
    "start_time": "2022-05-06T07:12:06.026Z"
   },
   {
    "duration": 433,
    "start_time": "2022-05-06T07:12:06.145Z"
   },
   {
    "duration": 449,
    "start_time": "2022-05-06T07:12:06.581Z"
   },
   {
    "duration": 232,
    "start_time": "2022-05-06T07:12:07.032Z"
   },
   {
    "duration": 486,
    "start_time": "2022-05-06T07:12:07.266Z"
   },
   {
    "duration": 753,
    "start_time": "2022-05-06T07:12:07.754Z"
   },
   {
    "duration": 431,
    "start_time": "2022-05-06T07:12:08.510Z"
   },
   {
    "duration": 711,
    "start_time": "2022-05-06T07:12:08.943Z"
   },
   {
    "duration": 779,
    "start_time": "2022-05-06T07:14:07.991Z"
   },
   {
    "duration": 136,
    "start_time": "2022-05-06T07:14:08.773Z"
   },
   {
    "duration": 41,
    "start_time": "2022-05-06T07:14:08.916Z"
   },
   {
    "duration": 11,
    "start_time": "2022-05-06T07:14:08.959Z"
   },
   {
    "duration": 112,
    "start_time": "2022-05-06T07:14:08.972Z"
   },
   {
    "duration": 796,
    "start_time": "2022-05-06T07:14:09.086Z"
   },
   {
    "duration": 39,
    "start_time": "2022-05-06T07:14:09.884Z"
   },
   {
    "duration": 27,
    "start_time": "2022-05-06T07:14:09.925Z"
   },
   {
    "duration": 527,
    "start_time": "2022-05-06T07:14:09.956Z"
   },
   {
    "duration": 498,
    "start_time": "2022-05-06T07:14:10.485Z"
   },
   {
    "duration": 877,
    "start_time": "2022-05-06T07:14:10.985Z"
   },
   {
    "duration": 491,
    "start_time": "2022-05-06T07:14:11.864Z"
   },
   {
    "duration": 931,
    "start_time": "2022-05-06T07:14:12.357Z"
   },
   {
    "duration": 1197,
    "start_time": "2022-05-06T07:14:13.290Z"
   },
   {
    "duration": 918,
    "start_time": "2022-05-06T07:14:14.489Z"
   },
   {
    "duration": 3,
    "start_time": "2022-05-06T07:14:15.410Z"
   },
   {
    "duration": 291,
    "start_time": "2022-05-06T07:14:15.416Z"
   },
   {
    "duration": 268,
    "start_time": "2022-05-06T07:14:15.709Z"
   },
   {
    "duration": 250,
    "start_time": "2022-05-06T07:14:15.980Z"
   },
   {
    "duration": 210,
    "start_time": "2022-05-06T07:14:16.232Z"
   },
   {
    "duration": 278,
    "start_time": "2022-05-06T07:14:16.451Z"
   },
   {
    "duration": 312,
    "start_time": "2022-05-06T07:14:16.731Z"
   },
   {
    "duration": 838,
    "start_time": "2022-05-06T07:14:17.052Z"
   },
   {
    "duration": 60,
    "start_time": "2022-05-06T07:14:17.892Z"
   },
   {
    "duration": 306,
    "start_time": "2022-05-06T07:14:17.955Z"
   },
   {
    "duration": 14,
    "start_time": "2022-05-06T07:14:18.264Z"
   },
   {
    "duration": 120,
    "start_time": "2022-05-06T07:14:18.283Z"
   },
   {
    "duration": 457,
    "start_time": "2022-05-06T07:14:18.405Z"
   },
   {
    "duration": 466,
    "start_time": "2022-05-06T07:14:18.865Z"
   },
   {
    "duration": 248,
    "start_time": "2022-05-06T07:14:19.334Z"
   },
   {
    "duration": 510,
    "start_time": "2022-05-06T07:14:19.584Z"
   },
   {
    "duration": 772,
    "start_time": "2022-05-06T07:14:20.096Z"
   },
   {
    "duration": 456,
    "start_time": "2022-05-06T07:14:20.870Z"
   },
   {
    "duration": 720,
    "start_time": "2022-05-06T07:14:21.328Z"
   },
   {
    "duration": 811,
    "start_time": "2022-05-06T07:17:13.588Z"
   },
   {
    "duration": 152,
    "start_time": "2022-05-06T07:17:14.402Z"
   },
   {
    "duration": 24,
    "start_time": "2022-05-06T07:17:14.556Z"
   },
   {
    "duration": 10,
    "start_time": "2022-05-06T07:17:14.582Z"
   },
   {
    "duration": 120,
    "start_time": "2022-05-06T07:17:14.594Z"
   },
   {
    "duration": 620,
    "start_time": "2022-05-06T07:17:14.717Z"
   },
   {
    "duration": 55,
    "start_time": "2022-05-06T07:17:15.339Z"
   },
   {
    "duration": 4,
    "start_time": "2022-05-06T07:17:15.397Z"
   },
   {
    "duration": 557,
    "start_time": "2022-05-06T07:17:15.403Z"
   },
   {
    "duration": 895,
    "start_time": "2022-05-06T07:17:15.965Z"
   },
   {
    "duration": 1423,
    "start_time": "2022-05-06T07:17:16.866Z"
   },
   {
    "duration": 773,
    "start_time": "2022-05-06T07:17:18.292Z"
   },
   {
    "duration": 844,
    "start_time": "2022-05-06T07:17:19.067Z"
   },
   {
    "duration": 839,
    "start_time": "2022-05-06T07:17:19.913Z"
   },
   {
    "duration": 919,
    "start_time": "2022-05-06T07:17:20.756Z"
   },
   {
    "duration": 3,
    "start_time": "2022-05-06T07:17:21.677Z"
   },
   {
    "duration": 293,
    "start_time": "2022-05-06T07:17:21.682Z"
   },
   {
    "duration": 270,
    "start_time": "2022-05-06T07:17:21.977Z"
   },
   {
    "duration": 252,
    "start_time": "2022-05-06T07:17:22.256Z"
   },
   {
    "duration": 219,
    "start_time": "2022-05-06T07:17:22.511Z"
   },
   {
    "duration": 294,
    "start_time": "2022-05-06T07:17:22.732Z"
   },
   {
    "duration": 312,
    "start_time": "2022-05-06T07:17:23.028Z"
   },
   {
    "duration": 817,
    "start_time": "2022-05-06T07:17:23.342Z"
   },
   {
    "duration": 44,
    "start_time": "2022-05-06T07:17:24.162Z"
   },
   {
    "duration": 298,
    "start_time": "2022-05-06T07:17:24.208Z"
   },
   {
    "duration": 13,
    "start_time": "2022-05-06T07:17:24.508Z"
   },
   {
    "duration": 140,
    "start_time": "2022-05-06T07:17:24.524Z"
   },
   {
    "duration": 461,
    "start_time": "2022-05-06T07:17:24.669Z"
   },
   {
    "duration": 468,
    "start_time": "2022-05-06T07:17:25.132Z"
   },
   {
    "duration": 262,
    "start_time": "2022-05-06T07:17:25.602Z"
   },
   {
    "duration": 506,
    "start_time": "2022-05-06T07:17:25.866Z"
   },
   {
    "duration": 804,
    "start_time": "2022-05-06T07:17:26.374Z"
   },
   {
    "duration": 448,
    "start_time": "2022-05-06T07:17:27.181Z"
   },
   {
    "duration": 736,
    "start_time": "2022-05-06T07:17:27.631Z"
   },
   {
    "duration": 851,
    "start_time": "2022-05-06T07:18:07.014Z"
   },
   {
    "duration": 148,
    "start_time": "2022-05-06T07:18:07.868Z"
   },
   {
    "duration": 44,
    "start_time": "2022-05-06T07:18:08.019Z"
   },
   {
    "duration": 12,
    "start_time": "2022-05-06T07:18:08.067Z"
   },
   {
    "duration": 113,
    "start_time": "2022-05-06T07:18:08.081Z"
   },
   {
    "duration": 616,
    "start_time": "2022-05-06T07:18:08.197Z"
   },
   {
    "duration": 54,
    "start_time": "2022-05-06T07:18:08.815Z"
   },
   {
    "duration": 4,
    "start_time": "2022-05-06T07:18:08.871Z"
   },
   {
    "duration": 550,
    "start_time": "2022-05-06T07:18:08.879Z"
   },
   {
    "duration": 490,
    "start_time": "2022-05-06T07:18:09.433Z"
   },
   {
    "duration": 446,
    "start_time": "2022-05-06T07:18:09.926Z"
   },
   {
    "duration": 413,
    "start_time": "2022-05-06T07:18:10.375Z"
   },
   {
    "duration": 999,
    "start_time": "2022-05-06T07:18:10.791Z"
   },
   {
    "duration": 1712,
    "start_time": "2022-05-06T07:18:11.792Z"
   },
   {
    "duration": 913,
    "start_time": "2022-05-06T07:18:13.506Z"
   },
   {
    "duration": 4,
    "start_time": "2022-05-06T07:18:14.421Z"
   },
   {
    "duration": 299,
    "start_time": "2022-05-06T07:18:14.427Z"
   },
   {
    "duration": 278,
    "start_time": "2022-05-06T07:18:14.728Z"
   },
   {
    "duration": 276,
    "start_time": "2022-05-06T07:18:15.009Z"
   },
   {
    "duration": 235,
    "start_time": "2022-05-06T07:18:15.288Z"
   },
   {
    "duration": 412,
    "start_time": "2022-05-06T07:18:15.526Z"
   },
   {
    "duration": 316,
    "start_time": "2022-05-06T07:18:15.952Z"
   },
   {
    "duration": 829,
    "start_time": "2022-05-06T07:18:16.270Z"
   },
   {
    "duration": 57,
    "start_time": "2022-05-06T07:18:17.102Z"
   },
   {
    "duration": 283,
    "start_time": "2022-05-06T07:18:17.161Z"
   },
   {
    "duration": 13,
    "start_time": "2022-05-06T07:18:17.459Z"
   },
   {
    "duration": 105,
    "start_time": "2022-05-06T07:18:17.474Z"
   },
   {
    "duration": 471,
    "start_time": "2022-05-06T07:18:17.584Z"
   },
   {
    "duration": 457,
    "start_time": "2022-05-06T07:18:18.057Z"
   },
   {
    "duration": 246,
    "start_time": "2022-05-06T07:18:18.517Z"
   },
   {
    "duration": 505,
    "start_time": "2022-05-06T07:18:18.765Z"
   },
   {
    "duration": 808,
    "start_time": "2022-05-06T07:18:19.272Z"
   },
   {
    "duration": 457,
    "start_time": "2022-05-06T07:18:20.083Z"
   },
   {
    "duration": 744,
    "start_time": "2022-05-06T07:18:20.542Z"
   },
   {
    "duration": 7,
    "start_time": "2022-05-06T07:19:29.077Z"
   },
   {
    "duration": 40,
    "start_time": "2022-05-06T07:23:12.584Z"
   },
   {
    "duration": 869,
    "start_time": "2022-05-06T07:23:28.525Z"
   },
   {
    "duration": 151,
    "start_time": "2022-05-06T07:23:29.396Z"
   },
   {
    "duration": 29,
    "start_time": "2022-05-06T07:23:29.554Z"
   },
   {
    "duration": 13,
    "start_time": "2022-05-06T07:23:29.587Z"
   },
   {
    "duration": 123,
    "start_time": "2022-05-06T07:23:29.602Z"
   },
   {
    "duration": 61,
    "start_time": "2022-05-06T07:23:29.727Z"
   },
   {
    "duration": 652,
    "start_time": "2022-05-06T07:23:29.791Z"
   },
   {
    "duration": 47,
    "start_time": "2022-05-06T07:23:30.445Z"
   },
   {
    "duration": 3,
    "start_time": "2022-05-06T07:23:30.494Z"
   },
   {
    "duration": 899,
    "start_time": "2022-05-06T07:23:30.501Z"
   },
   {
    "duration": 1620,
    "start_time": "2022-05-06T07:23:31.452Z"
   },
   {
    "duration": 919,
    "start_time": "2022-05-06T07:23:33.074Z"
   },
   {
    "duration": 400,
    "start_time": "2022-05-06T07:23:33.995Z"
   },
   {
    "duration": 494,
    "start_time": "2022-05-06T07:23:34.397Z"
   },
   {
    "duration": 825,
    "start_time": "2022-05-06T07:23:34.893Z"
   },
   {
    "duration": 950,
    "start_time": "2022-05-06T07:23:35.721Z"
   },
   {
    "duration": 3,
    "start_time": "2022-05-06T07:23:36.674Z"
   },
   {
    "duration": 296,
    "start_time": "2022-05-06T07:23:36.679Z"
   },
   {
    "duration": 289,
    "start_time": "2022-05-06T07:23:36.977Z"
   },
   {
    "duration": 280,
    "start_time": "2022-05-06T07:23:37.272Z"
   },
   {
    "duration": 240,
    "start_time": "2022-05-06T07:23:37.557Z"
   },
   {
    "duration": 315,
    "start_time": "2022-05-06T07:23:37.799Z"
   },
   {
    "duration": 312,
    "start_time": "2022-05-06T07:23:38.117Z"
   },
   {
    "duration": 831,
    "start_time": "2022-05-06T07:23:38.432Z"
   },
   {
    "duration": 41,
    "start_time": "2022-05-06T07:23:39.266Z"
   },
   {
    "duration": 302,
    "start_time": "2022-05-06T07:23:39.310Z"
   },
   {
    "duration": 13,
    "start_time": "2022-05-06T07:23:39.614Z"
   },
   {
    "duration": 126,
    "start_time": "2022-05-06T07:23:39.632Z"
   },
   {
    "duration": 462,
    "start_time": "2022-05-06T07:23:39.761Z"
   },
   {
    "duration": 475,
    "start_time": "2022-05-06T07:23:40.225Z"
   },
   {
    "duration": 251,
    "start_time": "2022-05-06T07:23:40.703Z"
   },
   {
    "duration": 514,
    "start_time": "2022-05-06T07:23:40.960Z"
   },
   {
    "duration": 809,
    "start_time": "2022-05-06T07:23:41.476Z"
   },
   {
    "duration": 460,
    "start_time": "2022-05-06T07:23:42.287Z"
   },
   {
    "duration": 733,
    "start_time": "2022-05-06T07:23:42.749Z"
   },
   {
    "duration": 122,
    "start_time": "2022-05-06T07:25:01.445Z"
   },
   {
    "duration": 38,
    "start_time": "2022-05-06T07:25:42.949Z"
   },
   {
    "duration": 38,
    "start_time": "2022-05-06T07:25:53.983Z"
   },
   {
    "duration": 847,
    "start_time": "2022-05-06T07:26:17.132Z"
   },
   {
    "duration": 145,
    "start_time": "2022-05-06T07:26:17.981Z"
   },
   {
    "duration": 34,
    "start_time": "2022-05-06T07:26:18.128Z"
   },
   {
    "duration": 11,
    "start_time": "2022-05-06T07:26:18.165Z"
   },
   {
    "duration": 117,
    "start_time": "2022-05-06T07:26:18.178Z"
   },
   {
    "duration": 32,
    "start_time": "2022-05-06T07:26:18.297Z"
   },
   {
    "duration": 82,
    "start_time": "2022-05-06T07:26:18.331Z"
   },
   {
    "duration": 613,
    "start_time": "2022-05-06T07:26:18.415Z"
   },
   {
    "duration": 48,
    "start_time": "2022-05-06T07:26:19.030Z"
   },
   {
    "duration": 3,
    "start_time": "2022-05-06T07:26:19.082Z"
   },
   {
    "duration": 536,
    "start_time": "2022-05-06T07:26:19.088Z"
   },
   {
    "duration": 509,
    "start_time": "2022-05-06T07:26:19.627Z"
   },
   {
    "duration": 463,
    "start_time": "2022-05-06T07:26:20.138Z"
   },
   {
    "duration": 274,
    "start_time": "2022-05-06T07:26:20.603Z"
   },
   {
    "duration": 518,
    "start_time": "2022-05-06T07:26:20.879Z"
   },
   {
    "duration": 871,
    "start_time": "2022-05-06T07:26:21.399Z"
   },
   {
    "duration": 943,
    "start_time": "2022-05-06T07:26:22.272Z"
   },
   {
    "duration": 3,
    "start_time": "2022-05-06T07:26:23.217Z"
   },
   {
    "duration": 295,
    "start_time": "2022-05-06T07:26:23.222Z"
   },
   {
    "duration": 276,
    "start_time": "2022-05-06T07:26:23.519Z"
   },
   {
    "duration": 267,
    "start_time": "2022-05-06T07:26:23.797Z"
   },
   {
    "duration": 215,
    "start_time": "2022-05-06T07:26:24.066Z"
   },
   {
    "duration": 295,
    "start_time": "2022-05-06T07:26:24.283Z"
   },
   {
    "duration": 301,
    "start_time": "2022-05-06T07:26:24.580Z"
   },
   {
    "duration": 802,
    "start_time": "2022-05-06T07:26:24.883Z"
   },
   {
    "duration": 43,
    "start_time": "2022-05-06T07:26:25.687Z"
   },
   {
    "duration": 289,
    "start_time": "2022-05-06T07:26:25.752Z"
   },
   {
    "duration": 12,
    "start_time": "2022-05-06T07:26:26.051Z"
   },
   {
    "duration": 115,
    "start_time": "2022-05-06T07:26:26.065Z"
   },
   {
    "duration": 472,
    "start_time": "2022-05-06T07:26:26.182Z"
   },
   {
    "duration": 476,
    "start_time": "2022-05-06T07:26:26.657Z"
   },
   {
    "duration": 243,
    "start_time": "2022-05-06T07:26:27.136Z"
   },
   {
    "duration": 525,
    "start_time": "2022-05-06T07:26:27.381Z"
   },
   {
    "duration": 793,
    "start_time": "2022-05-06T07:26:27.908Z"
   },
   {
    "duration": 572,
    "start_time": "2022-05-06T07:26:28.703Z"
   },
   {
    "duration": 738,
    "start_time": "2022-05-06T07:26:29.278Z"
   },
   {
    "duration": 26,
    "start_time": "2022-05-06T07:28:01.270Z"
   },
   {
    "duration": 58,
    "start_time": "2022-05-06T07:28:27.173Z"
   },
   {
    "duration": 61,
    "start_time": "2022-05-06T07:29:40.597Z"
   },
   {
    "duration": 915,
    "start_time": "2022-05-06T07:32:16.476Z"
   },
   {
    "duration": 160,
    "start_time": "2022-05-06T07:32:17.393Z"
   },
   {
    "duration": 27,
    "start_time": "2022-05-06T07:32:17.557Z"
   },
   {
    "duration": 12,
    "start_time": "2022-05-06T07:32:17.587Z"
   },
   {
    "duration": 136,
    "start_time": "2022-05-06T07:32:17.602Z"
   },
   {
    "duration": 43,
    "start_time": "2022-05-06T07:32:17.741Z"
   },
   {
    "duration": 97,
    "start_time": "2022-05-06T07:32:17.786Z"
   },
   {
    "duration": 950,
    "start_time": "2022-05-06T07:32:17.886Z"
   },
   {
    "duration": 66,
    "start_time": "2022-05-06T07:32:18.839Z"
   },
   {
    "duration": 4,
    "start_time": "2022-05-06T07:32:18.909Z"
   },
   {
    "duration": 588,
    "start_time": "2022-05-06T07:32:18.915Z"
   },
   {
    "duration": 591,
    "start_time": "2022-05-06T07:32:19.506Z"
   },
   {
    "duration": 476,
    "start_time": "2022-05-06T07:32:20.100Z"
   },
   {
    "duration": 292,
    "start_time": "2022-05-06T07:32:20.579Z"
   },
   {
    "duration": 518,
    "start_time": "2022-05-06T07:32:20.873Z"
   },
   {
    "duration": 995,
    "start_time": "2022-05-06T07:32:21.393Z"
   },
   {
    "duration": 1093,
    "start_time": "2022-05-06T07:32:22.391Z"
   },
   {
    "duration": 4,
    "start_time": "2022-05-06T07:32:23.487Z"
   },
   {
    "duration": 317,
    "start_time": "2022-05-06T07:32:23.494Z"
   },
   {
    "duration": 281,
    "start_time": "2022-05-06T07:32:23.813Z"
   },
   {
    "duration": 273,
    "start_time": "2022-05-06T07:32:24.097Z"
   },
   {
    "duration": 233,
    "start_time": "2022-05-06T07:32:24.373Z"
   },
   {
    "duration": 300,
    "start_time": "2022-05-06T07:32:24.608Z"
   },
   {
    "duration": 308,
    "start_time": "2022-05-06T07:32:24.911Z"
   },
   {
    "duration": 839,
    "start_time": "2022-05-06T07:32:25.221Z"
   },
   {
    "duration": 49,
    "start_time": "2022-05-06T07:32:26.063Z"
   },
   {
    "duration": 317,
    "start_time": "2022-05-06T07:32:26.114Z"
   },
   {
    "duration": 22,
    "start_time": "2022-05-06T07:32:26.437Z"
   },
   {
    "duration": 119,
    "start_time": "2022-05-06T07:32:26.461Z"
   },
   {
    "duration": 481,
    "start_time": "2022-05-06T07:32:26.582Z"
   },
   {
    "duration": 455,
    "start_time": "2022-05-06T07:32:27.066Z"
   },
   {
    "duration": 244,
    "start_time": "2022-05-06T07:32:27.523Z"
   },
   {
    "duration": 513,
    "start_time": "2022-05-06T07:32:27.769Z"
   },
   {
    "duration": 812,
    "start_time": "2022-05-06T07:32:28.284Z"
   },
   {
    "duration": 472,
    "start_time": "2022-05-06T07:32:29.098Z"
   },
   {
    "duration": 868,
    "start_time": "2022-05-06T07:32:29.573Z"
   },
   {
    "duration": 59,
    "start_time": "2022-05-06T07:57:17.117Z"
   },
   {
    "duration": 844,
    "start_time": "2022-05-06T08:15:40.176Z"
   },
   {
    "duration": 152,
    "start_time": "2022-05-06T08:15:41.023Z"
   },
   {
    "duration": 22,
    "start_time": "2022-05-06T08:15:41.177Z"
   },
   {
    "duration": 11,
    "start_time": "2022-05-06T08:15:41.202Z"
   },
   {
    "duration": 132,
    "start_time": "2022-05-06T08:15:41.215Z"
   },
   {
    "duration": 34,
    "start_time": "2022-05-06T08:15:41.349Z"
   },
   {
    "duration": 90,
    "start_time": "2022-05-06T08:15:41.385Z"
   },
   {
    "duration": 614,
    "start_time": "2022-05-06T08:15:41.477Z"
   },
   {
    "duration": 68,
    "start_time": "2022-05-06T08:15:42.093Z"
   },
   {
    "duration": 5,
    "start_time": "2022-05-06T08:15:42.165Z"
   },
   {
    "duration": 41,
    "start_time": "2022-05-06T08:15:42.174Z"
   },
   {
    "duration": 4,
    "start_time": "2022-05-06T08:15:42.218Z"
   },
   {
    "duration": 565,
    "start_time": "2022-05-06T08:15:42.253Z"
   },
   {
    "duration": 504,
    "start_time": "2022-05-06T08:15:42.821Z"
   },
   {
    "duration": 548,
    "start_time": "2022-05-06T08:15:43.327Z"
   },
   {
    "duration": 507,
    "start_time": "2022-05-06T08:15:43.877Z"
   },
   {
    "duration": 997,
    "start_time": "2022-05-06T08:15:44.386Z"
   },
   {
    "duration": 1545,
    "start_time": "2022-05-06T08:15:45.386Z"
   },
   {
    "duration": 942,
    "start_time": "2022-05-06T08:15:46.933Z"
   },
   {
    "duration": 3,
    "start_time": "2022-05-06T08:15:47.877Z"
   },
   {
    "duration": 296,
    "start_time": "2022-05-06T08:15:47.882Z"
   },
   {
    "duration": 285,
    "start_time": "2022-05-06T08:15:48.180Z"
   },
   {
    "duration": 252,
    "start_time": "2022-05-06T08:15:48.467Z"
   },
   {
    "duration": 238,
    "start_time": "2022-05-06T08:15:48.722Z"
   },
   {
    "duration": 309,
    "start_time": "2022-05-06T08:15:48.962Z"
   },
   {
    "duration": 437,
    "start_time": "2022-05-06T08:15:49.274Z"
   },
   {
    "duration": 853,
    "start_time": "2022-05-06T08:15:49.713Z"
   },
   {
    "duration": 44,
    "start_time": "2022-05-06T08:15:50.570Z"
   },
   {
    "duration": 317,
    "start_time": "2022-05-06T08:15:50.617Z"
   },
   {
    "duration": 25,
    "start_time": "2022-05-06T08:15:50.936Z"
   },
   {
    "duration": 117,
    "start_time": "2022-05-06T08:15:50.964Z"
   },
   {
    "duration": 486,
    "start_time": "2022-05-06T08:15:51.084Z"
   },
   {
    "duration": 484,
    "start_time": "2022-05-06T08:15:51.572Z"
   },
   {
    "duration": 256,
    "start_time": "2022-05-06T08:15:52.058Z"
   },
   {
    "duration": 538,
    "start_time": "2022-05-06T08:15:52.316Z"
   },
   {
    "duration": 825,
    "start_time": "2022-05-06T08:15:52.857Z"
   },
   {
    "duration": 478,
    "start_time": "2022-05-06T08:15:53.685Z"
   },
   {
    "duration": 752,
    "start_time": "2022-05-06T08:15:54.165Z"
   },
   {
    "duration": 958,
    "start_time": "2022-05-06T08:20:08.777Z"
   },
   {
    "duration": 157,
    "start_time": "2022-05-06T08:20:09.738Z"
   },
   {
    "duration": 24,
    "start_time": "2022-05-06T08:20:09.898Z"
   },
   {
    "duration": 34,
    "start_time": "2022-05-06T08:20:09.926Z"
   },
   {
    "duration": 156,
    "start_time": "2022-05-06T08:20:09.963Z"
   },
   {
    "duration": 59,
    "start_time": "2022-05-06T08:20:10.123Z"
   },
   {
    "duration": 119,
    "start_time": "2022-05-06T08:20:10.185Z"
   },
   {
    "duration": 905,
    "start_time": "2022-05-06T08:20:10.307Z"
   },
   {
    "duration": 171,
    "start_time": "2022-05-06T08:20:11.214Z"
   },
   {
    "duration": 64,
    "start_time": "2022-05-06T08:20:11.391Z"
   },
   {
    "duration": 0,
    "start_time": "2022-05-06T08:20:11.458Z"
   },
   {
    "duration": 0,
    "start_time": "2022-05-06T08:20:11.460Z"
   },
   {
    "duration": 0,
    "start_time": "2022-05-06T08:20:11.462Z"
   },
   {
    "duration": 0,
    "start_time": "2022-05-06T08:20:11.465Z"
   },
   {
    "duration": 0,
    "start_time": "2022-05-06T08:20:11.467Z"
   },
   {
    "duration": 0,
    "start_time": "2022-05-06T08:20:11.469Z"
   },
   {
    "duration": 0,
    "start_time": "2022-05-06T08:20:11.471Z"
   },
   {
    "duration": 0,
    "start_time": "2022-05-06T08:20:11.473Z"
   },
   {
    "duration": 0,
    "start_time": "2022-05-06T08:20:11.475Z"
   },
   {
    "duration": 0,
    "start_time": "2022-05-06T08:20:11.477Z"
   },
   {
    "duration": 0,
    "start_time": "2022-05-06T08:20:11.479Z"
   },
   {
    "duration": 1,
    "start_time": "2022-05-06T08:20:11.481Z"
   },
   {
    "duration": 0,
    "start_time": "2022-05-06T08:20:11.485Z"
   },
   {
    "duration": 0,
    "start_time": "2022-05-06T08:20:11.487Z"
   },
   {
    "duration": 0,
    "start_time": "2022-05-06T08:20:11.551Z"
   },
   {
    "duration": 0,
    "start_time": "2022-05-06T08:20:11.554Z"
   },
   {
    "duration": 0,
    "start_time": "2022-05-06T08:20:11.556Z"
   },
   {
    "duration": 0,
    "start_time": "2022-05-06T08:20:11.558Z"
   },
   {
    "duration": 0,
    "start_time": "2022-05-06T08:20:11.560Z"
   },
   {
    "duration": 0,
    "start_time": "2022-05-06T08:20:11.563Z"
   },
   {
    "duration": 0,
    "start_time": "2022-05-06T08:20:11.564Z"
   },
   {
    "duration": 0,
    "start_time": "2022-05-06T08:20:11.567Z"
   },
   {
    "duration": 0,
    "start_time": "2022-05-06T08:20:11.568Z"
   },
   {
    "duration": 0,
    "start_time": "2022-05-06T08:20:11.571Z"
   },
   {
    "duration": 0,
    "start_time": "2022-05-06T08:20:11.573Z"
   },
   {
    "duration": 0,
    "start_time": "2022-05-06T08:20:11.575Z"
   },
   {
    "duration": 0,
    "start_time": "2022-05-06T08:20:11.577Z"
   },
   {
    "duration": 0,
    "start_time": "2022-05-06T08:20:11.580Z"
   },
   {
    "duration": 0,
    "start_time": "2022-05-06T08:20:11.582Z"
   },
   {
    "duration": 1,
    "start_time": "2022-05-06T08:20:11.584Z"
   },
   {
    "duration": 880,
    "start_time": "2022-05-06T08:21:03.132Z"
   },
   {
    "duration": 150,
    "start_time": "2022-05-06T08:21:04.015Z"
   },
   {
    "duration": 25,
    "start_time": "2022-05-06T08:21:04.168Z"
   },
   {
    "duration": 15,
    "start_time": "2022-05-06T08:21:04.195Z"
   },
   {
    "duration": 138,
    "start_time": "2022-05-06T08:21:04.215Z"
   },
   {
    "duration": 36,
    "start_time": "2022-05-06T08:21:04.356Z"
   },
   {
    "duration": 104,
    "start_time": "2022-05-06T08:21:04.395Z"
   },
   {
    "duration": 606,
    "start_time": "2022-05-06T08:21:04.501Z"
   },
   {
    "duration": 65,
    "start_time": "2022-05-06T08:21:05.110Z"
   },
   {
    "duration": 23,
    "start_time": "2022-05-06T08:21:05.177Z"
   },
   {
    "duration": 83,
    "start_time": "2022-05-06T08:21:05.202Z"
   },
   {
    "duration": 5,
    "start_time": "2022-05-06T08:21:05.287Z"
   },
   {
    "duration": 60,
    "start_time": "2022-05-06T08:21:05.294Z"
   },
   {
    "duration": 4,
    "start_time": "2022-05-06T08:21:05.358Z"
   },
   {
    "duration": 551,
    "start_time": "2022-05-06T08:21:05.364Z"
   },
   {
    "duration": 502,
    "start_time": "2022-05-06T08:21:05.918Z"
   },
   {
    "duration": 452,
    "start_time": "2022-05-06T08:21:06.423Z"
   },
   {
    "duration": 264,
    "start_time": "2022-05-06T08:21:06.877Z"
   },
   {
    "duration": 496,
    "start_time": "2022-05-06T08:21:07.143Z"
   },
   {
    "duration": 848,
    "start_time": "2022-05-06T08:21:07.641Z"
   },
   {
    "duration": 913,
    "start_time": "2022-05-06T08:21:08.491Z"
   },
   {
    "duration": 3,
    "start_time": "2022-05-06T08:21:09.407Z"
   },
   {
    "duration": 401,
    "start_time": "2022-05-06T08:21:09.414Z"
   },
   {
    "duration": 282,
    "start_time": "2022-05-06T08:21:09.818Z"
   },
   {
    "duration": 269,
    "start_time": "2022-05-06T08:21:10.103Z"
   },
   {
    "duration": 224,
    "start_time": "2022-05-06T08:21:10.375Z"
   },
   {
    "duration": 304,
    "start_time": "2022-05-06T08:21:10.602Z"
   },
   {
    "duration": 314,
    "start_time": "2022-05-06T08:21:10.909Z"
   },
   {
    "duration": 818,
    "start_time": "2022-05-06T08:21:11.226Z"
   },
   {
    "duration": 45,
    "start_time": "2022-05-06T08:21:12.051Z"
   },
   {
    "duration": 313,
    "start_time": "2022-05-06T08:21:12.099Z"
   },
   {
    "duration": 14,
    "start_time": "2022-05-06T08:21:12.415Z"
   },
   {
    "duration": 128,
    "start_time": "2022-05-06T08:21:12.431Z"
   },
   {
    "duration": 451,
    "start_time": "2022-05-06T08:21:12.562Z"
   },
   {
    "duration": 463,
    "start_time": "2022-05-06T08:21:13.015Z"
   },
   {
    "duration": 242,
    "start_time": "2022-05-06T08:21:13.480Z"
   },
   {
    "duration": 514,
    "start_time": "2022-05-06T08:21:13.724Z"
   },
   {
    "duration": 895,
    "start_time": "2022-05-06T08:21:14.240Z"
   },
   {
    "duration": 456,
    "start_time": "2022-05-06T08:21:15.137Z"
   },
   {
    "duration": 740,
    "start_time": "2022-05-06T08:21:15.595Z"
   },
   {
    "duration": 885,
    "start_time": "2022-05-06T08:22:14.631Z"
   },
   {
    "duration": 151,
    "start_time": "2022-05-06T08:22:15.519Z"
   },
   {
    "duration": 23,
    "start_time": "2022-05-06T08:22:15.672Z"
   },
   {
    "duration": 11,
    "start_time": "2022-05-06T08:22:15.699Z"
   },
   {
    "duration": 130,
    "start_time": "2022-05-06T08:22:15.712Z"
   },
   {
    "duration": 32,
    "start_time": "2022-05-06T08:22:15.852Z"
   },
   {
    "duration": 95,
    "start_time": "2022-05-06T08:22:15.886Z"
   },
   {
    "duration": 603,
    "start_time": "2022-05-06T08:22:15.983Z"
   },
   {
    "duration": 74,
    "start_time": "2022-05-06T08:22:16.588Z"
   },
   {
    "duration": 5,
    "start_time": "2022-05-06T08:22:16.666Z"
   },
   {
    "duration": 44,
    "start_time": "2022-05-06T08:22:16.673Z"
   },
   {
    "duration": 4,
    "start_time": "2022-05-06T08:22:16.719Z"
   },
   {
    "duration": 545,
    "start_time": "2022-05-06T08:22:16.752Z"
   },
   {
    "duration": 730,
    "start_time": "2022-05-06T08:22:17.299Z"
   },
   {
    "duration": 489,
    "start_time": "2022-05-06T08:22:18.031Z"
   },
   {
    "duration": 267,
    "start_time": "2022-05-06T08:22:18.523Z"
   },
   {
    "duration": 511,
    "start_time": "2022-05-06T08:22:18.793Z"
   },
   {
    "duration": 851,
    "start_time": "2022-05-06T08:22:19.307Z"
   },
   {
    "duration": 921,
    "start_time": "2022-05-06T08:22:20.161Z"
   },
   {
    "duration": 3,
    "start_time": "2022-05-06T08:22:21.084Z"
   },
   {
    "duration": 300,
    "start_time": "2022-05-06T08:22:21.090Z"
   },
   {
    "duration": 281,
    "start_time": "2022-05-06T08:22:21.393Z"
   },
   {
    "duration": 260,
    "start_time": "2022-05-06T08:22:21.676Z"
   },
   {
    "duration": 239,
    "start_time": "2022-05-06T08:22:21.939Z"
   },
   {
    "duration": 313,
    "start_time": "2022-05-06T08:22:22.180Z"
   },
   {
    "duration": 318,
    "start_time": "2022-05-06T08:22:22.495Z"
   },
   {
    "duration": 836,
    "start_time": "2022-05-06T08:22:22.816Z"
   },
   {
    "duration": 42,
    "start_time": "2022-05-06T08:22:23.657Z"
   },
   {
    "duration": 304,
    "start_time": "2022-05-06T08:22:23.701Z"
   },
   {
    "duration": 15,
    "start_time": "2022-05-06T08:22:24.008Z"
   },
   {
    "duration": 132,
    "start_time": "2022-05-06T08:22:24.026Z"
   },
   {
    "duration": 482,
    "start_time": "2022-05-06T08:22:24.160Z"
   },
   {
    "duration": 475,
    "start_time": "2022-05-06T08:22:24.644Z"
   },
   {
    "duration": 250,
    "start_time": "2022-05-06T08:22:25.121Z"
   },
   {
    "duration": 532,
    "start_time": "2022-05-06T08:22:25.373Z"
   },
   {
    "duration": 835,
    "start_time": "2022-05-06T08:22:25.907Z"
   },
   {
    "duration": 482,
    "start_time": "2022-05-06T08:22:26.752Z"
   },
   {
    "duration": 763,
    "start_time": "2022-05-06T08:22:27.236Z"
   },
   {
    "duration": 120,
    "start_time": "2022-05-06T08:26:04.425Z"
   },
   {
    "duration": 16,
    "start_time": "2022-05-06T08:27:14.255Z"
   },
   {
    "duration": 24,
    "start_time": "2022-05-06T08:28:26.844Z"
   },
   {
    "duration": 1202,
    "start_time": "2022-05-06T08:28:37.624Z"
   },
   {
    "duration": 213,
    "start_time": "2022-05-06T08:28:38.830Z"
   },
   {
    "duration": 32,
    "start_time": "2022-05-06T08:28:39.052Z"
   },
   {
    "duration": 16,
    "start_time": "2022-05-06T08:28:39.088Z"
   },
   {
    "duration": 169,
    "start_time": "2022-05-06T08:28:39.107Z"
   },
   {
    "duration": 34,
    "start_time": "2022-05-06T08:28:39.280Z"
   },
   {
    "duration": 97,
    "start_time": "2022-05-06T08:28:39.316Z"
   },
   {
    "duration": 753,
    "start_time": "2022-05-06T08:28:39.416Z"
   },
   {
    "duration": 57,
    "start_time": "2022-05-06T08:28:40.172Z"
   },
   {
    "duration": 44,
    "start_time": "2022-05-06T08:28:40.232Z"
   },
   {
    "duration": 5,
    "start_time": "2022-05-06T08:28:40.278Z"
   },
   {
    "duration": 81,
    "start_time": "2022-05-06T08:28:40.285Z"
   },
   {
    "duration": 4,
    "start_time": "2022-05-06T08:28:40.368Z"
   },
   {
    "duration": 547,
    "start_time": "2022-05-06T08:28:40.375Z"
   },
   {
    "duration": 538,
    "start_time": "2022-05-06T08:28:40.924Z"
   },
   {
    "duration": 473,
    "start_time": "2022-05-06T08:28:41.464Z"
   },
   {
    "duration": 271,
    "start_time": "2022-05-06T08:28:41.939Z"
   },
   {
    "duration": 511,
    "start_time": "2022-05-06T08:28:42.212Z"
   },
   {
    "duration": 878,
    "start_time": "2022-05-06T08:28:42.725Z"
   },
   {
    "duration": 938,
    "start_time": "2022-05-06T08:28:43.605Z"
   },
   {
    "duration": 8,
    "start_time": "2022-05-06T08:28:44.545Z"
   },
   {
    "duration": 433,
    "start_time": "2022-05-06T08:28:44.556Z"
   },
   {
    "duration": 422,
    "start_time": "2022-05-06T08:28:44.993Z"
   },
   {
    "duration": 391,
    "start_time": "2022-05-06T08:28:45.418Z"
   },
   {
    "duration": 330,
    "start_time": "2022-05-06T08:28:45.812Z"
   },
   {
    "duration": 331,
    "start_time": "2022-05-06T08:28:46.152Z"
   },
   {
    "duration": 327,
    "start_time": "2022-05-06T08:28:46.485Z"
   },
   {
    "duration": 864,
    "start_time": "2022-05-06T08:28:46.817Z"
   },
   {
    "duration": 50,
    "start_time": "2022-05-06T08:28:47.683Z"
   },
   {
    "duration": 308,
    "start_time": "2022-05-06T08:28:47.752Z"
   },
   {
    "duration": 20,
    "start_time": "2022-05-06T08:28:48.063Z"
   },
   {
    "duration": 186,
    "start_time": "2022-05-06T08:28:48.086Z"
   },
   {
    "duration": 623,
    "start_time": "2022-05-06T08:28:48.276Z"
   },
   {
    "duration": 627,
    "start_time": "2022-05-06T08:28:48.903Z"
   },
   {
    "duration": 275,
    "start_time": "2022-05-06T08:28:49.533Z"
   },
   {
    "duration": 591,
    "start_time": "2022-05-06T08:28:49.812Z"
   },
   {
    "duration": 981,
    "start_time": "2022-05-06T08:28:50.406Z"
   },
   {
    "duration": 508,
    "start_time": "2022-05-06T08:28:51.390Z"
   },
   {
    "duration": 941,
    "start_time": "2022-05-06T08:28:51.903Z"
   },
   {
    "duration": 14,
    "start_time": "2022-05-06T08:33:06.691Z"
   },
   {
    "duration": 559,
    "start_time": "2022-05-06T08:33:13.170Z"
   },
   {
    "duration": 20,
    "start_time": "2022-05-06T08:34:24.813Z"
   },
   {
    "duration": 13,
    "start_time": "2022-05-06T08:38:58.073Z"
   },
   {
    "duration": 1068,
    "start_time": "2022-05-06T08:39:45.499Z"
   },
   {
    "duration": 167,
    "start_time": "2022-05-06T08:39:46.570Z"
   },
   {
    "duration": 40,
    "start_time": "2022-05-06T08:39:46.739Z"
   },
   {
    "duration": 21,
    "start_time": "2022-05-06T08:39:46.785Z"
   },
   {
    "duration": 138,
    "start_time": "2022-05-06T08:39:46.810Z"
   },
   {
    "duration": 50,
    "start_time": "2022-05-06T08:39:46.953Z"
   },
   {
    "duration": 109,
    "start_time": "2022-05-06T08:39:47.006Z"
   },
   {
    "duration": 778,
    "start_time": "2022-05-06T08:39:47.117Z"
   },
   {
    "duration": 71,
    "start_time": "2022-05-06T08:39:47.898Z"
   },
   {
    "duration": 18,
    "start_time": "2022-05-06T08:39:47.975Z"
   },
   {
    "duration": 40,
    "start_time": "2022-05-06T08:39:47.996Z"
   },
   {
    "duration": 66,
    "start_time": "2022-05-06T08:39:48.041Z"
   },
   {
    "duration": 5,
    "start_time": "2022-05-06T08:39:48.111Z"
   },
   {
    "duration": 1154,
    "start_time": "2022-05-06T08:39:48.118Z"
   },
   {
    "duration": 1602,
    "start_time": "2022-05-06T08:39:49.277Z"
   },
   {
    "duration": 1113,
    "start_time": "2022-05-06T08:39:50.882Z"
   },
   {
    "duration": 442,
    "start_time": "2022-05-06T08:39:51.997Z"
   },
   {
    "duration": 537,
    "start_time": "2022-05-06T08:39:52.441Z"
   },
   {
    "duration": 868,
    "start_time": "2022-05-06T08:39:52.980Z"
   },
   {
    "duration": 1021,
    "start_time": "2022-05-06T08:39:53.852Z"
   },
   {
    "duration": 4,
    "start_time": "2022-05-06T08:39:54.875Z"
   },
   {
    "duration": 299,
    "start_time": "2022-05-06T08:39:54.882Z"
   },
   {
    "duration": 279,
    "start_time": "2022-05-06T08:39:55.184Z"
   },
   {
    "duration": 254,
    "start_time": "2022-05-06T08:39:55.466Z"
   },
   {
    "duration": 229,
    "start_time": "2022-05-06T08:39:55.722Z"
   },
   {
    "duration": 301,
    "start_time": "2022-05-06T08:39:55.954Z"
   },
   {
    "duration": 310,
    "start_time": "2022-05-06T08:39:56.257Z"
   },
   {
    "duration": 827,
    "start_time": "2022-05-06T08:39:56.573Z"
   },
   {
    "duration": 59,
    "start_time": "2022-05-06T08:39:57.403Z"
   },
   {
    "duration": 281,
    "start_time": "2022-05-06T08:39:57.464Z"
   },
   {
    "duration": 12,
    "start_time": "2022-05-06T08:39:57.748Z"
   },
   {
    "duration": 117,
    "start_time": "2022-05-06T08:39:57.762Z"
   },
   {
    "duration": 456,
    "start_time": "2022-05-06T08:39:57.881Z"
   },
   {
    "duration": 462,
    "start_time": "2022-05-06T08:39:58.339Z"
   },
   {
    "duration": 242,
    "start_time": "2022-05-06T08:39:58.804Z"
   },
   {
    "duration": 515,
    "start_time": "2022-05-06T08:39:59.053Z"
   },
   {
    "duration": 805,
    "start_time": "2022-05-06T08:39:59.571Z"
   },
   {
    "duration": 465,
    "start_time": "2022-05-06T08:40:00.379Z"
   },
   {
    "duration": 793,
    "start_time": "2022-05-06T08:40:00.846Z"
   },
   {
    "duration": 42,
    "start_time": "2022-05-06T08:43:46.994Z"
   },
   {
    "duration": 44,
    "start_time": "2022-05-06T08:46:10.593Z"
   },
   {
    "duration": 1247,
    "start_time": "2022-05-06T08:46:17.599Z"
   },
   {
    "duration": 152,
    "start_time": "2022-05-06T08:46:18.849Z"
   },
   {
    "duration": 23,
    "start_time": "2022-05-06T08:46:19.003Z"
   },
   {
    "duration": 14,
    "start_time": "2022-05-06T08:46:19.053Z"
   },
   {
    "duration": 119,
    "start_time": "2022-05-06T08:46:19.070Z"
   },
   {
    "duration": 35,
    "start_time": "2022-05-06T08:46:19.192Z"
   },
   {
    "duration": 127,
    "start_time": "2022-05-06T08:46:19.230Z"
   },
   {
    "duration": 917,
    "start_time": "2022-05-06T08:46:19.360Z"
   },
   {
    "duration": 90,
    "start_time": "2022-05-06T08:46:20.280Z"
   },
   {
    "duration": 16,
    "start_time": "2022-05-06T08:46:20.375Z"
   },
   {
    "duration": 15,
    "start_time": "2022-05-06T08:46:20.394Z"
   },
   {
    "duration": 87,
    "start_time": "2022-05-06T08:46:20.412Z"
   },
   {
    "duration": 80,
    "start_time": "2022-05-06T08:46:20.502Z"
   },
   {
    "duration": 8,
    "start_time": "2022-05-06T08:46:20.585Z"
   },
   {
    "duration": 75,
    "start_time": "2022-05-06T08:46:20.596Z"
   },
   {
    "duration": 1817,
    "start_time": "2022-05-06T08:46:20.674Z"
   },
   {
    "duration": 200,
    "start_time": "2022-05-06T08:46:22.494Z"
   },
   {
    "duration": 0,
    "start_time": "2022-05-06T08:46:22.698Z"
   },
   {
    "duration": 0,
    "start_time": "2022-05-06T08:46:22.700Z"
   },
   {
    "duration": 0,
    "start_time": "2022-05-06T08:46:22.702Z"
   },
   {
    "duration": 0,
    "start_time": "2022-05-06T08:46:22.704Z"
   },
   {
    "duration": 0,
    "start_time": "2022-05-06T08:46:22.706Z"
   },
   {
    "duration": 0,
    "start_time": "2022-05-06T08:46:22.709Z"
   },
   {
    "duration": 0,
    "start_time": "2022-05-06T08:46:22.710Z"
   },
   {
    "duration": 0,
    "start_time": "2022-05-06T08:46:22.712Z"
   },
   {
    "duration": 0,
    "start_time": "2022-05-06T08:46:22.714Z"
   },
   {
    "duration": 0,
    "start_time": "2022-05-06T08:46:22.753Z"
   },
   {
    "duration": 0,
    "start_time": "2022-05-06T08:46:22.755Z"
   },
   {
    "duration": 0,
    "start_time": "2022-05-06T08:46:22.757Z"
   },
   {
    "duration": 0,
    "start_time": "2022-05-06T08:46:22.759Z"
   },
   {
    "duration": 0,
    "start_time": "2022-05-06T08:46:22.761Z"
   },
   {
    "duration": 0,
    "start_time": "2022-05-06T08:46:22.764Z"
   },
   {
    "duration": 0,
    "start_time": "2022-05-06T08:46:22.766Z"
   },
   {
    "duration": 0,
    "start_time": "2022-05-06T08:46:22.768Z"
   },
   {
    "duration": 1,
    "start_time": "2022-05-06T08:46:22.770Z"
   },
   {
    "duration": 0,
    "start_time": "2022-05-06T08:46:22.772Z"
   },
   {
    "duration": 0,
    "start_time": "2022-05-06T08:46:22.774Z"
   },
   {
    "duration": 0,
    "start_time": "2022-05-06T08:46:22.776Z"
   },
   {
    "duration": 1,
    "start_time": "2022-05-06T08:46:22.778Z"
   },
   {
    "duration": 0,
    "start_time": "2022-05-06T08:46:22.781Z"
   },
   {
    "duration": 0,
    "start_time": "2022-05-06T08:46:22.782Z"
   },
   {
    "duration": 0,
    "start_time": "2022-05-06T08:46:22.784Z"
   },
   {
    "duration": 1,
    "start_time": "2022-05-06T08:46:22.800Z"
   },
   {
    "duration": 839,
    "start_time": "2022-05-06T08:47:25.093Z"
   },
   {
    "duration": 156,
    "start_time": "2022-05-06T08:47:25.935Z"
   },
   {
    "duration": 24,
    "start_time": "2022-05-06T08:47:26.093Z"
   },
   {
    "duration": 32,
    "start_time": "2022-05-06T08:47:26.120Z"
   },
   {
    "duration": 114,
    "start_time": "2022-05-06T08:47:26.155Z"
   },
   {
    "duration": 35,
    "start_time": "2022-05-06T08:47:26.271Z"
   },
   {
    "duration": 98,
    "start_time": "2022-05-06T08:47:26.308Z"
   },
   {
    "duration": 659,
    "start_time": "2022-05-06T08:47:26.408Z"
   },
   {
    "duration": 49,
    "start_time": "2022-05-06T08:47:27.069Z"
   },
   {
    "duration": 42,
    "start_time": "2022-05-06T08:47:27.122Z"
   },
   {
    "duration": 11,
    "start_time": "2022-05-06T08:47:27.167Z"
   },
   {
    "duration": 39,
    "start_time": "2022-05-06T08:47:27.180Z"
   },
   {
    "duration": 44,
    "start_time": "2022-05-06T08:47:27.251Z"
   },
   {
    "duration": 7,
    "start_time": "2022-05-06T08:47:27.297Z"
   },
   {
    "duration": 46,
    "start_time": "2022-05-06T08:47:27.306Z"
   },
   {
    "duration": 499,
    "start_time": "2022-05-06T08:47:27.354Z"
   },
   {
    "duration": 41,
    "start_time": "2022-05-06T08:47:27.855Z"
   },
   {
    "duration": 506,
    "start_time": "2022-05-06T08:47:27.899Z"
   },
   {
    "duration": 448,
    "start_time": "2022-05-06T08:47:28.407Z"
   },
   {
    "duration": 268,
    "start_time": "2022-05-06T08:47:28.857Z"
   },
   {
    "duration": 488,
    "start_time": "2022-05-06T08:47:29.127Z"
   },
   {
    "duration": 834,
    "start_time": "2022-05-06T08:47:29.617Z"
   },
   {
    "duration": 912,
    "start_time": "2022-05-06T08:47:30.453Z"
   },
   {
    "duration": 4,
    "start_time": "2022-05-06T08:47:31.367Z"
   },
   {
    "duration": 308,
    "start_time": "2022-05-06T08:47:31.373Z"
   },
   {
    "duration": 388,
    "start_time": "2022-05-06T08:47:31.683Z"
   },
   {
    "duration": 255,
    "start_time": "2022-05-06T08:47:32.073Z"
   },
   {
    "duration": 231,
    "start_time": "2022-05-06T08:47:32.333Z"
   },
   {
    "duration": 300,
    "start_time": "2022-05-06T08:47:32.566Z"
   },
   {
    "duration": 303,
    "start_time": "2022-05-06T08:47:32.868Z"
   },
   {
    "duration": 803,
    "start_time": "2022-05-06T08:47:33.174Z"
   },
   {
    "duration": 43,
    "start_time": "2022-05-06T08:47:33.980Z"
   },
   {
    "duration": 307,
    "start_time": "2022-05-06T08:47:34.025Z"
   },
   {
    "duration": 21,
    "start_time": "2022-05-06T08:47:34.334Z"
   },
   {
    "duration": 118,
    "start_time": "2022-05-06T08:47:34.357Z"
   },
   {
    "duration": 795,
    "start_time": "2022-05-06T08:47:34.477Z"
   },
   {
    "duration": 895,
    "start_time": "2022-05-06T08:47:35.274Z"
   },
   {
    "duration": 715,
    "start_time": "2022-05-06T08:47:36.171Z"
   },
   {
    "duration": 945,
    "start_time": "2022-05-06T08:47:36.888Z"
   },
   {
    "duration": 893,
    "start_time": "2022-05-06T08:47:37.835Z"
   },
   {
    "duration": 475,
    "start_time": "2022-05-06T08:47:38.731Z"
   },
   {
    "duration": 708,
    "start_time": "2022-05-06T08:47:39.208Z"
   },
   {
    "duration": 221,
    "start_time": "2022-05-06T08:55:59.819Z"
   },
   {
    "duration": 242,
    "start_time": "2022-05-06T08:58:17.696Z"
   },
   {
    "duration": 572,
    "start_time": "2022-05-06T09:01:20.472Z"
   },
   {
    "duration": 609,
    "start_time": "2022-05-06T09:01:38.356Z"
   },
   {
    "duration": 115,
    "start_time": "2022-05-06T09:02:36.874Z"
   },
   {
    "duration": 231,
    "start_time": "2022-05-06T09:02:58.322Z"
   },
   {
    "duration": 110,
    "start_time": "2022-05-06T09:03:43.505Z"
   },
   {
    "duration": 222,
    "start_time": "2022-05-06T09:03:51.260Z"
   },
   {
    "duration": 951,
    "start_time": "2022-05-06T09:13:42.102Z"
   },
   {
    "duration": 181,
    "start_time": "2022-05-06T09:13:43.056Z"
   },
   {
    "duration": 35,
    "start_time": "2022-05-06T09:13:43.239Z"
   },
   {
    "duration": 15,
    "start_time": "2022-05-06T09:13:43.278Z"
   },
   {
    "duration": 136,
    "start_time": "2022-05-06T09:13:43.296Z"
   },
   {
    "duration": 43,
    "start_time": "2022-05-06T09:13:43.434Z"
   },
   {
    "duration": 73,
    "start_time": "2022-05-06T09:13:43.479Z"
   },
   {
    "duration": 32,
    "start_time": "2022-05-06T09:13:43.554Z"
   },
   {
    "duration": 780,
    "start_time": "2022-05-06T09:13:43.588Z"
   },
   {
    "duration": 88,
    "start_time": "2022-05-06T09:13:44.376Z"
   },
   {
    "duration": 16,
    "start_time": "2022-05-06T09:13:44.467Z"
   },
   {
    "duration": 16,
    "start_time": "2022-05-06T09:13:44.486Z"
   },
   {
    "duration": 90,
    "start_time": "2022-05-06T09:13:44.505Z"
   },
   {
    "duration": 76,
    "start_time": "2022-05-06T09:13:44.598Z"
   },
   {
    "duration": 9,
    "start_time": "2022-05-06T09:13:44.676Z"
   },
   {
    "duration": 24,
    "start_time": "2022-05-06T09:13:44.687Z"
   },
   {
    "duration": 961,
    "start_time": "2022-05-06T09:13:44.715Z"
   },
   {
    "duration": 44,
    "start_time": "2022-05-06T09:13:45.679Z"
   },
   {
    "duration": 584,
    "start_time": "2022-05-06T09:13:45.726Z"
   },
   {
    "duration": 552,
    "start_time": "2022-05-06T09:13:46.313Z"
   },
   {
    "duration": 277,
    "start_time": "2022-05-06T09:13:46.868Z"
   },
   {
    "duration": 497,
    "start_time": "2022-05-06T09:13:47.151Z"
   },
   {
    "duration": 925,
    "start_time": "2022-05-06T09:13:47.653Z"
   },
   {
    "duration": 935,
    "start_time": "2022-05-06T09:13:48.580Z"
   },
   {
    "duration": 4,
    "start_time": "2022-05-06T09:13:49.518Z"
   },
   {
    "duration": 346,
    "start_time": "2022-05-06T09:13:49.525Z"
   },
   {
    "duration": 285,
    "start_time": "2022-05-06T09:13:49.874Z"
   },
   {
    "duration": 260,
    "start_time": "2022-05-06T09:13:50.167Z"
   },
   {
    "duration": 233,
    "start_time": "2022-05-06T09:13:50.430Z"
   },
   {
    "duration": 299,
    "start_time": "2022-05-06T09:13:50.665Z"
   },
   {
    "duration": 315,
    "start_time": "2022-05-06T09:13:50.967Z"
   },
   {
    "duration": 825,
    "start_time": "2022-05-06T09:13:51.284Z"
   },
   {
    "duration": 226,
    "start_time": "2022-05-06T09:13:52.111Z"
   },
   {
    "duration": 51,
    "start_time": "2022-05-06T09:13:52.340Z"
   },
   {
    "duration": 288,
    "start_time": "2022-05-06T09:13:52.394Z"
   },
   {
    "duration": 12,
    "start_time": "2022-05-06T09:13:52.684Z"
   },
   {
    "duration": 120,
    "start_time": "2022-05-06T09:13:52.699Z"
   },
   {
    "duration": 467,
    "start_time": "2022-05-06T09:13:52.821Z"
   },
   {
    "duration": 741,
    "start_time": "2022-05-06T09:13:53.291Z"
   },
   {
    "duration": 361,
    "start_time": "2022-05-06T09:13:54.035Z"
   },
   {
    "duration": 787,
    "start_time": "2022-05-06T09:13:54.399Z"
   },
   {
    "duration": 828,
    "start_time": "2022-05-06T09:13:55.189Z"
   },
   {
    "duration": 468,
    "start_time": "2022-05-06T09:13:56.019Z"
   },
   {
    "duration": 1058,
    "start_time": "2022-05-06T09:13:56.489Z"
   },
   {
    "duration": 956,
    "start_time": "2022-05-06T09:18:35.528Z"
   },
   {
    "duration": 122,
    "start_time": "2022-05-06T09:41:03.384Z"
   },
   {
    "duration": 111,
    "start_time": "2022-05-06T09:45:51.180Z"
   },
   {
    "duration": 125,
    "start_time": "2022-05-06T09:48:03.435Z"
   },
   {
    "duration": 881,
    "start_time": "2022-05-06T09:52:38.968Z"
   },
   {
    "duration": 153,
    "start_time": "2022-05-06T09:52:39.852Z"
   },
   {
    "duration": 23,
    "start_time": "2022-05-06T09:52:40.008Z"
   },
   {
    "duration": 14,
    "start_time": "2022-05-06T09:52:40.051Z"
   },
   {
    "duration": 121,
    "start_time": "2022-05-06T09:52:40.068Z"
   },
   {
    "duration": 34,
    "start_time": "2022-05-06T09:52:40.192Z"
   },
   {
    "duration": 70,
    "start_time": "2022-05-06T09:52:40.228Z"
   },
   {
    "duration": 636,
    "start_time": "2022-05-06T09:52:40.300Z"
   },
   {
    "duration": 60,
    "start_time": "2022-05-06T09:52:40.938Z"
   },
   {
    "duration": 14,
    "start_time": "2022-05-06T09:52:41.002Z"
   },
   {
    "duration": 51,
    "start_time": "2022-05-06T09:52:41.019Z"
   },
   {
    "duration": 23,
    "start_time": "2022-05-06T09:52:41.072Z"
   },
   {
    "duration": 51,
    "start_time": "2022-05-06T09:52:41.097Z"
   },
   {
    "duration": 45,
    "start_time": "2022-05-06T09:52:41.151Z"
   },
   {
    "duration": 13,
    "start_time": "2022-05-06T09:52:41.198Z"
   },
   {
    "duration": 29,
    "start_time": "2022-05-06T09:52:41.213Z"
   },
   {
    "duration": 515,
    "start_time": "2022-05-06T09:52:41.252Z"
   },
   {
    "duration": 42,
    "start_time": "2022-05-06T09:52:41.769Z"
   },
   {
    "duration": 505,
    "start_time": "2022-05-06T09:52:41.813Z"
   },
   {
    "duration": 468,
    "start_time": "2022-05-06T09:52:42.321Z"
   },
   {
    "duration": 271,
    "start_time": "2022-05-06T09:52:42.792Z"
   },
   {
    "duration": 501,
    "start_time": "2022-05-06T09:52:43.066Z"
   },
   {
    "duration": 864,
    "start_time": "2022-05-06T09:52:43.569Z"
   },
   {
    "duration": 943,
    "start_time": "2022-05-06T09:52:44.435Z"
   },
   {
    "duration": 3,
    "start_time": "2022-05-06T09:52:45.380Z"
   },
   {
    "duration": 311,
    "start_time": "2022-05-06T09:52:45.386Z"
   },
   {
    "duration": 306,
    "start_time": "2022-05-06T09:52:45.700Z"
   },
   {
    "duration": 268,
    "start_time": "2022-05-06T09:52:46.013Z"
   },
   {
    "duration": 228,
    "start_time": "2022-05-06T09:52:46.284Z"
   },
   {
    "duration": 304,
    "start_time": "2022-05-06T09:52:46.514Z"
   },
   {
    "duration": 315,
    "start_time": "2022-05-06T09:52:46.821Z"
   },
   {
    "duration": 1013,
    "start_time": "2022-05-06T09:52:47.138Z"
   },
   {
    "duration": 42,
    "start_time": "2022-05-06T09:52:48.154Z"
   },
   {
    "duration": 304,
    "start_time": "2022-05-06T09:52:48.198Z"
   },
   {
    "duration": 13,
    "start_time": "2022-05-06T09:52:48.504Z"
   },
   {
    "duration": 124,
    "start_time": "2022-05-06T09:52:48.520Z"
   },
   {
    "duration": 458,
    "start_time": "2022-05-06T09:52:48.651Z"
   },
   {
    "duration": 722,
    "start_time": "2022-05-06T09:52:49.111Z"
   },
   {
    "duration": 270,
    "start_time": "2022-05-06T09:52:49.836Z"
   },
   {
    "duration": 568,
    "start_time": "2022-05-06T09:52:50.109Z"
   },
   {
    "duration": 909,
    "start_time": "2022-05-06T09:52:50.679Z"
   },
   {
    "duration": 466,
    "start_time": "2022-05-06T09:52:51.590Z"
   },
   {
    "duration": 931,
    "start_time": "2022-05-06T09:52:52.058Z"
   },
   {
    "duration": 112,
    "start_time": "2022-05-06T09:54:19.509Z"
   },
   {
    "duration": 1317,
    "start_time": "2022-05-06T19:30:37.807Z"
   },
   {
    "duration": 182,
    "start_time": "2022-05-06T19:30:39.128Z"
   },
   {
    "duration": 40,
    "start_time": "2022-05-06T19:30:39.312Z"
   },
   {
    "duration": 25,
    "start_time": "2022-05-06T19:30:39.359Z"
   },
   {
    "duration": 131,
    "start_time": "2022-05-06T19:30:39.388Z"
   },
   {
    "duration": 60,
    "start_time": "2022-05-06T19:30:39.521Z"
   },
   {
    "duration": 69,
    "start_time": "2022-05-06T19:30:39.588Z"
   },
   {
    "duration": 640,
    "start_time": "2022-05-06T19:30:39.661Z"
   },
   {
    "duration": 68,
    "start_time": "2022-05-06T19:30:40.307Z"
   },
   {
    "duration": 26,
    "start_time": "2022-05-06T19:30:40.378Z"
   },
   {
    "duration": 53,
    "start_time": "2022-05-06T19:30:40.409Z"
   },
   {
    "duration": 22,
    "start_time": "2022-05-06T19:30:40.468Z"
   },
   {
    "duration": 60,
    "start_time": "2022-05-06T19:30:40.492Z"
   },
   {
    "duration": 44,
    "start_time": "2022-05-06T19:30:40.557Z"
   },
   {
    "duration": 8,
    "start_time": "2022-05-06T19:30:40.603Z"
   },
   {
    "duration": 26,
    "start_time": "2022-05-06T19:30:40.615Z"
   },
   {
    "duration": 532,
    "start_time": "2022-05-06T19:30:40.647Z"
   },
   {
    "duration": 44,
    "start_time": "2022-05-06T19:30:41.184Z"
   },
   {
    "duration": 508,
    "start_time": "2022-05-06T19:30:41.234Z"
   },
   {
    "duration": 397,
    "start_time": "2022-05-06T19:30:41.751Z"
   },
   {
    "duration": 293,
    "start_time": "2022-05-06T19:30:42.151Z"
   },
   {
    "duration": 495,
    "start_time": "2022-05-06T19:30:42.450Z"
   },
   {
    "duration": 909,
    "start_time": "2022-05-06T19:30:42.949Z"
   },
   {
    "duration": 969,
    "start_time": "2022-05-06T19:30:43.872Z"
   },
   {
    "duration": 7,
    "start_time": "2022-05-06T19:30:44.850Z"
   },
   {
    "duration": 301,
    "start_time": "2022-05-06T19:30:44.887Z"
   },
   {
    "duration": 309,
    "start_time": "2022-05-06T19:30:45.196Z"
   },
   {
    "duration": 249,
    "start_time": "2022-05-06T19:30:45.507Z"
   },
   {
    "duration": 217,
    "start_time": "2022-05-06T19:30:45.758Z"
   },
   {
    "duration": 273,
    "start_time": "2022-05-06T19:30:45.979Z"
   },
   {
    "duration": 288,
    "start_time": "2022-05-06T19:30:46.254Z"
   },
   {
    "duration": 907,
    "start_time": "2022-05-06T19:30:46.548Z"
   },
   {
    "duration": 43,
    "start_time": "2022-05-06T19:30:47.459Z"
   },
   {
    "duration": 280,
    "start_time": "2022-05-06T19:30:47.506Z"
   },
   {
    "duration": 20,
    "start_time": "2022-05-06T19:30:47.792Z"
   },
   {
    "duration": 141,
    "start_time": "2022-05-06T19:30:47.815Z"
   },
   {
    "duration": 547,
    "start_time": "2022-05-06T19:30:47.958Z"
   },
   {
    "duration": 427,
    "start_time": "2022-05-06T19:30:48.507Z"
   },
   {
    "duration": 205,
    "start_time": "2022-05-06T19:30:48.935Z"
   },
   {
    "duration": 568,
    "start_time": "2022-05-06T19:30:49.150Z"
   },
   {
    "duration": 867,
    "start_time": "2022-05-06T19:30:49.723Z"
   },
   {
    "duration": 470,
    "start_time": "2022-05-06T19:30:50.598Z"
   },
   {
    "duration": 916,
    "start_time": "2022-05-06T19:30:51.077Z"
   }
  ],
  "kernelspec": {
   "display_name": "Python 3 (ipykernel)",
   "language": "python",
   "name": "python3"
  },
  "language_info": {
   "codemirror_mode": {
    "name": "ipython",
    "version": 3
   },
   "file_extension": ".py",
   "mimetype": "text/x-python",
   "name": "python",
   "nbconvert_exporter": "python",
   "pygments_lexer": "ipython3",
   "version": "3.9.7"
  },
  "toc": {
   "base_numbering": 1,
   "nav_menu": {},
   "number_sections": true,
   "sideBar": true,
   "skip_h1_title": true,
   "title_cell": "Содержание",
   "title_sidebar": "Contents",
   "toc_cell": true,
   "toc_position": {
    "height": "calc(100% - 180px)",
    "left": "10px",
    "top": "150px",
    "width": "270.391px"
   },
   "toc_section_display": true,
   "toc_window_display": true
  }
 },
 "nbformat": 4,
 "nbformat_minor": 4
}
